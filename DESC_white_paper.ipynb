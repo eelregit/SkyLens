{
 "cells": [
  {
   "cell_type": "code",
   "execution_count": 71,
   "metadata": {
    "collapsed": true
   },
   "outputs": [],
   "source": [
    "import sys\n",
    "import copy\n",
    "# import pyccl as ccl\n",
    "import pickle\n",
    "# import camb\n",
    "sys.path.insert(0,'./')\n",
    "from importlib import reload\n",
    "from astropy.cosmology import Planck15 as cosmo\n",
    "from astropy.cosmology import default_cosmology\n",
    "from astropy import units\n",
    "import astropy\n",
    "import time\n",
    "import copy\n",
    "\n",
    "import psutil\n",
    "from distributed.utils import format_bytes\n",
    "\n",
    "#only for python3\n",
    "import importlib\n",
    "reload=importlib.reload\n",
    "import seaborn as sns\n",
    "colors=sns.xkcd_palette(sns.xkcd_rgb)"
   ]
  },
  {
   "cell_type": "code",
   "execution_count": 72,
   "metadata": {},
   "outputs": [],
   "source": [
    "from cov_3X2 import *\n",
    "from fisher import *\n",
    "from PCA_shear import *"
   ]
  },
  {
   "cell_type": "code",
   "execution_count": 73,
   "metadata": {
    "collapsed": true
   },
   "outputs": [],
   "source": [
    "import PCA_shear\n",
    "reload(PCA_shear)\n",
    "from PCA_shear import *"
   ]
  },
  {
   "cell_type": "code",
   "execution_count": 4,
   "metadata": {
    "collapsed": true
   },
   "outputs": [],
   "source": [
    "import cov_3X2\n",
    "reload(cov_3X2)\n",
    "from cov_3X2 import *"
   ]
  },
  {
   "cell_type": "code",
   "execution_count": 5,
   "metadata": {
    "collapsed": true
   },
   "outputs": [],
   "source": [
    "import lsst_utils\n",
    "reload(lsst_utils)\n",
    "from lsst_utils import *"
   ]
  },
  {
   "cell_type": "raw",
   "metadata": {},
   "source": [
    "cmb = StageIVCMB(beam=3., noise=1., lMin=30., lMaxT=3.e3, lMaxP=5.e3)\n",
    "cmbLensRec = CMBLensRec(cmb, save=False)"
   ]
  },
  {
   "cell_type": "raw",
   "metadata": {},
   "source": [
    "d_cmb=cmb_bins(l=np.arange(2,5000))"
   ]
  },
  {
   "cell_type": "code",
   "execution_count": 6,
   "metadata": {
    "collapsed": true
   },
   "outputs": [],
   "source": [
    "d=DESI_lens_bins(dataset='BG')"
   ]
  },
  {
   "cell_type": "code",
   "execution_count": 7,
   "metadata": {
    "collapsed": true
   },
   "outputs": [],
   "source": [
    "fig_home='./figures/'\n",
    "fig_format='pdf'"
   ]
  },
  {
   "cell_type": "code",
   "execution_count": 8,
   "metadata": {
    "collapsed": true
   },
   "outputs": [],
   "source": [
    "from distributed import LocalCluster\n",
    "from dask.distributed import Client  # we already had this above\n",
    "#http://distributed.readthedocs.io/en/latest/_modules/distributed/worker.html\n",
    "LC=LocalCluster(n_workers=1,processes=False,memory_limit='60gb',threads_per_worker=12,memory_spill_fraction=.99,\n",
    "               memory_monitor_interval='2000ms')\n",
    "client=Client(LC)"
   ]
  },
  {
   "cell_type": "raw",
   "metadata": {},
   "source": [
    "client.restart()"
   ]
  },
  {
   "cell_type": "raw",
   "metadata": {},
   "source": [
    "\n",
    "dask.config.set(scheduler='synchronous')  # overwrite default with single-threaded scheduler"
   ]
  },
  {
   "cell_type": "code",
   "execution_count": 9,
   "metadata": {
    "collapsed": true
   },
   "outputs": [],
   "source": [
    "dx_max=0.005"
   ]
  },
  {
   "cell_type": "code",
   "execution_count": 48,
   "metadata": {
    "collapsed": true
   },
   "outputs": [],
   "source": [
    "corr_ggl=('galaxy','shear')\n",
    "corr_gg=('galaxy','galaxy')\n",
    "corr_ll=('shear','shear')\n",
    "# corrs=[corr_ll] #\n",
    "corrs=[corr_ggl,corr_gg,corr_ll]\n",
    "\n",
    "z_min=0.3\n",
    "z_max=3\n",
    "pk_func='class_pk'\n",
    "power_spectra_kwargs={'pk_func':pk_func}\n",
    "\n",
    "\n",
    "lmax=3000\n",
    "l_min=100\n",
    "Nl_bins=20\n",
    "\n",
    "do_cov=True\n",
    "bin_cl=True\n",
    "SSV_cov=False\n",
    "tidal_SSV=False\n",
    "do_sample_variance=True\n",
    "use_window=False\n",
    "\n",
    "window_lmax=30\n",
    "nside=32\n",
    "\n",
    "sigma_gamma=0.26\n",
    "area=15000\n",
    "f_sky=area*d2r**2/4/np.pi\n",
    "\n",
    "Fmost=True\n",
    "f_sky4=f_sky/2.\n",
    "\n",
    "f_sky_LD=3600.*d2r**2/4/np.pi\n",
    "f_sky_LF=f_sky4\n",
    "f_sky_LF2=1000.*d2r**2/4/np.pi\n",
    "f_sky_FD=0\n",
    "f_sky_FD2=0\n",
    "\n",
    "\n",
    "nbins=3        #number of source bins\n",
    "n_lens_bins=3  #number of LSST lens bins\n",
    "n_lensD_bins=1 #number of DESI bins\n",
    "n_cmb_bins=0   #set to 1 to use CMB lensing\n",
    " \n",
    "n_source=27  #source galaxy number density\n",
    "n_lens=10    #lens galaxy number density"
   ]
  },
  {
   "cell_type": "code",
   "execution_count": 11,
   "metadata": {
    "collapsed": true
   },
   "outputs": [],
   "source": [
    "do_cov=True\n",
    "bin_cl=True\n",
    "\n",
    "SSV_cov=False\n",
    "tidal_SSV_cov=False\n",
    "\n",
    "bin_xi=True\n",
    "theta_bins=np.logspace(np.log10(1./60),1,20)"
   ]
  },
  {
   "cell_type": "code",
   "execution_count": 12,
   "metadata": {
    "collapsed": true
   },
   "outputs": [],
   "source": [
    "def renorm_mat(mat=[]):\n",
    "    x=np.linalg.slogdet(mat)\n",
    "    y=np.exp(x[1]/len(mat))\n",
    "    return 1./y"
   ]
  },
  {
   "cell_type": "code",
   "execution_count": 13,
   "metadata": {},
   "outputs": [
    {
     "data": {
      "text/plain": [
       "w0waCDM(H0=67.7 km / (Mpc s), Om0=0.307, Ode0=0.691, w0=-1, wa=0, Tcmb0=2.725 K, Neff=3.05, m_nu=[0.   0.   0.06] eV, Ob0=0.0486)"
      ]
     },
     "execution_count": 13,
     "metadata": {},
     "output_type": "execute_result"
    }
   ],
   "source": [
    "def cosmo_w0_wa(cosmo=None,w0=-1,wa=0):\n",
    "    attrs=['H0','Om0', 'Ode0','Tcmb0', 'Neff', 'm_nu', 'Ob0']\n",
    "    args={}\n",
    "    args['w0']=w0\n",
    "    args['wa']=wa\n",
    "    for a in attrs:\n",
    "        args[a]=getattr(cosmo,a)\n",
    "    cosmo_w=astropy.cosmology.w0waCDM(**args)\n",
    "    return cosmo_w\n",
    "cosmo_w0_wa(cosmo=cosmo)"
   ]
  },
  {
   "cell_type": "code",
   "execution_count": 14,
   "metadata": {
    "collapsed": true
   },
   "outputs": [],
   "source": [
    "def cosmo_h_set(cosmo=None,cosmo_params={}):\n",
    "    if cosmo_params['wa']!=0:\n",
    "        cosmo=cosmo_w0_wa(cosmo=cosmo,w0=cosmo_params['w'],wa=cosmo_params['wa'])\n",
    "    cosmo2=cosmo.clone(H0=cosmo_params['h']*100,\n",
    "                        Om0=cosmo_params['Om'],\n",
    "                       Ob0=cosmo_params['Omb'],\n",
    "#                        Odm0=cosmo_params['Omd'],\n",
    "#                        Ok0=cosmo_params['Omk'],\n",
    "#                        w=cosmo_params['w'],\n",
    "                       m_nu=[0,0,cosmo_params['mnu']]*units.eV\n",
    "                    )"
   ]
  },
  {
   "cell_type": "code",
   "execution_count": 15,
   "metadata": {
    "collapsed": true
   },
   "outputs": [],
   "source": [
    "def get_x_var(x0=None,dx_max=dx_max,do_log=False,Nx=2):\n",
    "    Dx=np.linspace((1-dx_max),(1+dx_max),Nx)\n",
    "    if do_log:\n",
    "        x0=np.absolute(x0)\n",
    "        x_vars=x0**Dx\n",
    "        if x0==1:\n",
    "            x_vars=(2.**Dx)/2. # 1**x=1\n",
    "        if x0==0:\n",
    "            x_vars=np.logspace(-3,-2,Nx)\n",
    "        x_vars*=np.sign(cosmo_fid[p])\n",
    "        x_grad=np.gradient(np.log(x_vars))\n",
    "    else:\n",
    "        x_vars=x0*Dx #np.linspace(x0*(1-dx_max),x0*(1+dx_max),Nx)\n",
    "        if x0==0:\n",
    "            x_vars=Dx-1\n",
    "        x_grad=np.gradient(x_vars)\n",
    "    return x_vars,x_grad"
   ]
  },
  {
   "cell_type": "code",
   "execution_count": 16,
   "metadata": {
    "collapsed": true
   },
   "outputs": [],
   "source": [
    "def fish_cosmo_model(p='As',Nx=2,dx_max=dx_max,do_log=False,kappa_class=None,do_cov=False,z_bins_kwargs={}):\n",
    "    x0=cosmo_fid[p]\n",
    "\n",
    "    models={}\n",
    "    covs={}\n",
    "    x_vars,x_grad=get_x_var(x0=x0,dx_max=dx_max,do_log=do_log,Nx=Nx)\n",
    "    print(p,x_vars)\n",
    "    for i in np.arange(Nx):\n",
    "        cosmo_t=copy.deepcopy(cosmo_fid)\n",
    "\n",
    "        cosmo_t[p]=x_vars[i]\n",
    "\n",
    "        if p=='s8':\n",
    "            s80=cosmo_fid['s8']\n",
    "            cosmo_t['Ase9']*=(cosmo_t['s8']/s80)**2\n",
    "            print(cosmo_t['Ase9'])\n",
    "            kappa_class.Ang_PS.PS.get_pk(z=[0],cosmo_params=cosmo_t,return_s8=True)\n",
    "            kappa_class.Ang_PS.PS.pk=None\n",
    "            x_vars[i]=kappa_class.Ang_PS.PS.s8\n",
    "#                 print(x_vars[p][i],s80,cosmo_t['s8'])\n",
    "        cosmo_h2=cosmo_h_set(cosmo=cosmo,cosmo_params=cosmo_t)\n",
    "        cl0G=kappa_class.cl_tomo(cosmo_params=cosmo_t,cosmo_h=cosmo_h2,\n",
    "                                 corrs=z_bins_kwargs['corrs'],\n",
    "                                 stack_corr_indxs=z_bins_kwargs['corr_indxs'])\n",
    "        cl_t=cl0G['stack'].compute()\n",
    "        models[i]=cl_t['cl_b']\n",
    "        covs[i]=cl_t['cov']\n",
    "        kappa_class.Ang_PS.reset()\n",
    "    return models,covs,x_vars,x_grad"
   ]
  },
  {
   "cell_type": "code",
   "execution_count": 17,
   "metadata": {
    "collapsed": true
   },
   "outputs": [],
   "source": [
    "def pz_update(z_bins={},bin_indx=None,z_indx=None,pz_new=None):\n",
    "    z_bins[bin_indx]['pz'][z_indx]=pz_new\n",
    "    z_bins=zbin_pz_norm(zs_bins=z_bins,bin_indx=bin_indx,zs=z_bins[bin_indx]['z'],p_zs=z_bins[bin_indx]['pz'],ns=z_bins[bin_indx]['ns'])\n",
    "    return z_bins"
   ]
  },
  {
   "cell_type": "raw",
   "metadata": {},
   "source": [
    "%time f=fisher_calc(cosmo_params=cosmo_params,z_params=pz_params,galaxy_params=galaxy_params,kappa_class=kappa_class,clS=cl_L,z_bins_kwargs=z_bins_kwargs,priors=priors)"
   ]
  },
  {
   "cell_type": "code",
   "execution_count": 18,
   "metadata": {
    "collapsed": true
   },
   "outputs": [],
   "source": [
    "def set_zbin_bias0(zs_bins={},bias=0):\n",
    "    bias0=np.copy(zs_bins['zp_bias'])\n",
    "    bias0=bias*(1+zs_bins['zp'])\n",
    "    return bias0\n",
    "\n",
    "def set_zbin_bias(zs_bins={},bias=0,bin_id=0):\n",
    "    bias0=np.copy(zs_bins['zp_bias'])\n",
    "    idx=np.digitize(zs_bins['zp'],zs_bins['z_bins'])-1\n",
    "    bias0[np.where(idx==bin_id)]=bias\n",
    "#     print('set zb',bias0.shape,bin_id)\n",
    "    return bias0\n",
    "\n",
    "def set_zbin_sigma(zs_bins={},zsigma_frac=1,bin_id=0):\n",
    "    zp_sigma=np.copy(zs_bins['zp_sigma'])\n",
    "    idx=np.digitize(zs_bins['zp'],zs_bins['z_bins'])-1\n",
    "    zp_sigma[np.where(idx==bin_id)]=zp_sigma[np.where(idx==bin_id)]*zsigma_frac\n",
    "    return zp_sigma\n",
    "    \n",
    "def fish_z_model(p='pz_b_s_1',Nx=2,dx_max=dx_max,kappa_class=None,do_cov=False,do_log=False,z_bins_kwargs0={}):\n",
    "    z_bins_kwargs=copy.deepcopy(z_bins_kwargs0)\n",
    "    zs_bins=z_bins_kwargs['zs_bins']\n",
    "    zl_bins=z_bins_kwargs['zl_bins']\n",
    "    zlD_bins=z_bins_kwargs['zlD_bins']\n",
    "    if 'pz_b' in p:\n",
    "        x0=0\n",
    "    elif 'nz' in p:\n",
    "        pp=p.split('_')\n",
    "        bin_id=np.int(pp[-2])\n",
    "        z_id=np.int(pp[-1])\n",
    "        print(bin_id,z_id)\n",
    "        if 'nz_s' in p:\n",
    "            x0=zs_bins[bin_id]['pz'][z_id]\n",
    "        elif 'nz_l' in p:\n",
    "            x0=zl_bins[bin_id]['pz'][z_id]\n",
    "            \n",
    "        if x0<1.e-5:\n",
    "            x0=0\n",
    "    else:\n",
    "        x0=1\n",
    "        \n",
    "    x_vars,x_grad=get_x_var(x0=x0,dx_max=dx_max,do_log=do_log,Nx=Nx)\n",
    "    \n",
    "    models={}\n",
    "    covs={}\n",
    "    print(p,x_vars)\n",
    "    for i in np.arange(Nx):\n",
    "        zs_bins_i=copy.deepcopy(zs_bins)\n",
    "        zl_bins_i=copy.deepcopy(zl_bins)\n",
    "        if 'pz_B' in p:\n",
    "            bias=set_zbin_bias0(zs_bins=zs_bins,bias=x_vars[i])\n",
    "            zs_bins_kwargs['z_bias']=bias\n",
    "            zs_bins_i=lsst_source_tomo_bins(**zs_bins_kwargs)\n",
    "            \n",
    "        elif 'pz_b_s' in p:\n",
    "            bin_id=np.int(p[-1])\n",
    "            bias=set_zbin_bias(zs_bins=zs_bins,bias=x_vars[i],bin_id=bin_id)\n",
    "#             zs_bins_kwargs['z_bias']=bias\n",
    "            zs_bins_i=lsst_source_tomo_bins(z_bias=bias, nbins=z_bins_kwargs['ns_bins'],ns0=z_bins_kwargs['nsource'],\n",
    "                                            z_sigma=z_bins_kwargs['z_source_sigma'], **z_bins_kwargs)\n",
    "        elif 'pz_b_l' in p:\n",
    "            bin_id=np.int(p[-1])#-zs_bins['n_bins']\n",
    "            bias=set_zbin_bias(zs_bins=zl_bins,bias=x_vars[i],bin_id=bin_id)\n",
    "            \n",
    "            zl_bins_i=lsst_source_tomo_bins(z_bias=bias,nbins=z_bins_kwargs['n_lens_bins'],ns0=z_bins_kwargs['nlens'],\n",
    "                                            z_sigma=z_bins_kwargs['z_lens_sigma'],zp=zl_bins_i['zp'],\n",
    "                                            z_bins=zl_bins_i['z_bins'],\n",
    "                                            **z_bins_kwargs)\n",
    "        elif 'nz_s' in p:\n",
    "            zs_bins_i=pz_update(z_bins=zs_bins_i,bin_indx=bin_id,z_indx=z_id,pz_new=x_vars[i])\n",
    "        elif 'nz_l' in p:\n",
    "            zl_bins_i=pz_update(z_bins=zl_bins_i,bin_indx=bin_id,z_indx=z_id,pz_new=x_vars[i])\n",
    "\n",
    "        elif 'sig' in p:\n",
    "            bin_id=np.int(p[-1])\n",
    "            zp_sigma=set_zbin_sigma(zs_bins=zs_bins,zsigma_frac=x_vars[i],bin_id=0)\n",
    "            zs_bins_kwargs['z_sigma']=zp_sigma\n",
    "            zs_bins_i=lsst_source_tomo_bins(**zs_bins_kwargs)\n",
    "            \n",
    "        zl_bins_comb=zl_bins_i\n",
    "        if z_bins_kwargs0['n_lensD_bins']>0:\n",
    "            zl_bins_comb=combine_zbins(z_bins1=zl_bins_i,z_bins2=zlD_bins)\n",
    "        if z_bins_kwargs0['use_source_pos']!=0:\n",
    "            zl_bins_comb=combine_zbins(z_bins1=zs_bins_i,z_bins2=zl_bins_comb)\n",
    "        if n_cmb_bins>0:\n",
    "            zs_bins_cmb=d_cmb #cmb_bins(l=l0)\n",
    "            zs_bins_i=combine_zbins(z_bins1=zs_bins_i,z_bins2=zs_bins_cmb)\n",
    "        kappa_class.update_zbins(z_bins=zs_bins_i,tracer='shear')\n",
    "        kappa_class.update_zbins(z_bins=zl_bins_comb,tracer='galaxy')\n",
    "        cl0G=kappa_class.cl_tomo(corrs=z_bins_kwargs0['corrs'],stack_corr_indxs=z_bins_kwargs0['corr_indxs'])\n",
    "        cl_t=cl0G['stack'].compute()\n",
    "        models[i]=cl_t['cl_b']\n",
    "        covs[i]=cl_t['cov']\n",
    "        kappa_class.Ang_PS.reset()\n",
    "    if n_cmb_bins>0:\n",
    "        zs_bins_cmb=d_cmb #cmb_bins(l=l0)\n",
    "        zs_bins=combine_zbins(z_bins1=zs_bins,z_bins2=zs_bins_cmb)\n",
    "    kappa_class.update_zbins(z_bins=zs_bins,tracer='shear')\n",
    "    return models,covs,x_vars,x_grad"
   ]
  },
  {
   "cell_type": "code",
   "execution_count": 19,
   "metadata": {
    "collapsed": true
   },
   "outputs": [],
   "source": [
    "def fish_AI_model(p='AI_1',Nx=2,dx_max=dx_max,kappa_class=None,do_cov=False,do_log=False,z_bins_kwargs0={}):\n",
    "    z_bins_kwargs=copy.deepcopy(z_bins_kwargs0)\n",
    "    zs_bins=z_bins_kwargs['zs_bins']\n",
    "    zl_bins=z_bins_kwargs['zl_bins']\n",
    "    zlD_bins=z_bins_kwargs['zlD_bins']\n",
    "    \n",
    "    pp=p.split('_')\n",
    "    bin_id=np.int(pp[-1])\n",
    "    print('AI',bin_id)\n",
    "    \n",
    "    x0=zs_bins[bin_id]['AI']*1.0\n",
    "    if np.absolute(x0)<1.e-5:\n",
    "        x0=0    \n",
    "    x_vars,x_grad=get_x_var(x0=x0,dx_max=dx_max,do_log=do_log,Nx=Nx)\n",
    "    \n",
    "    models={}\n",
    "    covs={}\n",
    "    print(p,x_vars)\n",
    "    for i in np.arange(Nx):\n",
    "        zs_bins_i=copy.deepcopy(zs_bins)\n",
    "        zs_bins_i[bin_id]['AI']=x_vars[i]\n",
    "        kappa_class.update_zbins(z_bins=zs_bins_i,tracer='shear')\n",
    "        \n",
    "        cl0G=kappa_class.cl_tomo(corrs=z_bins_kwargs0['corrs'],stack_corr_indxs=z_bins_kwargs0['corr_indxs'])\n",
    "        cl_t=cl0G['stack'].compute()\n",
    "        models[i]=cl_t['cl_b']\n",
    "        covs[i]=cl_t['cov']\n",
    "        kappa_class.Ang_PS.reset()\n",
    "        zs_bins_i[bin_id]['AI']=x0\n",
    "    kappa_class.update_zbins(z_bins=zs_bins,tracer='shear')\n",
    "    return models,covs,x_vars,x_grad"
   ]
  },
  {
   "cell_type": "code",
   "execution_count": 20,
   "metadata": {
    "collapsed": true
   },
   "outputs": [],
   "source": [
    "def fish_mag_model(p='mag_fact_l_1',Nx=2,dx_max=dx_max,kappa_class=None,do_cov=False,do_log=False,z_bins_kwargs0={}):\n",
    "    \n",
    "    z_bins_kwargs=copy.deepcopy(z_bins_kwargs0)\n",
    "    zs_bins=z_bins_kwargs['zs_bins']\n",
    "    z_bins=kappa_class.z_bins['galaxy']\n",
    "    Dx=np.linspace((1-dx_max),(1+dx_max),Nx)\n",
    "\n",
    "    bin_indx=np.int(p[-1])\n",
    "    if 'l' in p and z_bins_kwargs0['use_source_pos']!=0:\n",
    "        bin_indx+=zs_bins['n_bins']\n",
    "    else:\n",
    "        pass\n",
    "    x0=kappa_class.z_bins['galaxy'][bin_indx]['mag_fact']\n",
    "    x_vars,x_grad=get_x_var(x0=x0,dx_max=dx_max,do_log=do_log,Nx=Nx)    \n",
    "    \n",
    "    models={}\n",
    "    covs={}\n",
    "    print(p,x_vars)\n",
    "    for i in np.arange(Nx):\n",
    "        z_bins_t=copy.deepcopy(z_bins)\n",
    "\n",
    "        z_bins_t[bin_indx]['mag_fact']=x_vars[i]\n",
    "        \n",
    "        kappa_class.update_zbins(z_bins=z_bins_t,tracer='galaxy')\n",
    "        cl0G=kappa_class.cl_tomo(corrs=z_bins_kwargs0['corrs'],stack_corr_indxs=z_bins_kwargs0['corr_indxs'])\n",
    "        cl_t=cl0G['stack'].compute()\n",
    "        models[i]=cl_t['cl_b']\n",
    "        covs[i]=cl_t['cov']\n",
    "        kappa_class.Ang_PS.reset()\n",
    "        z_bins_t[bin_indx]['mag_fact']=x0\n",
    "    kappa_class.update_zbins(z_bins=z_bins,tracer='galaxy')\n",
    "    return models,covs,x_vars,x_grad    "
   ]
  },
  {
   "cell_type": "code",
   "execution_count": 21,
   "metadata": {
    "collapsed": true
   },
   "outputs": [],
   "source": [
    "def fish_galaxy_model(p='g_b_l_11',Nx=2,dx_max=dx_max,kappa_class=None,do_cov=False,do_log=False,z_bins_kwargs0={}):\n",
    "    \n",
    "    z_bins_kwargs=copy.deepcopy(z_bins_kwargs0)\n",
    "    zs_bins=z_bins_kwargs['zs_bins']\n",
    "    z_bins=kappa_class.z_bins['galaxy']\n",
    "    Dx=np.linspace((1-dx_max),(1+dx_max),Nx)\n",
    "\n",
    "    p_n='b'+p[-2]\n",
    "    if 'b' in p:\n",
    "        bin_indx=np.int(p[-1])\n",
    "        if 'l' in p and z_bins_kwargs0['use_source_pos']!=0:\n",
    "            bin_indx+=zs_bins['n_bins']\n",
    "        x0=kappa_class.z_bins['galaxy'][bin_indx][p_n]\n",
    "    else:\n",
    "        pass\n",
    "    x_vars,x_grad=get_x_var(x0=x0,dx_max=dx_max,do_log=do_log,Nx=Nx)    \n",
    "    \n",
    "    models={}\n",
    "    covs={}\n",
    "    print(p,x_vars)\n",
    "    for i in np.arange(Nx):\n",
    "        z_bins_t=copy.deepcopy(z_bins)\n",
    "        if 'b' in p:\n",
    "            z_bins_t[bin_indx][p_n]=x_vars[i]\n",
    "        \n",
    "        kappa_class.update_zbins(z_bins=z_bins_t,tracer='galaxy')\n",
    "        cl0G=kappa_class.cl_tomo(corrs=z_bins_kwargs0['corrs'],stack_corr_indxs=z_bins_kwargs0['corr_indxs'])\n",
    "        cl_t=cl0G['stack'].compute()\n",
    "        models[i]=cl_t['cl_b']\n",
    "        covs[i]=cl_t['cov']\n",
    "        kappa_class.Ang_PS.reset()\n",
    "        z_bins_t[bin_indx][p[:-1]]=x0\n",
    "    kappa_class.update_zbins(z_bins=z_bins,tracer='galaxy')\n",
    "    return models,covs,x_vars,x_grad    "
   ]
  },
  {
   "cell_type": "code",
   "execution_count": 22,
   "metadata": {
    "collapsed": true
   },
   "outputs": [],
   "source": [
    "def fish_baryon_model(p='Q1',Nx=2,dx_max=dx_max,kappa_class=None,clS=None,cl0=None,do_cov=False,do_log=False,\n",
    "                      z_bins_kwargs0={},NmarQ=2):\n",
    "    Dx=np.linspace((1-dx_max),(1+dx_max),Nx)\n",
    "\n",
    "    if 'Q' in p:\n",
    "        Q_indx=np.int(p[-1])\n",
    "        x0=0\n",
    "    else:\n",
    "        pass\n",
    "    x_vars,x_grad=get_x_var(x0=x0,dx_max=dx_max,do_log=do_log,Nx=Nx)    \n",
    "    \n",
    "    models={}\n",
    "    covs={}\n",
    "    cov_F=1.#/np.median(np.diag(clS['cov']))\n",
    "    print(p,clS['cov'].shape,np.linalg.det(clS['cov']*cov_F))\n",
    "    \n",
    "    PCS=PCA_shear(kappa_class=kappa_class,NmarQ=NmarQ,clS=clS)\n",
    "    \n",
    "    for i in np.arange(Nx):\n",
    "        Q0=[0]*NmarQ\n",
    "        Q0[Q_indx]=x_vars[i]\n",
    "        \n",
    "        cl_t=PCS.compute_modelv_bary(cosmo_params=cosmo_fid,Q=Q0)\n",
    "        models[i]=np.zeros_like(cl0) #this is needed to keep everything in right shape. Baryon stuff is only for shear right now. \n",
    "        models[i][:len(cl_t)]+=cl_t #['cl_b']\n",
    "        models[i][len(cl_t):]+=cl0[len(cl_t):]\n",
    "        print(models[i].shape,PCS.COV.shape)\n",
    "        covs[i]=PCS.COV\n",
    "        kappa_class.Ang_PS.reset()\n",
    "    return models,covs,x_vars,x_grad    \n",
    "\n",
    "# PCS=PCA_shear(kappa_class=kappa_class,NmarQ=3)\n",
    "# cl_t1=PCS.compute_modelv_bary(cosmo_params=cosmo_fid,Q=[-10,-10,-10])\n",
    "# cl_t0=PCS.compute_modelv_bary(cosmo_params=cosmo_fid,Q=[0,0,0])"
   ]
  },
  {
   "cell_type": "code",
   "execution_count": 23,
   "metadata": {
    "collapsed": true
   },
   "outputs": [],
   "source": [
    "def matrix_cut(mat=[],x=[]):\n",
    "        m=mat[x]\n",
    "        N=sum(x)\n",
    "        m2=np.zeros((N,N))\n",
    "        j=0\n",
    "        for i in m:\n",
    "            m2[j]=i[x]\n",
    "            j=j+1\n",
    "        return m2"
   ]
  },
  {
   "cell_type": "code",
   "execution_count": 83,
   "metadata": {
    "collapsed": true
   },
   "outputs": [],
   "source": [
    "def fisher_calc(cosmo_params=['As'],z_params=[],galaxy_params=[],baryon_params=[],AI_params=[],mag_params=[]\n",
    "                ,Nx=2,dx_max=dx_max,do_log=False,\n",
    "                kappa_class=None,do_cov=False,baryon_PCA_nQ=2,clS=None,dx_max_z=0.01,\n",
    "               cov_3X2_kwargs={},z_bins_kwargs={},ell_bin_kwargs={},cl0=None,priors=None):\n",
    "    t1=time.time()\n",
    "    if kappa_class is None:\n",
    "        zs_bins=lsst_source_tomo_bins(**zs_bins_kwargs)\n",
    "        l0,l_bins,l=get_cl_ells(**ell_bin_kwargs)\n",
    "        kappa_class=cov_3X2(l=l0,l_bins=l_bins,zs_bins=zs_bins,**cov_3X2_kwargs)\n",
    "        \n",
    "    do_cov0=np.copy(kappa_class.do_cov)\n",
    "    kappa_class.do_cov=do_cov\n",
    "    cl0G=kappa_class.cl_tomo()\n",
    "    \n",
    "    if clS is None:\n",
    "        kappa_class.do_cov=True #need covariance to start things.\n",
    "        cl0G=kappa_class.cl_tomo()\n",
    "    \n",
    "        clS=cl0G['stack'].compute()\n",
    "#     cl_t=client.submit(cl0G['stack'])\n",
    "    cl0=clS['cl_b']\n",
    "    t2=time.time()\n",
    "    print(cl0G['cov'],t2-t1)\n",
    "#     cl_shear=delayed(kappa_class.stack_dat)(dat={'cov':cl0G['cov'],'cl_b':cl0G['cl_b'],'est':'cl_b'},corrs=[corr_ll])\n",
    "#     cl_shear=cl_shear.compute()\n",
    "\n",
    "    t3=time.time()\n",
    "    print('shear',t3-t1)\n",
    "    \n",
    "    cosmo_fid=copy.deepcopy(kappa_class.Ang_PS.PS.cosmo_params)\n",
    "    cosmo_h=kappa_class.Ang_PS.PS.cosmo_h.clone()\n",
    "    cov=clS['cov']\n",
    "    kappa_class.Ang_PS.reset()\n",
    "\n",
    "    params_all=np.append(np.append(cosmo_params,z_params),galaxy_params)\n",
    "    params_all=np.append(params_all,baryon_params)\n",
    "    params_all=np.append(params_all,AI_params)\n",
    "    params_all=np.append(params_all,mag_params)\n",
    "    \n",
    "    ndim=len(params_all)\n",
    "    \n",
    "    x_vars={}\n",
    "    models={}\n",
    "    model_derivs={}\n",
    "    covs={}\n",
    "    cov_derivs={}\n",
    "    x_grads={}\n",
    "    for p in cosmo_params:\n",
    "        models[p],covs[p],x_vars[p],x_grads[p]=fish_cosmo_model(p=p,Nx=Nx,dx_max=dx_max,do_log=do_log,\n",
    "                                                     kappa_class=kappa_class,do_cov=do_cov,z_bins_kwargs=z_bins_kwargs)\n",
    "    for p in z_params:\n",
    "        models[p],covs[p],x_vars[p],x_grads[p]=fish_z_model(p=p,Nx=Nx,dx_max=dx_max_z, #need larger dx because z-bins are not very fine\n",
    "                                                 kappa_class=kappa_class,\n",
    "                                                 do_cov=do_cov,z_bins_kwargs0=z_bins_kwargs)\n",
    "    \n",
    "    for p in galaxy_params:\n",
    "        models[p],covs[p],x_vars[p],x_grads[p]=fish_galaxy_model(p=p,Nx=Nx,dx_max=dx_max,\n",
    "                                                 kappa_class=kappa_class,\n",
    "                                                 do_cov=do_cov,z_bins_kwargs0=z_bins_kwargs)\n",
    "    for p in mag_params:\n",
    "        models[p],covs[p],x_vars[p],x_grads[p]=fish_mag_model(p=p,Nx=Nx,dx_max=dx_max,\n",
    "                                                 kappa_class=kappa_class,\n",
    "                                                 do_cov=do_cov,z_bins_kwargs0=z_bins_kwargs)\n",
    "    \n",
    "    for p in baryon_params:\n",
    "        models[p],covs[p],x_vars[p],x_grads[p]=fish_baryon_model(p=p,Nx=Nx,dx_max=dx_max,\n",
    "                                                 kappa_class=kappa_class,clS=cl_shear,cl0=cl0,\n",
    "                                                 do_cov=do_cov,NmarQ=baryon_PCA_nQ)\n",
    "    for p in AI_params:\n",
    "        models[p],covs[p],x_vars[p],x_grads[p]=fish_AI_model(p=p,Nx=Nx,dx_max=dx_max,\n",
    "                                                 kappa_class=kappa_class,z_bins_kwargs0=z_bins_kwargs,\n",
    "                                                 do_cov=do_cov)\n",
    "    \n",
    "    for p in params_all:\n",
    "        model_derivs[p]=np.gradient(np.array([models[p][i] for i in np.arange(Nx)]),axis=0).T\n",
    "        model_derivs[p]/=x_grads[p]\n",
    "        model_derivs[p]=model_derivs[p][:,np.int(Nx/2)]\n",
    "        \n",
    "        if do_cov:\n",
    "            cov_derivs[p]=np.gradient(np.array([covs[p][i] for i in np.arange(Nx)]),axis=0).T\n",
    "            cov_derivs[p]/=x_grads[p]\n",
    "#             print(cov_derivs[p].shape,x_grad.shape)\n",
    "            cov_derivs[p]=cov_derivs[p][:,:,np.int(Nx/2)]\n",
    "    \n",
    "    x_cov=np.diag(cov)!=0\n",
    "    cov2=matrix_cut(mat=cov,x=x_cov)#cov[x_cov,x_cov]\n",
    "    cov_inv=np.linalg.inv(cov2)\n",
    "    cov_p_inv=np.zeros([ndim]*2)\n",
    "    i1=0\n",
    "    for p1 in params_all:\n",
    "        i2=0\n",
    "        for p2 in params_all:\n",
    "            cov_p_inv[i1,i2]=np.dot(model_derivs[p1][x_cov],np.dot(cov_inv,model_derivs[p2][x_cov]))\n",
    "            \n",
    "            if do_cov:\n",
    "#                 print(cov_p_inv[i1,i2],0.5*np.trace(cov_inv@cov_derivs[p1]@cov_inv@cov_derivs[p2]))\n",
    "                cov_p_inv[i1,i2]+=0.5*np.trace(cov_inv@cov_derivs[p1][x_cov]@cov_inv@cov_derivs[p2][x_cov])\n",
    "            i2+=1\n",
    "        i1+=1\n",
    "    out={}\n",
    "    out['cov_p_inv']=np.copy(cov_p_inv)\n",
    "    out['params_all']=params_all\n",
    "    if priors is not None:\n",
    "        out=fish_apply_priors(fish=out,priors=priors)\n",
    "#         i2=0\n",
    "#         for p1 in params_all:\n",
    "#             cov_p_inv[i2,i2]+=1./priors[p1]**2\n",
    "#             i2+=1\n",
    "    try:\n",
    "        out['cov_p']=np.linalg.inv(cov_p_inv)\n",
    "        out['error']=np.sqrt(np.diag(out['cov_p']))\n",
    "    except Exception as err:\n",
    "        print(err)\n",
    "\n",
    "    out['cov_deriv']=cov_derivs\n",
    "    out['model_deriv']=model_derivs\n",
    "    out['cov']=cov2\n",
    "    out['x_cov']=x_cov\n",
    "    out['cov_inv']=cov_inv\n",
    "    out['model']=models\n",
    "    out['x_vars']=x_vars\n",
    "    \n",
    "    kappa_class.do_cov=do_cov0\n",
    "    return out"
   ]
  },
  {
   "cell_type": "code",
   "execution_count": 25,
   "metadata": {
    "collapsed": true
   },
   "outputs": [],
   "source": [
    "def fish_apply_priors(priors=None,fish=[]):\n",
    "#     ndim=len(cosmo_params)+len(z_params)+len(galaxy_params)+len(baryon_params)\n",
    "#     params_all=np.append(np.append(cosmo_params,z_params),galaxy_params)\n",
    "#     params_all=np.append(params_all,baryon_params)\n",
    "    params_all=fish['params_all']\n",
    "    ndim=len(params_all)\n",
    "    \n",
    "    cov_p_inv=np.copy(fish['cov_p_inv'])\n",
    "    fish['prior']={}\n",
    "    priors2={}\n",
    "    i2=0\n",
    "    for p1 in params_all:\n",
    "        priors2[p1]=priors[p1]\n",
    "        cov_p_inv[i2,i2]+=1./priors[p1]**2\n",
    "        i2+=1\n",
    "    fish['prior']['cov_p_inv']=cov_p_inv\n",
    "    fish['prior']['prior']=priors2\n",
    "    try:\n",
    "        fish['prior']['cov_p']=np.linalg.inv(cov_p_inv)\n",
    "        fish['prior']['error']=np.sqrt(np.diag(fish['prior']['cov_p']))\n",
    "    except Exception as err:\n",
    "        print(err)\n",
    "    return fish"
   ]
  },
  {
   "cell_type": "code",
   "execution_count": 26,
   "metadata": {
    "collapsed": true
   },
   "outputs": [],
   "source": [
    "def get_cl_ells(lmax_cl=3000,lmin_cl=100,Nl_bins=20):\n",
    "    l0=np.arange(lmin_cl,lmax_cl)\n",
    "\n",
    "    lmin_cl_Bins=lmin_cl+10\n",
    "    lmax_cl_Bins=lmax_cl-10\n",
    "    l_bins=np.int64(np.logspace(np.log10(lmin_cl_Bins),np.log10(lmax_cl_Bins),Nl_bins))\n",
    "    \n",
    "\n",
    "    l=np.unique(np.int64(np.logspace(np.log10(lmin_cl),np.log10(lmax_cl),Nl_bins*20))) #if we want to use fewer ell\n",
    "    return l0,l_bins,l\n"
   ]
  },
  {
   "cell_type": "code",
   "execution_count": 27,
   "metadata": {
    "collapsed": true
   },
   "outputs": [],
   "source": [
    "def combine_zbins(z_bins1={},z_bins2={}):\n",
    "    z_bins3=copy.deepcopy(z_bins1)\n",
    "    j=0\n",
    "    for i in np.arange(z_bins1['n_bins'],z_bins1['n_bins']+z_bins2['n_bins']):\n",
    "#         print(i,z_bins2.keys())\n",
    "        z_bins3[i]=copy.deepcopy(z_bins2[j])\n",
    "        j+=1\n",
    "    z_bins3['n_bins']+=z_bins2['n_bins']\n",
    "    nl=z_bins2['SN']['shear'].shape[0]\n",
    "    z_bins3['SN']={}\n",
    "    z_bins3['SN']['galaxy']=np.zeros((nl,z_bins3['n_bins'],z_bins3['n_bins']))\n",
    "    z_bins3['SN']['shear']=np.zeros((nl,z_bins3['n_bins'],z_bins3['n_bins']))\n",
    "    j=0\n",
    "    for i in np.arange(z_bins1['n_bins']):\n",
    "        z_bins3['SN']['galaxy'][:,j,j]+=z_bins1['SN']['galaxy'][:,i,i]\n",
    "        z_bins3['SN']['shear'][:,j,j]+=z_bins1['SN']['shear'][:,i,i]\n",
    "        j+=1\n",
    "    for i in np.arange(z_bins2['n_bins']):\n",
    "        z_bins3['SN']['galaxy'][:,j,j]+=z_bins2['SN']['galaxy'][:,i,i]\n",
    "        z_bins3['SN']['shear'][:,j,j]+=z_bins2['SN']['shear'][:,i,i]\n",
    "        j+=1\n",
    "    \n",
    "    return z_bins3"
   ]
  },
  {
   "cell_type": "raw",
   "metadata": {},
   "source": [
    "z_min_iter=[0]\n",
    "z_max_iter=[3]\n",
    "corrs_iter=[corr_ll,corr_ggl,corr_gg]\n",
    "pk_iter=['class_pk','baryon_pk']\n",
    "SSV_iter=[False] #,True]\n",
    "nz_iter=[27]\n",
    "l_max_iter=[5000]#,2000,5000]\n",
    "bary_nQ_iter=[0,2,1,3,5]\n",
    "\n",
    "cosmo_params=np.atleast_1d(['As','Om','w','wa'])\n",
    "pz_iter=[[],'pzb']"
   ]
  },
  {
   "cell_type": "code",
   "execution_count": 28,
   "metadata": {
    "collapsed": true
   },
   "outputs": [],
   "source": [
    "def DESI_z_bins(datasets=['elg','lrg','BG','qso'],nbins=n_lensD_bins,**kwargs):\n",
    "    zbins={}\n",
    "    i=0\n",
    "    for d in datasets:\n",
    "        d_bins=DESI_lens_bins(dataset=d,nbins=nbins,**kwargs)\n",
    "        if i==0:\n",
    "            zbins=copy.deepcopy(d_bins)\n",
    "        else:\n",
    "            zbins=combine_zbins(z_bins1=zbins,z_bins2=d_bins)\n",
    "        i+=1\n",
    "        print(i,zbins['n_bins'],d_bins['n_bins'])\n",
    "    return zbins"
   ]
  },
  {
   "cell_type": "code",
   "execution_count": 29,
   "metadata": {
    "collapsed": true
   },
   "outputs": [],
   "source": [
    "def get_z_bins(zmin,zmax,ns_bins,n_lens_bins,n_lensD_bins,nsource=n_source,nlens=n_lens,nDlens=5,use_window=use_window,\n",
    "               nside=nside,z_source_sigma=0.05,z_lens_sigma=0.01,area_overlap=0.24,z_max_lens=1.2,f_sky=f_sky,AI=0,AI_z=0,\n",
    "               mag_fact=0,**kwargs):\n",
    "    \n",
    "    zs_bins=lsst_source_tomo_bins(zmin=zmin,zmax=zmax,nside=nside,ns0=nsource,nbins=ns_bins,f_sky=f_sky,\n",
    "                                  z_sigma_power=1,z_sigma=z_source_sigma,ztrue_func=ztrue_given_pz_Gaussian,\n",
    "                                  use_window=use_window,AI=AI,AI_z=AI_z)\n",
    "    \n",
    "    zl_bins=lsst_source_tomo_bins(zmin=zmin,zmax=z_max_lens,ns0=nlens,nbins=n_lens_bins,nside=nside,f_sky=f_sky,\n",
    "                         ztrue_func=ztrue_given_pz_Gaussian,use_window=use_window,mag_fact=mag_fact,\n",
    "                        z_sigma=z_lens_sigma)\n",
    "    zlD_bins={}\n",
    "    zlD_bins['n_bins']=0\n",
    "    zlD_bins['n_binsF']=0\n",
    "    zlD_bins['n_binsF1']=0\n",
    "    zlD_bins['n_binsF2']=0\n",
    "    zlD_bins['area_overlap']=area_overlap\n",
    "    if n_lensD_bins>0:\n",
    "        zlD_bins=DESI_z_bins(nside=nside,f_sky=f_sky,use_window=use_window,mag_fact=mag_fact,\n",
    "                             mask_start_pix=np.int32(hp.nside2npix(nside)*f_sky*(1-area_overlap)))\n",
    "        zlD_bins['n_binsF']=0\n",
    "        zlD_bins['n_binsF1']=0\n",
    "        zlD_bins['n_binsF2']=0\n",
    "        if Fmost:\n",
    "            zlD_bins2=DESI_z_bins(datasets=['lrg','qso'],nside=nside,f_sky=f_sky4,use_window=use_window,mag_fact=mag_fact,\n",
    "                                  mask_start_pix=0)\n",
    "            zlD_bins3=DESI_z_bins(datasets=['elg'],nside=nside,f_sky=1000./40000,use_window=use_window,mag_fact=mag_fact,\n",
    "                                  mask_start_pix=0)\n",
    "            zlD_bins=combine_zbins(z_bins1=zlD_bins,z_bins2=zlD_bins2)\n",
    "            zlD_bins=combine_zbins(z_bins1=zlD_bins,z_bins2=zlD_bins3)\n",
    "            zlD_bins['n_binsF1']=zlD_bins2['n_bins']\n",
    "            zlD_bins['n_binsF2']=zlD_bins3['n_bins']\n",
    "            zlD_bins['n_binsF']=zlD_bins3['n_bins']+zlD_bins2['n_bins']\n",
    "    return zs_bins,zl_bins,zlD_bins"
   ]
  },
  {
   "cell_type": "code",
   "execution_count": 49,
   "metadata": {
    "collapsed": true
   },
   "outputs": [],
   "source": [
    "def init_fish(z_min=z_min,z_max=z_max,corrs=corrs,SSV=SSV_cov,use_source_pos=1,\n",
    "              pk_func=pk_func,nz=n_source,n_source_bins=nbins,f_sky=f_sky,\n",
    "              l_max=lmax,l_min=l_min,Nl_bins=Nl_bins,Win=None,store_win=True,AI=0,AI_z=0,mag_fact=0,\n",
    "             n_lens_bins=3,n_lensD_bins=0,nlens0=n_lens,Darea_overlap=0.24):\n",
    "    \n",
    "    power_spectra_kwargs2=copy.deepcopy(power_spectra_kwargs)\n",
    "    power_spectra_kwargs2['pk_func']=pk_func\n",
    "    \n",
    "    cov_3X2_kwargs={'do_cov':do_cov,'bin_cl':bin_cl, #'l':l0,'l_bins':l_bins,\n",
    "            'SSV_cov':SSV,'tidal_SSV_cov':SSV,'do_xi':False,'use_window':use_window,'window_lmax':window_lmax,\n",
    "            'f_sky':f_sky,'sigma_gamma':sigma_gamma,'corrs':corrs,'store_win':store_win,'Win':Win,\n",
    "            'do_sample_variance':do_sample_variance,'power_spectra_kwargs':power_spectra_kwargs2,'f_sky':f_sky,\n",
    "            'bin_xi':bin_xi}\n",
    "    \n",
    "    z_bins_kwargs={'zmin':z_min,'zmax':z_max,'nsource':nz,'ns_bins':nbins,'nside':nside,\n",
    "                   'n_lens_bins':n_lens_bins,'n_lensD_bins':n_lensD_bins,\n",
    "                    'use_window':use_window,'nlens':nlens0,'nDlens':nlens0/2.,'area_overlap':Darea_overlap, \n",
    "                   'f_sky':f_sky,'z_lens_sigma':0.01,'AI':AI,'AI_z':AI_z,'mag_fact':mag_fact,\n",
    "                   'z_source_sigma':0.05,'corrs':corrs,'use_source_pos':use_source_pos}\n",
    "    ell_bin_kwargs={'lmax_cl':l_max,'lmin_cl':l_min,'Nl_bins':Nl_bins}\n",
    "    \n",
    "    \n",
    "    zs_bins,zl_bins,zlD_bins=get_z_bins(**z_bins_kwargs)\n",
    "    \n",
    "    z_bins_kwargs['zs_bins']=zs_bins\n",
    "    z_bins_kwargs['zl_bins']=zl_bins\n",
    "    z_bins_kwargs['zlD_bins']=zlD_bins\n",
    "    \n",
    "    z_bins_kwargs['n_lensD_bins']=zlD_bins['n_bins']\n",
    "    n_lensD_bins=zlD_bins['n_bins']\n",
    "    \n",
    "    Sindx=np.arange(zs_bins['n_bins'])\n",
    "    \n",
    "    if zl_bins['n_bins']>0:\n",
    "        Lindx=np.arange(zs_bins['n_bins'],zs_bins['n_bins']+zl_bins['n_bins'])\n",
    "        Dindx=np.arange(Lindx.max(),Lindx.max()+zlD_bins['n_bins']-zlD_bins['n_binsF'])+1\n",
    "    else:\n",
    "        Lindx=[]\n",
    "        Dindx=np.arange(Sindx.max(),Sindx.max()+zlD_bins['n_bins']-zlD_bins['n_binsF'])+1\n",
    "    try:\n",
    "        F1indx=np.arange(Dindx.max(),Dindx.max()+zlD_bins['n_binsF1'])+1\n",
    "        F2indx=np.arange(F1indx.max(),F1indx.max()+zlD_bins['n_binsF2'])+1    \n",
    "    except:\n",
    "        F1indx=[]\n",
    "        F2indx=[]\n",
    "    \n",
    "    ii_lens=np.arange(n_lens_bins+n_lensD_bins)\n",
    "#     z_bins_kwargs['gg_indxs']=[(i,j) for i in np.arange(n_lens_bins) for j in np.arange(i,n_lens_bins)]    \n",
    "#     z_bins_kwargs['gg_indxs']+=[(i,j) for i in np.arange(n_lens_bins) for j in np.arange(n_lens_bins,n_lens_bins+n_lensD_bins)]    \n",
    "#     z_bins_kwargs['gg_indxs']+=[(i,i) for i in np.arange(n_lens_bins,n_lens_bins+n_lensD_bins)]\n",
    "    z_bins_kwargs['gg_indxs']=[(i,i) for i in ii_lens]\n",
    "    \n",
    "    zl_bins_comb=zl_bins\n",
    "    if n_lensD_bins>0:\n",
    "        zl_bins_comb=combine_zbins(z_bins1=zl_bins,z_bins2=zlD_bins)\n",
    "    if use_source_pos!=0:\n",
    "        zl_bins_comb=combine_zbins(z_bins1=zs_bins,z_bins2=zl_bins_comb)\n",
    "#         z_bins_kwargs['gg_indxs']=[(i,j) for i in np.arange(n_source_bins,n_source_bins+n_lens_bins) \n",
    "#                                          for j in np.arange(i,n_source_bins+n_lens_bins)]    \n",
    "#         z_bins_kwargs['gg_indxs']+=[(i,j) for i in np.arange(n_source_bins,n_source_bins+n_lens_bins) \n",
    "#                                           for j in np.arange(n_source_bins+n_lens_bins,n_source_bins+n_lens_bins+n_lensD_bins)]    \n",
    "#         z_bins_kwargs['gg_indxs']+=[(i,i) for i in np.arange(n_source_bins+n_lens_bins,n_source_bins+n_lens_bins+n_lensD_bins)]\n",
    "#         z_bins_kwargs['gg_indxs']+=[(i,j) for i in np.arange(n_source_bins) \n",
    "#                                          for j in np.arange(n_source_bins,n_source_bins+n_lens_bins+n_lensD_bins)]    \n",
    "        \n",
    "        ii_lens=np.arange(n_source_bins,n_source_bins+n_lens_bins+n_lensD_bins)\n",
    "        ii_s=np.arange(n_source_bins)\n",
    "        \n",
    "        z_bins_kwargs['gg_indxs']=[(i,j) for i in ii_s for j in ii_lens]+[(i,i) for i in ii_lens]\n",
    "    \n",
    "        \n",
    "    cov_3X2_kwargs['zg_bins']=zl_bins_comb    \n",
    "    \n",
    "    l0,l_bins,l=get_cl_ells(**ell_bin_kwargs)\n",
    "    if n_cmb_bins>0:\n",
    "        zs_bins_cmb=d_cmb #cmb_bins(l=l0)\n",
    "        zs_bins=combine_zbins(z_bins1=zs_bins,z_bins2=zs_bins_cmb)\n",
    "    \n",
    "    kappa_class=cov_3X2(l=l0,l_bins=l_bins,zs_bins=zs_bins,**cov_3X2_kwargs)\n",
    "    \n",
    "    if not use_window:\n",
    "        for kk in kappa_class.corr_indxs.keys():\n",
    "            indxs=kappa_class.corr_indxs[kk]\n",
    "\n",
    "            for (i,j) in indxs:\n",
    "                ii=np.argmax([i in Sindx,i in Lindx,i in Dindx,i in F1indx, i in F2indx])\n",
    "                jj=np.argmax([j in Sindx,j in Lindx,j in Dindx,j in F1indx, j in F2indx])\n",
    "                fs_t=None\n",
    "                if (ii<2 and jj<2) or (ii==2 and jj==2):\n",
    "                    fs_t=f_sky\n",
    "                if (ii<2 and jj==2) or (ii==2 and jj<2):\n",
    "                    fs_t=f_sky*Darea_overlap\n",
    "                if ii==3 and jj==3:\n",
    "                    fs_t=f_sky4\n",
    "                if (ii==4 and jj!=2) or (jj==4 and ii!=2):\n",
    "                    fs_t=f_sky_LF2\n",
    "                if (ii>2 and jj==2) or (jj>2 and ii==2):\n",
    "                    fs_t=f_sky_FD\n",
    "                if (ii<2 and jj==3) or (jj<2 and ii==3):\n",
    "                    fs_t=f_sky_LF\n",
    "                \n",
    "#                 print(ii,jj,fs_t)    \n",
    "                kappa_class.f_sky[kk][(i,j)]=fs_t\n",
    "    \n",
    "    z_bins_kwargs['corr_indxs']=copy.deepcopy(kappa_class.corr_indxs)\n",
    "    z_bins_kwargs['corr_indxs'][('galaxy','galaxy')]=z_bins_kwargs['gg_indxs']\n",
    "    return kappa_class,z_bins_kwargs"
   ]
  },
  {
   "cell_type": "code",
   "execution_count": 50,
   "metadata": {
    "collapsed": true
   },
   "outputs": [],
   "source": [
    "#setup parameters\n",
    "l0,l_bins,l=get_cl_ells()\n",
    "lb=0.5*(l_bins[1:]+l_bins[:-1])"
   ]
  },
  {
   "cell_type": "code",
   "execution_count": 51,
   "metadata": {
    "collapsed": true
   },
   "outputs": [],
   "source": [
    "WIN=None\n",
    "store_win=False"
   ]
  },
  {
   "cell_type": "code",
   "execution_count": 52,
   "metadata": {},
   "outputs": [
    {
     "name": "stdout",
     "output_type": "stream",
     "text": [
      "208.08 MB\n"
     ]
    }
   ],
   "source": [
    "proc = psutil.Process()\n",
    "print(format_bytes(proc.memory_info().rss))"
   ]
  },
  {
   "cell_type": "code",
   "execution_count": 53,
   "metadata": {},
   "outputs": [
    {
     "name": "stdout",
     "output_type": "stream",
     "text": [
      "ns0:  27.0\n",
      "ns0:  10.0\n"
     ]
    },
    {
     "name": "stderr",
     "output_type": "stream",
     "text": [
      "./cov_utils.py:68: RuntimeWarning: invalid value encountered in true_divide\n",
      "  Win0=2*jn(1,l_th)/l_th\n",
      "/home/hungjinh/anaconda2/envs/py36/lib/python3.6/site-packages/astropy/units/quantity.py:968: RuntimeWarning: divide by zero encountered in true_divide\n",
      "  return super(Quantity, self).__rtruediv__(other)\n"
     ]
    },
    {
     "name": "stdout",
     "output_type": "stream",
     "text": [
      "cl dict done\n",
      "CPU times: user 28.2 s, sys: 517 ms, total: 28.7 s\n",
      "Wall time: 13.7 s\n",
      "CPU times: user 14.8 s, sys: 41 s, total: 55.8 s\n",
      "Wall time: 3.11 s\n"
     ]
    }
   ],
   "source": [
    "kappa_classS1AI,z_bins_kwargsS1AI=init_fish(n_source_bins=nbins,n_lens_bins=n_lens_bins,n_lensD_bins=0,corrs=[corr_ll],\n",
    "                                          Win=None,store_win=store_win,use_source_pos=1,AI=-1)\n",
    "%time cl0GS1AI=kappa_classS1AI.cl_tomo(corrs=[corr_ll],stack_corr_indxs=z_bins_kwargsS1AI['corr_indxs'])\n",
    "lb=0.5*(l_bins[1:]+l_bins[:-1])\n",
    "%time cl_LS1AI=cl0GS1AI['stack'].compute()"
   ]
  },
  {
   "cell_type": "code",
   "execution_count": null,
   "metadata": {},
   "outputs": [
    {
     "name": "stdout",
     "output_type": "stream",
     "text": [
      "ns0:  27.0\n",
      "ns0:  10.0\n",
      "1 1 1\n",
      "2 2 1\n",
      "3 3 1\n",
      "4 4 1\n"
     ]
    },
    {
     "name": "stderr",
     "output_type": "stream",
     "text": [
      "./cov_utils.py:68: RuntimeWarning: invalid value encountered in true_divide\n",
      "  Win0=2*jn(1,l_th)/l_th\n",
      "/home/hungjinh/anaconda2/envs/py36/lib/python3.6/site-packages/astropy/units/quantity.py:968: RuntimeWarning: divide by zero encountered in true_divide\n",
      "  return super(Quantity, self).__rtruediv__(other)\n"
     ]
    },
    {
     "name": "stdout",
     "output_type": "stream",
     "text": [
      "cl dict done\n",
      "CPU times: user 22.3 s, sys: 5.93 s, total: 28.2 s\n",
      "Wall time: 13.4 s\n",
      "CPU times: user 13.2 s, sys: 36.3 s, total: 49.5 s\n",
      "Wall time: 2.84 s\n"
     ]
    }
   ],
   "source": [
    "Fmost=False\n",
    "kappa_classS1,z_bins_kwargsS1=init_fish(n_source_bins=nbins,n_lens_bins=n_lens_bins,n_lensD_bins=1,corrs=[corr_ll],\n",
    "                                          Win=WIN,store_win=store_win,use_source_pos=1)\n",
    "%time cl0GS1=kappa_classS1.cl_tomo(corrs=[corr_ll],stack_corr_indxs=z_bins_kwargsS1['corr_indxs'])\n",
    "lb=0.5*(l_bins[1:]+l_bins[:-1])\n",
    "%time cl_LS1=cl0GS1['stack'].compute()"
   ]
  },
  {
   "cell_type": "raw",
   "metadata": {},
   "source": [
    "_=plot(kappa_classS1AI.Ang_PS.z,kappa_classS1AI.z_bins['shear'][0]['gkernel_int'][0,:],'--')\n",
    "# _=plot(kappa_classS1.Ang_PS.z,kappa_classS1.z_bins['shear'][2]['kernel_int'][0,:])\n",
    "# _=plot(kappa_classS1.Ang_PS.z*1.03,kappa_classS1.z_bins['shear'][2]['Gkernel_int'])\n",
    "_=plot(kappa_classS1.Ang_PS.z,kappa_classS1.z_bins['shear'][0]['kernel_int'][0,:])"
   ]
  },
  {
   "cell_type": "raw",
   "metadata": {
    "scrolled": false
   },
   "source": [
    "corr=('shear','shear')\n",
    "zs_bins=kappa_classS1.z_bins['shear']\n",
    "for i in np.arange(nbins):\n",
    "    for j in np.arange(i,nbins):\n",
    "#         lens1 = ccl.ClTracerLensing(ccl_cosmo, False, z=zs_bins[i]['z'], n=zs_bins[i]['pz'])\n",
    "#         lens2 = ccl.ClTracerLensing(ccl_cosmo, False, z=zs_bins[j]['z'], n=zs_bins[j]['pz'])\n",
    "#         cls = ccl.angular_cl(ccl_cosmo, lens1, lens2, kappa_classD.l)\n",
    "        cl2=cl0GS1['cl'][corr][(i,j)].compute()\n",
    "        cl2A=cl0GS1AI['cl'][corr][(i,j)].compute()\n",
    "#         cl2=gg[(i,j)]\n",
    "#         if np.any(cl2<0):\n",
    "#             print('negative')\n",
    "#             plot(kappa_classS1.l,cl2,'--',label=(i,j),c=colors[j%len(colors)])\n",
    "#         else:\n",
    "        plot(kappa_classS1.l,cl2/cl2A,label=(i,j),c=colors[j%len(colors)])\n",
    "#         plot(kappa_classS1.l,cl2A0,':',c=colors[j%len(colors)])\n",
    "        xscale('log')\n",
    "#         yscale('log')\n",
    "        xlabel(r'$\\ell$')\n",
    "        ylabel(r'$C_\\ell$')\n",
    "#         hlines(1,2,1000)\n",
    "        legend()\n",
    "#         ylim(0.9,1.1)\n",
    "#         yscale('log')\n",
    "    show()"
   ]
  },
  {
   "cell_type": "raw",
   "metadata": {},
   "source": [
    "import pyccl as ccl\n",
    "cosmo_params={'h': 0.6774,\n",
    " 'Omb': 0.0486,\n",
    " 'Omd': 0.2589,\n",
    " 's8': 0.8228,\n",
    " 'Om': 0.3075,\n",
    " 'As': 2.12e-09,\n",
    "  'Ase9': 2.12,\n",
    " 'mnu': 0.0,\n",
    " 'Omk': 0.0,\n",
    " 'tau': 0.06,\n",
    " 'ns': 0.965,\n",
    " 'w': -1,\n",
    " 'wa': 0,\n",
    " 'Oml': 0.6925}\n",
    "mnu=cosmo_h.m_nu*0\n",
    "cosmo_h=cosmo.clone(H0=100,m_nu=mnu,Ob0=cosmo_params['Omb'],Om0=cosmo_params['Om'])\n",
    "ccl_cosmo = ccl.Cosmology(Omega_c=cosmo_params['Omd'], Omega_b=cosmo_params['Omb'], \n",
    "                      h=cosmo_params['h'], A_s=cosmo_params['As'], n_s=cosmo_params['ns'],)#m_nu=[0,0,0.06])\n",
    "\n",
    "zs_bins=kappa_classS1.z_bins['shear']\n",
    "for i in np.arange(nbins):\n",
    "    for j in np.arange(i,nbins):\n",
    "        lens1 = ccl.ClTracerLensing(ccl_cosmo, False, z=zs_bins[i]['z'], n=zs_bins[i]['pz'])\n",
    "        lens2 = ccl.ClTracerLensing(ccl_cosmo, False, z=zs_bins[j]['z'], n=zs_bins[j]['pz'])\n",
    "        lens1ia = ccl.ClTracerLensing(ccl_cosmo, True, z=zs_bins[i]['z'], n=zs_bins[i]['pz'],bias_ia=[1],f_red=[1])\n",
    "        lens2ia = ccl.ClTracerLensing(ccl_cosmo, True, z=zs_bins[j]['z'], n=zs_bins[j]['pz'],bias_ia=[1],f_red=[1])\n",
    "        cls = ccl.angular_cl(ccl_cosmo, lens1, lens2, kappa_classD.l)\n",
    "        cl2=cl0GS1['cl'][corr][(i,j)].compute()\n",
    "#         cl2=gg[(i,j)]\n",
    "        plot(kappa_classD.l,cl2/cls,label=(i,j))\n",
    "        xscale('log')\n",
    "#         yscale('log')\n",
    "        xlabel(r'$\\ell$')\n",
    "        ylabel(r'$C_\\ell$')\n",
    "        hlines(1,2,1000)\n",
    "        legend()\n",
    "#         ylim(0.9,1.1)\n",
    "        yscale('log')\n",
    "    show()"
   ]
  },
  {
   "cell_type": "code",
   "execution_count": null,
   "metadata": {
    "scrolled": true
   },
   "outputs": [
    {
     "name": "stdout",
     "output_type": "stream",
     "text": [
      "ns0:  27.0\n",
      "ns0:  10.0\n"
     ]
    },
    {
     "name": "stderr",
     "output_type": "stream",
     "text": [
      "./cov_utils.py:68: RuntimeWarning: invalid value encountered in true_divide\n",
      "  Win0=2*jn(1,l_th)/l_th\n",
      "/home/hungjinh/anaconda2/envs/py36/lib/python3.6/site-packages/astropy/units/quantity.py:968: RuntimeWarning: divide by zero encountered in true_divide\n",
      "  return super(Quantity, self).__rtruediv__(other)\n"
     ]
    },
    {
     "name": "stdout",
     "output_type": "stream",
     "text": [
      "cl dict done\n",
      "CPU times: user 27.5 s, sys: 4.68 s, total: 32.2 s\n",
      "Wall time: 17 s\n"
     ]
    }
   ],
   "source": [
    "kappa_class,z_bins_kwargs=init_fish(n_source_bins=nbins,n_lens_bins=n_lens_bins,n_lensD_bins=0,corrs=corrs,\n",
    "                                          Win=WIN,store_win=store_win,use_source_pos=1)\n",
    "%time cl0G=kappa_class.cl_tomo(corrs=corrs,stack_corr_indxs=z_bins_kwargs['corr_indxs'])\n",
    "lb=0.5*(l_bins[1:]+l_bins[:-1])\n",
    "%time cl_L=cl0G['stack'].compute()"
   ]
  },
  {
   "cell_type": "code",
   "execution_count": null,
   "metadata": {
    "collapsed": true
   },
   "outputs": [],
   "source": [
    "Fmost=False\n",
    "kappa_classD,z_bins_kwargsD=init_fish(n_source_bins=nbins,n_lens_bins=n_lens_bins,n_lensD_bins=n_lensD_bins,corrs=corrs,\n",
    "                                          Win=WIN,store_win=store_win)\n",
    "%time cl0GD=kappa_classD.cl_tomo(corrs=corrs,stack_corr_indxs=z_bins_kwargsD['corr_indxs'])\n",
    "%time cl_LD=cl0GD['stack'].compute()"
   ]
  },
  {
   "cell_type": "code",
   "execution_count": null,
   "metadata": {
    "collapsed": true
   },
   "outputs": [],
   "source": [
    "kappa_classDgg,z_bins_kwargsDgg=init_fish(n_source_bins=nbins,n_lens_bins=n_lens_bins,n_lensD_bins=n_lensD_bins,corrs=[corr_gg],\n",
    "                                          Win=WIN,store_win=store_win)\n",
    "%time cl0GDgg=kappa_classDgg.cl_tomo(corrs=[corr_gg],stack_corr_indxs=z_bins_kwargsDgg['corr_indxs'])\n",
    "%time cl_LDgg=cl0GDgg['stack'].compute()"
   ]
  },
  {
   "cell_type": "code",
   "execution_count": null,
   "metadata": {
    "collapsed": true
   },
   "outputs": [],
   "source": [
    "Fmost=False\n",
    "kappa_classDf,z_bins_kwargsDf=init_fish(n_source_bins=nbins,n_lens_bins=n_lens_bins,n_lensD_bins=n_lensD_bins,corrs=corrs,\n",
    "                                          Win=WIN,store_win=store_win,Darea_overlap=1)\n",
    "%time cl0GDf=kappa_classDf.cl_tomo(corrs=corrs,stack_corr_indxs=z_bins_kwargsDf['corr_indxs'])\n",
    "\n",
    "%time cl_LDf=cl0GDf['stack'].compute()"
   ]
  },
  {
   "cell_type": "code",
   "execution_count": null,
   "metadata": {
    "collapsed": true
   },
   "outputs": [],
   "source": [
    "Fmost=False\n",
    "kappa_classDf0,z_bins_kwargsDf0=init_fish(n_source_bins=nbins,n_lens_bins=0,n_lensD_bins=n_lensD_bins,corrs=corrs,\n",
    "                                          Win=WIN,store_win=store_win,Darea_overlap=1)\n",
    "%time cl0GDf0=kappa_classDf0.cl_tomo(corrs=corrs,stack_corr_indxs=z_bins_kwargsDf0['corr_indxs'])\n",
    "\n",
    "%time cl_LDf0=cl0GDf0['stack'].compute()"
   ]
  },
  {
   "cell_type": "code",
   "execution_count": null,
   "metadata": {
    "collapsed": true
   },
   "outputs": [],
   "source": [
    "Fmost=False\n",
    "kappa_classD0,z_bins_kwargsD0=init_fish(n_source_bins=nbins,n_lens_bins=0,n_lensD_bins=n_lensD_bins,corrs=corrs,\n",
    "                                          Win=WIN,store_win=store_win)\n",
    "%time cl0GD0=kappa_classD0.cl_tomo(corrs=corrs,stack_corr_indxs=z_bins_kwargsD0['corr_indxs'])\n",
    "\n",
    "%time cl_LD0=cl0GD0['stack'].compute()"
   ]
  },
  {
   "cell_type": "raw",
   "metadata": {},
   "source": [
    "Fmost=True\n",
    "kappa_classDF,z_bins_kwargsDF=init_fish(n_source_bins=nbins,n_lens_bins=n_lens_bins,n_lensD_bins=n_lensD_bins,corrs=corrs,\n",
    "                                          Win=WIN,store_win=store_win)\n",
    "%time cl0GDF=kappa_classDF.cl_tomo(corrs=corrs,stack_corr_indxs=z_bins_kwargsDF['corr_indxs'])\n",
    "%time cl_LDF=cl0GDF['stack'].compute()"
   ]
  },
  {
   "cell_type": "code",
   "execution_count": null,
   "metadata": {
    "collapsed": true
   },
   "outputs": [],
   "source": [
    "proc = psutil.Process()\n",
    "print(format_bytes(proc.memory_info().rss))"
   ]
  },
  {
   "cell_type": "raw",
   "metadata": {},
   "source": [
    "cl_L=None"
   ]
  },
  {
   "cell_type": "raw",
   "metadata": {},
   "source": [
    "fname_cl='temp/cl_cov_{ns}{nl}{nlD}.pkl'.format(ns=nbins,nl=n_lens_bins,nlD=n_lensD_bins)\n",
    "try:\n",
    "    with open(fname_cl,'rb') as of:\n",
    "        cl_L=pickle.load(of)\n",
    "except:\n",
    "    print('cl not found. Will compute',fname_cl)"
   ]
  },
  {
   "cell_type": "raw",
   "metadata": {},
   "source": [
    "if WIN is None and cl_L is None and kappa_class.Win.store_win:\n",
    "    WIN=kappa_class.Win.Win\n",
    "    with open(fname,'wb') as of:\n",
    "        pickle.dump(WIN,of)"
   ]
  },
  {
   "cell_type": "raw",
   "metadata": {},
   "source": [
    "ci=np.linalg.inv(cl_LD['cov'])\n",
    "np.sqrt(cl_LD['cl_b']@ci@cl_LD['cl_b'])"
   ]
  },
  {
   "cell_type": "raw",
   "metadata": {},
   "source": [
    "ci=np.linalg.inv(cl_LDF['cov'])\n",
    "np.sqrt(cl_LDF['cl_b']@ci@cl_LDF['cl_b'])"
   ]
  },
  {
   "cell_type": "code",
   "execution_count": null,
   "metadata": {
    "collapsed": true
   },
   "outputs": [],
   "source": [
    "proc = psutil.Process()\n",
    "print(format_bytes(proc.memory_info().rss))"
   ]
  },
  {
   "cell_type": "code",
   "execution_count": null,
   "metadata": {
    "collapsed": true
   },
   "outputs": [],
   "source": [
    "if nbins<=2:\n",
    "    cc=kappa_class.cov_utils\n",
    "    corr_shear=cc.corr_matrix(cl_L['cov'])\n",
    "    pcolor(corr_shear,vmin=-1,vmax=1,cmap='seismic')"
   ]
  },
  {
   "cell_type": "code",
   "execution_count": 76,
   "metadata": {
    "collapsed": true
   },
   "outputs": [],
   "source": [
    "priors={}\n",
    "priors['Ase9']=np.inf\n",
    "priors['Om']=0.2\n",
    "priors['w']=0.08\n",
    "priors['wa']=2\n",
    "priors['h']=0.063\n",
    "priors['ns']=0.08"
   ]
  },
  {
   "cell_type": "code",
   "execution_count": 77,
   "metadata": {
    "collapsed": true
   },
   "outputs": [],
   "source": [
    "priors['pz_B_s']=0.001 #bias =B*(1+z) \n",
    "priors['pz_B_l']=0.0001 #bias =B*(1+z) \n",
    "for i in np.arange(10): #photo-z bias\n",
    "    priors['pz_b_s_'+str(i)]=0.003\n",
    "    priors['AI_'+str(i)]=5\n",
    "\n",
    "for i in np.arange(10): #photo-z bias\n",
    "    priors['pz_b_l_'+str(i)]=0.001\n",
    "\n",
    "for i in np.arange(10): #photo-z bias\n",
    "    for j in np.arange(100): #photo-z bias\n",
    "        priors['nz_s_'+str(i)+'_'+str(j)]=0.01\n",
    "\n",
    "for i in np.arange(10): #photo-z bias\n",
    "    for j in np.arange(100): #photo-z bias\n",
    "        priors['nz_l_'+str(i)+'_'+str(j)]=0.01\n",
    "\n",
    "        \n",
    "for i in np.arange(10):#galaxy bias\n",
    "    priors['g_b_s_1'+str(i)]=np.inf\n",
    "    priors['mag_fact_s_'+str(i)]=.5\n",
    "for i in np.arange(10): #galaxy bias, b2\n",
    "    priors['g_b_s_2'+str(i)]=np.inf\n",
    "\n",
    "for i in np.arange(20):#galaxy bias\n",
    "    priors['g_b_l_1'+str(i)]=np.inf\n",
    "    priors['mag_fact_l_'+str(i)]=.5\n",
    "for i in np.arange(20): #galaxy bias, b2\n",
    "    priors['g_b_l_2'+str(i)]=np.inf\n",
    "\n",
    "    \n",
    "for i in np.arange(10): #baryon PCA\n",
    "    priors['Q'+str(i)]=100"
   ]
  },
  {
   "cell_type": "code",
   "execution_count": 78,
   "metadata": {
    "collapsed": true
   },
   "outputs": [],
   "source": [
    "if use_window:\n",
    "    kappa_class.Win.store_win=True"
   ]
  },
  {
   "cell_type": "code",
   "execution_count": 79,
   "metadata": {},
   "outputs": [
    {
     "data": {
      "text/plain": [
       "{'Ase9': 2.2,\n",
       " 'Om': 0.3075,\n",
       " 'Omb': 0.0486,\n",
       " 'Omd': 0.2589,\n",
       " 'Omk': 0.0,\n",
       " 'Oml': 0.6925,\n",
       " 'h': 0.6774,\n",
       " 'mnu': 0.06,\n",
       " 'ns': 0.965,\n",
       " 's8': 0.817,\n",
       " 'tau': 0.06,\n",
       " 'w': -1,\n",
       " 'wa': 0}"
      ]
     },
     "execution_count": 79,
     "metadata": {},
     "output_type": "execute_result"
    }
   ],
   "source": [
    "cosmo_fid"
   ]
  },
  {
   "cell_type": "code",
   "execution_count": 85,
   "metadata": {
    "collapsed": true
   },
   "outputs": [],
   "source": [
    "cosmo_params=np.atleast_1d(['Ase9','Om','w','wa'])"
   ]
  },
  {
   "cell_type": "code",
   "execution_count": 86,
   "metadata": {
    "collapsed": true
   },
   "outputs": [],
   "source": [
    "import time"
   ]
  },
  {
   "cell_type": "code",
   "execution_count": 87,
   "metadata": {},
   "outputs": [
    {
     "name": "stderr",
     "output_type": "stream",
     "text": [
      "/home/hungjinh/anaconda2/envs/py36/lib/python3.6/site-packages/astropy/units/quantity.py:968: RuntimeWarning: divide by zero encountered in true_divide\n",
      "  return super(Quantity, self).__rtruediv__(other)\n"
     ]
    },
    {
     "name": "stdout",
     "output_type": "stream",
     "text": [
      "cl dict done\n",
      "{} 13.532521963119507\n",
      "shear 13.532648086547852\n",
      "Ase9 [2.189 2.211]\n",
      "cl dict done\n",
      "cl dict done\n",
      "Om [0.3059625 0.3090375]\n",
      "cl dict done\n",
      "cl dict done\n",
      "w [-0.995 -1.005]\n",
      "cl dict done\n",
      "cl dict done\n",
      "wa [-0.005  0.005]\n",
      "cl dict done\n",
      "cl dict done\n",
      "pz_b_s_0 [-0.01  0.01]\n",
      "ns0:  27.0\n",
      "cl dict done\n",
      "ns0:  27.0\n",
      "cl dict done\n",
      "pz_b_s_1 [-0.01  0.01]\n",
      "ns0:  27.0\n",
      "cl dict done\n",
      "ns0:  27.0\n",
      "cl dict done\n",
      "pz_b_s_2 [-0.01  0.01]\n",
      "ns0:  27.0\n",
      "cl dict done\n",
      "ns0:  27.0\n",
      "cl dict done\n",
      "AI 0\n",
      "AI_0 [-0.005  0.005]\n",
      "cl dict done\n",
      "cl dict done\n",
      "AI 1\n",
      "AI_1 [-0.005  0.005]\n",
      "cl dict done\n",
      "cl dict done\n",
      "AI 2\n",
      "AI_2 [-0.005  0.005]\n",
      "cl dict done\n",
      "cl dict done\n"
     ]
    }
   ],
   "source": [
    "pz_params=['pz_b_s_{j}'.format(j=i) for i in np.arange(z_bins_kwargsS1['zs_bins']['n_bins'])]\n",
    "AI_params=['AI_{j}'.format(j=i) for i in np.arange(z_bins_kwargsS1['zs_bins']['n_bins'])]\n",
    "# pz_params+=['pz_b_l_{j}'.format(j=i) for i in np.arange(z_bins_kwargs['n_lens_bins'])]\n",
    "# pz_params=[]\n",
    "galaxy_params=[]\n",
    "f_allS1=fisher_calc(cosmo_params=cosmo_params,z_params=pz_params,galaxy_params=galaxy_params,AI_params=AI_params,\n",
    "                          kappa_class=kappa_classS1,clS=cl_LS1,z_bins_kwargs=z_bins_kwargsS1,priors=priors)\n",
    "\n",
    "# f_allS1_dx=fisher_calc(cosmo_params=cosmo_params,z_params=pz_params,galaxy_params=galaxy_params,dx_max=0.01,\n",
    "#                           kappa_class=kappa_classS1,clS=cl_LS1,z_bins_kwargs=z_bins_kwargsS1,priors=priors)\n",
    "# f_allS1_dxz=fisher_calc(cosmo_params=cosmo_params,z_params=pz_params,galaxy_params=galaxy_params,dx_max=0.01,\n",
    "#                         dx_max_z=0.02,\n",
    "#                           kappa_class=kappa_classS1,clS=cl_LS1,z_bins_kwargs=z_bins_kwargsS1,priors=priors)\n",
    "snS1=1./np.sqrt(np.linalg.det(f_allS1['cov_p'][2:4,2:4]))"
   ]
  },
  {
   "cell_type": "code",
   "execution_count": 91,
   "metadata": {},
   "outputs": [],
   "source": [
    "fisher1     = f_allS1['cov_p_inv']\n",
    "fisher1_pri = f_allS1['prior']['cov_p_inv']"
   ]
  },
  {
   "cell_type": "code",
   "execution_count": 99,
   "metadata": {
    "collapsed": true
   },
   "outputs": [],
   "source": [
    "% run /home/hungjinh/Research/cov_baryon_proj/code/cosmic_shear/plot_fisher_tool.py\n",
    "\n",
    "fish1 = fisher_tool(Fisher=fisher1,par_cen=fid)"
   ]
  },
  {
   "cell_type": "code",
   "execution_count": 96,
   "metadata": {},
   "outputs": [
    {
     "data": {
      "text/plain": [
       "array(['Ase9', 'Om', 'w', 'wa', 'pz_b_s_0', 'pz_b_s_1', 'pz_b_s_2',\n",
       "       'AI_0', 'AI_1', 'AI_2'], dtype='<U32')"
      ]
     },
     "execution_count": 96,
     "metadata": {},
     "output_type": "execute_result"
    }
   ],
   "source": [
    "f_allS1['params_all']"
   ]
  },
  {
   "cell_type": "code",
   "execution_count": 97,
   "metadata": {
    "collapsed": true
   },
   "outputs": [],
   "source": [
    "fid=np.zeros(len(f_allS1['params_all']))\n",
    "i=0\n",
    "for p in f_allS1['params_all']:\n",
    "    try:\n",
    "        fid[i]=cosmo_fid[p]\n",
    "    except:\n",
    "        pass\n",
    "    i+=1"
   ]
  },
  {
   "cell_type": "code",
   "execution_count": 98,
   "metadata": {},
   "outputs": [
    {
     "data": {
      "text/plain": [
       "array([ 2.2   ,  0.3075, -1.    ,  0.    ,  0.    ,  0.    ,  0.    ,\n",
       "        0.    ,  0.    ,  0.    ])"
      ]
     },
     "execution_count": 98,
     "metadata": {},
     "output_type": "execute_result"
    }
   ],
   "source": [
    "fid"
   ]
  },
  {
   "cell_type": "code",
   "execution_count": null,
   "metadata": {
    "collapsed": true
   },
   "outputs": [],
   "source": []
  },
  {
   "cell_type": "code",
   "execution_count": null,
   "metadata": {
    "collapsed": true
   },
   "outputs": [],
   "source": []
  },
  {
   "cell_type": "code",
   "execution_count": null,
   "metadata": {
    "collapsed": true
   },
   "outputs": [],
   "source": []
  },
  {
   "cell_type": "raw",
   "metadata": {},
   "source": [
    "zs_bins=z_bins_kwargsDF['zs_bins'].copy()\n",
    "if n_cmb_bins>0:\n",
    "        zs_bins_cmb=d_cmb #cmb_bins(l=l0)\n",
    "        zs_bins=combine_zbins(z_bins1=zs_bins,z_bins2=zs_bins_cmb)\n",
    "kappa_classDF.update_zbins(z_bins=zs_bins,probe='shear')"
   ]
  },
  {
   "cell_type": "code",
   "execution_count": null,
   "metadata": {
    "collapsed": true,
    "scrolled": true
   },
   "outputs": [],
   "source": [
    "pz_params=['pz_b_s_{j}'.format(j=i) for i in np.arange(z_bins_kwargs['zs_bins']['n_bins'])]\n",
    "pz_params+=['pz_b_l_{j}'.format(j=i) for i in np.arange(z_bins_kwargs['n_lens_bins'])]\n",
    "galaxy_params=['g_b_s_1{j}'.format(j=i) for i in np.arange(z_bins_kwargs['zs_bins']['n_bins'])]\n",
    "galaxy_params+=['g_b_l_1{j}'.format(j=i) for i in np.arange(z_bins_kwargs['n_lens_bins'])]\n",
    "AI_params=['AI_{j}'.format(j=i) for i in np.arange(z_bins_kwargs['zs_bins']['n_bins'])]\n",
    "mag_params=['mag_fact_s_{j}'.format(j=i) for i in np.arange(z_bins_kwargs['zs_bins']['n_bins'])]\n",
    "mag_params+=['mag_fact_l_{j}'.format(j=i) for i in np.arange(z_bins_kwargs['n_lens_bins'])]\n",
    "# pz_params=[]\n",
    "# galaxy_params=[]\n",
    "f_all=fisher_calc(cosmo_params=cosmo_params,z_params=pz_params,galaxy_params=galaxy_params,AI_params=AI_params,\n",
    "                  mag_params=mag_params,kappa_class=kappa_class,clS=cl_L,z_bins_kwargs=z_bins_kwargs,priors=priors)"
   ]
  },
  {
   "cell_type": "raw",
   "metadata": {},
   "source": [
    "pz_params=[]\n",
    "AI_params=[]\n",
    "mag_params=[]\n",
    "galaxy_params=[]\n",
    "cosmo_params=['Ase9']"
   ]
  },
  {
   "cell_type": "code",
   "execution_count": null,
   "metadata": {
    "collapsed": true
   },
   "outputs": [],
   "source": [
    "pz_params=['pz_b_s_{j}'.format(j=i) for i in np.arange(z_bins_kwargsD0['zs_bins']['n_bins'])]\n",
    "# pz_params+=['pz_b_l_{j}'.format(j=i) for i in np.arange(z_bins_kwargsD0['n_lens_bins'])]\n",
    "galaxy_params=['g_b_s_1{j}'.format(j=i) for i in np.arange(z_bins_kwargsD0['zs_bins']['n_bins'])]\n",
    "galaxy_params+=['g_b_l_1{j}'.format(j=i) for i in np.arange(z_bins_kwargsD0['n_lensD_bins'])]\n",
    "AI_params=['AI_{j}'.format(j=i) for i in np.arange(z_bins_kwargsD0['zs_bins']['n_bins'])]\n",
    "mag_params=['mag_fact_s_{j}'.format(j=i) for i in np.arange(z_bins_kwargsD0['zs_bins']['n_bins'])]\n",
    "mag_params+=['mag_fact_l_{j}'.format(j=i) for i in np.arange(z_bins_kwargsD0['n_lensD_bins'])]\n",
    "\n",
    "f_allD0=fisher_calc(cosmo_params=cosmo_params,z_params=pz_params,galaxy_params=galaxy_params,AI_params=AI_params,\n",
    "                    mag_params=mag_params,kappa_class=kappa_classD0,clS=cl_LD0,z_bins_kwargs=z_bins_kwargsD0,priors=priors)"
   ]
  },
  {
   "cell_type": "code",
   "execution_count": null,
   "metadata": {
    "collapsed": true
   },
   "outputs": [],
   "source": [
    "pz_params=['pz_b_l_{j}'.format(j=i) for i in np.arange(z_bins_kwargsDgg['n_lens_bins'])]\n",
    "galaxy_params=['g_b_l_1{j}'.format(j=i) for i in np.arange(z_bins_kwargsDgg['n_lens_bins']+z_bins_kwargsDgg['n_lensD_bins'])]\n",
    "AI_params=[]\n",
    "mag_params=['mag_fact_l_{j}'.format(j=i) for i in np.arange(z_bins_kwargsDgg['n_lens_bins']+z_bins_kwargsDgg['n_lensD_bins'])]\n",
    "# pz_params=[]\n",
    "f_allDgg=fisher_calc(cosmo_params=cosmo_params,z_params=pz_params,galaxy_params=galaxy_params,kappa_class=kappa_classDgg,\n",
    "                   mag_params=mag_params,clS=cl_LDgg,z_bins_kwargs=z_bins_kwargsDgg,priors=priors,AI_params=AI_params)"
   ]
  },
  {
   "cell_type": "code",
   "execution_count": null,
   "metadata": {
    "collapsed": true
   },
   "outputs": [],
   "source": [
    "pz_params=['pz_b_s_{j}'.format(j=i) for i in np.arange(z_bins_kwargsD['zs_bins']['n_bins'])]\n",
    "pz_params+=['pz_b_l_{j}'.format(j=i) for i in np.arange(z_bins_kwargsD['n_lens_bins'])]\n",
    "galaxy_params=['g_b_s_1{j}'.format(j=i) for i in np.arange(z_bins_kwargsD['zs_bins']['n_bins'])]\n",
    "galaxy_params+=['g_b_l_1{j}'.format(j=i) for i in np.arange(z_bins_kwargsD['n_lens_bins']+z_bins_kwargsD['n_lensD_bins'])]\n",
    "AI_params=['AI_{j}'.format(j=i) for i in np.arange(z_bins_kwargsD['zs_bins']['n_bins'])]\n",
    "mag_params=['mag_fact_s_{j}'.format(j=i) for i in np.arange(z_bins_kwargsD['zs_bins']['n_bins'])]\n",
    "mag_params+=['mag_fact_l_{j}'.format(j=i) for i in np.arange(z_bins_kwargsD['n_lens_bins']+z_bins_kwargsD['n_lensD_bins'])]\n",
    "# pz_params=[]\n",
    "f_allD=fisher_calc(cosmo_params=cosmo_params,z_params=pz_params,galaxy_params=galaxy_params,kappa_class=kappa_classD,\n",
    "                   mag_params=mag_params,clS=cl_LD,z_bins_kwargs=z_bins_kwargsD,priors=priors,AI_params=AI_params)"
   ]
  },
  {
   "cell_type": "code",
   "execution_count": null,
   "metadata": {
    "collapsed": true
   },
   "outputs": [],
   "source": [
    "pz_params=['pz_b_s_{j}'.format(j=i) for i in np.arange(z_bins_kwargsDf['zs_bins']['n_bins'])]\n",
    "pz_params+=['pz_b_l_{j}'.format(j=i) for i in np.arange(z_bins_kwargsDf['n_lens_bins'])]\n",
    "galaxy_params=['g_b_s_1{j}'.format(j=i) for i in np.arange(z_bins_kwargsDf['zs_bins']['n_bins'])]\n",
    "galaxy_params+=['g_b_l_1{j}'.format(j=i) for i in np.arange(z_bins_kwargsDf['n_lens_bins']+z_bins_kwargsDf['n_lensD_bins'])]\n",
    "AI_params=['AI_{j}'.format(j=i) for i in np.arange(z_bins_kwargsDf['zs_bins']['n_bins'])]\n",
    "mag_params=['mag_fact_s_{j}'.format(j=i) for i in np.arange(z_bins_kwargsDf['zs_bins']['n_bins'])]\n",
    "mag_params+=['mag_fact_l_{j}'.format(j=i) for i in np.arange(z_bins_kwargsDf['n_lens_bins']+z_bins_kwargsDf['n_lensD_bins'])]\n",
    "# pz_params=[]\n",
    "f_allDf=fisher_calc(cosmo_params=cosmo_params,z_params=pz_params,galaxy_params=galaxy_params,kappa_class=kappa_classDf,\n",
    "                    clS=cl_LDf,z_bins_kwargs=z_bins_kwargsDf,priors=priors,AI_params=AI_params,mag_params=mag_params)"
   ]
  },
  {
   "cell_type": "code",
   "execution_count": null,
   "metadata": {
    "collapsed": true
   },
   "outputs": [],
   "source": [
    "pz_params=['pz_b_s_{j}'.format(j=i) for i in np.arange(z_bins_kwargsDf0['zs_bins']['n_bins'])]\n",
    "# pz_params+=['pz_b_l_{j}'.format(j=i) for i in np.arange(z_bins_kwargsD0['n_lens_bins'])]\n",
    "galaxy_params=['g_b_s_1{j}'.format(j=i) for i in np.arange(z_bins_kwargsDf0['zs_bins']['n_bins'])]\n",
    "galaxy_params+=['g_b_l_1{j}'.format(j=i) for i in np.arange(z_bins_kwargsDf0['n_lensD_bins'])]\n",
    "AI_params=['AI_{j}'.format(j=i) for i in np.arange(z_bins_kwargsDf0['zs_bins']['n_bins'])]\n",
    "mag_params=['mag_fact_s_{j}'.format(j=i) for i in np.arange(z_bins_kwargsDf0['zs_bins']['n_bins'])]\n",
    "mag_params+=['mag_fact_l_{j}'.format(j=i) for i in np.arange(z_bins_kwargsDf0['n_lensD_bins'])]\n",
    "# pz_params=[]\n",
    "f_allDf0=fisher_calc(cosmo_params=cosmo_params,z_params=pz_params,galaxy_params=galaxy_params,AI_params=AI_params,\n",
    "                           kappa_class=kappa_classDf0,clS=cl_LDf0,z_bins_kwargs=z_bins_kwargsDf0,priors=priors,mag_params=mag_params)"
   ]
  },
  {
   "cell_type": "raw",
   "metadata": {},
   "source": [
    "pz_params=['pz_b_s_{j}'.format(j=i) for i in np.arange(z_bins_kwargsDF['zs_bins']['n_bins'])]\n",
    "pz_params+=['pz_b_l_{j}'.format(j=i) for i in np.arange(z_bins_kwargsDF['n_lens_bins'])]\n",
    "galaxy_params=['g_b_s_1{j}'.format(j=i) for i in np.arange(z_bins_kwargsDF['zs_bins']['n_bins'])]\n",
    "galaxy_params+=['g_b_l_1{j}'.format(j=i) for i in np.arange(z_bins_kwargsDF['n_lens_bins']+z_bins_kwargsDF['n_lensD_bins'])]\n",
    "# pz_params=[]\n",
    "%time f_allDF=fisher_calc(cosmo_params=cosmo_params,z_params=pz_params,galaxy_params=galaxy_params,kappa_class=kappa_classDF,clS=cl_LDF,z_bins_kwargs=z_bins_kwargsDF,priors=priors)"
   ]
  },
  {
   "cell_type": "code",
   "execution_count": null,
   "metadata": {
    "collapsed": true
   },
   "outputs": [],
   "source": [
    "np.nan_to_num(cl_LDf0['cov']/cl_LD0['cov']).max()"
   ]
  },
  {
   "cell_type": "code",
   "execution_count": null,
   "metadata": {
    "collapsed": true
   },
   "outputs": [],
   "source": [
    "cl_LD0['cl_b']@np.linalg.inv(cl_LD0['cov'])@cl_LD0['cl_b']/(cl_LD['cl_b']@np.linalg.inv(cl_LD['cov'])@cl_LD['cl_b'])"
   ]
  },
  {
   "cell_type": "code",
   "execution_count": null,
   "metadata": {
    "collapsed": true
   },
   "outputs": [],
   "source": [
    "f_allD0['cov_p_inv'][0,0]/f_allD['cov_p_inv'][0,0]"
   ]
  },
  {
   "cell_type": "code",
   "execution_count": null,
   "metadata": {
    "collapsed": true
   },
   "outputs": [],
   "source": [
    "cov_inv_t=np.zeros_like(f_allD0['cov_p_inv'])\n",
    "i=0\n",
    "for p1 in f_allD0['params_all']:\n",
    "    ii=np.where(f_allD['params_all']==p1)\n",
    "    j=0\n",
    "    for p2 in f_allD0['params_all']:\n",
    "        jj=np.where(f_allD['params_all']==p2)\n",
    "        cov_inv_t[i,j]=f_allD['cov_p_inv'][ii,jj]\n",
    "        j+=1\n",
    "    i+=1"
   ]
  },
  {
   "cell_type": "code",
   "execution_count": null,
   "metadata": {
    "collapsed": true
   },
   "outputs": [],
   "source": [
    "cl_LD"
   ]
  },
  {
   "cell_type": "code",
   "execution_count": null,
   "metadata": {
    "collapsed": true
   },
   "outputs": [],
   "source": [
    "lb.size"
   ]
  },
  {
   "cell_type": "code",
   "execution_count": null,
   "metadata": {
    "collapsed": true
   },
   "outputs": [],
   "source": [
    "cl0GD['cov'][corr+corr]"
   ]
  },
  {
   "cell_type": "code",
   "execution_count": null,
   "metadata": {
    "collapsed": true
   },
   "outputs": [],
   "source": [
    "kappa_classD.z_bins['shear']['n_bins']"
   ]
  },
  {
   "cell_type": "code",
   "execution_count": null,
   "metadata": {
    "collapsed": true
   },
   "outputs": [],
   "source": [
    "kappa_classD.Ang_PS.dz"
   ]
  },
  {
   "cell_type": "code",
   "execution_count": null,
   "metadata": {
    "collapsed": true
   },
   "outputs": [],
   "source": [
    "kappa_classD.Ang_PS.clz['cls'][70]"
   ]
  },
  {
   "cell_type": "code",
   "execution_count": null,
   "metadata": {
    "collapsed": true
   },
   "outputs": [],
   "source": [
    "clt=kappa_classD.Ang_PS.clz['cls'].T*kappa_classD.z_bins['shear'][0]['kernel_int']**2"
   ]
  },
  {
   "cell_type": "code",
   "execution_count": null,
   "metadata": {
    "collapsed": true
   },
   "outputs": [],
   "source": [
    "clt@kappa_classD.Ang_PS.clz['dchi']"
   ]
  },
  {
   "cell_type": "code",
   "execution_count": null,
   "metadata": {
    "collapsed": true
   },
   "outputs": [],
   "source": [
    "ii=0\n",
    "plot(kappa_classD.z_bins['shear'][ii]['z'],kappa_classD.z_bins['shear'][ii]['pz'])\n",
    "ii=1\n",
    "plot(kappa_classD.z_bins['shear'][ii]['z'],kappa_classD.z_bins['shear'][ii]['pz'])"
   ]
  },
  {
   "cell_type": "code",
   "execution_count": null,
   "metadata": {
    "collapsed": true
   },
   "outputs": [],
   "source": [
    "corr=('shear','shear')\n",
    "bi=(0,0)\n",
    "gg=cl0GD['cl'][corr][bi].compute()#[corr]\n",
    "gg_cov=cl0GD['cov'][corr+corr][bi+bi].compute()\n",
    "array(list(gg.values())).max()"
   ]
  },
  {
   "cell_type": "code",
   "execution_count": null,
   "metadata": {
    "collapsed": true
   },
   "outputs": [],
   "source": [
    "import pyccl as ccl\n",
    "cosmo_params={'h': 0.6774,\n",
    " 'Omb': 0.0486,\n",
    " 'Omd': 0.2589,\n",
    " 's8': 0.8228,\n",
    " 'Om': 0.3075,\n",
    " 'As': 2.12e-09,\n",
    "  'Ase9': 2.12,\n",
    " 'mnu': 0.0,\n",
    " 'Omk': 0.0,\n",
    " 'tau': 0.06,\n",
    " 'ns': 0.965,\n",
    " 'w': -1,\n",
    " 'wa': 0,\n",
    " 'Oml': 0.6925}\n",
    "mnu=cosmo_h.m_nu*0\n",
    "cosmo_h=cosmo.clone(H0=100,m_nu=mnu,Ob0=cosmo_params['Omb'],Om0=cosmo_params['Om'])\n",
    "ccl_cosmo = ccl.Cosmology(Omega_c=cosmo_params['Omd'], Omega_b=cosmo_params['Omb'], \n",
    "                      h=cosmo_params['h'], A_s=cosmo_params['As'], n_s=cosmo_params['ns'],)#m_nu=[0,0,0.06])\n",
    "\n",
    "zs_bins=kappa_classS1.z_bins['shear']\n",
    "for i in np.arange(nbins):\n",
    "    for j in np.arange(i,nbins):\n",
    "        lens1 = ccl.ClTracerLensing(ccl_cosmo, False, z=zs_bins[i]['z'], n=zs_bins[i]['pz'])\n",
    "        lens2 = ccl.ClTracerLensing(ccl_cosmo, False, z=zs_bins[j]['z'], n=zs_bins[j]['pz'])\n",
    "        lens1ia = ccl.ClTracerLensing(ccl_cosmo, True, z=zs_bins[i]['z'], n=zs_bins[i]['pz'],bias_ia=[1],f_red=[1])\n",
    "        lens2ia = ccl.ClTracerLensing(ccl_cosmo, True, z=zs_bins[j]['z'], n=zs_bins[j]['pz'],bias_ia=[1],f_red=[1])\n",
    "        cls = ccl.angular_cl(ccl_cosmo, lens1, lens2, kappa_classD.l)\n",
    "        cl2=cl0GS1['cl'][corr][(i,j)].compute()\n",
    "#         cl2=gg[(i,j)]\n",
    "        plot(kappa_classD.l,cl2/cls,label=(i,j))\n",
    "        xscale('log')\n",
    "#         yscale('log')\n",
    "        xlabel(r'$\\ell$')\n",
    "        ylabel(r'$C_\\ell$')\n",
    "        hlines(1,2,1000)\n",
    "        legend()\n",
    "#         ylim(0.9,1.1)\n",
    "        yscale('log')\n",
    "    show()"
   ]
  },
  {
   "cell_type": "code",
   "execution_count": null,
   "metadata": {
    "collapsed": true
   },
   "outputs": [],
   "source": [
    "loglog(lb,gg[bi])\n",
    "loglog(lb,gg[(1,1)])\n",
    "loglog(lb,gg[(2,2)])\n",
    "loglog(lb,gg[(3,3)])"
   ]
  },
  {
   "cell_type": "code",
   "execution_count": null,
   "metadata": {
    "collapsed": true
   },
   "outputs": [],
   "source": [
    "gg"
   ]
  },
  {
   "cell_type": "code",
   "execution_count": null,
   "metadata": {
    "collapsed": true
   },
   "outputs": [],
   "source": [
    "# plot(f_allD['model_deriv']['pz_b_s_1'])\n",
    "plot(np.tile(lb,66),cl_LD['cl_b'],'bo')\n",
    "yscale('log')"
   ]
  },
  {
   "cell_type": "code",
   "execution_count": null,
   "metadata": {
    "collapsed": true
   },
   "outputs": [],
   "source": [
    "c20=np.linalg.inv(f_allD0['cov_p_inv'][:4,:4])\n",
    "c2=np.linalg.inv(f_allD['cov_p_inv'][:4,:4])\n",
    "c3=np.linalg.inv(cov_inv_t)\n",
    "1./np.sqrt(np.linalg.det(c20)),1./np.sqrt(np.linalg.det(c2)),1./np.sqrt(np.linalg.det(c3[2:4,2:4]))"
   ]
  },
  {
   "cell_type": "code",
   "execution_count": null,
   "metadata": {
    "collapsed": true
   },
   "outputs": [],
   "source": [
    "cc=kappa_class.cov_utils\n",
    "corr_p=cc.corr_matrix(f_allD['cov_p'])\n",
    "pcolor(corr_p,vmin=-1,vmax=1,cmap='seismic')\n",
    "show()\n",
    "cc=kappa_class.cov_utils\n",
    "corr_p=cc.corr_matrix(f_allD0['cov_p'])\n",
    "pcolor(corr_p,vmin=-1,vmax=1,cmap='seismic')\n",
    "show()"
   ]
  },
  {
   "cell_type": "code",
   "execution_count": null,
   "metadata": {
    "collapsed": true
   },
   "outputs": [],
   "source": [
    "cov_inv_t/f_allD0['cov_p_inv']"
   ]
  },
  {
   "cell_type": "code",
   "execution_count": null,
   "metadata": {
    "collapsed": true
   },
   "outputs": [],
   "source": [
    "snD0=1./np.sqrt(np.linalg.det(f_allD0['cov_p'][2:4,2:4])*1)\n",
    "snDf0=1./np.sqrt(np.linalg.det(f_allDf0['cov_p'][2:4,2:4]))\n",
    "snDf=1./np.sqrt(np.linalg.det(f_allDf['cov_p'][2:4,2:4])*1)\n",
    "snD0,snDf0,snDf"
   ]
  },
  {
   "cell_type": "code",
   "execution_count": null,
   "metadata": {
    "collapsed": true
   },
   "outputs": [],
   "source": [
    "snD0=1./np.sqrt(np.linalg.det(f_allD0['cov_p'][2:4,2:4])*1)\n",
    "snDf0=1./np.sqrt(np.linalg.det(f_allDf0['cov_p'][2:4,2:4]))\n",
    "snDf=1./np.sqrt(np.linalg.det(f_allDf['cov_p'][2:4,2:4])*1)\n",
    "snD0,snDf0,snDf"
   ]
  },
  {
   "cell_type": "code",
   "execution_count": null,
   "metadata": {
    "collapsed": true
   },
   "outputs": [],
   "source": [
    "x=np.where(np.diag(f_allD['cov_p_inv'])<0)\n",
    "f_allD['params_all']"
   ]
  },
  {
   "cell_type": "code",
   "execution_count": null,
   "metadata": {
    "collapsed": true
   },
   "outputs": [],
   "source": [
    "z_bins_kwargsD['corrs']"
   ]
  },
  {
   "cell_type": "code",
   "execution_count": null,
   "metadata": {
    "collapsed": true
   },
   "outputs": [],
   "source": [
    "np.linalg.det(f_allD['cov']*1.e10)"
   ]
  },
  {
   "cell_type": "raw",
   "metadata": {},
   "source": [
    "from sympy.matrices import Matrix as sy_mat"
   ]
  },
  {
   "cell_type": "raw",
   "metadata": {},
   "source": [
    "ss=sy_mat(f_allD['cov'])"
   ]
  },
  {
   "cell_type": "code",
   "execution_count": null,
   "metadata": {
    "collapsed": true
   },
   "outputs": [],
   "source": [
    "cc=renorm_mat(f_allD['cov'])*f_allD['cov']\n",
    "cc_inv=np.linalg.inv(cc)"
   ]
  },
  {
   "cell_type": "code",
   "execution_count": null,
   "metadata": {
    "collapsed": true
   },
   "outputs": [],
   "source": [
    "l,u=scipy.linalg.lu(cc,permute_l=True)\n",
    "np.linalg.det(l),np.linalg.det(u)"
   ]
  },
  {
   "cell_type": "code",
   "execution_count": null,
   "metadata": {
    "collapsed": true
   },
   "outputs": [],
   "source": [
    "f=renorm_mat(f_allD['cov_inv'])\n",
    "l,u=scipy.linalg.lu(f_allD['cov_inv']*f,permute_l=True)\n",
    "l/=np.sqrt(f)\n",
    "u/=np.sqrt(f)\n",
    "x=f_allD['model_deriv']['AI_0']@l\n",
    "x2=u@f_allD['model_deriv']['AI_0']\n",
    "\n",
    "xx=l@u\n",
    "print(np.all(np.isclose(xx,f_allD['cov_inv'])))\n",
    "\n",
    "li=np.linalg.inv(l)\n",
    "ui=np.linalg.inv(u)\n",
    "xx2=ui@li\n",
    "print(np.all(np.isclose(xx2,f_allD['cov'])))\n",
    "\n",
    "uu=u@u\n",
    "ll=l@l\n",
    "print(np.all(np.isclose(uu,f_allD['cov_inv'])))"
   ]
  },
  {
   "cell_type": "code",
   "execution_count": null,
   "metadata": {
    "collapsed": true
   },
   "outputs": [],
   "source": [
    "f_allD['model_deriv']['AI_0']@f_allD['cov_inv']@f_allD['model_deriv']['AI_0']"
   ]
  },
  {
   "cell_type": "code",
   "execution_count": null,
   "metadata": {
    "collapsed": true
   },
   "outputs": [],
   "source": [
    "x@x2"
   ]
  },
  {
   "cell_type": "code",
   "execution_count": null,
   "metadata": {
    "collapsed": true,
    "scrolled": false
   },
   "outputs": [],
   "source": [
    "# plot(f_allD['model_deriv']['AI_0']/f_allD['model']['AI_0'][0])\n",
    "plot(f_allD['model_deriv']['AI_0']/np.sqrt(np.diag(f_allD['cov'])))\n",
    "plot(x*1.e0)\n",
    "plot(x2*1.e-4)\n",
    "# xscale('log')"
   ]
  },
  {
   "cell_type": "code",
   "execution_count": null,
   "metadata": {
    "collapsed": true
   },
   "outputs": [],
   "source": [
    "f_allD['model_deriv']['AI_0']@(f_allD['model_deriv']['AI_0']/np.diag(f_allD['cov']))"
   ]
  },
  {
   "cell_type": "code",
   "execution_count": null,
   "metadata": {
    "collapsed": true
   },
   "outputs": [],
   "source": [
    "cc=kappa_class.cov_utils\n",
    "corr_p=cc.corr_matrix(f_allDgg['cov'])\n",
    "pcolor(corr_p,vmin=-1,vmax=1,cmap='seismic')\n",
    "show()"
   ]
  },
  {
   "cell_type": "code",
   "execution_count": null,
   "metadata": {
    "collapsed": true
   },
   "outputs": [],
   "source": [
    "cosmo_h.comoving_transverse_distance"
   ]
  },
  {
   "cell_type": "code",
   "execution_count": null,
   "metadata": {
    "collapsed": true
   },
   "outputs": [],
   "source": [
    "snS1=1./np.sqrt(np.linalg.det(f_allS1['cov_p'][2:4,2:4]))\n",
    "sn=1./np.sqrt(np.linalg.det(f_all['cov_p'][2:4,2:4]))\n",
    "snD=1./np.sqrt(np.linalg.det(f_allD['cov_p'][2:4,2:4]))\n",
    "snDgg=1./np.sqrt(np.linalg.det(f_allDgg['cov_p'][2:4,2:4]))\n",
    "# snDF=1./np.sqrt(np.linalg.det(f_allDF['cov_p'][2:4,2:4]))\n",
    "snS1,sn,snD,snDgg"
   ]
  },
  {
   "cell_type": "code",
   "execution_count": null,
   "metadata": {
    "collapsed": true
   },
   "outputs": [],
   "source": [
    "snS1=1./np.sqrt(np.linalg.det(f_allS1['prior']['cov_p'][2:4,2:4]))\n",
    "sn=1./np.sqrt(np.linalg.det(f_all['prior']['cov_p'][2:4,2:4]))\n",
    "snD=1./np.sqrt(np.linalg.det(f_allD['prior']['cov_p'][2:4,2:4]))\n",
    "# snDF=1./np.sqrt(np.linalg.det(f_allDF['cov_p'][2:4,2:4]))\n",
    "snS1,sn,snD,#snDF"
   ]
  },
  {
   "cell_type": "code",
   "execution_count": null,
   "metadata": {
    "collapsed": true
   },
   "outputs": [],
   "source": [
    "snD0=1./np.sqrt(np.linalg.det(f_allD0['prior']['cov_p'][2:4,2:4])*1)\n",
    "snDf0=1./np.sqrt(np.linalg.det(f_allDf0['prior']['cov_p'][2:4,2:4]))\n",
    "snDf=1./np.sqrt(np.linalg.det(f_allDf['prior']['cov_p'][2:4,2:4])*1)\n",
    "snD0,snDf0,snDf"
   ]
  },
  {
   "cell_type": "code",
   "execution_count": null,
   "metadata": {
    "collapsed": true,
    "scrolled": true
   },
   "outputs": [],
   "source": [
    "2.2/f_all['error'][0]"
   ]
  },
  {
   "cell_type": "code",
   "execution_count": null,
   "metadata": {
    "collapsed": true
   },
   "outputs": [],
   "source": [
    "f_all['error'][0:4],f_allD['error'][0:4]"
   ]
  },
  {
   "cell_type": "code",
   "execution_count": null,
   "metadata": {
    "collapsed": true
   },
   "outputs": [],
   "source": [
    "f_all['prior']['error'][0],f_allD['prior']['error'][0],f_allDF['prior']['error'][0]"
   ]
  },
  {
   "cell_type": "code",
   "execution_count": null,
   "metadata": {
    "collapsed": true
   },
   "outputs": [],
   "source": [
    "f_all['error'][0]/f_allD['error'][0],f_allDF['error'][0]/f_allD['error'][0]"
   ]
  },
  {
   "cell_type": "code",
   "execution_count": null,
   "metadata": {
    "collapsed": true
   },
   "outputs": [],
   "source": [
    "f_all['cov_p_inv'][0,0]/f_allD['cov_p_inv'][0,0],f_allDF['cov_p_inv'][0,0]"
   ]
  },
  {
   "cell_type": "code",
   "execution_count": null,
   "metadata": {
    "collapsed": true
   },
   "outputs": [],
   "source": [
    "f_all['error'][0:4],f_allD['error'][0:4],f_allDF['error'][0:4]"
   ]
  },
  {
   "cell_type": "code",
   "execution_count": null,
   "metadata": {
    "collapsed": true
   },
   "outputs": [],
   "source": [
    "np.linalg.det(f_all['cov_p'][2:4,2:4])"
   ]
  },
  {
   "cell_type": "code",
   "execution_count": null,
   "metadata": {
    "collapsed": true
   },
   "outputs": [],
   "source": [
    "cc.corr_matrix(f_all['cov_p'][2:4,2:4])"
   ]
  },
  {
   "cell_type": "code",
   "execution_count": null,
   "metadata": {
    "collapsed": true
   },
   "outputs": [],
   "source": [
    "np.linalg.eig(f_all['cov_p'][2:4,2:4])"
   ]
  },
  {
   "cell_type": "code",
   "execution_count": null,
   "metadata": {
    "collapsed": true
   },
   "outputs": [],
   "source": [
    "f_all['cov_p'][2:4,2:4]"
   ]
  },
  {
   "cell_type": "code",
   "execution_count": null,
   "metadata": {
    "collapsed": true
   },
   "outputs": [],
   "source": [
    "f_all['params_all']"
   ]
  },
  {
   "cell_type": "code",
   "execution_count": null,
   "metadata": {
    "collapsed": true
   },
   "outputs": [],
   "source": [
    "cov_inv2=f_allD['prior']['cov_p_inv'][1:,1:]\n",
    "cov2=np.linalg.inv(cov_inv2)"
   ]
  },
  {
   "cell_type": "code",
   "execution_count": null,
   "metadata": {
    "collapsed": true
   },
   "outputs": [],
   "source": [
    "cc=kappa_class.cov_utils\n",
    "corr_p=cc.corr_matrix(f_allD0['prior']['cov_p'])\n",
    "pcolor(corr_p,vmin=-1,vmax=1,cmap='seismic')\n",
    "show()"
   ]
  },
  {
   "cell_type": "code",
   "execution_count": null,
   "metadata": {
    "collapsed": true
   },
   "outputs": [],
   "source": [
    "cc=kappa_class.cov_utils\n",
    "corr_p=cc.corr_matrix(f_allDF['prior']['cov_p'])\n",
    "pcolor(corr_p,vmin=-1,vmax=1,cmap='seismic')\n",
    "show()"
   ]
  },
  {
   "cell_type": "code",
   "execution_count": null,
   "metadata": {
    "collapsed": true
   },
   "outputs": [],
   "source": [
    "corr_p[0:4,0:4]"
   ]
  },
  {
   "cell_type": "code",
   "execution_count": null,
   "metadata": {
    "collapsed": true
   },
   "outputs": [],
   "source": []
  },
  {
   "cell_type": "code",
   "execution_count": null,
   "metadata": {
    "collapsed": true
   },
   "outputs": [],
   "source": []
  }
 ],
 "metadata": {
  "kernelspec": {
   "display_name": "py36",
   "language": "python",
   "name": "py36"
  },
  "language_info": {
   "codemirror_mode": {
    "name": "ipython",
    "version": 3
   },
   "file_extension": ".py",
   "mimetype": "text/x-python",
   "name": "python",
   "nbconvert_exporter": "python",
   "pygments_lexer": "ipython3",
   "version": "3.6.6"
  }
 },
 "nbformat": 4,
 "nbformat_minor": 2
}
