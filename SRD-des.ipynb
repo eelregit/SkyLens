{
 "cells": [
  {
   "cell_type": "code",
   "execution_count": 1,
   "metadata": {},
   "outputs": [],
   "source": [
    "import sys\n",
    "import pickle\n",
    "sys.path.insert(0,'./')\n",
    "import pyccl as ccl\n",
    "# from importlib import reload"
   ]
  },
  {
   "cell_type": "code",
   "execution_count": 2,
   "metadata": {},
   "outputs": [
    {
     "data": {
      "text/plain": [
       "2"
      ]
     },
     "execution_count": 2,
     "metadata": {},
     "output_type": "execute_result"
    }
   ],
   "source": [
    "x={1:1,0:0}\n",
    "1+ (x.get(1) or 0)"
   ]
  },
  {
   "cell_type": "code",
   "execution_count": 3,
   "metadata": {},
   "outputs": [],
   "source": [
    "from distributed import LocalCluster\n",
    "from dask.distributed import Client  # we already had this above\n",
    "#http://distributed.readthedocs.io/en/latest/_modules/distributed/worker.html\n",
    "LC=LocalCluster(n_workers=1,processes=False,memory_limit='25gb',threads_per_worker=10,memory_spill_fraction=.99,\n",
    "               memory_monitor_interval='2000ms')\n",
    "client=Client(LC)"
   ]
  },
  {
   "cell_type": "code",
   "execution_count": 4,
   "metadata": {},
   "outputs": [
    {
     "data": {
      "text/html": [
       "<table style=\"border: 2px solid white;\">\n",
       "<tr>\n",
       "<td style=\"vertical-align: top; border: 0px solid white\">\n",
       "<h3>Client</h3>\n",
       "<ul>\n",
       "  <li><b>Scheduler: </b>inproc://136.152.250.183/27316/1\n",
       "  <li><b>Dashboard: </b><a href='http://localhost:8787/status' target='_blank'>http://localhost:8787/status</a>\n",
       "</ul>\n",
       "</td>\n",
       "<td style=\"vertical-align: top; border: 0px solid white\">\n",
       "<h3>Cluster</h3>\n",
       "<ul>\n",
       "  <li><b>Workers: </b>1</li>\n",
       "  <li><b>Cores: </b>10</li>\n",
       "  <li><b>Memory: </b>25.00 GB</li>\n",
       "</ul>\n",
       "</td>\n",
       "</tr>\n",
       "</table>"
      ],
      "text/plain": [
       "<Client: scheduler='inproc://136.152.250.183/27316/1' processes=1 cores=10>"
      ]
     },
     "execution_count": 4,
     "metadata": {},
     "output_type": "execute_result"
    }
   ],
   "source": [
    "client"
   ]
  },
  {
   "cell_type": "code",
   "execution_count": 5,
   "metadata": {},
   "outputs": [],
   "source": [
    "from cov_3X2 import *\n",
    "from fisher import *"
   ]
  },
  {
   "cell_type": "code",
   "execution_count": 6,
   "metadata": {},
   "outputs": [],
   "source": [
    "#only for python3\n",
    "import importlib\n",
    "reload=importlib.reload"
   ]
  },
  {
   "cell_type": "markdown",
   "metadata": {},
   "source": [
    "# Lensing X Lensing Correlation function covariance"
   ]
  },
  {
   "cell_type": "markdown",
   "metadata": {},
   "source": [
    "## Multiple redshift bins (Tomography)"
   ]
  },
  {
   "cell_type": "code",
   "execution_count": 7,
   "metadata": {},
   "outputs": [],
   "source": [
    "import cov_utils\n",
    "reload(cov_utils)\n",
    "from cov_utils import *"
   ]
  },
  {
   "cell_type": "code",
   "execution_count": 8,
   "metadata": {},
   "outputs": [],
   "source": [
    "import cov_3X2\n",
    "reload(cov_3X2)\n",
    "from cov_3X2 import *\n",
    "from wigner_transform import *"
   ]
  },
  {
   "cell_type": "code",
   "execution_count": 9,
   "metadata": {},
   "outputs": [],
   "source": [
    "import hankel_transform\n",
    "from astropy.io import fits\n",
    "reload(hankel_transform)\n",
    "from hankel_transform import *\n"
   ]
  },
  {
   "cell_type": "raw",
   "metadata": {},
   "source": [
    "Omega_m : 0.2837\n",
    "Omega_v : 0.7163\n",
    "sigma_8 : 0.795431\n",
    "n_spec : 0.96859\n",
    "w0 : -1.0\n",
    "wa : 0.0\n",
    "omb : 0.062\n",
    "h0 : 0.8433"
   ]
  },
  {
   "cell_type": "code",
   "execution_count": 10,
   "metadata": {},
   "outputs": [
    {
     "data": {
      "text/plain": [
       "0.7971166462048332"
      ]
     },
     "execution_count": 10,
     "metadata": {},
     "output_type": "execute_result"
    }
   ],
   "source": [
    "cosmo_params={'h': 0.8433,\n",
    " 'Omb': 0.062,\n",
    " 'Omd': 0.2837-0.062,\n",
    " 's8': 0.795431,\n",
    " 'Om': 0.2837,\n",
    " 'As': 1.685e-09,\n",
    " 'mnu': 0.0,\n",
    " 'Omk': 0.0,\n",
    " 'tau': 0.06,\n",
    " 'ns': 0.96859,\n",
    " 'w': -1,\n",
    " 'wa': 0,\n",
    " 'Oml': 1.-0.2837}\n",
    "PS=Power_Spectra(cosmo_params=cosmo_params)\n",
    "k,pk,s8=PS.camb_pk(z=[0],cosmo_params=cosmo_params,return_s8=True)\n",
    "s8"
   ]
  },
  {
   "cell_type": "code",
   "execution_count": 11,
   "metadata": {},
   "outputs": [],
   "source": [
    "mnu=cosmo_h.m_nu*0\n",
    "cosmo=cosmo.clone(m_nu=mnu,Ob0=cosmo_params['Omb'],Om0=cosmo_params['Om'])\n",
    "cosmo_h=cosmo.clone(H0=100) #,m_nu=mnu,Ob0=cosmo_params['Omb'],Om0=cosmo_params['Om'])\n",
    "ccl_cosmo = ccl.Cosmology(Omega_c=cosmo_params['Omd'], Omega_b=cosmo_params['Omb'], \n",
    "                      h=cosmo_params['h'], A_s=cosmo_params['As'], n_s=cosmo_params['ns'],)#m_nu=[0,0,0.06])"
   ]
  },
  {
   "cell_type": "raw",
   "metadata": {},
   "source": [
    "cov_srd=np.genfromtxt('/home/deep/repos/DESC_SRD/cov/Y10_3x2pt_clusterN_clusterWL_cov',\n",
    "                      names=('i1,i2,l1,l2,z1,z2,z3,z4,G,NG'))"
   ]
  },
  {
   "cell_type": "code",
   "execution_count": 12,
   "metadata": {},
   "outputs": [],
   "source": [
    "cov_des=np.genfromtxt('/home/deep/repos/covariance_testing/data/DES-Y3//cosmolike_cov_Y3ish/cov_y3_mcal_emu_final.txt')\n",
    "covG_des=np.genfromtxt('/home/deep/repos/covariance_testing/data/DES-Y3/cosmolike_cov_Y3ish/cov_y3_mcal_emu_final.txt') \n",
    "# covNG_shear=np.genfromtxt('/home/deep/repos/DESC_SRD/cov/Y10_shear_shear_covNG',) \n",
    "\n",
    "l_min0=20\n",
    "l_max0=15000\n",
    "nl0=20\n",
    "l_bins=np.logspace(np.log10(l_min0),np.log10(l_max0),nl0+1)\n",
    "lb=0.5*(l_bins[1:]+l_bins[:-1])\n",
    "\n",
    "lb15=np.tile(lb,15)\n",
    "x=lb15<3000\n",
    "covG_shear=covG_des[:,2].reshape(900,900)[:400,:400] #10 X 2 X 20\n",
    "cov_shear=cov_des[:,2].reshape(900,900)[:400,:400]\n",
    "\n",
    "covG_ggl=covG_des[:,2].reshape(900,900)[400:800,400:800] #10 X 2 X 20\n",
    "cov_ggl=cov_des[:,2].reshape(900,900)[400:800,400:800]\n",
    "\n",
    "covG_gg=covG_des[:,2].reshape(900,900)[800:900,800:900] #10 X 2 X 20\n",
    "cov_gg=cov_des[:,2].reshape(900,900)[800:900,800:900]\n",
    "\n",
    "\n",
    "cov_des=cov_des[:,2].reshape(900,900)\n",
    "covG_des=covG_des[:,2].reshape(900,900)\n",
    "# covNG_shear=covNG_shear[x].T[x].T\n",
    "\n",
    "x=lb<3000\n",
    "lb=lb[x]\n",
    "l_bins=l_bins[:16]"
   ]
  },
  {
   "cell_type": "raw",
   "metadata": {},
   "source": [
    "https://github.com/LSSTDESC/Requirements/blob/pdf/master/LSST_DESC_SRD.pdf"
   ]
  },
  {
   "cell_type": "code",
   "execution_count": null,
   "metadata": {},
   "outputs": [],
   "source": []
  },
  {
   "cell_type": "code",
   "execution_count": 13,
   "metadata": {},
   "outputs": [],
   "source": [
    "#Setup lens redshift bins\n",
    "source_f='/home/deep/repos/covariance_testing/data/DES-Y3//cosmolike_cov_Y3ish/lens.nz'\n",
    "zmin=0\n",
    "zmax=3.5\n",
    "\n",
    "nl_bins=4  # Number of tomographic bins\n",
    "zl_bins=DES_lens_bins(fname=source_f)"
   ]
  },
  {
   "cell_type": "code",
   "execution_count": 14,
   "metadata": {},
   "outputs": [],
   "source": [
    "#Setup source redshift bins\n",
    "source_f='/home/deep/repos/covariance_testing/data/DES-Y3//cosmolike_cov_Y3ish/source.nz'\n",
    "zmin=0\n",
    "zmax=3.5\n",
    "\n",
    "nbins=4  # Number of tomographic bins\n",
    "zs_bins=DES_bins(fname=source_f)"
   ]
  },
  {
   "cell_type": "code",
   "execution_count": 15,
   "metadata": {},
   "outputs": [],
   "source": [
    "f_sky=5000./(4*np.pi/d2r**2)\n",
    "# f_sky=4182./(4*np.pi/d2r**2)"
   ]
  },
  {
   "cell_type": "code",
   "execution_count": 16,
   "metadata": {},
   "outputs": [
    {
     "data": {
      "text/plain": [
       "1.5230870989335428"
      ]
     },
     "execution_count": 16,
     "metadata": {},
     "output_type": "execute_result"
    }
   ],
   "source": [
    "f_sky*4*np.pi"
   ]
  },
  {
   "cell_type": "code",
   "execution_count": 17,
   "metadata": {},
   "outputs": [],
   "source": [
    "do_xi=True\n",
    "bin_xi=True\n",
    "do_cov=True\n",
    "bin_cl=False\n",
    "th_min=2.5/60\n",
    "th_max=250./60\n",
    "n_th_bins=20\n",
    "th_bins=np.logspace(np.log10(th_min),np.log10(th_max),n_th_bins+1)\n",
    "th=np.logspace(np.log10(th_min*0.98),np.log10(1),n_th_bins*30)\n",
    "th2=np.linspace(1,th_max*1.02,n_th_bins*30)\n",
    "# th2=np.logspace(np.log10(1),np.log10(th_max),60*6)\n",
    "th=np.unique(np.sort(np.append(th,th2)))\n",
    "thb=np.sqrt(th_bins[1:]*th_bins[:-1])"
   ]
  },
  {
   "cell_type": "code",
   "execution_count": 18,
   "metadata": {},
   "outputs": [],
   "source": [
    "#Hankel Transform setup\n",
    "l_max=4e4\n",
    "l_maxW=6e4\n",
    "l_min=2\n",
    "# l0=np.arange(l_min,l_maxW)   #np.arange(l_min,l_max)\n",
    "l0=np.logspace(np.log10(l_min),np.log10(l_maxW),6.e3)\n",
    "# l0=np.sort(np.append(l0,np.logspace(np.log10(l_maxW),np.log10(l_maxW*10),1.e3)))\n",
    "l0=np.unique(np.int32(l0))   #np.arange(l_min,l_max)\n",
    "# l0=np.unique(np.int32(np.logspace(np.log10(l_min),np.log10(l_maxW),4.e3)))   #np.arange(l_min,l_max)\n",
    "prune_theta=0\n",
    "HT_kwargs={'l_min':l_min,  'l_max':l_max,\n",
    "                        'theta_min':th_min*d2r*.9, 'theta_max':th_max*d2r,\n",
    "                        'n_zeros':40000, 'prune_theta':prune_theta, 'm1_m2':[(2,2),(2,-2),(0,2),(0,0)]}\n",
    "# %time HT=hankel_transform(**HT_kwargs)\n",
    "# HT_kwargs2={'l_min':l_min,  'l_max':l_max,\n",
    "#                         'theta_min':th_min*d2r*.9, 'theta_max':th_max*d2r,\n",
    "#                         'n_zeros':40000, 'prune_theta':2, 'm1_m2':[(2,-2)]}#,(2,-2)]}"
   ]
  },
  {
   "cell_type": "code",
   "execution_count": 19,
   "metadata": {},
   "outputs": [],
   "source": [
    "use_window=False\n",
    "do_sample_variance=True\n",
    "SSV_cov=False\n",
    "tidal_SSV=True\n",
    "sigma_gamma=0.3944/sqrt(2.)  #*2**0.25"
   ]
  },
  {
   "cell_type": "code",
   "execution_count": 27,
   "metadata": {},
   "outputs": [],
   "source": [
    "import cov_3X2\n",
    "reload(cov_3X2)\n",
    "from cov_3X2 import *"
   ]
  },
  {
   "cell_type": "code",
   "execution_count": 28,
   "metadata": {},
   "outputs": [],
   "source": [
    "power_spectra_kwargs={'cosmo':cosmo,'cosmo_params':cosmo_params,'pk_func':'camb_pk_too_many_z'}"
   ]
  },
  {
   "cell_type": "code",
   "execution_count": 29,
   "metadata": {},
   "outputs": [],
   "source": [
    "corr_ggl=('shear','galaxy')\n",
    "corr_gg=('galaxy','galaxy')\n",
    "corr_ll=('shear','shear')\n",
    "m1m2=(0,2)\n",
    "m1m2_gg=(0,0)\n",
    "\n",
    "corrs=[corr_ll,corr_ggl,corr_gg]"
   ]
  },
  {
   "cell_type": "raw",
   "metadata": {},
   "source": [
    "#use redshift bins from power spectrum part\n",
    "XI_H =cov_3X2(zs_bins=zs_bins,l=l0,do_cov=do_cov,bin_cl=bin_cl,zg_bins=zl_bins,l_bins=l_bins,\n",
    "              do_sample_variance=do_sample_variance,use_window=use_window,\n",
    "              power_spectra_kwargs=power_spectra_kwargs,corrs=[corr_ll,corr_ggl,corr_gg],\n",
    "               SSV_cov=SSV_cov,tidal_SSV_cov=tidal_SSV,do_xi=True,HT_kwargs=HT_kwargs,f_sky=f_sky,\n",
    "               bin_xi=bin_xi,theta_bins=th_bins,sigma_gamma=sigma_gamma)#ns=np.inf)\n",
    "\n",
    "# XI_H2 =cov_3X2(zs_bins=zs_bins,l=l0,do_cov=do_cov,bin_cl=bin_cl,zg_bins=None,l_bins=l_bins,do_sample_variance=do_sample_variance,use_window=use_window,\n",
    "#                SSV_cov=SSV_cov,tidal_SSV_cov=tidal_SSV,do_xi=True,HT_kwargs=HT_kwargs,f_sky=f_sky,HT=XI_H.HT,\n",
    "#                bin_xi=bin_xi,theta_bins=th_bins,sigma_gamma=sigma_gamma*np.sqrt(2))#ns=np.inf)"
   ]
  },
  {
   "cell_type": "raw",
   "metadata": {},
   "source": [
    "zl_bins['n_bins']=2\n",
    "zs_bins['n_bins']=2"
   ]
  },
  {
   "cell_type": "code",
   "execution_count": 30,
   "metadata": {},
   "outputs": [
    {
     "name": "stdout",
     "output_type": "stream",
     "text": [
      "CPU times: user 1.18 s, sys: 1.73 s, total: 2.91 s\n",
      "Wall time: 29.6 s\n"
     ]
    },
    {
     "name": "stderr",
     "output_type": "stream",
     "text": [
      "./cov_utils.py:68: RuntimeWarning: invalid value encountered in true_divide\n",
      "  Win0=2*jn(1,l_th)/l_th\n"
     ]
    }
   ],
   "source": [
    "#### Wigner Transform setup... Using high ell to test convergence\n",
    "WT_L_kwargs={'l': l0,'theta': th*d2r,'m1_m2':[(2,2),(2,-2),(0,2),(2,0),(0,0)]}\n",
    "%time WT_L=wigner_transform(**WT_L_kwargs)\n",
    "\n",
    "XI_W_L= cov_3X2(zs_bins=zs_bins,l=l0,do_cov=do_cov,bin_cl=bin_cl,l_bins=l_bins,zg_bins=zl_bins,\n",
    "                do_sample_variance=do_sample_variance,use_window=use_window,\n",
    "                power_spectra_kwargs=power_spectra_kwargs,corrs=corrs,\n",
    "               SSV_cov=SSV_cov,tidal_SSV_cov=tidal_SSV,do_xi=True,HT=WT_L,sigma_gamma=sigma_gamma,f_sky=f_sky,\n",
    "               bin_xi=bin_xi,theta_bins=th_bins)#ns=np.inf)"
   ]
  },
  {
   "cell_type": "raw",
   "metadata": {},
   "source": [
    "corr=('shear','shear')"
   ]
  },
  {
   "cell_type": "code",
   "execution_count": 31,
   "metadata": {},
   "outputs": [],
   "source": [
    "gg_i=[(i,i) for i in np.arange(zl_bins['n_bins'])]\n",
    "XI_W_L.stack_indxs[corr_gg]=gg_i\n",
    "# XI_W_L.stack_indxs"
   ]
  },
  {
   "cell_type": "code",
   "execution_count": 32,
   "metadata": {},
   "outputs": [
    {
     "name": "stdout",
     "output_type": "stream",
     "text": [
      "Note: redshifts have been re-sorted (earliest first)\n",
      "cl dict done\n",
      "CPU times: user 9.4 s, sys: 273 ms, total: 9.67 s\n",
      "Wall time: 4.97 s\n"
     ]
    }
   ],
   "source": [
    "# %time xiHG=XI_H.xi_tomo()\n",
    "# %time xiHG2=XI_H2.xi_tomo()\n",
    "%time xiWG_L=XI_W_L.xi_tomo()"
   ]
  },
  {
   "cell_type": "raw",
   "metadata": {},
   "source": [
    "%time clG=XI_W_L.cl_tomo()\n",
    "%time clH=XI_H.cl_tomo()"
   ]
  },
  {
   "cell_type": "raw",
   "metadata": {},
   "source": [
    "%time xiH=xiHG['stack'].compute()\n",
    "#%time xiH2=xiHG2['stack'].compute()\n",
    "# %time xiH2=xiHG2['stack'].compute()"
   ]
  },
  {
   "cell_type": "raw",
   "metadata": {},
   "source": [
    "crash"
   ]
  },
  {
   "cell_type": "code",
   "execution_count": 33,
   "metadata": {
    "scrolled": false
   },
   "outputs": [
    {
     "data": {
      "text/plain": [
       "<matplotlib.legend.Legend at 0x7f031ca52f60>"
      ]
     },
     "execution_count": 33,
     "metadata": {},
     "output_type": "execute_result"
    },
    {
     "name": "stderr",
     "output_type": "stream",
     "text": [
      "/usr/lib/python3.7/site-packages/matplotlib/font_manager.py:1331: UserWarning: findfont: Font family ['serif'] not found. Falling back to DejaVu Sans\n",
      "  (prop.get_family(), self.defaultFamily[fontext]))\n",
      "01:43:41 DEBUG:findfont: Matching :family=DejaVu Sans:style=normal:variant=normal:weight=normal:stretch=normal:size=35.0 to DejaVu Sans ('/usr/lib/python3.7/site-packages/matplotlib/mpl-data/fonts/ttf/DejaVuSans.ttf') with score of 0.050000\n",
      "01:43:41 DEBUG:findfont: Matching :family=STIXGeneral:style=normal:variant=normal:weight=normal:stretch=normal:size=35.0 to STIXGeneral ('/usr/lib/python3.7/site-packages/matplotlib/mpl-data/fonts/ttf/STIXGeneral.ttf') with score of 0.050000\n",
      "01:43:41 DEBUG:findfont: Matching :family=STIXGeneral:style=italic:variant=normal:weight=normal:stretch=normal:size=35.0 to STIXGeneral ('/usr/lib/python3.7/site-packages/matplotlib/mpl-data/fonts/ttf/STIXGeneralItalic.ttf') with score of 0.050000\n",
      "01:43:41 DEBUG:findfont: Matching :family=STIXGeneral:style=normal:variant=normal:weight=bold:stretch=normal:size=35.0 to STIXGeneral ('/usr/lib/python3.7/site-packages/matplotlib/mpl-data/fonts/ttf/STIXGeneralBol.ttf') with score of 0.000000\n",
      "01:43:41 DEBUG:findfont: Matching :family=STIXNonUnicode:style=normal:variant=normal:weight=normal:stretch=normal:size=35.0 to STIXNonUnicode ('/usr/lib/python3.7/site-packages/matplotlib/mpl-data/fonts/ttf/STIXNonUni.ttf') with score of 0.050000\n",
      "01:43:41 DEBUG:findfont: Matching :family=STIXNonUnicode:style=italic:variant=normal:weight=normal:stretch=normal:size=35.0 to STIXNonUnicode ('/usr/lib/python3.7/site-packages/matplotlib/mpl-data/fonts/ttf/STIXNonUniIta.ttf') with score of 0.050000\n",
      "01:43:41 DEBUG:findfont: Matching :family=STIXNonUnicode:style=normal:variant=normal:weight=bold:stretch=normal:size=35.0 to STIXNonUnicode ('/usr/lib/python3.7/site-packages/matplotlib/mpl-data/fonts/ttf/STIXNonUniBol.ttf') with score of 0.000000\n",
      "01:43:41 DEBUG:findfont: Matching :family=STIXSizeOneSym:style=normal:variant=normal:weight=normal:stretch=normal:size=35.0 to STIXSizeOneSym ('/usr/lib/python3.7/site-packages/matplotlib/mpl-data/fonts/ttf/STIXSizOneSymReg.ttf') with score of 0.050000\n",
      "01:43:41 DEBUG:findfont: Matching :family=STIXSizeTwoSym:style=normal:variant=normal:weight=normal:stretch=normal:size=35.0 to STIXSizeTwoSym ('/usr/lib/python3.7/site-packages/matplotlib/mpl-data/fonts/ttf/STIXSizTwoSymReg.ttf') with score of 0.050000\n",
      "01:43:41 DEBUG:findfont: Matching :family=STIXSizeThreeSym:style=normal:variant=normal:weight=normal:stretch=normal:size=35.0 to STIXSizeThreeSym ('/usr/lib/python3.7/site-packages/matplotlib/mpl-data/fonts/ttf/STIXSizThreeSymReg.ttf') with score of 0.050000\n",
      "01:43:41 DEBUG:findfont: Matching :family=STIXSizeFourSym:style=normal:variant=normal:weight=normal:stretch=normal:size=35.0 to STIXSizeFourSym ('/usr/lib/python3.7/site-packages/matplotlib/mpl-data/fonts/ttf/STIXSizFourSymReg.ttf') with score of 0.050000\n",
      "01:43:41 DEBUG:findfont: Matching :family=STIXSizeFiveSym:style=normal:variant=normal:weight=normal:stretch=normal:size=35.0 to STIXSizeFiveSym ('/usr/lib/python3.7/site-packages/matplotlib/mpl-data/fonts/ttf/STIXSizFiveSymReg.ttf') with score of 0.050000\n",
      "01:43:41 DEBUG:findfont: Matching :family=cmsy10:style=normal:variant=normal:weight=normal:stretch=normal:size=35.0 to cmsy10 ('/usr/lib/python3.7/site-packages/matplotlib/mpl-data/fonts/ttf/cmsy10.ttf') with score of 0.050000\n",
      "01:43:41 DEBUG:findfont: Matching :family=cmr10:style=normal:variant=normal:weight=normal:stretch=normal:size=35.0 to cmr10 ('/usr/lib/python3.7/site-packages/matplotlib/mpl-data/fonts/ttf/cmr10.ttf') with score of 0.050000\n",
      "01:43:41 DEBUG:findfont: Matching :family=cmtt10:style=normal:variant=normal:weight=normal:stretch=normal:size=35.0 to cmtt10 ('/usr/lib/python3.7/site-packages/matplotlib/mpl-data/fonts/ttf/cmtt10.ttf') with score of 0.050000\n",
      "01:43:41 DEBUG:findfont: Matching :family=cmmi10:style=normal:variant=normal:weight=normal:stretch=normal:size=35.0 to cmmi10 ('/usr/lib/python3.7/site-packages/matplotlib/mpl-data/fonts/ttf/cmmi10.ttf') with score of 0.050000\n",
      "01:43:41 DEBUG:findfont: Matching :family=cmb10:style=normal:variant=normal:weight=normal:stretch=normal:size=35.0 to cmb10 ('/usr/lib/python3.7/site-packages/matplotlib/mpl-data/fonts/ttf/cmb10.ttf') with score of 0.050000\n",
      "01:43:41 DEBUG:findfont: Matching :family=cmss10:style=normal:variant=normal:weight=normal:stretch=normal:size=35.0 to cmss10 ('/usr/lib/python3.7/site-packages/matplotlib/mpl-data/fonts/ttf/cmss10.ttf') with score of 0.050000\n",
      "01:43:41 DEBUG:findfont: Matching :family=cmex10:style=normal:variant=normal:weight=normal:stretch=normal:size=35.0 to cmex10 ('/usr/lib/python3.7/site-packages/matplotlib/mpl-data/fonts/ttf/cmex10.ttf') with score of 0.050000\n",
      "01:43:41 DEBUG:findfont: Matching :family=DejaVu Sans:style=italic:variant=normal:weight=normal:stretch=normal:size=35.0 to DejaVu Sans ('/usr/lib/python3.7/site-packages/matplotlib/mpl-data/fonts/ttf/DejaVuSans-Oblique.ttf') with score of 0.150000\n",
      "01:43:41 DEBUG:findfont: Matching :family=DejaVu Sans:style=normal:variant=normal:weight=bold:stretch=normal:size=35.0 to DejaVu Sans ('/usr/lib/python3.7/site-packages/matplotlib/mpl-data/fonts/ttf/DejaVuSans-Bold.ttf') with score of 0.000000\n",
      "01:43:41 DEBUG:findfont: Matching :family=DejaVu Sans Mono:style=normal:variant=normal:weight=normal:stretch=normal:size=35.0 to DejaVu Sans Mono ('/usr/lib/python3.7/site-packages/matplotlib/mpl-data/fonts/ttf/DejaVuSansMono.ttf') with score of 0.050000\n",
      "01:43:41 DEBUG:findfont: Matching :family=DejaVu Sans Display:style=normal:variant=normal:weight=normal:stretch=normal:size=35.0 to DejaVu Sans Display ('/usr/lib/python3.7/site-packages/matplotlib/mpl-data/fonts/ttf/DejaVuSansDisplay.ttf') with score of 0.050000\n"
     ]
    },
    {
     "data": {
      "image/png": "[encoded data removed]",
      "text/plain": [
       "<Figure size 1500x1125 with 1 Axes>"
      ]
     },
     "metadata": {},
     "output_type": "display_data"
    }
   ],
   "source": [
    "# plot(thb,np.diag(cov_shear/xiH['cov'])[:20])\n",
    "# plot(thb,xiH['xi'][:20])\n",
    "ii=0\n",
    "i=ii*20\n",
    "j=i+20\n",
    "sn=np.diag(cov_shear)[0]/thb**2*thb[0]**2\n",
    "cc=xiWG_L['cov'][('shear','shear','shear','shear')][(2,2,2,2)][(ii,ii,ii,ii)].compute()\n",
    "\n",
    "plot(thb,np.diag(cc['final']),'bo')\n",
    "# plot(thb,np.diag(xiW_L['cov'])[i:j],'bo')\n",
    "plot(thb,np.diag(cov_shear)[i:j],label='Cosmolike')\n",
    "# plot(thb,np.diag(cov_shear)[0]/thb**2*thb[0]**2)\n",
    "xscale('log')\n",
    "yscale('log')\n",
    "xlabel(r'$\\theta$')\n",
    "ylabel(r'$\\delta \\xi_+$')\n",
    "legend()"
   ]
  },
  {
   "cell_type": "code",
   "execution_count": null,
   "metadata": {},
   "outputs": [],
   "source": []
  },
  {
   "cell_type": "code",
   "execution_count": null,
   "metadata": {},
   "outputs": [],
   "source": [
    "crash"
   ]
  },
  {
   "cell_type": "code",
   "execution_count": null,
   "metadata": {},
   "outputs": [],
   "source": [
    "%time xiW_L=xiWG_L['stack'].compute()"
   ]
  },
  {
   "cell_type": "raw",
   "metadata": {},
   "source": [
    "crash\n",
    "fname='cosmolike_covariance_test_wigner_3x2.pkl'\n",
    "with open(fname,\"wb\") as of:\n",
    "    pickle.dump(xiW_L,of)"
   ]
  },
  {
   "cell_type": "raw",
   "metadata": {},
   "source": [
    "crash\n",
    "fname='cosmolike_covariance_test_wigner_3x2.pkl'\n",
    "with open(fname,\"rb\") as of:\n",
    "    xiW_L=pickle.load(of)"
   ]
  },
  {
   "cell_type": "code",
   "execution_count": null,
   "metadata": {},
   "outputs": [],
   "source": [
    "f=1\n",
    "# cov_xiH_inv=np.linalg.inv(xiH['cov']*f)\n",
    "# print (np.sqrt(np.dot(xiH['xi'],np.dot(cov_xiH_inv,xiH['xi']))))\n",
    "\n",
    "cov_xiWL_inv=np.linalg.inv(xiW_L['cov']*f)\n",
    "print (np.sqrt(np.dot(xiW_L['xi'],np.dot(cov_xiWL_inv,xiW_L['xi']))))"
   ]
  },
  {
   "cell_type": "raw",
   "metadata": {},
   "source": [
    "cc=XI_H.cov_utils\n",
    "corrH=cc.corr_matrix(xiH['cov'])\n",
    "pcolor(corrH,vmin=-1,vmax=1,cmap='seismic')\n",
    "# xlabel(r'$\\theta$ (degrees)')\n",
    "# ylabel(r'$\\theta$ (degrees)')\n",
    "title('Hankel')\n",
    "# hlines(60,0,120)\n",
    "# vlines(60,0,120)\n",
    "xticks([])\n",
    "yticks([])\n",
    "\n",
    "\n",
    "colorbar()\n",
    "show()\n",
    "# corrL=cc.corr_matrix(clL['cov'])\n",
    "# pcolor(corrL,vmin=-1,vmax=1,cmap='seismic')"
   ]
  },
  {
   "cell_type": "code",
   "execution_count": null,
   "metadata": {},
   "outputs": [],
   "source": [
    "cc=XI_W_L.cov_utils\n",
    "corrW=cc.corr_matrix(xiW_L['cov'])\n",
    "pcolor(corrW,vmin=-1,vmax=1,cmap='seismic')\n",
    "# xlabel(r'$\\theta$ (degrees)')\n",
    "# ylabel(r'$\\theta$ (degrees)')\n",
    "title('Wigner')\n",
    "# hlines(60,0,120)\n",
    "# vlines(60,0,120)\n",
    "xticks([])\n",
    "yticks([])\n",
    "\n",
    "\n",
    "colorbar()\n",
    "show()\n",
    "# corrL=cc.corr_matrix(clL['cov'])\n",
    "# pcolor(corrL,vmin=-1,vmax=1,cmap='seismic')"
   ]
  },
  {
   "cell_type": "code",
   "execution_count": null,
   "metadata": {},
   "outputs": [],
   "source": [
    "cc=XI_W_L.cov_utils\n",
    "corr_shear2=cc.corr_matrix(covG_ggl)\n",
    "pcolor(corr_shear2,vmin=-1,vmax=1,cmap='seismic')\n",
    "# xlabel(r'$\\theta$ (degrees)')\n",
    "# ylabel(r'$\\theta$ (degrees)')\n",
    "title('Cosmolike')\n",
    "# hlines(60,0,120)\n",
    "# vlines(60,0,120)\n",
    "xticks([])\n",
    "yticks([])\n",
    "\n",
    "\n",
    "colorbar()\n",
    "show()\n",
    "# corrL=cc.corr_matrix(clL['cov'])\n",
    "# pcolor(corrL,vmin=-1,vmax=1,cmap='seismic')"
   ]
  },
  {
   "cell_type": "code",
   "execution_count": null,
   "metadata": {},
   "outputs": [],
   "source": [
    "cc=XI_W_L.cov_utils\n",
    "corr_shear=cc.corr_matrix(covG_des)\n",
    "pcolor(corr_shear,vmin=-1,vmax=1,cmap='seismic')\n",
    "# xlabel(r'$\\theta$ (degrees)')\n",
    "# ylabel(r'$\\theta$ (degrees)')\n",
    "title('Cosmolike')\n",
    "# hlines(60,0,120)\n",
    "# vlines(60,0,120)\n",
    "xticks([])\n",
    "yticks([])\n",
    "\n",
    "\n",
    "colorbar()\n",
    "show()\n",
    "# corrL=cc.corr_matrix(clL['cov'])\n",
    "# pcolor(corrL,vmin=-1,vmax=1,cmap='seismic')"
   ]
  },
  {
   "cell_type": "code",
   "execution_count": null,
   "metadata": {},
   "outputs": [],
   "source": [
    "pcolor(corr_shear-corrW,vmin=-1,vmax=1,cmap='seismic')\n",
    "colorbar()\n",
    "xticks([])\n",
    "yticks([])"
   ]
  },
  {
   "cell_type": "code",
   "execution_count": null,
   "metadata": {},
   "outputs": [],
   "source": [
    "pcolor(cov_des/xiW_L['cov']-1,cmap='seismic',vmin=-1,vmax=1,)\n",
    "colorbar()"
   ]
  },
  {
   "cell_type": "code",
   "execution_count": null,
   "metadata": {},
   "outputs": [],
   "source": [
    "plot(thb,XI_W_L.xi_bin_utils[(2,2)]['norm']/thb**2)\n",
    "xscale('log')\n",
    "# yscale('log')"
   ]
  },
  {
   "cell_type": "code",
   "execution_count": null,
   "metadata": {},
   "outputs": [],
   "source": [
    "cov_test=np.genfromtxt('shape_noise_cov.dat')\n",
    "cov_test2=np.genfromtxt('shape_noise_diag.dat')"
   ]
  },
  {
   "cell_type": "code",
   "execution_count": null,
   "metadata": {},
   "outputs": [],
   "source": [
    "# plot(thb,np.diag(cov_shear/xiH['cov'])[:20])\n",
    "# plot(thb,xiH['xi'][:20])\n",
    "ii=0\n",
    "i=ii*20\n",
    "j=i+20\n",
    "sn=np.diag(cov_shear)[0]/thb**2*thb[0]**2\n",
    "# NN=np.diag(xiH['cov'])[i:j]-sn/2.\n",
    "# plot(thb,np.diag(xiH['cov'])[i:j],'--')\n",
    "# plot(thb,np.diag(xiH2['cov'])[i:j],'--')\n",
    "plot(thb,np.diag(xiW_L['cov'])[i:j],'bo')\n",
    "# plot(thb,np.diag(cov_test),':')\n",
    "# plot(thb,cov_test2,':')\n",
    "# plot(thb,sn,':')\n",
    "plot(thb,np.diag(cov_shear)[i:j])\n",
    "# plot(thb,np.diag(cov_shear)[0]/thb**2*thb[0]**2)\n",
    "xscale('log')\n",
    "yscale('log')"
   ]
  },
  {
   "cell_type": "code",
   "execution_count": null,
   "metadata": {},
   "outputs": [],
   "source": [
    "# plot(thb,np.diag(cov_shear/xiH['cov'])[:20])\n",
    "# plot(thb,xiH['xi'][:20])\n",
    "ii=1\n",
    "i=ii*20\n",
    "j=i+20\n",
    "\n",
    "cc=xiWG_L['cov'][('galaxy','galaxy','galaxy','galaxy')][(0,0,0,0)][(ii,ii,ii,ii)].compute()\n",
    "\n",
    "sn=np.diag(cov_gg)[0]/thb**2*thb[0]**2\n",
    "# plot(thb,np.diag(xiW_L['cov'])[i:j],'bo')\n",
    "plot(thb,np.diag(cc['final']),'bo')\n",
    "# plot(thb,sn,':')\n",
    "plot(thb,np.diag(cov_gg)[i:j])\n",
    "# plot(thb,np.diag(cov_shear)[0]/thb**2*thb[0]**2)\n",
    "xscale('log')\n",
    "yscale('log')"
   ]
  },
  {
   "cell_type": "code",
   "execution_count": null,
   "metadata": {},
   "outputs": [],
   "source": [
    "# plot(thb,np.diag(cov_shear/xiH['cov'])[:20])\n",
    "# plot(thb,xiH['xi'][:20])\n",
    "ii=4\n",
    "i=ii*20\n",
    "ii2=0\n",
    "j=ii2*20\n",
    "\n",
    "cc2=cov_ggl[i:i+20,j:j+20]\n",
    "sn=np.diag(cc2)[0]/thb**2*thb[0]**2\n",
    "\n",
    "cc=xiWG_L['cov'][('shear','galaxy','shear','galaxy')][(2,0,2,0)][(0,0,0,1)].compute()\n",
    "# cc=xiWG_L['cov'][('galaxy','shear','galaxy','shear')][(0,2,0,2)][(0,0,0,0)].compute()\n",
    "\n",
    "# plot(thb,np.diag(xiW_L['cov'])[i:j],'bo')\n",
    "plot(thb,np.diag(cc['final']),'bo')\n",
    "# plot(thb,sn,':')\n",
    "plot(thb,np.diag(cc2))\n",
    "# plot(thb,np.diag(cov_shear)[0]/thb**2*thb[0]**2)\n",
    "xscale('log')\n",
    "yscale('log')"
   ]
  },
  {
   "cell_type": "code",
   "execution_count": null,
   "metadata": {},
   "outputs": [],
   "source": [
    "XI_W_L.galaxy_utils.nz_F"
   ]
  },
  {
   "cell_type": "code",
   "execution_count": null,
   "metadata": {},
   "outputs": [],
   "source": [
    "corrs_t=('shear','galaxy','shear','galaxy')\n",
    "indxs_t=(0,0,0,0)\n",
    "XI_W_L.cov_utils.get_SN(XI_W_L.SN,corrs_t,indxs_t)"
   ]
  },
  {
   "cell_type": "code",
   "execution_count": null,
   "metadata": {},
   "outputs": [],
   "source": [
    "# plot(thb,np.diag(cov_shear/xiH['cov'])[:20])\n",
    "# plot(thb,xiH['xi'][:20])\n",
    "ii=0\n",
    "i=ii*20\n",
    "ii2=1\n",
    "j=ii2*20\n",
    "\n",
    "cc2=cov_ggl[i:i+20,j:j+20]\n",
    "sn=np.diag(cc2)[0]/thb**2*thb[0]**2\n",
    "\n",
    "cc=xiWG_L['cov'][('shear','galaxy','shear','galaxy')][(2,0,2,0)][(0,0,1,0)].compute()\n",
    "cc3=xiWG_L['cov'][('shear','galaxy','shear','galaxy')][(2,0,2,0)][(0,0,0,0)].compute()\n",
    "# cc=xiWG_L['cov'][('galaxy','shear','galaxy','shear')][(0,2,0,2)][(0,0,0,0)].compute()\n",
    "\n",
    "# plot(thb,np.diag(xiW_L['cov'])[i:j],'bo')\n",
    "plot(thb,np.diag(cc['final']),'bo')\n",
    "# plot(thb,sn,':')\n",
    "plot(thb,np.diag(cc2))\n",
    "plot(thb,np.diag(cc3['final']),'ro')\n",
    "# plot(thb,np.diag(cov_shear)[0]/thb**2*thb[0]**2)\n",
    "xscale('log')\n",
    "yscale('log')"
   ]
  },
  {
   "cell_type": "code",
   "execution_count": null,
   "metadata": {},
   "outputs": [],
   "source": [
    "plot(thb,np.diag(xiW_L['cov'])[i:j]-cov_test2,'--')\n",
    "plot(thb,np.diag(xiH['cov'])[i:j]-cov_test2,'--')\n",
    "plot(thb,(np.diag(cov_shear)[i:j]-cov_test2)*1.2)\n",
    "\n",
    "xscale('log')\n",
    "yscale('log')"
   ]
  },
  {
   "cell_type": "code",
   "execution_count": null,
   "metadata": {},
   "outputs": [],
   "source": [
    "plot(thb,np.diag(xiW_L['cov'])[i:j],':')\n",
    "plot(thb,np.diag(cov_test),':')\n",
    "plot(thb,cov_test2,':')\n",
    "\n",
    "xscale('log')\n",
    "yscale('log')"
   ]
  },
  {
   "cell_type": "code",
   "execution_count": null,
   "metadata": {},
   "outputs": [],
   "source": [
    "plot(thb,np.diag(cov_shear/xiH['cov'])[:20])\n",
    "plot(thb,np.diag(cov_shear/xiW_L['cov'])[:20])\n",
    "xscale('log')\n",
    "# yscale('log')"
   ]
  },
  {
   "cell_type": "code",
   "execution_count": null,
   "metadata": {},
   "outputs": [],
   "source": [
    "d2r/60"
   ]
  },
  {
   "cell_type": "code",
   "execution_count": null,
   "metadata": {},
   "outputs": [],
   "source": [
    "XI_H.z_bins['shear'][0]['nz']"
   ]
  },
  {
   "cell_type": "code",
   "execution_count": null,
   "metadata": {},
   "outputs": [],
   "source": [
    "XI_H.SN"
   ]
  },
  {
   "cell_type": "code",
   "execution_count": null,
   "metadata": {},
   "outputs": [],
   "source": [
    "ns=XI_H.z_bins['shear'][0]['nz']*3600/d2r**2\n",
    "sigma_gamma**2/ns"
   ]
  },
  {
   "cell_type": "code",
   "execution_count": null,
   "metadata": {},
   "outputs": [],
   "source": [
    "XI_H.z_bins['shear'][0]['SN']"
   ]
  },
  {
   "cell_type": "code",
   "execution_count": null,
   "metadata": {},
   "outputs": [],
   "source": [
    "plot(np.diag(xiW_L['cov']/xiH['cov'])[:20])\n",
    "ylim(0.9,1.1)"
   ]
  },
  {
   "cell_type": "code",
   "execution_count": null,
   "metadata": {},
   "outputs": [],
   "source": [
    "crash"
   ]
  },
  {
   "cell_type": "code",
   "execution_count": null,
   "metadata": {},
   "outputs": [],
   "source": []
  },
  {
   "cell_type": "code",
   "execution_count": null,
   "metadata": {},
   "outputs": [],
   "source": [
    "for i in np.arange(nbins):\n",
    "    for j in np.arange(i,nbins):\n",
    "        lens1 = ccl.ClTracerLensing(ccl_cosmo, False, z=zs_bins[i]['z'], n=zs_bins[i]['pz'])\n",
    "        lens2 = ccl.ClTracerLensing(ccl_cosmo, False, z=zs_bins[j]['z'], n=zs_bins[j]['pz'])\n",
    "        cls = ccl.angular_cl(ccl_cosmo, lens1, lens2, CL.l)\n",
    "        plot(CL.l,clG['cl']['cl'][corr][(i,j)].compute()/cls,label=(i,j))\n",
    "        xscale('log')\n",
    "#         yscale('log')\n",
    "        xlabel(r'$\\ell$')\n",
    "        ylabel(r'$C_\\ell$')\n",
    "        hlines(1,2,1000)\n",
    "        legend()\n",
    "        ylim(0.9,1.1)\n",
    "    show()"
   ]
  },
  {
   "cell_type": "code",
   "execution_count": null,
   "metadata": {},
   "outputs": [],
   "source": [
    "m1m2=(2,2)\n",
    "cp=['r','b','g','y']#sns.color_pallete()\n",
    "for i in np.arange(nbins):\n",
    "    for j in np.arange(i,nbins):\n",
    "        lens1 = ccl.ClTracerLensing(ccl_cosmo, False, z=zs_bins[i]['z'], n=zs_bins[i]['pz'])\n",
    "        lens2 = ccl.ClTracerLensing(ccl_cosmo, False, z=zs_bins[j]['z'], n=zs_bins[j]['pz'])\n",
    "        cls = ccl.angular_cl(ccl_cosmo, lens1, lens2, CL.l)\n",
    "        cls_b=CL.binning.bin_1d(xi=cls,bin_utils=CL.cl_bin_utils)\n",
    "        plot(lb,cls_b,color=cp[j],ls=':')\n",
    "        \n",
    "    xscale('log')\n",
    "    yscale('log')\n",
    "    xlabel(r'$\\ell$')\n",
    "    ylabel(r'$C_\\ell$')\n",
    "    legend(ncol=3)\n",
    "    show()"
   ]
  },
  {
   "cell_type": "code",
   "execution_count": null,
   "metadata": {},
   "outputs": [],
   "source": [
    "def func(x):\n",
    "    return x+1"
   ]
  },
  {
   "cell_type": "code",
   "execution_count": null,
   "metadata": {},
   "outputs": [],
   "source": [
    "y=dask.delayed(func)(10)"
   ]
  },
  {
   "cell_type": "code",
   "execution_count": null,
   "metadata": {},
   "outputs": [],
   "source": [
    "y.compute()"
   ]
  },
  {
   "cell_type": "code",
   "execution_count": null,
   "metadata": {},
   "outputs": [],
   "source": [
    "y"
   ]
  },
  {
   "cell_type": "code",
   "execution_count": null,
   "metadata": {},
   "outputs": [],
   "source": []
  }
 ],
 "metadata": {
  "hide_input": false,
  "kernelspec": {
   "display_name": "Python 3",
   "language": "python",
   "name": "python3"
  },
  "language_info": {
   "codemirror_mode": {
    "name": "ipython",
    "version": 3
   },
   "file_extension": ".py",
   "mimetype": "text/x-python",
   "name": "python",
   "nbconvert_exporter": "python",
   "pygments_lexer": "ipython3",
   "version": "3.7.0"
  }
 },
 "nbformat": 4,
 "nbformat_minor": 2
}
