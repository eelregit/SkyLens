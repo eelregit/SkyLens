{
 "cells": [
  {
   "cell_type": "code",
   "execution_count": 1,
   "metadata": {},
   "outputs": [],
   "source": [
    "from wigner_functions import *\n",
    "import h5py\n",
    "from scipy.sparse import *\n",
    "import zarr"
   ]
  },
  {
   "cell_type": "code",
   "execution_count": 2,
   "metadata": {},
   "outputs": [],
   "source": [
    "import time"
   ]
  },
  {
   "cell_type": "code",
   "execution_count": 3,
   "metadata": {},
   "outputs": [],
   "source": [
    "lmax=200 #1e4\n",
    "wlmax=5e1\n",
    "lmax=np.int(lmax+1)\n",
    "wlmax=np.int(wlmax+1)"
   ]
  },
  {
   "cell_type": "code",
   "execution_count": 4,
   "metadata": {},
   "outputs": [],
   "source": [
    "ncpu=8\n",
    "l_step=10 #not used with dask\n",
    "w_l=np.arange(wlmax+1)\n",
    "l=np.arange(lmax+1)"
   ]
  },
  {
   "cell_type": "code",
   "execution_count": 5,
   "metadata": {},
   "outputs": [
    {
     "name": "stdout",
     "output_type": "stream",
     "text": [
      "Object `LocalCluster` not found.\n"
     ]
    }
   ],
   "source": [
    "??LocalCluster"
   ]
  },
  {
   "cell_type": "raw",
   "metadata": {},
   "source": [
    "import dask\n",
    "import dask.array as da\n",
    "from dask import delayed\n",
    "\n",
    "from distributed import LocalCluster\n",
    "from dask.distributed import Client  # we already had this above\n",
    "#http://distributed.readthedocs.io/en/latest/_modules/distributed/worker.html\n",
    "LC=LocalCluster(n_workers=1,processes=False,memory_limit='10gb',threads_per_worker=8,memory_spill_fraction=.99,\n",
    "               memory_monitor_interval='2000ms',scheduler_port=12234,diagnostics_port=8800)#dashboard_address='localhost:8787')\n",
    "client=Client(LC,asynchronous=False)"
   ]
  },
  {
   "cell_type": "raw",
   "metadata": {},
   "source": [
    "client"
   ]
  },
  {
   "cell_type": "raw",
   "metadata": {},
   "source": [
    "dask.config.set(scheduler='synchronous')  # overwrite default with single-threaded scheduler\n"
   ]
  },
  {
   "cell_type": "code",
   "execution_count": 6,
   "metadata": {},
   "outputs": [],
   "source": [
    "def wigner_3j_asym(j_1,j_2,j_3,m_1,m_2,m_3): #assume j1,j2>>j3.... wiki\n",
    "    sj=(j_1+j_2+1)\n",
    "    th=np.arccos((m_1-m_2)/sj)\n",
    "    wd=wigner_d(m_3,j_2-j_1,np.atleast_1d(th),j_3)[0,0]\n",
    "    print(wd)\n",
    "    return ((-1)**(j_2+m_2))*wd/np.sqrt(sj)"
   ]
  },
  {
   "cell_type": "code",
   "execution_count": 7,
   "metadata": {},
   "outputs": [],
   "source": [
    "def wigner_3j_asym_H(j_1,j_2,j_3,m_1,m_2,m_3): #j1+j2+j3>>1, m1=m2=m3=0.. Hivon\n",
    "    wj=2*(j1*j2)**2\n",
    "    wj+=2*(j2*j3)**2\n",
    "    wj+=2*(j1*j3)**2\n",
    "    wj-=j1**4+j2**4+j3**4\n",
    "    wj=wj**(-0.5)\n",
    "    wj*=2./np.pi\n",
    "    return np.sqrt(wj)*(-1)**((j_1+j_2+j_3)/2)\n",
    "\n",
    "def wigner_3j_asym_H2(j_1,j_2,j_3,m_1,m_2,m_3): #j1+j2+j3>>1, m1=m2=m3=0.. Hivon\n",
    "    J=j_1+j_2+j_3\n",
    "    logwj=log_factorial(J/2)\n",
    "    logwj-=log_factorial(J/2-j_1)\n",
    "    logwj-=log_factorial(J/2-j_2)\n",
    "    logwj-=log_factorial(J/2-j_3)\n",
    "    logwj-=0.5*log_factorial(J+1)\n",
    "    logwj+=0.5*log_factorial(J-2*j_1)\n",
    "    logwj+=0.5*log_factorial(J-2*j_2)\n",
    "    logwj+=0.5*log_factorial(J-2*j_3)\n",
    "    return (-1)**(J/2)*np.exp(logwj)"
   ]
  },
  {
   "cell_type": "code",
   "execution_count": 8,
   "metadata": {},
   "outputs": [],
   "source": [
    "def wig3j_map(m1,m2,m3,j1,j2,j3,asym_fact=np.inf):\n",
    "#     n1=len(l)\n",
    "#     n2=len(l)\n",
    "#     n3=len(j3)\n",
    "\n",
    "#     c=np.array(list(Comb(l,l,j3)))\n",
    "# #     print(c.shape)\n",
    "#     j_max=np.amax(l.max()+l.max()+l.max()+1)\n",
    "#     _calc_factlist(j_max)\n",
    "#     d_mat=client.gather(client.map(partial(wigner_3j_3, m_1, m_2, m_3),c))\n",
    "#     d_mat=np.array(d_mat).reshape(n1,n2,n3)\n",
    "    print('w3j_map doing ',np.atleast_1d(j3)[0])\n",
    "    xx=Wigner3j_parallel( m1, m2, m3,np.atleast_1d(j1), np.atleast_1d(j2) ,np.atleast_1d(j3),ncpu=1,\n",
    "                             asym_fact=asym_fact)\n",
    "\n",
    "    return xx\n",
    "\n",
    "\n",
    "# dst=client.map(wig3j_map,w_l)"
   ]
  },
  {
   "cell_type": "code",
   "execution_count": 9,
   "metadata": {},
   "outputs": [],
   "source": [
    "def Wigner3j_parallel2( m_1, m_2, m_3,j_1, j_2, j_3,ncpu=None,asym_fact=np.inf):\n",
    "    if ncpu is None:\n",
    "        ncpu=cpu_count()-2\n",
    "    p=Pool(ncpu)\n",
    "\n",
    "    j_max=np.amax(j_1.max()+j_2.max()+j_3.max()+1)\n",
    "#     _calc_factlist(j_max)\n",
    "\n",
    "    n1=len(j_1)\n",
    "    n2=len(j_2)\n",
    "    n3=len(j_3)\n",
    "\n",
    "    c=np.array(np.meshgrid(j_1,j_2,j_3,indexing='ij')).T.reshape(-1,3) #only needed to put cuts below. Otherwise Comb is better\n",
    "\n",
    "    x=c[:,0]+c[:,1]-c[:,2]>=0\n",
    "    x*=c[:,0]-c[:,1]+c[:,2]>=0\n",
    "    x*=-c[:,0]+c[:,1]+c[:,2]>=0\n",
    "    \n",
    "    x*=abs(m_1) <= c[:,0]\n",
    "    x*=abs(m_2) <= c[:,1]\n",
    "    x*=abs(m_3) <= c[:,2]\n",
    "    \n",
    "    if m_1==0 and m_2==0 and m_3==0:\n",
    "        x*=(c[:,0]+c[:,1]+c[:,2])%2==0\n",
    "\n",
    "    c=c[x]\n",
    "    \n",
    "    \n",
    "    d_mat=p.map(partial(wigner_3j_3,asym_fact, m_1, m_2, m_3),c,chunksize=100)\n",
    "    p.close()\n",
    "    \n",
    "    dd=np.zeros((n1,n2,n3))\n",
    "    indx1=np.searchsorted(j_1,c[:,0])\n",
    "    indx2=np.searchsorted(j_2,c[:,1])\n",
    "    indx3=np.searchsorted(j_3,c[:,2])\n",
    "    dd[indx1,indx2,indx3]=d_mat\n",
    "    \n",
    "    return dd"
   ]
  },
  {
   "cell_type": "raw",
   "metadata": {},
   "source": [
    "j1=25\n",
    "j2=25\n",
    "j3=2\n",
    "m1=0\n",
    "m2=0\n",
    "m3=0\n",
    "%time x=np.float32(wigner_3j(j1,j2,j3,m1,m2,m3))#.evalf()\n",
    "%time x2=wigner_3j_000(j1,j2,j3,m1,m2,m3)\n",
    "# %time x3=wigner_3j_asym(j1,j2,j3,m1,m2,m3)\n",
    "%time x4=wigner_3j_3(np.inf,m1,m2,m3,[j1,j2,j3])\n",
    "\n",
    "x,np.real(x2),x4,x/x2,np.isclose(x,x2)"
   ]
  },
  {
   "cell_type": "raw",
   "metadata": {},
   "source": [
    "c=np.array(list(Comb(l,l,w_l)))\n",
    "x=c[:,0]<=c[:,1]+c[:,2]\n",
    "x*=c[:,1]<=c[:,0]+c[:,2]\n",
    "x*=c[:,2]<=c[:,1]+c[:,0]\n",
    "x.mean()"
   ]
  },
  {
   "cell_type": "raw",
   "metadata": {},
   "source": [
    "%time c=np.array(np.meshgrid(l,l,w_l,indexing='ij')).T.reshape(-1,3)\n",
    "# x=c[:,0]<=c[:,1]+c[:,2]\n",
    "# x*=c[:,1]<=c[:,0]+c[:,2]\n",
    "# x*=c[:,2]<=c[:,1]+c[:,0]\n",
    "# p=Pool(ncpu)\n",
    "# dd=np.zeros((100,100,30))\n",
    "# %time d_mat=p.map(partial(wigner_3j_3, m1, m2, m3),c[x],chunksize=100) #reshape(100,100,30)\n",
    "\n",
    "# indx1=np.searchsorted(l,c[x][:,0])\n",
    "# indx2=np.searchsorted(l,c[x][:,1])\n",
    "# indx3=np.searchsorted(w_l,c[x][:,2])\n",
    "# dd[indx1,indx2,indx3]=d_mat\n",
    "\n",
    "%time c=Comb(l,l,w_l)\n",
    "%time d_mat0=np.array(p.map(partial(wigner_3j_3, m1, m2, m3),c,chunksize=10)) #reshape(100,100,30)\n",
    "d_mat0=d_mat0.reshape(100,100,30)\n",
    "\n",
    "x=np.isclose(dd,d_mat0)\n",
    "x.mean()"
   ]
  },
  {
   "cell_type": "raw",
   "metadata": {},
   "source": [
    "yy=Wigner3j_parallel( m1, m2, m3,l, l, np.atleast_1d(w_l[1]),)"
   ]
  },
  {
   "cell_type": "code",
   "execution_count": 10,
   "metadata": {},
   "outputs": [],
   "source": [
    "asym_fact=100"
   ]
  },
  {
   "cell_type": "code",
   "execution_count": 11,
   "metadata": {},
   "outputs": [],
   "source": [
    "# if lmax>500:\n",
    "#     fname='temp/dask_wig3j_big_{i}.zarr'\n",
    "# else:\n",
    "#     fname='temp/dask_wig3j_test_{i}.zarr'\n",
    "fname='temp/dask_wig3j_l{lmax}_w{wlmax}_{i}.zarr'\n",
    "if asym_fact is not np.inf:\n",
    "    fname='temp/dask_wig3j_l{lmax}_w{wlmax}_{i}_asym'+str(asym_fact)+'.zarr'"
   ]
  },
  {
   "cell_type": "code",
   "execution_count": 12,
   "metadata": {},
   "outputs": [
    {
     "data": {
      "text/plain": [
       "('temp/dask_wig3j_l{lmax}_w{wlmax}_{i}_asym100.zarr', 201, 51)"
      ]
     },
     "execution_count": 12,
     "metadata": {},
     "output_type": "execute_result"
    }
   ],
   "source": [
    "fname,lmax,wlmax"
   ]
  },
  {
   "cell_type": "raw",
   "metadata": {},
   "source": [
    "%time d=np.array(wig3j_map(m1,m2,m3,l,l,10))\n",
    "%time d2=Wigner3j_parallel2( m1, m2, m3,np.atleast_1d(l), np.atleast_1d(l) ,np.atleast_1d(10),ncpu=2)[:,:,0]\n",
    "x=np.isclose(d,d2)\n",
    "x.mean()"
   ]
  },
  {
   "cell_type": "raw",
   "metadata": {},
   "source": [
    "d2[~x],np.where(~x)"
   ]
  },
  {
   "cell_type": "raw",
   "metadata": {},
   "source": [
    "step=1#np.int(min(5e3,lmax/10))\n",
    "lb=np.arange(lmax+1,step=step)\n",
    "lb[-1]=lmax\n",
    "# lb=np.sort(np.unique(np.append([0,100,lmax],np.arange(100,lmax,step))))\n",
    "lb,lb.shape"
   ]
  },
  {
   "cell_type": "code",
   "execution_count": 13,
   "metadata": {},
   "outputs": [
    {
     "data": {
      "text/plain": [
       "array([ 0, 10, 20, 30, 40, 50])"
      ]
     },
     "execution_count": 13,
     "metadata": {},
     "output_type": "execute_result"
    }
   ],
   "source": [
    "j3_b=np.arange(0,50+1,step=10)\n",
    "j3_b[-1]=50\n",
    "j3_b"
   ]
  },
  {
   "cell_type": "raw",
   "metadata": {},
   "source": [
    "m1=0\n",
    "m2=0\n",
    "m3=0\n",
    "# arrs=[da.from_delayed(delayed(wig3j_map)(m1,m2,m3,l,l,np.atleast_1d(j3),asym_fact),shape=(lmax,lmax),dtype='float32') for j3 in w_l]\n",
    "\n",
    "arrs=[da.hstack([da.vstack([da.from_delayed(delayed(wig3j_map)(m1,m2,m3,l[lb[i]:lb[i+1]],l[lb[k]:lb[k+1]],\n",
    "                                                               np.atleast_1d(j3),asym_fact),\n",
    "                    shape=(lb[i+1]-lb[i],lb[k+1]-lb[k]),dtype='float32') \n",
    "                    for i in np.arange(len(lb)-1)]) \n",
    "                     for k in np.arange(len(lb)-1)])\n",
    "                      for j3 in w_l]\n",
    "arrs2=da.stack(arrs)\n",
    "arrs2=arrs2.rechunk(chunks=(1,1000,1000))\n",
    "\n",
    "%time arrs2.to_zarr(fname.format(i=0,lmax=lmax,wlmax=wlmax), overwrite=True)"
   ]
  },
  {
   "cell_type": "raw",
   "metadata": {},
   "source": [
    "m1=-2\n",
    "m2=2\n",
    "m3=0\n",
    "\n",
    "\n",
    "arr={}\n",
    "for i in np.arange(len(lb)-1):\n",
    "    arr[i]={}\n",
    "    for k in np.arange(len(lb)-1):\n",
    "        arr[i][k]={}\n",
    "        for j3 in w_l:\n",
    "            arr[i][k][j3]=da.from_delayed(delayed(wig3j_map)(m1,m2,m3,l[lb[i]:lb[i+1]],l[lb[k]:lb[k+1]],\n",
    "                                                               np.atleast_1d(j3),asym_fact),\n",
    "                    shape=(lb[i+1]-lb[i],lb[k+1]-lb[k]),dtype='float32')\n",
    "            arr[i][k][j3]=client.compute(arr[i][k][j3])"
   ]
  },
  {
   "cell_type": "code",
   "execution_count": 14,
   "metadata": {},
   "outputs": [],
   "source": [
    "def A_J(j,j2,j3,m2,m3):\n",
    "    out=j**2-(j2-j3)**2\n",
    "    out*=(j2+j3+1)**2-j**2\n",
    "    out*=j**2-(m2+m3)**2\n",
    "    x=out<0\n",
    "    out[x]=0\n",
    "    return out**0.5\n",
    "\n",
    "def B_J(j,j2,j3,m2,m3):\n",
    "    out=(m2+m3)*(j2*(j2+1)-j3*(j3+1)+j*0)-(m2-m3)*j*(j+1)\n",
    "    out*=2*j+1\n",
    "    return out\n",
    "\n",
    "def X_Np1(j,j2,j3,m2,m3): #X_n+1\n",
    "    return j*A_J(j+1,j2,j3,m2,m3)\n",
    "\n",
    "def X_N(j,j2,j3,m2,m3): #X_n+1\n",
    "    return B_J(j,j2,j3,m2,m3)\n",
    "\n",
    "def X_Nm1(j,j2,j3,m2,m3): #X_n+1\n",
    "    return (j+1)*A_J(j,j2,j3,m2,m3)\n",
    "\n",
    "\n",
    "def wig3j_recur_vec(j1b,j2b,m1,m2,m3,j3_outmax,step,jmax,z1=None):\n",
    "#     assert m3==-m1-m2\n",
    "    j1=np.arange(j1b,j1b+step)\n",
    "    j1=j1[j1<=lmax]\n",
    "    j2=np.arange(j2b,j2b+step)\n",
    "    j2=j2[j2<=lmax]\n",
    "\n",
    "    j1=j1.reshape(len(j1),1,1)\n",
    "    j2=j2.reshape(1,len(j2),1)\n",
    "\n",
    "    j3_min=np.absolute(j1-j2)\n",
    "    j3_max=(j1+j2+1) #j3_max is j1+j2, +1 for 0 indexing\n",
    "    \n",
    "    nj3=np.amax(j3_max)\n",
    "    \n",
    "    j3=np.arange(nj3).reshape(1,1,nj3)\n",
    "    print(j3_outmax)\n",
    "    if j3_outmax is None:\n",
    "        j3_outmax=np.amax(j3)\n",
    "\n",
    "    wig_out=np.zeros((j1.shape[0],j2.shape[1],max(j3_outmax,np.amax(j3_max))),dtype='float32')\n",
    "    \n",
    "    for i1 in np.arange(j1.shape[0]):\n",
    "        for i2 in np.arange(j2.shape[1]):\n",
    "            wig_out[i1,i2,j3_min[i1,i2,0]]=np.float32(wigner_3j_2(j1[i1,0,0],j2[0,i2,0],j3_min[i1,i2,0],m1,m2,m3))\n",
    "            wig_out[i1,i2,j3_min[i1,i2,0]+1]=np.float32(wigner_3j_2(j1[i1,0,0],j2[0,i2,0],j3_min[i1,i2,0]+1,m1,m2,m3))\n",
    "\n",
    "    x_Np1=X_Np1(j3,j2,j1,m1,m2)*-1 #j==j3\n",
    "    x_N=X_N(j3,j2,j1,m1,m2) #j==j3\n",
    "    x_Nm1=X_Nm1(j3,j2,j1,m1,m2) #j==j3\n",
    "    \n",
    "    for i in np.arange(nj3-1):        \n",
    "        x=j3[0,0,i+1]>j3_min+1\n",
    "        x*=j3[0,0,i+1]<j3_max\n",
    "        x=x[:,:,0]\n",
    "        x*=x_Np1[:,:,i]!=0\n",
    "        A=(x_Nm1[:,:,i]*wig_out[:,:,j3[0,0,i-1]]+x_N[:,:,i]*wig_out[:,:,j3[0,0,i]])/x_Np1[:,:,i]\n",
    "        A[~x]=0\n",
    "#         A=np.nan_to_num(A)\n",
    "        wig_out[:,:,j3[0,0,i+1]]+=A\n",
    "#         print(wig_out)\n",
    "\n",
    "    #norm??\n",
    "#     wig_out=np.nan_to_num(wig_out)\n",
    "    \n",
    "    wig_out=wig_out[:,:,:j3_outmax]\n",
    "    if z1 is not None:\n",
    "        z1[np.amin(j1):np.amax(j1)+1,np.amin(j2):np.amax(j2)+1,:]+=wig_out\n",
    "        z1[np.amin(j2):np.amax(j2)+1,np.amin(j1):np.amax(j1)+1,:]+=wig_out.transpose(1,0,2)\n",
    "    else:\n",
    "        return wig_out"
   ]
  },
  {
   "cell_type": "raw",
   "metadata": {},
   "source": [
    "j1=np.atleast_1d([4]).reshape(1,1,1)\n",
    "j2=np.atleast_1d([5]).reshape(1,1,1)\n",
    "m1=2\n",
    "m2=-2\n",
    "m3=0\n",
    "j3_outmax=15\n",
    "%time oo=wig3j_recur_vec(j1,j2,m1,m2,m3,j3_outmax)\n",
    "%time oo4=wig3j_recur(j1[0,0,0],j2[0,0,0],m1,m2,m3,j3_outmax=j3_outmax)\n",
    "# %time oo5=wig3j_recur(j1[1,0,0],j2[0,1,0],m1,m2,m3,j3_outmax=j3_outmax)\n",
    "# %time oo45=wig3j_recur(j1[1,0,0],j2[0,0,0],m1,m2,m3,j3_outmax=j3_outmax)"
   ]
  },
  {
   "cell_type": "code",
   "execution_count": 15,
   "metadata": {},
   "outputs": [],
   "source": [
    "from multiprocessing import Pool\n",
    "def wig3j_recur_1d(j2s,m1,m2,m3,j3_outmax,j1):\n",
    "    out_ij={}\n",
    "    x=j2s<=j1\n",
    "    for j2 in j2s[x]:\n",
    "#         print('doing ',j1,j2)\n",
    "        out_ij[j2]=wig3j_recur(j1,j2,m1,m2,m3,j3_outmax=j3_outmax)\n",
    "#         print('done ',j1,j2)\n",
    "    return out_ij\n",
    "\n",
    "def wig3j_recur_2d(j1b,j2b,m1,m2,m3,j3_outmax,step,z1_out):\n",
    "    try:\n",
    "        out= np.zeros((min(step,lmax-j1b),min(step,lmax-j2b),j3_outmax))\n",
    "    except Exception as err:\n",
    "        print(err, step,lmax, j1b,j2b)\n",
    "        crash \n",
    "    j1s=np.arange(j1b,min(lmax,j1b+step))\n",
    "    j2s=np.arange(j2b,min(lmax,j2b+step))\n",
    "    out_ij={}\n",
    "    t1=time.time()\n",
    "    funct=partial(wig3j_recur_1d, j2s,m1,m2,m3,j3_outmax)\n",
    "    pool=Pool(10)\n",
    "    out_ij=pool.map(funct,j1s)\n",
    "    pool.close()\n",
    "#     for j1 in np.arange(len(j1s)):\n",
    "# #         out_ij[j1]=client.submit(wig3j_recur_1d,j1s[j1],j2s,m1,m2,m3,j3_outmax)\n",
    "#         out_ij[j1]=wig3j_recur_1d(j1s[j1],j2s,m1,m2,m3,j3_outmax)\n",
    "        \n",
    "    t2=time.time()\n",
    "    for j1 in np.arange(len(j1s)):\n",
    "        for j2 in np.arange(len(j2s)):\n",
    "            if j2s[j2]<=j1s[j1]:\n",
    "                out[j1,j2,:]=out_ij[j1][j2s[j2]]\n",
    "#                 z1[j1s[j1],j2s[j2],:]=out_ij[j1][j2s[j2]][0,0,:]\n",
    "#                 z1[j2s[j2],j1s[j1],:]=out_ij[j1][j2s[j2]][0,0,:]\n",
    "\n",
    "    t3=time.time()\n",
    "    z1[j1b:j1b+step,j2b:j2b+step,:]+=out\n",
    "    \n",
    "    for j1 in np.arange(len(j1s)):\n",
    "        for j2 in np.arange(len(j2s)):\n",
    "            if j2s[j2]==j1s[j1]:\n",
    "                out[j1,j2,:]*=0\n",
    "                \n",
    "    z1[j2b:j2b+step,j1b:j1b+step,:]+=out.transpose(1,0,2)\n",
    "#     z1[j1b:j1b+step,j2b:j2b+step,:]=out\n",
    "#     print('done all ',j1b,j2b,t3-t2)\n",
    "#     except Exception as err:\n",
    "#         print(err,out.shape,j1s.shape,j2s.shape,j1b,j2b,j2,j2s[j2],step,lmax)\n",
    "    return 0\n"
   ]
  },
  {
   "cell_type": "code",
   "execution_count": 16,
   "metadata": {},
   "outputs": [],
   "source": [
    "step=10\n",
    "lb=np.arange(lmax,step=step)\n",
    "lb[-1]=lmax"
   ]
  },
  {
   "cell_type": "code",
   "execution_count": 17,
   "metadata": {},
   "outputs": [
    {
     "name": "stderr",
     "output_type": "stream",
     "text": [
      "/usr/lib/python3.7/site-packages/zarr/creation.py:197: UserWarning: ignoring keyword argument 'overwrite'\n",
      "  warn('ignoring keyword argument %r' % k)\n"
     ]
    }
   ],
   "source": [
    "z2 = zarr.open(fname.format(i=str(2)+'j3m2',lmax=lmax,wlmax=wlmax), mode='w', shape=(lmax,lmax,wlmax),\n",
    "...                chunks=(lmax/10, lmax/10,wlmax/10),\n",
    "               dtype='float32',overwrite=True)"
   ]
  },
  {
   "cell_type": "code",
   "execution_count": 18,
   "metadata": {},
   "outputs": [
    {
     "data": {
      "text/plain": [
       "(201, 201, 51)"
      ]
     },
     "execution_count": 18,
     "metadata": {},
     "output_type": "execute_result"
    }
   ],
   "source": [
    "z2."
   ]
  },
  {
   "cell_type": "code",
   "execution_count": 19,
   "metadata": {},
   "outputs": [],
   "source": [
    "z1 = zarr.open(fname.format(i=str(2)+'j3m',lmax=lmax,wlmax=wlmax), mode='w', shape=(lmax,lmax,wlmax),\n",
    "...                chunks=(lmax/10, lmax/10,wlmax/10),\n",
    "               dtype='float32',overwrite=True)"
   ]
  },
  {
   "cell_type": "raw",
   "metadata": {},
   "source": [
    "client.restart()"
   ]
  },
  {
   "cell_type": "code",
   "execution_count": 21,
   "metadata": {},
   "outputs": [],
   "source": [
    "m1=2\n",
    "m2=-2\n",
    "m3=0\n",
    "\n"
   ]
  },
  {
   "cell_type": "code",
   "execution_count": 31,
   "metadata": {},
   "outputs": [
    {
     "name": "stdout",
     "output_type": "stream",
     "text": [
      "CPU times: user 9.54 ms, sys: 59.5 ms, total: 69 ms\n",
      "Wall time: 175 ms\n"
     ]
    }
   ],
   "source": [
    "lb1=100\n",
    "lb2=100\n",
    "%time oo2=wig3j_recur_2d(lb1,lb2,m1,m2,m3,wlmax,step,z1)\n",
    "oo2=z1[:10,:10,:19]"
   ]
  },
  {
   "cell_type": "code",
   "execution_count": 32,
   "metadata": {},
   "outputs": [
    {
     "data": {
      "text/plain": [
       "True"
      ]
     },
     "execution_count": 32,
     "metadata": {},
     "output_type": "execute_result"
    }
   ],
   "source": [
    "np.all(oo2==oo2.transpose(1,0,2))"
   ]
  },
  {
   "cell_type": "code",
   "execution_count": 33,
   "metadata": {},
   "outputs": [],
   "source": [
    "d=oo2-oo2.transpose(1,0,2)"
   ]
  },
  {
   "cell_type": "code",
   "execution_count": 34,
   "metadata": {},
   "outputs": [
    {
     "name": "stdout",
     "output_type": "stream",
     "text": [
      "51\n",
      "CPU times: user 371 ms, sys: 3.6 ms, total: 375 ms\n",
      "Wall time: 374 ms\n"
     ]
    },
    {
     "name": "stderr",
     "output_type": "stream",
     "text": [
      "/usr/lib/python3.7/site-packages/ipykernel_launcher.py:60: RuntimeWarning: invalid value encountered in true_divide\n",
      "/usr/lib/python3.7/site-packages/ipykernel_launcher.py:60: RuntimeWarning: divide by zero encountered in true_divide\n"
     ]
    }
   ],
   "source": [
    "%time oo=wig3j_recur_vec(lb1,lb2,m1,m2,m3,wlmax,step,lmax,z2)\n",
    "oo=z2[:10,:10,:19]\n",
    "# %time oo2=wig3j_recur(j1[0,0,0],j2[0,0,0],m1,m2,m3,j3_outmax=j3_outmax)"
   ]
  },
  {
   "cell_type": "code",
   "execution_count": 43,
   "metadata": {},
   "outputs": [
    {
     "name": "stderr",
     "output_type": "stream",
     "text": [
      "/usr/lib/python3.7/site-packages/ipykernel_launcher.py:1: DeprecationWarning: elementwise comparison failed; this will raise an error in the future.\n",
      "  \"\"\"Entry point for launching an IPython kernel.\n"
     ]
    },
    {
     "data": {
      "text/plain": [
       "False"
      ]
     },
     "execution_count": 43,
     "metadata": {},
     "output_type": "execute_result"
    }
   ],
   "source": [
    "np.all(oo==z1[:10,:10,:wlmax])"
   ]
  },
  {
   "cell_type": "code",
   "execution_count": 44,
   "metadata": {},
   "outputs": [
    {
     "ename": "ValueError",
     "evalue": "operands could not be broadcast together with shapes (10,10,19) (10,10,51) ",
     "output_type": "error",
     "traceback": [
      "\u001b[0;31m---------------------------------------------------------------------------\u001b[0m",
      "\u001b[0;31mValueError\u001b[0m                                Traceback (most recent call last)",
      "\u001b[0;32m<ipython-input-44-aba94623b17a>\u001b[0m in \u001b[0;36m<module>\u001b[0;34m\u001b[0m\n\u001b[0;32m----> 1\u001b[0;31m \u001b[0md\u001b[0m\u001b[0;34m=\u001b[0m\u001b[0moo\u001b[0m\u001b[0;34m-\u001b[0m\u001b[0mz1\u001b[0m\u001b[0;34m[\u001b[0m\u001b[0;34m:\u001b[0m\u001b[0;36m10\u001b[0m\u001b[0;34m,\u001b[0m\u001b[0;34m:\u001b[0m\u001b[0;36m10\u001b[0m\u001b[0;34m,\u001b[0m\u001b[0;34m:\u001b[0m\u001b[0mwlmax\u001b[0m\u001b[0;34m]\u001b[0m\u001b[0;34m\u001b[0m\u001b[0;34m\u001b[0m\u001b[0m\n\u001b[0m",
      "\u001b[0;31mValueError\u001b[0m: operands could not be broadcast together with shapes (10,10,19) (10,10,51) "
     ]
    }
   ],
   "source": [
    "d=oo-z1[:10,:10,:wlmax]"
   ]
  },
  {
   "cell_type": "code",
   "execution_count": 45,
   "metadata": {},
   "outputs": [
    {
     "data": {
      "text/plain": [
       "(0.0, 0.0)"
      ]
     },
     "execution_count": 45,
     "metadata": {},
     "output_type": "execute_result"
    }
   ],
   "source": [
    "d.min(),d.max()"
   ]
  },
  {
   "cell_type": "code",
   "execution_count": 46,
   "metadata": {},
   "outputs": [
    {
     "data": {
      "text/plain": [
       "0.0"
      ]
     },
     "execution_count": 46,
     "metadata": {},
     "output_type": "execute_result"
    }
   ],
   "source": [
    "d[2,2,2]"
   ]
  },
  {
   "cell_type": "code",
   "execution_count": 47,
   "metadata": {},
   "outputs": [
    {
     "data": {
      "text/plain": [
       "1.9123658"
      ]
     },
     "execution_count": 47,
     "metadata": {},
     "output_type": "execute_result"
    }
   ],
   "source": [
    "oo[2,2,2]"
   ]
  },
  {
   "cell_type": "code",
   "execution_count": 48,
   "metadata": {},
   "outputs": [
    {
     "data": {
      "text/plain": [
       "0.23904572427272797"
      ]
     },
     "execution_count": 48,
     "metadata": {},
     "output_type": "execute_result"
    }
   ],
   "source": [
    "z1[2,2,2]/2"
   ]
  },
  {
   "cell_type": "code",
   "execution_count": null,
   "metadata": {},
   "outputs": [
    {
     "name": "stdout",
     "output_type": "stream",
     "text": [
      "doing 0 0\n",
      "doing 0 10\n",
      "doing 0 20\n",
      "doing 0 30\n",
      "doing 0 40\n",
      "doing 0 50\n",
      "doing 0 60\n",
      "doing 0 70\n",
      "doing 0 80\n",
      "doing 0 90\n",
      "doing 0 100\n",
      "doing 0 110\n",
      "doing 0 120\n",
      "doing 0 130\n",
      "doing 0 140\n",
      "doing 0 150\n",
      "doing 0 160\n",
      "doing 0 170\n",
      "doing 0 180\n",
      "doing 0 190\n",
      "doing 0 201\n",
      "done 0 0.152998685836792\n",
      "doing 10 0\n",
      "doing 10 10\n",
      "doing 10 20\n",
      "doing 10 30\n"
     ]
    }
   ],
   "source": [
    "m1=-2\n",
    "m2=2\n",
    "m3=0\n",
    "t0=time.time()\n",
    "for lb1 in lb:\n",
    "    ww_out={}\n",
    "    for lb2 in lb:\n",
    "        print('doing',lb1,lb2)\n",
    "        t1=time.time()\n",
    "        ww_out[lb2]=wig3j_recur_2d(lb1,lb2,m1,m2,m3,wlmax,step,z1)\n",
    "#     ww_out=client.compute(ww_out).result()\n",
    "#         ww_out[lb2]=client.submit(wig3j_recur_2d,lb1,lb2,m1,m2,m3,wlmax,step,z1)\n",
    "#         ww_out[lb2]=wig3j_recur_2d(lb1,lb2,m1,m2,m3,wlmax,step)\n",
    "#     for lb2 in lb:\n",
    "# #         z1[lb1:lb1+step,lb2:lb2+step,:]=ww_out[lb2].result()\n",
    "#         ww_out[lb2]=ww_out[lb2].result()\n",
    "#         t2=time.time()\n",
    "#         print('done',lb1,lb2,t2-t1)\n",
    "    del ww_out\n",
    "    t2=time.time()\n",
    "    print('done',lb1,t2-t1)\n",
    "print('done all',t2-t0)"
   ]
  },
  {
   "cell_type": "code",
   "execution_count": 54,
   "metadata": {},
   "outputs": [],
   "source": [
    "xx=z1[:,:,0]\n",
    "# xx.transpose(1,0,2).shape"
   ]
  },
  {
   "cell_type": "code",
   "execution_count": 55,
   "metadata": {},
   "outputs": [
    {
     "data": {
      "text/plain": [
       "(201, 201)"
      ]
     },
     "execution_count": 55,
     "metadata": {},
     "output_type": "execute_result"
    }
   ],
   "source": [
    "xx.shape"
   ]
  },
  {
   "cell_type": "code",
   "execution_count": 53,
   "metadata": {},
   "outputs": [
    {
     "data": {
      "text/plain": [
       "True"
      ]
     },
     "execution_count": 53,
     "metadata": {},
     "output_type": "execute_result"
    }
   ],
   "source": [
    "np.all(xx==xx.T)"
   ]
  },
  {
   "cell_type": "code",
   "execution_count": null,
   "metadata": {},
   "outputs": [],
   "source": [
    "crash"
   ]
  },
  {
   "cell_type": "code",
   "execution_count": null,
   "metadata": {},
   "outputs": [],
   "source": [
    "m1=-2\n",
    "m2=2\n",
    "m3=0\n",
    "\n",
    "arrs=[da.hstack([da.vstack([da.from_delayed(delayed(wig3j_recur_1d)(l[i],l[k],m1,m2,m3,\n",
    "                                                               wlmax),\n",
    "                    shape=(1,1,wlmax),dtype='float32') \n",
    "                    for i in np.arange(lmax+1)]) \n",
    "                     for k in np.arange(lmax+1)])\n",
    "                      ]\n",
    "arrs2=da.concatenate(arrs,axis=-1)\n",
    "# arrs2=arrs2.rechunk(chunks=(int(lmax/1),int(lmax/1),int(wlmax)))\n",
    "\n",
    "print(fname.format(i=str(2)+'j3m',lmax=lmax,wlmax=wlmax))\n",
    "%time arrs2.to_zarr(fname.format(i=str(2)+'j3m',lmax=lmax,wlmax=wlmax),overwrite=True)"
   ]
  },
  {
   "cell_type": "code",
   "execution_count": null,
   "metadata": {},
   "outputs": [],
   "source": [
    "arrs2.shape"
   ]
  },
  {
   "cell_type": "raw",
   "metadata": {},
   "source": [
    "dask.visualize(arrs2)"
   ]
  },
  {
   "cell_type": "code",
   "execution_count": null,
   "metadata": {},
   "outputs": [],
   "source": [
    "crash"
   ]
  },
  {
   "cell_type": "code",
   "execution_count": null,
   "metadata": {},
   "outputs": [],
   "source": [
    "l"
   ]
  },
  {
   "cell_type": "code",
   "execution_count": null,
   "metadata": {},
   "outputs": [],
   "source": [
    "arrs2.shape"
   ]
  },
  {
   "cell_type": "code",
   "execution_count": null,
   "metadata": {},
   "outputs": [],
   "source": [
    "m1=-2\n",
    "m2=2\n",
    "m3=0\n",
    "\n",
    "arrs=[da.hstack([da.vstack([da.from_delayed(delayed(wig3j_map)(m1,m2,m3,l[lb[i]:lb[i+1]],l[lb[k]:lb[k+1]],\n",
    "                                                               np.atleast_1d(w_l[j3_b[j3]:j3_b[j3+1] ]),asym_fact),\n",
    "                    shape=(lb[i+1]-lb[i],lb[k+1]-lb[k],j3_b[j3+1]-j3_b[j3]),\n",
    "                                            dtype='float32') \n",
    "                    for i in np.arange(len(lb)-1)]) \n",
    "                     for k in np.arange(len(lb)-1)])\n",
    "                      for j3 in np.arange(len(j3_b)-1)]\n",
    "arrs2=da.concatenate(arrs,axis=-1)\n",
    "arrs2=arrs2.rechunk(chunks=(lmax/10,lmax/10,wlmax/10))\n",
    "# print(fname.format(i=str(2)+'j3m',lmax=lmax,wlmax=wlmax))\n",
    "# %time arrs2.to_zarr(fname.format(i=str(2)+'j3m',lmax=lmax,wlmax=wlmax),overwrite=True)"
   ]
  },
  {
   "cell_type": "code",
   "execution_count": null,
   "metadata": {},
   "outputs": [],
   "source": [
    "arrs2.shape"
   ]
  },
  {
   "cell_type": "code",
   "execution_count": null,
   "metadata": {},
   "outputs": [],
   "source": []
  },
  {
   "cell_type": "raw",
   "metadata": {},
   "source": [
    "crash"
   ]
  },
  {
   "cell_type": "code",
   "execution_count": null,
   "metadata": {},
   "outputs": [],
   "source": [
    "client.restart()"
   ]
  },
  {
   "cell_type": "code",
   "execution_count": null,
   "metadata": {},
   "outputs": [],
   "source": [
    "m1=-2\n",
    "m2=2\n",
    "m3=0\n",
    "\n",
    "arrs=[da.hstack([da.vstack([da.from_delayed(delayed(wig3j_map)(m1,m2,m3,l[lb[i]:lb[i+1]],l[lb[k]:lb[k+1]],\n",
    "                                                               np.atleast_1d(j3),asym_fact),\n",
    "                    shape=(lb[i+1]-lb[i],lb[k+1]-lb[k],1),dtype='float32') \n",
    "                    for i in np.arange(len(lb)-1)]) \n",
    "                     for k in np.arange(len(lb)-1)])\n",
    "                      for j3 in w_l]\n",
    "# arrs2=da.stack(arrs)\n",
    "arrs2=da.concatenate(arrs,axis=-1)\n",
    "arrs2=arrs2.rechunk(chunks=(lmax/10,lmax/10,wlmax/10))\n",
    "%time arrs2.to_zarr(fname.format(i=2,lmax=lmax,wlmax=wlmax),overwrite=True)"
   ]
  },
  {
   "cell_type": "code",
   "execution_count": null,
   "metadata": {},
   "outputs": [],
   "source": [
    "crash"
   ]
  },
  {
   "cell_type": "raw",
   "metadata": {},
   "source": [
    "m1=-2\n",
    "m2=2\n",
    "m3=0\n",
    "\n",
    "arrs=[da.hstack([da.vstack([arr[i][k][j3]#.result()\n",
    "                    for i in np.arange(len(lb)-1)]) \n",
    "                     for k in np.arange(len(lb)-1)])\n",
    "                      for j3 in w_l]\n",
    "arrs2=da.stack(arrs)\n",
    "arrs2=arrs2.rechunk(chunks=(1,step,step))\n",
    "%time arrs2.to_zarr(fname.format(i=2,lmax=lmax,wlmax=wlmax),overwrite=True)"
   ]
  },
  {
   "cell_type": "code",
   "execution_count": null,
   "metadata": {},
   "outputs": [],
   "source": [
    "arrs2=zarr.open(fname.format(i=2,lmax=lmax,wlmax=wlmax))"
   ]
  },
  {
   "cell_type": "code",
   "execution_count": null,
   "metadata": {},
   "outputs": [],
   "source": [
    "arrs2.oindex[0,:,:].max()"
   ]
  },
  {
   "cell_type": "raw",
   "metadata": {},
   "source": [
    "lf=int(lmax/5)\n",
    "lf2=lf\n",
    "\n",
    "m1=-2\n",
    "m2=2\n",
    "m3=0\n",
    "\n",
    "arrs=[da.hstack([da.vstack([da.from_delayed(delayed(wig3j_map)(m1,m2,m3,l[i:i+lf],l[k:k+lf2],np.atleast_1d(j3),asym_fact),\n",
    "                    shape=(min([lmax,lf,lmax-i]),min([lmax,lf2,lmax-k])),dtype='float32') \n",
    "                    for i in np.arange(lmax,step=lf)]) \n",
    "                     for k in np.arange(lmax,step=lf2)])\n",
    "                      for j3 in w_l]\n",
    "arrs2=da.stack(arrs)\n",
    "%time arrs2.to_zarr(fname.format(i=2,lmax=lmax,wlmax=wlmax),overwrite=True)"
   ]
  },
  {
   "cell_type": "raw",
   "metadata": {},
   "source": [
    "m1=-2\n",
    "m2=2\n",
    "m3=0\n",
    "# arrs=[da.from_delayed(delayed(wig3j_map)(m1,m2,m3,l,l,np.atleast_1d(j3),asym_fact),shape=(lmax,lmax),dtype='float32') for j3 in w_l]\n",
    "lf=int(lmax/5)\n",
    "arrs=[da.vstack([da.from_delayed(delayed(wig3j_map)(m1,m2,m3,l[i:i+lf],l,np.atleast_1d(j3),asym_fact),\n",
    "                      shape=(min([lmax,lf,lmax-i]),lmax),dtype='float32') for i in np.arange(lmax,step=lf)]) \n",
    "                      for j3 in w_l]\n",
    "arrs2=da.stack(arrs)\n",
    "%time arrs2.to_zarr(fname.format(i=2,lmax=lmax,wlmax=wlmax),overwrite=True)"
   ]
  },
  {
   "cell_type": "code",
   "execution_count": null,
   "metadata": {},
   "outputs": [],
   "source": [
    "z1=zarr.open('./temp/dask_wig3j_l100_w30_0_asym50.zarr/')\n",
    "z2=np.array(zarr.open('./temp/dask_wig3j_l100_w30_0.zarr/'))"
   ]
  },
  {
   "cell_type": "code",
   "execution_count": null,
   "metadata": {},
   "outputs": [],
   "source": [
    "z1.reshape(1,3000,100)"
   ]
  },
  {
   "cell_type": "code",
   "execution_count": null,
   "metadata": {},
   "outputs": [],
   "source": [
    "crash"
   ]
  },
  {
   "cell_type": "code",
   "execution_count": null,
   "metadata": {},
   "outputs": [],
   "source": [
    "zaa_in=zarr.open('temp/dask_test0.zarr')"
   ]
  },
  {
   "cell_type": "code",
   "execution_count": null,
   "metadata": {},
   "outputs": [],
   "source": [
    "np.einsum('i,ijk->jk',w_l,zaa_in)"
   ]
  },
  {
   "cell_type": "code",
   "execution_count": null,
   "metadata": {},
   "outputs": [],
   "source": [
    "zaa_in.oindex[np.int32(w_l[:5]), [1, 3],[1,5]]"
   ]
  },
  {
   "cell_type": "code",
   "execution_count": null,
   "metadata": {},
   "outputs": [],
   "source": [
    "zaa_in"
   ]
  },
  {
   "cell_type": "raw",
   "metadata": {},
   "source": [
    "da.read_zarr('temp/dask_test.zarr')"
   ]
  },
  {
   "cell_type": "code",
   "execution_count": null,
   "metadata": {},
   "outputs": [],
   "source": [
    "aa2 = da.from_array(zaa_in, chunks=zaa_in.chunks)"
   ]
  },
  {
   "cell_type": "code",
   "execution_count": null,
   "metadata": {},
   "outputs": [],
   "source": [
    "aa2"
   ]
  },
  {
   "cell_type": "raw",
   "metadata": {},
   "source": [
    "f = h5py.File('temp/dask_test.hdf5')\n",
    "d = f.require_dataset('0', shape=arrs2.shape, dtype=arrs2.dtype)\n",
    "da.store(arrs2, d)\n"
   ]
  },
  {
   "cell_type": "raw",
   "metadata": {},
   "source": [
    "da.to_hdf5('temp/dask_test.hdf5', {'0': arrs2})"
   ]
  },
  {
   "cell_type": "code",
   "execution_count": null,
   "metadata": {},
   "outputs": [],
   "source": []
  },
  {
   "cell_type": "code",
   "execution_count": null,
   "metadata": {},
   "outputs": [],
   "source": [
    "m_1=0\n",
    "m_2=0\n",
    "m_3=0\n",
    "fname='temp/wigner_test_big.h5'\n",
    "\n",
    "with h5py.File(fname,'w') as f:\n",
    "    dst = f.create_dataset(\"0\", shape=(lmax,lmax,wlmax),\n",
    "                           dtype=np.float32)\n",
    "    lm=0\n",
    "    while lm<lmax:\n",
    "        l_t=np.arange(lm,lm+l_step)\n",
    "        lm2=0\n",
    "        while lm2<lmax:\n",
    "            if lm2>lm+l_step+wlmax or lm>lm2+l_step+wlmax:\n",
    "                print(lm2,lm)\n",
    "                lm2+=l_step\n",
    "                continue\n",
    "            l_t2=np.arange(lm2,lm2+l_step)\n",
    "            dst[lm:lm+l_step,lm2:lm2+l_step,:]=Wigner3j_parallel( m_1, m_2, m_3,l_t, l_t2 , w_l,ncpu=ncpu)\n",
    "            \n",
    "            lm2+=l_step\n",
    "            \n",
    "        lm+=l_step"
   ]
  },
  {
   "cell_type": "code",
   "execution_count": null,
   "metadata": {},
   "outputs": [],
   "source": [
    "f.close()"
   ]
  },
  {
   "cell_type": "code",
   "execution_count": null,
   "metadata": {},
   "outputs": [],
   "source": [
    "m_1=2\n",
    "m_2=-2\n",
    "m_3=0\n",
    "\n",
    "with h5py.File(fname,'a') as f:\n",
    "    dst = f.create_dataset(\"2\", shape=(lmax,lmax,wlmax),\n",
    "                           dtype=np.float32)\n",
    "    lm=0\n",
    "    while lm<lmax:\n",
    "        l_t=np.arange(lm,lm+l_step)\n",
    "        lm2=0\n",
    "        while lm2<lmax:\n",
    "            if lm2>lm+l_step+wlmax or lm>lm2+l_step+wlmax:\n",
    "                print(lm2,lm)\n",
    "                lm2+=l_step\n",
    "                continue\n",
    "            l_t2=np.arange(lm2,lm2+l_step)\n",
    "            dst[lm:lm+l_step,lm2:lm2+l_step,:]=Wigner3j_parallel( m_1, m_2, m_3,l_t, l_t2 , w_l,ncpu=ncpu)\n",
    "            lm2+=l_step\n",
    "        lm+=l_step"
   ]
  },
  {
   "cell_type": "code",
   "execution_count": null,
   "metadata": {},
   "outputs": [],
   "source": [
    "f.close()"
   ]
  },
  {
   "cell_type": "code",
   "execution_count": null,
   "metadata": {},
   "outputs": [],
   "source": [
    "fname='temp/wigner_test.h5'"
   ]
  },
  {
   "cell_type": "code",
   "execution_count": null,
   "metadata": {},
   "outputs": [],
   "source": [
    "f = h5py.File(fname, 'r')\n"
   ]
  },
  {
   "cell_type": "code",
   "execution_count": null,
   "metadata": {},
   "outputs": [],
   "source": [
    "d=f[\"0\"]"
   ]
  },
  {
   "cell_type": "code",
   "execution_count": null,
   "metadata": {},
   "outputs": [],
   "source": [
    "d.shape"
   ]
  },
  {
   "cell_type": "code",
   "execution_count": null,
   "metadata": {},
   "outputs": [],
   "source": [
    "w=np.ones_like(w_l)"
   ]
  },
  {
   "cell_type": "code",
   "execution_count": null,
   "metadata": {},
   "outputs": [],
   "source": [
    "M=np.zeros((500,500))\n",
    "M2=np.zeros((500,500))\n",
    "M[:,:]=np.dot(d,w)"
   ]
  },
  {
   "cell_type": "code",
   "execution_count": null,
   "metadata": {},
   "outputs": [],
   "source": [
    "x=d[w_l[3:5],:,:]#"
   ]
  },
  {
   "cell_type": "code",
   "execution_count": null,
   "metadata": {},
   "outputs": [],
   "source": [
    "x[:,np.int32(w_l[:5]),:]"
   ]
  },
  {
   "cell_type": "code",
   "execution_count": null,
   "metadata": {},
   "outputs": [],
   "source": [
    "lm=0\n",
    "while lm<lmax:\n",
    "    M2[lm:lm+l_step,:]=np.dot(d[lm:lm+l_step,:,:],w)\n",
    "    lm+=l_step"
   ]
  },
  {
   "cell_type": "code",
   "execution_count": null,
   "metadata": {},
   "outputs": [],
   "source": [
    "np.all(M2==M)"
   ]
  },
  {
   "cell_type": "code",
   "execution_count": null,
   "metadata": {},
   "outputs": [],
   "source": [
    "f.close()"
   ]
  },
  {
   "cell_type": "code",
   "execution_count": null,
   "metadata": {},
   "outputs": [],
   "source": [
    "coo_matrix((100,100))"
   ]
  },
  {
   "cell_type": "code",
   "execution_count": null,
   "metadata": {},
   "outputs": [],
   "source": []
  }
 ],
 "metadata": {
  "kernelspec": {
   "display_name": "Python 3",
   "language": "python",
   "name": "python3"
  },
  "language_info": {
   "codemirror_mode": {
    "name": "ipython",
    "version": 3
   },
   "file_extension": ".py",
   "mimetype": "text/x-python",
   "name": "python",
   "nbconvert_exporter": "python",
   "pygments_lexer": "ipython3",
   "version": "3.7.2"
  }
 },
 "nbformat": 4,
 "nbformat_minor": 2
}
