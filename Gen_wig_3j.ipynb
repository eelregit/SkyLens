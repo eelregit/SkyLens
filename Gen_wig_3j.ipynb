{
 "cells": [
  {
   "cell_type": "code",
   "execution_count": 1,
   "metadata": {},
   "outputs": [],
   "source": [
    "from wigner_functions import *\n",
    "import h5py\n",
    "from scipy.sparse import *\n",
    "import zarr"
   ]
  },
  {
   "cell_type": "code",
   "execution_count": 2,
   "metadata": {},
   "outputs": [],
   "source": [
    "import time"
   ]
  },
  {
   "cell_type": "code",
   "execution_count": 3,
   "metadata": {},
   "outputs": [],
   "source": [
    "lmax=200 #1e4\n",
    "wlmax=5e1\n",
    "lmax=np.int(lmax+1)\n",
    "wlmax=np.int(wlmax+1)"
   ]
  },
  {
   "cell_type": "code",
   "execution_count": 4,
   "metadata": {},
   "outputs": [],
   "source": [
    "ncpu=8\n",
    "l_step=10 #not used with dask\n",
    "w_l=np.arange(wlmax+1)\n",
    "l=np.arange(lmax+1)"
   ]
  },
  {
   "cell_type": "code",
   "execution_count": 5,
   "metadata": {},
   "outputs": [
    {
     "name": "stdout",
     "output_type": "stream",
     "text": [
      "Object `LocalCluster` not found.\n"
     ]
    }
   ],
   "source": [
    "??LocalCluster"
   ]
  },
  {
   "cell_type": "code",
   "execution_count": 6,
   "metadata": {},
   "outputs": [],
   "source": [
    "import dask\n",
    "import dask.array as da\n",
    "from dask import delayed\n",
    "\n",
    "from distributed import LocalCluster\n",
    "from dask.distributed import Client  # we already had this above\n",
    "#http://distributed.readthedocs.io/en/latest/_modules/distributed/worker.html\n",
    "LC=LocalCluster(n_workers=1,processes=False,memory_limit='10gb',threads_per_worker=8,memory_spill_fraction=.99,\n",
    "               memory_monitor_interval='2000ms',scheduler_port=12234,diagnostics_port=8800)#dashboard_address='localhost:8787')\n",
    "client=Client(LC,asynchronous=False)"
   ]
  },
  {
   "cell_type": "code",
   "execution_count": 7,
   "metadata": {},
   "outputs": [
    {
     "data": {
      "text/html": [
       "<table style=\"border: 2px solid white;\">\n",
       "<tr>\n",
       "<td style=\"vertical-align: top; border: 0px solid white\">\n",
       "<h3>Client</h3>\n",
       "<ul>\n",
       "  <li><b>Scheduler: </b>tcp://127.0.0.1:12234\n",
       "  <li><b>Dashboard: </b><a href='http://127.0.0.1:8800/status' target='_blank'>http://127.0.0.1:8800/status</a>\n",
       "</ul>\n",
       "</td>\n",
       "<td style=\"vertical-align: top; border: 0px solid white\">\n",
       "<h3>Cluster</h3>\n",
       "<ul>\n",
       "  <li><b>Workers: </b>1</li>\n",
       "  <li><b>Cores: </b>8</li>\n",
       "  <li><b>Memory: </b>10.00 GB</li>\n",
       "</ul>\n",
       "</td>\n",
       "</tr>\n",
       "</table>"
      ],
      "text/plain": [
       "<Client: scheduler='tcp://127.0.0.1:12234' processes=1 cores=8>"
      ]
     },
     "execution_count": 7,
     "metadata": {},
     "output_type": "execute_result"
    }
   ],
   "source": [
    "client"
   ]
  },
  {
   "cell_type": "raw",
   "metadata": {},
   "source": [
    "dask.config.set(scheduler='synchronous')  # overwrite default with single-threaded scheduler\n"
   ]
  },
  {
   "cell_type": "code",
   "execution_count": 8,
   "metadata": {},
   "outputs": [],
   "source": [
    "def wigner_3j_asym(j_1,j_2,j_3,m_1,m_2,m_3): #assume j1,j2>>j3.... wiki\n",
    "    sj=(j_1+j_2+1)\n",
    "    th=np.arccos((m_1-m_2)/sj)\n",
    "    wd=wigner_d(m_3,j_2-j_1,np.atleast_1d(th),j_3)[0,0]\n",
    "    print(wd)\n",
    "    return ((-1)**(j_2+m_2))*wd/np.sqrt(sj)"
   ]
  },
  {
   "cell_type": "code",
   "execution_count": 9,
   "metadata": {},
   "outputs": [],
   "source": [
    "def wigner_3j_asym_H(j_1,j_2,j_3,m_1,m_2,m_3): #j1+j2+j3>>1, m1=m2=m3=0.. Hivon\n",
    "    wj=2*(j1*j2)**2\n",
    "    wj+=2*(j2*j3)**2\n",
    "    wj+=2*(j1*j3)**2\n",
    "    wj-=j1**4+j2**4+j3**4\n",
    "    wj=wj**(-0.5)\n",
    "    wj*=2./np.pi\n",
    "    return np.sqrt(wj)*(-1)**((j_1+j_2+j_3)/2)\n",
    "\n",
    "def wigner_3j_asym_H2(j_1,j_2,j_3,m_1,m_2,m_3): #j1+j2+j3>>1, m1=m2=m3=0.. Hivon\n",
    "    J=j_1+j_2+j_3\n",
    "    logwj=log_factorial(J/2)\n",
    "    logwj-=log_factorial(J/2-j_1)\n",
    "    logwj-=log_factorial(J/2-j_2)\n",
    "    logwj-=log_factorial(J/2-j_3)\n",
    "    logwj-=0.5*log_factorial(J+1)\n",
    "    logwj+=0.5*log_factorial(J-2*j_1)\n",
    "    logwj+=0.5*log_factorial(J-2*j_2)\n",
    "    logwj+=0.5*log_factorial(J-2*j_3)\n",
    "    return (-1)**(J/2)*np.exp(logwj)"
   ]
  },
  {
   "cell_type": "code",
   "execution_count": 10,
   "metadata": {},
   "outputs": [],
   "source": [
    "def wig3j_map(m1,m2,m3,j1,j2,j3,asym_fact=np.inf):\n",
    "#     n1=len(l)\n",
    "#     n2=len(l)\n",
    "#     n3=len(j3)\n",
    "\n",
    "#     c=np.array(list(Comb(l,l,j3)))\n",
    "# #     print(c.shape)\n",
    "#     j_max=np.amax(l.max()+l.max()+l.max()+1)\n",
    "#     _calc_factlist(j_max)\n",
    "#     d_mat=client.gather(client.map(partial(wigner_3j_3, m_1, m_2, m_3),c))\n",
    "#     d_mat=np.array(d_mat).reshape(n1,n2,n3)\n",
    "    print('w3j_map doing ',np.atleast_1d(j3)[0])\n",
    "    xx=Wigner3j_parallel( m1, m2, m3,np.atleast_1d(j1), np.atleast_1d(j2) ,np.atleast_1d(j3),ncpu=1,\n",
    "                             asym_fact=asym_fact)\n",
    "\n",
    "    return xx\n",
    "\n",
    "\n",
    "# dst=client.map(wig3j_map,w_l)"
   ]
  },
  {
   "cell_type": "code",
   "execution_count": 11,
   "metadata": {},
   "outputs": [],
   "source": [
    "def Wigner3j_parallel2( m_1, m_2, m_3,j_1, j_2, j_3,ncpu=None,asym_fact=np.inf):\n",
    "    if ncpu is None:\n",
    "        ncpu=cpu_count()-2\n",
    "    p=Pool(ncpu)\n",
    "\n",
    "    j_max=np.amax(j_1.max()+j_2.max()+j_3.max()+1)\n",
    "#     _calc_factlist(j_max)\n",
    "\n",
    "    n1=len(j_1)\n",
    "    n2=len(j_2)\n",
    "    n3=len(j_3)\n",
    "\n",
    "    c=np.array(np.meshgrid(j_1,j_2,j_3,indexing='ij')).T.reshape(-1,3) #only needed to put cuts below. Otherwise Comb is better\n",
    "\n",
    "    x=c[:,0]+c[:,1]-c[:,2]>=0\n",
    "    x*=c[:,0]-c[:,1]+c[:,2]>=0\n",
    "    x*=-c[:,0]+c[:,1]+c[:,2]>=0\n",
    "    \n",
    "    x*=abs(m_1) <= c[:,0]\n",
    "    x*=abs(m_2) <= c[:,1]\n",
    "    x*=abs(m_3) <= c[:,2]\n",
    "    \n",
    "    if m_1==0 and m_2==0 and m_3==0:\n",
    "        x*=(c[:,0]+c[:,1]+c[:,2])%2==0\n",
    "\n",
    "    c=c[x]\n",
    "    \n",
    "    \n",
    "    d_mat=p.map(partial(wigner_3j_3,asym_fact, m_1, m_2, m_3),c,chunksize=100)\n",
    "    p.close()\n",
    "    \n",
    "    dd=np.zeros((n1,n2,n3))\n",
    "    indx1=np.searchsorted(j_1,c[:,0])\n",
    "    indx2=np.searchsorted(j_2,c[:,1])\n",
    "    indx3=np.searchsorted(j_3,c[:,2])\n",
    "    dd[indx1,indx2,indx3]=d_mat\n",
    "    \n",
    "    return dd"
   ]
  },
  {
   "cell_type": "raw",
   "metadata": {},
   "source": [
    "j1=25\n",
    "j2=25\n",
    "j3=2\n",
    "m1=0\n",
    "m2=0\n",
    "m3=0\n",
    "%time x=np.float32(wigner_3j(j1,j2,j3,m1,m2,m3))#.evalf()\n",
    "%time x2=wigner_3j_000(j1,j2,j3,m1,m2,m3)\n",
    "# %time x3=wigner_3j_asym(j1,j2,j3,m1,m2,m3)\n",
    "%time x4=wigner_3j_3(np.inf,m1,m2,m3,[j1,j2,j3])\n",
    "\n",
    "x,np.real(x2),x4,x/x2,np.isclose(x,x2)"
   ]
  },
  {
   "cell_type": "raw",
   "metadata": {},
   "source": [
    "c=np.array(list(Comb(l,l,w_l)))\n",
    "x=c[:,0]<=c[:,1]+c[:,2]\n",
    "x*=c[:,1]<=c[:,0]+c[:,2]\n",
    "x*=c[:,2]<=c[:,1]+c[:,0]\n",
    "x.mean()"
   ]
  },
  {
   "cell_type": "raw",
   "metadata": {},
   "source": [
    "%time c=np.array(np.meshgrid(l,l,w_l,indexing='ij')).T.reshape(-1,3)\n",
    "# x=c[:,0]<=c[:,1]+c[:,2]\n",
    "# x*=c[:,1]<=c[:,0]+c[:,2]\n",
    "# x*=c[:,2]<=c[:,1]+c[:,0]\n",
    "# p=Pool(ncpu)\n",
    "# dd=np.zeros((100,100,30))\n",
    "# %time d_mat=p.map(partial(wigner_3j_3, m1, m2, m3),c[x],chunksize=100) #reshape(100,100,30)\n",
    "\n",
    "# indx1=np.searchsorted(l,c[x][:,0])\n",
    "# indx2=np.searchsorted(l,c[x][:,1])\n",
    "# indx3=np.searchsorted(w_l,c[x][:,2])\n",
    "# dd[indx1,indx2,indx3]=d_mat\n",
    "\n",
    "%time c=Comb(l,l,w_l)\n",
    "%time d_mat0=np.array(p.map(partial(wigner_3j_3, m1, m2, m3),c,chunksize=10)) #reshape(100,100,30)\n",
    "d_mat0=d_mat0.reshape(100,100,30)\n",
    "\n",
    "x=np.isclose(dd,d_mat0)\n",
    "x.mean()"
   ]
  },
  {
   "cell_type": "raw",
   "metadata": {},
   "source": [
    "yy=Wigner3j_parallel( m1, m2, m3,l, l, np.atleast_1d(w_l[1]),)"
   ]
  },
  {
   "cell_type": "code",
   "execution_count": 12,
   "metadata": {},
   "outputs": [],
   "source": [
    "asym_fact=100"
   ]
  },
  {
   "cell_type": "code",
   "execution_count": 13,
   "metadata": {},
   "outputs": [],
   "source": [
    "# if lmax>500:\n",
    "#     fname='temp/dask_wig3j_big_{i}.zarr'\n",
    "# else:\n",
    "#     fname='temp/dask_wig3j_test_{i}.zarr'\n",
    "fname='temp/dask_wig3j_l{lmax}_w{wlmax}_{i}.zarr'\n",
    "if asym_fact is not np.inf:\n",
    "    fname='temp/dask_wig3j_l{lmax}_w{wlmax}_{i}_asym'+str(asym_fact)+'.zarr'"
   ]
  },
  {
   "cell_type": "code",
   "execution_count": 14,
   "metadata": {},
   "outputs": [
    {
     "data": {
      "text/plain": [
       "('temp/dask_wig3j_l{lmax}_w{wlmax}_{i}_asym100.zarr', 201, 51)"
      ]
     },
     "execution_count": 14,
     "metadata": {},
     "output_type": "execute_result"
    }
   ],
   "source": [
    "fname,lmax,wlmax"
   ]
  },
  {
   "cell_type": "raw",
   "metadata": {},
   "source": [
    "%time d=np.array(wig3j_map(m1,m2,m3,l,l,10))\n",
    "%time d2=Wigner3j_parallel2( m1, m2, m3,np.atleast_1d(l), np.atleast_1d(l) ,np.atleast_1d(10),ncpu=2)[:,:,0]\n",
    "x=np.isclose(d,d2)\n",
    "x.mean()"
   ]
  },
  {
   "cell_type": "raw",
   "metadata": {},
   "source": [
    "d2[~x],np.where(~x)"
   ]
  },
  {
   "cell_type": "raw",
   "metadata": {},
   "source": [
    "step=1#np.int(min(5e3,lmax/10))\n",
    "lb=np.arange(lmax+1,step=step)\n",
    "lb[-1]=lmax\n",
    "# lb=np.sort(np.unique(np.append([0,100,lmax],np.arange(100,lmax,step))))\n",
    "lb,lb.shape"
   ]
  },
  {
   "cell_type": "code",
   "execution_count": 15,
   "metadata": {},
   "outputs": [
    {
     "data": {
      "text/plain": [
       "array([ 0, 10, 20, 30, 40, 50])"
      ]
     },
     "execution_count": 15,
     "metadata": {},
     "output_type": "execute_result"
    }
   ],
   "source": [
    "j3_b=np.arange(0,50+1,step=10)\n",
    "j3_b[-1]=50\n",
    "j3_b"
   ]
  },
  {
   "cell_type": "raw",
   "metadata": {},
   "source": [
    "m1=0\n",
    "m2=0\n",
    "m3=0\n",
    "# arrs=[da.from_delayed(delayed(wig3j_map)(m1,m2,m3,l,l,np.atleast_1d(j3),asym_fact),shape=(lmax,lmax),dtype='float32') for j3 in w_l]\n",
    "\n",
    "arrs=[da.hstack([da.vstack([da.from_delayed(delayed(wig3j_map)(m1,m2,m3,l[lb[i]:lb[i+1]],l[lb[k]:lb[k+1]],\n",
    "                                                               np.atleast_1d(j3),asym_fact),\n",
    "                    shape=(lb[i+1]-lb[i],lb[k+1]-lb[k]),dtype='float32') \n",
    "                    for i in np.arange(len(lb)-1)]) \n",
    "                     for k in np.arange(len(lb)-1)])\n",
    "                      for j3 in w_l]\n",
    "arrs2=da.stack(arrs)\n",
    "arrs2=arrs2.rechunk(chunks=(1,1000,1000))\n",
    "\n",
    "%time arrs2.to_zarr(fname.format(i=0,lmax=lmax,wlmax=wlmax), overwrite=True)"
   ]
  },
  {
   "cell_type": "raw",
   "metadata": {},
   "source": [
    "m1=-2\n",
    "m2=2\n",
    "m3=0\n",
    "\n",
    "\n",
    "arr={}\n",
    "for i in np.arange(len(lb)-1):\n",
    "    arr[i]={}\n",
    "    for k in np.arange(len(lb)-1):\n",
    "        arr[i][k]={}\n",
    "        for j3 in w_l:\n",
    "            arr[i][k][j3]=da.from_delayed(delayed(wig3j_map)(m1,m2,m3,l[lb[i]:lb[i+1]],l[lb[k]:lb[k+1]],\n",
    "                                                               np.atleast_1d(j3),asym_fact),\n",
    "                    shape=(lb[i+1]-lb[i],lb[k+1]-lb[k]),dtype='float32')\n",
    "            arr[i][k][j3]=client.compute(arr[i][k][j3])"
   ]
  },
  {
   "cell_type": "raw",
   "metadata": {},
   "source": [
    "def A_J(j,j2,j3,m2,m3):\n",
    "    out=j**2-(j2-j3)**2\n",
    "    out*=(j2+j3+1)**2-j**2\n",
    "    out*=j**2-(m2+m3)**2\n",
    "    x=out<0\n",
    "    out[x]=0\n",
    "    return out**0.5\n",
    "\n",
    "def B_J(j,j2,j3,m2,m3):\n",
    "    out=(m2+m3)*(j2*(j2+1)-j3*(j3+1))\n",
    "    out-=(m2-m3)*j*(j+1)\n",
    "    out*=2*j+1\n",
    "    return out\n",
    "\n",
    "def X_Np1(j,j2,j3,m2,m3): #X_n+1\n",
    "    return j*A_J(j+1,j2,j3,m2,m3)\n",
    "\n",
    "def X_N(j,j2,j3,m2,m3): #X_n+1\n",
    "    return B_J(j,j2,j3,m2,m3)\n",
    "\n",
    "def X_Nm1(j,j2,j3,m2,m3): #X_n+1\n",
    "    return (j+1)*A_J(j,j2,j3,m2,m3)\n",
    "\n",
    "\n",
    "def wig3j_recur(j1,j2,m1,m2,m3,j3_outmax=None):\n",
    "    assert m3==-m1-m2\n",
    "    \n",
    "    j3_min=np.absolute(j1-j2)\n",
    "    j3_max=j1+j2+1 #j3_max is j1+j2, +1 for 0 indexing\n",
    "    j3=np.arange(j3_max)\n",
    "    if j3_outmax is None:\n",
    "        j3_outmax=j3_max\n",
    "    \n",
    "    wig_out=np.zeros(max(j3_max,j3_outmax))\n",
    "#     wig_out2=np.zeros(j3_max)\n",
    "    \n",
    "    wig_out[j3_min]=np.float32(wigner_3j_2(j1,j2,j3_min,m1,m2,m3))\n",
    "    if j3_min+1==j3_max:\n",
    "        return wig_out[:j3_outmax].reshape(1,1,j3_outmax)\n",
    "    \n",
    "    wig_out[j3_min+1]=np.float32(wigner_3j_2(j1,j2,j3_min+1,m1,m2,m3))\n",
    "    \n",
    "#     wig_out2[j3_min]=wig_out[j3_min]\n",
    "#     wig_out2[j3_min+1]=wig_out[j3_min+1]\n",
    "    \n",
    "    x_Np1=X_Np1(j3,j2,j1,m1,m2)*-1 #j==j3\n",
    "    x_N=X_N(j3,j2,j1,m1,m2) #j==j3\n",
    "    x_Nm1=X_Nm1(j3,j2,j1,m1,m2) #j==j3\n",
    "    \n",
    "    for i in np.arange(j3_min+1,j3_max-1):        \n",
    "        if x_Np1[i]==0:\n",
    "            continue\n",
    "        wig_out[j3[i+1]]=x_Nm1[i]*wig_out[j3[i-1]]+x_N[i]*wig_out[j3[i]]\n",
    "        wig_out[j3[i+1]]/=x_Np1[i]    \n",
    "        \n",
    "        \n",
    "#     xxi=np.random.randint(j3_min+1,j3_max-1)\n",
    "#     print(xxi,j3_min+1,j3_max-1)    \n",
    "#     wig_out2=wigner_3j(j1,j2,j3[xxi],m1,m2,m3).evalf()\n",
    "#     print(xxi,wig_out[xxi],wig_out2)\n",
    "    norm=np.sum(wig_out**2*(2*np.arange(max(j3_max,j3_outmax))+1))\n",
    "    if norm>0:\n",
    "        wig_out/=norm\n",
    "#     print(np.all(np.isclose(wig_out,wig_out2)))\n",
    "    return wig_out[:j3_outmax].reshape(1,1,j3_outmax)"
   ]
  },
  {
   "cell_type": "code",
   "execution_count": 38,
   "metadata": {},
   "outputs": [],
   "source": [
    "from multiprocessing import Pool\n",
    "def wig3j_recur_1d(j2s,m1,m2,m3,j3_outmax,j1):\n",
    "    out_ij={}\n",
    "    x=j2s<=j1\n",
    "    for j2 in j2s[x]:\n",
    "#         print('doing ',j1,j2)\n",
    "        out_ij[j2]=wig3j_recur(j1,j2,m1,m2,m3,j3_outmax=j3_outmax)\n",
    "#         print('done ',j1,j2)\n",
    "    return out_ij\n",
    "\n",
    "def wig3j_recur_2d(j1b,j2b,m1,m2,m3,j3_outmax,step,z1_out):\n",
    "    try:\n",
    "        out= np.zeros((min(step,lmax-j1b),min(step,lmax-j2b),j3_outmax))\n",
    "    except Exception as err:\n",
    "        print(err, step,lmax, j1b,j2b)\n",
    "        crash \n",
    "    j1s=np.arange(j1b,min(lmax,j1b+step))\n",
    "    j2s=np.arange(j2b,min(lmax,j2b+step))\n",
    "    out_ij={}\n",
    "    t1=time.time()\n",
    "    funct=partial(wig3j_recur_1d, j2s,m1,m2,m3,j3_outmax)\n",
    "    pool=Pool(10)\n",
    "    out_ij=pool.map(funct,j1s)\n",
    "    pool.close()\n",
    "#     for j1 in np.arange(len(j1s)):\n",
    "# #         out_ij[j1]=client.submit(wig3j_recur_1d,j1s[j1],j2s,m1,m2,m3,j3_outmax)\n",
    "#         out_ij[j1]=wig3j_recur_1d(j1s[j1],j2s,m1,m2,m3,j3_outmax)\n",
    "        \n",
    "    t2=time.time()\n",
    "    for j1 in np.arange(len(j1s)):\n",
    "        for j2 in np.arange(len(j2s)):\n",
    "            if j2s[j2]<=j1s[j1]:\n",
    "                out[j1,j2,:]=out_ij[j1][j2s[j2]]\n",
    "#                 z1[j1s[j1],j2s[j2],:]=out_ij[j1][j2s[j2]][0,0,:]\n",
    "#                 z1[j2s[j2],j1s[j1],:]=out_ij[j1][j2s[j2]][0,0,:]\n",
    "\n",
    "    t3=time.time()\n",
    "    z1[j1b:j1b+step,j2b:j2b+step,:]=out\n",
    "    z1[j2b:j2b+step,j1b:j1b+step,:]=out.transpose(1,0,2)\n",
    "#     z1[j1b:j1b+step,j2b:j2b+step,:]=out\n",
    "#     print('done all ',j1b,j2b,t3-t2)\n",
    "#     except Exception as err:\n",
    "#         print(err,out.shape,j1s.shape,j2s.shape,j1b,j2b,j2,j2s[j2],step,lmax)\n",
    "    return 0\n"
   ]
  },
  {
   "cell_type": "code",
   "execution_count": 39,
   "metadata": {},
   "outputs": [],
   "source": [
    "step=10\n",
    "lb=np.arange(lmax,step=step)\n",
    "lb[-1]=lmax"
   ]
  },
  {
   "cell_type": "code",
   "execution_count": 40,
   "metadata": {},
   "outputs": [
    {
     "data": {
      "text/plain": [
       "array([  0,  10,  20,  30,  40,  50,  60,  70,  80,  90, 100, 110, 120,\n",
       "       130, 140, 150, 160, 170, 180, 190, 201])"
      ]
     },
     "execution_count": 40,
     "metadata": {},
     "output_type": "execute_result"
    }
   ],
   "source": [
    "lb"
   ]
  },
  {
   "cell_type": "code",
   "execution_count": 41,
   "metadata": {},
   "outputs": [
    {
     "data": {
      "text/plain": [
       "201"
      ]
     },
     "execution_count": 41,
     "metadata": {},
     "output_type": "execute_result"
    }
   ],
   "source": [
    "lmax"
   ]
  },
  {
   "cell_type": "code",
   "execution_count": 42,
   "metadata": {},
   "outputs": [],
   "source": [
    "z1 = zarr.open(fname.format(i=str(2)+'j3m',lmax=lmax,wlmax=wlmax), mode='w', shape=(lmax,lmax,wlmax),\n",
    "...                chunks=(lmax/10, lmax/10,wlmax/10),\n",
    "               dtype='float32',overwrite=True)"
   ]
  },
  {
   "cell_type": "code",
   "execution_count": 43,
   "metadata": {},
   "outputs": [
    {
     "data": {
      "text/plain": [
       "10"
      ]
     },
     "execution_count": 43,
     "metadata": {},
     "output_type": "execute_result"
    }
   ],
   "source": [
    "step"
   ]
  },
  {
   "cell_type": "code",
   "execution_count": 44,
   "metadata": {},
   "outputs": [
    {
     "data": {
      "text/html": [
       "<table style=\"border: 2px solid white;\">\n",
       "<tr>\n",
       "<td style=\"vertical-align: top; border: 0px solid white\">\n",
       "<h3>Client</h3>\n",
       "<ul>\n",
       "  <li><b>Scheduler: </b>tcp://127.0.0.1:12234\n",
       "  <li><b>Dashboard: </b><a href='http://127.0.0.1:8800/status' target='_blank'>http://127.0.0.1:8800/status</a>\n",
       "</ul>\n",
       "</td>\n",
       "<td style=\"vertical-align: top; border: 0px solid white\">\n",
       "<h3>Cluster</h3>\n",
       "<ul>\n",
       "  <li><b>Workers: </b>1</li>\n",
       "  <li><b>Cores: </b>8</li>\n",
       "  <li><b>Memory: </b>10.00 GB</li>\n",
       "</ul>\n",
       "</td>\n",
       "</tr>\n",
       "</table>"
      ],
      "text/plain": [
       "<Client: scheduler='tcp://127.0.0.1:12234' processes=1 cores=8>"
      ]
     },
     "execution_count": 44,
     "metadata": {},
     "output_type": "execute_result"
    }
   ],
   "source": [
    "client.restart()"
   ]
  },
  {
   "cell_type": "code",
   "execution_count": 45,
   "metadata": {},
   "outputs": [
    {
     "name": "stdout",
     "output_type": "stream",
     "text": [
      "doing 0 0\n",
      "doing 0 10\n",
      "doing 0 20\n",
      "doing 0 30\n",
      "doing 0 40\n",
      "doing 0 50\n",
      "doing 0 60\n",
      "doing 0 70\n",
      "doing 0 80\n",
      "doing 0 90\n",
      "doing 0 100\n",
      "doing 0 110\n",
      "doing 0 120\n",
      "doing 0 130\n",
      "doing 0 140\n",
      "doing 0 150\n",
      "doing 0 160\n",
      "doing 0 170\n",
      "doing 0 180\n",
      "doing 0 190\n",
      "doing 0 201\n",
      "done 0 0.17795777320861816\n",
      "doing 10 0\n",
      "doing 10 10\n",
      "doing 10 20\n",
      "doing 10 30\n",
      "doing 10 40\n",
      "doing 10 50\n",
      "doing 10 60\n",
      "doing 10 70\n",
      "doing 10 80\n",
      "doing 10 90\n",
      "doing 10 100\n",
      "doing 10 110\n",
      "doing 10 120\n",
      "doing 10 130\n",
      "doing 10 140\n",
      "doing 10 150\n",
      "doing 10 160\n",
      "doing 10 170\n",
      "doing 10 180\n",
      "doing 10 190\n",
      "doing 10 201\n",
      "done 10 0.20567584037780762\n",
      "doing 20 0\n",
      "doing 20 10\n",
      "doing 20 20\n",
      "doing 20 30\n",
      "doing 20 40\n",
      "doing 20 50\n",
      "doing 20 60\n",
      "doing 20 70\n",
      "doing 20 80\n",
      "doing 20 90\n",
      "doing 20 100\n",
      "doing 20 110\n",
      "doing 20 120\n",
      "doing 20 130\n",
      "doing 20 140\n",
      "doing 20 150\n",
      "doing 20 160\n",
      "doing 20 170\n",
      "doing 20 180\n",
      "doing 20 190\n",
      "doing 20 201\n",
      "done 20 0.19366455078125\n",
      "doing 30 0\n",
      "doing 30 10\n",
      "doing 30 20\n",
      "doing 30 30\n",
      "doing 30 40\n",
      "doing 30 50\n",
      "doing 30 60\n",
      "doing 30 70\n",
      "doing 30 80\n",
      "doing 30 90\n",
      "doing 30 100\n",
      "doing 30 110\n",
      "doing 30 120\n",
      "doing 30 130\n",
      "doing 30 140\n",
      "doing 30 150\n",
      "doing 30 160\n",
      "doing 30 170\n",
      "doing 30 180\n",
      "doing 30 190\n",
      "doing 30 201\n",
      "done 30 0.1859593391418457\n",
      "doing 40 0\n",
      "doing 40 10\n",
      "doing 40 20\n",
      "doing 40 30\n",
      "doing 40 40\n",
      "doing 40 50\n",
      "doing 40 60\n",
      "doing 40 70\n",
      "doing 40 80\n",
      "doing 40 90\n",
      "doing 40 100\n",
      "doing 40 110\n",
      "doing 40 120\n",
      "doing 40 130\n",
      "doing 40 140\n",
      "doing 40 150\n",
      "doing 40 160\n",
      "doing 40 170\n",
      "doing 40 180\n",
      "doing 40 190\n",
      "doing 40 201\n",
      "done 40 0.1726062297821045\n",
      "doing 50 0\n",
      "doing 50 10\n",
      "doing 50 20\n",
      "doing 50 30\n",
      "doing 50 40\n",
      "doing 50 50\n",
      "doing 50 60\n",
      "doing 50 70\n",
      "doing 50 80\n",
      "doing 50 90\n",
      "doing 50 100\n",
      "doing 50 110\n",
      "doing 50 120\n",
      "doing 50 130\n",
      "doing 50 140\n",
      "doing 50 150\n",
      "doing 50 160\n",
      "doing 50 170\n",
      "doing 50 180\n",
      "doing 50 190\n",
      "doing 50 201\n",
      "done 50 0.14139223098754883\n",
      "doing 60 0\n",
      "doing 60 10\n",
      "doing 60 20\n",
      "doing 60 30\n",
      "doing 60 40\n",
      "doing 60 50\n",
      "doing 60 60\n",
      "doing 60 70\n",
      "doing 60 80\n",
      "doing 60 90\n",
      "doing 60 100\n",
      "doing 60 110\n",
      "doing 60 120\n",
      "doing 60 130\n",
      "doing 60 140\n",
      "doing 60 150\n",
      "doing 60 160\n",
      "doing 60 170\n",
      "doing 60 180\n",
      "doing 60 190\n",
      "doing 60 201\n",
      "done 60 0.13690876960754395\n",
      "doing 70 0\n",
      "doing 70 10\n",
      "doing 70 20\n",
      "doing 70 30\n",
      "doing 70 40\n",
      "doing 70 50\n",
      "doing 70 60\n",
      "doing 70 70\n",
      "doing 70 80\n",
      "doing 70 90\n",
      "doing 70 100\n",
      "doing 70 110\n",
      "doing 70 120\n",
      "doing 70 130\n",
      "doing 70 140\n",
      "doing 70 150\n",
      "doing 70 160\n",
      "doing 70 170\n",
      "doing 70 180\n",
      "doing 70 190\n",
      "doing 70 201\n",
      "done 70 0.14900970458984375\n",
      "doing 80 0\n",
      "doing 80 10\n",
      "doing 80 20\n",
      "doing 80 30\n",
      "doing 80 40\n",
      "doing 80 50\n",
      "doing 80 60\n",
      "doing 80 70\n",
      "doing 80 80\n",
      "doing 80 90\n",
      "doing 80 100\n",
      "doing 80 110\n",
      "doing 80 120\n",
      "doing 80 130\n",
      "doing 80 140\n",
      "doing 80 150\n",
      "doing 80 160\n",
      "doing 80 170\n",
      "doing 80 180\n",
      "doing 80 190\n",
      "doing 80 201\n",
      "done 80 0.15491366386413574\n",
      "doing 90 0\n",
      "doing 90 10\n",
      "doing 90 20\n",
      "doing 90 30\n",
      "doing 90 40\n",
      "doing 90 50\n",
      "doing 90 60\n",
      "doing 90 70\n",
      "doing 90 80\n",
      "doing 90 90\n",
      "doing 90 100\n",
      "doing 90 110\n",
      "doing 90 120\n",
      "doing 90 130\n",
      "doing 90 140\n",
      "doing 90 150\n",
      "doing 90 160\n",
      "doing 90 170\n",
      "doing 90 180\n",
      "doing 90 190\n",
      "doing 90 201\n",
      "done 90 0.1399085521697998\n",
      "doing 100 0\n",
      "doing 100 10\n",
      "doing 100 20\n",
      "doing 100 30\n",
      "doing 100 40\n",
      "doing 100 50\n",
      "doing 100 60\n",
      "doing 100 70\n",
      "doing 100 80\n",
      "doing 100 90\n",
      "doing 100 100\n",
      "doing 100 110\n",
      "doing 100 120\n",
      "doing 100 130\n",
      "doing 100 140\n",
      "doing 100 150\n",
      "doing 100 160\n",
      "doing 100 170\n",
      "doing 100 180\n",
      "doing 100 190\n",
      "doing 100 201\n",
      "done 100 0.15150880813598633\n",
      "doing 110 0\n",
      "doing 110 10\n",
      "doing 110 20\n",
      "doing 110 30\n",
      "doing 110 40\n",
      "doing 110 50\n",
      "doing 110 60\n",
      "doing 110 70\n",
      "doing 110 80\n",
      "doing 110 90\n",
      "doing 110 100\n",
      "doing 110 110\n",
      "doing 110 120\n",
      "doing 110 130\n",
      "doing 110 140\n",
      "doing 110 150\n",
      "doing 110 160\n",
      "doing 110 170\n",
      "doing 110 180\n",
      "doing 110 190\n",
      "doing 110 201\n",
      "done 110 0.13377857208251953\n",
      "doing 120 0\n",
      "doing 120 10\n",
      "doing 120 20\n",
      "doing 120 30\n",
      "doing 120 40\n",
      "doing 120 50\n",
      "doing 120 60\n",
      "doing 120 70\n",
      "doing 120 80\n",
      "doing 120 90\n",
      "doing 120 100\n",
      "doing 120 110\n",
      "doing 120 120\n",
      "doing 120 130\n",
      "doing 120 140\n",
      "doing 120 150\n",
      "doing 120 160\n",
      "doing 120 170\n",
      "doing 120 180\n",
      "doing 120 190\n",
      "doing 120 201\n",
      "done 120 0.14398503303527832\n",
      "doing 130 0\n",
      "doing 130 10\n",
      "doing 130 20\n",
      "doing 130 30\n",
      "doing 130 40\n",
      "doing 130 50\n",
      "doing 130 60\n",
      "doing 130 70\n",
      "doing 130 80\n",
      "doing 130 90\n",
      "doing 130 100\n",
      "doing 130 110\n",
      "doing 130 120\n",
      "doing 130 130\n",
      "doing 130 140\n",
      "doing 130 150\n",
      "doing 130 160\n",
      "doing 130 170\n",
      "doing 130 180\n",
      "doing 130 190\n",
      "doing 130 201\n",
      "done 130 0.15629100799560547\n",
      "doing 140 0\n",
      "doing 140 10\n",
      "doing 140 20\n",
      "doing 140 30\n",
      "doing 140 40\n",
      "doing 140 50\n",
      "doing 140 60\n",
      "doing 140 70\n",
      "doing 140 80\n",
      "doing 140 90\n",
      "doing 140 100\n",
      "doing 140 110\n",
      "doing 140 120\n",
      "doing 140 130\n",
      "doing 140 140\n",
      "doing 140 150\n",
      "doing 140 160\n",
      "doing 140 170\n",
      "doing 140 180\n",
      "doing 140 190\n",
      "doing 140 201\n",
      "done 140 0.13988614082336426\n",
      "doing 150 0\n",
      "doing 150 10\n",
      "doing 150 20\n",
      "doing 150 30\n",
      "doing 150 40\n",
      "doing 150 50\n",
      "doing 150 60\n",
      "doing 150 70\n",
      "doing 150 80\n",
      "doing 150 90\n",
      "doing 150 100\n",
      "doing 150 110\n",
      "doing 150 120\n",
      "doing 150 130\n",
      "doing 150 140\n",
      "doing 150 150\n",
      "doing 150 160\n",
      "doing 150 170\n",
      "doing 150 180\n",
      "doing 150 190\n",
      "doing 150 201\n",
      "done 150 0.15610337257385254\n",
      "doing 160 0\n",
      "doing 160 10\n",
      "doing 160 20\n",
      "doing 160 30\n",
      "doing 160 40\n",
      "doing 160 50\n",
      "doing 160 60\n",
      "doing 160 70\n",
      "doing 160 80\n",
      "doing 160 90\n",
      "doing 160 100\n",
      "doing 160 110\n",
      "doing 160 120\n",
      "doing 160 130\n",
      "doing 160 140\n",
      "doing 160 150\n",
      "doing 160 160\n",
      "doing 160 170\n",
      "doing 160 180\n",
      "doing 160 190\n",
      "doing 160 201\n",
      "done 160 0.11956000328063965\n",
      "doing 170 0\n",
      "doing 170 10\n",
      "doing 170 20\n",
      "doing 170 30\n",
      "doing 170 40\n",
      "doing 170 50\n",
      "doing 170 60\n",
      "doing 170 70\n",
      "doing 170 80\n",
      "doing 170 90\n",
      "doing 170 100\n",
      "doing 170 110\n",
      "doing 170 120\n",
      "doing 170 130\n",
      "doing 170 140\n",
      "doing 170 150\n",
      "doing 170 160\n",
      "doing 170 170\n",
      "doing 170 180\n",
      "doing 170 190\n",
      "doing 170 201\n",
      "done 170 0.15109848976135254\n",
      "doing 180 0\n",
      "doing 180 10\n",
      "doing 180 20\n",
      "doing 180 30\n",
      "doing 180 40\n",
      "doing 180 50\n",
      "doing 180 60\n",
      "doing 180 70\n",
      "doing 180 80\n",
      "doing 180 90\n",
      "doing 180 100\n",
      "doing 180 110\n",
      "doing 180 120\n",
      "doing 180 130\n",
      "doing 180 140\n",
      "doing 180 150\n",
      "doing 180 160\n",
      "doing 180 170\n",
      "doing 180 180\n",
      "doing 180 190\n",
      "doing 180 201\n",
      "done 180 0.13832879066467285\n",
      "doing 190 0\n",
      "doing 190 10\n",
      "doing 190 20\n",
      "doing 190 30\n",
      "doing 190 40\n",
      "doing 190 50\n",
      "doing 190 60\n",
      "doing 190 70\n",
      "doing 190 80\n",
      "doing 190 90\n",
      "doing 190 100\n",
      "doing 190 110\n",
      "doing 190 120\n",
      "doing 190 130\n",
      "doing 190 140\n",
      "doing 190 150\n",
      "doing 190 160\n",
      "doing 190 170\n",
      "doing 190 180\n",
      "doing 190 190\n",
      "doing 190 201\n",
      "done 190 0.12513279914855957\n",
      "doing 201 0\n",
      "doing 201 10\n",
      "doing 201 20\n",
      "doing 201 30\n",
      "doing 201 40\n",
      "doing 201 50\n",
      "doing 201 60\n",
      "doing 201 70\n",
      "doing 201 80\n",
      "doing 201 90\n",
      "doing 201 100\n",
      "doing 201 110\n",
      "doing 201 120\n",
      "doing 201 130\n",
      "doing 201 140\n",
      "doing 201 150\n",
      "doing 201 160\n",
      "doing 201 170\n",
      "doing 201 180\n",
      "doing 201 190\n",
      "doing 201 201\n",
      "done 201 0.13732457160949707\n",
      "done all 102.27564024925232\n"
     ]
    }
   ],
   "source": [
    "m1=-2\n",
    "m2=2\n",
    "m3=0\n",
    "t0=time.time()\n",
    "for lb1 in lb:\n",
    "    ww_out={}\n",
    "    for lb2 in lb:\n",
    "        print('doing',lb1,lb2)\n",
    "        t1=time.time()\n",
    "        ww_out[lb2]=wig3j_recur_2d(lb1,lb2,m1,m2,m3,wlmax,step,z1)\n",
    "#     ww_out=client.compute(ww_out).result()\n",
    "#         ww_out[lb2]=client.submit(wig3j_recur_2d,lb1,lb2,m1,m2,m3,wlmax,step,z1)\n",
    "#         ww_out[lb2]=wig3j_recur_2d(lb1,lb2,m1,m2,m3,wlmax,step)\n",
    "#     for lb2 in lb:\n",
    "# #         z1[lb1:lb1+step,lb2:lb2+step,:]=ww_out[lb2].result()\n",
    "#         ww_out[lb2]=ww_out[lb2].result()\n",
    "#         t2=time.time()\n",
    "#         print('done',lb1,lb2,t2-t1)\n",
    "    del ww_out\n",
    "    t2=time.time()\n",
    "    print('done',lb1,t2-t1)\n",
    "print('done all',t2-t0)"
   ]
  },
  {
   "cell_type": "code",
   "execution_count": 54,
   "metadata": {},
   "outputs": [],
   "source": [
    "xx=z1[:,:,0]\n",
    "# xx.transpose(1,0,2).shape"
   ]
  },
  {
   "cell_type": "code",
   "execution_count": 55,
   "metadata": {},
   "outputs": [
    {
     "data": {
      "text/plain": [
       "(201, 201)"
      ]
     },
     "execution_count": 55,
     "metadata": {},
     "output_type": "execute_result"
    }
   ],
   "source": [
    "xx.shape"
   ]
  },
  {
   "cell_type": "code",
   "execution_count": 53,
   "metadata": {},
   "outputs": [
    {
     "data": {
      "text/plain": [
       "True"
      ]
     },
     "execution_count": 53,
     "metadata": {},
     "output_type": "execute_result"
    }
   ],
   "source": [
    "np.all(xx==xx.T)"
   ]
  },
  {
   "cell_type": "code",
   "execution_count": null,
   "metadata": {},
   "outputs": [],
   "source": [
    "crash"
   ]
  },
  {
   "cell_type": "code",
   "execution_count": null,
   "metadata": {},
   "outputs": [],
   "source": [
    "m1=-2\n",
    "m2=2\n",
    "m3=0\n",
    "\n",
    "arrs=[da.hstack([da.vstack([da.from_delayed(delayed(wig3j_recur_1d)(l[i],l[k],m1,m2,m3,\n",
    "                                                               wlmax),\n",
    "                    shape=(1,1,wlmax),dtype='float32') \n",
    "                    for i in np.arange(lmax+1)]) \n",
    "                     for k in np.arange(lmax+1)])\n",
    "                      ]\n",
    "arrs2=da.concatenate(arrs,axis=-1)\n",
    "# arrs2=arrs2.rechunk(chunks=(int(lmax/1),int(lmax/1),int(wlmax)))\n",
    "\n",
    "print(fname.format(i=str(2)+'j3m',lmax=lmax,wlmax=wlmax))\n",
    "%time arrs2.to_zarr(fname.format(i=str(2)+'j3m',lmax=lmax,wlmax=wlmax),overwrite=True)"
   ]
  },
  {
   "cell_type": "code",
   "execution_count": null,
   "metadata": {},
   "outputs": [],
   "source": [
    "arrs2.shape"
   ]
  },
  {
   "cell_type": "raw",
   "metadata": {},
   "source": [
    "dask.visualize(arrs2)"
   ]
  },
  {
   "cell_type": "code",
   "execution_count": null,
   "metadata": {},
   "outputs": [],
   "source": [
    "crash"
   ]
  },
  {
   "cell_type": "code",
   "execution_count": null,
   "metadata": {},
   "outputs": [],
   "source": [
    "l"
   ]
  },
  {
   "cell_type": "code",
   "execution_count": null,
   "metadata": {},
   "outputs": [],
   "source": [
    "arrs2.shape"
   ]
  },
  {
   "cell_type": "code",
   "execution_count": null,
   "metadata": {},
   "outputs": [],
   "source": [
    "m1=-2\n",
    "m2=2\n",
    "m3=0\n",
    "\n",
    "arrs=[da.hstack([da.vstack([da.from_delayed(delayed(wig3j_map)(m1,m2,m3,l[lb[i]:lb[i+1]],l[lb[k]:lb[k+1]],\n",
    "                                                               np.atleast_1d(w_l[j3_b[j3]:j3_b[j3+1] ]),asym_fact),\n",
    "                    shape=(lb[i+1]-lb[i],lb[k+1]-lb[k],j3_b[j3+1]-j3_b[j3]),\n",
    "                                            dtype='float32') \n",
    "                    for i in np.arange(len(lb)-1)]) \n",
    "                     for k in np.arange(len(lb)-1)])\n",
    "                      for j3 in np.arange(len(j3_b)-1)]\n",
    "arrs2=da.concatenate(arrs,axis=-1)\n",
    "arrs2=arrs2.rechunk(chunks=(lmax/10,lmax/10,wlmax/10))\n",
    "# print(fname.format(i=str(2)+'j3m',lmax=lmax,wlmax=wlmax))\n",
    "# %time arrs2.to_zarr(fname.format(i=str(2)+'j3m',lmax=lmax,wlmax=wlmax),overwrite=True)"
   ]
  },
  {
   "cell_type": "code",
   "execution_count": null,
   "metadata": {},
   "outputs": [],
   "source": [
    "arrs2.shape"
   ]
  },
  {
   "cell_type": "code",
   "execution_count": null,
   "metadata": {},
   "outputs": [],
   "source": []
  },
  {
   "cell_type": "raw",
   "metadata": {},
   "source": [
    "crash"
   ]
  },
  {
   "cell_type": "code",
   "execution_count": null,
   "metadata": {},
   "outputs": [],
   "source": [
    "client.restart()"
   ]
  },
  {
   "cell_type": "code",
   "execution_count": null,
   "metadata": {},
   "outputs": [],
   "source": [
    "m1=-2\n",
    "m2=2\n",
    "m3=0\n",
    "\n",
    "arrs=[da.hstack([da.vstack([da.from_delayed(delayed(wig3j_map)(m1,m2,m3,l[lb[i]:lb[i+1]],l[lb[k]:lb[k+1]],\n",
    "                                                               np.atleast_1d(j3),asym_fact),\n",
    "                    shape=(lb[i+1]-lb[i],lb[k+1]-lb[k],1),dtype='float32') \n",
    "                    for i in np.arange(len(lb)-1)]) \n",
    "                     for k in np.arange(len(lb)-1)])\n",
    "                      for j3 in w_l]\n",
    "# arrs2=da.stack(arrs)\n",
    "arrs2=da.concatenate(arrs,axis=-1)\n",
    "arrs2=arrs2.rechunk(chunks=(lmax/10,lmax/10,wlmax/10))\n",
    "%time arrs2.to_zarr(fname.format(i=2,lmax=lmax,wlmax=wlmax),overwrite=True)"
   ]
  },
  {
   "cell_type": "code",
   "execution_count": null,
   "metadata": {},
   "outputs": [],
   "source": [
    "crash"
   ]
  },
  {
   "cell_type": "raw",
   "metadata": {},
   "source": [
    "m1=-2\n",
    "m2=2\n",
    "m3=0\n",
    "\n",
    "arrs=[da.hstack([da.vstack([arr[i][k][j3]#.result()\n",
    "                    for i in np.arange(len(lb)-1)]) \n",
    "                     for k in np.arange(len(lb)-1)])\n",
    "                      for j3 in w_l]\n",
    "arrs2=da.stack(arrs)\n",
    "arrs2=arrs2.rechunk(chunks=(1,step,step))\n",
    "%time arrs2.to_zarr(fname.format(i=2,lmax=lmax,wlmax=wlmax),overwrite=True)"
   ]
  },
  {
   "cell_type": "code",
   "execution_count": null,
   "metadata": {},
   "outputs": [],
   "source": [
    "arrs2=zarr.open(fname.format(i=2,lmax=lmax,wlmax=wlmax))"
   ]
  },
  {
   "cell_type": "code",
   "execution_count": null,
   "metadata": {},
   "outputs": [],
   "source": [
    "arrs2.oindex[0,:,:].max()"
   ]
  },
  {
   "cell_type": "raw",
   "metadata": {},
   "source": [
    "lf=int(lmax/5)\n",
    "lf2=lf\n",
    "\n",
    "m1=-2\n",
    "m2=2\n",
    "m3=0\n",
    "\n",
    "arrs=[da.hstack([da.vstack([da.from_delayed(delayed(wig3j_map)(m1,m2,m3,l[i:i+lf],l[k:k+lf2],np.atleast_1d(j3),asym_fact),\n",
    "                    shape=(min([lmax,lf,lmax-i]),min([lmax,lf2,lmax-k])),dtype='float32') \n",
    "                    for i in np.arange(lmax,step=lf)]) \n",
    "                     for k in np.arange(lmax,step=lf2)])\n",
    "                      for j3 in w_l]\n",
    "arrs2=da.stack(arrs)\n",
    "%time arrs2.to_zarr(fname.format(i=2,lmax=lmax,wlmax=wlmax),overwrite=True)"
   ]
  },
  {
   "cell_type": "raw",
   "metadata": {},
   "source": [
    "m1=-2\n",
    "m2=2\n",
    "m3=0\n",
    "# arrs=[da.from_delayed(delayed(wig3j_map)(m1,m2,m3,l,l,np.atleast_1d(j3),asym_fact),shape=(lmax,lmax),dtype='float32') for j3 in w_l]\n",
    "lf=int(lmax/5)\n",
    "arrs=[da.vstack([da.from_delayed(delayed(wig3j_map)(m1,m2,m3,l[i:i+lf],l,np.atleast_1d(j3),asym_fact),\n",
    "                      shape=(min([lmax,lf,lmax-i]),lmax),dtype='float32') for i in np.arange(lmax,step=lf)]) \n",
    "                      for j3 in w_l]\n",
    "arrs2=da.stack(arrs)\n",
    "%time arrs2.to_zarr(fname.format(i=2,lmax=lmax,wlmax=wlmax),overwrite=True)"
   ]
  },
  {
   "cell_type": "code",
   "execution_count": null,
   "metadata": {},
   "outputs": [],
   "source": [
    "z1=zarr.open('./temp/dask_wig3j_l100_w30_0_asym50.zarr/')\n",
    "z2=np.array(zarr.open('./temp/dask_wig3j_l100_w30_0.zarr/'))"
   ]
  },
  {
   "cell_type": "code",
   "execution_count": null,
   "metadata": {},
   "outputs": [],
   "source": [
    "z1.reshape(1,3000,100)"
   ]
  },
  {
   "cell_type": "code",
   "execution_count": null,
   "metadata": {},
   "outputs": [],
   "source": [
    "crash"
   ]
  },
  {
   "cell_type": "code",
   "execution_count": null,
   "metadata": {},
   "outputs": [],
   "source": [
    "zaa_in=zarr.open('temp/dask_test0.zarr')"
   ]
  },
  {
   "cell_type": "code",
   "execution_count": null,
   "metadata": {},
   "outputs": [],
   "source": [
    "np.einsum('i,ijk->jk',w_l,zaa_in)"
   ]
  },
  {
   "cell_type": "code",
   "execution_count": null,
   "metadata": {},
   "outputs": [],
   "source": [
    "zaa_in.oindex[np.int32(w_l[:5]), [1, 3],[1,5]]"
   ]
  },
  {
   "cell_type": "code",
   "execution_count": null,
   "metadata": {},
   "outputs": [],
   "source": [
    "zaa_in"
   ]
  },
  {
   "cell_type": "raw",
   "metadata": {},
   "source": [
    "da.read_zarr('temp/dask_test.zarr')"
   ]
  },
  {
   "cell_type": "code",
   "execution_count": null,
   "metadata": {},
   "outputs": [],
   "source": [
    "aa2 = da.from_array(zaa_in, chunks=zaa_in.chunks)"
   ]
  },
  {
   "cell_type": "code",
   "execution_count": null,
   "metadata": {},
   "outputs": [],
   "source": [
    "aa2"
   ]
  },
  {
   "cell_type": "raw",
   "metadata": {},
   "source": [
    "f = h5py.File('temp/dask_test.hdf5')\n",
    "d = f.require_dataset('0', shape=arrs2.shape, dtype=arrs2.dtype)\n",
    "da.store(arrs2, d)\n"
   ]
  },
  {
   "cell_type": "raw",
   "metadata": {},
   "source": [
    "da.to_hdf5('temp/dask_test.hdf5', {'0': arrs2})"
   ]
  },
  {
   "cell_type": "code",
   "execution_count": null,
   "metadata": {},
   "outputs": [],
   "source": []
  },
  {
   "cell_type": "code",
   "execution_count": null,
   "metadata": {},
   "outputs": [],
   "source": [
    "m_1=0\n",
    "m_2=0\n",
    "m_3=0\n",
    "fname='temp/wigner_test_big.h5'\n",
    "\n",
    "with h5py.File(fname,'w') as f:\n",
    "    dst = f.create_dataset(\"0\", shape=(lmax,lmax,wlmax),\n",
    "                           dtype=np.float32)\n",
    "    lm=0\n",
    "    while lm<lmax:\n",
    "        l_t=np.arange(lm,lm+l_step)\n",
    "        lm2=0\n",
    "        while lm2<lmax:\n",
    "            if lm2>lm+l_step+wlmax or lm>lm2+l_step+wlmax:\n",
    "                print(lm2,lm)\n",
    "                lm2+=l_step\n",
    "                continue\n",
    "            l_t2=np.arange(lm2,lm2+l_step)\n",
    "            dst[lm:lm+l_step,lm2:lm2+l_step,:]=Wigner3j_parallel( m_1, m_2, m_3,l_t, l_t2 , w_l,ncpu=ncpu)\n",
    "            \n",
    "            lm2+=l_step\n",
    "            \n",
    "        lm+=l_step"
   ]
  },
  {
   "cell_type": "code",
   "execution_count": null,
   "metadata": {},
   "outputs": [],
   "source": [
    "f.close()"
   ]
  },
  {
   "cell_type": "code",
   "execution_count": null,
   "metadata": {},
   "outputs": [],
   "source": [
    "m_1=2\n",
    "m_2=-2\n",
    "m_3=0\n",
    "\n",
    "with h5py.File(fname,'a') as f:\n",
    "    dst = f.create_dataset(\"2\", shape=(lmax,lmax,wlmax),\n",
    "                           dtype=np.float32)\n",
    "    lm=0\n",
    "    while lm<lmax:\n",
    "        l_t=np.arange(lm,lm+l_step)\n",
    "        lm2=0\n",
    "        while lm2<lmax:\n",
    "            if lm2>lm+l_step+wlmax or lm>lm2+l_step+wlmax:\n",
    "                print(lm2,lm)\n",
    "                lm2+=l_step\n",
    "                continue\n",
    "            l_t2=np.arange(lm2,lm2+l_step)\n",
    "            dst[lm:lm+l_step,lm2:lm2+l_step,:]=Wigner3j_parallel( m_1, m_2, m_3,l_t, l_t2 , w_l,ncpu=ncpu)\n",
    "            lm2+=l_step\n",
    "        lm+=l_step"
   ]
  },
  {
   "cell_type": "code",
   "execution_count": null,
   "metadata": {},
   "outputs": [],
   "source": [
    "f.close()"
   ]
  },
  {
   "cell_type": "code",
   "execution_count": null,
   "metadata": {},
   "outputs": [],
   "source": [
    "fname='temp/wigner_test.h5'"
   ]
  },
  {
   "cell_type": "code",
   "execution_count": null,
   "metadata": {},
   "outputs": [],
   "source": [
    "f = h5py.File(fname, 'r')\n"
   ]
  },
  {
   "cell_type": "code",
   "execution_count": null,
   "metadata": {},
   "outputs": [],
   "source": [
    "d=f[\"0\"]"
   ]
  },
  {
   "cell_type": "code",
   "execution_count": null,
   "metadata": {},
   "outputs": [],
   "source": [
    "d.shape"
   ]
  },
  {
   "cell_type": "code",
   "execution_count": null,
   "metadata": {},
   "outputs": [],
   "source": [
    "w=np.ones_like(w_l)"
   ]
  },
  {
   "cell_type": "code",
   "execution_count": null,
   "metadata": {},
   "outputs": [],
   "source": [
    "M=np.zeros((500,500))\n",
    "M2=np.zeros((500,500))\n",
    "M[:,:]=np.dot(d,w)"
   ]
  },
  {
   "cell_type": "code",
   "execution_count": null,
   "metadata": {},
   "outputs": [],
   "source": [
    "x=d[w_l[3:5],:,:]#"
   ]
  },
  {
   "cell_type": "code",
   "execution_count": null,
   "metadata": {},
   "outputs": [],
   "source": [
    "x[:,np.int32(w_l[:5]),:]"
   ]
  },
  {
   "cell_type": "code",
   "execution_count": null,
   "metadata": {},
   "outputs": [],
   "source": [
    "lm=0\n",
    "while lm<lmax:\n",
    "    M2[lm:lm+l_step,:]=np.dot(d[lm:lm+l_step,:,:],w)\n",
    "    lm+=l_step"
   ]
  },
  {
   "cell_type": "code",
   "execution_count": null,
   "metadata": {},
   "outputs": [],
   "source": [
    "np.all(M2==M)"
   ]
  },
  {
   "cell_type": "code",
   "execution_count": null,
   "metadata": {},
   "outputs": [],
   "source": [
    "f.close()"
   ]
  },
  {
   "cell_type": "code",
   "execution_count": null,
   "metadata": {},
   "outputs": [],
   "source": [
    "coo_matrix((100,100))"
   ]
  },
  {
   "cell_type": "code",
   "execution_count": null,
   "metadata": {},
   "outputs": [],
   "source": []
  }
 ],
 "metadata": {
  "kernelspec": {
   "display_name": "Python 3",
   "language": "python",
   "name": "python3"
  },
  "language_info": {
   "codemirror_mode": {
    "name": "ipython",
    "version": 3
   },
   "file_extension": ".py",
   "mimetype": "text/x-python",
   "name": "python",
   "nbconvert_exporter": "python",
   "pygments_lexer": "ipython3",
   "version": "3.7.2"
  }
 },
 "nbformat": 4,
 "nbformat_minor": 2
}
