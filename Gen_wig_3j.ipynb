{
 "cells": [
  {
   "cell_type": "code",
   "execution_count": 1,
   "metadata": {},
   "outputs": [],
   "source": [
    "from wigner_functions import *\n",
    "import h5py\n",
    "from scipy.sparse import *\n",
    "import zarr"
   ]
  },
  {
   "cell_type": "code",
   "execution_count": 2,
   "metadata": {},
   "outputs": [],
   "source": [
    "import time"
   ]
  },
  {
   "cell_type": "code",
   "execution_count": 3,
   "metadata": {},
   "outputs": [],
   "source": [
    "lmax=5000 #1e4\n",
    "wlmax=5e2\n",
    "lmax=np.int(lmax)\n",
    "wlmax=np.int(wlmax)"
   ]
  },
  {
   "cell_type": "code",
   "execution_count": 4,
   "metadata": {},
   "outputs": [],
   "source": [
    "ncpu=8\n",
    "l_step=10 #not used with dask\n",
    "w_l=np.arange(wlmax)\n",
    "l=np.arange(lmax)"
   ]
  },
  {
   "cell_type": "code",
   "execution_count": 5,
   "metadata": {},
   "outputs": [],
   "source": [
    "import dask\n",
    "import dask.array as da\n",
    "from dask import delayed\n",
    "\n",
    "from distributed import LocalCluster\n",
    "from dask.distributed import Client  # we already had this above\n",
    "#http://distributed.readthedocs.io/en/latest/_modules/distributed/worker.html\n",
    "LC=LocalCluster(n_workers=1,processes=False,memory_limit='50gb',threads_per_worker=ncpu,memory_spill_fraction=.99,\n",
    "               memory_monitor_interval='2000ms')\n",
    "client=Client(LC)"
   ]
  },
  {
   "cell_type": "code",
   "execution_count": 6,
   "metadata": {},
   "outputs": [],
   "source": [
    "def wigner_3j_asym(j_1,j_2,j_3,m_1,m_2,m_3): #assume j1,j2>>j3.... wiki\n",
    "    sj=(j_1+j_2+1)\n",
    "    th=np.arccos((m_1-m_2)/sj)\n",
    "    wd=wigner_d(m_3,j_2-j_1,np.atleast_1d(th),j_3)[0,0]\n",
    "    print(wd)\n",
    "    return ((-1)**(j_2+m_2))*wd/np.sqrt(sj)"
   ]
  },
  {
   "cell_type": "code",
   "execution_count": 7,
   "metadata": {},
   "outputs": [],
   "source": [
    "def wigner_3j_asym_H(j_1,j_2,j_3,m_1,m_2,m_3): #j1+j2+j3>>1, m1=m2=m3=0.. Hivon\n",
    "    wj=2*(j1*j2)**2\n",
    "    wj+=2*(j2*j3)**2\n",
    "    wj+=2*(j1*j3)**2\n",
    "    wj-=j1**4+j2**4+j3**4\n",
    "    wj=wj**(-0.5)\n",
    "    wj*=2./np.pi\n",
    "    return np.sqrt(wj)*(-1)**((j_1+j_2+j_3)/2)\n",
    "\n",
    "def wigner_3j_asym_H2(j_1,j_2,j_3,m_1,m_2,m_3): #j1+j2+j3>>1, m1=m2=m3=0.. Hivon\n",
    "    J=j_1+j_2+j_3\n",
    "    logwj=log_factorial(J/2)\n",
    "    logwj-=log_factorial(J/2-j_1)\n",
    "    logwj-=log_factorial(J/2-j_2)\n",
    "    logwj-=log_factorial(J/2-j_3)\n",
    "    logwj-=0.5*log_factorial(J+1)\n",
    "    logwj+=0.5*log_factorial(J-2*j_1)\n",
    "    logwj+=0.5*log_factorial(J-2*j_2)\n",
    "    logwj+=0.5*log_factorial(J-2*j_3)\n",
    "    return (-1)**(J/2)*np.exp(logwj)"
   ]
  },
  {
   "cell_type": "code",
   "execution_count": 8,
   "metadata": {},
   "outputs": [],
   "source": [
    "def wig3j_map(m1,m2,m3,j1,j2,j3,asym_fact=np.inf):\n",
    "#     n1=len(l)\n",
    "#     n2=len(l)\n",
    "#     n3=len(j3)\n",
    "\n",
    "#     c=np.array(list(Comb(l,l,j3)))\n",
    "# #     print(c.shape)\n",
    "#     j_max=np.amax(l.max()+l.max()+l.max()+1)\n",
    "#     _calc_factlist(j_max)\n",
    "#     d_mat=client.gather(client.map(partial(wigner_3j_3, m_1, m_2, m_3),c))\n",
    "#     d_mat=np.array(d_mat).reshape(n1,n2,n3)\n",
    "    \n",
    "    return Wigner3j_parallel( m1, m2, m3,np.atleast_1d(j1), np.atleast_1d(j2) ,np.atleast_1d(j3),ncpu=1,\n",
    "                             asym_fact=asym_fact)[:,:,0]\n",
    "\n",
    "\n",
    "# dst=client.map(wig3j_map,w_l)"
   ]
  },
  {
   "cell_type": "code",
   "execution_count": 9,
   "metadata": {},
   "outputs": [],
   "source": [
    "def Wigner3j_parallel2( m_1, m_2, m_3,j_1, j_2, j_3,ncpu=None,asym_fact=np.inf):\n",
    "    if ncpu is None:\n",
    "        ncpu=cpu_count()-2\n",
    "    p=Pool(ncpu)\n",
    "\n",
    "    j_max=np.amax(j_1.max()+j_2.max()+j_3.max()+1)\n",
    "#     _calc_factlist(j_max)\n",
    "\n",
    "    n1=len(j_1)\n",
    "    n2=len(j_2)\n",
    "    n3=len(j_3)\n",
    "\n",
    "    c=np.array(np.meshgrid(j_1,j_2,j_3,indexing='ij')).T.reshape(-1,3) #only needed to put cuts below. Otherwise Comb is better\n",
    "\n",
    "    x=c[:,0]+c[:,1]-c[:,2]>=0\n",
    "    x*=c[:,0]-c[:,1]+c[:,2]>=0\n",
    "    x*=-c[:,0]+c[:,1]+c[:,2]>=0\n",
    "    \n",
    "    x*=abs(m_1) <= c[:,0]\n",
    "    x*=abs(m_2) <= c[:,1]\n",
    "    x*=abs(m_3) <= c[:,2]\n",
    "    \n",
    "    if m_1==0 and m_2==0 and m_3==0:\n",
    "        x*=(c[:,0]+c[:,1]+c[:,2])%2==0\n",
    "\n",
    "    c=c[x]\n",
    "    \n",
    "    \n",
    "    d_mat=p.map(partial(wigner_3j_3,asym_fact, m_1, m_2, m_3),c,chunksize=100)\n",
    "    p.close()\n",
    "    \n",
    "    dd=np.zeros((n1,n2,n3))\n",
    "    indx1=np.searchsorted(j_1,c[:,0])\n",
    "    indx2=np.searchsorted(j_2,c[:,1])\n",
    "    indx3=np.searchsorted(j_3,c[:,2])\n",
    "    dd[indx1,indx2,indx3]=d_mat\n",
    "    \n",
    "    return dd"
   ]
  },
  {
   "cell_type": "raw",
   "metadata": {},
   "source": [
    "j1=25\n",
    "j2=25\n",
    "j3=2\n",
    "m1=0\n",
    "m2=0\n",
    "m3=0\n",
    "%time x=np.float32(wigner_3j(j1,j2,j3,m1,m2,m3))#.evalf()\n",
    "%time x2=wigner_3j_000(j1,j2,j3,m1,m2,m3)\n",
    "# %time x3=wigner_3j_asym(j1,j2,j3,m1,m2,m3)\n",
    "%time x4=wigner_3j_3(np.inf,m1,m2,m3,[j1,j2,j3])\n",
    "\n",
    "x,np.real(x2),x4,x/x2,np.isclose(x,x2)"
   ]
  },
  {
   "cell_type": "raw",
   "metadata": {},
   "source": [
    "c=np.array(list(Comb(l,l,w_l)))\n",
    "x=c[:,0]<=c[:,1]+c[:,2]\n",
    "x*=c[:,1]<=c[:,0]+c[:,2]\n",
    "x*=c[:,2]<=c[:,1]+c[:,0]\n",
    "x.mean()"
   ]
  },
  {
   "cell_type": "raw",
   "metadata": {},
   "source": [
    "%time c=np.array(np.meshgrid(l,l,w_l,indexing='ij')).T.reshape(-1,3)\n",
    "# x=c[:,0]<=c[:,1]+c[:,2]\n",
    "# x*=c[:,1]<=c[:,0]+c[:,2]\n",
    "# x*=c[:,2]<=c[:,1]+c[:,0]\n",
    "# p=Pool(ncpu)\n",
    "# dd=np.zeros((100,100,30))\n",
    "# %time d_mat=p.map(partial(wigner_3j_3, m1, m2, m3),c[x],chunksize=100) #reshape(100,100,30)\n",
    "\n",
    "# indx1=np.searchsorted(l,c[x][:,0])\n",
    "# indx2=np.searchsorted(l,c[x][:,1])\n",
    "# indx3=np.searchsorted(w_l,c[x][:,2])\n",
    "# dd[indx1,indx2,indx3]=d_mat\n",
    "\n",
    "%time c=Comb(l,l,w_l)\n",
    "%time d_mat0=np.array(p.map(partial(wigner_3j_3, m1, m2, m3),c,chunksize=10)) #reshape(100,100,30)\n",
    "d_mat0=d_mat0.reshape(100,100,30)\n",
    "\n",
    "x=np.isclose(dd,d_mat0)\n",
    "x.mean()"
   ]
  },
  {
   "cell_type": "raw",
   "metadata": {},
   "source": [
    "yy=Wigner3j_parallel( m1, m2, m3,l, l, np.atleast_1d(w_l[1]),)"
   ]
  },
  {
   "cell_type": "code",
   "execution_count": 10,
   "metadata": {},
   "outputs": [],
   "source": [
    "asym_fact=100"
   ]
  },
  {
   "cell_type": "code",
   "execution_count": 11,
   "metadata": {},
   "outputs": [],
   "source": [
    "# if lmax>500:\n",
    "#     fname='temp/dask_wig3j_big_{i}.zarr'\n",
    "# else:\n",
    "#     fname='temp/dask_wig3j_test_{i}.zarr'\n",
    "fname='temp/dask_wig3j_l{lmax}_w{wlmax}_{i}.zarr'\n",
    "if asym_fact is not np.inf:\n",
    "    fname='temp/dask_wig3j_l{lmax}_w{wlmax}_{i}_asym'+str(asym_fact)+'.zarr'"
   ]
  },
  {
   "cell_type": "code",
   "execution_count": 12,
   "metadata": {},
   "outputs": [
    {
     "data": {
      "text/plain": [
       "('temp/dask_wig3j_l{lmax}_w{wlmax}_{i}_asym100.zarr', 5000, 500)"
      ]
     },
     "execution_count": 12,
     "metadata": {},
     "output_type": "execute_result"
    }
   ],
   "source": [
    "fname,lmax,wlmax"
   ]
  },
  {
   "cell_type": "raw",
   "metadata": {},
   "source": [
    "%time d=np.array(wig3j_map(m1,m2,m3,l,l,10))\n",
    "%time d2=Wigner3j_parallel2( m1, m2, m3,np.atleast_1d(l), np.atleast_1d(l) ,np.atleast_1d(10),ncpu=2)[:,:,0]\n",
    "x=np.isclose(d,d2)\n",
    "x.mean()"
   ]
  },
  {
   "cell_type": "raw",
   "metadata": {},
   "source": [
    "d2[~x],np.where(~x)"
   ]
  },
  {
   "cell_type": "code",
   "execution_count": 13,
   "metadata": {},
   "outputs": [
    {
     "data": {
      "text/plain": [
       "(array([   0,  100,  600, 1100, 1600, 2100, 2600, 3100, 3600, 4100, 4600,\n",
       "        5000]), (12,))"
      ]
     },
     "execution_count": 13,
     "metadata": {},
     "output_type": "execute_result"
    }
   ],
   "source": [
    "step=np.int(min(5e3,lmax/10))\n",
    "lb=np.sort(np.unique(np.append([0,100,lmax],np.arange(100,lmax,step))))\n",
    "lb,lb.shape"
   ]
  },
  {
   "cell_type": "raw",
   "metadata": {},
   "source": [
    "m1=0\n",
    "m2=0\n",
    "m3=0\n",
    "# arrs=[da.from_delayed(delayed(wig3j_map)(m1,m2,m3,l,l,np.atleast_1d(j3),asym_fact),shape=(lmax,lmax),dtype='float32') for j3 in w_l]\n",
    "\n",
    "arrs=[da.hstack([da.vstack([da.from_delayed(delayed(wig3j_map)(m1,m2,m3,l[lb[i]:lb[i+1]],l[lb[k]:lb[k+1]],\n",
    "                                                               np.atleast_1d(j3),asym_fact),\n",
    "                    shape=(lb[i+1]-lb[i],lb[k+1]-lb[k]),dtype='float32') \n",
    "                    for i in np.arange(len(lb)-1)]) \n",
    "                     for k in np.arange(len(lb)-1)])\n",
    "                      for j3 in w_l]\n",
    "arrs2=da.stack(arrs)\n",
    "arrs2=arrs2.rechunk(chunks=(1,1000,1000))\n",
    "\n",
    "%time arrs2.to_zarr(fname.format(i=0,lmax=lmax,wlmax=wlmax), overwrite=True)"
   ]
  },
  {
   "cell_type": "code",
   "execution_count": null,
   "metadata": {},
   "outputs": [
    {
     "name": "stderr",
     "output_type": "stream",
     "text": [
      "distributed.comm.inproc - WARNING - Closing dangling queue in <InProc local=inproc://136.152.250.183/12571/20 remote=inproc://136.152.250.183/12571/1>\n",
      "distributed.comm.inproc - WARNING - Closing dangling queue in <InProc local=inproc://136.152.250.183/12571/21 remote=inproc://136.152.250.183/12571/1>\n",
      "tornado.application - ERROR - Exception in callback functools.partial(<function wrap.<locals>.null_wrapper at 0x7fe667444840>, <Future finished exception=OSError(\"Timed out trying to connect to 'inproc://136.152.250.183/12571/1' after 10 s: connect() didn't finish in time\")>)\n",
      "Traceback (most recent call last):\n",
      "  File \"/usr/lib/python3.7/site-packages/distributed/comm/core.py\", line 186, in connect\n",
      "    quiet_exceptions=EnvironmentError)\n",
      "  File \"/usr/lib/python3.7/site-packages/tornado/gen.py\", line 1133, in run\n",
      "    value = future.result()\n",
      "tornado.util.TimeoutError: Timeout\n",
      "\n",
      "During handling of the above exception, another exception occurred:\n",
      "\n",
      "Traceback (most recent call last):\n",
      "  File \"/usr/lib/python3.7/site-packages/tornado/ioloop.py\", line 758, in _run_callback\n",
      "    ret = callback()\n",
      "  File \"/usr/lib/python3.7/site-packages/tornado/stack_context.py\", line 300, in null_wrapper\n",
      "    return fn(*args, **kwargs)\n",
      "  File \"/usr/lib/python3.7/site-packages/tornado/ioloop.py\", line 779, in _discard_future_result\n",
      "    future.result()\n",
      "  File \"/usr/lib/python3.7/site-packages/tornado/gen.py\", line 1141, in run\n",
      "    yielded = self.gen.throw(*exc_info)\n",
      "  File \"/usr/lib/python3.7/site-packages/distributed/worker.py\", line 267, in heartbeat\n",
      "    **self.monitor.recent())\n",
      "  File \"/usr/lib/python3.7/site-packages/tornado/gen.py\", line 1133, in run\n",
      "    value = future.result()\n",
      "  File \"/usr/lib/python3.7/site-packages/tornado/gen.py\", line 1141, in run\n",
      "    yielded = self.gen.throw(*exc_info)\n",
      "  File \"/usr/lib/python3.7/site-packages/distributed/core.py\", line 614, in send_recv_from_rpc\n",
      "    comm = yield self.pool.connect(self.addr)\n",
      "  File \"/usr/lib/python3.7/site-packages/tornado/gen.py\", line 1133, in run\n",
      "    value = future.result()\n",
      "  File \"/usr/lib/python3.7/site-packages/tornado/gen.py\", line 1141, in run\n",
      "    yielded = self.gen.throw(*exc_info)\n",
      "  File \"/usr/lib/python3.7/site-packages/distributed/core.py\", line 725, in connect\n",
      "    connection_args=self.connection_args)\n",
      "  File \"/usr/lib/python3.7/site-packages/tornado/gen.py\", line 1133, in run\n",
      "    value = future.result()\n",
      "  File \"/usr/lib/python3.7/site-packages/tornado/gen.py\", line 1141, in run\n",
      "    yielded = self.gen.throw(*exc_info)\n",
      "  File \"/usr/lib/python3.7/site-packages/distributed/comm/core.py\", line 195, in connect\n",
      "    _raise(error)\n",
      "  File \"/usr/lib/python3.7/site-packages/distributed/comm/core.py\", line 178, in _raise\n",
      "    raise IOError(msg)\n",
      "OSError: Timed out trying to connect to 'inproc://136.152.250.183/12571/1' after 10 s: connect() didn't finish in time\n",
      "tornado.application - ERROR - Exception in callback functools.partial(<function wrap.<locals>.null_wrapper at 0x7fe667372840>, <Future finished exception=OSError(\"Timed out trying to connect to 'inproc://136.152.250.183/12571/1' after 10 s: connect() didn't finish in time\")>)\n",
      "Traceback (most recent call last):\n",
      "  File \"/usr/lib/python3.7/site-packages/distributed/comm/core.py\", line 186, in connect\n",
      "    quiet_exceptions=EnvironmentError)\n",
      "  File \"/usr/lib/python3.7/site-packages/tornado/gen.py\", line 1133, in run\n",
      "    value = future.result()\n",
      "tornado.util.TimeoutError: Timeout\n",
      "\n",
      "During handling of the above exception, another exception occurred:\n",
      "\n",
      "Traceback (most recent call last):\n",
      "  File \"/usr/lib/python3.7/site-packages/tornado/ioloop.py\", line 758, in _run_callback\n",
      "    ret = callback()\n",
      "  File \"/usr/lib/python3.7/site-packages/tornado/stack_context.py\", line 300, in null_wrapper\n",
      "    return fn(*args, **kwargs)\n",
      "  File \"/usr/lib/python3.7/site-packages/tornado/ioloop.py\", line 779, in _discard_future_result\n",
      "    future.result()\n",
      "  File \"/usr/lib/python3.7/site-packages/tornado/gen.py\", line 1141, in run\n",
      "    yielded = self.gen.throw(*exc_info)\n",
      "  File \"/usr/lib/python3.7/site-packages/distributed/worker.py\", line 267, in heartbeat\n",
      "    **self.monitor.recent())\n",
      "  File \"/usr/lib/python3.7/site-packages/tornado/gen.py\", line 1133, in run\n",
      "    value = future.result()\n",
      "  File \"/usr/lib/python3.7/site-packages/tornado/gen.py\", line 1141, in run\n",
      "    yielded = self.gen.throw(*exc_info)\n",
      "  File \"/usr/lib/python3.7/site-packages/distributed/core.py\", line 614, in send_recv_from_rpc\n",
      "    comm = yield self.pool.connect(self.addr)\n",
      "  File \"/usr/lib/python3.7/site-packages/tornado/gen.py\", line 1133, in run\n",
      "    value = future.result()\n",
      "  File \"/usr/lib/python3.7/site-packages/tornado/gen.py\", line 1141, in run\n",
      "    yielded = self.gen.throw(*exc_info)\n",
      "  File \"/usr/lib/python3.7/site-packages/distributed/core.py\", line 725, in connect\n",
      "    connection_args=self.connection_args)\n",
      "  File \"/usr/lib/python3.7/site-packages/tornado/gen.py\", line 1133, in run\n",
      "    value = future.result()\n",
      "  File \"/usr/lib/python3.7/site-packages/tornado/gen.py\", line 1141, in run\n",
      "    yielded = self.gen.throw(*exc_info)\n",
      "  File \"/usr/lib/python3.7/site-packages/distributed/comm/core.py\", line 195, in connect\n",
      "    _raise(error)\n",
      "  File \"/usr/lib/python3.7/site-packages/distributed/comm/core.py\", line 178, in _raise\n",
      "    raise IOError(msg)\n",
      "OSError: Timed out trying to connect to 'inproc://136.152.250.183/12571/1' after 10 s: connect() didn't finish in time\n",
      "tornado.application - ERROR - Exception in callback functools.partial(<function wrap.<locals>.null_wrapper at 0x7fe667319378>, <Future finished exception=OSError(\"Timed out trying to connect to 'inproc://136.152.250.183/12571/1' after 10 s: connect() didn't finish in time\")>)\n",
      "Traceback (most recent call last):\n",
      "  File \"/usr/lib/python3.7/site-packages/distributed/comm/core.py\", line 186, in connect\n",
      "    quiet_exceptions=EnvironmentError)\n",
      "  File \"/usr/lib/python3.7/site-packages/tornado/gen.py\", line 1133, in run\n",
      "    value = future.result()\n",
      "tornado.util.TimeoutError: Timeout\n",
      "\n",
      "During handling of the above exception, another exception occurred:\n",
      "\n",
      "Traceback (most recent call last):\n",
      "  File \"/usr/lib/python3.7/site-packages/tornado/ioloop.py\", line 758, in _run_callback\n",
      "    ret = callback()\n",
      "  File \"/usr/lib/python3.7/site-packages/tornado/stack_context.py\", line 300, in null_wrapper\n",
      "    return fn(*args, **kwargs)\n",
      "  File \"/usr/lib/python3.7/site-packages/tornado/ioloop.py\", line 779, in _discard_future_result\n",
      "    future.result()\n",
      "  File \"/usr/lib/python3.7/site-packages/tornado/gen.py\", line 1141, in run\n",
      "    yielded = self.gen.throw(*exc_info)\n",
      "  File \"/usr/lib/python3.7/site-packages/distributed/worker.py\", line 267, in heartbeat\n",
      "    **self.monitor.recent())\n",
      "  File \"/usr/lib/python3.7/site-packages/tornado/gen.py\", line 1133, in run\n",
      "    value = future.result()\n",
      "  File \"/usr/lib/python3.7/site-packages/tornado/gen.py\", line 1141, in run\n",
      "    yielded = self.gen.throw(*exc_info)\n",
      "  File \"/usr/lib/python3.7/site-packages/distributed/core.py\", line 614, in send_recv_from_rpc\n",
      "    comm = yield self.pool.connect(self.addr)\n",
      "  File \"/usr/lib/python3.7/site-packages/tornado/gen.py\", line 1133, in run\n",
      "    value = future.result()\n",
      "  File \"/usr/lib/python3.7/site-packages/tornado/gen.py\", line 1141, in run\n",
      "    yielded = self.gen.throw(*exc_info)\n",
      "  File \"/usr/lib/python3.7/site-packages/distributed/core.py\", line 725, in connect\n",
      "    connection_args=self.connection_args)\n",
      "  File \"/usr/lib/python3.7/site-packages/tornado/gen.py\", line 1133, in run\n",
      "    value = future.result()\n",
      "  File \"/usr/lib/python3.7/site-packages/tornado/gen.py\", line 1141, in run\n",
      "    yielded = self.gen.throw(*exc_info)\n",
      "  File \"/usr/lib/python3.7/site-packages/distributed/comm/core.py\", line 195, in connect\n",
      "    _raise(error)\n",
      "  File \"/usr/lib/python3.7/site-packages/distributed/comm/core.py\", line 178, in _raise\n",
      "    raise IOError(msg)\n",
      "OSError: Timed out trying to connect to 'inproc://136.152.250.183/12571/1' after 10 s: connect() didn't finish in time\n",
      "tornado.application - ERROR - Exception in callback functools.partial(<function wrap.<locals>.null_wrapper at 0x7fe66726ec80>, <Future finished exception=OSError(\"Timed out trying to connect to 'inproc://136.152.250.183/12571/1' after 10 s: connect() didn't finish in time\")>)\n",
      "Traceback (most recent call last):\n",
      "  File \"/usr/lib/python3.7/site-packages/distributed/comm/core.py\", line 186, in connect\n",
      "    quiet_exceptions=EnvironmentError)\n",
      "  File \"/usr/lib/python3.7/site-packages/tornado/gen.py\", line 1133, in run\n",
      "    value = future.result()\n",
      "tornado.util.TimeoutError: Timeout\n",
      "\n",
      "During handling of the above exception, another exception occurred:\n",
      "\n",
      "Traceback (most recent call last):\n",
      "  File \"/usr/lib/python3.7/site-packages/tornado/ioloop.py\", line 758, in _run_callback\n",
      "    ret = callback()\n",
      "  File \"/usr/lib/python3.7/site-packages/tornado/stack_context.py\", line 300, in null_wrapper\n",
      "    return fn(*args, **kwargs)\n",
      "  File \"/usr/lib/python3.7/site-packages/tornado/ioloop.py\", line 779, in _discard_future_result\n",
      "    future.result()\n",
      "  File \"/usr/lib/python3.7/site-packages/tornado/gen.py\", line 1141, in run\n",
      "    yielded = self.gen.throw(*exc_info)\n",
      "  File \"/usr/lib/python3.7/site-packages/distributed/worker.py\", line 267, in heartbeat\n",
      "    **self.monitor.recent())\n",
      "  File \"/usr/lib/python3.7/site-packages/tornado/gen.py\", line 1133, in run\n",
      "    value = future.result()\n",
      "  File \"/usr/lib/python3.7/site-packages/tornado/gen.py\", line 1141, in run\n",
      "    yielded = self.gen.throw(*exc_info)\n",
      "  File \"/usr/lib/python3.7/site-packages/distributed/core.py\", line 614, in send_recv_from_rpc\n",
      "    comm = yield self.pool.connect(self.addr)\n",
      "  File \"/usr/lib/python3.7/site-packages/tornado/gen.py\", line 1133, in run\n",
      "    value = future.result()\n",
      "  File \"/usr/lib/python3.7/site-packages/tornado/gen.py\", line 1141, in run\n",
      "    yielded = self.gen.throw(*exc_info)\n",
      "  File \"/usr/lib/python3.7/site-packages/distributed/core.py\", line 725, in connect\n",
      "    connection_args=self.connection_args)\n",
      "  File \"/usr/lib/python3.7/site-packages/tornado/gen.py\", line 1133, in run\n",
      "    value = future.result()\n",
      "  File \"/usr/lib/python3.7/site-packages/tornado/gen.py\", line 1141, in run\n",
      "    yielded = self.gen.throw(*exc_info)\n",
      "  File \"/usr/lib/python3.7/site-packages/distributed/comm/core.py\", line 195, in connect\n",
      "    _raise(error)\n",
      "  File \"/usr/lib/python3.7/site-packages/distributed/comm/core.py\", line 178, in _raise\n",
      "    raise IOError(msg)\n",
      "OSError: Timed out trying to connect to 'inproc://136.152.250.183/12571/1' after 10 s: connect() didn't finish in time\n"
     ]
    },
    {
     "name": "stderr",
     "output_type": "stream",
     "text": [
      "tornado.application - ERROR - Exception in callback functools.partial(<function wrap.<locals>.null_wrapper at 0x7fe6672132f0>, <Future finished exception=OSError(\"Timed out trying to connect to 'inproc://136.152.250.183/12571/1' after 10 s: connect() didn't finish in time\")>)\n",
      "Traceback (most recent call last):\n",
      "  File \"/usr/lib/python3.7/site-packages/distributed/comm/core.py\", line 186, in connect\n",
      "    quiet_exceptions=EnvironmentError)\n",
      "  File \"/usr/lib/python3.7/site-packages/tornado/gen.py\", line 1133, in run\n",
      "    value = future.result()\n",
      "tornado.util.TimeoutError: Timeout\n",
      "\n",
      "During handling of the above exception, another exception occurred:\n",
      "\n",
      "Traceback (most recent call last):\n",
      "  File \"/usr/lib/python3.7/site-packages/tornado/ioloop.py\", line 758, in _run_callback\n",
      "    ret = callback()\n",
      "  File \"/usr/lib/python3.7/site-packages/tornado/stack_context.py\", line 300, in null_wrapper\n",
      "    return fn(*args, **kwargs)\n",
      "  File \"/usr/lib/python3.7/site-packages/tornado/ioloop.py\", line 779, in _discard_future_result\n",
      "    future.result()\n",
      "  File \"/usr/lib/python3.7/site-packages/tornado/gen.py\", line 1141, in run\n",
      "    yielded = self.gen.throw(*exc_info)\n",
      "  File \"/usr/lib/python3.7/site-packages/distributed/worker.py\", line 267, in heartbeat\n",
      "    **self.monitor.recent())\n",
      "  File \"/usr/lib/python3.7/site-packages/tornado/gen.py\", line 1133, in run\n",
      "    value = future.result()\n",
      "  File \"/usr/lib/python3.7/site-packages/tornado/gen.py\", line 1141, in run\n",
      "    yielded = self.gen.throw(*exc_info)\n",
      "  File \"/usr/lib/python3.7/site-packages/distributed/core.py\", line 614, in send_recv_from_rpc\n",
      "    comm = yield self.pool.connect(self.addr)\n",
      "  File \"/usr/lib/python3.7/site-packages/tornado/gen.py\", line 1133, in run\n",
      "    value = future.result()\n",
      "  File \"/usr/lib/python3.7/site-packages/tornado/gen.py\", line 1141, in run\n",
      "    yielded = self.gen.throw(*exc_info)\n",
      "  File \"/usr/lib/python3.7/site-packages/distributed/core.py\", line 725, in connect\n",
      "    connection_args=self.connection_args)\n",
      "  File \"/usr/lib/python3.7/site-packages/tornado/gen.py\", line 1133, in run\n",
      "    value = future.result()\n",
      "  File \"/usr/lib/python3.7/site-packages/tornado/gen.py\", line 1141, in run\n",
      "    yielded = self.gen.throw(*exc_info)\n",
      "  File \"/usr/lib/python3.7/site-packages/distributed/comm/core.py\", line 195, in connect\n",
      "    _raise(error)\n",
      "  File \"/usr/lib/python3.7/site-packages/distributed/comm/core.py\", line 178, in _raise\n",
      "    raise IOError(msg)\n",
      "OSError: Timed out trying to connect to 'inproc://136.152.250.183/12571/1' after 10 s: connect() didn't finish in time\n",
      "tornado.application - ERROR - Exception in callback functools.partial(<function wrap.<locals>.null_wrapper at 0x7fe667163d08>, <Future finished exception=OSError(\"Timed out trying to connect to 'inproc://136.152.250.183/12571/1' after 10 s: connect() didn't finish in time\")>)\n",
      "Traceback (most recent call last):\n",
      "  File \"/usr/lib/python3.7/site-packages/distributed/comm/core.py\", line 186, in connect\n",
      "    quiet_exceptions=EnvironmentError)\n",
      "  File \"/usr/lib/python3.7/site-packages/tornado/gen.py\", line 1133, in run\n",
      "    value = future.result()\n",
      "tornado.util.TimeoutError: Timeout\n",
      "\n",
      "During handling of the above exception, another exception occurred:\n",
      "\n",
      "Traceback (most recent call last):\n",
      "  File \"/usr/lib/python3.7/site-packages/tornado/ioloop.py\", line 758, in _run_callback\n",
      "    ret = callback()\n",
      "  File \"/usr/lib/python3.7/site-packages/tornado/stack_context.py\", line 300, in null_wrapper\n",
      "    return fn(*args, **kwargs)\n",
      "  File \"/usr/lib/python3.7/site-packages/tornado/ioloop.py\", line 779, in _discard_future_result\n",
      "    future.result()\n",
      "  File \"/usr/lib/python3.7/site-packages/tornado/gen.py\", line 1141, in run\n",
      "    yielded = self.gen.throw(*exc_info)\n",
      "  File \"/usr/lib/python3.7/site-packages/distributed/worker.py\", line 267, in heartbeat\n",
      "    **self.monitor.recent())\n",
      "  File \"/usr/lib/python3.7/site-packages/tornado/gen.py\", line 1133, in run\n",
      "    value = future.result()\n",
      "  File \"/usr/lib/python3.7/site-packages/tornado/gen.py\", line 1141, in run\n",
      "    yielded = self.gen.throw(*exc_info)\n",
      "  File \"/usr/lib/python3.7/site-packages/distributed/core.py\", line 614, in send_recv_from_rpc\n",
      "    comm = yield self.pool.connect(self.addr)\n",
      "  File \"/usr/lib/python3.7/site-packages/tornado/gen.py\", line 1133, in run\n",
      "    value = future.result()\n",
      "  File \"/usr/lib/python3.7/site-packages/tornado/gen.py\", line 1141, in run\n",
      "    yielded = self.gen.throw(*exc_info)\n",
      "  File \"/usr/lib/python3.7/site-packages/distributed/core.py\", line 725, in connect\n",
      "    connection_args=self.connection_args)\n",
      "  File \"/usr/lib/python3.7/site-packages/tornado/gen.py\", line 1133, in run\n",
      "    value = future.result()\n",
      "  File \"/usr/lib/python3.7/site-packages/tornado/gen.py\", line 1141, in run\n",
      "    yielded = self.gen.throw(*exc_info)\n",
      "  File \"/usr/lib/python3.7/site-packages/distributed/comm/core.py\", line 195, in connect\n",
      "    _raise(error)\n",
      "  File \"/usr/lib/python3.7/site-packages/distributed/comm/core.py\", line 178, in _raise\n",
      "    raise IOError(msg)\n",
      "OSError: Timed out trying to connect to 'inproc://136.152.250.183/12571/1' after 10 s: connect() didn't finish in time\n",
      "tornado.application - ERROR - Exception in callback functools.partial(<function wrap.<locals>.null_wrapper at 0x7fe667105620>, <Future finished exception=OSError(\"Timed out trying to connect to 'inproc://136.152.250.183/12571/1' after 10 s: connect() didn't finish in time\")>)\n",
      "Traceback (most recent call last):\n",
      "  File \"/usr/lib/python3.7/site-packages/distributed/comm/core.py\", line 186, in connect\n",
      "    quiet_exceptions=EnvironmentError)\n",
      "  File \"/usr/lib/python3.7/site-packages/tornado/gen.py\", line 1133, in run\n",
      "    value = future.result()\n",
      "tornado.util.TimeoutError: Timeout\n",
      "\n",
      "During handling of the above exception, another exception occurred:\n",
      "\n",
      "Traceback (most recent call last):\n",
      "  File \"/usr/lib/python3.7/site-packages/tornado/ioloop.py\", line 758, in _run_callback\n",
      "    ret = callback()\n",
      "  File \"/usr/lib/python3.7/site-packages/tornado/stack_context.py\", line 300, in null_wrapper\n",
      "    return fn(*args, **kwargs)\n",
      "  File \"/usr/lib/python3.7/site-packages/tornado/ioloop.py\", line 779, in _discard_future_result\n",
      "    future.result()\n",
      "  File \"/usr/lib/python3.7/site-packages/tornado/gen.py\", line 1141, in run\n",
      "    yielded = self.gen.throw(*exc_info)\n",
      "  File \"/usr/lib/python3.7/site-packages/distributed/worker.py\", line 267, in heartbeat\n",
      "    **self.monitor.recent())\n",
      "  File \"/usr/lib/python3.7/site-packages/tornado/gen.py\", line 1133, in run\n",
      "    value = future.result()\n",
      "  File \"/usr/lib/python3.7/site-packages/tornado/gen.py\", line 1141, in run\n",
      "    yielded = self.gen.throw(*exc_info)\n",
      "  File \"/usr/lib/python3.7/site-packages/distributed/core.py\", line 614, in send_recv_from_rpc\n",
      "    comm = yield self.pool.connect(self.addr)\n",
      "  File \"/usr/lib/python3.7/site-packages/tornado/gen.py\", line 1133, in run\n",
      "    value = future.result()\n",
      "  File \"/usr/lib/python3.7/site-packages/tornado/gen.py\", line 1141, in run\n",
      "    yielded = self.gen.throw(*exc_info)\n",
      "  File \"/usr/lib/python3.7/site-packages/distributed/core.py\", line 725, in connect\n",
      "    connection_args=self.connection_args)\n",
      "  File \"/usr/lib/python3.7/site-packages/tornado/gen.py\", line 1133, in run\n",
      "    value = future.result()\n",
      "  File \"/usr/lib/python3.7/site-packages/tornado/gen.py\", line 1141, in run\n",
      "    yielded = self.gen.throw(*exc_info)\n",
      "  File \"/usr/lib/python3.7/site-packages/distributed/comm/core.py\", line 195, in connect\n",
      "    _raise(error)\n",
      "  File \"/usr/lib/python3.7/site-packages/distributed/comm/core.py\", line 178, in _raise\n",
      "    raise IOError(msg)\n",
      "OSError: Timed out trying to connect to 'inproc://136.152.250.183/12571/1' after 10 s: connect() didn't finish in time\n",
      "tornado.application - ERROR - Exception in callback functools.partial(<function wrap.<locals>.null_wrapper at 0x7fe66701e2f0>, <Future finished exception=OSError(\"Timed out trying to connect to 'inproc://136.152.250.183/12571/1' after 10 s: connect() didn't finish in time\")>)\n",
      "Traceback (most recent call last):\n",
      "  File \"/usr/lib/python3.7/site-packages/distributed/comm/core.py\", line 186, in connect\n",
      "    quiet_exceptions=EnvironmentError)\n",
      "  File \"/usr/lib/python3.7/site-packages/tornado/gen.py\", line 1133, in run\n",
      "    value = future.result()\n",
      "tornado.util.TimeoutError: Timeout\n",
      "\n",
      "During handling of the above exception, another exception occurred:\n",
      "\n",
      "Traceback (most recent call last):\n",
      "  File \"/usr/lib/python3.7/site-packages/tornado/ioloop.py\", line 758, in _run_callback\n",
      "    ret = callback()\n",
      "  File \"/usr/lib/python3.7/site-packages/tornado/stack_context.py\", line 300, in null_wrapper\n",
      "    return fn(*args, **kwargs)\n",
      "  File \"/usr/lib/python3.7/site-packages/tornado/ioloop.py\", line 779, in _discard_future_result\n",
      "    future.result()\n",
      "  File \"/usr/lib/python3.7/site-packages/tornado/gen.py\", line 1141, in run\n",
      "    yielded = self.gen.throw(*exc_info)\n",
      "  File \"/usr/lib/python3.7/site-packages/distributed/worker.py\", line 267, in heartbeat\n",
      "    **self.monitor.recent())\n",
      "  File \"/usr/lib/python3.7/site-packages/tornado/gen.py\", line 1133, in run\n",
      "    value = future.result()\n",
      "  File \"/usr/lib/python3.7/site-packages/tornado/gen.py\", line 1141, in run\n",
      "    yielded = self.gen.throw(*exc_info)\n",
      "  File \"/usr/lib/python3.7/site-packages/distributed/core.py\", line 614, in send_recv_from_rpc\n",
      "    comm = yield self.pool.connect(self.addr)\n",
      "  File \"/usr/lib/python3.7/site-packages/tornado/gen.py\", line 1133, in run\n",
      "    value = future.result()\n",
      "  File \"/usr/lib/python3.7/site-packages/tornado/gen.py\", line 1141, in run\n",
      "    yielded = self.gen.throw(*exc_info)\n",
      "  File \"/usr/lib/python3.7/site-packages/distributed/core.py\", line 725, in connect\n",
      "    connection_args=self.connection_args)\n",
      "  File \"/usr/lib/python3.7/site-packages/tornado/gen.py\", line 1133, in run\n",
      "    value = future.result()\n",
      "  File \"/usr/lib/python3.7/site-packages/tornado/gen.py\", line 1141, in run\n",
      "    yielded = self.gen.throw(*exc_info)\n",
      "  File \"/usr/lib/python3.7/site-packages/distributed/comm/core.py\", line 195, in connect\n",
      "    _raise(error)\n",
      "  File \"/usr/lib/python3.7/site-packages/distributed/comm/core.py\", line 178, in _raise\n",
      "    raise IOError(msg)\n",
      "OSError: Timed out trying to connect to 'inproc://136.152.250.183/12571/1' after 10 s: connect() didn't finish in time\n"
     ]
    },
    {
     "name": "stderr",
     "output_type": "stream",
     "text": [
      "/home/deep/repos/cosmic_shear/wigner_functions.py:374: RuntimeWarning: invalid value encountered in power\n",
      "  wj=(-1)**(J/2)*np.exp(logwj)\n",
      "distributed.comm.inproc - WARNING - Closing dangling queue in <InProc local=inproc://136.152.250.183/12571/24 remote=inproc://136.152.250.183/12571/1>\n",
      "distributed.comm.inproc - WARNING - Closing dangling queue in <InProc local=inproc://136.152.250.183/12571/25 remote=inproc://136.152.250.183/12571/1>\n",
      "distributed.comm.inproc - WARNING - Closing dangling queue in <InProc local=inproc://136.152.250.183/12571/26 remote=inproc://136.152.250.183/12571/1>\n",
      "distributed.comm.inproc - WARNING - Closing dangling queue in <InProc local=inproc://136.152.250.183/12571/27 remote=inproc://136.152.250.183/12571/1>\n",
      "distributed.comm.inproc - WARNING - Closing dangling queue in <InProc local=inproc://136.152.250.183/12571/28 remote=inproc://136.152.250.183/12571/1>\n",
      "distributed.comm.inproc - WARNING - Closing dangling queue in <InProc local=inproc://136.152.250.183/12571/29 remote=inproc://136.152.250.183/12571/1>\n",
      "distributed.comm.inproc - WARNING - Closing dangling queue in <InProc local=inproc://136.152.250.183/12571/30 remote=inproc://136.152.250.183/12571/1>\n",
      "distributed.comm.inproc - WARNING - Closing dangling queue in <InProc local=inproc://136.152.250.183/12571/31 remote=inproc://136.152.250.183/12571/1>\n",
      "distributed.comm.inproc - WARNING - Closing dangling queue in <InProc local=inproc://136.152.250.183/12571/24 remote=inproc://136.152.250.183/12571/1>\n",
      "distributed.comm.inproc - WARNING - Closing dangling queue in <InProc local=inproc://136.152.250.183/12571/25 remote=inproc://136.152.250.183/12571/1>\n",
      "distributed.comm.inproc - WARNING - Closing dangling queue in <InProc local=inproc://136.152.250.183/12571/26 remote=inproc://136.152.250.183/12571/1>\n",
      "distributed.comm.inproc - WARNING - Closing dangling queue in <InProc local=inproc://136.152.250.183/12571/27 remote=inproc://136.152.250.183/12571/1>\n",
      "distributed.comm.inproc - WARNING - Closing dangling queue in <InProc local=inproc://136.152.250.183/12571/28 remote=inproc://136.152.250.183/12571/1>\n",
      "distributed.comm.inproc - WARNING - Closing dangling queue in <InProc local=inproc://136.152.250.183/12571/29 remote=inproc://136.152.250.183/12571/1>\n",
      "distributed.comm.inproc - WARNING - Closing dangling queue in <InProc local=inproc://136.152.250.183/12571/30 remote=inproc://136.152.250.183/12571/1>\n",
      "distributed.comm.inproc - WARNING - Closing dangling queue in <InProc local=inproc://136.152.250.183/12571/31 remote=inproc://136.152.250.183/12571/1>\n",
      "distributed.comm.inproc - WARNING - Closing dangling queue in <InProc local=inproc://136.152.250.183/12571/24 remote=inproc://136.152.250.183/12571/1>\n",
      "distributed.comm.inproc - WARNING - Closing dangling queue in <InProc local=inproc://136.152.250.183/12571/25 remote=inproc://136.152.250.183/12571/1>\n",
      "distributed.comm.inproc - WARNING - Closing dangling queue in <InProc local=inproc://136.152.250.183/12571/26 remote=inproc://136.152.250.183/12571/1>\n",
      "distributed.comm.inproc - WARNING - Closing dangling queue in <InProc local=inproc://136.152.250.183/12571/27 remote=inproc://136.152.250.183/12571/1>\n",
      "distributed.comm.inproc - WARNING - Closing dangling queue in <InProc local=inproc://136.152.250.183/12571/28 remote=inproc://136.152.250.183/12571/1>\n",
      "distributed.comm.inproc - WARNING - Closing dangling queue in <InProc local=inproc://136.152.250.183/12571/29 remote=inproc://136.152.250.183/12571/1>\n",
      "distributed.comm.inproc - WARNING - Closing dangling queue in <InProc local=inproc://136.152.250.183/12571/30 remote=inproc://136.152.250.183/12571/1>\n",
      "distributed.comm.inproc - WARNING - Closing dangling queue in <InProc local=inproc://136.152.250.183/12571/31 remote=inproc://136.152.250.183/12571/1>\n",
      "distributed.comm.inproc - WARNING - Closing dangling queue in <InProc local=inproc://136.152.250.183/12571/24 remote=inproc://136.152.250.183/12571/1>\n",
      "distributed.comm.inproc - WARNING - Closing dangling queue in <InProc local=inproc://136.152.250.183/12571/25 remote=inproc://136.152.250.183/12571/1>\n",
      "distributed.comm.inproc - WARNING - Closing dangling queue in <InProc local=inproc://136.152.250.183/12571/26 remote=inproc://136.152.250.183/12571/1>\n",
      "distributed.comm.inproc - WARNING - Closing dangling queue in <InProc local=inproc://136.152.250.183/12571/27 remote=inproc://136.152.250.183/12571/1>\n",
      "distributed.comm.inproc - WARNING - Closing dangling queue in <InProc local=inproc://136.152.250.183/12571/28 remote=inproc://136.152.250.183/12571/1>\n",
      "distributed.comm.inproc - WARNING - Closing dangling queue in <InProc local=inproc://136.152.250.183/12571/29 remote=inproc://136.152.250.183/12571/1>\n",
      "distributed.comm.inproc - WARNING - Closing dangling queue in <InProc local=inproc://136.152.250.183/12571/30 remote=inproc://136.152.250.183/12571/1>\n",
      "distributed.comm.inproc - WARNING - Closing dangling queue in <InProc local=inproc://136.152.250.183/12571/31 remote=inproc://136.152.250.183/12571/1>\n",
      "distributed.comm.inproc - WARNING - Closing dangling queue in <InProc local=inproc://136.152.250.183/12571/24 remote=inproc://136.152.250.183/12571/1>\n",
      "distributed.comm.inproc - WARNING - Closing dangling queue in <InProc local=inproc://136.152.250.183/12571/25 remote=inproc://136.152.250.183/12571/1>\n",
      "distributed.comm.inproc - WARNING - Closing dangling queue in <InProc local=inproc://136.152.250.183/12571/26 remote=inproc://136.152.250.183/12571/1>\n",
      "distributed.comm.inproc - WARNING - Closing dangling queue in <InProc local=inproc://136.152.250.183/12571/27 remote=inproc://136.152.250.183/12571/1>\n",
      "distributed.comm.inproc - WARNING - Closing dangling queue in <InProc local=inproc://136.152.250.183/12571/28 remote=inproc://136.152.250.183/12571/1>\n",
      "distributed.comm.inproc - WARNING - Closing dangling queue in <InProc local=inproc://136.152.250.183/12571/29 remote=inproc://136.152.250.183/12571/1>\n",
      "distributed.comm.inproc - WARNING - Closing dangling queue in <InProc local=inproc://136.152.250.183/12571/30 remote=inproc://136.152.250.183/12571/1>\n",
      "distributed.comm.inproc - WARNING - Closing dangling queue in <InProc local=inproc://136.152.250.183/12571/31 remote=inproc://136.152.250.183/12571/1>\n"
     ]
    },
    {
     "name": "stdout",
     "output_type": "stream",
     "text": [
      "[436] 1099 599 done wig time,size:  9.9269118309021 1998 [635 199 436]\n"
     ]
    },
    {
     "name": "stderr",
     "output_type": "stream",
     "text": [
      "distributed.comm.inproc - WARNING - Closing dangling queue in <InProc local=inproc://136.152.250.183/12571/24 remote=inproc://136.152.250.183/12571/1>\n",
      "distributed.comm.inproc - WARNING - Closing dangling queue in <InProc local=inproc://136.152.250.183/12571/25 remote=inproc://136.152.250.183/12571/1>\n",
      "distributed.comm.inproc - WARNING - Closing dangling queue in <InProc local=inproc://136.152.250.183/12571/26 remote=inproc://136.152.250.183/12571/1>\n",
      "distributed.comm.inproc - WARNING - Closing dangling queue in <InProc local=inproc://136.152.250.183/12571/27 remote=inproc://136.152.250.183/12571/1>\n",
      "distributed.comm.inproc - WARNING - Closing dangling queue in <InProc local=inproc://136.152.250.183/12571/28 remote=inproc://136.152.250.183/12571/1>\n",
      "distributed.comm.inproc - WARNING - Closing dangling queue in <InProc local=inproc://136.152.250.183/12571/29 remote=inproc://136.152.250.183/12571/1>\n",
      "distributed.comm.inproc - WARNING - Closing dangling queue in <InProc local=inproc://136.152.250.183/12571/30 remote=inproc://136.152.250.183/12571/1>\n",
      "distributed.comm.inproc - WARNING - Closing dangling queue in <InProc local=inproc://136.152.250.183/12571/31 remote=inproc://136.152.250.183/12571/1>\n",
      "distributed.comm.inproc - WARNING - Closing dangling queue in <InProc local=inproc://136.152.250.183/12571/24 remote=inproc://136.152.250.183/12571/1>\n",
      "distributed.comm.inproc - WARNING - Closing dangling queue in <InProc local=inproc://136.152.250.183/12571/25 remote=inproc://136.152.250.183/12571/1>\n",
      "distributed.comm.inproc - WARNING - Closing dangling queue in <InProc local=inproc://136.152.250.183/12571/24 remote=inproc://136.152.250.183/12571/1>\n",
      "distributed.comm.inproc - WARNING - Closing dangling queue in <InProc local=inproc://136.152.250.183/12571/26 remote=inproc://136.152.250.183/12571/1>\n",
      "distributed.comm.inproc - WARNING - Closing dangling queue in <InProc local=inproc://136.152.250.183/12571/25 remote=inproc://136.152.250.183/12571/1>\n",
      "distributed.comm.inproc - WARNING - Closing dangling queue in <InProc local=inproc://136.152.250.183/12571/27 remote=inproc://136.152.250.183/12571/1>\n",
      "distributed.comm.inproc - WARNING - Closing dangling queue in <InProc local=inproc://136.152.250.183/12571/26 remote=inproc://136.152.250.183/12571/1>\n",
      "distributed.comm.inproc - WARNING - Closing dangling queue in <InProc local=inproc://136.152.250.183/12571/28 remote=inproc://136.152.250.183/12571/1>\n",
      "distributed.comm.inproc - WARNING - Closing dangling queue in <InProc local=inproc://136.152.250.183/12571/27 remote=inproc://136.152.250.183/12571/1>\n",
      "distributed.comm.inproc - WARNING - Closing dangling queue in <InProc local=inproc://136.152.250.183/12571/29 remote=inproc://136.152.250.183/12571/1>\n",
      "distributed.comm.inproc - WARNING - Closing dangling queue in <InProc local=inproc://136.152.250.183/12571/28 remote=inproc://136.152.250.183/12571/1>\n",
      "distributed.comm.inproc - WARNING - Closing dangling queue in <InProc local=inproc://136.152.250.183/12571/30 remote=inproc://136.152.250.183/12571/1>\n",
      "distributed.comm.inproc - WARNING - Closing dangling queue in <InProc local=inproc://136.152.250.183/12571/29 remote=inproc://136.152.250.183/12571/1>\n",
      "distributed.comm.inproc - WARNING - Closing dangling queue in <InProc local=inproc://136.152.250.183/12571/31 remote=inproc://136.152.250.183/12571/1>\n",
      "distributed.comm.inproc - WARNING - Closing dangling queue in <InProc local=inproc://136.152.250.183/12571/30 remote=inproc://136.152.250.183/12571/1>\n",
      "distributed.comm.inproc - WARNING - Closing dangling queue in <InProc local=inproc://136.152.250.183/12571/24 remote=inproc://136.152.250.183/12571/1>\n",
      "distributed.comm.inproc - WARNING - Closing dangling queue in <InProc local=inproc://136.152.250.183/12571/31 remote=inproc://136.152.250.183/12571/1>\n",
      "distributed.comm.inproc - WARNING - Closing dangling queue in <InProc local=inproc://136.152.250.183/12571/25 remote=inproc://136.152.250.183/12571/1>\n",
      "distributed.comm.inproc - WARNING - Closing dangling queue in <InProc local=inproc://136.152.250.183/12571/26 remote=inproc://136.152.250.183/12571/1>\n",
      "distributed.comm.inproc - WARNING - Closing dangling queue in <InProc local=inproc://136.152.250.183/12571/27 remote=inproc://136.152.250.183/12571/1>\n",
      "distributed.comm.inproc - WARNING - Closing dangling queue in <InProc local=inproc://136.152.250.183/12571/28 remote=inproc://136.152.250.183/12571/1>\n",
      "distributed.comm.inproc - WARNING - Closing dangling queue in <InProc local=inproc://136.152.250.183/12571/29 remote=inproc://136.152.250.183/12571/1>\n",
      "distributed.comm.inproc - WARNING - Closing dangling queue in <InProc local=inproc://136.152.250.183/12571/30 remote=inproc://136.152.250.183/12571/1>\n",
      "distributed.comm.inproc - WARNING - Closing dangling queue in <InProc local=inproc://136.152.250.183/12571/31 remote=inproc://136.152.250.183/12571/1>\n"
     ]
    }
   ],
   "source": [
    "m1=-2\n",
    "m2=2\n",
    "m3=0\n",
    "\n",
    "arrs=[da.hstack([da.vstack([da.from_delayed(delayed(wig3j_map)(m1,m2,m3,l[lb[i]:lb[i+1]],l[lb[k]:lb[k+1]],\n",
    "                                                               np.atleast_1d(j3),asym_fact),\n",
    "                    shape=(lb[i+1]-lb[i],lb[k+1]-lb[k]),dtype='float32') \n",
    "                    for i in np.arange(len(lb)-1)]) \n",
    "                     for k in np.arange(len(lb)-1)])\n",
    "                      for j3 in w_l]\n",
    "arrs2=da.stack(arrs)\n",
    "arrs2=arrs2.rechunk(chunks=(1,1000,1000))\n",
    "%time arrs2.to_zarr(fname.format(i=2,lmax=lmax,wlmax=wlmax),overwrite=True)"
   ]
  },
  {
   "cell_type": "code",
   "execution_count": null,
   "metadata": {},
   "outputs": [],
   "source": [
    "arrs2"
   ]
  },
  {
   "cell_type": "code",
   "execution_count": null,
   "metadata": {},
   "outputs": [],
   "source": []
  },
  {
   "cell_type": "raw",
   "metadata": {},
   "source": [
    "lf=int(lmax/5)\n",
    "lf2=lf\n",
    "\n",
    "m1=-2\n",
    "m2=2\n",
    "m3=0\n",
    "\n",
    "arrs=[da.hstack([da.vstack([da.from_delayed(delayed(wig3j_map)(m1,m2,m3,l[i:i+lf],l[k:k+lf2],np.atleast_1d(j3),asym_fact),\n",
    "                    shape=(min([lmax,lf,lmax-i]),min([lmax,lf2,lmax-k])),dtype='float32') \n",
    "                    for i in np.arange(lmax,step=lf)]) \n",
    "                     for k in np.arange(lmax,step=lf2)])\n",
    "                      for j3 in w_l]\n",
    "arrs2=da.stack(arrs)\n",
    "%time arrs2.to_zarr(fname.format(i=2,lmax=lmax,wlmax=wlmax),overwrite=True)"
   ]
  },
  {
   "cell_type": "raw",
   "metadata": {},
   "source": [
    "m1=-2\n",
    "m2=2\n",
    "m3=0\n",
    "# arrs=[da.from_delayed(delayed(wig3j_map)(m1,m2,m3,l,l,np.atleast_1d(j3),asym_fact),shape=(lmax,lmax),dtype='float32') for j3 in w_l]\n",
    "lf=int(lmax/5)\n",
    "arrs=[da.vstack([da.from_delayed(delayed(wig3j_map)(m1,m2,m3,l[i:i+lf],l,np.atleast_1d(j3),asym_fact),\n",
    "                      shape=(min([lmax,lf,lmax-i]),lmax),dtype='float32') for i in np.arange(lmax,step=lf)]) \n",
    "                      for j3 in w_l]\n",
    "arrs2=da.stack(arrs)\n",
    "%time arrs2.to_zarr(fname.format(i=2,lmax=lmax,wlmax=wlmax),overwrite=True)"
   ]
  },
  {
   "cell_type": "code",
   "execution_count": null,
   "metadata": {},
   "outputs": [],
   "source": [
    "z1=zarr.open('./temp/dask_wig3j_l100_w30_0_asym50.zarr/')\n",
    "z2=np.array(zarr.open('./temp/dask_wig3j_l100_w30_0.zarr/'))"
   ]
  },
  {
   "cell_type": "code",
   "execution_count": null,
   "metadata": {},
   "outputs": [],
   "source": [
    "z1.reshape(1,3000,100)"
   ]
  },
  {
   "cell_type": "code",
   "execution_count": null,
   "metadata": {},
   "outputs": [],
   "source": [
    "crash"
   ]
  },
  {
   "cell_type": "code",
   "execution_count": null,
   "metadata": {},
   "outputs": [],
   "source": [
    "zaa_in=zarr.open('temp/dask_test0.zarr')"
   ]
  },
  {
   "cell_type": "code",
   "execution_count": null,
   "metadata": {},
   "outputs": [],
   "source": [
    "np.einsum('i,ijk->jk',w_l,zaa_in)"
   ]
  },
  {
   "cell_type": "code",
   "execution_count": null,
   "metadata": {},
   "outputs": [],
   "source": [
    "zaa_in.oindex[np.int32(w_l[:5]), [1, 3],[1,5]]"
   ]
  },
  {
   "cell_type": "code",
   "execution_count": null,
   "metadata": {},
   "outputs": [],
   "source": [
    "zaa_in"
   ]
  },
  {
   "cell_type": "raw",
   "metadata": {},
   "source": [
    "da.read_zarr('temp/dask_test.zarr')"
   ]
  },
  {
   "cell_type": "code",
   "execution_count": null,
   "metadata": {},
   "outputs": [],
   "source": [
    "aa2 = da.from_array(zaa_in, chunks=zaa_in.chunks)"
   ]
  },
  {
   "cell_type": "code",
   "execution_count": null,
   "metadata": {},
   "outputs": [],
   "source": [
    "aa2"
   ]
  },
  {
   "cell_type": "raw",
   "metadata": {},
   "source": [
    "f = h5py.File('temp/dask_test.hdf5')\n",
    "d = f.require_dataset('0', shape=arrs2.shape, dtype=arrs2.dtype)\n",
    "da.store(arrs2, d)\n"
   ]
  },
  {
   "cell_type": "raw",
   "metadata": {},
   "source": [
    "da.to_hdf5('temp/dask_test.hdf5', {'0': arrs2})"
   ]
  },
  {
   "cell_type": "code",
   "execution_count": null,
   "metadata": {},
   "outputs": [],
   "source": []
  },
  {
   "cell_type": "code",
   "execution_count": null,
   "metadata": {},
   "outputs": [],
   "source": [
    "m_1=0\n",
    "m_2=0\n",
    "m_3=0\n",
    "fname='temp/wigner_test_big.h5'\n",
    "\n",
    "with h5py.File(fname,'w') as f:\n",
    "    dst = f.create_dataset(\"0\", shape=(lmax,lmax,wlmax),\n",
    "                           dtype=np.float32)\n",
    "    lm=0\n",
    "    while lm<lmax:\n",
    "        l_t=np.arange(lm,lm+l_step)\n",
    "        lm2=0\n",
    "        while lm2<lmax:\n",
    "            if lm2>lm+l_step+wlmax or lm>lm2+l_step+wlmax:\n",
    "                print(lm2,lm)\n",
    "                lm2+=l_step\n",
    "                continue\n",
    "            l_t2=np.arange(lm2,lm2+l_step)\n",
    "            dst[lm:lm+l_step,lm2:lm2+l_step,:]=Wigner3j_parallel( m_1, m_2, m_3,l_t, l_t2 , w_l,ncpu=ncpu)\n",
    "            \n",
    "            lm2+=l_step\n",
    "            \n",
    "        lm+=l_step"
   ]
  },
  {
   "cell_type": "code",
   "execution_count": null,
   "metadata": {},
   "outputs": [],
   "source": [
    "f.close()"
   ]
  },
  {
   "cell_type": "code",
   "execution_count": null,
   "metadata": {},
   "outputs": [],
   "source": [
    "m_1=2\n",
    "m_2=-2\n",
    "m_3=0\n",
    "\n",
    "with h5py.File(fname,'a') as f:\n",
    "    dst = f.create_dataset(\"2\", shape=(lmax,lmax,wlmax),\n",
    "                           dtype=np.float32)\n",
    "    lm=0\n",
    "    while lm<lmax:\n",
    "        l_t=np.arange(lm,lm+l_step)\n",
    "        lm2=0\n",
    "        while lm2<lmax:\n",
    "            if lm2>lm+l_step+wlmax or lm>lm2+l_step+wlmax:\n",
    "                print(lm2,lm)\n",
    "                lm2+=l_step\n",
    "                continue\n",
    "            l_t2=np.arange(lm2,lm2+l_step)\n",
    "            dst[lm:lm+l_step,lm2:lm2+l_step,:]=Wigner3j_parallel( m_1, m_2, m_3,l_t, l_t2 , w_l,ncpu=ncpu)\n",
    "            lm2+=l_step\n",
    "        lm+=l_step"
   ]
  },
  {
   "cell_type": "code",
   "execution_count": null,
   "metadata": {},
   "outputs": [],
   "source": [
    "f.close()"
   ]
  },
  {
   "cell_type": "code",
   "execution_count": null,
   "metadata": {},
   "outputs": [],
   "source": [
    "fname='temp/wigner_test.h5'"
   ]
  },
  {
   "cell_type": "code",
   "execution_count": null,
   "metadata": {},
   "outputs": [],
   "source": [
    "f = h5py.File(fname, 'r')\n"
   ]
  },
  {
   "cell_type": "code",
   "execution_count": null,
   "metadata": {},
   "outputs": [],
   "source": [
    "d=f[\"0\"]"
   ]
  },
  {
   "cell_type": "code",
   "execution_count": null,
   "metadata": {},
   "outputs": [],
   "source": [
    "d.shape"
   ]
  },
  {
   "cell_type": "code",
   "execution_count": null,
   "metadata": {},
   "outputs": [],
   "source": [
    "w=np.ones_like(w_l)"
   ]
  },
  {
   "cell_type": "code",
   "execution_count": null,
   "metadata": {},
   "outputs": [],
   "source": [
    "M=np.zeros((500,500))\n",
    "M2=np.zeros((500,500))\n",
    "M[:,:]=np.dot(d,w)"
   ]
  },
  {
   "cell_type": "code",
   "execution_count": null,
   "metadata": {},
   "outputs": [],
   "source": [
    "x=d[w_l[3:5],:,:]#"
   ]
  },
  {
   "cell_type": "code",
   "execution_count": null,
   "metadata": {},
   "outputs": [],
   "source": [
    "x[:,np.int32(w_l[:5]),:]"
   ]
  },
  {
   "cell_type": "code",
   "execution_count": null,
   "metadata": {},
   "outputs": [],
   "source": [
    "lm=0\n",
    "while lm<lmax:\n",
    "    M2[lm:lm+l_step,:]=np.dot(d[lm:lm+l_step,:,:],w)\n",
    "    lm+=l_step"
   ]
  },
  {
   "cell_type": "code",
   "execution_count": null,
   "metadata": {},
   "outputs": [],
   "source": [
    "np.all(M2==M)"
   ]
  },
  {
   "cell_type": "code",
   "execution_count": null,
   "metadata": {},
   "outputs": [],
   "source": [
    "f.close()"
   ]
  },
  {
   "cell_type": "code",
   "execution_count": null,
   "metadata": {},
   "outputs": [],
   "source": [
    "coo_matrix((100,100))"
   ]
  },
  {
   "cell_type": "code",
   "execution_count": null,
   "metadata": {},
   "outputs": [],
   "source": []
  }
 ],
 "metadata": {
  "kernelspec": {
   "display_name": "Python 3",
   "language": "python",
   "name": "python3"
  },
  "language_info": {
   "codemirror_mode": {
    "name": "ipython",
    "version": 3
   },
   "file_extension": ".py",
   "mimetype": "text/x-python",
   "name": "python",
   "nbconvert_exporter": "python",
   "pygments_lexer": "ipython3",
   "version": "3.7.2"
  }
 },
 "nbformat": 4,
 "nbformat_minor": 2
}
