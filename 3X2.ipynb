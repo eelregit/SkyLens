{
 "cells": [
  {
   "cell_type": "code",
   "execution_count": 1,
   "metadata": {},
   "outputs": [],
   "source": [
    "import sys\n",
    "import pyccl as ccl\n",
    "import pickle\n",
    "import camb\n",
    "sys.path.insert(0,'./')\n",
    "# from importlib import reload"
   ]
  },
  {
   "cell_type": "code",
   "execution_count": 2,
   "metadata": {},
   "outputs": [],
   "source": [
    "from distributed import LocalCluster\n",
    "from dask.distributed import Client  # we already had this above\n",
    "#http://distributed.readthedocs.io/en/latest/_modules/distributed/worker.html\n",
    "c=LocalCluster(n_workers=1,processes=False,memory_limit='25gb',threads_per_worker=14,memory_spill_fraction=.99,\n",
    "               memory_monitor_interval='2000ms')\n",
    "client=Client(c)"
   ]
  },
  {
   "cell_type": "code",
   "execution_count": 3,
   "metadata": {},
   "outputs": [],
   "source": [
    "from cov_3X2 import *\n",
    "from lsst_utils import *"
   ]
  },
  {
   "cell_type": "code",
   "execution_count": 4,
   "metadata": {},
   "outputs": [],
   "source": [
    "#only for python3\n",
    "import importlib\n",
    "reload=importlib.reload"
   ]
  },
  {
   "cell_type": "code",
   "execution_count": 5,
   "metadata": {},
   "outputs": [
    {
     "name": "stdout",
     "output_type": "stream",
     "text": [
      "ns0:  27.0\n"
     ]
    }
   ],
   "source": [
    "zs=lsst_source_tomo_bins()"
   ]
  },
  {
   "cell_type": "code",
   "execution_count": 6,
   "metadata": {},
   "outputs": [
    {
     "data": {
      "text/plain": [
       "4.0"
      ]
     },
     "execution_count": 6,
     "metadata": {},
     "output_type": "execute_result"
    }
   ],
   "source": [
    "zs['zmax']"
   ]
  },
  {
   "cell_type": "code",
   "execution_count": 7,
   "metadata": {},
   "outputs": [],
   "source": [
    "def fisher_calc(params=['As'],Nx=3,dx_max=0.01,do_log=False,kappa_class=None,do_cov=False):\n",
    "    cosmo_fid=kappa_class.Ang_PS.PS.cosmo_params.copy()\n",
    "    \n",
    "    cl0G=kappa_class.cl_tomo()\n",
    "    cl_t=cl0G['stack'].compute()\n",
    "    cov=cl_t['cov']\n",
    "    kappa_class.Ang_PS.reset()\n",
    "    do_cov0=np.copy(kappa_class.do_cov)\n",
    "    kappa_class.do_cov=do_cov\n",
    "\n",
    "    Dx=np.linspace((1-dx_max),(1+dx_max),Nx)\n",
    "    ndim=len(params)\n",
    "    \n",
    "    x_vars={}\n",
    "    models={}\n",
    "    model_derivs={}\n",
    "    covs={}\n",
    "    cov_derivs={}\n",
    "    for p in params:\n",
    "        x0=cosmo_fid[p]\n",
    "        if do_log:\n",
    "            x0=np.absolute(x0)\n",
    "            x_vars[p]=x0**Dx\n",
    "            if x0==1:\n",
    "                x_vars[p]=(2.**Dx)/2. # 1**x=1\n",
    "            x_vars[p]*=np.sign(cosmo_fid[p])\n",
    "            x_grad=np.gradient(np.log(x_vars[p]))\n",
    "        else:\n",
    "            x_vars[p]=x0*Dx #np.linspace(x0*(1-dx_max),x0*(1+dx_max),Nx)\n",
    "            x_grad=np.gradient(x_vars[p])\n",
    "        \n",
    "        models[p]={}\n",
    "        covs[p]={}\n",
    "        for i in np.arange(Nx):\n",
    "            cosmo_t=cosmo_fid.copy()\n",
    "         \n",
    "            cosmo_t[p]=x_vars[p][i]\n",
    "            \n",
    "            if p=='s8':\n",
    "                s80=cosmo_fid['s8']\n",
    "                cosmo_t['As']*=(cosmo_t['s8']/s80)**2\n",
    "                kappa_class.Ang_PS.PS.get_pk(z=[0],cosmo_params=cosmo_t,return_s8=True)\n",
    "                kappa_class.Ang_PS.PS.pk=None\n",
    "                x_vars[p][i]=kappa_class.Ang_PS.PS.s8\n",
    "                print(x_vars[p][i],s80,cosmo_t['s8'])\n",
    "            \n",
    "            cl0G=kappa_class.cl_tomo(cosmo_params=cosmo_t)\n",
    "            cl_t=cl0G['stack'].compute()\n",
    "            models[p][i]=cl_t['cl']\n",
    "            covs[p][i]=cl_t['cov']\n",
    "            kappa_class.Ang_PS.reset()\n",
    "            \n",
    "        model_derivs[p]=np.gradient(np.array([models[p][i] for i in np.arange(Nx)]),axis=0).T\n",
    "        model_derivs[p]/=x_grad\n",
    "        model_derivs[p]=model_derivs[p][:,np.int(Nx/2)]\n",
    "        \n",
    "        if do_cov:\n",
    "            cov_derivs[p]=np.gradient(np.array([covs[p][i] for i in np.arange(Nx)]),axis=0).T\n",
    "            cov_derivs[p]/=x_grad\n",
    "            print(cov_derivs[p].shape,x_grad.shape)\n",
    "            cov_derivs[p]=cov_derivs[p][:,:,np.int(Nx/2)]\n",
    "    \n",
    "    cov_inv=np.linalg.inv(cov)\n",
    "    cov_p_inv=np.zeros([ndim]*2)\n",
    "    i1=0\n",
    "    for p1 in params:\n",
    "        i2=0\n",
    "        for p2 in params:\n",
    "            cov_p_inv[i1,i2]=np.dot(model_derivs[p1],np.dot(cov_inv,model_derivs[p2]))\n",
    "            if do_cov:\n",
    "                print(cov_p_inv[i1,i2],0.5*np.trace(cov_inv@cov_derivs[p1]@cov_inv@cov_derivs[p2]))\n",
    "                cov_p_inv[i1,i2]+=0.5*np.trace(cov_inv@cov_derivs[p1]@cov_inv@cov_derivs[p2])\n",
    "            i2+=1\n",
    "        i1+=1\n",
    "    out={}\n",
    "    out['cov_p']=np.linalg.inv(cov_p_inv)\n",
    "    out['error']=np.sqrt(np.diag(out['cov_p']))\n",
    "    out['cov_deriv']=cov_derivs\n",
    "    out['model_deriv']=model_derivs\n",
    "    out['cov']=cov\n",
    "    out['model']=models[p][1]\n",
    "    kappa_class.do_cov=do_cov0\n",
    "    return out"
   ]
  },
  {
   "cell_type": "raw",
   "metadata": {},
   "source": [
    "%time fish=fisher_calc(kappa_class=kappaS,params=['s8'],do_cov=True)\n",
    "cosmo_fid['s8']/fish['error'] #,fish['error']/cosmo_fid['Om']"
   ]
  },
  {
   "cell_type": "raw",
   "metadata": {},
   "source": [
    "%time fish=fisher_calc(kappa_class=kappa1,params=['s8'],Nx=3)"
   ]
  },
  {
   "cell_type": "markdown",
   "metadata": {},
   "source": [
    "# Power Spectrum covariance"
   ]
  },
  {
   "cell_type": "code",
   "execution_count": 8,
   "metadata": {},
   "outputs": [],
   "source": [
    "#setup parameters\n",
    "lmax_cl=5000\n",
    "lmin_cl=2\n",
    "l0=np.arange(lmin_cl,lmax_cl)\n",
    "\n",
    "lmin_cl_Bins=lmin_cl+10\n",
    "lmax_cl_Bins=lmax_cl-10\n",
    "Nl_bins=40\n",
    "l_bins=np.int64(np.logspace(np.log10(lmin_cl_Bins),np.log10(lmax_cl_Bins),Nl_bins))\n",
    "lb=np.sqrt(l_bins[1:]*l_bins[:-1])\n",
    "\n",
    "l=np.unique(np.int64(np.logspace(np.log10(lmin_cl),np.log10(lmax_cl),Nl_bins*20))) #if we want to use fewer ell\n",
    "\n",
    "do_cov=True\n",
    "bin_cl=True\n",
    "\n",
    "SSV_cov=True\n",
    "tidal_SSV_cov=False\n",
    "Tri_cov=True\n",
    "\n",
    "bin_xi=True\n",
    "theta_bins=np.logspace(np.log10(1./60),1,20)"
   ]
  },
  {
   "cell_type": "markdown",
   "metadata": {},
   "source": [
    "##  Test with 1 redshift bin"
   ]
  },
  {
   "cell_type": "code",
   "execution_count": 9,
   "metadata": {
    "scrolled": true
   },
   "outputs": [],
   "source": [
    "z0=1 #1087\n",
    "zs_bin1=source_tomo_bins(zp=[z0],p_zp=np.array([1]),ns=30)"
   ]
  },
  {
   "cell_type": "code",
   "execution_count": 10,
   "metadata": {},
   "outputs": [],
   "source": [
    "import cov_3X2\n",
    "reload(cov_3X2)\n",
    "from cov_3X2 import *"
   ]
  },
  {
   "cell_type": "code",
   "execution_count": 11,
   "metadata": {},
   "outputs": [],
   "source": [
    "# bin_cl=False\n",
    "if not bin_cl:\n",
    "    lb=l0\n",
    "    l=l0"
   ]
  },
  {
   "cell_type": "code",
   "execution_count": 12,
   "metadata": {},
   "outputs": [],
   "source": [
    "from astropy.cosmology import Planck15 as cosmo\n"
   ]
  },
  {
   "cell_type": "code",
   "execution_count": 13,
   "metadata": {},
   "outputs": [],
   "source": [
    "import pyccl as ccl\n",
    "cosmo_params={'h': 0.6774,\n",
    " 'Omb': 0.0486,\n",
    " 'Omd': 0.2589,\n",
    " 's8': 0.817,\n",
    " 'Om': 0.3075,\n",
    " 'As': 2.12e-09,\n",
    " 'mnu': 0.06,\n",
    " 'Omk': 0.0,\n",
    " 'tau': 0.06,\n",
    " 'ns': 0.965,\n",
    " 'w': -1,\n",
    " 'wa': 0,\n",
    " 'Oml': 0.6925}\n",
    "\n",
    "#from ccl\n",
    "# cosmo_params=kappa0.Ang_PS.PS.cosmo_params\n",
    "# cosmo = pyccl.Cosmology(Omega_c=0.2589, Omega_b=0.0486, h=0.6774, A_s=2.12e-9, n_s=0.965)\n",
    "ccl_cosmo = ccl.Cosmology(Omega_c=cosmo_params['Omd'], Omega_b=cosmo_params['Omb'], \n",
    "                      h=cosmo_params['h'], A_s=cosmo_params['As'], n_s=cosmo_params['ns'],m_nu=[0,0,0.06])\n",
    "# #this dies\n",
    "# # lens1 = ccl.ClTracerLensing(cosmo, False, z=zs_bin1[0]['z'], n=zs_bin1[0]['pz'])\n",
    "# z =array([1])\n",
    "# pz=array([1])\n",
    "# lens1 = pyccl.ClTracerLensing(cosmo, False, z=z, n=pz)\n",
    "# print(z)\n",
    "# ell = np.arange(2, 1000)\n",
    "# cls = ccl.angular_cl(cosmo, lens1, lens1, ell)"
   ]
  },
  {
   "cell_type": "code",
   "execution_count": 14,
   "metadata": {},
   "outputs": [],
   "source": [
    "pseudo_cl=False #numerical issues in wigner_3j"
   ]
  },
  {
   "cell_type": "code",
   "execution_count": 15,
   "metadata": {},
   "outputs": [],
   "source": [
    "use_window=False"
   ]
  },
  {
   "cell_type": "code",
   "execution_count": 16,
   "metadata": {},
   "outputs": [],
   "source": [
    "power_spectra_kwargs={'pk_func':'baryon_pk'}"
   ]
  },
  {
   "cell_type": "code",
   "execution_count": 17,
   "metadata": {},
   "outputs": [
    {
     "name": "stderr",
     "output_type": "stream",
     "text": [
      "./cov_utils.py:62: RuntimeWarning: invalid value encountered in true_divide\n",
      "  Win0=2*jn(1,l_th)/l_th\n"
     ]
    }
   ],
   "source": [
    "#use all ell\n",
    "kappa0=cov_3X2(zs_bins=zs_bin1,do_cov=do_cov,bin_cl=bin_cl,l_bins=l_bins,l=l0, zg_bins=None,\n",
    "                                       use_window=use_window,Tri_cov=Tri_cov,\n",
    "                                       SSV_cov=SSV_cov,tidal_SSV_cov=tidal_SSV_cov,f_sky=0.35,\n",
    "                                       )\n",
    "\n",
    "kappaB=cov_3X2(zs_bins=zs_bin1,do_cov=do_cov,bin_cl=bin_cl,l_bins=l_bins,l=l0, zg_bins=None,\n",
    "                                       use_window=use_window,Tri_cov=Tri_cov,\n",
    "               power_spectra_kwargs=power_spectra_kwargs,\n",
    "                                       SSV_cov=SSV_cov,tidal_SSV_cov=tidal_SSV_cov,f_sky=0.35,\n",
    "                                       )\n",
    "\n",
    "\n",
    "#use only subsampled ell (faster, less accurate)\n",
    "kappa1=cov_3X2(zs_bins=zs_bin1,do_cov=do_cov,bin_cl=bin_cl,l_bins=l_bins,l=l,zg_bins=None,use_window=use_window,\n",
    "                                       SSV_cov=SSV_cov,tidal_SSV_cov=tidal_SSV_cov,Tri_cov=Tri_cov,)#f_sky=0.35)\n",
    "\n",
    "# ell are different in kappa0 and kappa1. To test if we can get aways with computation at fewer l, when binning\n",
    "# with l_bins. Remeber, cl and cov are computed at some l first and then binned."
   ]
  },
  {
   "cell_type": "code",
   "execution_count": 18,
   "metadata": {
    "scrolled": false
   },
   "outputs": [
    {
     "name": "stdout",
     "output_type": "stream",
     "text": [
      "cl dict done\n",
      "CPU times: user 16.4 s, sys: 33.3 ms, total: 16.4 s\n",
      "Wall time: 6.96 s\n",
      "cl dict done\n",
      "CPU times: user 16.1 s, sys: 32.4 ms, total: 16.2 s\n",
      "Wall time: 6.93 s\n",
      "cl dict done\n",
      "CPU times: user 16.3 s, sys: 40.5 ms, total: 16.4 s\n",
      "Wall time: 7.11 s\n"
     ]
    }
   ],
   "source": [
    "#get compute graphs\n",
    "%time cl0G=kappa0.cl_tomo() \n",
    "%time cl1G=kappa1.cl_tomo()\n",
    "%time clBG=kappaB.cl_tomo()\n",
    "# cl0G['stack'].visualize()"
   ]
  },
  {
   "cell_type": "code",
   "execution_count": 19,
   "metadata": {},
   "outputs": [],
   "source": [
    "import cov_tri\n",
    "reload(cov_tri)\n",
    "from cov_tri import *"
   ]
  },
  {
   "cell_type": "raw",
   "metadata": {},
   "source": [
    "k=kappa0.Ang_PS.PS.kh\n",
    "P=kappa0.Ang_PS.PS.pk[0]\n",
    "CTR=cov_matter_tri(k=k)\n",
    "%time ctr=CTR.cov_tri(P, l=None)\n",
    "np.all(ctr.T==ctr)"
   ]
  },
  {
   "cell_type": "code",
   "execution_count": 20,
   "metadata": {},
   "outputs": [],
   "source": [
    "CTR=cov_matter_tri(k=kappa0.l)"
   ]
  },
  {
   "cell_type": "code",
   "execution_count": 21,
   "metadata": {},
   "outputs": [
    {
     "name": "stdout",
     "output_type": "stream",
     "text": [
      "0 True\n",
      "True\n",
      "2 True\n",
      "True\n",
      "4 True\n",
      "True\n",
      "CPU times: user 3.9 s, sys: 137 ms, total: 4.04 s\n",
      "Wall time: 3.96 s\n"
     ]
    }
   ],
   "source": [
    "k=kappa0.Ang_PS.PS.kh\n",
    "P=kappa0.Ang_PS.clz['cls']\n",
    "z_ker=kappa0.z_bins['shear'][0]['Gkernel_int']**4\n",
    "%time ctr=CTR.cov_tri_zkernel(P, l=None,z_kernel=z_ker)"
   ]
  },
  {
   "cell_type": "code",
   "execution_count": 22,
   "metadata": {},
   "outputs": [
    {
     "data": {
      "text/plain": [
       "{'lambda': [61.9058, 0, 0, 0],\n",
       " 0: array([0.12571044, 0.127827  , 0.12890894, ..., 0.13225082, 0.13225082,\n",
       "        0.13225082]),\n",
       " 1: array([0., 0., 0., ..., 0., 0., 0.]),\n",
       " 2: array([0., 0., 0., ..., 0., 0., 0.]),\n",
       " 3: array([0., 0., 0., ..., 0., 0., 0.])}"
      ]
     },
     "execution_count": 22,
     "metadata": {},
     "output_type": "execute_result"
    }
   ],
   "source": [
    "CTR.lamU_1D[0]"
   ]
  },
  {
   "cell_type": "code",
   "execution_count": 23,
   "metadata": {},
   "outputs": [
    {
     "data": {
      "text/plain": [
       "array([5])"
      ]
     },
     "execution_count": 23,
     "metadata": {},
     "output_type": "execute_result"
    }
   ],
   "source": [
    "z=[1]\n",
    "b=np.linspace(0,2,10)\n",
    "np.digitize(z,b)"
   ]
  },
  {
   "cell_type": "code",
   "execution_count": 24,
   "metadata": {},
   "outputs": [
    {
     "name": "stdout",
     "output_type": "stream",
     "text": [
      "0 True\n",
      "True\n",
      "2 True\n",
      "True\n",
      "4 True\n",
      "True\n",
      "CPU times: user 6.79 s, sys: 346 ms, total: 7.14 s\n",
      "Wall time: 6.82 s\n",
      "0 True\n",
      "True\n",
      "2 True\n",
      "True\n",
      "4 True\n",
      "True\n",
      "CPU times: user 6.75 s, sys: 345 ms, total: 7.1 s\n",
      "Wall time: 6.9 s\n"
     ]
    }
   ],
   "source": [
    "%time cl0=cl0G['stack'].compute()\n",
    "%time clB=clBG['stack'].compute()"
   ]
  },
  {
   "cell_type": "code",
   "execution_count": 25,
   "metadata": {},
   "outputs": [
    {
     "data": {
      "text/plain": [
       "array([[1.89339789e-16, 4.06367642e-21, 3.72034036e-21, ...,\n",
       "        3.09302823e-23, 2.42641711e-23, 1.88471954e-23],\n",
       "       [4.06367642e-21, 1.52831622e-16, 3.49231320e-21, ...,\n",
       "        3.11842831e-23, 2.45304203e-23, 1.91231975e-23],\n",
       "       [3.72034036e-21, 3.49231320e-21, 7.85091130e-17, ...,\n",
       "        3.09375425e-23, 2.44054465e-23, 1.90755333e-23],\n",
       "       ...,\n",
       "       [3.09302823e-23, 3.11842831e-23, 3.09375425e-23, ...,\n",
       "        7.81630231e-25, 5.36688398e-25, 4.30303002e-25],\n",
       "       [2.42641711e-23, 2.45304203e-23, 2.44054465e-23, ...,\n",
       "        5.36688398e-25, 5.11186728e-25, 3.49703226e-25],\n",
       "       [1.88471954e-23, 1.91231975e-23, 1.90755333e-23, ...,\n",
       "        4.30303002e-25, 3.49703226e-25, 3.30630160e-25]])"
      ]
     },
     "execution_count": 25,
     "metadata": {},
     "output_type": "execute_result"
    }
   ],
   "source": [
    "cl0['cov']"
   ]
  },
  {
   "cell_type": "code",
   "execution_count": 26,
   "metadata": {},
   "outputs": [
    {
     "name": "stderr",
     "output_type": "stream",
     "text": [
      "/usr/lib/python3.7/site-packages/matplotlib/font_manager.py:1241: UserWarning: findfont: Font family ['serif'] not found. Falling back to DejaVu Sans.\n",
      "  (prop.get_family(), self.defaultFamily[fontext]))\n"
     ]
    },
    {
     "data": {
      "image/png": "[encoded data removed]",
      "text/plain": [
       "<Figure size 1500x1125 with 1 Axes>"
      ]
     },
     "metadata": {},
     "output_type": "display_data"
    }
   ],
   "source": [
    "corr2=kappa0.cov_utils.corr_matrix(cl0['cov'])\n",
    "pcolor(lb,lb,corr2,vmin=-1,vmax=1,cmap='seismic')\n",
    "xscale('log')\n",
    "yscale('log')"
   ]
  },
  {
   "cell_type": "code",
   "execution_count": 27,
   "metadata": {},
   "outputs": [
    {
     "data": {
      "text/plain": [
       "31482.7329709265"
      ]
     },
     "execution_count": 27,
     "metadata": {},
     "output_type": "execute_result"
    }
   ],
   "source": [
    "# compute signal/noise\n",
    "cov_inv=np.linalg.inv(cl0['cov'])\n",
    "SN=(np.dot(cl0['cl_b'],np.dot(cov_inv,cl0['cl_b'])))\n",
    "SN"
   ]
  },
  {
   "cell_type": "code",
   "execution_count": 28,
   "metadata": {},
   "outputs": [
    {
     "name": "stdout",
     "output_type": "stream",
     "text": [
      "CPU times: user 12.7 ms, sys: 6.74 ms, total: 19.4 ms\n",
      "Wall time: 16.6 ms\n",
      "CPU times: user 26.2 ms, sys: 0 ns, total: 26.2 ms\n",
      "Wall time: 31.5 ms\n",
      "0 True\n",
      "True\n",
      "2 True\n",
      "True\n",
      "4 True\n",
      "True\n",
      "CPU times: user 6.84 s, sys: 370 ms, total: 7.21 s\n",
      "Wall time: 6.89 s\n"
     ]
    }
   ],
   "source": [
    "#again get Cl and cov, this time by referencing the particular bin\n",
    "cl0={}\n",
    "cl1={}\n",
    "clB0={}\n",
    "corr=('shear','shear')\n",
    "%time cl0['cl0']=cl0G['cl'][corr][(0,0)].compute()\n",
    "%time cl0['cl']=cl0G['cl_b'][corr].compute()\n",
    "%time cl0['cov']=cl0G['cov'][corr+corr][(0,0,0,0)].compute()#kappa0.compute_cov_tomo(cl0G['cov'])\n",
    "# %time cl1['cl']=cl1G['cl_b'][corr].compute()[corr][(0,0)]\n",
    "\n",
    "# %time clB0['cl0']=clBG['cl'][corr][(0,0)].compute()\n",
    "# %time clB0['cl']=clBG['cl_b'][corr].compute()[corr][(0,0)]\n",
    "# %time clB0['cov']=clBG['cov'][corr+corr][(0,0,0,0)].compute()#kappa0.compute_cov_tomo(cl0G['cov'])\n",
    "\n",
    "# # %time cl1['cov']=cl1G['cov'][corr+corr][(0,0,0,0)].compute()#kappa1.compute_cov_tomo(cl1G['cov'])"
   ]
  },
  {
   "cell_type": "code",
   "execution_count": 29,
   "metadata": {},
   "outputs": [
    {
     "data": {
      "image/png": "[encoded data removed]",
      "text/plain": [
       "<Figure size 1500x1125 with 1 Axes>"
      ]
     },
     "metadata": {},
     "output_type": "display_data"
    }
   ],
   "source": [
    "corr2=kappa0.cov_utils.corr_matrix(cl0['cov']['final_b'])\n",
    "pcolor(lb,lb,corr2,vmin=-1,vmax=1,cmap='seismic')\n",
    "xscale('log')\n",
    "yscale('log')"
   ]
  },
  {
   "cell_type": "code",
   "execution_count": 30,
   "metadata": {},
   "outputs": [
    {
     "data": {
      "image/png": "[encoded data removed]",
      "text/plain": [
       "<Figure size 1500x1125 with 1 Axes>"
      ]
     },
     "metadata": {},
     "output_type": "display_data"
    }
   ],
   "source": [
    "corr2=kappa0.cov_utils.corr_matrix(cl0['cov']['G_b']+cl0['cov']['Tri_b'])\n",
    "pcolor(lb,lb,corr2,vmin=-1,vmax=1,cmap='seismic')\n",
    "xscale('log')\n",
    "yscale('log')"
   ]
  },
  {
   "cell_type": "code",
   "execution_count": 31,
   "metadata": {},
   "outputs": [
    {
     "data": {
      "image/png": "[encoded data removed]",
      "text/plain": [
       "<Figure size 1500x1125 with 1 Axes>"
      ]
     },
     "metadata": {},
     "output_type": "display_data"
    }
   ],
   "source": [
    "corr2=kappa0.cov_utils.corr_matrix(cl0['cov']['SSC_b'])\n",
    "pcolor(lb,lb,corr2,vmin=-1,vmax=1,cmap='seismic')\n",
    "xscale('log')\n",
    "yscale('log')"
   ]
  },
  {
   "cell_type": "code",
   "execution_count": 32,
   "metadata": {},
   "outputs": [
    {
     "data": {
      "image/png": "[encoded data removed]",
      "text/plain": [
       "<Figure size 1500x1125 with 1 Axes>"
      ]
     },
     "metadata": {},
     "output_type": "display_data"
    }
   ],
   "source": [
    "corr2=kappa0.cov_utils.corr_matrix(cl0['cov']['Tri_b'])\n",
    "pcolor(lb,lb,corr2,vmin=-1,vmax=1,cmap='seismic')\n",
    "xscale('log')\n",
    "yscale('log')"
   ]
  },
  {
   "cell_type": "code",
   "execution_count": 33,
   "metadata": {},
   "outputs": [
    {
     "data": {
      "text/plain": [
       "True"
      ]
     },
     "execution_count": 33,
     "metadata": {},
     "output_type": "execute_result"
    }
   ],
   "source": [
    "np.all(cl0['cov']['Tri'].T==cl0['cov']['Tri'])"
   ]
  },
  {
   "cell_type": "code",
   "execution_count": 34,
   "metadata": {},
   "outputs": [
    {
     "data": {
      "text/plain": [
       "True"
      ]
     },
     "execution_count": 34,
     "metadata": {},
     "output_type": "execute_result"
    }
   ],
   "source": [
    "np.all(cl0['cov']['SSC'].T==cl0['cov']['SSC'])"
   ]
  },
  {
   "cell_type": "code",
   "execution_count": 35,
   "metadata": {},
   "outputs": [
    {
     "ename": "NameError",
     "evalue": "name 'crash' is not defined",
     "output_type": "error",
     "traceback": [
      "\u001b[0;31m---------------------------------------------------------------------------\u001b[0m",
      "\u001b[0;31mNameError\u001b[0m                                 Traceback (most recent call last)",
      "\u001b[0;32m<ipython-input-35-2a418ad8f387>\u001b[0m in \u001b[0;36m<module>\u001b[0;34m\u001b[0m\n\u001b[0;32m----> 1\u001b[0;31m \u001b[0mcrash\u001b[0m\u001b[0;34m\u001b[0m\u001b[0;34m\u001b[0m\u001b[0m\n\u001b[0m",
      "\u001b[0;31mNameError\u001b[0m: name 'crash' is not defined"
     ]
    }
   ],
   "source": [
    "crash"
   ]
  },
  {
   "cell_type": "raw",
   "metadata": {},
   "source": []
  },
  {
   "cell_type": "raw",
   "metadata": {},
   "source": [
    "pars = camb.CAMBparams()\n",
    "h=cosmo_params['h']\n",
    "pars.set_cosmology(H0=h*100, ombh2=cosmo_params['Omb']*h*h, omch2=cosmo_params['Omd']*h*h)\n",
    "pars.InitPower.set_params(As=cosmo_params['As'], ns=cosmo_params['ns'])\n",
    "pars.set_for_lmax(2000, lens_potential_accuracy=1)\n",
    "\n",
    "results = camb.get_results(pars)\n",
    "camb_cl = results.get_lens_potential_cls(lmax=2000)\n",
    "# plt.loglog(np.arange(2001), cl[:,0])\n",
    "\n",
    "# plt.ylabel('$[L(L+1)]^2C_L^{\\phi\\phi}/2\\pi$')\n",
    "# plt.xlabel('$L$')\n",
    "# plt.xlim([2,2000]);"
   ]
  },
  {
   "cell_type": "raw",
   "metadata": {},
   "source": [
    "cl2=np.genfromtxt('/home/deep/repos/kappa_cl_cmb_ccl.dat',names=('l','cl'))"
   ]
  },
  {
   "cell_type": "raw",
   "metadata": {},
   "source": [
    "cl_t=cl0['cl0']#[(0,0)]\n",
    "plot(np.arange(len(cl_t))+2,cl_t)\n",
    "plot(np.arange(2001), camb_cl[:,0],'--')\n",
    "# plot(cl2['l'],cl2['cl']/1.6,':')\n",
    "# hlines(1,1,2000)\n",
    "xscale('log')\n",
    "yscale('log')\n",
    "xlabel('$\\ell$')\n",
    "ylabel('$C_\\ell$')"
   ]
  },
  {
   "cell_type": "code",
   "execution_count": null,
   "metadata": {},
   "outputs": [],
   "source": [
    "cl_t=cl0['cl']#[(0,0)]\n",
    "cl_tB=clB0['cl']#[(0,0)]\n",
    "plot(lb,cl_t)\n",
    "plot(lb,cl_tB)\n",
    "# hlines(1,1,2000)\n",
    "xscale('log')\n",
    "yscale('log')\n",
    "xlabel('$\\ell$')\n",
    "ylabel('$C_\\ell$')\n",
    "\n",
    "show()\n",
    "plot(lb,cl_t/cl_tB)\n",
    "hlines(1,1,2000)\n",
    "xscale('log')\n",
    "xlabel('$\\ell$')\n",
    "ylabel('$C_\\ell$ Ratio')\n",
    "# ylim(8e-7,8.6e-7)\n",
    "# yscale('log')"
   ]
  },
  {
   "cell_type": "code",
   "execution_count": null,
   "metadata": {},
   "outputs": [],
   "source": [
    "cov0=cl0['cov']#[(0,0,0,0)]\n",
    "covB0=clB0['cov']#[(0,0,0,0)]\n",
    "plot(lb,cl_t/cl_tB,label='$C_\\ell$')\n",
    "plot(lb,np.diag(cov0['G_b'])/np.diag(covB0['G_b']),label='$\\delta C_\\ell^2$, G')\n",
    "plot(lb,np.diag(cov0['final_b'])/np.diag(covB0['final_b']),label='$\\delta C_\\ell^2$, Total')\n",
    "hlines(1,1,2000)\n",
    "xscale('log')\n",
    "xlabel('$\\ell$')\n",
    "ylabel('$C_\\ell$ Ratio (DM/Baryon)')\n",
    "legend()\n",
    "# ylim(8e-7,8.6e-7)\n",
    "# yscale('log')"
   ]
  },
  {
   "cell_type": "code",
   "execution_count": null,
   "metadata": {},
   "outputs": [],
   "source": [
    "kappa0.cov_utils.Win0"
   ]
  },
  {
   "cell_type": "code",
   "execution_count": null,
   "metadata": {},
   "outputs": [],
   "source": []
  },
  {
   "cell_type": "code",
   "execution_count": null,
   "metadata": {},
   "outputs": [],
   "source": [
    "cov0=cl0['cov']#[(0,0,0,0)]\n",
    "covB0=clB0['cov']#[(0,0,0,0)]\n",
    "\n",
    "\n",
    "f=1e4\n",
    "plot(lb,np.diag(cov0['G_b'])/cl_t**2*f,label='Gaussian')\n",
    "plot(lb,np.diag(covB0['G_b'])/cl_t**2*f,label='Gaussian')\n",
    "#plot(lb,np.diag(cov02['G'])/cl_t**2*f*0.95)\n",
    "plot(lb,np.diag(cov0['SSC_b'])/cl_t**2*f,label='SSC')\n",
    "# plot(lb,np.diag(cov0['SSC_dk'])/cl_t**2*f)\n",
    "xscale('log')\n",
    "yscale('log')\n",
    "xlim(10,3000)\n",
    "xlabel(r'$\\ell$')\n",
    "ylabel(r'$\\frac{\\delta C_\\ell^2}{C_\\ell^2}\\times'+str(f)+'$')\n",
    "legend()"
   ]
  },
  {
   "cell_type": "code",
   "execution_count": null,
   "metadata": {},
   "outputs": [],
   "source": [
    "cov0['final'].shape"
   ]
  },
  {
   "cell_type": "code",
   "execution_count": null,
   "metadata": {},
   "outputs": [],
   "source": [
    "cov0=cl0['cov']#[(0,0,0,0)]\n",
    "corr2=kappa0.cov_utils.corr_matrix(cov0['final_b'])\n",
    "pcolor(lb,lb,corr2,vmin=-1,vmax=1,cmap='seismic')\n",
    "xscale('log')\n",
    "yscale('log')\n",
    "# xlim(lmin_clB,lmax_clB)\n",
    "# ylim(lmin_clB,lmax_clB)\n",
    "xlabel(r'$\\ell$')\n",
    "ylabel(r'$\\ell$')"
   ]
  },
  {
   "cell_type": "raw",
   "metadata": {},
   "source": [
    "crash"
   ]
  },
  {
   "cell_type": "markdown",
   "metadata": {},
   "source": [
    "##  Test with multiple redshift bins (Tomography)"
   ]
  },
  {
   "cell_type": "raw",
   "metadata": {},
   "source": [
    "import lensing_utils\n",
    "reload(lensing_utils)\n",
    "\n",
    "import lsst_utils\n",
    "reload(lsst_utils)\n",
    "from lsst_utils import *\n",
    "\n",
    "import lensing_lensing\n",
    "reload(lensing_lensing)\n",
    "\n",
    "from lensing_lensing import *\n",
    "\n"
   ]
  },
  {
   "cell_type": "code",
   "execution_count": null,
   "metadata": {},
   "outputs": [],
   "source": [
    "#Setup redshift bins\n",
    "zmin=0.3\n",
    "zmax=2\n",
    "\n",
    "z=np.linspace(0,5,200)\n",
    "pzs=lsst_pz_source(z=z)\n",
    "x=z<zmax\n",
    "x*=z>zmin\n",
    "z=z[x]\n",
    "pzs=pzs[x]\n",
    "\n",
    "ns0=26. #ns=inf means shape noise is zero\n",
    "nbins=1  # Number of tomographic bins\n",
    "z_sigma=0.01\n",
    "zs_bins=source_tomo_bins(zp=z,p_zp=pzs,ns=ns0,nz_bins=nbins,\n",
    "                         ztrue_func=ztrue_given_pz_Gaussian,zp_bias=np.zeros_like(z),\n",
    "                        zp_sigma=z_sigma*np.ones_like(z))\n",
    "zs_bins=zs_bin1\n",
    "# nbins=np.int(nbins*(nbins+1.)/2.)\n",
    "# zl_bins=lens_wt_tomo_bins(zp=z,p_zp=pzs,ns=ns0,nz_bins=nbins,z_bins=np.linspace(zmin,1.5,nbins),\n",
    "#                           ztrue_func=ztrue_given_pz_Gaussian,zp_bias=np.zeros_like(z),\n",
    "#                         zp_sigma=z_sigma*np.ones_like(z))\n",
    "\n",
    "do_cov=True\n",
    "bin_cl=True\n",
    "SSV_cov=True\n",
    "tidal_SSV=False\n",
    "do_sample_variance=True\n",
    "use_window=False"
   ]
  },
  {
   "cell_type": "raw",
   "metadata": {},
   "source": [
    "kappa0=cov_3X2(zs_bins=zs_bin1,do_cov=do_cov,bin_cl=bin_cl,l_bins=l_bins,l=l0, zg_bins=None,z_PS_max=z0+.1,\n",
    "                                       SSV_cov=SSV_cov,tidal_SSV_cov=tidal_SSV_cov,)#f_sky=0.35,sigma_gamma=0.37)"
   ]
  },
  {
   "cell_type": "code",
   "execution_count": null,
   "metadata": {},
   "outputs": [],
   "source": [
    "kappaS = cov_3X2(zs_bins=zs_bins,l=l0,do_cov=do_cov,bin_cl=bin_cl,l_bins=l_bins,zg_bins=None,\n",
    "               SSV_cov=SSV_cov,tidal_SSV_cov=tidal_SSV,do_xi=False,use_window=use_window,\n",
    "                 do_sample_variance=do_sample_variance,\n",
    "               bin_xi=bin_xi)#ns=np.inf)\n",
    "\n",
    "# kappaL = Kappa(zs_bins=zl_bins,l=l0,cross_PS=False,do_cov=do_cov,bin_cl=bin_cl,l_bins=l_bins,\n",
    "#                stack_data=stack_data,SSV_cov=SSV_cov,tidal_SSV_cov=tidal_SSV,do_xi=do_xi,bin_xi=bin_xi,theta_bins=th_bins)#ns=np.inf)"
   ]
  },
  {
   "cell_type": "raw",
   "metadata": {},
   "source": [
    "%time fish=fisher_calc(kappa_class=kappaS,params=['s8'],do_cov=False)\n",
    "cosmo_fid['s8']/fish['error'] #,fish['error']/cosmo_fid['Om']"
   ]
  },
  {
   "cell_type": "code",
   "execution_count": null,
   "metadata": {
    "scrolled": true
   },
   "outputs": [],
   "source": [
    "%time clSG=kappaS.cl_tomo()\n",
    "kappaS.SN,kappa0.SN"
   ]
  },
  {
   "cell_type": "code",
   "execution_count": null,
   "metadata": {},
   "outputs": [],
   "source": [
    "clSG['stack'].visualize() #compute graph"
   ]
  },
  {
   "cell_type": "code",
   "execution_count": null,
   "metadata": {},
   "outputs": [],
   "source": [
    "%time clS=clSG['stack'].compute()"
   ]
  },
  {
   "cell_type": "code",
   "execution_count": null,
   "metadata": {
    "scrolled": true
   },
   "outputs": [],
   "source": [
    "# np.diag(kappaL.lensing_utils.SN[0]),\n",
    "np.diag(kappaS.lensing_utils.SN[0])"
   ]
  },
  {
   "cell_type": "code",
   "execution_count": null,
   "metadata": {},
   "outputs": [],
   "source": [
    "covS_inv=np.linalg.inv(clS['cov'])\n",
    "print (np.sqrt(np.dot(clS['cl'],np.dot(covS_inv,clS['cl']))))\n"
   ]
  },
  {
   "cell_type": "code",
   "execution_count": null,
   "metadata": {},
   "outputs": [],
   "source": [
    "plot(kappaS.l,kappaS.cov_utils.Win)\n",
    "xscale('log')"
   ]
  },
  {
   "cell_type": "code",
   "execution_count": null,
   "metadata": {},
   "outputs": [],
   "source": [
    "nb=kappaS.z_bins['shear']['n_bins']\n",
    "for i in np.arange(nb):\n",
    "    zb=zs_bins[i] #kappaS.zs_bins[i]\n",
    "    plot(zb['z'],zb['pz'])\n",
    "#     print(np.sum(zb['nz']))\n",
    "xlabel(r'$z$')\n",
    "ylabel(r'$p(z)$')"
   ]
  },
  {
   "cell_type": "raw",
   "metadata": {},
   "source": [
    "nb=kappaL.zs_bins['n_bins']\n",
    "for i in np.arange(nb):\n",
    "    zb=kappaL.zs_bins[i]\n",
    "    plot(zb['z'],zb['pz'])\n",
    "#     print(np.sum(zb['nz']))\n",
    "#     print(zb['z'],zb['pz'])\n",
    "# yscale('log')\n",
    "# ylim(2.e-4,20)"
   ]
  },
  {
   "cell_type": "code",
   "execution_count": null,
   "metadata": {},
   "outputs": [],
   "source": [
    "nb=kappaS.z_bins['shear']['n_bins']\n",
    "zl=kappaS.z_bins['shear']['z_lens_kernel']\n",
    "for i in np.arange(nb):\n",
    "    zb=kappaS.z_bins['shear'][i]\n",
    "    plot(zl,zb['lens_kernel'])\n",
    "#     print(np.sum(zb['nz']))\n",
    "#     print(zb['z'],zb['pz'])\n",
    "yscale('log')\n",
    "xlabel(r'$z$')\n",
    "ylabel(r'Lensing Kernel')\n",
    "# ylim(2.e-4,20)"
   ]
  },
  {
   "cell_type": "raw",
   "metadata": {},
   "source": [
    "nb=kappaL.zs_bins['n_bins']\n",
    "zb2=kappaL.zs_bins['z_bins']\n",
    "zl=kappaL.zs_bins['z_lens_kernel']\n",
    "for i in np.arange(nb):\n",
    "    zb=kappaL.zs_bins[i]\n",
    "    plot(zl,zb['lens_kernel'])\n",
    "    vlines(zb2[i],0,1.e-3)\n",
    "#     print(np.sum(zb['nz']))\n",
    "#     print(zb['z'],zb['pz'])\n",
    "# yscale('log')\n",
    "# ylim(2.e-8,2.e-5)"
   ]
  },
  {
   "cell_type": "raw",
   "metadata": {},
   "source": [
    "%time fishS=fisher_calc(kappa_class=kappaS)\n",
    "%time fishL=fisher_calc(kappa_class=kappaL)\n",
    "cosmo_fid['As']/fishL['error'],cosmo_fid['As']/fishS['error']"
   ]
  },
  {
   "cell_type": "raw",
   "metadata": {},
   "source": [
    "from dask.distributed import Client\n",
    "client = Client(processes=False)"
   ]
  },
  {
   "cell_type": "code",
   "execution_count": null,
   "metadata": {},
   "outputs": [],
   "source": [
    "clS['cov']/cl0['cov']['final']"
   ]
  },
  {
   "cell_type": "code",
   "execution_count": null,
   "metadata": {},
   "outputs": [],
   "source": [
    "cc=kappaS.cov_utils\n",
    "corrS=cc.corr_matrix(clS['cov'])\n",
    "pcolor(corrS,vmin=-1,vmax=1,cmap='seismic')\n",
    "xlabel(r'$\\ell$')\n",
    "ylabel(r'$\\ell$')\n",
    "show()\n",
    "# corrL=cc.corr_matrix(clL['cov'])\n",
    "# pcolor(corrL,vmin=-1,vmax=1,cmap='seismic')"
   ]
  },
  {
   "cell_type": "code",
   "execution_count": null,
   "metadata": {},
   "outputs": [],
   "source": [
    "corr=('shear','shear')"
   ]
  },
  {
   "cell_type": "raw",
   "metadata": {},
   "source": [
    "crash"
   ]
  },
  {
   "cell_type": "raw",
   "metadata": {},
   "source": [
    "ell = np.arange(2, 2000)\n",
    "ccl_cosmo = ccl.Cosmology(Omega_c=cosmo_params['Omd'], Omega_b=cosmo_params['Omb'], \n",
    "                      h=cosmo_params['h'], A_s=cosmo_params['As'], n_s=cosmo_params['ns'])\n",
    "for i in np.arange(nbins):\n",
    "    for j in np.arange(i,nbins):\n",
    "        errorbar(lb,clSG['cl_b'][corr][(i,j)].compute(),np.sqrt(np.diag(clSG['cov'][corr+corr][(i,j,i,j)].compute()['final'])),fmt='o',label=(i,j))\n",
    "        plot(l0,clSG['cl'][corr][(i,j)].compute(),marker='o',label=(i,j))\n",
    "        lens1 = ccl.ClTracerLensing(ccl_cosmo, False, z=zs_bins[i]['z'], n=zs_bins[i]['pz'])\n",
    "        lens2 = ccl.ClTracerLensing(ccl_cosmo, False, z=zs_bins[j]['z'], n=zs_bins[j]['pz'])\n",
    "        cls = ccl.angular_cl(ccl_cosmo, lens1, lens2, ell)\n",
    "        plot(ell,cls)\n",
    "        xscale('log')\n",
    "        yscale('log')\n",
    "        xlabel(r'$\\ell$')\n",
    "        ylabel(r'$C_\\ell$')\n",
    "        legend()\n",
    "        show()"
   ]
  },
  {
   "cell_type": "raw",
   "metadata": {},
   "source": [
    "for i in np.arange(nbins):\n",
    "    for j in np.arange(i,nbins):\n",
    "        plot(lb,clSG['cl_b'][corr][(i,j)].compute()/np.sqrt(np.diag(clSG['cov'][corr+corr][(i,j,i,j)].compute()['final'])),label=(i,j))\n",
    "xscale('log')\n",
    "yscale('log')\n",
    "xlabel(r'$\\ell$')\n",
    "ylabel(r'$\\frac{C_\\ell}{\\delta C_\\ell}$')\n",
    "legend()"
   ]
  },
  {
   "cell_type": "code",
   "execution_count": null,
   "metadata": {},
   "outputs": [],
   "source": [
    "clSG['cov'][corr+corr][(0,0,0,0)].visualize() #graph for 1 covariance"
   ]
  },
  {
   "cell_type": "markdown",
   "metadata": {},
   "source": [
    "# Lensing X Lensing Correlation function covariance"
   ]
  },
  {
   "cell_type": "markdown",
   "metadata": {},
   "source": [
    "##  Test with multiple redshift bins (Tomography)"
   ]
  },
  {
   "cell_type": "code",
   "execution_count": null,
   "metadata": {},
   "outputs": [],
   "source": [
    "from importlib import reload\n",
    "import cov_utils\n",
    "reload(cov_utils)\n",
    "from cov_utils import *"
   ]
  },
  {
   "cell_type": "code",
   "execution_count": null,
   "metadata": {},
   "outputs": [],
   "source": [
    "import cov_3X2\n",
    "reload(cov_3X2)\n",
    "from cov_3X2 import *\n",
    "from wigner_transform import *"
   ]
  },
  {
   "cell_type": "code",
   "execution_count": null,
   "metadata": {},
   "outputs": [],
   "source": [
    "import hankel_transform\n",
    "reload(hankel_transform)\n",
    "from hankel_transform import *"
   ]
  },
  {
   "cell_type": "code",
   "execution_count": null,
   "metadata": {},
   "outputs": [],
   "source": [
    "#Setup redshift bins\n",
    "zmin=0.3\n",
    "zmax=2\n",
    "\n",
    "z=np.linspace(0,5,200)\n",
    "pzs=lsst_pz_source(z=z)\n",
    "x=z<zmax\n",
    "x*=z>zmin\n",
    "z=z[x]\n",
    "pzs=pzs[x]\n",
    "\n",
    "ns0=26 #26+np.inf #ns=inf means shape noise is zero\n",
    "nbins=3  # Number of tomographic bins\n",
    "z_sigma=0.01\n",
    "zs_bins=source_tomo_bins(zp=z,p_zp=pzs,ns=ns0,nz_bins=nbins,\n",
    "                         ztrue_func=ztrue_given_pz_Gaussian,zp_bias=np.zeros_like(z),\n",
    "                        zp_sigma=z_sigma*np.ones_like(z))\n",
    "\n",
    "# nbins=np.int(nbins*(nbins+1.)/2.)\n",
    "# zl_bins=lens_wt_tomo_bins(zp=z,p_zp=pzs,ns=ns0,nz_bins=nbins,z_bins=np.linspace(zmin,1.5,nbins),\n",
    "#                           ztrue_func=ztrue_given_pz_Gaussian,zp_bias=np.zeros_like(z),\n",
    "#                         zp_sigma=z_sigma*np.ones_like(z))\n",
    "\n",
    "do_cov=True\n",
    "SSV_cov=False\n",
    "tidal_SSV=False"
   ]
  },
  {
   "cell_type": "code",
   "execution_count": null,
   "metadata": {},
   "outputs": [],
   "source": [
    "np.sum(zs_bins[0]['pzdz'])"
   ]
  },
  {
   "cell_type": "code",
   "execution_count": null,
   "metadata": {},
   "outputs": [],
   "source": [
    "do_xi=True\n",
    "bin_xi=True\n",
    "bin_cl=False\n",
    "th_min=1./60\n",
    "th_max=10\n",
    "n_th_bins=10\n",
    "th_bins=np.logspace(np.log10(th_min*2),np.log10(th_max),n_th_bins+1)\n",
    "th=np.logspace(np.log10(th_min*2),np.log10(th_max),n_th_bins*10)\n",
    "thb=0.5*(th_bins[1:]+th_bins[:-1])"
   ]
  },
  {
   "cell_type": "code",
   "execution_count": null,
   "metadata": {},
   "outputs": [],
   "source": [
    "#Hankel Transform setup\n",
    "l_max=1e4\n",
    "l_min=2\n",
    "prune_theta=2\n",
    "HT_kwargs={'l_min':l_min,  'l_max':l_max,\n",
    "                        'theta_min':th_min*d2r*.9, 'theta_max':th_max*d2r,\n",
    "                        'n_zeros':40000, 'prune_theta':prune_theta, 'm1_m2':[(2,2),(2,-2),(0,0)]}\n",
    "# %time HT=hankel_transform(**HT_kwargs)\n",
    "# HT_kwargs2={'l_min':l_min,  'l_max':l_max,\n",
    "#                         'theta_min':th_min*d2r*.9, 'theta_max':th_max*d2r,\n",
    "#                         'n_zeros':40000, 'prune_theta':2, 'm1_m2':[(2,-2)]}#,(2,-2)]}"
   ]
  },
  {
   "cell_type": "code",
   "execution_count": null,
   "metadata": {},
   "outputs": [],
   "source": [
    "np.sum(zs_bins[0]['pzdz'])"
   ]
  },
  {
   "cell_type": "code",
   "execution_count": null,
   "metadata": {},
   "outputs": [],
   "source": [
    "bin_xi=True"
   ]
  },
  {
   "cell_type": "code",
   "execution_count": null,
   "metadata": {},
   "outputs": [],
   "source": [
    "#use redshift bins from power spectrum part\n",
    "XI_H =cov_3X2(zs_bins=zs_bins,l=l0,do_cov=do_cov,bin_cl=bin_cl,l_bins=l_bins,zg_bins=None,\n",
    "               SSV_cov=SSV_cov,tidal_SSV_cov=tidal_SSV,do_xi=True,HT_kwargs=HT_kwargs,\n",
    "               bin_xi=bin_xi,theta_bins=th_bins)#ns=np.inf)\n",
    "# XI_H2 = lensing_lensing(zs_bins=zs_bins,l=l0,do_cov=do_cov,bin_cl=bin_cl,l_bins=l_bins,\n",
    "#                SSV_cov=SSV_cov,tidal_SSV_cov=tidal_SSV,do_xi=True,HT_kwargs=HT_kwargs2,\n",
    "#                bin_xi=bin_xi,theta_bins=th_bins)#ns=np.inf)"
   ]
  },
  {
   "cell_type": "code",
   "execution_count": null,
   "metadata": {},
   "outputs": [],
   "source": [
    "# Wigner Transform setup\n",
    "l_W=np.arange(2,l_max,dtype='int')\n",
    "l0=l_W\n",
    "l_bins=None\n",
    "WT_kwargs={'l':l_W ,'theta': th*d2r,'m1_m2':[(2,2),(2,-2),(0,0)]}\n",
    "# if not 'WT' in globals():\n",
    "%time WT=wigner_transform(**WT_kwargs)\n",
    "\n",
    "XI_W= cov_3X2(zs_bins=zs_bins,l=l0,do_cov=do_cov,bin_cl=bin_cl,l_bins=l_bins,zg_bins=None,\n",
    "               SSV_cov=SSV_cov,tidal_SSV_cov=tidal_SSV,do_xi=True,HT=WT,\n",
    "               bin_xi=bin_xi,theta_bins=th_bins)#ns=np.inf)"
   ]
  },
  {
   "cell_type": "code",
   "execution_count": null,
   "metadata": {},
   "outputs": [],
   "source": [
    "# Wigner Transform setup... Using high ell to test convergence\n",
    "WT_L_kwargs={'l': np.arange(2,l_max*2,dtype='int'),'theta': th*d2r,'m1_m2':[(2,2),(2,-2),(0,0)]}\n",
    "# if (not 'WT_L' in globals()):\n",
    "%time WT_L=wigner_transform(**WT_L_kwargs)\n",
    "\n",
    "XI_W_L= cov_3X2(zs_bins=zs_bins,l=l0,do_cov=do_cov,bin_cl=bin_cl,l_bins=l_bins,zg_bins=None,\n",
    "               SSV_cov=SSV_cov,tidal_SSV_cov=tidal_SSV,do_xi=True,HT=WT_L,\n",
    "               bin_xi=bin_xi,theta_bins=th_bins)#ns=np.inf)"
   ]
  },
  {
   "cell_type": "code",
   "execution_count": null,
   "metadata": {},
   "outputs": [],
   "source": [
    "%time clHG=XI_H.cl_tomo()\n",
    "# %time xiHG2=XI_H2.xi_tomo()\n",
    "\n",
    "%time clWG=XI_W.cl_tomo()\n",
    "%time clWG_L=XI_W_L.cl_tomo()"
   ]
  },
  {
   "cell_type": "code",
   "execution_count": null,
   "metadata": {},
   "outputs": [],
   "source": [
    "np.sum(zs_bins[0]['pzdz'])"
   ]
  },
  {
   "cell_type": "code",
   "execution_count": null,
   "metadata": {},
   "outputs": [],
   "source": [
    "%time xiHG=XI_H.xi_tomo()\n",
    "# %time xiHG2=XI_H2.xi_tomo()\n",
    "\n",
    "%time xiWG=XI_W.xi_tomo()\n",
    "%time xiWG_L=XI_W_L.xi_tomo()"
   ]
  },
  {
   "cell_type": "code",
   "execution_count": null,
   "metadata": {},
   "outputs": [],
   "source": [
    "%time xiH=xiHG['stack'].compute()\n",
    "# %time xiH2=xiHG2['stack'].compute()"
   ]
  },
  {
   "cell_type": "code",
   "execution_count": null,
   "metadata": {
    "scrolled": true
   },
   "outputs": [],
   "source": [
    "xiHG['stack'].visualize() #compute graph"
   ]
  },
  {
   "cell_type": "code",
   "execution_count": null,
   "metadata": {},
   "outputs": [],
   "source": [
    "xiWG['stack'].visualize() #compute graph"
   ]
  },
  {
   "cell_type": "code",
   "execution_count": null,
   "metadata": {},
   "outputs": [],
   "source": [
    "%time xiW=xiWG['stack'].compute()\n",
    "%time xiW_L=xiWG_L['stack'].compute()"
   ]
  },
  {
   "cell_type": "raw",
   "metadata": {},
   "source": [
    "Scaling:\n",
    "\n",
    "~ns_bins^4\n",
    "~n_ell^1\n",
    "\n",
    "10 tomo-bins, 10^4 ell points, 156 theta points, 100 z-> 3 mins on macbook"
   ]
  },
  {
   "cell_type": "raw",
   "metadata": {},
   "source": [
    "with open('../cov_LL.pkl', 'rb') as f:\n",
    "     cov_LL=pickle.load(f) # use `pickle.loads` to do the reverse"
   ]
  },
  {
   "cell_type": "code",
   "execution_count": null,
   "metadata": {},
   "outputs": [],
   "source": [
    "f=1\n",
    "cov_xiH_inv=np.linalg.inv(xiH['cov']*f)\n",
    "print (np.sqrt(np.dot(xiH['xi'],np.dot(cov_xiH_inv,xiH['xi']))))\n",
    "\n",
    "cov_xiW_inv=np.linalg.inv(xiW['cov']*f)\n",
    "print (np.sqrt(np.dot(xiW['xi'],np.dot(cov_xiW_inv,xiW['xi']))))\n",
    "\n",
    "cov_xiWL_inv=np.linalg.inv(xiW_L['cov']*f)\n",
    "print (np.sqrt(np.dot(xiW_L['xi'],np.dot(cov_xiWL_inv,xiW_L['xi']))))"
   ]
  },
  {
   "cell_type": "code",
   "execution_count": null,
   "metadata": {
    "scrolled": false
   },
   "outputs": [],
   "source": [
    "cc=XI_H.cov_utils\n",
    "corrH=cc.corr_matrix(xiH['cov'])\n",
    "pcolor(corrH,vmin=-1,vmax=1,cmap='seismic')\n",
    "# xlabel(r'$\\theta$ (degrees)')\n",
    "# ylabel(r'$\\theta$ (degrees)')\n",
    "title('Hankel')\n",
    "hlines(60,0,120)\n",
    "vlines(60,0,120)\n",
    "xticks([])\n",
    "yticks([])\n",
    "\n",
    "\n",
    "colorbar()\n",
    "show()\n",
    "# corrL=cc.corr_matrix(clL['cov'])\n",
    "# pcolor(corrL,vmin=-1,vmax=1,cmap='seismic')"
   ]
  },
  {
   "cell_type": "raw",
   "metadata": {},
   "source": [
    "corrH2=cc.corr_matrix(xiH2['cov'])\n",
    "pcolor(corrH2,vmin=-1,vmax=1,cmap='seismic')\n",
    "# xlabel(r'$\\theta$ (degrees)')\n",
    "# ylabel(r'$\\theta$ (degrees)')\n",
    "title('Hankel')\n",
    "colorbar()\n",
    "show()\n",
    "# corrL=cc.corr_matrix(clL['cov'])\n",
    "# pcolor(corrL,vmin=-1,vmax=1,cmap='seismic')"
   ]
  },
  {
   "cell_type": "code",
   "execution_count": null,
   "metadata": {
    "scrolled": false
   },
   "outputs": [],
   "source": [
    "cc=XI_W.cov_utils\n",
    "corrW=cc.corr_matrix(xiW['cov'])\n",
    "pcolor(corrW,vmin=-1,vmax=1,cmap='seismic')\n",
    "# xlabel(r'$\\theta$ (degrees)')\n",
    "# ylabel(r'$\\theta$ (degrees)')\n",
    "hlines(60,0,120)\n",
    "vlines(60,0,120)\n",
    "xticks([])\n",
    "yticks([])\n",
    "title('Wigner')\n",
    "show()\n",
    "# corrL=cc.corr_matrix(clL['cov'])\n",
    "# pcolor(corrL,vmin=-1,vmax=1,cmap='seismic')"
   ]
  },
  {
   "cell_type": "code",
   "execution_count": null,
   "metadata": {},
   "outputs": [],
   "source": [
    "cc=XI_W.cov_utils\n",
    "corrWL=cc.corr_matrix(xiW_L['cov'])\n",
    "pcolor(corrWL,vmin=-1,vmax=1,cmap='seismic')\n",
    "title('Wigner')\n",
    "show()"
   ]
  },
  {
   "cell_type": "code",
   "execution_count": null,
   "metadata": {},
   "outputs": [],
   "source": [
    "corr=('shear','shear')"
   ]
  },
  {
   "cell_type": "code",
   "execution_count": null,
   "metadata": {},
   "outputs": [],
   "source": [
    "m1m2=(2, 2, 2, -2)\n",
    "i=0\n",
    "j=0\n",
    "cov_t=xiWG['cov'][corr+corr][m1m2][(i,j,i,j)].compute()\n",
    "pcolor(cov_t['final'])\n",
    "colorbar()\n",
    "# print (cov_t)"
   ]
  },
  {
   "cell_type": "code",
   "execution_count": null,
   "metadata": {},
   "outputs": [],
   "source": [
    "m1m2=(2,2)"
   ]
  },
  {
   "cell_type": "code",
   "execution_count": null,
   "metadata": {
    "scrolled": false
   },
   "outputs": [],
   "source": [
    "for i in np.arange(nbins):\n",
    "    for j in np.arange(i,nbins):\n",
    "        errorbar(thb*1.0,thb*xiHG['xi'][corr][m1m2][(i,j)].compute(),thb*np.sqrt(np.diag(xiHG['cov'][corr+corr][m1m2+m1m2][(i,j,i,j)].compute()['final'])),fmt='^',label=(i,j))\n",
    "        errorbar(thb*1.03,thb*xiWG_L['xi'][corr][m1m2][(i,j)].compute(),thb*np.sqrt(np.diag(xiWG_L['cov'][corr+corr][m1m2+m1m2][(i,j,i,j)].compute()['final'])),fmt='o',label=(i,j))\n",
    "        lens1 = ccl.ClTracerLensing(ccl_cosmo, False, z=zs_bins[i]['z'], n=zs_bins[i]['pz'])\n",
    "        lens2 = ccl.ClTracerLensing(ccl_cosmo, False, z=zs_bins[j]['z'], n=zs_bins[j]['pz'])\n",
    "        cls = ccl.angular_cl(ccl_cosmo, lens1, lens2, XI_W_L.l)\n",
    "        xi_plus = ccl.correlation(ccl_cosmo, XI_W_L.l, cls, XI_W_L.HT.theta[m1m2]/d2r,corr_type='L+', method='FFTLog')\n",
    "        xi_b=XI_W_L.binning.bin_1d(xi=xi_plus,bin_utils=XI_W_L.xi_bin_utils[m1m2])\n",
    "        plot(thb,thb*xi_b)\n",
    "        xscale('log')\n",
    "#         yscale('log')\n",
    "        xlabel(r'$\\theta$ (degrees)')\n",
    "        ylabel(r'$\\xi$')\n",
    "        legend()\n",
    "        show()"
   ]
  },
  {
   "cell_type": "code",
   "execution_count": null,
   "metadata": {},
   "outputs": [],
   "source": [
    "for i in np.arange(nbins):\n",
    "    for j in np.arange(i,nbins):\n",
    "#         errorbar(thb,xiHG['xi'][corr][m1m2][(i,j)].compute(),np.sqrt(np.diag(xiHG['cov'][corr+corr][m1m2+m1m2][(i,j,i,j)].compute()['final'])),fmt='o',label=(i,j))\n",
    "#         plot(XI_W_L.l,xiWG_L['cl'][corr][(i,j)].compute(),marker='o',label=(i,j))\n",
    "#         plot(XI_W_L.l,clWG_L['cl'][corr][(i,j)].compute(),marker='o',label=(i,j))\n",
    "        lens1 = ccl.ClTracerLensing(ccl_cosmo, False, z=zs_bins[i]['z'], n=zs_bins[i]['pz'])\n",
    "        lens2 = ccl.ClTracerLensing(ccl_cosmo, False, z=zs_bins[j]['z'], n=zs_bins[j]['pz'])\n",
    "        cls = ccl.angular_cl(ccl_cosmo, lens1, lens2, XI_W_L.l)\n",
    "#         xi_plus = ccl.correlation(ccl_cosmo, ell, cls, th,corr_type='L+', method='FFTLog')\n",
    "#         plot(XI_W_L.l,cls)\n",
    "        plot(XI_W_L.l,clWG_L['cl'][corr][(i,j)].compute()/cls)\n",
    "        xscale('log')\n",
    "#         yscale('log')\n",
    "        hlines(1,2,1000)\n",
    "        xlabel(r'$\\theta$ (degrees)')\n",
    "        ylabel(r'$\\xi$')\n",
    "        legend()\n",
    "#         show()"
   ]
  },
  {
   "cell_type": "code",
   "execution_count": null,
   "metadata": {
    "scrolled": false
   },
   "outputs": [],
   "source": [
    "for i in np.arange(nbins):\n",
    "    for j in np.arange(i,nbins):\n",
    "        plot(thb,xiHG['xi'][corr][m1m2][(i,j)].compute(),label=(i,j))\n",
    "xscale('log')\n",
    "yscale('log')\n",
    "xlabel(r'$\\theta$ (degrees)')\n",
    "ylabel(r'$\\xi$')\n",
    "legend()"
   ]
  },
  {
   "cell_type": "code",
   "execution_count": null,
   "metadata": {
    "scrolled": false
   },
   "outputs": [],
   "source": [
    "for i in np.arange(nbins):\n",
    "    for j in np.arange(i,nbins):\n",
    "        plot(thb, np.sqrt(np.diag(xiHG['cov'][corr+corr][m1m2+m1m2][(i,j,i,j)].compute()['final'])),label=(i,j))\n",
    "xscale('log')\n",
    "yscale('log')\n",
    "xlabel(r'$\\theta$ (degrees)')\n",
    "ylabel(r'$\\delta \\xi $')\n",
    "legend()"
   ]
  },
  {
   "cell_type": "code",
   "execution_count": null,
   "metadata": {
    "scrolled": false
   },
   "outputs": [],
   "source": [
    "for i in np.arange(nbins):\n",
    "    for j in np.arange(i,nbins):\n",
    "        plot(thb,xiHG['xi'][corr][m1m2][(i,j)].compute()/np.sqrt(np.diag(xiHG['cov'][corr+corr][m1m2+m1m2][(i,j,i,j)].compute()['final'])),label=(i,j))\n",
    "xscale('log')\n",
    "yscale('log')\n",
    "xlabel(r'$\\theta$')\n",
    "ylabel(r'$\\xi/\\delta \\xi$')\n",
    "legend()"
   ]
  },
  {
   "cell_type": "code",
   "execution_count": null,
   "metadata": {},
   "outputs": [],
   "source": [
    "nbins=3"
   ]
  },
  {
   "cell_type": "code",
   "execution_count": null,
   "metadata": {},
   "outputs": [],
   "source": [
    "corr=('shear','shear')\n",
    "m1m2=(2,2)\n",
    "for i in np.arange(nbins):\n",
    "    j=i\n",
    "    errorbar(thb*(1+i*0.05),(xiHG['xi'][corr][m1m2][(i,j)].compute()/xiWG['xi'][corr][m1m2][(i,j)].compute()-1),\n",
    "                         np.sqrt(np.diag(xiHG['cov'][corr+corr][m1m2+m1m2][(i,j,i,j)].compute()['final']))/xiWG['xi'][corr][m1m2][(i,j)].compute(),\n",
    "             fmt='o',label=(i,j)) \n",
    "xscale('log')\n",
    "# yscale('log')\n",
    "xlabel(r'$\\theta$ (degrees)')\n",
    "ylabel(r'$|\\xi_- ( {Hankel})/\\xi_- ( {Wigner})-1|$')\n",
    "hlines(1,0.1,10)\n",
    "yscale('log')\n",
    "legend()"
   ]
  },
  {
   "cell_type": "code",
   "execution_count": null,
   "metadata": {
    "scrolled": false
   },
   "outputs": [],
   "source": [
    "for i in np.arange(nbins):\n",
    "    for j in np.arange(i,nbins):\n",
    "        plot(thb,(np.diag(xiHG['cov'][corr+corr][m1m2+m1m2][(i,j,i,j)].compute()['final']))/(np.diag(xiWG['cov'][corr+corr][m1m2+m1m2][(i,j,i,j)].compute()['final'])),label=(i,j))\n",
    "xscale('log')\n",
    "# yscale('log')\n",
    "xlabel(r'$\\theta$ (degrees)')\n",
    "ylabel(r'$\\delta\\xi_+(Hankel)/\\delta\\xi_+(Wigner)$')\n",
    "hlines(1,0.1,10)\n",
    "legend()"
   ]
  },
  {
   "cell_type": "code",
   "execution_count": null,
   "metadata": {},
   "outputs": [],
   "source": [
    "for i in np.arange(nbins):\n",
    "    for j in np.arange(i,nbins):\n",
    "        plot(thb,np.sqrt(np.diag(xiWG_L['cov'][corr+corr][m1m2+m1m2][(i,j,i,j)].compute()['final']))/np.sqrt(np.diag(xiWG['cov'][corr+corr][m1m2+m1m2][(i,j,i,j)].compute()['final'])),label=(i,j))\n",
    "xscale('log')\n",
    "# yscale('log')\n",
    "xlabel(r'$\\theta$ (degrees)')\n",
    "ylabel(r'$\\delta\\xi(\\ell_{max}\\times2)/\\delta\\xi(W)$')\n",
    "# hlines(1,0.1,10)\n",
    "legend()"
   ]
  },
  {
   "cell_type": "code",
   "execution_count": null,
   "metadata": {},
   "outputs": [],
   "source": [
    "m1m2"
   ]
  },
  {
   "cell_type": "code",
   "execution_count": null,
   "metadata": {},
   "outputs": [],
   "source": [
    "for i in np.arange(nbins):\n",
    "    j=i\n",
    "    plot(thb,xiWG_L['xi'][corr][m1m2][(i,j)].compute()/xiWG['xi'][corr][m1m2][(i,j)].compute(),label=(i,j))\n",
    "xscale('log')\n",
    "# yscale('log')\n",
    "xlabel(r'$\\theta$ (degrees)')\n",
    "ylabel(r'$\\xi_+ (\\ell_{max}\\times2)/\\xi_+ (W)$')\n",
    "# hlines(1,0.1,10)\n",
    "legend()"
   ]
  },
  {
   "cell_type": "code",
   "execution_count": null,
   "metadata": {},
   "outputs": [],
   "source": [
    "crash"
   ]
  },
  {
   "cell_type": "markdown",
   "metadata": {},
   "source": [
    "# Galaxy X Lensing Correlation function covariance"
   ]
  },
  {
   "cell_type": "code",
   "execution_count": null,
   "metadata": {},
   "outputs": [],
   "source": [
    "import galaxy_utils\n",
    "reload(galaxy_utils)\n",
    "from galaxy_utils import *"
   ]
  },
  {
   "cell_type": "code",
   "execution_count": null,
   "metadata": {},
   "outputs": [],
   "source": [
    "import cov_utils\n",
    "reload(cov_utils)\n",
    "from cov_utils import *"
   ]
  },
  {
   "cell_type": "code",
   "execution_count": null,
   "metadata": {},
   "outputs": [],
   "source": [
    "import cov_3X2\n",
    "reload(cov_3X2)\n",
    "from cov_3X2 import *\n",
    "from wigner_transform import *"
   ]
  },
  {
   "cell_type": "code",
   "execution_count": null,
   "metadata": {},
   "outputs": [],
   "source": [
    "#Setup redshift bins\n",
    "zmin=0.3\n",
    "zmax=2\n",
    "\n",
    "z=np.linspace(0,5,200)\n",
    "pzs=lsst_pz_source(z=z)\n",
    "x=z<zmax\n",
    "x*=z>zmin\n",
    "z=z[x]\n",
    "pzs=pzs[x]\n",
    "\n",
    "ns0=26 #26+np.inf #ns=inf means shape noise is zero\n",
    "nbins=5  # Number of tomographic bins\n",
    "z_sigma=0.01\n",
    "zs_bins=source_tomo_bins(zp=z,p_zp=pzs,ns=ns0,nz_bins=nbins,\n",
    "                         ztrue_func=ztrue_given_pz_Gaussian,zp_bias=np.zeros_like(z),\n",
    "                        zp_sigma=z_sigma*np.ones_like(z))\n",
    "\n",
    "ng0=10 #26+np.inf #ns=inf means shape noise is zero\n",
    "# nbins=3  # Number of tomographic bins\n",
    "z_sigma=0.1\n",
    "zg_bins=source_tomo_bins(zp=z,p_zp=pzs,ns=ns0,nz_bins=nbins,\n",
    "                         ztrue_func=ztrue_given_pz_Gaussian,zp_bias=np.zeros_like(z),\n",
    "                        zp_sigma=z_sigma*np.ones_like(z))\n",
    "\n",
    "\n",
    "# nbins=np.int(nbins*(nbins+1.)/2.)\n",
    "# zl_bins=lens_wt_tomo_bins(zp=z,p_zp=pzs,ns=ns0,nz_bins=nbins,z_bins=np.linspace(zmin,1.5,nbins),\n",
    "#                           ztrue_func=ztrue_given_pz_Gaussian,zp_bias=np.zeros_like(z),\n",
    "#                         zp_sigma=z_sigma*np.ones_like(z))\n",
    "\n",
    "SSV_cov=False\n",
    "tidal_SSV=False"
   ]
  },
  {
   "cell_type": "code",
   "execution_count": null,
   "metadata": {},
   "outputs": [],
   "source": [
    "do_xi=True\n",
    "bin_xi=True\n",
    "bin_cl=True\n",
    "th_min=1./60\n",
    "th_max=10\n",
    "n_th_bins=20\n",
    "n_th=160\n",
    "th=np.logspace(np.log10(th_min*2),np.log10(th_max),n_th)\n",
    "th_bins=np.logspace(np.log10(th_min*2),np.log10(th_max),n_th_bins+1)\n",
    "thb=np.sqrt(th_bins[1:]*th_bins[:-1])"
   ]
  },
  {
   "cell_type": "code",
   "execution_count": null,
   "metadata": {},
   "outputs": [],
   "source": [
    "corr_ggl=('galaxy','shear')\n",
    "corr_gg=('galaxy','galaxy')\n",
    "corr_ll=('shear','shear')\n",
    "m1m2=(0,2)\n",
    "m1m2_gg=(0,0)"
   ]
  },
  {
   "cell_type": "raw",
   "metadata": {},
   "source": [
    "#Hankel Transform setup\n",
    "# l_max=1e4\n",
    "# l_min=2\n",
    "HT_kwargs={'l_min':l_min,  'l_max':l_max,\n",
    "                        'theta_min':th_min*d2r*.9, 'theta_max':th_max*d2r,\n",
    "                        'n_zeros':40000, 'prune_theta':2, 'm1_m2':[m1m2]}\n",
    "HT=hankel_transform(**HT_kwargs,logger=XI_W.logger)"
   ]
  },
  {
   "cell_type": "code",
   "execution_count": null,
   "metadata": {},
   "outputs": [],
   "source": [
    "lmin_cl_Bins=lmin_cl+10\n",
    "lmax_cl_Bins=lmax_cl-10\n",
    "Nl_bins=40\n",
    "l_bins=np.int64(np.logspace(np.log10(lmin_cl_Bins),np.log10(lmax_cl_Bins),Nl_bins))"
   ]
  },
  {
   "cell_type": "code",
   "execution_count": null,
   "metadata": {},
   "outputs": [],
   "source": [
    "# Wigner Transform setup\n",
    "l_W=np.arange(2,l_max,dtype='int')\n",
    "WT_kwargs={'l':l_W ,'theta':th*d2r ,'m1_m2':[(0,0),(0,2),(2,2),(2,-2)]}\n",
    "# %time WTggl=wigner_transform(**WT_kwargs)\n",
    "\n",
    "XI_W= cov_3X2(zs_bins=zs_bins,l=l0,do_cov=do_cov,bin_cl=bin_cl,l_bins=l_bins,zg_bins=zg_bins,\n",
    "               SSV_cov=SSV_cov,tidal_SSV_cov=tidal_SSV,do_xi=do_xi,HT=WTggl,\n",
    "#               HT_kwargs=HT_kwargs,\n",
    "               bin_xi=bin_xi,theta_bins=th_bins)#ns=np.inf)"
   ]
  },
  {
   "cell_type": "code",
   "execution_count": null,
   "metadata": {},
   "outputs": [],
   "source": [
    "XI_W.cov_utils.Om_W"
   ]
  },
  {
   "cell_type": "code",
   "execution_count": null,
   "metadata": {},
   "outputs": [],
   "source": [
    "%time cl_Wggl=XI_W.cl_tomo(corrs=[corr_ll,corr_ggl,corr_gg])"
   ]
  },
  {
   "cell_type": "code",
   "execution_count": null,
   "metadata": {},
   "outputs": [],
   "source": [
    "%time xiWggl=XI_W.xi_tomo(corrs=[corr_ll,corr_ggl,corr_gg])\n",
    "%time xiW_ggl=xiWggl['stack'].compute()"
   ]
  },
  {
   "cell_type": "code",
   "execution_count": null,
   "metadata": {},
   "outputs": [],
   "source": [
    "cl_Wggl['cov'][corr_ggl+corr_ggl][(0,0,0,1)]['G1423'].compute().min()"
   ]
  },
  {
   "cell_type": "code",
   "execution_count": null,
   "metadata": {},
   "outputs": [],
   "source": [
    "clb_T=cl_Wggl['cl_b'][corr_ggl].compute()\n",
    "for (i,j) in clb_T[corr_ggl].keys():\n",
    "#     for j in np.arange(i,nbins):\n",
    "        plot(lb,clb_T[corr_ggl][(i,j)],label=(i,j))\n",
    "        xscale('log')\n",
    "        yscale('log')\n",
    "        xlabel(r'$\\ell$')\n",
    "        ylabel(r'$C_\\ell$')\n",
    "        legend()\n",
    "#         show()"
   ]
  },
  {
   "cell_type": "code",
   "execution_count": null,
   "metadata": {},
   "outputs": [],
   "source": [
    "covv"
   ]
  },
  {
   "cell_type": "raw",
   "metadata": {},
   "source": [
    "ij=(0,0)\n",
    "covv=cl_Wggl['cov'][corr_ggl+corr_ggl][ij+ij].compute()#['final']\n",
    "corr=cc.corr_matrix(covv['final'])\n",
    "pcolor(corr,vmin=-1,vmax=1,cmap='seismic')"
   ]
  },
  {
   "cell_type": "code",
   "execution_count": null,
   "metadata": {
    "scrolled": false
   },
   "outputs": [],
   "source": [
    "for i in np.arange(nbins):\n",
    "    for j in np.arange(i,nbins):\n",
    "        plot(thb,xiWggl['xi'][corr_ggl][m1m2][(i,j)].compute(),label=(i,j))\n",
    "        plot(thb,xiWggl['xi'][corr_gg][m1m2_gg][(i,j)].compute(),ls='--')\n",
    "        xscale('log')\n",
    "        yscale('log')\n",
    "        xlabel(r'$\\theta$ (degrees)')\n",
    "        ylabel(r'$\\xi$')\n",
    "        legend()\n",
    "show()"
   ]
  },
  {
   "cell_type": "code",
   "execution_count": null,
   "metadata": {},
   "outputs": [],
   "source": [
    "np.all(np.isfinite(np.sqrt(XI_W.HT.norm)))"
   ]
  },
  {
   "cell_type": "code",
   "execution_count": null,
   "metadata": {},
   "outputs": [],
   "source": [
    "for i in np.arange(nbins):\n",
    "    for j in np.arange(0,nbins):\n",
    "        errorbar(thb,xiWggl['xi'][corr_ggl][m1m2][(i,j)].compute(),np.sqrt(np.diag(xiWggl['cov'][corr_ggl+corr_ggl][m1m2+m1m2][(i,j,i,j)].compute()['final'])),fmt='o',label=(i,j))\n",
    "xscale('log')\n",
    "yscale('log')\n",
    "xlabel(r'$\\theta$ (degrees)')\n",
    "ylabel(r'$\\xi$')\n",
    "legend()"
   ]
  },
  {
   "cell_type": "code",
   "execution_count": null,
   "metadata": {},
   "outputs": [],
   "source": [
    "for i in np.arange(nbins):\n",
    "    for j in np.arange(i,nbins):\n",
    "        errorbar(thb,xiWggl['xi'][corr_gg][m1m2_gg][(i,j)].compute(),np.sqrt(np.diag(xiWggl['cov'][corr_ggl+corr_ggl][m1m2+m1m2][(i,j,i,j)].compute()['final'])),fmt='o',label=(i,j))\n",
    "xscale('log')\n",
    "yscale('log')\n",
    "xlabel(r'$\\theta$ (degrees)')\n",
    "ylabel(r'$\\xi$')\n",
    "legend()"
   ]
  },
  {
   "cell_type": "code",
   "execution_count": null,
   "metadata": {},
   "outputs": [],
   "source": [
    "nbins=5"
   ]
  },
  {
   "cell_type": "code",
   "execution_count": null,
   "metadata": {},
   "outputs": [],
   "source": [
    "cc=XI_W.cov_utils\n",
    "corrW=cc.corr_matrix(xiW_ggl['cov'])\n",
    "pcolor(corrW,vmin=-1,vmax=1,cmap='seismic')\n",
    "# xlabel(r'$\\theta$ (degrees)')\n",
    "# ylabel(r'$\\theta$ (degrees)')\n",
    "x1=20.*nbins*(nbins+1)/2.\n",
    "x2=20.*nbins*nbins\n",
    "hlines(x1,0,len(corrW),lw=2)\n",
    "vlines(x1,0,len(corrW),lw=2)\n",
    "hlines(x1*2,0,len(corrW),lw=2)\n",
    "vlines(x1*2,0,len(corrW),lw=2)\n",
    "hlines(x1*2+x2,0,len(corrW),lw=2)\n",
    "vlines(x1*2+x2,0,len(corrW),lw=2)\n",
    "title('Wigner')\n",
    "xticks([])\n",
    "yticks([])\n",
    "show()\n",
    "# corrL=cc.corr_matrix(clL['cov'])\n",
    "# pcolor(corrL,vmin=-1,vmax=1,cmap='seismic')"
   ]
  },
  {
   "cell_type": "raw",
   "metadata": {},
   "source": [
    "pcolor(corrW.T,vmin=-1,vmax=1,cmap='seismic')"
   ]
  },
  {
   "cell_type": "code",
   "execution_count": null,
   "metadata": {},
   "outputs": [],
   "source": []
  },
  {
   "cell_type": "code",
   "execution_count": null,
   "metadata": {},
   "outputs": [],
   "source": []
  },
  {
   "cell_type": "code",
   "execution_count": null,
   "metadata": {},
   "outputs": [],
   "source": [
    "import healpy as hp\n",
    "hp.nside2npix(1024)"
   ]
  },
  {
   "cell_type": "code",
   "execution_count": null,
   "metadata": {},
   "outputs": [],
   "source": []
  }
 ],
 "metadata": {
  "hide_input": false,
  "kernelspec": {
   "display_name": "Python 3",
   "language": "python",
   "name": "python3"
  },
  "language_info": {
   "codemirror_mode": {
    "name": "ipython",
    "version": 3
   },
   "file_extension": ".py",
   "mimetype": "text/x-python",
   "name": "python",
   "nbconvert_exporter": "python",
   "pygments_lexer": "ipython3",
   "version": "3.7.2"
  }
 },
 "nbformat": 4,
 "nbformat_minor": 2
}
