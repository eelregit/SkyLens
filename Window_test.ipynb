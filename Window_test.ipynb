{
 "cells": [
  {
   "cell_type": "code",
   "execution_count": 1,
   "metadata": {},
   "outputs": [],
   "source": [
    "import sys\n",
    "import pickle\n",
    "sys.path.insert(0,'./')\n",
    "import pyccl as ccl\n",
    "import tracemalloc\n",
    "\n",
    "\n",
    "# from importlib import reload"
   ]
  },
  {
   "cell_type": "code",
   "execution_count": 2,
   "metadata": {
    "scrolled": true
   },
   "outputs": [
    {
     "ename": "ModuleNotFoundError",
     "evalue": "No module named '_wignerpylib'",
     "output_type": "error",
     "traceback": [
      "\u001b[0;31m---------------------------------------------------------------------------\u001b[0m",
      "\u001b[0;31mModuleNotFoundError\u001b[0m                       Traceback (most recent call last)",
      "\u001b[0;32m<ipython-input-2-d0c44b0e679a>\u001b[0m in \u001b[0;36m<module>\u001b[0;34m\u001b[0m\n\u001b[0;32m----> 1\u001b[0;31m \u001b[0;32mimport\u001b[0m \u001b[0mwignerpy\u001b[0m \u001b[0;32mas\u001b[0m \u001b[0mwp\u001b[0m\u001b[0;34m\u001b[0m\u001b[0;34m\u001b[0m\u001b[0m\n\u001b[0m",
      "\u001b[0;32m/usr/lib/python3.7/site-packages/wignerpy/__init__.py\u001b[0m in \u001b[0;36m<module>\u001b[0;34m\u001b[0m\n\u001b[0;32m----> 1\u001b[0;31m \u001b[0;32mimport\u001b[0m \u001b[0m_wignerpylib\u001b[0m\u001b[0;34m\u001b[0m\u001b[0;34m\u001b[0m\u001b[0m\n\u001b[0m\u001b[1;32m      2\u001b[0m \u001b[0;32mfrom\u001b[0m \u001b[0m_wignerpylib\u001b[0m \u001b[0;32mimport\u001b[0m \u001b[0mwigner3j\u001b[0m\u001b[0;34m,\u001b[0m \u001b[0mwigner3jvec\u001b[0m\u001b[0;34m,\u001b[0m \u001b[0mwigner6j\u001b[0m\u001b[0;34m,\u001b[0m \u001b[0mwigner6jvec\u001b[0m\u001b[0;34m\u001b[0m\u001b[0;34m\u001b[0m\u001b[0m\n",
      "\u001b[0;31mModuleNotFoundError\u001b[0m: No module named '_wignerpylib'"
     ]
    }
   ],
   "source": [
    "import wignerpy as wp"
   ]
  },
  {
   "cell_type": "code",
   "execution_count": 7,
   "metadata": {},
   "outputs": [
    {
     "ename": "AttributeError",
     "evalue": "module 'wignerpy' has no attribute 'wigner3j'",
     "output_type": "error",
     "traceback": [
      "\u001b[0;31m---------------------------------------------------------------------------\u001b[0m",
      "\u001b[0;31mAttributeError\u001b[0m                            Traceback (most recent call last)",
      "\u001b[0;32m<ipython-input-7-9e135d99fc84>\u001b[0m in \u001b[0;36m<module>\u001b[0;34m\u001b[0m\n\u001b[1;32m      5\u001b[0m \u001b[0mm2\u001b[0m\u001b[0;34m=\u001b[0m\u001b[0;36m0\u001b[0m\u001b[0;34m\u001b[0m\u001b[0;34m\u001b[0m\u001b[0m\n\u001b[1;32m      6\u001b[0m \u001b[0mm3\u001b[0m\u001b[0;34m=\u001b[0m\u001b[0;36m0\u001b[0m\u001b[0;34m\u001b[0m\u001b[0;34m\u001b[0m\u001b[0m\n\u001b[0;32m----> 7\u001b[0;31m \u001b[0mwp\u001b[0m\u001b[0;34m.\u001b[0m\u001b[0mwignerpy\u001b[0m\u001b[0;34m.\u001b[0m\u001b[0mwigner3j\u001b[0m\u001b[0;34m(\u001b[0m\u001b[0ml1\u001b[0m\u001b[0;34m,\u001b[0m\u001b[0ml2\u001b[0m\u001b[0;34m,\u001b[0m\u001b[0ml3\u001b[0m\u001b[0;34m,\u001b[0m\u001b[0mm1\u001b[0m\u001b[0;34m,\u001b[0m\u001b[0mm2\u001b[0m\u001b[0;34m,\u001b[0m\u001b[0mm3\u001b[0m\u001b[0;34m)\u001b[0m\u001b[0;34m\u001b[0m\u001b[0;34m\u001b[0m\u001b[0m\n\u001b[0m",
      "\u001b[0;31mAttributeError\u001b[0m: module 'wignerpy' has no attribute 'wigner3j'"
     ]
    }
   ],
   "source": [
    "l1=3\n",
    "l2=3\n",
    "l3=3\n",
    "m1=0\n",
    "m2=0\n",
    "m3=0\n",
    "wp.wignerpy.wigner3j(l1,l2,l3,m1,m2,m3)"
   ]
  },
  {
   "cell_type": "code",
   "execution_count": 7,
   "metadata": {},
   "outputs": [],
   "source": [
    "from sympy.physics.wigner import wigner_3j"
   ]
  },
  {
   "cell_type": "code",
   "execution_count": 12,
   "metadata": {},
   "outputs": [
    {
     "name": "stdout",
     "output_type": "stream",
     "text": [
      "CPU times: user 1.91 s, sys: 3.1 ms, total: 1.92 s\n",
      "Wall time: 1.91 s\n"
     ]
    },
    {
     "data": {
      "text/plain": [
       "-0.000302980272899538"
      ]
     },
     "execution_count": 12,
     "metadata": {},
     "output_type": "execute_result"
    }
   ],
   "source": [
    "%time wigner_3j(1000,1000,1000,2,-2,0).evalf()"
   ]
  },
  {
   "cell_type": "code",
   "execution_count": 2,
   "metadata": {},
   "outputs": [
    {
     "name": "stdout",
     "output_type": "stream",
     "text": [
      "0\n",
      "1\n"
     ]
    }
   ],
   "source": [
    "ww=np.arange(100)\n",
    "for i in ww[:2]:\n",
    "    print (i)"
   ]
  },
  {
   "cell_type": "code",
   "execution_count": 3,
   "metadata": {},
   "outputs": [
    {
     "data": {
      "text/plain": [
       "2"
      ]
     },
     "execution_count": 3,
     "metadata": {},
     "output_type": "execute_result"
    }
   ],
   "source": [
    "x={1:1,0:0}\n",
    "1+ (x.get(1) or 0)"
   ]
  },
  {
   "cell_type": "code",
   "execution_count": 4,
   "metadata": {},
   "outputs": [],
   "source": [
    "import dask\n",
    "from distributed import LocalCluster\n",
    "from dask.distributed import Client  # we already had this above\n",
    "#http://distributed.readthedocs.io/en/latest/_modules/distributed/worker.html\n",
    "LC=LocalCluster(n_workers=10,processes=False,memory_limit='50gb',threads_per_worker=1,memory_spill_fraction=.99,)\n",
    "#                memory_monitor_interval='2000ms',worker_memory_limit='50gb')\n",
    "client=Client(LC)\n",
    "# dask.config.set(scheduler='single-threaded')"
   ]
  },
  {
   "cell_type": "code",
   "execution_count": 5,
   "metadata": {},
   "outputs": [
    {
     "data": {
      "text/html": [
       "<table style=\"border: 2px solid white;\">\n",
       "<tr>\n",
       "<td style=\"vertical-align: top; border: 0px solid white\">\n",
       "<h3>Client</h3>\n",
       "<ul>\n",
       "  <li><b>Scheduler: </b>inproc://136.152.250.183/26866/1\n",
       "  <li><b>Dashboard: </b><a href='http://localhost:8787/status' target='_blank'>http://localhost:8787/status</a>\n",
       "</ul>\n",
       "</td>\n",
       "<td style=\"vertical-align: top; border: 0px solid white\">\n",
       "<h3>Cluster</h3>\n",
       "<ul>\n",
       "  <li><b>Workers: </b>10</li>\n",
       "  <li><b>Cores: </b>10</li>\n",
       "  <li><b>Memory: </b>500.00 GB</li>\n",
       "</ul>\n",
       "</td>\n",
       "</tr>\n",
       "</table>"
      ],
      "text/plain": [
       "<Client: scheduler='inproc://136.152.250.183/26866/1' processes=10 cores=10>"
      ]
     },
     "execution_count": 5,
     "metadata": {},
     "output_type": "execute_result"
    }
   ],
   "source": [
    "client"
   ]
  },
  {
   "cell_type": "code",
   "execution_count": 6,
   "metadata": {},
   "outputs": [
    {
     "data": {
      "text/html": [
       "<table style=\"border: 2px solid white;\">\n",
       "<tr>\n",
       "<td style=\"vertical-align: top; border: 0px solid white\">\n",
       "<h3>Client</h3>\n",
       "<ul>\n",
       "  <li><b>Scheduler: </b>inproc://136.152.250.183/26866/1\n",
       "  <li><b>Dashboard: </b><a href='http://localhost:8787/status' target='_blank'>http://localhost:8787/status</a>\n",
       "</ul>\n",
       "</td>\n",
       "<td style=\"vertical-align: top; border: 0px solid white\">\n",
       "<h3>Cluster</h3>\n",
       "<ul>\n",
       "  <li><b>Workers: </b>10</li>\n",
       "  <li><b>Cores: </b>10</li>\n",
       "  <li><b>Memory: </b>500.00 GB</li>\n",
       "</ul>\n",
       "</td>\n",
       "</tr>\n",
       "</table>"
      ],
      "text/plain": [
       "<Client: scheduler='inproc://136.152.250.183/26866/1' processes=10 cores=10>"
      ]
     },
     "execution_count": 6,
     "metadata": {},
     "output_type": "execute_result"
    }
   ],
   "source": [
    "client.restart()"
   ]
  },
  {
   "cell_type": "code",
   "execution_count": 7,
   "metadata": {},
   "outputs": [],
   "source": [
    "from cov_3X2 import *\n",
    "# from fisher import *"
   ]
  },
  {
   "cell_type": "code",
   "execution_count": 8,
   "metadata": {},
   "outputs": [],
   "source": [
    "#only for python3\n",
    "import importlib\n",
    "reload=importlib.reload"
   ]
  },
  {
   "cell_type": "markdown",
   "metadata": {},
   "source": [
    "# Lensing X Lensing Correlation function covariance"
   ]
  },
  {
   "cell_type": "markdown",
   "metadata": {},
   "source": [
    "## Multiple redshift bins (Tomography)"
   ]
  },
  {
   "cell_type": "code",
   "execution_count": 9,
   "metadata": {},
   "outputs": [],
   "source": [
    "from lsst_utils import *"
   ]
  },
  {
   "cell_type": "code",
   "execution_count": 10,
   "metadata": {},
   "outputs": [],
   "source": [
    "import cov_utils\n",
    "reload(cov_utils)\n",
    "from cov_utils import *"
   ]
  },
  {
   "cell_type": "code",
   "execution_count": 11,
   "metadata": {},
   "outputs": [],
   "source": [
    "import window_utils\n",
    "reload(window_utils)\n",
    "from window_utils import *"
   ]
  },
  {
   "cell_type": "code",
   "execution_count": 12,
   "metadata": {},
   "outputs": [],
   "source": [
    "import cov_3X2\n",
    "reload(cov_3X2)\n",
    "from cov_3X2 import *\n",
    "from wigner_transform import *"
   ]
  },
  {
   "cell_type": "code",
   "execution_count": 13,
   "metadata": {},
   "outputs": [],
   "source": [
    "import hankel_transform\n",
    "from astropy.io import fits\n",
    "reload(hankel_transform)\n",
    "from hankel_transform import *\n"
   ]
  },
  {
   "cell_type": "raw",
   "metadata": {},
   "source": [
    "Omega_m : 0.2837\n",
    "Omega_v : 0.7163\n",
    "sigma_8 : 0.795431\n",
    "n_spec : 0.96859\n",
    "w0 : -1.0\n",
    "wa : 0.0\n",
    "omb : 0.062\n",
    "h0 : 0.8433"
   ]
  },
  {
   "cell_type": "code",
   "execution_count": 14,
   "metadata": {},
   "outputs": [
    {
     "data": {
      "text/plain": [
       "0.7971166462048332"
      ]
     },
     "execution_count": 14,
     "metadata": {},
     "output_type": "execute_result"
    }
   ],
   "source": [
    "cosmo_params={'h': 0.8433,\n",
    " 'Omb': 0.062,\n",
    " 'Omd': 0.2837-0.062,\n",
    " 's8': 0.795431,\n",
    " 'Om': 0.2837,\n",
    " 'As': 1.685e-09,\n",
    " 'Ase9': 1.685,\n",
    " 'mnu': 0.0,\n",
    " 'Omk': 0.0,\n",
    " 'tau': 0.06,\n",
    " 'ns': 0.96859,\n",
    " 'w': -1,\n",
    " 'wa': 0,\n",
    " 'Oml': 1.-0.2837}\n",
    "PS=Power_Spectra(cosmo_params=cosmo_params)\n",
    "k,pk,s8=PS.camb_pk(z=[0],cosmo_params=cosmo_params,return_s8=True)\n",
    "s8"
   ]
  },
  {
   "cell_type": "code",
   "execution_count": 15,
   "metadata": {},
   "outputs": [],
   "source": [
    "mnu=cosmo_h.m_nu*0\n",
    "cosmo=cosmo.clone(m_nu=mnu,Ob0=cosmo_params['Omb'],Om0=cosmo_params['Om'])\n",
    "cosmo_h=cosmo.clone(H0=100) #,m_nu=mnu,Ob0=cosmo_params['Omb'],Om0=cosmo_params['Om'])\n",
    "ccl_cosmo = ccl.Cosmology(Omega_c=cosmo_params['Omd'], Omega_b=cosmo_params['Omb'], \n",
    "                      h=cosmo_params['h'], A_s=cosmo_params['As'], n_s=cosmo_params['ns'],)#m_nu=[0,0,0.06])"
   ]
  },
  {
   "cell_type": "code",
   "execution_count": 16,
   "metadata": {},
   "outputs": [],
   "source": [
    "use_window=True\n",
    "do_sample_variance=True\n",
    "SSV_cov=True\n",
    "tidal_SSV=True\n",
    "Tri_cov=False\n",
    "sigma_gamma=0.3944/sqrt(2.)  #*2**0.25"
   ]
  },
  {
   "cell_type": "code",
   "execution_count": 17,
   "metadata": {},
   "outputs": [],
   "source": [
    "f_sky=.7 #3000./(4*np.pi/d2r**2)\n",
    "f_sky\n",
    "\n",
    "nside=128"
   ]
  },
  {
   "cell_type": "code",
   "execution_count": 18,
   "metadata": {},
   "outputs": [
    {
     "name": "stderr",
     "output_type": "stream",
     "text": [
      "./cov_utils.py:62: RuntimeWarning: invalid value encountered in true_divide\n",
      "  Win0=2*jn(1,l_th)/l_th\n",
      "./angular_power_spectra.py:23: RuntimeWarning: divide by zero encountered in true_divide\n",
      "  self.cl_f=(l+0.5)**2/(l*(l+1.)) # cl correction from Kilbinger+ 2017\n",
      "/usr/lib/python3.7/site-packages/astropy/units/quantity.py:639: RuntimeWarning: divide by zero encountered in true_divide\n",
      "  result = super().__array_ufunc__(function, method, *arrays, **kwargs)\n"
     ]
    },
    {
     "name": "stdout",
     "output_type": "stream",
     "text": [
      "{('galaxy', 'galaxy'): [(0, 0)], ('shear', 'shear'): [(2, 2), (2, -2)], 'window': [(0, 0)]} ('galaxy',)\n",
      "cl dict done\n"
     ]
    },
    {
     "name": "stderr",
     "output_type": "stream",
     "text": [
      "/usr/lib/python3.7/site-packages/healpy/sphtfunc.py:402: FutureChangeWarning: The order of the input cl's will change in a future release.\n",
      "Use new=True keyword to start using the new order.\n",
      "See documentation of healpy.synalm.\n",
      "  category=FutureChangeWarning,\n"
     ]
    },
    {
     "name": "stdout",
     "output_type": "stream",
     "text": [
      "Sigma is 0.000000 arcmin (0.000000 rad) \n",
      "-> fwhm is 0.000000 arcmin\n",
      "{('galaxy', 'galaxy'): [(0, 0)], ('shear', 'shear'): [(2, 2), (2, -2)], 'window': [(0, 0)]} ('galaxy',)\n",
      "cl dict done\n",
      "Sigma is 0.000000 arcmin (0.000000 rad) \n",
      "-> fwhm is 0.000000 arcmin\n"
     ]
    }
   ],
   "source": [
    "zmin=0.3\n",
    "zmax=2\n",
    "\n",
    "z=np.linspace(0,5,200)\n",
    "pzs=lsst_pz_source(z=z)\n",
    "x=z<zmax\n",
    "x*=z>zmin\n",
    "z=z[x]\n",
    "pzs=pzs[x]\n",
    "\n",
    "ns0=26 #26+np.inf #ns=inf means shape noise is zero\n",
    "nbins=1  # Number of tomographic bins\n",
    "z_sigma=0.03\n",
    "zs_bins=source_tomo_bins(zp=z,p_zp=pzs,ns=ns0,nz_bins=nbins,use_window=use_window,f_sky=f_sky,window_cl_fact=0,\n",
    "                         ztrue_func=ztrue_given_pz_Gaussian,zp_bias=np.zeros_like(z),sigma_gamma=sigma_gamma,\n",
    "                        zp_sigma=z_sigma*np.ones_like(z),nside=nside)\n",
    "\n",
    "ng0=10 #26+np.inf #ns=inf means shape noise is zero\n",
    "nlbins=1 # Number of tomographic bins\n",
    "z_sigma=0.005\n",
    "zl_bins=source_tomo_bins(zp=z,p_zp=pzs,ns=ng0,nz_bins=nlbins,use_window=use_window,f_sky=f_sky,\n",
    "                         ztrue_func=ztrue_given_pz_Gaussian,zp_bias=np.zeros_like(z),window_cl_fact=0,\n",
    "                        zp_sigma=z_sigma*np.ones_like(z),k_max=1.e6,nside=nside)\n",
    "for i in np.arange(nlbins):\n",
    "    zl_bins[i]['b1']=1"
   ]
  },
  {
   "cell_type": "code",
   "execution_count": 19,
   "metadata": {},
   "outputs": [
    {
     "name": "stdout",
     "output_type": "stream",
     "text": [
      "X\n"
     ]
    }
   ],
   "source": [
    "for a in ()+(\"X\",):\n",
    "    print (a)"
   ]
  },
  {
   "cell_type": "code",
   "execution_count": 20,
   "metadata": {},
   "outputs": [],
   "source": [
    "do_cov=True"
   ]
  },
  {
   "cell_type": "code",
   "execution_count": 21,
   "metadata": {},
   "outputs": [],
   "source": [
    "do_xi=True\n",
    "bin_xi=True\n",
    "bin_cl=True\n",
    "th_min=2.5/60\n",
    "th_max=250./60\n",
    "n_th_bins=20\n",
    "th_bins=np.logspace(np.log10(th_min),np.log10(th_max),n_th_bins+1)\n",
    "th=np.logspace(np.log10(th_min*0.98),np.log10(1),n_th_bins*30)\n",
    "th2=np.linspace(1,th_max*1.02,n_th_bins*30)\n",
    "# th2=np.logspace(np.log10(1),np.log10(th_max),60*6)\n",
    "th=np.unique(np.sort(np.append(th,th2)))\n",
    "thb=np.sqrt(th_bins[1:]*th_bins[:-1])"
   ]
  },
  {
   "cell_type": "code",
   "execution_count": 22,
   "metadata": {},
   "outputs": [],
   "source": [
    "#Hankel Transform setup\n",
    "l_max=1e3\n",
    "l_maxW=1e3\n",
    "l_min=2\n",
    "# nl=1e2\n",
    "# nl_bins=np.int(nl/10)\n",
    "# l0=np.logspace(np.log10(l_min),np.log10(l_maxW),nl)\n",
    "# l0=np.append([0,1],l0)\n",
    "# l0=np.unique(np.int32(l0))\n",
    "# l0_HT=l0\n",
    "l0=np.arange(l_min,l_max)\n",
    "l0_HT=np.arange(l_max)\n",
    "nl_bins=20\n",
    "  #np.arange(l_min,l_max)\n",
    "# l0=np.unique(np.int32(np.logspace(np.log10(l_min),np.log10(l_maxW),4.e3)))   #np.arange(l_min,l_max)\n",
    "# l_bins=np.unique(np.int32(np.logspace(np.log10(l_min),np.log10(l_max),50)))\n",
    "l_bins=np.unique(np.int32(np.linspace(l_min,l_max,nl_bins)))\n",
    "prune_theta=0\n",
    "HT_kwargs={'l_min':l_min,  'l_max':l_max,\n",
    "                        'theta_min':th_min*d2r*.9, 'theta_max':th_max*d2r,\n",
    "                        'n_zeros':40000, 'prune_theta':prune_theta, 'm1_m2':[(2,2),(2,-2),(0,2),(0,0)]}\n",
    "# %time HT=hankel_transform(**HT_kwargs)\n",
    "# HT_kwargs2={'l_min':l_min,  'l_max':l_max,\n",
    "#                         'theta_min':th_min*d2r*.9, 'theta_max':th_max*d2r,\n",
    "#                         'n_zeros':40000, 'prune_theta':2, 'm1_m2':[(2,-2)]}#,(2,-2)]}"
   ]
  },
  {
   "cell_type": "code",
   "execution_count": 23,
   "metadata": {},
   "outputs": [],
   "source": [
    "power_spectra_kwargs={'cosmo':cosmo,'cosmo_params':cosmo_params,'pk_func':'camb_pk_too_many_z'}"
   ]
  },
  {
   "cell_type": "code",
   "execution_count": 24,
   "metadata": {},
   "outputs": [],
   "source": [
    "corr_ggl=('shear','galaxy')\n",
    "corr_ggk=('kappa','galaxy')\n",
    "corr_gg=('galaxy','galaxy')\n",
    "corr_ll=('shear','shear')\n",
    "corr_kk=('kappa','kappa')\n",
    "m1m2=(0,2)\n",
    "m1m2_gg=(0,0)"
   ]
  },
  {
   "cell_type": "code",
   "execution_count": 25,
   "metadata": {},
   "outputs": [
    {
     "name": "stderr",
     "output_type": "stream",
     "text": [
      "./wigner_functions.py:38: RuntimeWarning: invalid value encountered in true_divide\n",
      "  d_mat/=np.sqrt(binom(k+b,b))\n",
      "./wigner_functions.py:38: RuntimeWarning: divide by zero encountered in true_divide\n",
      "  d_mat/=np.sqrt(binom(k+b,b))\n",
      "./wigner_functions.py:38: RuntimeWarning: divide by zero encountered in true_divide\n",
      "  d_mat/=np.sqrt(binom(k+b,b))\n"
     ]
    },
    {
     "name": "stdout",
     "output_type": "stream",
     "text": [
      "CPU times: user 445 ms, sys: 673 ms, total: 1.12 s\n",
      "Wall time: 3.67 s\n"
     ]
    }
   ],
   "source": [
    "#### Wigner Transform setup... Using high ell to test convergence\n",
    "WT_L_kwargs={'l': l0_HT,'theta': th*d2r,'m1_m2':[(2,2),(2,-2),(0,2),(2,0),(0,0)]}\n",
    "%time WT_L=wigner_transform(**WT_L_kwargs)"
   ]
  },
  {
   "cell_type": "code",
   "execution_count": 26,
   "metadata": {},
   "outputs": [],
   "source": [
    "window_lmax=30\n",
    "bi=(0,0)\n",
    "\n"
   ]
  },
  {
   "cell_type": "code",
   "execution_count": 27,
   "metadata": {},
   "outputs": [],
   "source": [
    "import window_utils\n",
    "reload(window_utils)\n",
    "from window_utils import *\n",
    "\n",
    "import cov_3X2\n",
    "reload(cov_3X2)\n",
    "from cov_3X2 import *"
   ]
  },
  {
   "cell_type": "code",
   "execution_count": 28,
   "metadata": {},
   "outputs": [
    {
     "data": {
      "text/plain": [
       "1"
      ]
     },
     "execution_count": 28,
     "metadata": {},
     "output_type": "execute_result"
    }
   ],
   "source": [
    "np.int8(1)"
   ]
  },
  {
   "cell_type": "code",
   "execution_count": 29,
   "metadata": {},
   "outputs": [],
   "source": [
    "do_cov=True\n",
    "use_window=True"
   ]
  },
  {
   "cell_type": "code",
   "execution_count": 30,
   "metadata": {
    "scrolled": false
   },
   "outputs": [
    {
     "name": "stdout",
     "output_type": "stream",
     "text": [
      "{('galaxy', 'galaxy'): [(0, 0)], ('galaxy', 'kappa'): [(0, 0)], ('kappa', 'galaxy'): [(0, 0)], ('kappa', 'kappa'): [(0, 0)], ('shear', 'shear'): [(2, 2), (2, -2)], 'window': [(0, 0)]} ('galaxy', 'kappa')\n",
      "wigner done dict_keys([0, 2])\n",
      "setting windows None\n",
      "Cl windows done, now to covariance\n",
      "W done 3.1870598793029785\n"
     ]
    }
   ],
   "source": [
    "tracemalloc.clear_traces()\n",
    "tracemalloc.start()\n",
    "\n",
    "t1=time.time()\n",
    "try:\n",
    "    Win=XI_W_L.Win.Win\n",
    "except:\n",
    "    Win=None\n",
    "XI_W_L= cov_3X2(zk_bins=zs_bins,l=l0,do_cov=do_cov,bin_cl=bin_cl,l_bins=l_bins,zg_bins=zl_bins,\n",
    "                do_sample_variance=do_sample_variance,use_window=use_window,window_lmax=window_lmax,\n",
    "                power_spectra_kwargs=power_spectra_kwargs,corrs=[corr_kk,corr_gg,corr_ggk]\n",
    "                ,store_win=False,Win=Win,\n",
    "               SSV_cov=SSV_cov,tidal_SSV_cov=tidal_SSV,do_xi=True,HT=WT_L,f_sky=f_sky,\n",
    "               bin_xi=bin_xi,theta_bins=th_bins)#ns=np.inf)\n",
    "t2=time.time()\n",
    "snapshot1 = tracemalloc.take_snapshot()\n",
    "print('W done',t2-t1)\n",
    "top_stats = snapshot1.statistics('lineno')"
   ]
  },
  {
   "cell_type": "code",
   "execution_count": 31,
   "metadata": {},
   "outputs": [],
   "source": [
    "top_stats = snapshot1.statistics('traceback')"
   ]
  },
  {
   "cell_type": "code",
   "execution_count": 32,
   "metadata": {},
   "outputs": [
    {
     "data": {
      "text/plain": [
       "(175711696, 1445295819)"
      ]
     },
     "execution_count": 32,
     "metadata": {},
     "output_type": "execute_result"
    }
   ],
   "source": [
    "tracemalloc.get_traced_memory()"
   ]
  },
  {
   "cell_type": "code",
   "execution_count": 33,
   "metadata": {},
   "outputs": [
    {
     "name": "stdout",
     "output_type": "stream",
     "text": [
      "34 memory blocks: 62.5 MiB\n",
      "  File \"/usr/lib/python3.7/site-packages/numpy/core/einsumfunc.py\", line 1346\n",
      "    return c_einsum(*operands, **kwargs)\n"
     ]
    }
   ],
   "source": [
    "stat = top_stats[0]\n",
    "print(\"%s memory blocks: %.1f MiB\" % (stat.count, stat.size / 1024**2))\n",
    "for line in stat.traceback.format():\n",
    "    print(line)"
   ]
  },
  {
   "cell_type": "code",
   "execution_count": 34,
   "metadata": {},
   "outputs": [
    {
     "data": {
      "text/plain": [
       "[<Statistic traceback=<Traceback (<Frame filename='/usr/lib/python3.7/site-packages/numpy/core/einsumfunc.py' lineno=1346>,)> size=65524208 count=34>,\n",
       " <Statistic traceback=<Traceback (<Frame filename='/usr/lib/python3.7/site-packages/sparse/coo/core.py' lineno=234>,)> size=57860576 count=8>,\n",
       " <Statistic traceback=<Traceback (<Frame filename='./window_utils.py' lineno=116>,)> size=31000080 count=2>,\n",
       " <Statistic traceback=<Traceback (<Frame filename='/usr/lib/python3.7/site-packages/sparse/coo/core.py' lineno=346>,)> size=9643728 count=10>,\n",
       " <Statistic traceback=<Traceback (<Frame filename='/usr/lib/python3.7/site-packages/numpy/core/numeric.py' lineno=1203>,)> size=8000080 count=2>,\n",
       " <Statistic traceback=<Traceback (<Frame filename='./binning.py' lineno=16>,)> size=1111808 count=16>,\n",
       " <Statistic traceback=<Traceback (<Frame filename='/usr/lib/python3.7/linecache.py' lineno=137>,)> size=1054784 count=10513>,\n",
       " <Statistic traceback=<Traceback (<Frame filename='/usr/lib/python3.7/site-packages/numpy/lib/function_base.py' lineno=792>,)> size=58832 count=35>,\n",
       " <Statistic traceback=<Traceback (<Frame filename='./binning.py' lineno=27>,)> size=56440 count=12>,\n",
       " <Statistic traceback=<Traceback (<Frame filename='./binning.py' lineno=14>,)> size=56440 count=12>,\n",
       " <Statistic traceback=<Traceback (<Frame filename='/usr/lib/python3.7/site-packages/distributed/worker.py' lineno=2349>,)> size=55776 count=332>,\n",
       " <Statistic traceback=<Traceback (<Frame filename='/usr/lib/python3.7/site-packages/distributed/profile.py' lineno=99>,)> size=45240 count=379>,\n",
       " <Statistic traceback=<Traceback (<Frame filename='/usr/lib/python3.7/site-packages/distributed/profile.py' lineno=98>,)> size=44424 count=373>,\n",
       " <Statistic traceback=<Traceback (<Frame filename='/usr/lib/python3.7/site-packages/distributed/profile.py' lineno=64>,)> size=42264 count=359>,\n",
       " <Statistic traceback=<Traceback (<Frame filename='/usr/lib/python3.7/site-packages/toolz/dicttoolz.py' lineno=39>,)> size=40320 count=70>,\n",
       " <Statistic traceback=<Traceback (<Frame filename='/usr/lib/python3.7/site-packages/numpy/core/function_base.py' lineno=279>,)> size=40160 count=3>,\n",
       " <Statistic traceback=<Traceback (<Frame filename='/usr/lib/python3.7/site-packages/distributed/profile.py' lineno=45>,)> size=34950 count=310>,\n",
       " <Statistic traceback=<Traceback (<Frame filename='/usr/lib/python3.7/site-packages/distributed/profile.py' lineno=60>,)> size=30331 count=310>,\n",
       " <Statistic traceback=<Traceback (<Frame filename='/usr/lib/python3.7/site-packages/tornado/platform/asyncio.py' lineno=145>,)> size=27544 count=360>,\n",
       " <Statistic traceback=<Traceback (<Frame filename='/usr/lib/python3.7/site-packages/distributed/protocol/serialize.py' lineno=313>,)> size=27008 count=166>,\n",
       " <Statistic traceback=<Traceback (<Frame filename='/usr/lib/python3.7/site-packages/tornado/gen.py' lineno=307>,)> size=23184 count=157>,\n",
       " <Statistic traceback=<Traceback (<Frame filename='/usr/lib/python3.7/site-packages/tornado/stack_context.py' lineno=296>,)> size=22712 count=167>,\n",
       " <Statistic traceback=<Traceback (<Frame filename='/usr/lib/python3.7/site-packages/distributed/core.py' lineno=429>,)> size=17464 count=46>,\n",
       " <Statistic traceback=<Traceback (<Frame filename='./tracer_utils.py' lineno=71>,)> size=16256 count=6>,\n",
       " <Statistic traceback=<Traceback (<Frame filename='/usr/lib/python3.7/site-packages/dask/delayed.py' lineno=94>,)> size=14664 count=275>,\n",
       " <Statistic traceback=<Traceback (<Frame filename='/usr/lib/python3.7/site-packages/dask/delayed.py' lineno=29>,)> size=13968 count=207>,\n",
       " <Statistic traceback=<Traceback (<Frame filename='/usr/lib/python3.7/asyncio/base_events.py' lineno=657>,)> size=13320 count=117>,\n",
       " <Statistic traceback=<Traceback (<Frame filename='/usr/lib/python3.7/abc.py' lineno=143>,)> size=13108 count=182>,\n",
       " <Statistic traceback=<Traceback (<Frame filename='/usr/lib/python3.7/site-packages/distributed/core.py' lineno=614>,)> size=13096 count=26>,\n",
       " <Statistic traceback=<Traceback (<Frame filename='/usr/lib/python3.7/site-packages/tornado/stack_context.py' lineno=303>,)> size=12912 count=114>,\n",
       " <Statistic traceback=<Traceback (<Frame filename='/usr/lib/python3.7/asyncio/base_events.py' lineno=671>,)> size=12224 count=104>,\n",
       " <Statistic traceback=<Traceback (<Frame filename='/usr/lib/python3.7/site-packages/tornado/platform/asyncio.py' lineno=154>,)> size=12192 count=111>,\n",
       " <Statistic traceback=<Traceback (<Frame filename='/usr/lib/python3.7/site-packages/tornado/gen.py' lineno=295>,)> size=11424 count=68>,\n",
       " <Statistic traceback=<Traceback (<Frame filename='/usr/lib/python3.7/site-packages/tornado/gen.py' lineno=1230>,)> size=10880 count=80>,\n",
       " <Statistic traceback=<Traceback (<Frame filename='/usr/lib/python3.7/site-packages/zarr/core.py' lineno=360>,)> size=10680 count=146>,\n",
       " <Statistic traceback=<Traceback (<Frame filename='/usr/lib/python3.7/site-packages/zarr/indexing.py' lineno=573>,)> size=10584 count=142>,\n",
       " <Statistic traceback=<Traceback (<Frame filename='/usr/lib/python3.7/site-packages/zarr/indexing.py' lineno=572>,)> size=10576 count=142>,\n",
       " <Statistic traceback=<Traceback (<Frame filename='/usr/lib/python3.7/site-packages/zarr/indexing.py' lineno=571>,)> size=10576 count=142>,\n",
       " <Statistic traceback=<Traceback (<Frame filename='/usr/lib/python3.7/site-packages/tornado/ioloop.py' lineno=758>,)> size=10120 count=36>,\n",
       " <Statistic traceback=<Traceback (<Frame filename='/usr/lib/python3.7/site-packages/tornado/ioloop.py' lineno=719>,)> size=10000 count=74>,\n",
       " <Statistic traceback=<Traceback (<Frame filename='/usr/lib/python3.7/functools.py' lineno=60>,)> size=9416 count=93>,\n",
       " <Statistic traceback=<Traceback (<Frame filename='/usr/lib/python3.7/site-packages/toolz/dicttoolz.py' lineno=37>,)> size=8904 count=113>,\n",
       " <Statistic traceback=<Traceback (<Frame filename='/usr/lib/python3.7/site-packages/scipy/interpolate/interpolate.py' lineno=613>,)> size=8176 count=4>,\n",
       " <Statistic traceback=<Traceback (<Frame filename='./cov_utils.py' lineno=35>,)> size=8080 count=2>,\n",
       " <Statistic traceback=<Traceback (<Frame filename='./angular_power_spectra.py' lineno=23>,)> size=8080 count=2>,\n",
       " <Statistic traceback=<Traceback (<Frame filename='/usr/lib/python3.7/site-packages/tornado/ioloop.py' lineno=717>,)> size=7680 count=160>,\n",
       " <Statistic traceback=<Traceback (<Frame filename='/usr/lib/python3.7/site-packages/distributed/profile.py' lineno=89>,)> size=7680 count=15>,\n",
       " <Statistic traceback=<Traceback (<Frame filename='/usr/lib/python3.7/site-packages/tornado/gen.py' lineno=1233>,)> size=7392 count=14>,\n",
       " <Statistic traceback=<Traceback (<Frame filename='/usr/lib/python3.7/site-packages/tornado/gen.py' lineno=1235>,)> size=7008 count=146>,\n",
       " <Statistic traceback=<Traceback (<Frame filename='/usr/lib/python3.7/site-packages/distributed/profile.py' lineno=132>,)> size=6312 count=53>,\n",
       " <Statistic traceback=<Traceback (<Frame filename='/usr/lib/python3.7/site-packages/distributed/profile.py' lineno=63>,)> size=6160 count=220>,\n",
       " <Statistic traceback=<Traceback (<Frame filename='/usr/lib/python3.7/site-packages/distributed/utils_comm.py' lineno=227>,)> size=5920 count=18>,\n",
       " <Statistic traceback=<Traceback (<Frame filename='/usr/lib/python3.7/asyncio/events.py' lineno=88>,)> size=5816 count=12>,\n",
       " <Statistic traceback=<Traceback (<Frame filename='/usr/lib/python3.7/site-packages/distributed/system_monitor.py' lineno=82>,)> size=5808 count=11>,\n",
       " <Statistic traceback=<Traceback (<Frame filename='/usr/lib/python3.7/site-packages/distributed/system_monitor.py' lineno=76>,)> size=5808 count=11>,\n",
       " <Statistic traceback=<Traceback (<Frame filename='/usr/lib/python3.7/site-packages/distributed/system_monitor.py' lineno=75>,)> size=5808 count=11>,\n",
       " <Statistic traceback=<Traceback (<Frame filename='/usr/lib/python3.7/site-packages/distributed/system_monitor.py' lineno=55>,)> size=5808 count=11>,\n",
       " <Statistic traceback=<Traceback (<Frame filename='/usr/lib/python3.7/asyncio/base_events.py' lineno=539>,)> size=5760 count=10>,\n",
       " <Statistic traceback=<Traceback (<Frame filename='/usr/lib/python3.7/site-packages/tornado/gen.py' lineno=1062>,)> size=5688 count=35>,\n",
       " <Statistic traceback=<Traceback (<Frame filename='/usr/lib/python3.7/site-packages/tornado/gen.py' lineno=187>,)> size=5376 count=42>,\n",
       " <Statistic traceback=<Traceback (<Frame filename='/usr/lib/python3.7/site-packages/distributed/system_monitor.py' lineno=54>,)> size=5280 count=10>,\n",
       " <Statistic traceback=<Traceback (<Frame filename='/usr/lib/python3.7/site-packages/distributed/comm/inproc.py' lineno=91>,)> size=5136 count=27>,\n",
       " <Statistic traceback=<Traceback (<Frame filename='/usr/lib/python3.7/site-packages/tornado/gen.py' lineno=1221>,)> size=4864 count=72>,\n",
       " <Statistic traceback=<Traceback (<Frame filename='/usr/lib/python3.7/site-packages/tornado/gen.py' lineno=1080>,)> size=4752 count=9>,\n",
       " <Statistic traceback=<Traceback (<Frame filename='/usr/lib/python3.7/asyncio/base_events.py' lineno=1775>,)> size=4608 count=9>,\n",
       " <Statistic traceback=<Traceback (<Frame filename='/usr/lib/python3.7/site-packages/tornado/gen.py' lineno=347>,)> size=4488 count=33>,\n",
       " <Statistic traceback=<Traceback (<Frame filename='/usr/lib/python3.7/site-packages/dask/highlevelgraph.py' lineno=118>,)> size=4480 count=20>,\n",
       " <Statistic traceback=<Traceback (<Frame filename='/usr/lib/python3.7/site-packages/distributed/comm/inproc.py' lineno=102>,)> size=4224 count=33>,\n",
       " <Statistic traceback=<Traceback (<Frame filename='/usr/lib/python3.7/site-packages/distributed/system_monitor.py' lineno=53>,)> size=4224 count=8>,\n",
       " <Statistic traceback=<Traceback (<Frame filename='/usr/lib/python3.7/site-packages/tornado/gen.py' lineno=346>,)> size=4200 count=50>,\n",
       " <Statistic traceback=<Traceback (<Frame filename='/usr/lib/python3.7/site-packages/bokeh/server/tornado.py' lineno=473>,)> size=3920 count=7>,\n",
       " <Statistic traceback=<Traceback (<Frame filename='/usr/lib/python3.7/site-packages/distributed/comm/inproc.py' lineno=200>,)> size=3840 count=52>,\n",
       " <Statistic traceback=<Traceback (<Frame filename='/usr/lib/python3.7/site-packages/tornado/stack_context.py' lineno=300>,)> size=3816 count=9>,\n",
       " <Statistic traceback=<Traceback (<Frame filename='/usr/lib/python3.7/site-packages/distributed/core.py' lineno=198>,)> size=3696 count=7>,\n",
       " <Statistic traceback=<Traceback (<Frame filename='/usr/lib/python3.7/site-packages/dask/delayed.py' lineno=93>,)> size=3680 count=8>,\n",
       " <Statistic traceback=<Traceback (<Frame filename='/usr/lib/python3.7/site-packages/distributed/counter.py' lineno=46>,)> size=3400 count=35>,\n",
       " <Statistic traceback=<Traceback (<Frame filename='<string>' lineno=1>,)> size=3312 count=33>,\n",
       " <Statistic traceback=<Traceback (<Frame filename='/usr/lib/python3.7/site-packages/distributed/worker.py' lineno=2336>,)> size=3216 count=42>,\n",
       " <Statistic traceback=<Traceback (<Frame filename='/usr/lib/python3.7/threading.py' lineno=365>,)> size=3168 count=6>,\n",
       " <Statistic traceback=<Traceback (<Frame filename='/usr/lib/python3.7/threading.py' lineno=348>,)> size=3168 count=6>,\n",
       " <Statistic traceback=<Traceback (<Frame filename='/usr/lib/python3.7/site-packages/distributed/profile.py' lineno=131>,)> size=3120 count=26>,\n",
       " <Statistic traceback=<Traceback (<Frame filename='/usr/lib/python3.7/site-packages/dask/delayed.py' lineno=570>,)> size=2730 count=26>,\n",
       " <Statistic traceback=<Traceback (<Frame filename='/usr/lib/python3.7/site-packages/tornado/gen.py' lineno=1177>,)> size=2496 count=52>,\n",
       " <Statistic traceback=<Traceback (<Frame filename='/usr/lib/python3.7/site-packages/psutil/_pslinux.py' lineno=1735>,)> size=2420 count=77>,\n",
       " <Statistic traceback=<Traceback (<Frame filename='/usr/lib/python3.7/site-packages/distributed/_concurrent_futures_thread.py' lineno=64>,)> size=2336 count=4>,\n",
       " <Statistic traceback=<Traceback (<Frame filename='/usr/lib/python3.7/site-packages/distributed/stealing.py' lineno=320>,)> size=2304 count=36>,\n",
       " <Statistic traceback=<Traceback (<Frame filename='/usr/lib/python3.7/site-packages/tornado/locks.py' lineno=230>,)> size=2304 count=18>,\n",
       " <Statistic traceback=<Traceback (<Frame filename='/usr/lib/python3.7/weakref.py' lineno=394>,)> size=2296 count=41>,\n",
       " <Statistic traceback=<Traceback (<Frame filename='/usr/lib/python3.7/site-packages/zarr/core.py' lineno=1028>,)> size=2272 count=4>,\n",
       " <Statistic traceback=<Traceback (<Frame filename='./binning.py' lineno=29>,)> size=2256 count=12>,\n",
       " <Statistic traceback=<Traceback (<Frame filename='/usr/lib/python3.7/linecache.py' lineno=143>,)> size=2208 count=1>,\n",
       " <Statistic traceback=<Traceback (<Frame filename='/usr/lib/python3.7/site-packages/tornado/stack_context.py' lineno=292>,)> size=2168 count=180>,\n",
       " <Statistic traceback=<Traceback (<Frame filename='/usr/lib/python3.7/asyncio/base_events.py' lineno=711>,)> size=2112 count=4>,\n",
       " <Statistic traceback=<Traceback (<Frame filename='/usr/lib/python3.7/site-packages/tornado/ioloop.py' lineno=620>,)> size=2088 count=25>,\n",
       " <Statistic traceback=<Traceback (<Frame filename='/usr/lib/python3.7/site-packages/distributed/threadpoolexecutor.py' lineno=53>,)> size=2048 count=4>,\n",
       " <Statistic traceback=<Traceback (<Frame filename='/usr/lib/python3.7/site-packages/psutil/__init__.py' lineno=999>,)> size=2040 count=85>,\n",
       " <Statistic traceback=<Traceback (<Frame filename='/usr/lib/python3.7/site-packages/tornado/concurrent.py' lineno=660>,)> size=2000 count=67>,\n",
       " <Statistic traceback=<Traceback (<Frame filename='/usr/lib/python3.7/site-packages/dask/compatibility.py' lineno=107>,)> size=1992 count=7>,\n",
       " <Statistic traceback=<Traceback (<Frame filename='/usr/lib/python3.7/encodings/ascii.py' lineno=20>,)> size=1952 count=6>,\n",
       " <Statistic traceback=<Traceback (<Frame filename='/usr/lib/python3.7/site-packages/distributed/stealing.py' lineno=345>,)> size=1920 count=30>,\n",
       " <Statistic traceback=<Traceback (<Frame filename='/usr/lib/python3.7/site-packages/tornado/ioloop.py' lineno=1251>,)> size=1776 count=74>,\n",
       " <Statistic traceback=<Traceback (<Frame filename='/usr/lib/python3.7/site-packages/distributed/protocol/serialize.py' lineno=324>,)> size=1728 count=32>,\n",
       " <Statistic traceback=<Traceback (<Frame filename='/usr/lib/python3.7/site-packages/distributed/worker.py' lineno=267>,)> size=1680 count=3>,\n",
       " <Statistic traceback=<Traceback (<Frame filename='/usr/lib/python3.7/site-packages/distributed/core.py' lineno=725>,)> size=1680 count=3>,\n",
       " <Statistic traceback=<Traceback (<Frame filename='./binning.py' lineno=12>,)> size=1660 count=14>,\n",
       " <Statistic traceback=<Traceback (<Frame filename='/usr/lib/python3.7/site-packages/tornado/gen.py' lineno=400>,)> size=1656 count=23>,\n",
       " <Statistic traceback=<Traceback (<Frame filename='/usr/lib/python3.7/site-packages/tornado/locks.py' lineno=235>,)> size=1632 count=12>,\n",
       " <Statistic traceback=<Traceback (<Frame filename='/usr/lib/python3.7/threading.py' lineno=885>,)> size=1632 count=3>,\n",
       " <Statistic traceback=<Traceback (<Frame filename='/usr/lib/python3.7/site-packages/distributed/worker.py' lineno=855>,)> size=1536 count=16>,\n",
       " <Statistic traceback=<Traceback (<Frame filename='/usr/lib/python3.7/threading.py' lineno=865>,)> size=1512 count=3>,\n",
       " <Statistic traceback=<Traceback (<Frame filename='/usr/lib/python3.7/site-packages/tornado/ioloop.py' lineno=1206>,)> size=1480 count=5>,\n",
       " <Statistic traceback=<Traceback (<Frame filename='/usr/lib/python3.7/site-packages/distributed/worker.py' lineno=1729>,)> size=1480 count=5>,\n",
       " <Statistic traceback=<Traceback (<Frame filename='/usr/lib/python3.7/site-packages/distributed/worker.py' lineno=656>,)> size=1480 count=5>,\n",
       " <Statistic traceback=<Traceback (<Frame filename='/usr/lib/python3.7/site-packages/zarr/indexing.py' lineno=569>,)> size=1472 count=16>,\n",
       " <Statistic traceback=<Traceback (<Frame filename='./window_utils.py' lineno=150>,)> size=1448 count=2>,\n",
       " <Statistic traceback=<Traceback (<Frame filename='./cov_3X2.py' lineno=105>,)> size=1448 count=2>,\n",
       " <Statistic traceback=<Traceback (<Frame filename='/usr/lib/python3.7/site-packages/tornado/ioloop.py' lineno=1250>,)> size=1440 count=60>,\n",
       " <Statistic traceback=<Traceback (<Frame filename='<frozen importlib._bootstrap_external>' lineno=525>,)> size=1430 count=15>,\n",
       " <Statistic traceback=<Traceback (<Frame filename='/usr/lib/python3.7/encodings/ascii.py' lineno=34>,)> size=1408 count=6>,\n",
       " <Statistic traceback=<Traceback (<Frame filename='/usr/lib/python3.7/encodings/ascii.py' lineno=31>,)> size=1408 count=6>,\n",
       " <Statistic traceback=<Traceback (<Frame filename='/usr/lib/python3.7/encodings/ascii.py' lineno=28>,)> size=1408 count=6>,\n",
       " <Statistic traceback=<Traceback (<Frame filename='/usr/lib/python3.7/site-packages/distributed/comm/core.py' lineno=103>,)> size=1380 count=10>,\n",
       " <Statistic traceback=<Traceback (<Frame filename='/usr/lib/python3.7/encodings/ascii.py' lineno=24>,)> size=1376 count=5>,\n",
       " <Statistic traceback=<Traceback (<Frame filename='/usr/lib/python3.7/encodings/ascii.py' lineno=13>,)> size=1376 count=5>,\n",
       " <Statistic traceback=<Traceback (<Frame filename='/usr/lib/python3.7/site-packages/distributed/core.py' lineno=616>,)> size=1368 count=19>,\n",
       " <Statistic traceback=<Traceback (<Frame filename='/usr/lib/python3.7/site-packages/distributed/comm/inproc.py' lineno=165>,)> size=1360 count=10>,\n",
       " <Statistic traceback=<Traceback (<Frame filename='/usr/lib/python3.7/site-packages/tornado/gen.py' lineno=1078>,)> size=1344 count=28>,\n",
       " <Statistic traceback=<Traceback (<Frame filename='/usr/lib/python3.7/asyncio/selector_events.py' lineno=132>,)> size=1344 count=24>,\n",
       " <Statistic traceback=<Traceback (<Frame filename='/usr/lib/python3.7/site-packages/distributed/scheduler.py' lineno=3742>,)> size=1344 count=16>,\n",
       " <Statistic traceback=<Traceback (<Frame filename='/usr/lib/python3.7/site-packages/distributed/worker.py' lineno=2357>,)> size=1344 count=8>,\n",
       " <Statistic traceback=<Traceback (<Frame filename='/usr/lib/python3.7/site-packages/psutil/__init__.py' lineno=2092>,)> size=1320 count=44>,\n",
       " <Statistic traceback=<Traceback (<Frame filename='/usr/lib/python3.7/site-packages/dask/delayed.py' lineno=95>,)> size=1312 count=20>,\n",
       " <Statistic traceback=<Traceback (<Frame filename='/usr/lib/python3.7/site-packages/zarr/indexing.py' lineno=207>,)> size=1304 count=13>,\n",
       " <Statistic traceback=<Traceback (<Frame filename='/usr/lib/python3.7/site-packages/distributed/threadpoolexecutor.py' lineno=40>,)> size=1296 count=14>,\n",
       " <Statistic traceback=<Traceback (<Frame filename='/usr/lib/python3.7/threading.py' lineno=847>,)> size=1280 count=8>,\n",
       " <Statistic traceback=<Traceback (<Frame filename='/usr/lib/python3.7/site-packages/distributed/worker.py' lineno=629>,)> size=1264 count=4>,\n",
       " <Statistic traceback=<Traceback (<Frame filename='./binning.py' lineno=31>,)> size=1254 count=7>,\n",
       " <Statistic traceback=<Traceback (<Frame filename='/usr/lib/python3.7/site-packages/distributed/scheduler.py' lineno=1208>,)> size=1224 count=17>,\n",
       " <Statistic traceback=<Traceback (<Frame filename='/usr/lib/python3.7/site-packages/numpy/lib/arraysetops.py' lineno=316>,)> size=1208 count=13>,\n",
       " <Statistic traceback=<Traceback (<Frame filename='/usr/lib/python3.7/site-packages/distributed/scheduler.py' lineno=3724>,)> size=1208 count=3>,\n",
       " <Statistic traceback=<Traceback (<Frame filename='/usr/lib/python3.7/asyncio/base_events.py' lineno=674>,)> size=1208 count=3>,\n",
       " <Statistic traceback=<Traceback (<Frame filename='/usr/lib/python3.7/site-packages/psutil/__init__.py' lineno=1030>,)> size=1176 count=49>,\n",
       " <Statistic traceback=<Traceback (<Frame filename='/usr/lib/python3.7/site-packages/distributed/scheduler.py' lineno=1202>,)> size=1176 count=49>,\n",
       " <Statistic traceback=<Traceback (<Frame filename='/usr/lib/python3.7/site-packages/psutil/__init__.py' lineno=1009>,)> size=1152 count=48>,\n",
       " <Statistic traceback=<Traceback (<Frame filename='/usr/lib/python3.7/site-packages/distributed/counter.py' lineno=53>,)> size=1152 count=48>,\n",
       " <Statistic traceback=<Traceback (<Frame filename='/usr/lib/python3.7/site-packages/distributed/worker.py' lineno=767>,)> size=1152 count=6>,\n",
       " <Statistic traceback=<Traceback (<Frame filename='/usr/lib/python3.7/site-packages/distributed/batched.py' lineno=76>,)> size=1120 count=21>,\n",
       " <Statistic traceback=<Traceback (<Frame filename='/usr/lib/python3.7/site-packages/tornado/locks.py' lineno=195>,)> size=1120 count=5>,\n",
       " <Statistic traceback=<Traceback (<Frame filename='/usr/lib/python3.7/site-packages/distributed/core.py' lineno=706>,)> size=1120 count=5>,\n",
       " <Statistic traceback=<Traceback (<Frame filename='/usr/lib/python3.7/site-packages/distributed/core.py' lineno=705>,)> size=1120 count=5>,\n",
       " <Statistic traceback=<Traceback (<Frame filename='/usr/lib/python3.7/site-packages/distributed/utils_comm.py' lineno=63>,)> size=1120 count=2>,\n",
       " <Statistic traceback=<Traceback (<Frame filename='/usr/lib/python3.7/site-packages/distributed/core.py' lineno=553>,)> size=1120 count=2>,\n",
       " <Statistic traceback=<Traceback (<Frame filename='/usr/lib/python3.7/site-packages/astropy/cosmology/core.py' lineno=291>,)> size=1112 count=1>,\n",
       " <Statistic traceback=<Traceback (<Frame filename='/usr/lib/python3.7/site-packages/tornado/gen.py' lineno=868>,)> size=1088 count=17>,\n",
       " <Statistic traceback=<Traceback (<Frame filename='/usr/lib/python3.7/site-packages/distributed/worker.py' lineno=540>,)> size=1072 count=10>,\n",
       " <Statistic traceback=<Traceback (<Frame filename='/usr/lib/python3.7/site-packages/numpy/lib/arraysetops.py' lineno=314>,)> size=1066 count=4>,\n",
       " <Statistic traceback=<Traceback (<Frame filename='/usr/lib/python3.7/asyncio/base_events.py' lineno=1739>,)> size=1056 count=2>,\n",
       " <Statistic traceback=<Traceback (<Frame filename='/usr/lib/python3.7/asyncio/base_events.py' lineno=1667>,)> size=1056 count=2>,\n",
       " <Statistic traceback=<Traceback (<Frame filename='/usr/lib/python3.7/json/decoder.py' lineno=353>,)> size=1040 count=24>,\n",
       " <Statistic traceback=<Traceback (<Frame filename='/usr/lib/python3.7/site-packages/zarr/indexing.py' lineno=370>,)> size=1029 count=2>,\n",
       " <Statistic traceback=<Traceback (<Frame filename='/usr/lib/python3.7/site-packages/distributed/worker.py' lineno=765>,)> size=1024 count=14>,\n",
       " <Statistic traceback=<Traceback (<Frame filename='/usr/lib/python3.7/site-packages/distributed/utils_comm.py' lineno=181>,)> size=1008 count=2>,\n",
       " <Statistic traceback=<Traceback (<Frame filename='/usr/lib/python3.7/site-packages/scipy/interpolate/interpolate.py' lineno=689>,)> size=1000 count=1>,\n",
       " <Statistic traceback=<Traceback (<Frame filename='/usr/lib/python3.7/site-packages/scipy/interpolate/interpolate.py' lineno=688>,)> size=1000 count=1>,\n",
       " <Statistic traceback=<Traceback (<Frame filename='/usr/lib/python3.7/tokenize.py' lineno=447>,)> size=968 count=9>,\n",
       " <Statistic traceback=<Traceback (<Frame filename='/usr/lib/python3.7/threading.py' lineno=500>,)> size=960 count=20>,\n",
       " <Statistic traceback=<Traceback (<Frame filename='/usr/lib/python3.7/site-packages/tornado/gen.py' lineno=864>,)> size=960 count=15>,\n",
       " <Statistic traceback=<Traceback (<Frame filename='/usr/lib/python3.7/asyncio/base_events.py' lineno=708>,)> size=960 count=12>,\n",
       " <Statistic traceback=<Traceback (<Frame filename='/usr/lib/python3.7/threading.py' lineno=784>,)> size=960 count=8>,\n",
       " <Statistic traceback=<Traceback (<Frame filename='/usr/lib/python3.7/threading.py' lineno=783>,)> size=960 count=8>,\n",
       " <Statistic traceback=<Traceback (<Frame filename='/usr/lib/python3.7/threading.py' lineno=219>,)> size=960 count=8>,\n",
       " <Statistic traceback=<Traceback (<Frame filename='/usr/lib/python3.7/site-packages/heapdict.py' lineno=58>,)> size=944 count=2>,\n",
       " <Statistic traceback=<Traceback (<Frame filename='/usr/lib/python3.7/abc.py' lineno=139>,)> size=936 count=16>,\n",
       " <Statistic traceback=<Traceback (<Frame filename='/usr/lib/python3.7/site-packages/distributed/utils.py' lineno=809>,)> size=936 count=14>,\n",
       " <Statistic traceback=<Traceback (<Frame filename='<ipython-input-30-8100a081a779>' lineno=14>,)> size=936 count=2>,\n",
       " <Statistic traceback=<Traceback (<Frame filename='/usr/lib/python3.7/asyncio/base_events.py' lineno=656>,)> size=920 count=22>,\n",
       " <Statistic traceback=<Traceback (<Frame filename='/usr/lib/python3.7/site-packages/distributed/core.py' lineno=295>,)> size=896 count=8>,\n",
       " <Statistic traceback=<Traceback (<Frame filename='/usr/lib/python3.7/site-packages/distributed/worker.py' lineno=1350>,)> size=896 count=4>,\n",
       " <Statistic traceback=<Traceback (<Frame filename='/usr/lib/python3.7/site-packages/distributed/worker.py' lineno=1834>,)> size=888 count=3>,\n",
       " <Statistic traceback=<Traceback (<Frame filename='/usr/lib/python3.7/site-packages/dask/delayed.py' lineno=589>,)> size=880 count=11>,\n",
       " <Statistic traceback=<Traceback (<Frame filename='/usr/lib/python3.7/weakref.py' lineno=533>,)> size=880 count=10>,\n",
       " <Statistic traceback=<Traceback (<Frame filename='/usr/lib/python3.7/uuid.py' lineno=267>,)> size=880 count=10>,\n",
       " <Statistic traceback=<Traceback (<Frame filename='/usr/lib/python3.7/site-packages/numpy/core/fromnumeric.py' lineno=56>,)> size=875 count=15>,\n",
       " <Statistic traceback=<Traceback (<Frame filename='/usr/lib/python3.7/site-packages/zarr/indexing.py' lineno=824>,)> size=872 count=7>,\n",
       " <Statistic traceback=<Traceback (<Frame filename='/usr/lib/python3.7/site-packages/zarr/indexing.py' lineno=559>,)> size=872 count=7>,\n",
       " <Statistic traceback=<Traceback (<Frame filename='/usr/lib/python3.7/site-packages/dask/highlevelgraph.py' lineno=124>,)> size=872 count=2>,\n",
       " <Statistic traceback=<Traceback (<Frame filename='/usr/lib/python3.7/site-packages/dask/highlevelgraph.py' lineno=123>,)> size=872 count=2>,\n",
       " <Statistic traceback=<Traceback (<Frame filename='/usr/lib/python3.7/site-packages/distributed/counter.py' lineno=63>,)> size=864 count=8>,\n",
       " <Statistic traceback=<Traceback (<Frame filename='/usr/lib/python3.7/site-packages/zarr/indexing.py' lineno=259>,)> size=856 count=2>,\n",
       " <Statistic traceback=<Traceback (<Frame filename='/usr/lib/python3.7/site-packages/zarr/indexing.py' lineno=253>,)> size=856 count=2>,\n",
       " <Statistic traceback=<Traceback (<Frame filename='/usr/lib/python3.7/site-packages/distributed/utils_comm.py' lineno=182>,)> size=832 count=13>,\n",
       " <Statistic traceback=<Traceback (<Frame filename='/usr/lib/python3.7/site-packages/numpy/core/numeric.py' lineno=591>,)> size=816 count=6>,\n",
       " <Statistic traceback=<Traceback (<Frame filename='/usr/lib/python3.7/site-packages/distributed/scheduler.py' lineno=3313>,)> size=816 count=6>,\n",
       " <Statistic traceback=<Traceback (<Frame filename='/usr/lib/python3.7/site-packages/distributed/scheduler.py' lineno=3059>,)> size=816 count=6>,\n",
       " <Statistic traceback=<Traceback (<Frame filename='/usr/lib/python3.7/site-packages/zarr/core.py' lineno=1735>,)> size=816 count=2>,\n",
       " <Statistic traceback=<Traceback (<Frame filename='/usr/lib/python3.7/weakref.py' lineno=534>,)> size=800 count=10>,\n",
       " <Statistic traceback=<Traceback (<Frame filename='/usr/lib/python3.7/site-packages/distributed/comm/inproc.py' lineno=151>,)> size=800 count=10>,\n",
       " <Statistic traceback=<Traceback (<Frame filename='/usr/lib/python3.7/site-packages/distributed/core.py' lineno=277>,)> size=768 count=16>,\n",
       " <Statistic traceback=<Traceback (<Frame filename='/usr/lib/python3.7/site-packages/tornado/gen.py' lineno=978>,)> size=744 count=8>,\n",
       " <Statistic traceback=<Traceback (<Frame filename='/usr/lib/python3.7/site-packages/zarr/core.py' lineno=159>,)> size=744 count=2>,\n",
       " <Statistic traceback=<Traceback (<Frame filename='/usr/lib/python3.7/site-packages/zarr/meta.py' lineno=55>,)> size=736 count=4>,\n",
       " <Statistic traceback=<Traceback (<Frame filename='/usr/lib/python3.7/site-packages/distributed/worker.py' lineno=1482>,)> size=720 count=10>,\n",
       " <Statistic traceback=<Traceback (<Frame filename='/usr/lib/python3.7/site-packages/astropy/units/core.py' lineno=2050>,)> size=720 count=10>,\n",
       " <Statistic traceback=<Traceback (<Frame filename='/usr/lib/python3.7/tokenize.py' lineno=451>,)> size=720 count=6>,\n",
       " <Statistic traceback=<Traceback (<Frame filename='/usr/lib/python3.7/threading.py' lineno=218>,)> size=720 count=6>,\n",
       " <Statistic traceback=<Traceback (<Frame filename='./window_utils.py' lineno=161>,)> size=712 count=1>,\n",
       " <Statistic traceback=<Traceback (<Frame filename='/usr/lib/python3.7/site-packages/numpy/core/fromnumeric.py' lineno=70>,)> size=696 count=7>,\n",
       " <Statistic traceback=<Traceback (<Frame filename='./window_utils.py' lineno=51>,)> size=680 count=1>,\n",
       " <Statistic traceback=<Traceback (<Frame filename='./binning.py' lineno=47>,)> size=680 count=1>,\n",
       " <Statistic traceback=<Traceback (<Frame filename='/usr/lib/python3.7/site-packages/psutil/_common.py' lineno=548>,)> size=672 count=6>,\n",
       " <Statistic traceback=<Traceback (<Frame filename='/usr/lib/python3.7/site-packages/zarr/convenience.py' lineno=88>,)> size=656 count=1>,\n",
       " <Statistic traceback=<Traceback (<Frame filename='/usr/lib/python3.7/site-packages/distributed/scheduler.py' lineno=1186>,)> size=648 count=9>,\n",
       " <Statistic traceback=<Traceback (<Frame filename='./window_utils.py' lineno=96>,)> size=648 count=5>,\n",
       " <Statistic traceback=<Traceback (<Frame filename='/usr/lib/python3.7/site-packages/distributed/scheduler.py' lineno=502>,)> size=632 count=7>,\n",
       " <Statistic traceback=<Traceback (<Frame filename='/usr/lib/python3.7/site-packages/zarr/creation.py' lineno=487>,)> size=632 count=3>,\n",
       " <Statistic traceback=<Traceback (<Frame filename='/usr/lib/python3.7/site-packages/tornado/ioloop.py' lineno=1238>,)> size=624 count=6>,\n",
       " <Statistic traceback=<Traceback (<Frame filename='/usr/lib/python3.7/site-packages/dask/highlevelgraph.py' lineno=135>,)> size=616 count=11>,\n",
       " <Statistic traceback=<Traceback (<Frame filename='./cov_3X2.py' lineno=216>,)> size=616 count=1>,\n",
       " <Statistic traceback=<Traceback (<Frame filename='/usr/lib/python3.7/threading.py' lineno=899>,)> size=608 count=12>,\n",
       " <Statistic traceback=<Traceback (<Frame filename='/usr/lib/python3.7/inspect.py' lineno=2217>,)> size=608 count=1>,\n",
       " <Statistic traceback=<Traceback (<Frame filename='/usr/lib/python3.7/queue.py' lineno=151>,)> size=600 count=2>,\n",
       " <Statistic traceback=<Traceback (<Frame filename='/usr/lib/python3.7/types.py' lineno=277>,)> size=592 count=8>,\n",
       " <Statistic traceback=<Traceback (<Frame filename='/usr/lib/python3.7/site-packages/toolz/itertoolz.py' lineno=927>,)> size=584 count=1>,\n",
       " <Statistic traceback=<Traceback (<Frame filename='/usr/lib/python3.7/site-packages/tornado/locks.py' lineno=239>,)> size=576 count=12>,\n",
       " <Statistic traceback=<Traceback (<Frame filename='/usr/lib/python3.7/threading.py' lineno=844>,)> size=576 count=8>,\n",
       " <Statistic traceback=<Traceback (<Frame filename='/usr/lib/python3.7/site-packages/sparse/sparse_array.py' lineno=35>,)> size=576 count=8>,\n",
       " <Statistic traceback=<Traceback (<Frame filename='./window_utils.py' lineno=44>,)> size=576 count=1>,\n",
       " <Statistic traceback=<Traceback (<Frame filename='/usr/lib/python3.7/site-packages/distributed/worker.py' lineno=2195>,)> size=560 count=1>,\n",
       " <Statistic traceback=<Traceback (<Frame filename='/usr/lib/python3.7/site-packages/distributed/comm/core.py' lineno=183>,)> size=560 count=1>,\n",
       " <Statistic traceback=<Traceback (<Frame filename='/usr/lib/python3.7/site-packages/distributed/client.py' lineno=1416>,)> size=560 count=1>,\n",
       " <Statistic traceback=<Traceback (<Frame filename='/usr/lib/python3.7/site-packages/distributed/client.py' lineno=201>,)> size=560 count=1>,\n",
       " <Statistic traceback=<Traceback (<Frame filename='/usr/lib/python3.7/site-packages/psutil/_pslinux.py' lineno=1697>,)> size=552 count=23>,\n",
       " <Statistic traceback=<Traceback (<Frame filename='/usr/lib/python3.7/site-packages/distributed/scheduler.py' lineno=3341>,)> size=544 count=4>,\n",
       " <Statistic traceback=<Traceback (<Frame filename='/usr/lib/python3.7/threading.py' lineno=552>,)> size=544 count=1>,\n",
       " <Statistic traceback=<Traceback (<Frame filename='/usr/lib/python3.7/site-packages/zarr/core.py' lineno=851>,)> size=536 count=1>,\n",
       " <Statistic traceback=<Traceback (<Frame filename='/usr/lib/python3.7/site-packages/distributed/worker.py' lineno=594>,)> size=536 count=1>,\n",
       " <Statistic traceback=<Traceback (<Frame filename='/usr/lib/python3.7/site-packages/distributed/core.py' lineno=360>,)> size=528 count=11>,\n",
       " <Statistic traceback=<Traceback (<Frame filename='/usr/lib/python3.7/site-packages/scipy/interpolate/interpolate.py' lineno=610>,)> size=528 count=3>,\n",
       " <Statistic traceback=<Traceback (<Frame filename='/usr/lib/python3.7/site-packages/zarr/indexing.py' lineno=369>,)> size=528 count=1>,\n",
       " <Statistic traceback=<Traceback (<Frame filename='/usr/lib/python3.7/asyncio/base_events.py' lineno=1750>,)> size=528 count=1>,\n",
       " <Statistic traceback=<Traceback (<Frame filename='/usr/lib/python3.7/site-packages/distributed/worker.py' lineno=2351>,)> size=520 count=2>,\n",
       " <Statistic traceback=<Traceback (<Frame filename='/usr/lib/python3.7/site-packages/zarr/core.py' lineno=156>,)> size=520 count=1>,\n",
       " <Statistic traceback=<Traceback (<Frame filename='/usr/lib/python3.7/site-packages/dask/highlevelgraph.py' lineno=73>,)> size=512 count=12>,\n",
       " <Statistic traceback=<Traceback (<Frame filename='/usr/lib/python3.7/site-packages/zarr/core.py' lineno=846>,)> size=512 count=1>,\n",
       " <Statistic traceback=<Traceback (<Frame filename='/usr/lib/python3.7/site-packages/distributed/stealing.py' lineno=96>,)> size=512 count=1>,\n",
       " <Statistic traceback=<Traceback (<Frame filename='/usr/lib/python3.7/site-packages/distributed/scheduler.py' lineno=3008>,)> size=512 count=1>,\n",
       " <Statistic traceback=<Traceback (<Frame filename='/usr/lib/python3.7/multiprocessing/process.py' lineno=223>,)> size=512 count=1>,\n",
       " <Statistic traceback=<Traceback (<Frame filename='/usr/lib/python3.7/site-packages/zarr/core.py' lineno=849>,)> size=504 count=1>,\n",
       " <Statistic traceback=<Traceback (<Frame filename='/usr/lib/python3.7/site-packages/zarr/core.py' lineno=141>,)> size=504 count=1>,\n",
       " <Statistic traceback=<Traceback (<Frame filename='/usr/lib/python3.7/site-packages/zarr/indexing.py' lineno=423>,)> size=496 count=4>,\n",
       " <Statistic traceback=<Traceback (<Frame filename='/usr/lib/python3.7/site-packages/zmq/eventloop/zmqstream.py' lineno=432>,)> size=496 count=1>,\n",
       " <Statistic traceback=<Traceback (<Frame filename='/usr/lib/python3.7/site-packages/zarr/indexing.py' lineno=544>,)> size=496 count=1>,\n",
       " <Statistic traceback=<Traceback (<Frame filename='/usr/lib/python3.7/site-packages/astropy/units/core.py' lineno=1985>,)> size=488 count=9>,\n",
       " <Statistic traceback=<Traceback (<Frame filename='/usr/lib/python3.7/site-packages/zarr/indexing.py' lineno=527>,)> size=488 count=1>,\n",
       " <Statistic traceback=<Traceback (<Frame filename='/usr/lib/python3.7/site-packages/zarr/indexing.py' lineno=491>,)> size=488 count=1>,\n",
       " <Statistic traceback=<Traceback (<Frame filename='/usr/lib/python3.7/site-packages/distributed/scheduler.py' lineno=3081>,)> size=480 count=10>,\n",
       " <Statistic traceback=<Traceback (<Frame filename='/usr/lib/python3.7/site-packages/zarr/indexing.py' lineno=449>,)> size=480 count=1>,\n",
       " <Statistic traceback=<Traceback (<Frame filename='/usr/lib/python3.7/site-packages/zarr/core.py' lineno=124>,)> size=480 count=1>,\n",
       " <Statistic traceback=<Traceback (<Frame filename='/usr/lib/python3.7/site-packages/distributed/worker.py' lineno=817>,)> size=480 count=1>,\n",
       " <Statistic traceback=<Traceback (<Frame filename='/usr/lib/python3.7/site-packages/dask/delayed.py' lineno=102>,)> size=480 count=1>,\n",
       " <Statistic traceback=<Traceback (<Frame filename='/usr/lib/python3.7/site-packages/astropy/units/core.py' lineno=1915>,)> size=480 count=1>,\n",
       " <Statistic traceback=<Traceback (<Frame filename='/usr/lib/python3.7/site-packages/zarr/meta.py' lineno=46>,)> size=472 count=1>,\n",
       " <Statistic traceback=<Traceback (<Frame filename='/usr/lib/python3.7/site-packages/zarr/indexing.py' lineno=601>,)> size=472 count=1>,\n",
       " <Statistic traceback=<Traceback (<Frame filename='/usr/lib/python3.7/site-packages/zarr/indexing.py' lineno=427>,)> size=472 count=1>,\n",
       " <Statistic traceback=<Traceback (<Frame filename='/usr/lib/python3.7/site-packages/zarr/core.py' lineno=1024>,)> size=472 count=1>,\n",
       " <Statistic traceback=<Traceback (<Frame filename='/usr/lib/python3.7/site-packages/zarr/indexing.py' lineno=589>,)> size=464 count=1>,\n",
       " <Statistic traceback=<Traceback (<Frame filename='/usr/lib/python3.7/site-packages/zarr/indexing.py' lineno=470>,)> size=464 count=1>,\n",
       " <Statistic traceback=<Traceback (<Frame filename='/usr/lib/python3.7/site-packages/distributed/protocol/serialize.py' lineno=328>,)> size=464 count=1>,\n",
       " <Statistic traceback=<Traceback (<Frame filename='/usr/lib/python3.7/encodings/__init__.py' lineno=122>,)> size=464 count=1>,\n",
       " <Statistic traceback=<Traceback (<Frame filename='/usr/lib/python3.7/threading.py' lineno=917>,)> size=456 count=1>,\n",
       " <Statistic traceback=<Traceback (<Frame filename='/usr/lib/python3.7/site-packages/zarr/indexing.py' lineno=563>,)> size=456 count=1>,\n",
       " <Statistic traceback=<Traceback (<Frame filename='/usr/lib/python3.7/site-packages/zarr/indexing.py' lineno=488>,)> size=456 count=1>,\n",
       " <Statistic traceback=<Traceback (<Frame filename='/usr/lib/python3.7/site-packages/zarr/core.py' lineno=1576>,)> size=456 count=1>,\n",
       " <Statistic traceback=<Traceback (<Frame filename='/usr/lib/python3.7/site-packages/distributed/profile.py' lineno=97>,)> size=456 count=1>,\n",
       " <Statistic traceback=<Traceback (<Frame filename='./binning.py' lineno=25>,)> size=456 count=1>,\n",
       " <Statistic traceback=<Traceback (<Frame filename='/usr/lib/python3.7/site-packages/tornado/gen.py' lineno=1133>,)> size=448 count=7>,\n",
       " <Statistic traceback=<Traceback (<Frame filename='/usr/lib/python3.7/site-packages/psutil/_pslinux.py' lineno=1015>,)> size=448 count=4>,\n",
       " <Statistic traceback=<Traceback (<Frame filename='<unknown>' lineno=0>,)> size=448 count=1>,\n",
       " <Statistic traceback=<Traceback (<Frame filename='/usr/lib/python3.7/site-packages/zarr/util.py' lineno=203>,)> size=448 count=1>,\n",
       " <Statistic traceback=<Traceback (<Frame filename='/usr/lib/python3.7/site-packages/zarr/indexing.py' lineno=822>,)> size=448 count=1>,\n",
       " <Statistic traceback=<Traceback (<Frame filename='/usr/lib/python3.7/site-packages/zarr/indexing.py' lineno=417>,)> size=448 count=1>,\n",
       " <Statistic traceback=<Traceback (<Frame filename='/usr/lib/python3.7/site-packages/zarr/indexing.py' lineno=371>,)> size=448 count=1>,\n",
       " <Statistic traceback=<Traceback (<Frame filename='/usr/lib/python3.7/site-packages/zarr/core.py' lineno=1596>,)> size=448 count=1>,\n",
       " <Statistic traceback=<Traceback (<Frame filename='/usr/lib/python3.7/site-packages/heapdict.py' lineno=78>,)> size=448 count=1>,\n",
       " <Statistic traceback=<Traceback (<Frame filename='/usr/lib/python3.7/site-packages/distributed/profile.py' lineno=91>,)> size=448 count=1>,\n",
       " <Statistic traceback=<Traceback (<Frame filename='/usr/lib/python3.7/site-packages/zarr/indexing.py' lineno=583>,)> size=440 count=1>,\n",
       " <Statistic traceback=<Traceback (<Frame filename='/usr/lib/python3.7/site-packages/zarr/indexing.py' lineno=543>,)> size=440 count=1>,\n",
       " <Statistic traceback=<Traceback (<Frame filename='/usr/lib/python3.7/site-packages/zarr/indexing.py' lineno=412>,)> size=440 count=1>,\n",
       " <Statistic traceback=<Traceback (<Frame filename='/usr/lib/python3.7/site-packages/zarr/indexing.py' lineno=408>,)> size=440 count=1>,\n",
       " <Statistic traceback=<Traceback (<Frame filename='/usr/lib/python3.7/site-packages/zarr/core.py' lineno=1573>,)> size=440 count=1>,\n",
       " <Statistic traceback=<Traceback (<Frame filename='/usr/lib/python3.7/threading.py' lineno=289>,)> size=432 count=12>,\n",
       " <Statistic traceback=<Traceback (<Frame filename='/usr/lib/python3.7/threading.py' lineno=222>,)> size=432 count=6>,\n",
       " <Statistic traceback=<Traceback (<Frame filename='/usr/lib/python3.7/site-packages/zarr/indexing.py' lineno=199>,)> size=432 count=1>,\n",
       " <Statistic traceback=<Traceback (<Frame filename='/usr/lib/python3.7/site-packages/zarr/indexing.py' lineno=171>,)> size=432 count=1>,\n",
       " <Statistic traceback=<Traceback (<Frame filename='./cov_3X2.py' lineno=76>,)> size=432 count=1>,\n",
       " <Statistic traceback=<Traceback (<Frame filename='/usr/lib/python3.7/site-packages/zarr/indexing.py' lineno=600>,)> size=424 count=1>,\n",
       " <Statistic traceback=<Traceback (<Frame filename='/usr/lib/python3.7/site-packages/zarr/indexing.py' lineno=599>,)> size=424 count=1>,\n",
       " <Statistic traceback=<Traceback (<Frame filename='/usr/lib/python3.7/site-packages/zarr/indexing.py' lineno=561>,)> size=424 count=1>,\n",
       " <Statistic traceback=<Traceback (<Frame filename='/usr/lib/python3.7/site-packages/zarr/indexing.py' lineno=537>,)> size=424 count=1>,\n",
       " <Statistic traceback=<Traceback (<Frame filename='/usr/lib/python3.7/site-packages/zarr/indexing.py' lineno=246>,)> size=424 count=1>,\n",
       " <Statistic traceback=<Traceback (<Frame filename='/usr/lib/python3.7/site-packages/zarr/core.py' lineno=1595>,)> size=424 count=1>,\n",
       " <Statistic traceback=<Traceback (<Frame filename='/usr/lib/python3.7/site-packages/distributed/utils.py' lineno=528>,)> size=416 count=6>,\n",
       " <Statistic traceback=<Traceback (<Frame filename='/usr/lib/python3.7/threading.py' lineno=238>,)> size=416 count=4>,\n",
       " <Statistic traceback=<Traceback (<Frame filename='/usr/lib/python3.7/site-packages/zarr/core.py' lineno=1580>,)> size=416 count=1>,\n",
       " <Statistic traceback=<Traceback (<Frame filename='/usr/lib/python3.7/site-packages/distributed/comm/inproc.py' lineno=306>,)> size=410 count=5>,\n",
       " <Statistic traceback=<Traceback (<Frame filename='/usr/lib/python3.7/site-packages/distributed/comm/inproc.py' lineno=305>,)> size=410 count=5>,\n",
       " <Statistic traceback=<Traceback (<Frame filename='/usr/lib/python3.7/site-packages/distributed/comm/inproc.py' lineno=252>,)> size=410 count=5>,\n",
       " <Statistic traceback=<Traceback (<Frame filename='/usr/lib/python3.7/site-packages/distributed/comm/inproc.py' lineno=251>,)> size=410 count=5>,\n",
       " <Statistic traceback=<Traceback (<Frame filename='/usr/lib/python3.7/site-packages/distributed/_concurrent_futures_thread.py' lineno=128>,)> size=400 count=5>,\n",
       " <Statistic traceback=<Traceback (<Frame filename='/usr/lib/python3.7/site-packages/distributed/stealing.py' lineno=283>,)> size=392 count=5>,\n",
       " <Statistic traceback=<Traceback (<Frame filename='/usr/lib/python3.7/site-packages/numpy/core/numeric.py' lineno=538>,)> size=384 count=4>,\n",
       " <Statistic traceback=<Traceback (<Frame filename='/usr/lib/python3.7/site-packages/zarr/attrs.py' lineno=38>,)> size=376 count=2>,\n",
       " <Statistic traceback=<Traceback (<Frame filename='/usr/lib/python3.7/site-packages/distributed/threadpoolexecutor.py' lineno=83>,)> size=368 count=6>,\n",
       " <Statistic traceback=<Traceback (<Frame filename='/usr/lib/python3.7/site-packages/distributed/comm/inproc.py' lineno=59>,)> size=365 count=5>,\n",
       " <Statistic traceback=<Traceback (<Frame filename='/usr/lib/python3.7/threading.py' lineno=244>,)> size=360 count=5>,\n",
       " <Statistic traceback=<Traceback (<Frame filename='/usr/lib/python3.7/threading.py' lineno=235>,)> size=360 count=5>,\n",
       " <Statistic traceback=<Traceback (<Frame filename='/usr/lib/python3.7/site-packages/zarr/indexing.py' lineno=443>,)> size=352 count=4>,\n",
       " <Statistic traceback=<Traceback (<Frame filename='/usr/lib/python3.7/site-packages/ipykernel/iostream.py' lineno=400>,)> size=336 count=3>,\n",
       " <Statistic traceback=<Traceback (<Frame filename='/usr/lib/python3.7/site-packages/astropy/units/quantity.py' lineno=765>,)> size=336 count=3>,\n",
       " <Statistic traceback=<Traceback (<Frame filename='/usr/lib/python3.7/site-packages/astropy/units/quantity.py' lineno=385>,)> size=336 count=3>,\n",
       " <Statistic traceback=<Traceback (<Frame filename='/usr/lib/python3.7/site-packages/tornado/platform/asyncio.py' lineno=153>,)> size=320 count=5>,\n",
       " <Statistic traceback=<Traceback (<Frame filename='/usr/lib/python3.7/asyncio/events.py' lineno=111>,)> size=320 count=5>,\n",
       " <Statistic traceback=<Traceback (<Frame filename='/usr/lib/python3.7/_weakrefset.py' lineno=84>,)> size=320 count=4>,\n",
       " <Statistic traceback=<Traceback (<Frame filename='/usr/lib/python3.7/genericpath.py' lineno=30>,)> size=312 count=13>,\n",
       " <Statistic traceback=<Traceback (<Frame filename='/usr/lib/python3.7/site-packages/tornado/concurrent.py' lineno=627>,)> size=312 count=3>,\n",
       " <Statistic traceback=<Traceback (<Frame filename='/usr/lib/python3.7/site-packages/numcodecs/compat.py' lineno=83>,)> size=312 count=3>,\n",
       " <Statistic traceback=<Traceback (<Frame filename='/usr/lib/python3.7/site-packages/distributed/worker.py' lineno=1352>,)> size=312 count=3>,\n",
       " <Statistic traceback=<Traceback (<Frame filename='/usr/lib/python3.7/site-packages/distributed/comm/inproc.py' lineno=116>,)> size=312 count=3>,\n",
       " <Statistic traceback=<Traceback (<Frame filename='/usr/lib/python3.7/site-packages/distributed/comm/inproc.py' lineno=159>,)> size=304 count=12>,\n",
       " <Statistic traceback=<Traceback (<Frame filename='/usr/lib/python3.7/linecache.py' lineno=95>,)> size=304 count=11>,\n",
       " <Statistic traceback=<Traceback (<Frame filename='/usr/lib/python3.7/site-packages/distributed/threadpoolexecutor.py' lineno=82>,)> size=304 count=4>,\n",
       " <Statistic traceback=<Traceback (<Frame filename='./cov_3X2.py' lineno=146>,)> size=304 count=2>,\n",
       " <Statistic traceback=<Traceback (<Frame filename='/usr/lib/python3.7/site-packages/zarr/storage.py' lineno=724>,)> size=296 count=4>,\n",
       " <Statistic traceback=<Traceback (<Frame filename='/usr/lib/python3.7/site-packages/zarr/indexing.py' lineno=431>,)> size=296 count=1>,\n",
       " <Statistic traceback=<Traceback (<Frame filename='/usr/lib/python3.7/site-packages/heapdict.py' lineno=41>,)> size=296 count=1>,\n",
       " <Statistic traceback=<Traceback (<Frame filename='/usr/lib/python3.7/site-packages/distributed/stealing.py' lineno=98>,)> size=296 count=1>,\n",
       " <Statistic traceback=<Traceback (<Frame filename='/usr/lib/python3.7/site-packages/distributed/scheduler.py' lineno=3296>,)> size=296 count=1>,\n",
       " <Statistic traceback=<Traceback (<Frame filename='./window_utils.py' lineno=485>,)> size=296 count=1>,\n",
       " <Statistic traceback=<Traceback (<Frame filename='/usr/lib/python3.7/site-packages/distributed/worker.py' lineno=1842>,)> size=288 count=6>,\n",
       " <Statistic traceback=<Traceback (<Frame filename='/usr/lib/python3.7/threading.py' lineno=231>,)> size=288 count=4>,\n",
       " <Statistic traceback=<Traceback (<Frame filename='/usr/lib/python3.7/threading.py' lineno=227>,)> size=288 count=4>,\n",
       " <Statistic traceback=<Traceback (<Frame filename='/usr/lib/python3.7/site-packages/zarr/storage.py' lineno=725>,)> size=288 count=4>,\n",
       " <Statistic traceback=<Traceback (<Frame filename='/usr/lib/python3.7/site-packages/distributed/worker.py' lineno=2188>,)> size=288 count=4>,\n",
       " <Statistic traceback=<Traceback (<Frame filename='/usr/lib/python3.7/codecs.py' lineno=268>,)> size=288 count=4>,\n",
       " <Statistic traceback=<Traceback (<Frame filename='/usr/lib/python3.7/site-packages/astropy/units/quantity.py' lineno=789>,)> size=280 count=7>,\n",
       " <Statistic traceback=<Traceback (<Frame filename='/usr/lib/python3.7/site-packages/psutil/_pslinux.py' lineno=1510>,)> size=280 count=5>,\n",
       " <Statistic traceback=<Traceback (<Frame filename='/usr/lib/python3.7/site-packages/distributed/utils.py' lineno=1286>,)> size=280 count=5>,\n",
       " <Statistic traceback=<Traceback (<Frame filename='/usr/lib/python3.7/site-packages/distributed/comm/inproc.py' lineno=310>,)> size=280 count=5>,\n",
       " <Statistic traceback=<Traceback (<Frame filename='/usr/lib/python3.7/site-packages/distributed/comm/inproc.py' lineno=297>,)> size=280 count=5>,\n",
       " <Statistic traceback=<Traceback (<Frame filename='/usr/lib/python3.7/site-packages/distributed/comm/inproc.py' lineno=294>,)> size=280 count=5>,\n",
       " <Statistic traceback=<Traceback (<Frame filename='/usr/lib/python3.7/site-packages/distributed/comm/inproc.py' lineno=293>,)> size=280 count=5>,\n",
       " <Statistic traceback=<Traceback (<Frame filename='/usr/lib/python3.7/site-packages/distributed/comm/inproc.py' lineno=256>,)> size=280 count=5>,\n",
       " <Statistic traceback=<Traceback (<Frame filename='/usr/lib/python3.7/site-packages/astropy/units/core.py' lineno=2092>,)> size=272 count=4>,\n",
       " <Statistic traceback=<Traceback (<Frame filename='/usr/lib/python3.7/site-packages/tornado/locks.py' lineno=243>,)> size=272 count=2>,\n",
       " <Statistic traceback=<Traceback (<Frame filename='/usr/lib/python3.7/site-packages/tornado/gen.py' lineno=988>,)> size=272 count=2>,\n",
       " <Statistic traceback=<Traceback (<Frame filename='/usr/lib/python3.7/site-packages/tornado/gen.py' lineno=976>,)> size=272 count=2>,\n",
       " <Statistic traceback=<Traceback (<Frame filename='/usr/lib/python3.7/site-packages/tornado/gen.py' lineno=968>,)> size=272 count=2>,\n",
       " <Statistic traceback=<Traceback (<Frame filename='/usr/lib/python3.7/site-packages/tornado/concurrent.py' lineno=599>,)> size=272 count=2>,\n",
       " <Statistic traceback=<Traceback (<Frame filename='/usr/lib/python3.7/site-packages/tornado/platform/asyncio.py' lineno=144>,)> size=264 count=11>,\n",
       " <Statistic traceback=<Traceback (<Frame filename='/usr/lib/python3.7/site-packages/numcodecs/abc.py' lineno=111>,)> size=264 count=6>,\n",
       " <Statistic traceback=<Traceback (<Frame filename='/usr/lib/python3.7/site-packages/scipy/interpolate/interpolate.py' lineno=605>,)> size=264 count=2>,\n",
       " <Statistic traceback=<Traceback (<Frame filename='/usr/lib/python3.7/site-packages/scipy/interpolate/interpolate.py' lineno=604>,)> size=264 count=2>,\n",
       " <Statistic traceback=<Traceback (<Frame filename='/usr/lib/python3.7/site-packages/scipy/interpolate/interpolate.py' lineno=597>,)> size=264 count=2>,\n",
       " <Statistic traceback=<Traceback (<Frame filename='/usr/lib/python3.7/site-packages/distributed/protocol/pickle.py' lineno=59>,)> size=257 count=5>,\n",
       " <Statistic traceback=<Traceback (<Frame filename='/usr/lib/python3.7/site-packages/distributed/worker.py' lineno=2205>,)> size=256 count=4>,\n",
       " <Statistic traceback=<Traceback (<Frame filename='/usr/lib/python3.7/site-packages/distributed/worker.py' lineno=588>,)> size=256 count=4>,\n",
       " <Statistic traceback=<Traceback (<Frame filename='/usr/lib/python3.7/site-packages/dask/highlevelgraph.py' lineno=126>,)> size=256 count=1>,\n",
       " <Statistic traceback=<Traceback (<Frame filename='/usr/lib/python3.7/site-packages/scipy/interpolate/interpolate.py' lineno=606>,)> size=248 count=1>,\n",
       " <Statistic traceback=<Traceback (<Frame filename='/usr/lib/python3.7/site-packages/distributed/comm/inproc.py' lineno=259>,)> size=240 count=5>,\n",
       " <Statistic traceback=<Traceback (<Frame filename='/usr/lib/python3.7/site-packages/astropy/units/quantity.py' lineno=761>,)> size=240 count=3>,\n",
       " <Statistic traceback=<Traceback (<Frame filename='/usr/lib/python3.7/posixpath.py' lineno=372>,)> size=239 count=2>,\n",
       " <Statistic traceback=<Traceback (<Frame filename='/usr/lib/python3.7/site-packages/zarr/indexing.py' lineno=468>,)> size=236 count=10>,\n",
       " <Statistic traceback=<Traceback (<Frame filename='/usr/lib/python3.7/site-packages/psutil/_pslinux.py' lineno=1012>,)> size=236 count=8>,\n",
       " <Statistic traceback=<Traceback (<Frame filename='/usr/lib/python3.7/site-packages/psutil/_common.py' lineno=600>,)> size=235 count=2>,\n",
       " <Statistic traceback=<Traceback (<Frame filename='/usr/lib/python3.7/site-packages/sparse/coo/core.py' lineno=351>,)> size=224 count=8>,\n",
       " <Statistic traceback=<Traceback (<Frame filename='/usr/lib/python3.7/site-packages/distributed/batched.py' lineno=120>,)> size=224 count=7>,\n",
       " <Statistic traceback=<Traceback (<Frame filename='/usr/lib/python3.7/site-packages/astropy/units/core.py' lineno=2069>,)> size=224 count=6>,\n",
       " <Statistic traceback=<Traceback (<Frame filename='/usr/lib/python3.7/site-packages/astropy/units/core.py' lineno=2068>,)> size=224 count=6>,\n",
       " <Statistic traceback=<Traceback (<Frame filename='/usr/lib/python3.7/threading.py' lineno=794>,)> size=224 count=4>,\n",
       " <Statistic traceback=<Traceback (<Frame filename='/usr/lib/python3.7/site-packages/zarr/indexing.py' lineno=384>,)> size=224 count=4>,\n",
       " <Statistic traceback=<Traceback (<Frame filename='./window_utils.py' lineno=105>,)> size=224 count=4>,\n",
       " <Statistic traceback=<Traceback (<Frame filename='/usr/lib/python3.7/site-packages/distributed/worker.py' lineno=1839>,)> size=224 count=2>,\n",
       " <Statistic traceback=<Traceback (<Frame filename='/usr/lib/python3.7/site-packages/distributed/worker.py' lineno=1324>,)> size=224 count=1>,\n",
       " <Statistic traceback=<Traceback (<Frame filename='/usr/lib/python3.7/site-packages/distributed/scheduler.py' lineno=3076>,)> size=224 count=1>,\n",
       " <Statistic traceback=<Traceback (<Frame filename='/usr/lib/python3.7/site-packages/distributed/scheduler.py' lineno=1378>,)> size=224 count=1>,\n",
       " <Statistic traceback=<Traceback (<Frame filename='/usr/lib/python3.7/site-packages/distributed/scheduler.py' lineno=514>,)> size=224 count=1>,\n",
       " <Statistic traceback=<Traceback (<Frame filename='/usr/lib/python3.7/site-packages/distributed/scheduler.py' lineno=512>,)> size=224 count=1>,\n",
       " <Statistic traceback=<Traceback (<Frame filename='/usr/lib/python3.7/site-packages/distributed/scheduler.py' lineno=511>,)> size=224 count=1>,\n",
       " <Statistic traceback=<Traceback (<Frame filename='/usr/lib/python3.7/site-packages/distributed/scheduler.py' lineno=510>,)> size=224 count=1>,\n",
       " <Statistic traceback=<Traceback (<Frame filename='/usr/lib/python3.7/site-packages/distributed/scheduler.py' lineno=509>,)> size=224 count=1>,\n",
       " <Statistic traceback=<Traceback (<Frame filename='/usr/lib/python3.7/codeop.py' lineno=133>,)> size=222 count=3>,\n",
       " <Statistic traceback=<Traceback (<Frame filename='/usr/lib/python3.7/threading.py' lineno=553>,)> size=216 count=3>,\n",
       " <Statistic traceback=<Traceback (<Frame filename='/usr/lib/python3.7/site-packages/zarr/indexing.py' lineno=535>,)> size=216 count=3>,\n",
       " <Statistic traceback=<Traceback (<Frame filename='/usr/lib/python3.7/site-packages/tornado/ioloop.py' lineno=1193>,)> size=216 count=3>,\n",
       " <Statistic traceback=<Traceback (<Frame filename='/usr/lib/python3.7/site-packages/distributed/_concurrent_futures_thread.py' lineno=54>,)> size=216 count=3>,\n",
       " <Statistic traceback=<Traceback (<Frame filename='/usr/lib/python3.7/concurrent/futures/_base.py' lineno=380>,)> size=216 count=3>,\n",
       " <Statistic traceback=<Traceback (<Frame filename='/usr/lib/python3.7/concurrent/futures/_base.py' lineno=314>,)> size=216 count=3>,\n",
       " <Statistic traceback=<Traceback (<Frame filename='./cov_3X2.py' lineno=90>,)> size=216 count=2>,\n",
       " <Statistic traceback=<Traceback (<Frame filename='./window_utils.py' lineno=131>,)> size=208 count=6>,\n",
       " <Statistic traceback=<Traceback (<Frame filename='/usr/lib/python3.7/selectors.py' lineno=468>,)> size=204 count=3>,\n",
       " <Statistic traceback=<Traceback (<Frame filename='/usr/lib/python3.7/site-packages/tornado/locks.py' lineno=194>,)> size=200 count=5>,\n",
       " <Statistic traceback=<Traceback (<Frame filename='/usr/lib/python3.7/site-packages/distributed/counter.py' lineno=45>,)> size=200 count=5>,\n",
       " <Statistic traceback=<Traceback (<Frame filename='<frozen importlib._bootstrap_external>' lineno=59>,)> size=196 count=2>,\n",
       " <Statistic traceback=<Traceback (<Frame filename='/usr/lib/python3.7/site-packages/numpy/core/fromnumeric.py' lineno=86>,)> size=192 count=12>,\n",
       " <Statistic traceback=<Traceback (<Frame filename='/usr/lib/python3.7/asyncio/base_events.py' lineno=1743>,)> size=192 count=8>,\n",
       " <Statistic traceback=<Traceback (<Frame filename='/usr/lib/python3.7/site-packages/distributed/scheduler.py' lineno=3026>,)> size=192 count=5>,\n",
       " <Statistic traceback=<Traceback (<Frame filename='/usr/lib/python3.7/site-packages/tornado/gen.py' lineno=965>,)> size=192 count=4>,\n",
       " <Statistic traceback=<Traceback (<Frame filename='/usr/lib/python3.7/site-packages/numpy/lib/index_tricks.py' lineno=105>,)> size=192 count=4>,\n",
       " <Statistic traceback=<Traceback (<Frame filename='./window_utils.py' lineno=437>,)> size=192 count=4>,\n",
       " <Statistic traceback=<Traceback (<Frame filename='/usr/lib/python3.7/site-packages/distributed/worker.py' lineno=1846>,)> size=192 count=3>,\n",
       " <Statistic traceback=<Traceback (<Frame filename='/usr/lib/python3.7/site-packages/dask/core.py' lineno=269>,)> size=192 count=3>,\n",
       " <Statistic traceback=<Traceback (<Frame filename='/usr/lib/python3.7/site-packages/distributed/worker.py' lineno=650>,)> size=168 count=7>,\n",
       " <Statistic traceback=<Traceback (<Frame filename='/usr/lib/python3.7/site-packages/distributed/worker.py' lineno=1800>,)> size=168 count=3>,\n",
       " <Statistic traceback=<Traceback (<Frame filename='/usr/lib/python3.7/site-packages/astropy/units/core.py' lineno=649>,)> size=168 count=3>,\n",
       " <Statistic traceback=<Traceback (<Frame filename='/usr/lib/python3.7/types.py' lineno=265>,)> size=168 count=1>,\n",
       " <Statistic traceback=<Traceback (<Frame filename='/usr/lib/python3.7/site-packages/zarr/core.py' lineno=111>,)> size=168 count=1>,\n",
       " <Statistic traceback=<Traceback (<Frame filename='/usr/lib/python3.7/site-packages/distributed/scheduler.py' lineno=3779>,)> size=168 count=1>,\n",
       " <Statistic traceback=<Traceback (<Frame filename='./power_spectra.py' lineno=77>,)> size=168 count=1>,\n",
       " <Statistic traceback=<Traceback (<Frame filename='./cov_utils.py' lineno=18>,)> size=168 count=1>,\n",
       " <Statistic traceback=<Traceback (<Frame filename='./cov_3X2.py' lineno=149>,)> size=168 count=1>,\n",
       " <Statistic traceback=<Traceback (<Frame filename='./angular_power_spectra.py' lineno=19>,)> size=168 count=1>,\n",
       " <Statistic traceback=<Traceback (<Frame filename='/usr/lib/python3.7/site-packages/psutil/_pslinux.py' lineno=992>,)> size=164 count=3>,\n",
       " <Statistic traceback=<Traceback (<Frame filename='/usr/lib/python3.7/site-packages/distributed/worker.py' lineno=852>,)> size=160 count=5>,\n",
       " <Statistic traceback=<Traceback (<Frame filename='/usr/lib/python3.7/site-packages/scipy/interpolate/polyint.py' lineno=96>,)> size=160 count=2>,\n",
       " <Statistic traceback=<Traceback (<Frame filename='/usr/lib/python3.7/site-packages/astropy/units/quantity.py' lineno=370>,)> size=160 count=2>,\n",
       " <Statistic traceback=<Traceback (<Frame filename='/usr/lib/python3.7/site-packages/distributed/scheduler.py' lineno=1998>,)> size=160 count=1>,\n",
       " <Statistic traceback=<Traceback (<Frame filename='./window_utils.py' lineno=172>,)> size=153 count=3>,\n",
       " <Statistic traceback=<Traceback (<Frame filename='/usr/lib/python3.7/site-packages/ipykernel/iostream.py' lineno=434>,)> size=152 count=2>,\n",
       " <Statistic traceback=<Traceback (<Frame filename='/usr/lib/python3.7/site-packages/tornado/ioloop.py' lineno=1241>,)> size=144 count=6>,\n",
       " <Statistic traceback=<Traceback (<Frame filename='/usr/lib/python3.7/site-packages/tornado/ioloop.py' lineno=591>,)> size=144 count=6>,\n",
       " <Statistic traceback=<Traceback (<Frame filename='/usr/lib/python3.7/site-packages/zarr/core.py' lineno=1633>,)> size=144 count=3>,\n",
       " <Statistic traceback=<Traceback (<Frame filename='/usr/lib/python3.7/site-packages/zarr/core.py' lineno=1019>,)> size=144 count=2>,\n",
       " <Statistic traceback=<Traceback (<Frame filename='/usr/lib/python3.7/site-packages/tornado/gen.py' lineno=467>,)> size=144 count=2>,\n",
       " <Statistic traceback=<Traceback (<Frame filename='/usr/lib/python3.7/site-packages/toolz/dicttoolz.py' lineno=99>,)> size=144 count=2>,\n",
       " <Statistic traceback=<Traceback (<Frame filename='/usr/lib/python3.7/site-packages/toolz/dicttoolz.py' lineno=83>,)> size=144 count=2>,\n",
       " <Statistic traceback=<Traceback (<Frame filename='/usr/lib/python3.7/site-packages/numcodecs/registry.py' lineno=32>,)> size=144 count=2>,\n",
       " <Statistic traceback=<Traceback (<Frame filename='/usr/lib/python3.7/site-packages/distributed/worker.py' lineno=622>,)> size=144 count=2>,\n",
       " <Statistic traceback=<Traceback (<Frame filename='/usr/lib/python3.7/site-packages/distributed/utils_comm.py' lineno=229>,)> size=144 count=2>,\n",
       " <Statistic traceback=<Traceback (<Frame filename='/usr/lib/python3.7/site-packages/distributed/utils_comm.py' lineno=43>,)> size=144 count=2>,\n",
       " <Statistic traceback=<Traceback (<Frame filename='/usr/lib/python3.7/site-packages/distributed/utils_comm.py' lineno=38>,)> size=144 count=2>,\n",
       " <Statistic traceback=<Traceback (<Frame filename='/usr/lib/python3.7/site-packages/distributed/scheduler.py' lineno=3757>,)> size=144 count=2>,\n",
       " <Statistic traceback=<Traceback (<Frame filename='/usr/lib/python3.7/site-packages/distributed/core.py' lineno=272>,)> size=144 count=2>,\n",
       " <Statistic traceback=<Traceback (<Frame filename='/usr/lib/python3.7/site-packages/distributed/client.py' lineno=1400>,)> size=144 count=2>,\n",
       " <Statistic traceback=<Traceback (<Frame filename='/usr/lib/python3.7/site-packages/dask/order.py' lineno=230>,)> size=144 count=2>,\n",
       " <Statistic traceback=<Traceback (<Frame filename='/usr/lib/python3.7/site-packages/dask/order.py' lineno=200>,)> size=144 count=2>,\n",
       " <Statistic traceback=<Traceback (<Frame filename='/usr/lib/python3.7/site-packages/dask/order.py' lineno=199>,)> size=144 count=2>,\n",
       " <Statistic traceback=<Traceback (<Frame filename='/usr/lib/python3.7/site-packages/dask/order.py' lineno=127>,)> size=144 count=2>,\n",
       " <Statistic traceback=<Traceback (<Frame filename='/usr/lib/python3.7/site-packages/dask/optimization.py' lineno=46>,)> size=144 count=2>,\n",
       " <Statistic traceback=<Traceback (<Frame filename='/usr/lib/python3.7/site-packages/distributed/counter.py' lineno=49>,)> size=140 count=5>,\n",
       " <Statistic traceback=<Traceback (<Frame filename='/usr/lib/python3.7/site-packages/IPython/core/history.py' lineno=764>,)> size=136 count=2>,\n",
       " <Statistic traceback=<Traceback (<Frame filename='/usr/lib/python3.7/encodings/ascii.py' lineno=41>,)> size=136 count=1>,\n",
       " <Statistic traceback=<Traceback (<Frame filename='/usr/lib/python3.7/encodings/ascii.py' lineno=25>,)> size=136 count=1>,\n",
       " <Statistic traceback=<Traceback (<Frame filename='/usr/lib/python3.7/encodings/ascii.py' lineno=21>,)> size=136 count=1>,\n",
       " <Statistic traceback=<Traceback (<Frame filename='/usr/lib/python3.7/site-packages/traitlets/traitlets.py' lineno=600>,)> size=135 count=2>,\n",
       " <Statistic traceback=<Traceback (<Frame filename='/usr/lib/python3.7/threading.py' lineno=892>,)> size=128 count=4>,\n",
       " <Statistic traceback=<Traceback (<Frame filename='/usr/lib/python3.7/site-packages/numpy/core/shape_base.py' lineno=283>,)> size=128 count=4>,\n",
       " <Statistic traceback=<Traceback (<Frame filename='/usr/lib/python3.7/site-packages/distributed/client.py' lineno=2132>,)> size=128 count=2>,\n",
       " <Statistic traceback=<Traceback (<Frame filename='/usr/lib/python3.7/site-packages/distributed/client.py' lineno=2105>,)> size=128 count=2>,\n",
       " <Statistic traceback=<Traceback (<Frame filename='./window_utils.py' lineno=110>,)> size=124 count=1>,\n",
       " <Statistic traceback=<Traceback (<Frame filename='./window_utils.py' lineno=98>,)> size=124 count=1>,\n",
       " <Statistic traceback=<Traceback (<Frame filename='/usr/lib/python3.7/site-packages/distributed/counter.py' lineno=59>,)> size=120 count=5>,\n",
       " <Statistic traceback=<Traceback (<Frame filename='/usr/lib/python3.7/site-packages/numpy/lib/function_base.py' lineno=1273>,)> size=120 count=1>,\n",
       " <Statistic traceback=<Traceback (<Frame filename='/usr/lib/python3.7/site-packages/IPython/core/interactiveshell.py' lineno=3185>,)> size=120 count=1>,\n",
       " <Statistic traceback=<Traceback (<Frame filename='/usr/lib/python3.7/site-packages/jupyter_client/jsonutil.py' lineno=91>,)> size=116 count=2>,\n",
       " <Statistic traceback=<Traceback (<Frame filename='/usr/lib/python3.7/site-packages/zarr/creation.py' lineno=139>,)> size=112 count=2>,\n",
       " <Statistic traceback=<Traceback (<Frame filename='/usr/lib/python3.7/site-packages/zarr/core.py' lineno=136>,)> size=112 count=2>,\n",
       " <Statistic traceback=<Traceback (<Frame filename='/usr/lib/python3.7/site-packages/zarr/core.py' lineno=135>,)> size=112 count=2>,\n",
       " <Statistic traceback=<Traceback (<Frame filename='/usr/lib/python3.7/site-packages/zarr/core.py' lineno=132>,)> size=112 count=2>,\n",
       " <Statistic traceback=<Traceback (<Frame filename='/usr/lib/python3.7/site-packages/zarr/core.py' lineno=129>,)> size=112 count=2>,\n",
       " <Statistic traceback=<Traceback (<Frame filename='/usr/lib/python3.7/site-packages/distributed/protocol/serialize.py' lineno=196>,)> size=112 count=2>,\n",
       " <Statistic traceback=<Traceback (<Frame filename='/usr/lib/python3.7/site-packages/distributed/client.py' lineno=2326>,)> size=112 count=2>,\n",
       " <Statistic traceback=<Traceback (<Frame filename='/usr/lib/python3.7/site-packages/dask/base.py' lineno=661>,)> size=112 count=2>,\n",
       " <Statistic traceback=<Traceback (<Frame filename='/usr/lib/python3.7/site-packages/dask/base.py' lineno=229>,)> size=112 count=2>,\n",
       " <Statistic traceback=<Traceback (<Frame filename='/usr/lib/python3.7/site-packages/numpy/lib/arraysetops.py' lineno=304>,)> size=112 count=1>,\n",
       " <Statistic traceback=<Traceback (<Frame filename='/usr/lib/python3.7/site-packages/jupyter_client/session.py' lineno=171>,)> size=112 count=1>,\n",
       " <Statistic traceback=<Traceback (<Frame filename='/usr/lib/python3.7/site-packages/astropy/units/quantity.py' lineno=305>,)> size=112 count=1>,\n",
       " <Statistic traceback=<Traceback (<Frame filename='/usr/lib/python3.7/site-packages/numcodecs/compat.py' lineno=135>,)> size=104 count=3>,\n",
       " <Statistic traceback=<Traceback (<Frame filename='/usr/lib/python3.7/site-packages/IPython/core/interactiveshell.py' lineno=3183>,)> size=104 count=3>,\n",
       " <Statistic traceback=<Traceback (<Frame filename='/usr/lib/python3.7/site-packages/sparse/utils.py' lineno=68>,)> size=96 count=4>,\n",
       " <Statistic traceback=<Traceback (<Frame filename='./cov_3X2.py' lineno=142>,)> size=96 count=4>,\n",
       " <Statistic traceback=<Traceback (<Frame filename='/usr/lib/python3.7/site-packages/distributed/worker.py' lineno=2206>,)> size=96 count=3>,\n",
       " <Statistic traceback=<Traceback (<Frame filename='/usr/lib/python3.7/site-packages/distributed/utils.py' lineno=805>,)> size=96 count=3>,\n",
       " <Statistic traceback=<Traceback (<Frame filename='/usr/lib/python3.7/selectors.py' lineno=480>,)> size=96 count=3>,\n",
       " <Statistic traceback=<Traceback (<Frame filename='/usr/lib/python3.7/site-packages/distributed/worker.py' lineno=2184>,)> size=96 count=2>,\n",
       " <Statistic traceback=<Traceback (<Frame filename='/usr/lib/python3.7/site-packages/distributed/scheduler.py' lineno=3020>,)> size=96 count=2>,\n",
       " <Statistic traceback=<Traceback (<Frame filename='/usr/lib/python3.7/codecs.py' lineno=97>,)> size=96 count=1>,\n",
       " <Statistic traceback=<Traceback (<Frame filename='/usr/lib/python3.7/site-packages/dask/delayed.py' lineno=433>,)> size=90 count=1>,\n",
       " <Statistic traceback=<Traceback (<Frame filename='./window_utils.py' lineno=148>,)> size=88 count=2>,\n",
       " <Statistic traceback=<Traceback (<Frame filename='/usr/lib/python3.7/site-packages/zarr/util.py' lineno=370>,)> size=80 count=2>,\n",
       " <Statistic traceback=<Traceback (<Frame filename='/usr/lib/python3.7/site-packages/zarr/storage.py' lineno=719>,)> size=80 count=2>,\n",
       " <Statistic traceback=<Traceback (<Frame filename='/usr/lib/python3.7/site-packages/zarr/indexing.py' lineno=751>,)> size=80 count=2>,\n",
       " <Statistic traceback=<Traceback (<Frame filename='/usr/lib/python3.7/site-packages/zarr/indexing.py' lineno=595>,)> size=80 count=2>,\n",
       " <Statistic traceback=<Traceback (<Frame filename='<frozen importlib._bootstrap>' lineno=371>,)> size=80 count=1>,\n",
       " <Statistic traceback=<Traceback (<Frame filename='<frozen importlib._bootstrap>' lineno=36>,)> size=80 count=1>,\n",
       " <Statistic traceback=<Traceback (<Frame filename='/usr/lib/python3.7/site-packages/zarr/attrs.py' lineno=33>,)> size=80 count=1>,\n",
       " <Statistic traceback=<Traceback (<Frame filename='/usr/lib/python3.7/site-packages/sortedcontainers/sortedlist.py' lineno=2056>,)> size=80 count=1>,\n",
       " <Statistic traceback=<Traceback (<Frame filename='/usr/lib/python3.7/site-packages/sortedcontainers/sortedlist.py' lineno=2055>,)> size=80 count=1>,\n",
       " <Statistic traceback=<Traceback (<Frame filename='/usr/lib/python3.7/site-packages/numpy/lib/function_base.py' lineno=1053>,)> size=80 count=1>,\n",
       " <Statistic traceback=<Traceback (<Frame filename='/usr/lib/python3.7/site-packages/numpy/core/fromnumeric.py' lineno=933>,)> size=80 count=1>,\n",
       " <Statistic traceback=<Traceback (<Frame filename='/usr/lib/python3.7/site-packages/astropy/units/quantity.py' lineno=383>,)> size=80 count=1>,\n",
       " <Statistic traceback=<Traceback (<Frame filename='/usr/lib/python3.7/site-packages/astropy/units/equivalencies.py' lineno=447>,)> size=80 count=1>,\n",
       " <Statistic traceback=<Traceback (<Frame filename='/usr/lib/python3.7/codecs.py' lineno=98>,)> size=80 count=1>,\n",
       " <Statistic traceback=<Traceback (<Frame filename='./tracer_utils.py' lineno=19>,)> size=80 count=1>,\n",
       " <Statistic traceback=<Traceback (<Frame filename='./cov_3X2.py' lineno=58>,)> size=80 count=1>,\n",
       " <Statistic traceback=<Traceback (<Frame filename='/usr/lib/python3.7/site-packages/distributed/worker.py' lineno=1829>,)> size=72 count=3>,\n",
       " <Statistic traceback=<Traceback (<Frame filename='/usr/lib/python3.7/site-packages/distributed/worker.py' lineno=649>,)> size=72 count=3>,\n",
       " <Statistic traceback=<Traceback (<Frame filename='./cov_3X2.py' lineno=143>,)> size=72 count=3>,\n",
       " <Statistic traceback=<Traceback (<Frame filename='<frozen importlib._bootstrap_external>' lineno=917>,)> size=72 count=1>,\n",
       " <Statistic traceback=<Traceback (<Frame filename='<frozen importlib._bootstrap>' lineno=88>,)> size=72 count=1>,\n",
       " <Statistic traceback=<Traceback (<Frame filename='/usr/lib/python3.7/uuid.py' lineno=759>,)> size=72 count=1>,\n",
       " <Statistic traceback=<Traceback (<Frame filename='/usr/lib/python3.7/uuid.py' lineno=204>,)> size=72 count=1>,\n",
       " <Statistic traceback=<Traceback (<Frame filename='/usr/lib/python3.7/site-packages/zmq/utils/jsonapi.py' lineno=40>,)> size=72 count=1>,\n",
       " <Statistic traceback=<Traceback (<Frame filename='/usr/lib/python3.7/site-packages/traitlets/traitlets.py' lineno=1155>,)> size=72 count=1>,\n",
       " <Statistic traceback=<Traceback (<Frame filename='/usr/lib/python3.7/site-packages/tornado/gen.py' lineno=1141>,)> size=72 count=1>,\n",
       " <Statistic traceback=<Traceback (<Frame filename='/usr/lib/python3.7/site-packages/toolz/itertoolz.py' lineno=541>,)> size=72 count=1>,\n",
       " <Statistic traceback=<Traceback (<Frame filename='/usr/lib/python3.7/site-packages/toolz/itertoolz.py' lineno=94>,)> size=72 count=1>,\n",
       " <Statistic traceback=<Traceback (<Frame filename='/usr/lib/python3.7/site-packages/toolz/itertoolz.py' lineno=91>,)> size=72 count=1>,\n",
       " <Statistic traceback=<Traceback (<Frame filename='/usr/lib/python3.7/site-packages/psutil/_pslinux.py' lineno=1550>,)> size=72 count=1>,\n",
       " <Statistic traceback=<Traceback (<Frame filename='/usr/lib/python3.7/site-packages/distributed/worker.py' lineno=860>,)> size=72 count=1>,\n",
       " <Statistic traceback=<Traceback (<Frame filename='/usr/lib/python3.7/site-packages/distributed/worker.py' lineno=623>,)> size=72 count=1>,\n",
       " <Statistic traceback=<Traceback (<Frame filename='/usr/lib/python3.7/site-packages/distributed/counter.py' lineno=50>,)> size=72 count=1>,\n",
       " <Statistic traceback=<Traceback (<Frame filename='/usr/lib/python3.7/site-packages/distributed/core.py' lineno=554>,)> size=72 count=1>,\n",
       " <Statistic traceback=<Traceback (<Frame filename='/usr/lib/python3.7/site-packages/distributed/client.py' lineno=2140>,)> size=72 count=1>,\n",
       " <Statistic traceback=<Traceback (<Frame filename='/usr/lib/python3.7/site-packages/distributed/client.py' lineno=930>,)> size=72 count=1>,\n",
       " <Statistic traceback=<Traceback (<Frame filename='/usr/lib/python3.7/site-packages/distributed/client.py' lineno=762>,)> size=72 count=1>,\n",
       " <Statistic traceback=<Traceback (<Frame filename='/usr/lib/python3.7/site-packages/distributed/_concurrent_futures_thread.py' lineno=123>,)> size=72 count=1>,\n",
       " <Statistic traceback=<Traceback (<Frame filename='/usr/lib/python3.7/site-packages/dask/utils.py' lineno=988>,)> size=72 count=1>,\n",
       " <Statistic traceback=<Traceback (<Frame filename='/usr/lib/python3.7/site-packages/dask/order.py' lineno=231>,)> size=72 count=1>,\n",
       " <Statistic traceback=<Traceback (<Frame filename='/usr/lib/python3.7/site-packages/dask/optimization.py' lineno=64>,)> size=72 count=1>,\n",
       " <Statistic traceback=<Traceback (<Frame filename='/usr/lib/python3.7/site-packages/dask/highlevelgraph.py' lineno=168>,)> size=72 count=1>,\n",
       " <Statistic traceback=<Traceback (<Frame filename='/usr/lib/python3.7/site-packages/dask/highlevelgraph.py' lineno=167>,)> size=72 count=1>,\n",
       " <Statistic traceback=<Traceback (<Frame filename='/usr/lib/python3.7/site-packages/dask/highlevelgraph.py' lineno=125>,)> size=72 count=1>,\n",
       " <Statistic traceback=<Traceback (<Frame filename='/usr/lib/python3.7/multiprocessing/pool.py' lineno=217>,)> size=72 count=1>,\n",
       " <Statistic traceback=<Traceback (<Frame filename='/usr/lib/python3.7/json/__init__.py' lineno=238>,)> size=72 count=1>,\n",
       " <Statistic traceback=<Traceback (<Frame filename='/usr/lib/python3.7/json/__init__.py' lineno=237>,)> size=72 count=1>,\n",
       " <Statistic traceback=<Traceback (<Frame filename='/usr/lib/python3.7/contextlib.py' lineno=82>,)> size=72 count=1>,\n",
       " <Statistic traceback=<Traceback (<Frame filename='./window_utils.py' lineno=468>,)> size=72 count=1>,\n",
       " <Statistic traceback=<Traceback (<Frame filename='./window_utils.py' lineno=173>,)> size=66 count=1>,\n",
       " <Statistic traceback=<Traceback (<Frame filename='/usr/lib/python3.7/site-packages/distributed/protocol/pickle.py' lineno=38>,)> size=65 count=1>,\n",
       " <Statistic traceback=<Traceback (<Frame filename='./binning.py' lineno=44>,)> size=64 count=4>,\n",
       " <Statistic traceback=<Traceback (<Frame filename='./cov_3X2.py' lineno=131>,)> size=64 count=2>,\n",
       " <Statistic traceback=<Traceback (<Frame filename='/usr/lib/python3.7/site-packages/distributed/worker.py' lineno=1818>,)> size=64 count=1>,\n",
       " <Statistic traceback=<Traceback (<Frame filename='/usr/lib/python3.7/site-packages/distributed/utils_comm.py' lineno=49>,)> size=64 count=1>,\n",
       " <Statistic traceback=<Traceback (<Frame filename='/usr/lib/python3.7/site-packages/distributed/scheduler.py' lineno=1722>,)> size=64 count=1>,\n",
       " <Statistic traceback=<Traceback (<Frame filename='/usr/lib/python3.7/site-packages/distributed/scheduler.py' lineno=1326>,)> size=64 count=1>,\n",
       " <Statistic traceback=<Traceback (<Frame filename='/usr/lib/python3.7/site-packages/distributed/scheduler.py' lineno=1317>,)> size=64 count=1>,\n",
       " <Statistic traceback=<Traceback (<Frame filename='/usr/lib/python3.7/site-packages/distributed/client.py' lineno=2087>,)> size=64 count=1>,\n",
       " <Statistic traceback=<Traceback (<Frame filename='/usr/lib/python3.7/site-packages/dask/optimization.py' lineno=48>,)> size=64 count=1>,\n",
       " <Statistic traceback=<Traceback (<Frame filename='/usr/lib/python3.7/site-packages/astropy/units/core.py' lineno=2065>,)> size=64 count=1>,\n",
       " <Statistic traceback=<Traceback (<Frame filename='/usr/lib/python3.7/encodings/__init__.py' lineno=99>,)> size=64 count=1>,\n",
       " <Statistic traceback=<Traceback (<Frame filename='<frozen importlib._bootstrap>' lineno=420>,)> size=58 count=1>,\n",
       " <Statistic traceback=<Traceback (<Frame filename='/usr/lib/python3.7/linecache.py' lineno=141>,)> size=58 count=1>,\n",
       " <Statistic traceback=<Traceback (<Frame filename='/usr/lib/python3.7/site-packages/astropy/units/quantity.py' lineno=1048>,)> size=57 count=1>,\n",
       " <Statistic traceback=<Traceback (<Frame filename='/usr/lib/python3.7/site-packages/zarr/indexing.py' lineno=97>,)> size=56 count=3>,\n",
       " <Statistic traceback=<Traceback (<Frame filename='./cov_3X2.py' lineno=132>,)> size=56 count=3>,\n",
       " <Statistic traceback=<Traceback (<Frame filename='<frozen importlib._bootstrap_external>' lineno=1352>,)> size=56 count=1>,\n",
       " <Statistic traceback=<Traceback (<Frame filename='<frozen importlib._bootstrap_external>' lineno=606>,)> size=56 count=1>,\n",
       " <Statistic traceback=<Traceback (<Frame filename='/usr/lib/python3.7/site-packages/distributed/worker.py' lineno=818>,)> size=56 count=1>,\n",
       " <Statistic traceback=<Traceback (<Frame filename='/usr/lib/python3.7/site-packages/astropy/cosmology/core.py' lineno=471>,)> size=56 count=1>,\n",
       " <Statistic traceback=<Traceback (<Frame filename='./window_utils.py' lineno=37>,)> size=56 count=1>,\n",
       " <Statistic traceback=<Traceback (<Frame filename='./cov_3X2.py' lineno=213>,)> size=56 count=1>,\n",
       " <Statistic traceback=<Traceback (<Frame filename='./cov_3X2.py' lineno=170>,)> size=56 count=1>,\n",
       " <Statistic traceback=<Traceback (<Frame filename='./cov_3X2.py' lineno=99>,)> size=56 count=1>,\n",
       " <Statistic traceback=<Traceback (<Frame filename='./cov_3X2.py' lineno=81>,)> size=56 count=1>,\n",
       " <Statistic traceback=<Traceback (<Frame filename='./angular_power_spectra.py' lineno=20>,)> size=56 count=1>,\n",
       " <Statistic traceback=<Traceback (<Frame filename='/usr/lib/python3.7/site-packages/zmq/sugar/attrsettr.py' lineno=37>,)> size=55 count=1>,\n",
       " <Statistic traceback=<Traceback (<Frame filename='/usr/lib/python3.7/site-packages/IPython/core/history.py' lineno=770>,)> size=55 count=1>,\n",
       " <Statistic traceback=<Traceback (<Frame filename='/usr/lib/python3.7/site-packages/zarr/core.py' lineno=1748>,)> size=54 count=1>,\n",
       " <Statistic traceback=<Traceback (<Frame filename='./window_utils.py' lineno=483>,)> size=53 count=1>,\n",
       " <Statistic traceback=<Traceback (<Frame filename='./window_utils.py' lineno=412>,)> size=53 count=1>,\n",
       " <Statistic traceback=<Traceback (<Frame filename='/usr/lib/python3.7/site-packages/zarr/meta.py' lineno=145>,)> size=52 count=3>,\n",
       " <Statistic traceback=<Traceback (<Frame filename='/usr/lib/python3.7/site-packages/numpy/core/fromnumeric.py' lineno=84>,)> size=52 count=1>,\n",
       " <Statistic traceback=<Traceback (<Frame filename='/usr/lib/python3.7/site-packages/zarr/core.py' lineno=1759>,)> size=48 count=3>,\n",
       " <Statistic traceback=<Traceback (<Frame filename='/usr/lib/python3.7/site-packages/psutil/_pslinux.py' lineno=1696>,)> size=48 count=2>,\n",
       " <Statistic traceback=<Traceback (<Frame filename='/usr/lib/python3.7/site-packages/distributed/worker.py' lineno=1753>,)> size=48 count=2>,\n",
       " <Statistic traceback=<Traceback (<Frame filename='/usr/lib/python3.7/site-packages/distributed/worker.py' lineno=1752>,)> size=48 count=2>,\n",
       " <Statistic traceback=<Traceback (<Frame filename='/usr/lib/python3.7/site-packages/distributed/worker.py' lineno=1750>,)> size=48 count=2>,\n",
       " <Statistic traceback=<Traceback (<Frame filename='/usr/lib/python3.7/site-packages/distributed/comm/core.py' lineno=184>,)> size=48 count=2>,\n",
       " <Statistic traceback=<Traceback (<Frame filename='/usr/lib/python3.7/site-packages/distributed/batched.py' lineno=90>,)> size=48 count=2>,\n",
       " <Statistic traceback=<Traceback (<Frame filename='/usr/lib/python3.7/queue.py' lineno=174>,)> size=48 count=2>,\n",
       " <Statistic traceback=<Traceback (<Frame filename='./window_utils.py' lineno=137>,)> size=48 count=2>,\n",
       " <Statistic traceback=<Traceback (<Frame filename='/usr/lib/python3.7/site-packages/sparse/utils.py' lineno=258>,)> size=48 count=1>,\n",
       " <Statistic traceback=<Traceback (<Frame filename='/usr/lib/python3.7/site-packages/distributed/client.py' lineno=960>,)> size=48 count=1>,\n",
       " <Statistic traceback=<Traceback (<Frame filename='<frozen importlib._bootstrap_external>' lineno=887>,)> size=40 count=1>,\n",
       " <Statistic traceback=<Traceback (<Frame filename='./cov_3X2.py' lineno=139>,)> size=32 count=4>,\n",
       " <Statistic traceback=<Traceback (<Frame filename='/usr/lib/python3.7/site-packages/numpy/core/shape_base.py' lineno=127>,)> size=32 count=1>,\n",
       " <Statistic traceback=<Traceback (<Frame filename='/usr/lib/python3.7/site-packages/heapdict.py' lineno=42>,)> size=32 count=1>,\n",
       " <Statistic traceback=<Traceback (<Frame filename='/usr/lib/python3.7/site-packages/distributed/worker.py' lineno=1821>,)> size=32 count=1>,\n",
       " <Statistic traceback=<Traceback (<Frame filename='/usr/lib/python3.7/site-packages/ipykernel/iostream.py' lineno=377>,)> size=28 count=1>,\n",
       " <Statistic traceback=<Traceback (<Frame filename='/usr/lib/python3.7/site-packages/astropy/cosmology/core.py' lineno=195>,)> size=28 count=1>,\n",
       " <Statistic traceback=<Traceback (<Frame filename='/usr/lib/python3.7/site-packages/astropy/units/quantity.py' lineno=639>,)> size=24 count=3>,\n",
       " <Statistic traceback=<Traceback (<Frame filename='<ipython-input-30-8100a081a779>' lineno=11>,)> size=24 count=1>,\n",
       " <Statistic traceback=<Traceback (<Frame filename='/usr/lib/python3.7/site-packages/tornado/util.py' lineno=455>,)> size=24 count=1>,\n",
       " <Statistic traceback=<Traceback (<Frame filename='/usr/lib/python3.7/site-packages/tornado/ioloop.py' lineno=638>,)> size=24 count=1>,\n",
       " <Statistic traceback=<Traceback (<Frame filename='/usr/lib/python3.7/site-packages/psutil/_pslinux.py' lineno=1695>,)> size=24 count=1>,\n",
       " <Statistic traceback=<Traceback (<Frame filename='/usr/lib/python3.7/site-packages/heapdict.py' lineno=40>,)> size=24 count=1>,\n",
       " <Statistic traceback=<Traceback (<Frame filename='/usr/lib/python3.7/site-packages/distributed/worker.py' lineno=2359>,)> size=24 count=1>,\n",
       " <Statistic traceback=<Traceback (<Frame filename='/usr/lib/python3.7/site-packages/distributed/worker.py' lineno=2347>,)> size=24 count=1>,\n",
       " <Statistic traceback=<Traceback (<Frame filename='/usr/lib/python3.7/site-packages/distributed/worker.py' lineno=1828>,)> size=24 count=1>,\n",
       " <Statistic traceback=<Traceback (<Frame filename='/usr/lib/python3.7/site-packages/distributed/worker.py' lineno=1303>,)> size=24 count=1>,\n",
       " <Statistic traceback=<Traceback (<Frame filename='/usr/lib/python3.7/site-packages/distributed/worker.py' lineno=874>,)> size=24 count=1>,\n",
       " <Statistic traceback=<Traceback (<Frame filename='/usr/lib/python3.7/site-packages/distributed/scheduler.py' lineno=3825>,)> size=24 count=1>,\n",
       " <Statistic traceback=<Traceback (<Frame filename='/usr/lib/python3.7/site-packages/distributed/core.py' lineno=180>,)> size=24 count=1>,\n",
       " <Statistic traceback=<Traceback (<Frame filename='/usr/lib/python3.7/queue.py' lineno=176>,)> size=24 count=1>,\n",
       " <Statistic traceback=<Traceback (<Frame filename='./window_utils.py' lineno=471>,)> size=24 count=1>,\n",
       " <Statistic traceback=<Traceback (<Frame filename='./window_utils.py' lineno=419>,)> size=24 count=1>,\n",
       " <Statistic traceback=<Traceback (<Frame filename='./window_utils.py' lineno=153>,)> size=24 count=1>,\n",
       " <Statistic traceback=<Traceback (<Frame filename='./window_utils.py' lineno=146>,)> size=24 count=1>,\n",
       " <Statistic traceback=<Traceback (<Frame filename='/usr/lib/python3.7/site-packages/distributed/client.py' lineno=948>,)> size=16 count=2>,\n",
       " <Statistic traceback=<Traceback (<Frame filename='/usr/lib/python3.7/site-packages/sparse/coo/core.py' lineno=345>,)> size=16 count=1>,\n",
       " <Statistic traceback=<Traceback (<Frame filename='/usr/lib/python3.7/site-packages/scipy/interpolate/polyint.py' lineno=111>,)> size=16 count=1>,\n",
       " <Statistic traceback=<Traceback (<Frame filename='/usr/lib/python3.7/site-packages/numpy/lib/ufunclike.py' lineno=175>,)> size=16 count=1>,\n",
       " <Statistic traceback=<Traceback (<Frame filename='/usr/lib/python3.7/site-packages/numpy/lib/function_base.py' lineno=4694>,)> size=16 count=1>,\n",
       " <Statistic traceback=<Traceback (<Frame filename='/usr/lib/python3.7/site-packages/numpy/lib/function_base.py' lineno=1065>,)> size=16 count=1>,\n",
       " <Statistic traceback=<Traceback (<Frame filename='/usr/lib/python3.7/site-packages/numpy/core/_methods.py' lineno=32>,)> size=16 count=1>,\n",
       " <Statistic traceback=<Traceback (<Frame filename='./tracer_utils.py' lineno=73>,)> size=16 count=1>,\n",
       " <Statistic traceback=<Traceback (<Frame filename='./cov_3X2.py' lineno=145>,)> size=16 count=1>,\n",
       " <Statistic traceback=<Traceback (<Frame filename='/usr/lib/python3.7/site-packages/numpy/core/_methods.py' lineno=43>,)> size=1 count=1>,\n",
       " <Statistic traceback=<Traceback (<Frame filename='/usr/lib/python3.7/site-packages/heapdict.py' lineno=93>,)> size=0 count=4>,\n",
       " <Statistic traceback=<Traceback (<Frame filename='/usr/lib/python3.7/site-packages/distributed/worker.py' lineno=1680>,)> size=0 count=1>]"
      ]
     },
     "execution_count": 34,
     "metadata": {},
     "output_type": "execute_result"
    }
   ],
   "source": [
    "top_stats"
   ]
  },
  {
   "cell_type": "code",
   "execution_count": 35,
   "metadata": {},
   "outputs": [
    {
     "data": {
      "image/png": "[encoded data removed]",
      "text/plain": [
       "<IPython.core.display.Image object>"
      ]
     },
     "execution_count": 35,
     "metadata": {},
     "output_type": "execute_result"
    }
   ],
   "source": [
    "dask.visualize(XI_W_L.Win.Win_cl)"
   ]
  },
  {
   "cell_type": "code",
   "execution_count": 36,
   "metadata": {},
   "outputs": [
    {
     "data": {
      "image/png": "[encoded data removed]",
      "text/plain": [
       "<IPython.core.display.Image object>"
      ]
     },
     "execution_count": 36,
     "metadata": {},
     "output_type": "execute_result"
    }
   ],
   "source": [
    "dask.visualize(XI_W_L.Win.Win_cov)"
   ]
  },
  {
   "cell_type": "code",
   "execution_count": 37,
   "metadata": {},
   "outputs": [
    {
     "data": {
      "text/plain": [
       "Delayed('return_dict_cl-de5db890-f073-442b-ac9d-b24b7cff7552')"
      ]
     },
     "execution_count": 37,
     "metadata": {},
     "output_type": "execute_result"
    }
   ],
   "source": [
    "XI_W_L.Win.Win['cl']"
   ]
  },
  {
   "cell_type": "code",
   "execution_count": 38,
   "metadata": {},
   "outputs": [
    {
     "name": "stdout",
     "output_type": "stream",
     "text": [
      "added extra corr calc for covariance [('kappa', 'kappa'), ('galaxy', 'galaxy'), ('kappa', 'galaxy'), ('galaxy', 'kappa')]\n",
      "Note: redshifts have been re-sorted (earliest first)\n"
     ]
    },
    {
     "name": "stderr",
     "output_type": "stream",
     "text": [
      "/usr/lib/python3.7/site-packages/astropy/units/quantity.py:639: RuntimeWarning: divide by zero encountered in true_divide\n",
      "  result = super().__array_ufunc__(function, method, *arrays, **kwargs)\n"
     ]
    },
    {
     "name": "stdout",
     "output_type": "stream",
     "text": [
      "Note: redshifts have been re-sorted (earliest first)\n",
      "cl dict done\n",
      "CPU times: user 9.36 s, sys: 14.8 ms, total: 9.38 s\n",
      "Wall time: 1.95 s\n"
     ]
    }
   ],
   "source": [
    "%time clG=XI_W_L.cl_tomo()"
   ]
  },
  {
   "cell_type": "code",
   "execution_count": 39,
   "metadata": {},
   "outputs": [
    {
     "name": "stdout",
     "output_type": "stream",
     "text": [
      "CPU times: user 18.7 s, sys: 1.2 s, total: 19.9 s\n",
      "Wall time: 5.45 s\n"
     ]
    }
   ],
   "source": [
    "%time cl_L=clG['stack'].compute()"
   ]
  },
  {
   "cell_type": "code",
   "execution_count": 40,
   "metadata": {},
   "outputs": [
    {
     "ename": "NameError",
     "evalue": "name 'crash' is not defined",
     "output_type": "error",
     "traceback": [
      "\u001b[0;31m---------------------------------------------------------------------------\u001b[0m",
      "\u001b[0;31mNameError\u001b[0m                                 Traceback (most recent call last)",
      "\u001b[0;32m<ipython-input-40-2a418ad8f387>\u001b[0m in \u001b[0;36m<module>\u001b[0;34m\u001b[0m\n\u001b[0;32m----> 1\u001b[0;31m \u001b[0mcrash\u001b[0m\u001b[0;34m\u001b[0m\u001b[0;34m\u001b[0m\u001b[0m\n\u001b[0m",
      "\u001b[0;31mNameError\u001b[0m: name 'crash' is not defined"
     ]
    }
   ],
   "source": [
    "crash"
   ]
  },
  {
   "cell_type": "code",
   "execution_count": null,
   "metadata": {},
   "outputs": [],
   "source": [
    "A=np.int8(np.eye(1000))\n",
    "X=np.float32(np.eye(1000))"
   ]
  },
  {
   "cell_type": "code",
   "execution_count": null,
   "metadata": {},
   "outputs": [],
   "source": [
    "A"
   ]
  },
  {
   "cell_type": "code",
   "execution_count": null,
   "metadata": {},
   "outputs": [],
   "source": [
    "np.int8(~B)"
   ]
  },
  {
   "cell_type": "code",
   "execution_count": null,
   "metadata": {},
   "outputs": [],
   "source": [
    "B=A.astype('bool')"
   ]
  },
  {
   "cell_type": "code",
   "execution_count": null,
   "metadata": {},
   "outputs": [],
   "source": [
    "%time x1=X*A\n",
    "%time x2=X*B"
   ]
  },
  {
   "cell_type": "code",
   "execution_count": null,
   "metadata": {},
   "outputs": [],
   "source": [
    "np.all(x1==x2)"
   ]
  },
  {
   "cell_type": "code",
   "execution_count": null,
   "metadata": {},
   "outputs": [],
   "source": [
    "dask.visualize(clG['stack'])"
   ]
  },
  {
   "cell_type": "code",
   "execution_count": null,
   "metadata": {},
   "outputs": [],
   "source": [
    "np.arange(1000,step=300)"
   ]
  },
  {
   "cell_type": "code",
   "execution_count": null,
   "metadata": {},
   "outputs": [],
   "source": [
    "XI_W_L.Win.Win['cl'][corr_ll][bi]"
   ]
  },
  {
   "cell_type": "code",
   "execution_count": null,
   "metadata": {},
   "outputs": [],
   "source": [
    "XI_W_L.Win.Win['cl'][corr_ll][bi]['M_B']"
   ]
  },
  {
   "cell_type": "code",
   "execution_count": null,
   "metadata": {},
   "outputs": [],
   "source": [
    "# M2=XI_W_L.Win.Win['cov'][corr_ll+corr_ll][bi+bi]['M1324'][2].compute()\n",
    "try:\n",
    "    M2n=XI_W_L.Win.Win['cl'][corr_ll][bi]['M_B'].compute()\n",
    "except:\n",
    "    M2n=XI_W_L.Win.Win['cl'][corr_ll][bi]['M_B']\n",
    "XI_W_L.SN[corr_ll][:,0,0]@M2n"
   ]
  },
  {
   "cell_type": "code",
   "execution_count": null,
   "metadata": {},
   "outputs": [],
   "source": [
    "bi=(0,0)\n",
    "f=1#XI_W_L.l**2\n",
    "# plot(XI_W_L.l,f*(XI_W_L.SN[corr_ll][:,0,0]@XI_W_L.Win.Win['cov'][corr_ll+corr_ll][bi+bi]['M1324'][2]))\n",
    "plot(XI_W_L.l,f*(XI_W_L.SN[corr_ll][:,0,0]@M2n))\n",
    "loglog()"
   ]
  },
  {
   "cell_type": "code",
   "execution_count": null,
   "metadata": {},
   "outputs": [],
   "source": [
    "crash"
   ]
  },
  {
   "cell_type": "raw",
   "metadata": {},
   "source": [
    "zs_bins['SN']['kappa']=zs_bins['SN']['shear']\n",
    "t1=time.time()\n",
    "\n",
    "\n",
    "XI_W_K= cov_3X2(zk_bins=zs_bins,l=l0,do_cov=do_cov,bin_cl=bin_cl,l_bins=l_bins,zg_bins=zl_bins,\n",
    "                do_sample_variance=do_sample_variance,use_window=use_window,window_lmax=window_lmax,\n",
    "                power_spectra_kwargs=power_spectra_kwargs,corrs=[corr_kk,corr_ggk,corr_gg],store_win=True,\n",
    "               SSV_cov=SSV_cov,tidal_SSV_cov=tidal_SSV,Tri_cov=Tri_cov,do_xi=True,HT=WT_L,f_sky=f_sky,\n",
    "               bin_xi=bin_xi,theta_bins=th_bins)#ns=np.inf)\n",
    "t2=time.time()\n",
    "print('W done',t2-t1)"
   ]
  },
  {
   "cell_type": "code",
   "execution_count": null,
   "metadata": {},
   "outputs": [],
   "source": [
    "XI_W_L_NW= cov_3X2(zs_bins=zs_bins,l=l0,do_cov=do_cov,bin_cl=bin_cl,l_bins=l_bins,zg_bins=zl_bins, #no window\n",
    "                do_sample_variance=do_sample_variance,use_window=False,window_lmax=window_lmax,\n",
    "                power_spectra_kwargs=power_spectra_kwargs,corrs=[corr_ll,corr_ggl,corr_gg],store_win=True,\n",
    "               SSV_cov=SSV_cov,tidal_SSV_cov=tidal_SSV,do_xi=True,HT=WT_L,f_sky=f_sky,\n",
    "               bin_xi=bin_xi,theta_bins=th_bins)#ns=np.inf)\n",
    "print('NW done')"
   ]
  },
  {
   "cell_type": "code",
   "execution_count": null,
   "metadata": {},
   "outputs": [],
   "source": [
    "# %time clG=XI_W_L.cl_tomo()\n",
    "%time clG_nw=XI_W_L_NW.cl_tomo()\n",
    "#%time clH=XI_H.cl_tomo()"
   ]
  },
  {
   "cell_type": "code",
   "execution_count": null,
   "metadata": {},
   "outputs": [],
   "source": [
    "clG['stack'].visualize()"
   ]
  },
  {
   "cell_type": "code",
   "execution_count": null,
   "metadata": {},
   "outputs": [],
   "source": [
    "cl_L=None"
   ]
  },
  {
   "cell_type": "code",
   "execution_count": null,
   "metadata": {},
   "outputs": [],
   "source": [
    "%time cl_L_nw=clG_nw['stack'].compute()"
   ]
  },
  {
   "cell_type": "code",
   "execution_count": null,
   "metadata": {},
   "outputs": [],
   "source": [
    "clG['cl'].keys()"
   ]
  },
  {
   "cell_type": "raw",
   "metadata": {},
   "source": [
    "Win={corr:{(i,j): corr+(i,j) for (i,j) in XI_W_L.corr_indxs[corr]} for corr in XI_W_L.corrs}\n",
    "Win2={corr[::-1]:{(i,j): corr+(i,j) for (j,i) in XI_W_L.corr_indxs[corr]} for corr in XI_W_L.corrs}\n",
    "\n",
    "#         self.Win.update({corr[::-1]:{(i,j): delayed(self.get_window_power_cl)(corr[::-1],(i,j)) for (j,i) in corr_indxs[corr]} for corr in corrs})"
   ]
  },
  {
   "cell_type": "raw",
   "metadata": {},
   "source": [
    "tr='galaxy'\n",
    "tr2='shear'\n",
    "corr_t=(tr, tr)\n",
    "corrs_t=(tr,tr,tr,tr)\n",
    "indxs_t=(0,0,0,0)\n",
    "indx_t=(0,0)"
   ]
  },
  {
   "cell_type": "raw",
   "metadata": {},
   "source": [
    "from dask.threaded import get"
   ]
  },
  {
   "cell_type": "raw",
   "metadata": {},
   "source": [
    "def return_dict(result):\n",
    "    dic={}\n",
    "    i=0\n",
    "    print(result)\n",
    "    for corr in [(tr,tr),(tr2,tr2)]:\n",
    "        dic[corr]={}\n",
    "        for (i,j) in [(0,0),(1,1)]:\n",
    "            dic[corr][(i,j)]=result[i]\n",
    "            dic[corr[::-1]][(j,i)]=result[i]\n",
    "            i+=1\n",
    "    return dic\n",
    "\n",
    "def return_dict2(result):\n",
    "    dic={}\n",
    "    i=0\n",
    "    print(result)\n",
    "    for corr in [(tr,tr),(tr2,tr2)]:\n",
    "        dic[corr]={}\n",
    "        for (i,j) in [(0,0),(1,1)]:\n",
    "            dic[corr][(i,j)]=result[corr][(i,j)]\n",
    "            dic[corr[::-1]][(j,i)]=result[corr][(i,j)]\n",
    "            i+=1\n",
    "    return dic"
   ]
  },
  {
   "cell_type": "raw",
   "metadata": {},
   "source": [
    "dsk2={corr+indx: delayed(XI_W_L.Win.get_window_power_cl)(corr,indx) for indx in [(0,0),(1,1)] for corr in [(tr,tr),(tr2,tr2)]}\n",
    "      \n",
    "# dsk22= {'W1': (return_dict2, {corr:{indx:corr+indx for indx in [(0,0),(1,1)]} for corr in [(tr,tr),(tr2,tr2)]}) }\n",
    "dsk22= {'W1': (return_dict, [corr+indx for corr in [(tr,tr),(tr2,tr2)] for indx in [(0,0),(1,1)]]) }"
   ]
  },
  {
   "cell_type": "raw",
   "metadata": {},
   "source": [
    "[corr+indx for corr in [(tr,tr),(tr2,tr2)] for indx in [(0,0),(1,1)] ]"
   ]
  },
  {
   "cell_type": "raw",
   "metadata": {},
   "source": [
    "dsk2.update(dsk22)"
   ]
  },
  {
   "cell_type": "raw",
   "metadata": {},
   "source": [
    "dsk2['W1']"
   ]
  },
  {
   "cell_type": "raw",
   "metadata": {},
   "source": [
    "%time ww=get(dsk2,'W1')"
   ]
  },
  {
   "cell_type": "raw",
   "metadata": {},
   "source": [
    "ww"
   ]
  },
  {
   "cell_type": "raw",
   "metadata": {},
   "source": [
    "dask.__version__"
   ]
  },
  {
   "cell_type": "raw",
   "metadata": {},
   "source": [
    "dask.visualize(dsk2)"
   ]
  },
  {
   "cell_type": "raw",
   "metadata": {},
   "source": [
    "x=get(dsk2,(tr,tr,0,0))"
   ]
  },
  {
   "cell_type": "raw",
   "metadata": {},
   "source": [
    "x"
   ]
  },
  {
   "cell_type": "code",
   "execution_count": null,
   "metadata": {},
   "outputs": [],
   "source": [
    "XI_W_L.Win.Win_cov"
   ]
  },
  {
   "cell_type": "code",
   "execution_count": null,
   "metadata": {},
   "outputs": [],
   "source": [
    "dask.visualize(XI_W_L.Win.Win_cov)"
   ]
  },
  {
   "cell_type": "raw",
   "metadata": {},
   "source": [
    "crash"
   ]
  },
  {
   "cell_type": "raw",
   "metadata": {},
   "source": [
    "XI_W_L.l_bins=l_bins\n",
    "XI_W_L_NW.l_bins=l_bins\n",
    "XI_W_L.set_HT(HT=WT_L,HT_kwargs=None)\n",
    "XI_W_L_NW.set_HT(HT=WT_L,HT_kwargs=None)\n",
    "XI_W_L.set_bin_params()\n",
    "XI_W_L_NW.set_bin_params()"
   ]
  },
  {
   "cell_type": "raw",
   "metadata": {},
   "source": [
    "corr=('shear','shear')"
   ]
  },
  {
   "cell_type": "raw",
   "metadata": {},
   "source": [
    "gg_i=[(i,i) for i in np.arange(zl_bins['n_bins'])]\n",
    "XI_W_L.stack_indxs[corr_gg]=gg_i\n"
   ]
  },
  {
   "cell_type": "raw",
   "metadata": {},
   "source": [
    "# %time xiHG=XI_H.xi_tomo()\n",
    "# %time xiHG2=XI_H2.xi_tomo()\n",
    "%time xiWG_L=XI_W_L.xi_tomo()\n",
    "%time xiWG_L_nw=XI_W_L_NW.xi_tomo()"
   ]
  },
  {
   "cell_type": "code",
   "execution_count": null,
   "metadata": {},
   "outputs": [],
   "source": [
    "bi=(0,0)\n",
    "corr=corr_gg\n",
    "cov_t=clG['cov'][corr+corr][(0,0,0,0)].compute()\n",
    "cl_bt=clG['cl_b'][corr][(0,0)].compute()\n",
    "cl_btnw=clG_nw['cl_b'][corr][(0,0)].compute()\n",
    "cov_tnw=clG_nw['cov'][corr+corr][(0,0,0,0)].compute()"
   ]
  },
  {
   "cell_type": "code",
   "execution_count": null,
   "metadata": {},
   "outputs": [],
   "source": [
    "plot(np.diag(cov_t['final_b']))\n",
    "plot(cl_bt**2)\n",
    "plot(np.diag(cov_tnw['final_b']),':')\n",
    "plot(cl_btnw**2,':')\n",
    "loglog()"
   ]
  },
  {
   "cell_type": "code",
   "execution_count": null,
   "metadata": {},
   "outputs": [],
   "source": [
    "cc=XI_W_K.cov_utils\n",
    "corrW=cc.corr_matrix(cov_t['final_b'])\n",
    "corrW-=np.diag(np.diag(corrW))\n",
    "pcolor(corrW,vmin=-.1,vmax=.1,cmap='seismic')\n",
    "xticks([])\n",
    "yticks([])\n",
    "colorbar()\n",
    "show()\n",
    "\n"
   ]
  },
  {
   "cell_type": "code",
   "execution_count": null,
   "metadata": {},
   "outputs": [],
   "source": [
    "cc=XI_W_K.cov_utils\n",
    "corrW=cc.corr_matrix(cl_L_nw['cov'])\n",
    "pcolor(corrW,vmin=-1,vmax=1,cmap='seismic')\n",
    "xticks([])\n",
    "yticks([])\n",
    "colorbar()\n",
    "show()\n"
   ]
  },
  {
   "cell_type": "code",
   "execution_count": null,
   "metadata": {},
   "outputs": [],
   "source": [
    "cc=XI_W_K.cov_utils\n",
    "corrW=cc.corr_matrix(cl_L['cov'])\n",
    "pcolor(corrW,vmin=-1,vmax=1,cmap='seismic')\n",
    "# xlabel(r'$\\theta$ (degrees)')\n",
    "# ylabel(r'$\\theta$ (degrees)')\n",
    "title('Wigner')\n",
    "# hlines(60,0,120)\n",
    "# vlines(60,0,120)\n",
    "xticks([])\n",
    "yticks([])\n",
    "\n",
    "\n",
    "colorbar()\n",
    "show()\n",
    "# corrL=cc.corr_matrix(clL['cov'])\n",
    "# pcolor(corrL,vmin=-1,vmax=1,cmap='seismic')"
   ]
  },
  {
   "cell_type": "code",
   "execution_count": null,
   "metadata": {},
   "outputs": [],
   "source": [
    "linalg.cond(cl_L['cov']) #< 1/sys.float_info.epsilon"
   ]
  },
  {
   "cell_type": "code",
   "execution_count": null,
   "metadata": {},
   "outputs": [],
   "source": [
    "N=np.linalg.norm(cl_L['cov'])\n",
    "np.linalg.det(cl_L['cov']*5.e20)"
   ]
  },
  {
   "cell_type": "code",
   "execution_count": null,
   "metadata": {
    "scrolled": true
   },
   "outputs": [],
   "source": [
    "cov_inv=np.linalg.inv(cl_L['cov'])\n",
    "cov_nw_inv=np.linalg.inv(cl_L_nw['cov'])\n",
    "SN=cl_L['cl_b']@cov_inv@cl_L['cl_b']\n",
    "SN_nw=cl_L_nw['cl_b']@cov_nw_inv@cl_L_nw['cl_b']\n",
    "SN,SN_nw,SN/SN_nw"
   ]
  },
  {
   "cell_type": "raw",
   "metadata": {},
   "source": [
    "%time xiH=xiHG['stack'].compute()\n",
    "#%time xiH2=xiHG2['stack'].compute()\n",
    "# %time xiH2=xiHG2['stack'].compute()"
   ]
  },
  {
   "cell_type": "code",
   "execution_count": null,
   "metadata": {},
   "outputs": [],
   "source": [
    "crash"
   ]
  },
  {
   "cell_type": "raw",
   "metadata": {},
   "source": [
    "tr='galaxy'\n",
    "corr_t=(tr, tr)\n",
    "corrs_t=(tr,tr,tr,tr)\n",
    "indxs_t=(0,0,0,0)\n",
    "indx_t=(0,0)\n",
    "win_t=XI_W_L.Win.Win['cov'][corrs_t][indxs_t]['M1423'].compute()\n",
    "win0_t=XI_W_L.Win.Win[corr_t][indx_t]['M'].compute()\n",
    "cl_t=clG['cl_b'][corr_t].compute()[corr_t][indx_t]\n",
    "cl_t_nw=clG_nw['cl_b'][corr_t].compute()[corr_t][indx_t]\n",
    "cov_t=clG['cov'][corrs_t][indxs_t].compute()\n",
    "cov_t_nw=clG_nw['cov'][corrs_t][indxs_t].compute()\n",
    "l=XI_W_L.l\n",
    "\n",
    "cov_inv=np.linalg.inv(cov_t['final_b'])\n",
    "cov_nw_inv=np.linalg.inv(cov_t_nw['final_b'])\n",
    "SN=cl_t@cov_inv@cl_t\n",
    "SN_nw=cl_t_nw@cov_nw_inv@cl_t_nw\n",
    "SN,SN_nw,SN/SN_nw"
   ]
  },
  {
   "cell_type": "raw",
   "metadata": {},
   "source": [
    "M_inv=np.linalg.inv(win0_t)\n",
    "cvv=M_inv@cov_t['final']@M_inv.T\n",
    "# np.diag(cov_t['final'])/np.diag(cov_t_nw['final']),np.diag(cvv)/np.diag(cov_t_nw['final'])"
   ]
  },
  {
   "cell_type": "code",
   "execution_count": null,
   "metadata": {
    "scrolled": false
   },
   "outputs": [],
   "source": [
    "%time xiW_L=xiWG_L['stack'].compute()\n",
    "%time xiW_L_nw=xiWG_L_nw['stack'].compute()"
   ]
  },
  {
   "cell_type": "code",
   "execution_count": null,
   "metadata": {},
   "outputs": [],
   "source": [
    "clG['cl_b'].keys()"
   ]
  },
  {
   "cell_type": "code",
   "execution_count": null,
   "metadata": {},
   "outputs": [],
   "source": [
    "XI_W_L.corrs"
   ]
  },
  {
   "cell_type": "code",
   "execution_count": null,
   "metadata": {},
   "outputs": [],
   "source": [
    "XI_W_L.Win.Win.keys()"
   ]
  },
  {
   "cell_type": "raw",
   "metadata": {},
   "source": [
    "#crash\n",
    "fname='cosmolike_covariance_test_wigner_3x2.pkl'\n",
    "with open(fname,\"wb\") as of:\n",
    "    pickle.dump(xiW_L,of)"
   ]
  },
  {
   "cell_type": "code",
   "execution_count": null,
   "metadata": {},
   "outputs": [],
   "source": [
    "f=1\n",
    "xiW_L_nw_inv=np.linalg.inv(xiW_L_nw['cov']*f)\n",
    "print ((np.dot(xiW_L_nw['xi'],np.dot(xiW_L_nw_inv,xiW_L_nw['xi']))))\n",
    "\n",
    "cov_xiWL_inv=np.linalg.inv(xiW_L['cov']*f)\n",
    "print ((np.dot(xiW_L['xi'],np.dot(cov_xiWL_inv,xiW_L['xi']))))"
   ]
  },
  {
   "cell_type": "code",
   "execution_count": null,
   "metadata": {},
   "outputs": [],
   "source": [
    "pcolor(xiW_L_nw['cov']/xiW_L['cov'])\n",
    "colorbar()"
   ]
  },
  {
   "cell_type": "code",
   "execution_count": null,
   "metadata": {},
   "outputs": [],
   "source": [
    "pcolor(xiW_L_nw_inv/cov_xiWL_inv)\n",
    "colorbar()"
   ]
  },
  {
   "cell_type": "raw",
   "metadata": {},
   "source": [
    "cc=XI_H.cov_utils\n",
    "corrH=cc.corr_matrix(xiH['cov'])\n",
    "pcolor(corrH,vmin=-1,vmax=1,cmap='seismic')\n",
    "# xlabel(r'$\\theta$ (degrees)')\n",
    "# ylabel(r'$\\theta$ (degrees)')\n",
    "title('Hankel')\n",
    "# hlines(60,0,120)\n",
    "# vlines(60,0,120)\n",
    "xticks([])\n",
    "yticks([])\n",
    "\n",
    "\n",
    "colorbar()\n",
    "show()\n",
    "# corrL=cc.corr_matrix(clL['cov'])\n",
    "# pcolor(corrL,vmin=-1,vmax=1,cmap='seismic')"
   ]
  },
  {
   "cell_type": "code",
   "execution_count": null,
   "metadata": {},
   "outputs": [],
   "source": [
    "cc=XI_W_L.cov_utils\n",
    "corrW=cc.corr_matrix(cl_L['cov'])\n",
    "pcolor(corrW,vmin=-1,vmax=1,cmap='seismic')\n",
    "# xlabel(r'$\\theta$ (degrees)')\n",
    "# ylabel(r'$\\theta$ (degrees)')\n",
    "title('$C_\\ell$')\n",
    "# hlines(60,0,120)\n",
    "# vlines(60,0,120)\n",
    "xticks([])\n",
    "yticks([])\n",
    "\n",
    "\n",
    "colorbar()\n",
    "show()\n",
    "# corrL=cc.corr_matrix(clL['cov'])\n",
    "# pcolor(corrL,vmin=-1,vmax=1,cmap='seismic')"
   ]
  },
  {
   "cell_type": "code",
   "execution_count": null,
   "metadata": {},
   "outputs": [],
   "source": [
    "cc=XI_W_L.cov_utils\n",
    "corrW=cc.corr_matrix(cl_L_nw['cov'])\n",
    "pcolor(corrW,vmin=-1,vmax=1,cmap='seismic')\n",
    "# xlabel(r'$\\theta$ (degrees)')\n",
    "# ylabel(r'$\\theta$ (degrees)')\n",
    "title('$C_\\ell$-NW')\n",
    "# hlines(60,0,120)\n",
    "# vlines(60,0,120)\n",
    "xticks([])\n",
    "yticks([])\n",
    "\n",
    "\n",
    "colorbar()\n",
    "show()\n",
    "# corrL=cc.corr_matrix(clL['cov'])\n",
    "# pcolor(corrL,vmin=-1,vmax=1,cmap='seismic')"
   ]
  },
  {
   "cell_type": "code",
   "execution_count": null,
   "metadata": {},
   "outputs": [],
   "source": [
    "R=np.diag(cl_L_nw['cov']/cl_L['cov'])\n",
    "plot(R)"
   ]
  },
  {
   "cell_type": "code",
   "execution_count": null,
   "metadata": {},
   "outputs": [],
   "source": [
    "cc=XI_W_L.cov_utils\n",
    "corrW=cc.corr_matrix(xiW_L['cov'])\n",
    "pcolor(corrW,vmin=-1,vmax=1,cmap='seismic')\n",
    "# xlabel(r'$\\theta$ (degrees)')\n",
    "# ylabel(r'$\\theta$ (degrees)')\n",
    "title('Wigner')\n",
    "# hlines(60,0,120)\n",
    "# vlines(60,0,120)\n",
    "xticks([])\n",
    "yticks([])\n",
    "\n",
    "\n",
    "colorbar()\n",
    "show()\n",
    "# corrL=cc.corr_matrix(clL['cov'])\n",
    "# pcolor(corrL,vmin=-1,vmax=1,cmap='seismic')"
   ]
  },
  {
   "cell_type": "code",
   "execution_count": null,
   "metadata": {},
   "outputs": [],
   "source": [
    "cc=XI_W_L.cov_utils\n",
    "corrNW=cc.corr_matrix(xiW_L_nw['cov'])\n",
    "pcolor(corrNW,vmin=-1,vmax=1,cmap='seismic')\n",
    "# xlabel(r'$\\theta$ (degrees)')\n",
    "# ylabel(r'$\\theta$ (degrees)')\n",
    "title('Wigner')\n",
    "# hlines(60,0,120)\n",
    "# vlines(60,0,120)\n",
    "xticks([])\n",
    "yticks([])\n",
    "\n",
    "\n",
    "colorbar()\n",
    "show()\n",
    "# corrL=cc.corr_matrix(clL['cov'])\n",
    "# pcolor(corrL,vmin=-1,vmax=1,cmap='seismic')"
   ]
  },
  {
   "cell_type": "code",
   "execution_count": null,
   "metadata": {},
   "outputs": [],
   "source": [
    "pcolor(corrW/corrNW-1,vmin=-1,vmax=1,cmap='seismic')\n",
    "# xlabel(r'$\\theta$ (degrees)')\n",
    "# ylabel(r'$\\theta$ (degrees)')\n",
    "title('Wigner')\n",
    "# hlines(60,0,120)\n",
    "# vlines(60,0,120)\n",
    "xticks([])\n",
    "yticks([])\n",
    "\n",
    "\n",
    "colorbar()\n",
    "show()\n",
    "# corrL=cc.corr_matrix(clL['cov'])\n",
    "# pcolor(corrL,vmin=-1,vmax=1,cmap='seismic')"
   ]
  },
  {
   "cell_type": "code",
   "execution_count": null,
   "metadata": {},
   "outputs": [],
   "source": [
    "XI_W_L.cov_utils.gaussian_cov_norm_2D"
   ]
  },
  {
   "cell_type": "code",
   "execution_count": null,
   "metadata": {},
   "outputs": [],
   "source": [
    "np.diag(xiW_L_nw['cov'])/np.diag(xiW_L['cov'])"
   ]
  },
  {
   "cell_type": "code",
   "execution_count": null,
   "metadata": {},
   "outputs": [],
   "source": [
    "5.25/1.93"
   ]
  },
  {
   "cell_type": "code",
   "execution_count": null,
   "metadata": {},
   "outputs": [],
   "source": [
    "x=np.array([1,0.5,0.1,0.3,0.7])\n",
    "plot(x,[1,1.93,5.25,2.85,1.37],'bo')\n",
    "plot(x,1./x,'ro')\n",
    "yscale('log')\n",
    "xscale('log')"
   ]
  },
  {
   "cell_type": "code",
   "execution_count": null,
   "metadata": {},
   "outputs": [],
   "source": [
    "xiW_L_nw['cov']/xiW_L['cov']"
   ]
  },
  {
   "cell_type": "code",
   "execution_count": null,
   "metadata": {},
   "outputs": [],
   "source": [
    "xiW_L_nw['xi']/xiW_L['xi']"
   ]
  },
  {
   "cell_type": "code",
   "execution_count": null,
   "metadata": {},
   "outputs": [],
   "source": []
  }
 ],
 "metadata": {
  "hide_input": false,
  "kernelspec": {
   "display_name": "Python 3",
   "language": "python",
   "name": "python3"
  },
  "language_info": {
   "codemirror_mode": {
    "name": "ipython",
    "version": 3
   },
   "file_extension": ".py",
   "mimetype": "text/x-python",
   "name": "python",
   "nbconvert_exporter": "python",
   "pygments_lexer": "ipython3",
   "version": "3.7.2"
  }
 },
 "nbformat": 4,
 "nbformat_minor": 2
}
