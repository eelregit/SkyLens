{
 "cells": [
  {
   "cell_type": "code",
   "execution_count": 1,
   "metadata": {},
   "outputs": [],
   "source": [
    "import sys\n",
    "import pickle\n",
    "sys.path.insert(0,'./')\n",
    "import pyccl as ccl\n",
    "import tracemalloc\n",
    "\n",
    "\n",
    "# from importlib import reload"
   ]
  },
  {
   "cell_type": "code",
   "execution_count": 2,
   "metadata": {},
   "outputs": [
    {
     "name": "stdout",
     "output_type": "stream",
     "text": [
      "0\n",
      "1\n"
     ]
    }
   ],
   "source": [
    "ww=np.arange(100)\n",
    "for i in ww[:2]:\n",
    "    print (i)"
   ]
  },
  {
   "cell_type": "code",
   "execution_count": 3,
   "metadata": {},
   "outputs": [
    {
     "data": {
      "text/plain": [
       "2"
      ]
     },
     "execution_count": 3,
     "metadata": {},
     "output_type": "execute_result"
    }
   ],
   "source": [
    "x={1:1,0:0}\n",
    "1+ (x.get(1) or 0)"
   ]
  },
  {
   "cell_type": "code",
   "execution_count": 4,
   "metadata": {},
   "outputs": [],
   "source": [
    "import dask\n",
    "from distributed import LocalCluster\n",
    "from dask.distributed import Client  # we already had this above\n",
    "#http://distributed.readthedocs.io/en/latest/_modules/distributed/worker.html\n",
    "LC=LocalCluster(n_workers=10,processes=False,memory_limit='50gb',threads_per_worker=1,memory_spill_fraction=.99,)\n",
    "#                memory_monitor_interval='2000ms',worker_memory_limit='50gb')\n",
    "client=Client(LC)\n",
    "# dask.config.set(scheduler='single-threaded')"
   ]
  },
  {
   "cell_type": "code",
   "execution_count": 5,
   "metadata": {},
   "outputs": [
    {
     "data": {
      "text/html": [
       "<table style=\"border: 2px solid white;\">\n",
       "<tr>\n",
       "<td style=\"vertical-align: top; border: 0px solid white\">\n",
       "<h3>Client</h3>\n",
       "<ul>\n",
       "  <li><b>Scheduler: </b>inproc://136.152.250.183/17434/1\n",
       "  <li><b>Dashboard: </b><a href='http://localhost:35427/status' target='_blank'>http://localhost:35427/status</a>\n",
       "</ul>\n",
       "</td>\n",
       "<td style=\"vertical-align: top; border: 0px solid white\">\n",
       "<h3>Cluster</h3>\n",
       "<ul>\n",
       "  <li><b>Workers: </b>10</li>\n",
       "  <li><b>Cores: </b>10</li>\n",
       "  <li><b>Memory: </b>500.00 GB</li>\n",
       "</ul>\n",
       "</td>\n",
       "</tr>\n",
       "</table>"
      ],
      "text/plain": [
       "<Client: scheduler='inproc://136.152.250.183/17434/1' processes=10 cores=10>"
      ]
     },
     "execution_count": 5,
     "metadata": {},
     "output_type": "execute_result"
    }
   ],
   "source": [
    "client"
   ]
  },
  {
   "cell_type": "code",
   "execution_count": 6,
   "metadata": {},
   "outputs": [
    {
     "data": {
      "text/html": [
       "<table style=\"border: 2px solid white;\">\n",
       "<tr>\n",
       "<td style=\"vertical-align: top; border: 0px solid white\">\n",
       "<h3>Client</h3>\n",
       "<ul>\n",
       "  <li><b>Scheduler: </b>inproc://136.152.250.183/17434/1\n",
       "  <li><b>Dashboard: </b><a href='http://localhost:35427/status' target='_blank'>http://localhost:35427/status</a>\n",
       "</ul>\n",
       "</td>\n",
       "<td style=\"vertical-align: top; border: 0px solid white\">\n",
       "<h3>Cluster</h3>\n",
       "<ul>\n",
       "  <li><b>Workers: </b>10</li>\n",
       "  <li><b>Cores: </b>10</li>\n",
       "  <li><b>Memory: </b>500.00 GB</li>\n",
       "</ul>\n",
       "</td>\n",
       "</tr>\n",
       "</table>"
      ],
      "text/plain": [
       "<Client: scheduler='inproc://136.152.250.183/17434/1' processes=10 cores=10>"
      ]
     },
     "execution_count": 6,
     "metadata": {},
     "output_type": "execute_result"
    }
   ],
   "source": [
    "client.restart()"
   ]
  },
  {
   "cell_type": "code",
   "execution_count": 7,
   "metadata": {},
   "outputs": [],
   "source": [
    "from cov_3X2 import *\n",
    "# from fisher import *"
   ]
  },
  {
   "cell_type": "code",
   "execution_count": 8,
   "metadata": {},
   "outputs": [],
   "source": [
    "#only for python3\n",
    "import importlib\n",
    "reload=importlib.reload"
   ]
  },
  {
   "cell_type": "markdown",
   "metadata": {},
   "source": [
    "# Lensing X Lensing Correlation function covariance"
   ]
  },
  {
   "cell_type": "markdown",
   "metadata": {},
   "source": [
    "## Multiple redshift bins (Tomography)"
   ]
  },
  {
   "cell_type": "code",
   "execution_count": 9,
   "metadata": {},
   "outputs": [],
   "source": [
    "from lsst_utils import *"
   ]
  },
  {
   "cell_type": "code",
   "execution_count": 10,
   "metadata": {},
   "outputs": [],
   "source": [
    "import cov_utils\n",
    "reload(cov_utils)\n",
    "from cov_utils import *"
   ]
  },
  {
   "cell_type": "code",
   "execution_count": 11,
   "metadata": {},
   "outputs": [],
   "source": [
    "import window_utils\n",
    "reload(window_utils)\n",
    "from window_utils import *"
   ]
  },
  {
   "cell_type": "code",
   "execution_count": 12,
   "metadata": {},
   "outputs": [],
   "source": [
    "import cov_3X2\n",
    "reload(cov_3X2)\n",
    "from cov_3X2 import *\n",
    "from wigner_transform import *"
   ]
  },
  {
   "cell_type": "code",
   "execution_count": 13,
   "metadata": {},
   "outputs": [],
   "source": [
    "import hankel_transform\n",
    "from astropy.io import fits\n",
    "reload(hankel_transform)\n",
    "from hankel_transform import *\n"
   ]
  },
  {
   "cell_type": "raw",
   "metadata": {},
   "source": [
    "Omega_m : 0.2837\n",
    "Omega_v : 0.7163\n",
    "sigma_8 : 0.795431\n",
    "n_spec : 0.96859\n",
    "w0 : -1.0\n",
    "wa : 0.0\n",
    "omb : 0.062\n",
    "h0 : 0.8433"
   ]
  },
  {
   "cell_type": "code",
   "execution_count": 14,
   "metadata": {},
   "outputs": [
    {
     "data": {
      "text/plain": [
       "0.7971166462048332"
      ]
     },
     "execution_count": 14,
     "metadata": {},
     "output_type": "execute_result"
    }
   ],
   "source": [
    "cosmo_params={'h': 0.8433,\n",
    " 'Omb': 0.062,\n",
    " 'Omd': 0.2837-0.062,\n",
    " 's8': 0.795431,\n",
    " 'Om': 0.2837,\n",
    " 'As': 1.685e-09,\n",
    " 'Ase9': 1.685,\n",
    " 'mnu': 0.0,\n",
    " 'Omk': 0.0,\n",
    " 'tau': 0.06,\n",
    " 'ns': 0.96859,\n",
    " 'w': -1,\n",
    " 'wa': 0,\n",
    " 'Oml': 1.-0.2837}\n",
    "PS=Power_Spectra(cosmo_params=cosmo_params)\n",
    "k,pk,s8=PS.camb_pk(z=[0],cosmo_params=cosmo_params,return_s8=True)\n",
    "s8"
   ]
  },
  {
   "cell_type": "code",
   "execution_count": 15,
   "metadata": {},
   "outputs": [],
   "source": [
    "mnu=cosmo_h.m_nu*0\n",
    "cosmo=cosmo.clone(m_nu=mnu,Ob0=cosmo_params['Omb'],Om0=cosmo_params['Om'])\n",
    "cosmo_h=cosmo.clone(H0=100) #,m_nu=mnu,Ob0=cosmo_params['Omb'],Om0=cosmo_params['Om'])\n",
    "ccl_cosmo = ccl.Cosmology(Omega_c=cosmo_params['Omd'], Omega_b=cosmo_params['Omb'], \n",
    "                      h=cosmo_params['h'], A_s=cosmo_params['As'], n_s=cosmo_params['ns'],)#m_nu=[0,0,0.06])"
   ]
  },
  {
   "cell_type": "code",
   "execution_count": 16,
   "metadata": {},
   "outputs": [],
   "source": [
    "use_window=True\n",
    "do_sample_variance=True\n",
    "SSV_cov=True\n",
    "tidal_SSV=True\n",
    "Tri_cov=False\n",
    "sigma_gamma=0.3944/sqrt(2.)  #*2**0.25"
   ]
  },
  {
   "cell_type": "code",
   "execution_count": 17,
   "metadata": {},
   "outputs": [],
   "source": [
    "f_sky=.7 #3000./(4*np.pi/d2r**2)\n",
    "f_sky\n",
    "\n",
    "nside=128"
   ]
  },
  {
   "cell_type": "code",
   "execution_count": 18,
   "metadata": {},
   "outputs": [
    {
     "name": "stderr",
     "output_type": "stream",
     "text": [
      "./cov_utils.py:62: RuntimeWarning: invalid value encountered in true_divide\n",
      "  Win0=2*jn(1,l_th)/l_th\n",
      "./angular_power_spectra.py:23: RuntimeWarning: divide by zero encountered in true_divide\n",
      "  self.cl_f=(l+0.5)**2/(l*(l+1.)) # cl correction from Kilbinger+ 2017\n",
      "/usr/lib/python3.7/site-packages/astropy/units/quantity.py:639: RuntimeWarning: divide by zero encountered in true_divide\n",
      "  result = super().__array_ufunc__(function, method, *arrays, **kwargs)\n"
     ]
    },
    {
     "name": "stdout",
     "output_type": "stream",
     "text": [
      "cl dict done\n"
     ]
    },
    {
     "name": "stderr",
     "output_type": "stream",
     "text": [
      "/usr/lib/python3.7/site-packages/healpy/sphtfunc.py:402: FutureChangeWarning: The order of the input cl's will change in a future release.\n",
      "Use new=True keyword to start using the new order.\n",
      "See documentation of healpy.synalm.\n",
      "  category=FutureChangeWarning,\n"
     ]
    },
    {
     "name": "stdout",
     "output_type": "stream",
     "text": [
      "Sigma is 0.000000 arcmin (0.000000 rad) \n",
      "-> fwhm is 0.000000 arcmin\n",
      "cl dict done\n",
      "Sigma is 0.000000 arcmin (0.000000 rad) \n",
      "-> fwhm is 0.000000 arcmin\n"
     ]
    }
   ],
   "source": [
    "zmin=0.3\n",
    "zmax=2\n",
    "\n",
    "z=np.linspace(0,5,200)\n",
    "pzs=lsst_pz_source(z=z)\n",
    "x=z<zmax\n",
    "x*=z>zmin\n",
    "z=z[x]\n",
    "pzs=pzs[x]\n",
    "\n",
    "ns0=26 #26+np.inf #ns=inf means shape noise is zero\n",
    "nbins=1  # Number of tomographic bins\n",
    "z_sigma=0.03\n",
    "zs_bins=source_tomo_bins(zp=z,p_zp=pzs,ns=ns0,nz_bins=nbins,use_window=use_window,f_sky=f_sky,window_cl_fact=0,\n",
    "                         ztrue_func=ztrue_given_pz_Gaussian,zp_bias=np.zeros_like(z),sigma_gamma=sigma_gamma,\n",
    "                        zp_sigma=z_sigma*np.ones_like(z),nside=nside)\n",
    "\n",
    "ng0=10 #26+np.inf #ns=inf means shape noise is zero\n",
    "nlbins=1 # Number of tomographic bins\n",
    "z_sigma=0.005\n",
    "zl_bins=source_tomo_bins(zp=z,p_zp=pzs,ns=ng0,nz_bins=nlbins,use_window=use_window,f_sky=f_sky,\n",
    "                         ztrue_func=ztrue_given_pz_Gaussian,zp_bias=np.zeros_like(z),window_cl_fact=0,\n",
    "                        zp_sigma=z_sigma*np.ones_like(z),k_max=1.e6,nside=nside)\n",
    "for i in np.arange(nlbins):\n",
    "    zl_bins[i]['b1']=1"
   ]
  },
  {
   "cell_type": "code",
   "execution_count": 19,
   "metadata": {},
   "outputs": [
    {
     "name": "stdout",
     "output_type": "stream",
     "text": [
      "X\n"
     ]
    }
   ],
   "source": [
    "for a in ()+(\"X\",):\n",
    "    print (a)"
   ]
  },
  {
   "cell_type": "code",
   "execution_count": 20,
   "metadata": {},
   "outputs": [],
   "source": [
    "do_cov=True"
   ]
  },
  {
   "cell_type": "code",
   "execution_count": 21,
   "metadata": {},
   "outputs": [],
   "source": [
    "do_xi=True\n",
    "bin_xi=True\n",
    "bin_cl=True\n",
    "th_min=2.5/60\n",
    "th_max=250./60\n",
    "n_th_bins=20\n",
    "th_bins=np.logspace(np.log10(th_min),np.log10(th_max),n_th_bins+1)\n",
    "th=np.logspace(np.log10(th_min*0.98),np.log10(1),n_th_bins*30)\n",
    "th2=np.linspace(1,th_max*1.02,n_th_bins*30)\n",
    "# th2=np.logspace(np.log10(1),np.log10(th_max),60*6)\n",
    "th=np.unique(np.sort(np.append(th,th2)))\n",
    "thb=np.sqrt(th_bins[1:]*th_bins[:-1])"
   ]
  },
  {
   "cell_type": "code",
   "execution_count": 22,
   "metadata": {},
   "outputs": [],
   "source": [
    "#Hankel Transform setup\n",
    "l_max=1e3\n",
    "l_maxW=1e3\n",
    "l_min=2\n",
    "# nl=1e2\n",
    "# nl_bins=np.int(nl/10)\n",
    "# l0=np.logspace(np.log10(l_min),np.log10(l_maxW),nl)\n",
    "# l0=np.append([0,1],l0)\n",
    "# l0=np.unique(np.int32(l0))\n",
    "# l0_HT=l0\n",
    "l0=np.arange(l_min,l_max)\n",
    "l0_HT=np.arange(l_max)\n",
    "nl_bins=20\n",
    "  #np.arange(l_min,l_max)\n",
    "# l0=np.unique(np.int32(np.logspace(np.log10(l_min),np.log10(l_maxW),4.e3)))   #np.arange(l_min,l_max)\n",
    "# l_bins=np.unique(np.int32(np.logspace(np.log10(l_min),np.log10(l_max),50)))\n",
    "l_bins=np.unique(np.int32(np.linspace(l_min,l_max,nl_bins)))\n",
    "prune_theta=0\n",
    "HT_kwargs={'l_min':l_min,  'l_max':l_max,\n",
    "                        'theta_min':th_min*d2r*.9, 'theta_max':th_max*d2r,\n",
    "                        'n_zeros':40000, 'prune_theta':prune_theta, 'm1_m2':[(2,2),(2,-2),(0,2),(0,0)]}\n",
    "# %time HT=hankel_transform(**HT_kwargs)\n",
    "# HT_kwargs2={'l_min':l_min,  'l_max':l_max,\n",
    "#                         'theta_min':th_min*d2r*.9, 'theta_max':th_max*d2r,\n",
    "#                         'n_zeros':40000, 'prune_theta':2, 'm1_m2':[(2,-2)]}#,(2,-2)]}"
   ]
  },
  {
   "cell_type": "code",
   "execution_count": 23,
   "metadata": {},
   "outputs": [],
   "source": [
    "power_spectra_kwargs={'cosmo':cosmo,'cosmo_params':cosmo_params,'pk_func':'camb_pk_too_many_z'}"
   ]
  },
  {
   "cell_type": "code",
   "execution_count": 24,
   "metadata": {},
   "outputs": [],
   "source": [
    "corr_ggl=('shear','galaxy')\n",
    "corr_ggk=('kappa','galaxy')\n",
    "corr_gg=('galaxy','galaxy')\n",
    "corr_ll=('shear','shear')\n",
    "corr_kk=('kappa','kappa')\n",
    "m1m2=(0,2)\n",
    "m1m2_gg=(0,0)"
   ]
  },
  {
   "cell_type": "code",
   "execution_count": 25,
   "metadata": {},
   "outputs": [
    {
     "name": "stderr",
     "output_type": "stream",
     "text": [
      "./wigner_functions.py:38: RuntimeWarning: invalid value encountered in true_divide\n",
      "  d_mat/=np.sqrt(binom(k+b,b))\n",
      "./wigner_functions.py:38: RuntimeWarning: divide by zero encountered in true_divide\n",
      "  d_mat/=np.sqrt(binom(k+b,b))\n",
      "./wigner_functions.py:38: RuntimeWarning: divide by zero encountered in true_divide\n",
      "  d_mat/=np.sqrt(binom(k+b,b))\n"
     ]
    },
    {
     "name": "stdout",
     "output_type": "stream",
     "text": [
      "CPU times: user 432 ms, sys: 902 ms, total: 1.33 s\n",
      "Wall time: 2.22 s\n"
     ]
    }
   ],
   "source": [
    "#### Wigner Transform setup... Using high ell to test convergence\n",
    "WT_L_kwargs={'l': l0_HT,'theta': th*d2r,'m1_m2':[(2,2),(2,-2),(0,2),(2,0),(0,0)]}\n",
    "%time WT_L=wigner_transform(**WT_L_kwargs)"
   ]
  },
  {
   "cell_type": "code",
   "execution_count": 26,
   "metadata": {},
   "outputs": [],
   "source": [
    "window_lmax=30\n",
    "bi=(0,0)\n",
    "\n"
   ]
  },
  {
   "cell_type": "code",
   "execution_count": 78,
   "metadata": {},
   "outputs": [],
   "source": [
    "import window_utils\n",
    "reload(window_utils)\n",
    "from window_utils import *\n",
    "\n",
    "import cov_3X2\n",
    "reload(cov_3X2)\n",
    "from cov_3X2 import *"
   ]
  },
  {
   "cell_type": "code",
   "execution_count": 79,
   "metadata": {},
   "outputs": [
    {
     "data": {
      "text/plain": [
       "1"
      ]
     },
     "execution_count": 79,
     "metadata": {},
     "output_type": "execute_result"
    }
   ],
   "source": [
    "np.int8(1)"
   ]
  },
  {
   "cell_type": "code",
   "execution_count": 80,
   "metadata": {},
   "outputs": [],
   "source": [
    "do_cov=False\n",
    "use_window=True"
   ]
  },
  {
   "cell_type": "code",
   "execution_count": 81,
   "metadata": {
    "scrolled": false
   },
   "outputs": [
    {
     "name": "stdout",
     "output_type": "stream",
     "text": [
      "wigner done dict_keys([0, 2])\n",
      "setting windows <Client: scheduler='inproc://136.152.250.183/17434/1' processes=10 cores=10>\n",
      "Cl windows done, now to covariance\n",
      "W done 2.873175621032715\n"
     ]
    }
   ],
   "source": [
    "tracemalloc.clear_traces()\n",
    "tracemalloc.start()\n",
    "\n",
    "t1=time.time()\n",
    "try:\n",
    "    Win=XI_W_L.Win.Win\n",
    "except:\n",
    "    Win=None\n",
    "XI_W_L= cov_3X2(zs_bins=zs_bins,l=l0,do_cov=do_cov,bin_cl=bin_cl,l_bins=l_bins,zg_bins=zl_bins,\n",
    "                do_sample_variance=do_sample_variance,use_window=use_window,window_lmax=window_lmax,\n",
    "                power_spectra_kwargs=power_spectra_kwargs,corrs=[corr_ll,corr_gg,corr_ggl]\n",
    "                ,store_win=True,Win=Win,\n",
    "               SSV_cov=SSV_cov,tidal_SSV_cov=tidal_SSV,do_xi=True,HT=WT_L,f_sky=f_sky,\n",
    "               bin_xi=bin_xi,theta_bins=th_bins)#ns=np.inf)\n",
    "t2=time.time()\n",
    "snapshot1 = tracemalloc.take_snapshot()\n",
    "print('W done',t2-t1)\n",
    "top_stats = snapshot1.statistics('lineno')"
   ]
  },
  {
   "cell_type": "code",
   "execution_count": 82,
   "metadata": {},
   "outputs": [],
   "source": [
    "top_stats = snapshot1.statistics('traceback')"
   ]
  },
  {
   "cell_type": "code",
   "execution_count": 83,
   "metadata": {},
   "outputs": [
    {
     "data": {
      "text/plain": [
       "(375826420, 2017502432)"
      ]
     },
     "execution_count": 83,
     "metadata": {},
     "output_type": "execute_result"
    }
   ],
   "source": [
    "tracemalloc.get_traced_memory()"
   ]
  },
  {
   "cell_type": "code",
   "execution_count": 84,
   "metadata": {},
   "outputs": [
    {
     "name": "stdout",
     "output_type": "stream",
     "text": [
      "8 memory blocks: 11.4 MiB\n",
      "  File \"/usr/lib/python3.7/site-packages/sparse/coo.py\", line 250\n",
      "    self.coords = self.coords.astype(dtype)\n"
     ]
    }
   ],
   "source": [
    "stat = top_stats[4]\n",
    "print(\"%s memory blocks: %.1f MiB\" % (stat.count, stat.size / 1024**2))\n",
    "for line in stat.traceback.format():\n",
    "    print(line)"
   ]
  },
  {
   "cell_type": "code",
   "execution_count": 75,
   "metadata": {},
   "outputs": [
    {
     "data": {
      "text/plain": [
       "[<Statistic traceback=<Traceback (<Frame filename='./window_utils.py' lineno=119>,)> size=124000368 count=9>,\n",
       " <Statistic traceback=<Traceback (<Frame filename='./window_utils.py' lineno=114>,)> size=124000368 count=9>,\n",
       " <Statistic traceback=<Traceback (<Frame filename='/usr/lib/python3.7/site-packages/numpy/core/einsumfunc.py' lineno=1346>,)> size=65524208 count=34>,\n",
       " <Statistic traceback=<Traceback (<Frame filename='./window_utils.py' lineno=87>,)> size=32001680 count=10>,\n",
       " <Statistic traceback=<Traceback (<Frame filename='./window_utils.py' lineno=237>,)> size=24000240 count=6>,\n",
       " <Statistic traceback=<Traceback (<Frame filename='/usr/lib/python3.7/site-packages/sparse/coo.py' lineno=250>,)> size=11982398 count=8>,\n",
       " <Statistic traceback=<Traceback (<Frame filename='/usr/lib/python3.7/site-packages/numpy/core/numeric.py' lineno=1203>,)> size=8000080 count=2>,\n",
       " <Statistic traceback=<Traceback (<Frame filename='./window_utils.py' lineno=239>,)> size=8000080 count=2>,\n",
       " <Statistic traceback=<Traceback (<Frame filename='/usr/lib/python3.7/site-packages/sparse/coo.py' lineno=311>,)> size=7988420 count=11>,\n",
       " <Statistic traceback=<Traceback (<Frame filename='./binning.py' lineno=16>,)> size=1111808 count=16>,\n",
       " <Statistic traceback=<Traceback (<Frame filename='/usr/lib/python3.7/linecache.py' lineno=137>,)> size=273142 count=2772>,\n",
       " <Statistic traceback=<Traceback (<Frame filename='/usr/lib/python3.7/site-packages/numpy/lib/function_base.py' lineno=792>,)> size=58056 count=31>,\n",
       " <Statistic traceback=<Traceback (<Frame filename='./binning.py' lineno=27>,)> size=56440 count=12>,\n",
       " <Statistic traceback=<Traceback (<Frame filename='./binning.py' lineno=14>,)> size=56440 count=12>,\n",
       " <Statistic traceback=<Traceback (<Frame filename='/usr/lib/python3.7/site-packages/distributed/profile.py' lineno=99>,)> size=45840 count=386>,\n",
       " <Statistic traceback=<Traceback (<Frame filename='/usr/lib/python3.7/site-packages/distributed/profile.py' lineno=98>,)> size=45456 count=382>,\n",
       " <Statistic traceback=<Traceback (<Frame filename='/usr/lib/python3.7/site-packages/distributed/profile.py' lineno=64>,)> size=43536 count=370>,\n",
       " <Statistic traceback=<Traceback (<Frame filename='/usr/lib/python3.7/site-packages/distributed/worker.py' lineno=2349>,)> size=40992 count=244>,\n",
       " <Statistic traceback=<Traceback (<Frame filename='/usr/lib/python3.7/site-packages/numpy/core/function_base.py' lineno=279>,)> size=40160 count=3>,\n",
       " <Statistic traceback=<Traceback (<Frame filename='/usr/lib/python3.7/site-packages/toolz/dicttoolz.py' lineno=39>,)> size=34560 count=60>,\n",
       " <Statistic traceback=<Traceback (<Frame filename='/usr/lib/python3.7/site-packages/distributed/profile.py' lineno=45>,)> size=31478 count=282>,\n",
       " <Statistic traceback=<Traceback (<Frame filename='./wigner_transform.py' lineno=58>,)> size=29016 count=6>,\n",
       " <Statistic traceback=<Traceback (<Frame filename='/usr/lib/python3.7/site-packages/distributed/profile.py' lineno=60>,)> size=25524 count=270>,\n",
       " <Statistic traceback=<Traceback (<Frame filename='/usr/lib/python3.7/site-packages/tornado/platform/asyncio.py' lineno=145>,)> size=25408 count=338>,\n",
       " <Statistic traceback=<Traceback (<Frame filename='/usr/lib/python3.7/site-packages/distributed/protocol/serialize.py' lineno=313>,)> size=24704 count=134>,\n",
       " <Statistic traceback=<Traceback (<Frame filename='/usr/lib/python3.7/site-packages/tornado/stack_context.py' lineno=296>,)> size=24072 count=177>,\n",
       " <Statistic traceback=<Traceback (<Frame filename='/usr/lib/python3.7/site-packages/tornado/gen.py' lineno=307>,)> size=19544 count=113>,\n",
       " <Statistic traceback=<Traceback (<Frame filename='./tracer_utils.py' lineno=71>,)> size=16160 count=4>,\n",
       " <Statistic traceback=<Traceback (<Frame filename='/usr/lib/python3.7/asyncio/base_events.py' lineno=539>,)> size=14400 count=25>,\n",
       " <Statistic traceback=<Traceback (<Frame filename='/usr/lib/python3.7/asyncio/base_events.py' lineno=671>,)> size=13880 count=121>,\n",
       " <Statistic traceback=<Traceback (<Frame filename='/usr/lib/python3.7/site-packages/zarr/indexing.py' lineno=572>,)> size=13392 count=186>,\n",
       " <Statistic traceback=<Traceback (<Frame filename='/usr/lib/python3.7/site-packages/zarr/indexing.py' lineno=571>,)> size=13392 count=186>,\n",
       " <Statistic traceback=<Traceback (<Frame filename='/usr/lib/python3.7/site-packages/zarr/indexing.py' lineno=570>,)> size=13392 count=186>,\n",
       " <Statistic traceback=<Traceback (<Frame filename='/usr/lib/python3.7/site-packages/zarr/core.py' lineno=359>,)> size=13392 count=186>,\n",
       " <Statistic traceback=<Traceback (<Frame filename='/usr/lib/python3.7/site-packages/tornado/gen.py' lineno=1230>,)> size=12376 count=91>,\n",
       " <Statistic traceback=<Traceback (<Frame filename='/usr/lib/python3.7/asyncio/base_events.py' lineno=657>,)> size=11904 count=104>,\n",
       " <Statistic traceback=<Traceback (<Frame filename='/usr/lib/python3.7/site-packages/tornado/stack_context.py' lineno=303>,)> size=10320 count=94>,\n",
       " <Statistic traceback=<Traceback (<Frame filename='/usr/lib/python3.7/site-packages/tornado/ioloop.py' lineno=719>,)> size=9872 count=70>,\n",
       " <Statistic traceback=<Traceback (<Frame filename='/usr/lib/python3.7/site-packages/toolz/dicttoolz.py' lineno=37>,)> size=9792 count=128>,\n",
       " <Statistic traceback=<Traceback (<Frame filename='/usr/lib/python3.7/site-packages/tornado/gen.py' lineno=1233>,)> size=9504 count=18>,\n",
       " <Statistic traceback=<Traceback (<Frame filename='/usr/lib/python3.7/site-packages/tornado/platform/asyncio.py' lineno=154>,)> size=9048 count=83>,\n",
       " <Statistic traceback=<Traceback (<Frame filename='/usr/lib/python3.7/site-packages/tornado/ioloop.py' lineno=717>,)> size=8736 count=182>,\n",
       " <Statistic traceback=<Traceback (<Frame filename='/usr/lib/python3.7/site-packages/dask/delayed.py' lineno=29>,)> size=8296 count=122>,\n",
       " <Statistic traceback=<Traceback (<Frame filename='/usr/lib/python3.7/site-packages/tornado/gen.py' lineno=295>,)> size=8232 count=49>,\n",
       " <Statistic traceback=<Traceback (<Frame filename='/usr/lib/python3.7/site-packages/scipy/interpolate/interpolate.py' lineno=613>,)> size=8176 count=4>,\n",
       " <Statistic traceback=<Traceback (<Frame filename='./cov_utils.py' lineno=35>,)> size=8080 count=2>,\n",
       " <Statistic traceback=<Traceback (<Frame filename='./angular_power_spectra.py' lineno=23>,)> size=8080 count=2>,\n",
       " <Statistic traceback=<Traceback (<Frame filename='/usr/lib/python3.7/site-packages/distributed/profile.py' lineno=132>,)> size=7464 count=61>,\n",
       " <Statistic traceback=<Traceback (<Frame filename='/usr/lib/python3.7/site-packages/distributed/core.py' lineno=429>,)> size=7384 count=28>,\n",
       " <Statistic traceback=<Traceback (<Frame filename='/usr/lib/python3.7/site-packages/tornado/gen.py' lineno=187>,)> size=7040 count=55>,\n",
       " <Statistic traceback=<Traceback (<Frame filename='/usr/lib/python3.7/site-packages/tornado/gen.py' lineno=1235>,)> size=6624 count=138>,\n",
       " <Statistic traceback=<Traceback (<Frame filename='/usr/lib/python3.7/site-packages/tornado/gen.py' lineno=1080>,)> size=6336 count=12>,\n",
       " <Statistic traceback=<Traceback (<Frame filename='/usr/lib/python3.7/site-packages/dask/delayed.py' lineno=94>,)> size=6216 count=114>,\n",
       " <Statistic traceback=<Traceback (<Frame filename='/usr/lib/python3.7/functools.py' lineno=60>,)> size=6152 count=61>,\n",
       " <Statistic traceback=<Traceback (<Frame filename='/usr/lib/python3.7/site-packages/tornado/ioloop.py' lineno=758>,)> size=5984 count=27>,\n",
       " <Statistic traceback=<Traceback (<Frame filename='/usr/lib/python3.7/site-packages/distributed/core.py' lineno=614>,)> size=5744 count=12>,\n",
       " <Statistic traceback=<Traceback (<Frame filename='/usr/lib/python3.7/site-packages/distributed/worker.py' lineno=765>,)> size=5408 count=66>,\n",
       " <Statistic traceback=<Traceback (<Frame filename='/usr/lib/python3.7/site-packages/distributed/profile.py' lineno=63>,)> size=5320 count=190>,\n",
       " <Statistic traceback=<Traceback (<Frame filename='/usr/lib/python3.7/site-packages/tornado/gen.py' lineno=1062>,)> size=5280 count=32>,\n",
       " <Statistic traceback=<Traceback (<Frame filename='/usr/lib/python3.7/site-packages/tornado/gen.py' lineno=347>,)> size=5008 count=42>,\n",
       " <Statistic traceback=<Traceback (<Frame filename='/usr/lib/python3.7/queue.py' lineno=151>,)> size=4824 count=10>,\n",
       " <Statistic traceback=<Traceback (<Frame filename='/usr/lib/python3.7/site-packages/distributed/utils_comm.py' lineno=182>,)> size=4736 count=74>,\n",
       " <Statistic traceback=<Traceback (<Frame filename='/usr/lib/python3.7/site-packages/distributed/comm/inproc.py' lineno=102>,)> size=3968 count=31>,\n",
       " <Statistic traceback=<Traceback (<Frame filename='/usr/lib/python3.7/site-packages/distributed/utils.py' lineno=809>,)> size=3600 count=53>,\n",
       " <Statistic traceback=<Traceback (<Frame filename='/usr/lib/python3.7/asyncio/base_events.py' lineno=1775>,)> size=3584 count=7>,\n",
       " <Statistic traceback=<Traceback (<Frame filename='/usr/lib/python3.7/site-packages/distributed/scheduler.py' lineno=3742>,)> size=3504 count=42>,\n",
       " <Statistic traceback=<Traceback (<Frame filename='/usr/lib/python3.7/site-packages/tornado/gen.py' lineno=346>,)> size=3368 count=38>,\n",
       " <Statistic traceback=<Traceback (<Frame filename='/usr/lib/python3.7/site-packages/distributed/profile.py' lineno=131>,)> size=3360 count=28>,\n",
       " <Statistic traceback=<Traceback (<Frame filename='/usr/lib/python3.7/site-packages/tornado/locks.py' lineno=230>,)> size=3328 count=26>,\n",
       " <Statistic traceback=<Traceback (<Frame filename='/usr/lib/python3.7/site-packages/distributed/profile.py' lineno=89>,)> size=3072 count=6>,\n",
       " <Statistic traceback=<Traceback (<Frame filename='/usr/lib/python3.7/site-packages/tornado/gen.py' lineno=1221>,)> size=3040 count=44>,\n",
       " <Statistic traceback=<Traceback (<Frame filename='/usr/lib/python3.7/site-packages/tornado/gen.py' lineno=1177>,)> size=3024 count=63>,\n",
       " <Statistic traceback=<Traceback (<Frame filename='/usr/lib/python3.7/site-packages/bokeh/server/tornado.py' lineno=473>,)> size=2800 count=5>,\n",
       " <Statistic traceback=<Traceback (<Frame filename='<string>' lineno=1>,)> size=2752 count=27>,\n",
       " <Statistic traceback=<Traceback (<Frame filename='/usr/lib/python3.7/site-packages/distributed/protocol/serialize.py' lineno=311>,)> size=2720 count=20>,\n",
       " <Statistic traceback=<Traceback (<Frame filename='/usr/lib/python3.7/site-packages/tornado/gen.py' lineno=978>,)> size=2592 count=26>,\n",
       " <Statistic traceback=<Traceback (<Frame filename='/usr/lib/python3.7/site-packages/distributed/comm/inproc.py' lineno=91>,)> size=2448 count=15>,\n",
       " <Statistic traceback=<Traceback (<Frame filename='/usr/lib/python3.7/site-packages/distributed/worker.py' lineno=656>,)> size=2368 count=8>,\n",
       " <Statistic traceback=<Traceback (<Frame filename='./binning.py' lineno=29>,)> size=2256 count=12>,\n",
       " <Statistic traceback=<Traceback (<Frame filename='/usr/lib/python3.7/site-packages/distributed/comm/inproc.py' lineno=200>,)> size=2232 count=31>,\n",
       " <Statistic traceback=<Traceback (<Frame filename='/usr/lib/python3.7/site-packages/tornado/concurrent.py' lineno=660>,)> size=2224 count=67>,\n",
       " <Statistic traceback=<Traceback (<Frame filename='/usr/lib/python3.7/site-packages/distributed/counter.py' lineno=63>,)> size=2160 count=20>,\n",
       " <Statistic traceback=<Traceback (<Frame filename='/usr/lib/python3.7/site-packages/distributed/protocol/serialize.py' lineno=324>,)> size=2144 count=38>,\n",
       " <Statistic traceback=<Traceback (<Frame filename='/usr/lib/python3.7/site-packages/psutil/_pslinux.py' lineno=1735>,)> size=2120 count=60>,\n",
       " <Statistic traceback=<Traceback (<Frame filename='/usr/lib/python3.7/asyncio/base_events.py' lineno=708>,)> size=2000 count=25>,\n",
       " <Statistic traceback=<Traceback (<Frame filename='/usr/lib/python3.7/site-packages/distributed/batched.py' lineno=76>,)> size=1984 count=34>,\n",
       " <Statistic traceback=<Traceback (<Frame filename='/usr/lib/python3.7/asyncio/events.py' lineno=88>,)> size=1952 count=4>,\n",
       " <Statistic traceback=<Traceback (<Frame filename='/usr/lib/python3.7/site-packages/distributed/scheduler.py' lineno=502>,)> size=1840 count=14>,\n",
       " <Statistic traceback=<Traceback (<Frame filename='/usr/lib/python3.7/site-packages/distributed/scheduler.py' lineno=3313>,)> size=1768 count=13>,\n",
       " <Statistic traceback=<Traceback (<Frame filename='/usr/lib/python3.7/site-packages/distributed/scheduler.py' lineno=3059>,)> size=1768 count=13>,\n",
       " <Statistic traceback=<Traceback (<Frame filename='/usr/lib/python3.7/site-packages/sparse/sparse_array.py' lineno=29>,)> size=1760 count=12>,\n",
       " <Statistic traceback=<Traceback (<Frame filename='/usr/lib/python3.7/site-packages/distributed/_concurrent_futures_thread.py' lineno=64>,)> size=1752 count=3>,\n",
       " <Statistic traceback=<Traceback (<Frame filename='/usr/lib/python3.7/site-packages/distributed/stealing.py' lineno=320>,)> size=1728 count=27>,\n",
       " <Statistic traceback=<Traceback (<Frame filename='./window_utils.py' lineno=209>,)> size=1728 count=3>,\n",
       " <Statistic traceback=<Traceback (<Frame filename='/usr/lib/python3.7/site-packages/distributed/worker.py' lineno=2195>,)> size=1680 count=3>,\n",
       " <Statistic traceback=<Traceback (<Frame filename='/usr/lib/python3.7/site-packages/tornado/stack_context.py' lineno=292>,)> size=1608 count=180>,\n",
       " <Statistic traceback=<Traceback (<Frame filename='/usr/lib/python3.7/site-packages/psutil/__init__.py' lineno=999>,)> size=1584 count=66>,\n",
       " <Statistic traceback=<Traceback (<Frame filename='/usr/lib/python3.7/asyncio/base_events.py' lineno=1739>,)> size=1584 count=3>,\n",
       " <Statistic traceback=<Traceback (<Frame filename='/usr/lib/python3.7/site-packages/tornado/ioloop.py' lineno=1251>,)> size=1560 count=65>,\n",
       " <Statistic traceback=<Traceback (<Frame filename='/usr/lib/python3.7/site-packages/tornado/ioloop.py' lineno=620>,)> size=1480 count=16>,\n",
       " <Statistic traceback=<Traceback (<Frame filename='/usr/lib/python3.7/site-packages/distributed/worker.py' lineno=1834>,)> size=1480 count=5>,\n",
       " <Statistic traceback=<Traceback (<Frame filename='./window_utils.py' lineno=147>,)> size=1448 count=2>,\n",
       " <Statistic traceback=<Traceback (<Frame filename='./cov_3X2.py' lineno=105>,)> size=1448 count=2>,\n",
       " <Statistic traceback=<Traceback (<Frame filename='/usr/lib/python3.7/site-packages/distributed/worker.py' lineno=2336>,)> size=1440 count=20>,\n",
       " <Statistic traceback=<Traceback (<Frame filename='/usr/lib/python3.7/site-packages/tornado/gen.py' lineno=1133>,)> size=1408 count=22>,\n",
       " <Statistic traceback=<Traceback (<Frame filename='/usr/lib/python3.7/site-packages/tornado/locks.py' lineno=235>,)> size=1360 count=10>,\n",
       " <Statistic traceback=<Traceback (<Frame filename='/usr/lib/python3.7/site-packages/distributed/scheduler.py' lineno=3341>,)> size=1360 count=10>,\n",
       " <Statistic traceback=<Traceback (<Frame filename='/usr/lib/python3.7/site-packages/tornado/gen.py' lineno=1078>,)> size=1344 count=28>,\n",
       " <Statistic traceback=<Traceback (<Frame filename='/usr/lib/python3.7/site-packages/tornado/gen.py' lineno=868>,)> size=1344 count=21>,\n",
       " <Statistic traceback=<Traceback (<Frame filename='/usr/lib/python3.7/site-packages/distributed/stealing.py' lineno=345>,)> size=1344 count=21>,\n",
       " <Statistic traceback=<Traceback (<Frame filename='/usr/lib/python3.7/site-packages/distributed/worker.py' lineno=2357>,)> size=1344 count=8>,\n",
       " <Statistic traceback=<Traceback (<Frame filename='/usr/lib/python3.7/site-packages/psutil/__init__.py' lineno=2092>,)> size=1320 count=44>,\n",
       " <Statistic traceback=<Traceback (<Frame filename='/usr/lib/python3.7/site-packages/distributed/core.py' lineno=616>,)> size=1296 count=18>,\n",
       " <Statistic traceback=<Traceback (<Frame filename='/usr/lib/python3.7/site-packages/distributed/worker.py' lineno=767>,)> size=1280 count=20>,\n",
       " <Statistic traceback=<Traceback (<Frame filename='/usr/lib/python3.7/site-packages/tornado/stack_context.py' lineno=300>,)> size=1272 count=3>,\n",
       " <Statistic traceback=<Traceback (<Frame filename='/usr/lib/python3.7/types.py' lineno=277>,)> size=1232 count=16>,\n",
       " <Statistic traceback=<Traceback (<Frame filename='/usr/lib/python3.7/site-packages/tornado/ioloop.py' lineno=1250>,)> size=1224 count=51>,\n",
       " <Statistic traceback=<Traceback (<Frame filename='/usr/lib/python3.7/site-packages/distributed/utils_comm.py' lineno=227>,)> size=1208 count=12>,\n",
       " <Statistic traceback=<Traceback (<Frame filename='/usr/lib/python3.7/site-packages/distributed/worker.py' lineno=1729>,)> size=1184 count=4>,\n",
       " <Statistic traceback=<Traceback (<Frame filename='/usr/lib/python3.7/site-packages/dask/delayed.py' lineno=570>,)> size=1171 count=11>,\n",
       " <Statistic traceback=<Traceback (<Frame filename='/usr/lib/python3.7/site-packages/distributed/worker.py' lineno=2802>,)> size=1120 count=2>,\n",
       " <Statistic traceback=<Traceback (<Frame filename='/usr/lib/python3.7/site-packages/astropy/cosmology/core.py' lineno=291>,)> size=1112 count=1>,\n",
       " <Statistic traceback=<Traceback (<Frame filename='/usr/lib/python3.7/weakref.py' lineno=394>,)> size=1064 count=19>,\n",
       " <Statistic traceback=<Traceback (<Frame filename='/usr/lib/python3.7/threading.py' lineno=348>,)> size=1056 count=2>,\n",
       " <Statistic traceback=<Traceback (<Frame filename='/usr/lib/python3.7/json/decoder.py' lineno=353>,)> size=1040 count=24>,\n",
       " <Statistic traceback=<Traceback (<Frame filename='/usr/lib/python3.7/site-packages/distributed/scheduler.py' lineno=1202>,)> size=1032 count=43>,\n",
       " <Statistic traceback=<Traceback (<Frame filename='/usr/lib/python3.7/site-packages/numpy/core/numeric.py' lineno=591>,)> size=1032 count=9>,\n",
       " <Statistic traceback=<Traceback (<Frame filename='/usr/lib/python3.7/site-packages/distributed/threadpoolexecutor.py' lineno=53>,)> size=1024 count=2>,\n",
       " <Statistic traceback=<Traceback (<Frame filename='/usr/lib/python3.7/site-packages/zarr/indexing.py' lineno=370>,)> size=999 count=1>,\n",
       " <Statistic traceback=<Traceback (<Frame filename='/usr/lib/python3.7/site-packages/distributed/core.py' lineno=360>,)> size=992 count=10>,\n",
       " <Statistic traceback=<Traceback (<Frame filename='/usr/lib/python3.7/site-packages/dask/compatibility.py' lineno=107>,)> size=992 count=5>,\n",
       " <Statistic traceback=<Traceback (<Frame filename='/usr/lib/python3.7/site-packages/psutil/_common.py' lineno=586>,)> size=984 count=11>,\n",
       " <Statistic traceback=<Traceback (<Frame filename='/usr/lib/python3.7/site-packages/distributed/comm/inproc.py' lineno=191>,)> size=960 count=20>,\n",
       " <Statistic traceback=<Traceback (<Frame filename='./binning.py' lineno=12>,)> size=960 count=9>,\n",
       " <Statistic traceback=<Traceback (<Frame filename='<ipython-input-71-c592ae1eedfa>' lineno=14>,)> size=936 count=2>,\n",
       " <Statistic traceback=<Traceback (<Frame filename='/usr/lib/python3.7/site-packages/distributed/counter.py' lineno=53>,)> size=912 count=38>,\n",
       " <Statistic traceback=<Traceback (<Frame filename='/usr/lib/python3.7/site-packages/numpy/core/fromnumeric.py' lineno=70>,)> size=888 count=7>,\n",
       " <Statistic traceback=<Traceback (<Frame filename='./window_utils.py' lineno=235>,)> size=888 count=3>,\n",
       " <Statistic traceback=<Traceback (<Frame filename='./window_utils.py' lineno=198>,)> size=888 count=3>,\n",
       " <Statistic traceback=<Traceback (<Frame filename='/usr/lib/python3.7/site-packages/distributed/utils.py' lineno=528>,)> size=870 count=13>,\n",
       " <Statistic traceback=<Traceback (<Frame filename='/usr/lib/python3.7/site-packages/psutil/__init__.py' lineno=1030>,)> size=864 count=36>,\n",
       " <Statistic traceback=<Traceback (<Frame filename='/usr/lib/python3.7/site-packages/distributed/core.py' lineno=277>,)> size=864 count=18>,\n",
       " <Statistic traceback=<Traceback (<Frame filename='/usr/lib/python3.7/site-packages/zarr/indexing.py' lineno=207>,)> size=864 count=12>,\n",
       " <Statistic traceback=<Traceback (<Frame filename='/usr/lib/python3.7/site-packages/distributed/scheduler.py' lineno=1208>,)> size=864 count=12>,\n",
       " <Statistic traceback=<Traceback (<Frame filename='/usr/lib/python3.7/asyncio/base_events.py' lineno=656>,)> size=848 count=22>,\n",
       " <Statistic traceback=<Traceback (<Frame filename='/usr/lib/python3.7/site-packages/numpy/core/fromnumeric.py' lineno=56>,)> size=848 count=14>,\n",
       " <Statistic traceback=<Traceback (<Frame filename='/usr/lib/python3.7/site-packages/psutil/__init__.py' lineno=1009>,)> size=840 count=35>,\n",
       " <Statistic traceback=<Traceback (<Frame filename='/usr/lib/python3.7/site-packages/distributed/comm/core.py' lineno=103>,)> size=828 count=6>,\n",
       " <Statistic traceback=<Traceback (<Frame filename='/usr/lib/python3.7/site-packages/distributed/comm/inproc.py' lineno=165>,)> size=816 count=6>,\n",
       " <Statistic traceback=<Traceback (<Frame filename='/usr/lib/python3.7/site-packages/distributed/scheduler.py' lineno=3081>,)> size=768 count=16>,\n",
       " <Statistic traceback=<Traceback (<Frame filename='/usr/lib/python3.7/site-packages/zarr/meta.py' lineno=47>,)> size=736 count=4>,\n",
       " <Statistic traceback=<Traceback (<Frame filename='/usr/lib/python3.7/site-packages/distributed/scheduler.py' lineno=1186>,)> size=720 count=10>,\n",
       " <Statistic traceback=<Traceback (<Frame filename='/usr/lib/python3.7/asyncio/events.py' lineno=111>,)> size=704 count=11>,\n",
       " <Statistic traceback=<Traceback (<Frame filename='/usr/lib/python3.7/site-packages/distributed/worker.py' lineno=540>,)> size=704 count=6>,\n",
       " <Statistic traceback=<Traceback (<Frame filename='/usr/lib/python3.7/site-packages/numpy/core/numeric.py' lineno=538>,)> size=696 count=7>,\n",
       " <Statistic traceback=<Traceback (<Frame filename='/usr/lib/python3.7/site-packages/distributed/counter.py' lineno=46>,)> size=680 count=7>,\n",
       " <Statistic traceback=<Traceback (<Frame filename='./window_utils.py' lineno=51>,)> size=680 count=1>,\n",
       " <Statistic traceback=<Traceback (<Frame filename='/usr/lib/python3.7/site-packages/zarr/indexing.py' lineno=568>,)> size=672 count=12>,\n",
       " <Statistic traceback=<Traceback (<Frame filename='/usr/lib/python3.7/site-packages/tornado/locks.py' lineno=195>,)> size=672 count=3>,\n",
       " <Statistic traceback=<Traceback (<Frame filename='/usr/lib/python3.7/site-packages/distributed/worker.py' lineno=1350>,)> size=672 count=3>,\n",
       " <Statistic traceback=<Traceback (<Frame filename='/usr/lib/python3.7/site-packages/distributed/core.py' lineno=706>,)> size=672 count=3>,\n",
       " <Statistic traceback=<Traceback (<Frame filename='/usr/lib/python3.7/site-packages/distributed/core.py' lineno=705>,)> size=672 count=3>,\n",
       " <Statistic traceback=<Traceback (<Frame filename='/usr/lib/python3.7/site-packages/numpy/core/einsumfunc.py' lineno=1398>,)> size=656 count=1>,\n",
       " <Statistic traceback=<Traceback (<Frame filename='/usr/lib/python3.7/site-packages/tornado/gen.py' lineno=400>,)> size=648 count=9>,\n",
       " <Statistic traceback=<Traceback (<Frame filename='/usr/lib/python3.7/site-packages/zarr/storage.py' lineno=735>,)> size=632 count=6>,\n",
       " <Statistic traceback=<Traceback (<Frame filename='/usr/lib/python3.7/inspect.py' lineno=2217>,)> size=608 count=1>,\n",
       " <Statistic traceback=<Traceback (<Frame filename='/usr/lib/python3.7/site-packages/distributed/scheduler.py' lineno=3026>,)> size=576 count=14>,\n",
       " <Statistic traceback=<Traceback (<Frame filename='/usr/lib/python3.7/site-packages/tornado/locks.py' lineno=239>,)> size=576 count=12>,\n",
       " <Statistic traceback=<Traceback (<Frame filename='./binning.py' lineno=54>,)> size=576 count=6>,\n",
       " <Statistic traceback=<Traceback (<Frame filename='./window_utils.py' lineno=44>,)> size=576 count=1>,\n",
       " <Statistic traceback=<Traceback (<Frame filename='/usr/lib/python3.7/site-packages/scipy/interpolate/interpolate.py' lineno=610>,)> size=560 count=4>,\n",
       " <Statistic traceback=<Traceback (<Frame filename='/usr/lib/python3.7/site-packages/zarr/core.py' lineno=1015>,)> size=560 count=1>,\n",
       " <Statistic traceback=<Traceback (<Frame filename='/usr/lib/python3.7/site-packages/distributed/worker.py' lineno=1808>,)> size=560 count=1>,\n",
       " <Statistic traceback=<Traceback (<Frame filename='/usr/lib/python3.7/site-packages/distributed/worker.py' lineno=629>,)> size=560 count=1>,\n",
       " <Statistic traceback=<Traceback (<Frame filename='/usr/lib/python3.7/site-packages/distributed/utils_comm.py' lineno=63>,)> size=560 count=1>,\n",
       " <Statistic traceback=<Traceback (<Frame filename='/usr/lib/python3.7/site-packages/distributed/core.py' lineno=553>,)> size=560 count=1>,\n",
       " <Statistic traceback=<Traceback (<Frame filename='/usr/lib/python3.7/site-packages/dask/delayed.py' lineno=95>,)> size=544 count=9>,\n",
       " <Statistic traceback=<Traceback (<Frame filename='/usr/lib/python3.7/queue.py' lineno=179>,)> size=544 count=1>,\n",
       " <Statistic traceback=<Traceback (<Frame filename='/usr/lib/python3.7/weakref.py' lineno=533>,)> size=528 count=6>,\n",
       " <Statistic traceback=<Traceback (<Frame filename='/usr/lib/python3.7/site-packages/toolz/itertoolz.py' lineno=541>,)> size=528 count=6>,\n",
       " <Statistic traceback=<Traceback (<Frame filename='/usr/lib/python3.7/threading.py' lineno=238>,)> size=528 count=1>,\n",
       " <Statistic traceback=<Traceback (<Frame filename='/usr/lib/python3.7/asyncio/base_events.py' lineno=711>,)> size=528 count=1>,\n",
       " <Statistic traceback=<Traceback (<Frame filename='/usr/lib/python3.7/site-packages/scipy/interpolate/interpolate.py' lineno=662>,)> size=520 count=1>,\n",
       " <Statistic traceback=<Traceback (<Frame filename='/usr/lib/python3.7/site-packages/distributed/scheduler.py' lineno=2731>,)> size=512 count=1>,\n",
       " <Statistic traceback=<Traceback (<Frame filename='/usr/lib/python3.7/multiprocessing/process.py' lineno=223>,)> size=512 count=1>,\n",
       " <Statistic traceback=<Traceback (<Frame filename='/usr/lib/python3.7/site-packages/distributed/scheduler.py' lineno=3779>,)> size=504 count=3>,\n",
       " <Statistic traceback=<Traceback (<Frame filename='/usr/lib/python3.7/site-packages/distributed/utils_comm.py' lineno=181>,)> size=504 count=1>,\n",
       " <Statistic traceback=<Traceback (<Frame filename='/usr/lib/python3.7/site-packages/distributed/worker.py' lineno=1842>,)> size=480 count=10>,\n",
       " <Statistic traceback=<Traceback (<Frame filename='/usr/lib/python3.7/site-packages/distributed/scheduler.py' lineno=3020>,)> size=480 count=10>,\n",
       " <Statistic traceback=<Traceback (<Frame filename='/usr/lib/python3.7/weakref.py' lineno=534>,)> size=480 count=6>,\n",
       " <Statistic traceback=<Traceback (<Frame filename='/usr/lib/python3.7/site-packages/distributed/comm/inproc.py' lineno=151>,)> size=480 count=6>,\n",
       " <Statistic traceback=<Traceback (<Frame filename='/usr/lib/python3.7/threading.py' lineno=218>,)> size=480 count=4>,\n",
       " <Statistic traceback=<Traceback (<Frame filename='/usr/lib/python3.7/site-packages/dask/delayed.py' lineno=93>,)> size=480 count=1>,\n",
       " <Statistic traceback=<Traceback (<Frame filename='/usr/lib/python3.7/site-packages/astropy/units/core.py' lineno=1915>,)> size=480 count=1>,\n",
       " <Statistic traceback=<Traceback (<Frame filename='./window_utils.py' lineno=399>,)> size=480 count=1>,\n",
       " <Statistic traceback=<Traceback (<Frame filename='/usr/lib/python3.7/site-packages/heapdict.py' lineno=58>,)> size=472 count=1>,\n",
       " <Statistic traceback=<Traceback (<Frame filename='/usr/lib/python3.7/asyncio/base_events.py' lineno=739>,)> size=472 count=1>,\n",
       " <Statistic traceback=<Traceback (<Frame filename='/usr/lib/python3.7/site-packages/scipy/interpolate/polyint.py' lineno=79>,)> size=464 count=1>,\n",
       " <Statistic traceback=<Traceback (<Frame filename='/usr/lib/python3.7/site-packages/zarr/indexing.py' lineno=823>,)> size=432 count=6>,\n",
       " <Statistic traceback=<Traceback (<Frame filename='/usr/lib/python3.7/site-packages/zarr/indexing.py' lineno=558>,)> size=432 count=6>,\n",
       " <Statistic traceback=<Traceback (<Frame filename='/usr/lib/python3.7/site-packages/zarr/indexing.py' lineno=534>,)> size=432 count=6>,\n",
       " <Statistic traceback=<Traceback (<Frame filename='./cov_3X2.py' lineno=76>,)> size=432 count=1>,\n",
       " <Statistic traceback=<Traceback (<Frame filename='/usr/lib/python3.7/site-packages/astropy/units/core.py' lineno=2068>,)> size=416 count=9>,\n",
       " <Statistic traceback=<Traceback (<Frame filename='/usr/lib/python3.7/site-packages/psutil/_pslinux.py' lineno=1697>,)> size=384 count=16>,\n",
       " <Statistic traceback=<Traceback (<Frame filename='/usr/lib/python3.7/site-packages/distributed/worker.py' lineno=2205>,)> size=384 count=6>,\n",
       " <Statistic traceback=<Traceback (<Frame filename='/usr/lib/python3.7/site-packages/dask/core.py' lineno=269>,)> size=384 count=6>,\n",
       " <Statistic traceback=<Traceback (<Frame filename='/usr/lib/python3.7/site-packages/tornado/ioloop.py' lineno=1238>,)> size=384 count=4>,\n",
       " <Statistic traceback=<Traceback (<Frame filename='/usr/lib/python3.7/threading.py' lineno=289>,)> size=360 count=10>,\n",
       " <Statistic traceback=<Traceback (<Frame filename='/usr/lib/python3.7/site-packages/distributed/worker.py' lineno=1482>,)> size=360 count=5>,\n",
       " <Statistic traceback=<Traceback (<Frame filename='/usr/lib/python3.7/site-packages/astropy/units/core.py' lineno=2069>,)> size=352 count=8>,\n",
       " <Statistic traceback=<Traceback (<Frame filename='/usr/lib/python3.7/abc.py' lineno=139>,)> size=344 count=6>,\n",
       " <Statistic traceback=<Traceback (<Frame filename='/usr/lib/python3.7/site-packages/psutil/_pslinux.py' lineno=1015>,)> size=336 count=3>,\n",
       " <Statistic traceback=<Traceback (<Frame filename='/usr/lib/python3.7/site-packages/psutil/_common.py' lineno=548>,)> size=336 count=3>,\n",
       " <Statistic traceback=<Traceback (<Frame filename='/usr/lib/python3.7/site-packages/astropy/units/quantity.py' lineno=765>,)> size=336 count=3>,\n",
       " <Statistic traceback=<Traceback (<Frame filename='/usr/lib/python3.7/site-packages/astropy/units/quantity.py' lineno=385>,)> size=336 count=3>,\n",
       " <Statistic traceback=<Traceback (<Frame filename='./wigner_transform.py' lineno=36>,)> size=336 count=3>,\n",
       " <Statistic traceback=<Traceback (<Frame filename='/usr/lib/python3.7/site-packages/zarr/core.py' lineno=110>,)> size=336 count=2>,\n",
       " <Statistic traceback=<Traceback (<Frame filename='/usr/lib/python3.7/site-packages/distributed/comm/inproc.py' lineno=116>,)> size=336 count=2>,\n",
       " <Statistic traceback=<Traceback (<Frame filename='/usr/lib/python3.7/site-packages/distributed/worker.py' lineno=588>,)> size=320 count=5>,\n",
       " <Statistic traceback=<Traceback (<Frame filename='/usr/lib/python3.7/site-packages/distributed/_concurrent_futures_thread.py' lineno=128>,)> size=320 count=4>,\n",
       " <Statistic traceback=<Traceback (<Frame filename='/usr/lib/python3.7/site-packages/tornado/platform/asyncio.py' lineno=144>,)> size=312 count=13>,\n",
       " <Statistic traceback=<Traceback (<Frame filename='/usr/lib/python3.7/site-packages/zarr/core.py' lineno=1748>,)> size=312 count=3>,\n",
       " <Statistic traceback=<Traceback (<Frame filename='/usr/lib/python3.7/site-packages/numpy/core/fromnumeric.py' lineno=2076>,)> size=312 count=3>,\n",
       " <Statistic traceback=<Traceback (<Frame filename='/usr/lib/python3.7/site-packages/distributed/worker.py' lineno=1352>,)> size=312 count=3>,\n",
       " <Statistic traceback=<Traceback (<Frame filename='./wigner_transform.py' lineno=57>,)> size=312 count=3>,\n",
       " <Statistic traceback=<Traceback (<Frame filename='/usr/lib/python3.7/site-packages/distributed/system_monitor.py' lineno=56>,)> size=308 count=11>,\n",
       " <Statistic traceback=<Traceback (<Frame filename='/usr/lib/python3.7/tokenize.py' lineno=451>,)> size=307 count=3>,\n",
       " <Statistic traceback=<Traceback (<Frame filename='/usr/lib/python3.7/site-packages/scipy/interpolate/interpolate.py' lineno=605>,)> size=296 count=4>,\n",
       " <Statistic traceback=<Traceback (<Frame filename='/usr/lib/python3.7/site-packages/zict/lru.py' lineno=64>,)> size=296 count=1>,\n",
       " <Statistic traceback=<Traceback (<Frame filename='/usr/lib/python3.7/site-packages/zict/lru.py' lineno=60>,)> size=296 count=1>,\n",
       " <Statistic traceback=<Traceback (<Frame filename='/usr/lib/python3.7/site-packages/tornado/ioloop.py' lineno=1206>,)> size=296 count=1>,\n",
       " <Statistic traceback=<Traceback (<Frame filename='/usr/lib/python3.7/site-packages/distributed/worker.py' lineno=2211>,)> size=296 count=1>,\n",
       " <Statistic traceback=<Traceback (<Frame filename='/usr/lib/python3.7/site-packages/distributed/worker.py' lineno=2210>,)> size=296 count=1>,\n",
       " <Statistic traceback=<Traceback (<Frame filename='/usr/lib/python3.7/selectors.py' lineno=480>,)> size=288 count=9>,\n",
       " <Statistic traceback=<Traceback (<Frame filename='/usr/lib/python3.7/threading.py' lineno=244>,)> size=288 count=4>,\n",
       " <Statistic traceback=<Traceback (<Frame filename='/usr/lib/python3.7/threading.py' lineno=235>,)> size=288 count=4>,\n",
       " <Statistic traceback=<Traceback (<Frame filename='/usr/lib/python3.7/site-packages/distributed/core.py' lineno=199>,)> size=280 count=10>,\n",
       " <Statistic traceback=<Traceback (<Frame filename='/usr/lib/python3.7/site-packages/astropy/units/quantity.py' lineno=789>,)> size=280 count=7>,\n",
       " <Statistic traceback=<Traceback (<Frame filename='/usr/lib/python3.7/site-packages/distributed/worker.py' lineno=1800>,)> size=280 count=5>,\n",
       " <Statistic traceback=<Traceback (<Frame filename='/usr/lib/python3.7/abc.py' lineno=143>,)> size=280 count=5>,\n",
       " <Statistic traceback=<Traceback (<Frame filename='/usr/lib/python3.7/site-packages/scipy/interpolate/interpolate.py' lineno=604>,)> size=280 count=3>,\n",
       " <Statistic traceback=<Traceback (<Frame filename='/usr/lib/python3.7/site-packages/scipy/interpolate/interpolate.py' lineno=597>,)> size=280 count=3>,\n",
       " <Statistic traceback=<Traceback (<Frame filename='/usr/lib/python3.7/site-packages/scipy/interpolate/interpolate.py' lineno=606>,)> size=280 count=2>,\n",
       " <Statistic traceback=<Traceback (<Frame filename='/usr/lib/python3.7/site-packages/astropy/units/core.py' lineno=1985>,)> size=272 count=6>,\n",
       " <Statistic traceback=<Traceback (<Frame filename='/usr/lib/python3.7/site-packages/tornado/locks.py' lineno=243>,)> size=272 count=2>,\n",
       " <Statistic traceback=<Traceback (<Frame filename='/usr/lib/python3.7/site-packages/tornado/gen.py' lineno=988>,)> size=272 count=2>,\n",
       " <Statistic traceback=<Traceback (<Frame filename='/usr/lib/python3.7/site-packages/tornado/gen.py' lineno=976>,)> size=272 count=2>,\n",
       " <Statistic traceback=<Traceback (<Frame filename='/usr/lib/python3.7/site-packages/tornado/gen.py' lineno=968>,)> size=272 count=2>,\n",
       " <Statistic traceback=<Traceback (<Frame filename='/usr/lib/python3.7/site-packages/tornado/concurrent.py' lineno=599>,)> size=272 count=2>,\n",
       " <Statistic traceback=<Traceback (<Frame filename='/usr/lib/python3.7/site-packages/numcodecs/abc.py' lineno=111>,)> size=264 count=6>,\n",
       " <Statistic traceback=<Traceback (<Frame filename='/usr/lib/python3.7/site-packages/distributed/protocol/pickle.py' lineno=59>,)> size=257 count=5>,\n",
       " <Statistic traceback=<Traceback (<Frame filename='/usr/lib/python3.7/site-packages/tornado/gen.py' lineno=864>,)> size=256 count=4>,\n",
       " <Statistic traceback=<Traceback (<Frame filename='./window_utils.py' lineno=184>,)> size=256 count=4>,\n",
       " <Statistic traceback=<Traceback (<Frame filename='/usr/lib/python3.7/site-packages/distributed/scheduler.py' lineno=3008>,)> size=256 count=1>,\n",
       " <Statistic traceback=<Traceback (<Frame filename='/usr/lib/python3.7/site-packages/distributed/scheduler.py' lineno=1712>,)> size=256 count=1>,\n",
       " <Statistic traceback=<Traceback (<Frame filename='/usr/lib/python3.7/site-packages/scipy/interpolate/interpolate.py' lineno=453>,)> size=248 count=1>,\n",
       " <Statistic traceback=<Traceback (<Frame filename='/usr/lib/python3.7/site-packages/scipy/interpolate/interpolate.py' lineno=449>,)> size=248 count=1>,\n",
       " <Statistic traceback=<Traceback (<Frame filename='/usr/lib/python3.7/site-packages/distributed/comm/inproc.py' lineno=306>,)> size=246 count=3>,\n",
       " <Statistic traceback=<Traceback (<Frame filename='/usr/lib/python3.7/site-packages/distributed/comm/inproc.py' lineno=305>,)> size=246 count=3>,\n",
       " <Statistic traceback=<Traceback (<Frame filename='/usr/lib/python3.7/site-packages/distributed/comm/inproc.py' lineno=252>,)> size=246 count=3>,\n",
       " <Statistic traceback=<Traceback (<Frame filename='/usr/lib/python3.7/site-packages/distributed/comm/inproc.py' lineno=251>,)> size=246 count=3>,\n",
       " <Statistic traceback=<Traceback (<Frame filename='/usr/lib/python3.7/site-packages/tornado/ioloop.py' lineno=1241>,)> size=240 count=10>,\n",
       " <Statistic traceback=<Traceback (<Frame filename='/usr/lib/python3.7/asyncio/base_events.py' lineno=1743>,)> size=240 count=10>,\n",
       " <Statistic traceback=<Traceback (<Frame filename='/usr/lib/python3.7/site-packages/healpy/sphtfunc.py' lineno=703>,)> size=240 count=3>,\n",
       " <Statistic traceback=<Traceback (<Frame filename='/usr/lib/python3.7/site-packages/astropy/units/quantity.py' lineno=761>,)> size=240 count=3>,\n",
       " <Statistic traceback=<Traceback (<Frame filename='/usr/lib/python3.7/site-packages/jupyter_client/session.py' lineno=571>,)> size=240 count=2>,\n",
       " <Statistic traceback=<Traceback (<Frame filename='/usr/lib/python3.7/site-packages/distributed/scheduler.py' lineno=3032>,)> size=240 count=2>,\n",
       " <Statistic traceback=<Traceback (<Frame filename='/usr/lib/python3.7/json/__init__.py' lineno=238>,)> size=240 count=2>,\n",
       " <Statistic traceback=<Traceback (<Frame filename='./window_utils.py' lineno=177>,)> size=240 count=2>,\n",
       " <Statistic traceback=<Traceback (<Frame filename='/usr/lib/python3.7/posixpath.py' lineno=372>,)> size=238 count=2>,\n",
       " <Statistic traceback=<Traceback (<Frame filename='/usr/lib/python3.7/site-packages/sparse/coo.py' lineno=316>,)> size=224 count=8>,\n",
       " <Statistic traceback=<Traceback (<Frame filename='/usr/lib/python3.7/site-packages/psutil/_pslinux.py' lineno=1012>,)> size=224 count=8>,\n",
       " <Statistic traceback=<Traceback (<Frame filename='/usr/lib/python3.7/asyncio/selector_events.py' lineno=132>,)> size=224 count=4>,\n",
       " <Statistic traceback=<Traceback (<Frame filename='./window_utils.py' lineno=103>,)> size=224 count=4>,\n",
       " <Statistic traceback=<Traceback (<Frame filename='/usr/lib/python3.7/site-packages/distributed/worker.py' lineno=1839>,)> size=224 count=2>,\n",
       " <Statistic traceback=<Traceback (<Frame filename='/usr/lib/python3.7/site-packages/dask/highlevelgraph.py' lineno=118>,)> size=224 count=1>,\n",
       " <Statistic traceback=<Traceback (<Frame filename='/usr/lib/python3.7/codeop.py' lineno=133>,)> size=222 count=3>,\n",
       " <Statistic traceback=<Traceback (<Frame filename='/usr/lib/python3.7/site-packages/distributed/comm/inproc.py' lineno=59>,)> size=219 count=3>,\n",
       " <Statistic traceback=<Traceback (<Frame filename='/usr/lib/python3.7/site-packages/distributed/worker.py' lineno=650>,)> size=216 count=9>,\n",
       " <Statistic traceback=<Traceback (<Frame filename='/usr/lib/python3.7/threading.py' lineno=231>,)> size=216 count=3>,\n",
       " <Statistic traceback=<Traceback (<Frame filename='/usr/lib/python3.7/threading.py' lineno=227>,)> size=216 count=3>,\n",
       " <Statistic traceback=<Traceback (<Frame filename='/usr/lib/python3.7/threading.py' lineno=222>,)> size=216 count=3>,\n",
       " <Statistic traceback=<Traceback (<Frame filename='/usr/lib/python3.7/site-packages/zarr/indexing.py' lineno=384>,)> size=216 count=3>,\n",
       " <Statistic traceback=<Traceback (<Frame filename='/usr/lib/python3.7/site-packages/tornado/ioloop.py' lineno=1193>,)> size=216 count=3>,\n",
       " <Statistic traceback=<Traceback (<Frame filename='/usr/lib/python3.7/site-packages/tornado/gen.py' lineno=467>,)> size=216 count=3>,\n",
       " <Statistic traceback=<Traceback (<Frame filename='/usr/lib/python3.7/site-packages/toolz/dicttoolz.py' lineno=99>,)> size=216 count=3>,\n",
       " <Statistic traceback=<Traceback (<Frame filename='/usr/lib/python3.7/site-packages/toolz/dicttoolz.py' lineno=83>,)> size=216 count=3>,\n",
       " <Statistic traceback=<Traceback (<Frame filename='/usr/lib/python3.7/site-packages/scipy/interpolate/interpolate.py' lineno=448>,)> size=216 count=3>,\n",
       " <Statistic traceback=<Traceback (<Frame filename='/usr/lib/python3.7/site-packages/distributed/utils_comm.py' lineno=43>,)> size=216 count=3>,\n",
       " <Statistic traceback=<Traceback (<Frame filename='/usr/lib/python3.7/site-packages/distributed/utils_comm.py' lineno=38>,)> size=216 count=3>,\n",
       " <Statistic traceback=<Traceback (<Frame filename='/usr/lib/python3.7/site-packages/dask/order.py' lineno=230>,)> size=216 count=3>,\n",
       " <Statistic traceback=<Traceback (<Frame filename='/usr/lib/python3.7/site-packages/dask/order.py' lineno=200>,)> size=216 count=3>,\n",
       " <Statistic traceback=<Traceback (<Frame filename='/usr/lib/python3.7/site-packages/dask/order.py' lineno=127>,)> size=216 count=3>,\n",
       " <Statistic traceback=<Traceback (<Frame filename='/usr/lib/python3.7/asyncio/events.py' lineno=41>,)> size=216 count=3>,\n",
       " <Statistic traceback=<Traceback (<Frame filename='./cov_3X2.py' lineno=90>,)> size=216 count=2>,\n",
       " <Statistic traceback=<Traceback (<Frame filename='/usr/lib/python3.7/site-packages/numpy/core/fromnumeric.py' lineno=86>,)> size=208 count=13>,\n",
       " <Statistic traceback=<Traceback (<Frame filename='/usr/lib/python3.7/selectors.py' lineno=468>,)> size=204 count=3>,\n",
       " <Statistic traceback=<Traceback (<Frame filename='/usr/lib/python3.7/site-packages/astropy/units/core.py' lineno=2058>,)> size=192 count=8>,\n",
       " <Statistic traceback=<Traceback (<Frame filename='/usr/lib/python3.7/site-packages/tornado/gen.py' lineno=965>,)> size=192 count=4>,\n",
       " <Statistic traceback=<Traceback (<Frame filename='/usr/lib/python3.7/site-packages/astropy/units/core.py' lineno=2092>,)> size=192 count=3>,\n",
       " <Statistic traceback=<Traceback (<Frame filename='/usr/lib/python3.7/site-packages/healpy/sphtfunc.py' lineno=701>,)> size=184 count=2>,\n",
       " <Statistic traceback=<Traceback (<Frame filename='/usr/lib/python3.7/site-packages/dask/delayed.py' lineno=433>,)> size=180 count=2>,\n",
       " <Statistic traceback=<Traceback (<Frame filename='/usr/lib/python3.7/site-packages/numpy/lib/arraysetops.py' lineno=316>,)> size=176 count=11>,\n",
       " <Statistic traceback=<Traceback (<Frame filename='/usr/lib/python3.7/site-packages/distributed/scheduler.py' lineno=3194>,)> size=168 count=7>,\n",
       " <Statistic traceback=<Traceback (<Frame filename='/usr/lib/python3.7/site-packages/distributed/comm/inproc.py' lineno=310>,)> size=168 count=3>,\n",
       " <Statistic traceback=<Traceback (<Frame filename='/usr/lib/python3.7/site-packages/distributed/comm/inproc.py' lineno=297>,)> size=168 count=3>,\n",
       " <Statistic traceback=<Traceback (<Frame filename='/usr/lib/python3.7/site-packages/distributed/comm/inproc.py' lineno=294>,)> size=168 count=3>,\n",
       " <Statistic traceback=<Traceback (<Frame filename='/usr/lib/python3.7/site-packages/distributed/comm/inproc.py' lineno=293>,)> size=168 count=3>,\n",
       " <Statistic traceback=<Traceback (<Frame filename='/usr/lib/python3.7/site-packages/distributed/comm/inproc.py' lineno=256>,)> size=168 count=3>,\n",
       " <Statistic traceback=<Traceback (<Frame filename='/usr/lib/python3.7/site-packages/distributed/client.py' lineno=2326>,)> size=168 count=3>,\n",
       " <Statistic traceback=<Traceback (<Frame filename='/usr/lib/python3.7/site-packages/dask/base.py' lineno=661>,)> size=168 count=3>,\n",
       " <Statistic traceback=<Traceback (<Frame filename='/usr/lib/python3.7/site-packages/dask/base.py' lineno=229>,)> size=168 count=3>,\n",
       " <Statistic traceback=<Traceback (<Frame filename='/usr/lib/python3.7/site-packages/astropy/units/core.py' lineno=649>,)> size=168 count=3>,\n",
       " <Statistic traceback=<Traceback (<Frame filename='/usr/lib/python3.7/site-packages/ipykernel/iostream.py' lineno=400>,)> size=168 count=2>,\n",
       " <Statistic traceback=<Traceback (<Frame filename='/usr/lib/python3.7/site-packages/distributed/stealing.py' lineno=98>,)> size=168 count=1>,\n",
       " <Statistic traceback=<Traceback (<Frame filename='/usr/lib/python3.7/site-packages/distributed/scheduler.py' lineno=3757>,)> size=168 count=1>,\n",
       " <Statistic traceback=<Traceback (<Frame filename='./power_spectra.py' lineno=77>,)> size=168 count=1>,\n",
       " <Statistic traceback=<Traceback (<Frame filename='./cov_utils.py' lineno=18>,)> size=168 count=1>,\n",
       " <Statistic traceback=<Traceback (<Frame filename='./cov_3X2.py' lineno=148>,)> size=168 count=1>,\n",
       " <Statistic traceback=<Traceback (<Frame filename='./angular_power_spectra.py' lineno=19>,)> size=168 count=1>,\n",
       " <Statistic traceback=<Traceback (<Frame filename='/usr/lib/python3.7/site-packages/psutil/_pslinux.py' lineno=992>,)> size=164 count=3>,\n",
       " <Statistic traceback=<Traceback (<Frame filename='/usr/lib/python3.7/site-packages/distributed/batched.py' lineno=120>,)> size=160 count=5>,\n",
       " <Statistic traceback=<Traceback (<Frame filename='/usr/lib/python3.7/site-packages/zarr/attrs.py' lineno=33>,)> size=160 count=2>,\n",
       " <Statistic traceback=<Traceback (<Frame filename='/usr/lib/python3.7/site-packages/scipy/interpolate/polyint.py' lineno=96>,)> size=160 count=2>,\n",
       " <Statistic traceback=<Traceback (<Frame filename='/usr/lib/python3.7/site-packages/astropy/units/quantity.py' lineno=370>,)> size=160 count=2>,\n",
       " <Statistic traceback=<Traceback (<Frame filename='/usr/lib/python3.7/site-packages/distributed/scheduler.py' lineno=1998>,)> size=160 count=1>,\n",
       " <Statistic traceback=<Traceback (<Frame filename='./window_utils.py' lineno=165>,)> size=153 count=3>,\n",
       " <Statistic traceback=<Traceback (<Frame filename='/usr/lib/python3.7/site-packages/ipykernel/iostream.py' lineno=434>,)> size=152 count=2>,\n",
       " <Statistic traceback=<Traceback (<Frame filename='/usr/lib/python3.7/site-packages/distributed/comm/inproc.py' lineno=259>,)> size=144 count=3>,\n",
       " <Statistic traceback=<Traceback (<Frame filename='/usr/lib/python3.7/site-packages/numcodecs/registry.py' lineno=32>,)> size=144 count=2>,\n",
       " <Statistic traceback=<Traceback (<Frame filename='/usr/lib/python3.7/site-packages/distributed/worker.py' lineno=2188>,)> size=144 count=2>,\n",
       " <Statistic traceback=<Traceback (<Frame filename='/usr/lib/python3.7/site-packages/distributed/utils_comm.py' lineno=229>,)> size=144 count=2>,\n",
       " <Statistic traceback=<Traceback (<Frame filename='/usr/lib/python3.7/site-packages/distributed/client.py' lineno=1400>,)> size=144 count=2>,\n",
       " <Statistic traceback=<Traceback (<Frame filename='/usr/lib/python3.7/site-packages/distributed/_concurrent_futures_thread.py' lineno=54>,)> size=144 count=2>,\n",
       " <Statistic traceback=<Traceback (<Frame filename='/usr/lib/python3.7/site-packages/dask/order.py' lineno=199>,)> size=144 count=2>,\n",
       " <Statistic traceback=<Traceback (<Frame filename='/usr/lib/python3.7/site-packages/dask/optimization.py' lineno=46>,)> size=144 count=2>,\n",
       " <Statistic traceback=<Traceback (<Frame filename='/usr/lib/python3.7/site-packages/astropy/units/core.py' lineno=2050>,)> size=144 count=2>,\n",
       " <Statistic traceback=<Traceback (<Frame filename='/usr/lib/python3.7/queue.py' lineno=182>,)> size=144 count=2>,\n",
       " <Statistic traceback=<Traceback (<Frame filename='/usr/lib/python3.7/concurrent/futures/_base.py' lineno=314>,)> size=144 count=2>,\n",
       " <Statistic traceback=<Traceback (<Frame filename='/usr/lib/python3.7/site-packages/distributed/scheduler.py' lineno=3724>,)> size=144 count=1>,\n",
       " <Statistic traceback=<Traceback (<Frame filename='/usr/lib/python3.7/site-packages/distributed/scheduler.py' lineno=1521>,)> size=144 count=1>,\n",
       " <Statistic traceback=<Traceback (<Frame filename='/usr/lib/python3.7/site-packages/traitlets/traitlets.py' lineno=600>,)> size=135 count=2>,\n",
       " <Statistic traceback=<Traceback (<Frame filename='/usr/lib/python3.7/site-packages/distributed/worker.py' lineno=852>,)> size=128 count=4>,\n",
       " <Statistic traceback=<Traceback (<Frame filename='/usr/lib/python3.7/site-packages/tornado/concurrent.py' lineno=627>,)> size=128 count=2>,\n",
       " <Statistic traceback=<Traceback (<Frame filename='/usr/lib/python3.7/site-packages/distributed/worker.py' lineno=1846>,)> size=128 count=2>,\n",
       " <Statistic traceback=<Traceback (<Frame filename='/usr/lib/python3.7/site-packages/distributed/utils_comm.py' lineno=49>,)> size=128 count=2>,\n",
       " <Statistic traceback=<Traceback (<Frame filename='/usr/lib/python3.7/site-packages/distributed/scheduler.py' lineno=1317>,)> size=128 count=2>,\n",
       " <Statistic traceback=<Traceback (<Frame filename='/usr/lib/python3.7/site-packages/distributed/client.py' lineno=2132>,)> size=128 count=2>,\n",
       " <Statistic traceback=<Traceback (<Frame filename='/usr/lib/python3.7/site-packages/distributed/client.py' lineno=2105>,)> size=128 count=2>,\n",
       " <Statistic traceback=<Traceback (<Frame filename='/usr/lib/python3.7/site-packages/tornado/ioloop.py' lineno=591>,)> size=120 count=5>,\n",
       " <Statistic traceback=<Traceback (<Frame filename='/usr/lib/python3.7/site-packages/tornado/locks.py' lineno=194>,)> size=120 count=3>,\n",
       " <Statistic traceback=<Traceback (<Frame filename='/usr/lib/python3.7/site-packages/zarr/core.py' lineno=1006>,)> size=120 count=2>,\n",
       " <Statistic traceback=<Traceback (<Frame filename='/usr/lib/python3.7/site-packages/IPython/core/interactiveshell.py' lineno=3185>,)> size=120 count=1>,\n",
       " <Statistic traceback=<Traceback (<Frame filename='/usr/lib/python3.7/site-packages/jupyter_client/jsonutil.py' lineno=91>,)> size=116 count=2>,\n",
       " <Statistic traceback=<Traceback (<Frame filename='/usr/lib/python3.7/site-packages/zarr/creation.py' lineno=478>,)> size=112 count=2>,\n",
       " <Statistic traceback=<Traceback (<Frame filename='/usr/lib/python3.7/site-packages/zarr/creation.py' lineno=136>,)> size=112 count=2>,\n",
       " <Statistic traceback=<Traceback (<Frame filename='/usr/lib/python3.7/site-packages/zarr/core.py' lineno=135>,)> size=112 count=2>,\n",
       " <Statistic traceback=<Traceback (<Frame filename='/usr/lib/python3.7/site-packages/zarr/core.py' lineno=134>,)> size=112 count=2>,\n",
       " <Statistic traceback=<Traceback (<Frame filename='/usr/lib/python3.7/site-packages/zarr/core.py' lineno=131>,)> size=112 count=2>,\n",
       " <Statistic traceback=<Traceback (<Frame filename='/usr/lib/python3.7/site-packages/zarr/core.py' lineno=128>,)> size=112 count=2>,\n",
       " <Statistic traceback=<Traceback (<Frame filename='/usr/lib/python3.7/site-packages/astropy/units/quantity.py' lineno=305>,)> size=112 count=1>,\n",
       " <Statistic traceback=<Traceback (<Frame filename='/usr/lib/python3.7/site-packages/IPython/core/interactiveshell.py' lineno=3183>,)> size=104 count=3>,\n",
       " <Statistic traceback=<Traceback (<Frame filename='/usr/lib/python3.7/site-packages/distributed/comm/inproc.py' lineno=159>,)> size=96 count=6>,\n",
       " <Statistic traceback=<Traceback (<Frame filename='/usr/lib/python3.7/site-packages/distributed/worker.py' lineno=649>,)> size=96 count=4>,\n",
       " <Statistic traceback=<Traceback (<Frame filename='/usr/lib/python3.7/site-packages/distributed/scheduler.py' lineno=3825>,)> size=96 count=4>,\n",
       " <Statistic traceback=<Traceback (<Frame filename='/usr/lib/python3.7/site-packages/distributed/scheduler.py' lineno=3195>,)> size=96 count=4>,\n",
       " <Statistic traceback=<Traceback (<Frame filename='./cov_3X2.py' lineno=142>,)> size=96 count=4>,\n",
       " <Statistic traceback=<Traceback (<Frame filename='/usr/lib/python3.7/site-packages/numpy/core/numeric.py' lineno=1393>,)> size=96 count=3>,\n",
       " <Statistic traceback=<Traceback (<Frame filename='/usr/lib/python3.7/site-packages/distributed/worker.py' lineno=2206>,)> size=96 count=3>,\n",
       " <Statistic traceback=<Traceback (<Frame filename='/usr/lib/python3.7/site-packages/zarr/core.py' lineno=1751>,)> size=96 count=2>,\n",
       " <Statistic traceback=<Traceback (<Frame filename='/usr/lib/python3.7/site-packages/zarr/core.py' lineno=1618>,)> size=96 count=2>,\n",
       " <Statistic traceback=<Traceback (<Frame filename='/usr/lib/python3.7/site-packages/zarr/core.py' lineno=1613>,)> size=96 count=2>,\n",
       " <Statistic traceback=<Traceback (<Frame filename='/usr/lib/python3.7/site-packages/numpy/lib/index_tricks.py' lineno=105>,)> size=96 count=2>,\n",
       " <Statistic traceback=<Traceback (<Frame filename='./window_utils.py' lineno=422>,)> size=96 count=2>,\n",
       " <Statistic traceback=<Traceback (<Frame filename='./window_utils.py' lineno=112>,)> size=96 count=2>,\n",
       " <Statistic traceback=<Traceback (<Frame filename='./window_utils.py' lineno=145>,)> size=88 count=2>,\n",
       " <Statistic traceback=<Traceback (<Frame filename='/usr/lib/python3.7/site-packages/numpy/core/einsumfunc.py' lineno=957>,)> size=88 count=1>,\n",
       " <Statistic traceback=<Traceback (<Frame filename='/usr/lib/python3.7/site-packages/distributed/worker.py' lineno=1286>,)> size=84 count=3>,\n",
       " <Statistic traceback=<Traceback (<Frame filename='./binning.py' lineno=44>,)> size=80 count=5>,\n",
       " <Statistic traceback=<Traceback (<Frame filename='/usr/lib/python3.7/site-packages/zarr/util.py' lineno=360>,)> size=80 count=2>,\n",
       " <Statistic traceback=<Traceback (<Frame filename='/usr/lib/python3.7/site-packages/zarr/storage.py' lineno=730>,)> size=80 count=2>,\n",
       " <Statistic traceback=<Traceback (<Frame filename='/usr/lib/python3.7/site-packages/zarr/indexing.py' lineno=750>,)> size=80 count=2>,\n",
       " <Statistic traceback=<Traceback (<Frame filename='/usr/lib/python3.7/site-packages/zarr/indexing.py' lineno=594>,)> size=80 count=2>,\n",
       " <Statistic traceback=<Traceback (<Frame filename='/usr/lib/python3.7/site-packages/numpy/lib/function_base.py' lineno=1053>,)> size=80 count=1>,\n",
       " <Statistic traceback=<Traceback (<Frame filename='/usr/lib/python3.7/site-packages/numpy/core/fromnumeric.py' lineno=933>,)> size=80 count=1>,\n",
       " <Statistic traceback=<Traceback (<Frame filename='/usr/lib/python3.7/site-packages/numpy/core/einsumfunc.py' lineno=917>,)> size=80 count=1>,\n",
       " <Statistic traceback=<Traceback (<Frame filename='/usr/lib/python3.7/site-packages/dask/delayed.py' lineno=589>,)> size=80 count=1>,\n",
       " <Statistic traceback=<Traceback (<Frame filename='/usr/lib/python3.7/site-packages/astropy/units/quantity.py' lineno=383>,)> size=80 count=1>,\n",
       " <Statistic traceback=<Traceback (<Frame filename='./tracer_utils.py' lineno=19>,)> size=80 count=1>,\n",
       " <Statistic traceback=<Traceback (<Frame filename='./cov_3X2.py' lineno=58>,)> size=80 count=1>,\n",
       " <Statistic traceback=<Traceback (<Frame filename='/usr/lib/python3.7/site-packages/distributed/scheduler.py' lineno=3192>,)> size=72 count=3>,\n",
       " <Statistic traceback=<Traceback (<Frame filename='/usr/lib/python3.7/site-packages/distributed/batched.py' lineno=90>,)> size=72 count=3>,\n",
       " <Statistic traceback=<Traceback (<Frame filename='./cov_3X2.py' lineno=143>,)> size=72 count=3>,\n",
       " <Statistic traceback=<Traceback (<Frame filename='/usr/lib/python3.7/site-packages/zmq/utils/jsonapi.py' lineno=40>,)> size=72 count=1>,\n",
       " <Statistic traceback=<Traceback (<Frame filename='/usr/lib/python3.7/site-packages/traitlets/traitlets.py' lineno=1155>,)> size=72 count=1>,\n",
       " <Statistic traceback=<Traceback (<Frame filename='/usr/lib/python3.7/site-packages/tornado/gen.py' lineno=399>,)> size=72 count=1>,\n",
       " <Statistic traceback=<Traceback (<Frame filename='/usr/lib/python3.7/site-packages/psutil/_pslinux.py' lineno=1733>,)> size=72 count=1>,\n",
       " <Statistic traceback=<Traceback (<Frame filename='/usr/lib/python3.7/site-packages/psutil/__init__.py' lineno=1052>,)> size=72 count=1>,\n",
       " <Statistic traceback=<Traceback (<Frame filename='/usr/lib/python3.7/site-packages/numpy/core/fromnumeric.py' lineno=84>,)> size=72 count=1>,\n",
       " <Statistic traceback=<Traceback (<Frame filename='/usr/lib/python3.7/site-packages/distributed/worker.py' lineno=860>,)> size=72 count=1>,\n",
       " <Statistic traceback=<Traceback (<Frame filename='/usr/lib/python3.7/site-packages/distributed/worker.py' lineno=623>,)> size=72 count=1>,\n",
       " <Statistic traceback=<Traceback (<Frame filename='/usr/lib/python3.7/site-packages/distributed/worker.py' lineno=622>,)> size=72 count=1>,\n",
       " <Statistic traceback=<Traceback (<Frame filename='/usr/lib/python3.7/site-packages/distributed/scheduler.py' lineno=985>,)> size=72 count=1>,\n",
       " <Statistic traceback=<Traceback (<Frame filename='/usr/lib/python3.7/site-packages/distributed/protocol/serialize.py' lineno=196>,)> size=72 count=1>,\n",
       " <Statistic traceback=<Traceback (<Frame filename='/usr/lib/python3.7/site-packages/distributed/core.py' lineno=272>,)> size=72 count=1>,\n",
       " <Statistic traceback=<Traceback (<Frame filename='/usr/lib/python3.7/site-packages/distributed/client.py' lineno=2140>,)> size=72 count=1>,\n",
       " <Statistic traceback=<Traceback (<Frame filename='/usr/lib/python3.7/site-packages/astropy/units/core.py' lineno=719>,)> size=72 count=1>,\n",
       " <Statistic traceback=<Traceback (<Frame filename='/usr/lib/python3.7/json/__init__.py' lineno=237>,)> size=72 count=1>,\n",
       " <Statistic traceback=<Traceback (<Frame filename='/usr/lib/python3.7/concurrent/futures/_base.py' lineno=380>,)> size=72 count=1>,\n",
       " <Statistic traceback=<Traceback (<Frame filename='/usr/lib/python3.7/codecs.py' lineno=268>,)> size=72 count=1>,\n",
       " <Statistic traceback=<Traceback (<Frame filename='./window_utils.py' lineno=95>,)> size=72 count=1>,\n",
       " <Statistic traceback=<Traceback (<Frame filename='/usr/lib/python3.7/site-packages/zarr/indexing.py' lineno=468>,)> size=68 count=10>,\n",
       " <Statistic traceback=<Traceback (<Frame filename='/usr/lib/python3.7/site-packages/distributed/worker.py' lineno=1818>,)> size=64 count=1>,\n",
       " <Statistic traceback=<Traceback (<Frame filename='/usr/lib/python3.7/site-packages/distributed/utils_comm.py' lineno=50>,)> size=64 count=1>,\n",
       " <Statistic traceback=<Traceback (<Frame filename='/usr/lib/python3.7/site-packages/distributed/scheduler.py' lineno=1722>,)> size=64 count=1>,\n",
       " <Statistic traceback=<Traceback (<Frame filename='/usr/lib/python3.7/site-packages/distributed/scheduler.py' lineno=1368>,)> size=64 count=1>,\n",
       " <Statistic traceback=<Traceback (<Frame filename='/usr/lib/python3.7/site-packages/distributed/scheduler.py' lineno=1326>,)> size=64 count=1>,\n",
       " <Statistic traceback=<Traceback (<Frame filename='/usr/lib/python3.7/site-packages/distributed/client.py' lineno=2087>,)> size=64 count=1>,\n",
       " <Statistic traceback=<Traceback (<Frame filename='./window_utils.py' lineno=242>,)> size=64 count=1>,\n",
       " <Statistic traceback=<Traceback (<Frame filename='./window_utils.py' lineno=227>,)> size=64 count=1>,\n",
       " <Statistic traceback=<Traceback (<Frame filename='/usr/lib/python3.7/site-packages/numpy/core/_dtype.py' lineno=54>,)> size=58 count=1>,\n",
       " <Statistic traceback=<Traceback (<Frame filename='/usr/lib/python3.7/site-packages/distributed/worker.py' lineno=1824>,)> size=56 count=2>,\n",
       " <Statistic traceback=<Traceback (<Frame filename='/usr/lib/python3.7/site-packages/distributed/worker.py' lineno=643>,)> size=56 count=2>,\n",
       " <Statistic traceback=<Traceback (<Frame filename='/usr/lib/python3.7/site-packages/dask/sizeof.py' lineno=21>,)> size=56 count=2>,\n",
       " <Statistic traceback=<Traceback (<Frame filename='./cov_3X2.py' lineno=135>,)> size=56 count=2>,\n",
       " <Statistic traceback=<Traceback (<Frame filename='/usr/lib/python3.7/site-packages/numpy/core/_internal.py' lineno=892>,)> size=56 count=1>,\n",
       " <Statistic traceback=<Traceback (<Frame filename='/usr/lib/python3.7/site-packages/distributed/utils.py' lineno=1286>,)> size=56 count=1>,\n",
       " <Statistic traceback=<Traceback (<Frame filename='/usr/lib/python3.7/site-packages/dask/highlevelgraph.py' lineno=135>,)> size=56 count=1>,\n",
       " <Statistic traceback=<Traceback (<Frame filename='/usr/lib/python3.7/site-packages/astropy/cosmology/core.py' lineno=471>,)> size=56 count=1>,\n",
       " <Statistic traceback=<Traceback (<Frame filename='./window_utils.py' lineno=115>,)> size=56 count=1>,\n",
       " <Statistic traceback=<Traceback (<Frame filename='./window_utils.py' lineno=37>,)> size=56 count=1>,\n",
       " <Statistic traceback=<Traceback (<Frame filename='./cov_3X2.py' lineno=212>,)> size=56 count=1>,\n",
       " <Statistic traceback=<Traceback (<Frame filename='./cov_3X2.py' lineno=169>,)> size=56 count=1>,\n",
       " <Statistic traceback=<Traceback (<Frame filename='./cov_3X2.py' lineno=99>,)> size=56 count=1>,\n",
       " <Statistic traceback=<Traceback (<Frame filename='./cov_3X2.py' lineno=81>,)> size=56 count=1>,\n",
       " <Statistic traceback=<Traceback (<Frame filename='./angular_power_spectra.py' lineno=20>,)> size=56 count=1>,\n",
       " <Statistic traceback=<Traceback (<Frame filename='/usr/lib/python3.7/site-packages/zmq/sugar/attrsettr.py' lineno=37>,)> size=55 count=1>,\n",
       " <Statistic traceback=<Traceback (<Frame filename='/usr/lib/python3.7/site-packages/IPython/core/history.py' lineno=770>,)> size=55 count=1>,\n",
       " <Statistic traceback=<Traceback (<Frame filename='/usr/lib/python3.7/site-packages/zarr/core.py' lineno=1740>,)> size=54 count=1>,\n",
       " <Statistic traceback=<Traceback (<Frame filename='./window_utils.py' lineno=166>,)> size=53 count=1>,\n",
       " <Statistic traceback=<Traceback (<Frame filename='/usr/lib/python3.7/site-packages/sparse/coo.py' lineno=346>,)> size=48 count=3>,\n",
       " <Statistic traceback=<Traceback (<Frame filename='/usr/lib/python3.7/site-packages/zarr/meta.py' lineno=140>,)> size=48 count=2>,\n",
       " <Statistic traceback=<Traceback (<Frame filename='/usr/lib/python3.7/site-packages/scipy/interpolate/polyint.py' lineno=111>,)> size=48 count=2>,\n",
       " <Statistic traceback=<Traceback (<Frame filename='/usr/lib/python3.7/site-packages/psutil/_pslinux.py' lineno=1696>,)> size=48 count=2>,\n",
       " <Statistic traceback=<Traceback (<Frame filename='/usr/lib/python3.7/site-packages/psutil/_pslinux.py' lineno=1695>,)> size=48 count=2>,\n",
       " <Statistic traceback=<Traceback (<Frame filename='/usr/lib/python3.7/site-packages/distributed/worker.py' lineno=1303>,)> size=48 count=2>,\n",
       " <Statistic traceback=<Traceback (<Frame filename='/usr/lib/python3.7/genericpath.py' lineno=30>,)> size=48 count=2>,\n",
       " <Statistic traceback=<Traceback (<Frame filename='./window_utils.py' lineno=134>,)> size=48 count=2>,\n",
       " <Statistic traceback=<Traceback (<Frame filename='/usr/lib/python3.7/site-packages/distributed/client.py' lineno=960>,)> size=48 count=1>,\n",
       " <Statistic traceback=<Traceback (<Frame filename='/usr/lib/python3.7/site-packages/distributed/counter.py' lineno=45>,)> size=40 count=1>,\n",
       " <Statistic traceback=<Traceback (<Frame filename='/usr/lib/python3.7/site-packages/dask/highlevelgraph.py' lineno=73>,)> size=40 count=1>,\n",
       " <Statistic traceback=<Traceback (<Frame filename='/usr/lib/python3.7/site-packages/numpy/lib/arraysetops.py' lineno=314>,)> size=32 count=2>,\n",
       " <Statistic traceback=<Traceback (<Frame filename='/usr/lib/python3.7/site-packages/numpy/core/shape_base.py' lineno=283>,)> size=32 count=1>,\n",
       " <Statistic traceback=<Traceback (<Frame filename='/usr/lib/python3.7/site-packages/numpy/core/numeric.py' lineno=1392>,)> size=32 count=1>,\n",
       " <Statistic traceback=<Traceback (<Frame filename='/usr/lib/python3.7/site-packages/distributed/worker.py' lineno=1821>,)> size=32 count=1>,\n",
       " <Statistic traceback=<Traceback (<Frame filename='/usr/lib/python3.7/asyncio/base_events.py' lineno=1748>,)> size=32 count=1>,\n",
       " <Statistic traceback=<Traceback (<Frame filename='/usr/lib/python3.7/asyncio/base_events.py' lineno=674>,)> size=32 count=1>,\n",
       " <Statistic traceback=<Traceback (<Frame filename='./window_utils.py' lineno=129>,)> size=32 count=1>,\n",
       " <Statistic traceback=<Traceback (<Frame filename='./cov_3X2.py' lineno=131>,)> size=32 count=1>,\n",
       " <Statistic traceback=<Traceback (<Frame filename='/usr/lib/python3.7/site-packages/ipykernel/iostream.py' lineno=377>,)> size=28 count=1>,\n",
       " <Statistic traceback=<Traceback (<Frame filename='/usr/lib/python3.7/site-packages/distributed/counter.py' lineno=49>,)> size=28 count=1>,\n",
       " <Statistic traceback=<Traceback (<Frame filename='/usr/lib/python3.7/site-packages/distributed/batched.py' lineno=119>,)> size=28 count=1>,\n",
       " <Statistic traceback=<Traceback (<Frame filename='/usr/lib/python3.7/site-packages/distributed/batched.py' lineno=99>,)> size=28 count=1>,\n",
       " <Statistic traceback=<Traceback (<Frame filename='/usr/lib/python3.7/site-packages/distributed/batched.py' lineno=89>,)> size=28 count=1>,\n",
       " <Statistic traceback=<Traceback (<Frame filename='/usr/lib/python3.7/site-packages/astropy/cosmology/core.py' lineno=195>,)> size=28 count=1>,\n",
       " <Statistic traceback=<Traceback (<Frame filename='/usr/lib/python3.7/linecache.py' lineno=95>,)> size=28 count=1>,\n",
       " <Statistic traceback=<Traceback (<Frame filename='/usr/lib/python3.7/site-packages/astropy/units/quantity.py' lineno=639>,)> size=24 count=3>,\n",
       " <Statistic traceback=<Traceback (<Frame filename='./cov_3X2.py' lineno=139>,)> size=24 count=3>,\n",
       " <Statistic traceback=<Traceback (<Frame filename='<ipython-input-71-c592ae1eedfa>' lineno=11>,)> size=24 count=1>,\n",
       " <Statistic traceback=<Traceback (<Frame filename='/usr/lib/python3.7/site-packages/tornado/ioloop.py' lineno=638>,)> size=24 count=1>,\n",
       " <Statistic traceback=<Traceback (<Frame filename='/usr/lib/python3.7/site-packages/psutil/_pslinux.py' lineno=1694>,)> size=24 count=1>,\n",
       " <Statistic traceback=<Traceback (<Frame filename='/usr/lib/python3.7/site-packages/psutil/__init__.py' lineno=981>,)> size=24 count=1>,\n",
       " <Statistic traceback=<Traceback (<Frame filename='/usr/lib/python3.7/site-packages/numpy/core/function_base.py' lineno=138>,)> size=24 count=1>,\n",
       " <Statistic traceback=<Traceback (<Frame filename='/usr/lib/python3.7/site-packages/distributed/core.py' lineno=180>,)> size=24 count=1>,\n",
       " <Statistic traceback=<Traceback (<Frame filename='/usr/lib/python3.7/site-packages/distributed/core.py' lineno=179>,)> size=24 count=1>,\n",
       " <Statistic traceback=<Traceback (<Frame filename='/usr/lib/python3.7/site-packages/astropy/cosmology/core.py' lineno=287>,)> size=24 count=1>,\n",
       " <Statistic traceback=<Traceback (<Frame filename='/usr/lib/python3.7/site-packages/astropy/cosmology/core.py' lineno=256>,)> size=24 count=1>,\n",
       " <Statistic traceback=<Traceback (<Frame filename='./window_utils.py' lineno=404>,)> size=24 count=1>,\n",
       " <Statistic traceback=<Traceback (<Frame filename='./window_utils.py' lineno=149>,)> size=24 count=1>,\n",
       " <Statistic traceback=<Traceback (<Frame filename='./window_utils.py' lineno=143>,)> size=24 count=1>,\n",
       " <Statistic traceback=<Traceback (<Frame filename='./cov_3X2.py' lineno=132>,)> size=24 count=1>,\n",
       " <Statistic traceback=<Traceback (<Frame filename='/usr/lib/python3.7/site-packages/scipy/interpolate/interpolate.py' lineno=668>,)> size=16 count=1>,\n",
       " <Statistic traceback=<Traceback (<Frame filename='/usr/lib/python3.7/site-packages/numpy/lib/ufunclike.py' lineno=175>,)> size=16 count=1>,\n",
       " <Statistic traceback=<Traceback (<Frame filename='/usr/lib/python3.7/site-packages/numpy/lib/function_base.py' lineno=4694>,)> size=16 count=1>,\n",
       " <Statistic traceback=<Traceback (<Frame filename='/usr/lib/python3.7/site-packages/numpy/lib/function_base.py' lineno=1065>,)> size=16 count=1>,\n",
       " <Statistic traceback=<Traceback (<Frame filename='/usr/lib/python3.7/site-packages/numpy/core/numeric.py' lineno=1388>,)> size=16 count=1>,\n",
       " <Statistic traceback=<Traceback (<Frame filename='/usr/lib/python3.7/site-packages/numpy/core/_methods.py' lineno=32>,)> size=16 count=1>,\n",
       " <Statistic traceback=<Traceback (<Frame filename='./cov_3X2.py' lineno=145>,)> size=16 count=1>,\n",
       " <Statistic traceback=<Traceback (<Frame filename='/usr/lib/python3.7/site-packages/distributed/client.py' lineno=948>,)> size=8 count=1>,\n",
       " <Statistic traceback=<Traceback (<Frame filename='./cov_3X2.py' lineno=146>,)> size=8 count=1>,\n",
       " <Statistic traceback=<Traceback (<Frame filename='/usr/lib/python3.7/site-packages/heapdict.py' lineno=93>,)> size=0 count=4>,\n",
       " <Statistic traceback=<Traceback (<Frame filename='/usr/lib/python3.7/site-packages/distributed/worker.py' lineno=1680>,)> size=0 count=2>]"
      ]
     },
     "execution_count": 75,
     "metadata": {},
     "output_type": "execute_result"
    }
   ],
   "source": [
    "top_stats"
   ]
  },
  {
   "cell_type": "code",
   "execution_count": 76,
   "metadata": {},
   "outputs": [
    {
     "data": {
      "text/plain": [
       "[<Statistic traceback=<Traceback (<Frame filename='./window_utils.py' lineno=119>,)> size=124000368 count=9>,\n",
       " <Statistic traceback=<Traceback (<Frame filename='./window_utils.py' lineno=114>,)> size=124000368 count=9>,\n",
       " <Statistic traceback=<Traceback (<Frame filename='/usr/lib/python3.7/site-packages/numpy/core/einsumfunc.py' lineno=1346>,)> size=65524208 count=34>,\n",
       " <Statistic traceback=<Traceback (<Frame filename='./window_utils.py' lineno=87>,)> size=32001680 count=10>,\n",
       " <Statistic traceback=<Traceback (<Frame filename='./window_utils.py' lineno=237>,)> size=24000240 count=6>,\n",
       " <Statistic traceback=<Traceback (<Frame filename='/usr/lib/python3.7/site-packages/sparse/coo.py' lineno=250>,)> size=11982398 count=8>,\n",
       " <Statistic traceback=<Traceback (<Frame filename='/usr/lib/python3.7/site-packages/numpy/core/numeric.py' lineno=1203>,)> size=8000080 count=2>,\n",
       " <Statistic traceback=<Traceback (<Frame filename='./window_utils.py' lineno=239>,)> size=8000080 count=2>,\n",
       " <Statistic traceback=<Traceback (<Frame filename='/usr/lib/python3.7/site-packages/sparse/coo.py' lineno=311>,)> size=7988420 count=11>,\n",
       " <Statistic traceback=<Traceback (<Frame filename='./binning.py' lineno=16>,)> size=1111808 count=16>,\n",
       " <Statistic traceback=<Traceback (<Frame filename='/usr/lib/python3.7/linecache.py' lineno=137>,)> size=273142 count=2772>,\n",
       " <Statistic traceback=<Traceback (<Frame filename='/usr/lib/python3.7/site-packages/numpy/lib/function_base.py' lineno=792>,)> size=58056 count=31>,\n",
       " <Statistic traceback=<Traceback (<Frame filename='./binning.py' lineno=27>,)> size=56440 count=12>,\n",
       " <Statistic traceback=<Traceback (<Frame filename='./binning.py' lineno=14>,)> size=56440 count=12>,\n",
       " <Statistic traceback=<Traceback (<Frame filename='/usr/lib/python3.7/site-packages/distributed/profile.py' lineno=99>,)> size=45840 count=386>,\n",
       " <Statistic traceback=<Traceback (<Frame filename='/usr/lib/python3.7/site-packages/distributed/profile.py' lineno=98>,)> size=45456 count=382>,\n",
       " <Statistic traceback=<Traceback (<Frame filename='/usr/lib/python3.7/site-packages/distributed/profile.py' lineno=64>,)> size=43536 count=370>,\n",
       " <Statistic traceback=<Traceback (<Frame filename='/usr/lib/python3.7/site-packages/distributed/worker.py' lineno=2349>,)> size=40992 count=244>,\n",
       " <Statistic traceback=<Traceback (<Frame filename='/usr/lib/python3.7/site-packages/numpy/core/function_base.py' lineno=279>,)> size=40160 count=3>,\n",
       " <Statistic traceback=<Traceback (<Frame filename='/usr/lib/python3.7/site-packages/toolz/dicttoolz.py' lineno=39>,)> size=34560 count=60>,\n",
       " <Statistic traceback=<Traceback (<Frame filename='/usr/lib/python3.7/site-packages/distributed/profile.py' lineno=45>,)> size=31478 count=282>,\n",
       " <Statistic traceback=<Traceback (<Frame filename='./wigner_transform.py' lineno=58>,)> size=29016 count=6>,\n",
       " <Statistic traceback=<Traceback (<Frame filename='/usr/lib/python3.7/site-packages/distributed/profile.py' lineno=60>,)> size=25524 count=270>,\n",
       " <Statistic traceback=<Traceback (<Frame filename='/usr/lib/python3.7/site-packages/tornado/platform/asyncio.py' lineno=145>,)> size=25408 count=338>,\n",
       " <Statistic traceback=<Traceback (<Frame filename='/usr/lib/python3.7/site-packages/distributed/protocol/serialize.py' lineno=313>,)> size=24704 count=134>,\n",
       " <Statistic traceback=<Traceback (<Frame filename='/usr/lib/python3.7/site-packages/tornado/stack_context.py' lineno=296>,)> size=24072 count=177>,\n",
       " <Statistic traceback=<Traceback (<Frame filename='/usr/lib/python3.7/site-packages/tornado/gen.py' lineno=307>,)> size=19544 count=113>,\n",
       " <Statistic traceback=<Traceback (<Frame filename='./tracer_utils.py' lineno=71>,)> size=16160 count=4>,\n",
       " <Statistic traceback=<Traceback (<Frame filename='/usr/lib/python3.7/asyncio/base_events.py' lineno=539>,)> size=14400 count=25>,\n",
       " <Statistic traceback=<Traceback (<Frame filename='/usr/lib/python3.7/asyncio/base_events.py' lineno=671>,)> size=13880 count=121>,\n",
       " <Statistic traceback=<Traceback (<Frame filename='/usr/lib/python3.7/site-packages/zarr/indexing.py' lineno=572>,)> size=13392 count=186>,\n",
       " <Statistic traceback=<Traceback (<Frame filename='/usr/lib/python3.7/site-packages/zarr/indexing.py' lineno=571>,)> size=13392 count=186>,\n",
       " <Statistic traceback=<Traceback (<Frame filename='/usr/lib/python3.7/site-packages/zarr/indexing.py' lineno=570>,)> size=13392 count=186>,\n",
       " <Statistic traceback=<Traceback (<Frame filename='/usr/lib/python3.7/site-packages/zarr/core.py' lineno=359>,)> size=13392 count=186>,\n",
       " <Statistic traceback=<Traceback (<Frame filename='/usr/lib/python3.7/site-packages/tornado/gen.py' lineno=1230>,)> size=12376 count=91>,\n",
       " <Statistic traceback=<Traceback (<Frame filename='/usr/lib/python3.7/asyncio/base_events.py' lineno=657>,)> size=11904 count=104>,\n",
       " <Statistic traceback=<Traceback (<Frame filename='/usr/lib/python3.7/site-packages/tornado/stack_context.py' lineno=303>,)> size=10320 count=94>,\n",
       " <Statistic traceback=<Traceback (<Frame filename='/usr/lib/python3.7/site-packages/tornado/ioloop.py' lineno=719>,)> size=9872 count=70>,\n",
       " <Statistic traceback=<Traceback (<Frame filename='/usr/lib/python3.7/site-packages/toolz/dicttoolz.py' lineno=37>,)> size=9792 count=128>,\n",
       " <Statistic traceback=<Traceback (<Frame filename='/usr/lib/python3.7/site-packages/tornado/gen.py' lineno=1233>,)> size=9504 count=18>,\n",
       " <Statistic traceback=<Traceback (<Frame filename='/usr/lib/python3.7/site-packages/tornado/platform/asyncio.py' lineno=154>,)> size=9048 count=83>,\n",
       " <Statistic traceback=<Traceback (<Frame filename='/usr/lib/python3.7/site-packages/tornado/ioloop.py' lineno=717>,)> size=8736 count=182>,\n",
       " <Statistic traceback=<Traceback (<Frame filename='/usr/lib/python3.7/site-packages/dask/delayed.py' lineno=29>,)> size=8296 count=122>,\n",
       " <Statistic traceback=<Traceback (<Frame filename='/usr/lib/python3.7/site-packages/tornado/gen.py' lineno=295>,)> size=8232 count=49>,\n",
       " <Statistic traceback=<Traceback (<Frame filename='/usr/lib/python3.7/site-packages/scipy/interpolate/interpolate.py' lineno=613>,)> size=8176 count=4>,\n",
       " <Statistic traceback=<Traceback (<Frame filename='./cov_utils.py' lineno=35>,)> size=8080 count=2>,\n",
       " <Statistic traceback=<Traceback (<Frame filename='./angular_power_spectra.py' lineno=23>,)> size=8080 count=2>,\n",
       " <Statistic traceback=<Traceback (<Frame filename='/usr/lib/python3.7/site-packages/distributed/profile.py' lineno=132>,)> size=7464 count=61>,\n",
       " <Statistic traceback=<Traceback (<Frame filename='/usr/lib/python3.7/site-packages/distributed/core.py' lineno=429>,)> size=7384 count=28>,\n",
       " <Statistic traceback=<Traceback (<Frame filename='/usr/lib/python3.7/site-packages/tornado/gen.py' lineno=187>,)> size=7040 count=55>,\n",
       " <Statistic traceback=<Traceback (<Frame filename='/usr/lib/python3.7/site-packages/tornado/gen.py' lineno=1235>,)> size=6624 count=138>,\n",
       " <Statistic traceback=<Traceback (<Frame filename='/usr/lib/python3.7/site-packages/tornado/gen.py' lineno=1080>,)> size=6336 count=12>,\n",
       " <Statistic traceback=<Traceback (<Frame filename='/usr/lib/python3.7/site-packages/dask/delayed.py' lineno=94>,)> size=6216 count=114>,\n",
       " <Statistic traceback=<Traceback (<Frame filename='/usr/lib/python3.7/functools.py' lineno=60>,)> size=6152 count=61>,\n",
       " <Statistic traceback=<Traceback (<Frame filename='/usr/lib/python3.7/site-packages/tornado/ioloop.py' lineno=758>,)> size=5984 count=27>,\n",
       " <Statistic traceback=<Traceback (<Frame filename='/usr/lib/python3.7/site-packages/distributed/core.py' lineno=614>,)> size=5744 count=12>,\n",
       " <Statistic traceback=<Traceback (<Frame filename='/usr/lib/python3.7/site-packages/distributed/worker.py' lineno=765>,)> size=5408 count=66>,\n",
       " <Statistic traceback=<Traceback (<Frame filename='/usr/lib/python3.7/site-packages/distributed/profile.py' lineno=63>,)> size=5320 count=190>,\n",
       " <Statistic traceback=<Traceback (<Frame filename='/usr/lib/python3.7/site-packages/tornado/gen.py' lineno=1062>,)> size=5280 count=32>,\n",
       " <Statistic traceback=<Traceback (<Frame filename='/usr/lib/python3.7/site-packages/tornado/gen.py' lineno=347>,)> size=5008 count=42>,\n",
       " <Statistic traceback=<Traceback (<Frame filename='/usr/lib/python3.7/queue.py' lineno=151>,)> size=4824 count=10>,\n",
       " <Statistic traceback=<Traceback (<Frame filename='/usr/lib/python3.7/site-packages/distributed/utils_comm.py' lineno=182>,)> size=4736 count=74>,\n",
       " <Statistic traceback=<Traceback (<Frame filename='/usr/lib/python3.7/site-packages/distributed/comm/inproc.py' lineno=102>,)> size=3968 count=31>,\n",
       " <Statistic traceback=<Traceback (<Frame filename='/usr/lib/python3.7/site-packages/distributed/utils.py' lineno=809>,)> size=3600 count=53>,\n",
       " <Statistic traceback=<Traceback (<Frame filename='/usr/lib/python3.7/asyncio/base_events.py' lineno=1775>,)> size=3584 count=7>,\n",
       " <Statistic traceback=<Traceback (<Frame filename='/usr/lib/python3.7/site-packages/distributed/scheduler.py' lineno=3742>,)> size=3504 count=42>,\n",
       " <Statistic traceback=<Traceback (<Frame filename='/usr/lib/python3.7/site-packages/tornado/gen.py' lineno=346>,)> size=3368 count=38>,\n",
       " <Statistic traceback=<Traceback (<Frame filename='/usr/lib/python3.7/site-packages/distributed/profile.py' lineno=131>,)> size=3360 count=28>,\n",
       " <Statistic traceback=<Traceback (<Frame filename='/usr/lib/python3.7/site-packages/tornado/locks.py' lineno=230>,)> size=3328 count=26>,\n",
       " <Statistic traceback=<Traceback (<Frame filename='/usr/lib/python3.7/site-packages/distributed/profile.py' lineno=89>,)> size=3072 count=6>,\n",
       " <Statistic traceback=<Traceback (<Frame filename='/usr/lib/python3.7/site-packages/tornado/gen.py' lineno=1221>,)> size=3040 count=44>,\n",
       " <Statistic traceback=<Traceback (<Frame filename='/usr/lib/python3.7/site-packages/tornado/gen.py' lineno=1177>,)> size=3024 count=63>,\n",
       " <Statistic traceback=<Traceback (<Frame filename='/usr/lib/python3.7/site-packages/bokeh/server/tornado.py' lineno=473>,)> size=2800 count=5>,\n",
       " <Statistic traceback=<Traceback (<Frame filename='<string>' lineno=1>,)> size=2752 count=27>,\n",
       " <Statistic traceback=<Traceback (<Frame filename='/usr/lib/python3.7/site-packages/distributed/protocol/serialize.py' lineno=311>,)> size=2720 count=20>,\n",
       " <Statistic traceback=<Traceback (<Frame filename='/usr/lib/python3.7/site-packages/tornado/gen.py' lineno=978>,)> size=2592 count=26>,\n",
       " <Statistic traceback=<Traceback (<Frame filename='/usr/lib/python3.7/site-packages/distributed/comm/inproc.py' lineno=91>,)> size=2448 count=15>,\n",
       " <Statistic traceback=<Traceback (<Frame filename='/usr/lib/python3.7/site-packages/distributed/worker.py' lineno=656>,)> size=2368 count=8>,\n",
       " <Statistic traceback=<Traceback (<Frame filename='./binning.py' lineno=29>,)> size=2256 count=12>,\n",
       " <Statistic traceback=<Traceback (<Frame filename='/usr/lib/python3.7/site-packages/distributed/comm/inproc.py' lineno=200>,)> size=2232 count=31>,\n",
       " <Statistic traceback=<Traceback (<Frame filename='/usr/lib/python3.7/site-packages/tornado/concurrent.py' lineno=660>,)> size=2224 count=67>,\n",
       " <Statistic traceback=<Traceback (<Frame filename='/usr/lib/python3.7/site-packages/distributed/counter.py' lineno=63>,)> size=2160 count=20>,\n",
       " <Statistic traceback=<Traceback (<Frame filename='/usr/lib/python3.7/site-packages/distributed/protocol/serialize.py' lineno=324>,)> size=2144 count=38>,\n",
       " <Statistic traceback=<Traceback (<Frame filename='/usr/lib/python3.7/site-packages/psutil/_pslinux.py' lineno=1735>,)> size=2120 count=60>,\n",
       " <Statistic traceback=<Traceback (<Frame filename='/usr/lib/python3.7/asyncio/base_events.py' lineno=708>,)> size=2000 count=25>,\n",
       " <Statistic traceback=<Traceback (<Frame filename='/usr/lib/python3.7/site-packages/distributed/batched.py' lineno=76>,)> size=1984 count=34>,\n",
       " <Statistic traceback=<Traceback (<Frame filename='/usr/lib/python3.7/asyncio/events.py' lineno=88>,)> size=1952 count=4>,\n",
       " <Statistic traceback=<Traceback (<Frame filename='/usr/lib/python3.7/site-packages/distributed/scheduler.py' lineno=502>,)> size=1840 count=14>,\n",
       " <Statistic traceback=<Traceback (<Frame filename='/usr/lib/python3.7/site-packages/distributed/scheduler.py' lineno=3313>,)> size=1768 count=13>,\n",
       " <Statistic traceback=<Traceback (<Frame filename='/usr/lib/python3.7/site-packages/distributed/scheduler.py' lineno=3059>,)> size=1768 count=13>,\n",
       " <Statistic traceback=<Traceback (<Frame filename='/usr/lib/python3.7/site-packages/sparse/sparse_array.py' lineno=29>,)> size=1760 count=12>,\n",
       " <Statistic traceback=<Traceback (<Frame filename='/usr/lib/python3.7/site-packages/distributed/_concurrent_futures_thread.py' lineno=64>,)> size=1752 count=3>,\n",
       " <Statistic traceback=<Traceback (<Frame filename='/usr/lib/python3.7/site-packages/distributed/stealing.py' lineno=320>,)> size=1728 count=27>,\n",
       " <Statistic traceback=<Traceback (<Frame filename='./window_utils.py' lineno=209>,)> size=1728 count=3>,\n",
       " <Statistic traceback=<Traceback (<Frame filename='/usr/lib/python3.7/site-packages/distributed/worker.py' lineno=2195>,)> size=1680 count=3>,\n",
       " <Statistic traceback=<Traceback (<Frame filename='/usr/lib/python3.7/site-packages/tornado/stack_context.py' lineno=292>,)> size=1608 count=180>,\n",
       " <Statistic traceback=<Traceback (<Frame filename='/usr/lib/python3.7/site-packages/psutil/__init__.py' lineno=999>,)> size=1584 count=66>,\n",
       " <Statistic traceback=<Traceback (<Frame filename='/usr/lib/python3.7/asyncio/base_events.py' lineno=1739>,)> size=1584 count=3>,\n",
       " <Statistic traceback=<Traceback (<Frame filename='/usr/lib/python3.7/site-packages/tornado/ioloop.py' lineno=1251>,)> size=1560 count=65>,\n",
       " <Statistic traceback=<Traceback (<Frame filename='/usr/lib/python3.7/site-packages/tornado/ioloop.py' lineno=620>,)> size=1480 count=16>,\n",
       " <Statistic traceback=<Traceback (<Frame filename='/usr/lib/python3.7/site-packages/distributed/worker.py' lineno=1834>,)> size=1480 count=5>,\n",
       " <Statistic traceback=<Traceback (<Frame filename='./window_utils.py' lineno=147>,)> size=1448 count=2>,\n",
       " <Statistic traceback=<Traceback (<Frame filename='./cov_3X2.py' lineno=105>,)> size=1448 count=2>,\n",
       " <Statistic traceback=<Traceback (<Frame filename='/usr/lib/python3.7/site-packages/distributed/worker.py' lineno=2336>,)> size=1440 count=20>,\n",
       " <Statistic traceback=<Traceback (<Frame filename='/usr/lib/python3.7/site-packages/tornado/gen.py' lineno=1133>,)> size=1408 count=22>,\n",
       " <Statistic traceback=<Traceback (<Frame filename='/usr/lib/python3.7/site-packages/tornado/locks.py' lineno=235>,)> size=1360 count=10>,\n",
       " <Statistic traceback=<Traceback (<Frame filename='/usr/lib/python3.7/site-packages/distributed/scheduler.py' lineno=3341>,)> size=1360 count=10>,\n",
       " <Statistic traceback=<Traceback (<Frame filename='/usr/lib/python3.7/site-packages/tornado/gen.py' lineno=1078>,)> size=1344 count=28>,\n",
       " <Statistic traceback=<Traceback (<Frame filename='/usr/lib/python3.7/site-packages/tornado/gen.py' lineno=868>,)> size=1344 count=21>,\n",
       " <Statistic traceback=<Traceback (<Frame filename='/usr/lib/python3.7/site-packages/distributed/stealing.py' lineno=345>,)> size=1344 count=21>,\n",
       " <Statistic traceback=<Traceback (<Frame filename='/usr/lib/python3.7/site-packages/distributed/worker.py' lineno=2357>,)> size=1344 count=8>,\n",
       " <Statistic traceback=<Traceback (<Frame filename='/usr/lib/python3.7/site-packages/psutil/__init__.py' lineno=2092>,)> size=1320 count=44>,\n",
       " <Statistic traceback=<Traceback (<Frame filename='/usr/lib/python3.7/site-packages/distributed/core.py' lineno=616>,)> size=1296 count=18>,\n",
       " <Statistic traceback=<Traceback (<Frame filename='/usr/lib/python3.7/site-packages/distributed/worker.py' lineno=767>,)> size=1280 count=20>,\n",
       " <Statistic traceback=<Traceback (<Frame filename='/usr/lib/python3.7/site-packages/tornado/stack_context.py' lineno=300>,)> size=1272 count=3>,\n",
       " <Statistic traceback=<Traceback (<Frame filename='/usr/lib/python3.7/types.py' lineno=277>,)> size=1232 count=16>,\n",
       " <Statistic traceback=<Traceback (<Frame filename='/usr/lib/python3.7/site-packages/tornado/ioloop.py' lineno=1250>,)> size=1224 count=51>,\n",
       " <Statistic traceback=<Traceback (<Frame filename='/usr/lib/python3.7/site-packages/distributed/utils_comm.py' lineno=227>,)> size=1208 count=12>,\n",
       " <Statistic traceback=<Traceback (<Frame filename='/usr/lib/python3.7/site-packages/distributed/worker.py' lineno=1729>,)> size=1184 count=4>,\n",
       " <Statistic traceback=<Traceback (<Frame filename='/usr/lib/python3.7/site-packages/dask/delayed.py' lineno=570>,)> size=1171 count=11>,\n",
       " <Statistic traceback=<Traceback (<Frame filename='/usr/lib/python3.7/site-packages/distributed/worker.py' lineno=2802>,)> size=1120 count=2>,\n",
       " <Statistic traceback=<Traceback (<Frame filename='/usr/lib/python3.7/site-packages/astropy/cosmology/core.py' lineno=291>,)> size=1112 count=1>,\n",
       " <Statistic traceback=<Traceback (<Frame filename='/usr/lib/python3.7/weakref.py' lineno=394>,)> size=1064 count=19>,\n",
       " <Statistic traceback=<Traceback (<Frame filename='/usr/lib/python3.7/threading.py' lineno=348>,)> size=1056 count=2>,\n",
       " <Statistic traceback=<Traceback (<Frame filename='/usr/lib/python3.7/json/decoder.py' lineno=353>,)> size=1040 count=24>,\n",
       " <Statistic traceback=<Traceback (<Frame filename='/usr/lib/python3.7/site-packages/distributed/scheduler.py' lineno=1202>,)> size=1032 count=43>,\n",
       " <Statistic traceback=<Traceback (<Frame filename='/usr/lib/python3.7/site-packages/numpy/core/numeric.py' lineno=591>,)> size=1032 count=9>,\n",
       " <Statistic traceback=<Traceback (<Frame filename='/usr/lib/python3.7/site-packages/distributed/threadpoolexecutor.py' lineno=53>,)> size=1024 count=2>,\n",
       " <Statistic traceback=<Traceback (<Frame filename='/usr/lib/python3.7/site-packages/zarr/indexing.py' lineno=370>,)> size=999 count=1>,\n",
       " <Statistic traceback=<Traceback (<Frame filename='/usr/lib/python3.7/site-packages/distributed/core.py' lineno=360>,)> size=992 count=10>,\n",
       " <Statistic traceback=<Traceback (<Frame filename='/usr/lib/python3.7/site-packages/dask/compatibility.py' lineno=107>,)> size=992 count=5>,\n",
       " <Statistic traceback=<Traceback (<Frame filename='/usr/lib/python3.7/site-packages/psutil/_common.py' lineno=586>,)> size=984 count=11>,\n",
       " <Statistic traceback=<Traceback (<Frame filename='/usr/lib/python3.7/site-packages/distributed/comm/inproc.py' lineno=191>,)> size=960 count=20>,\n",
       " <Statistic traceback=<Traceback (<Frame filename='./binning.py' lineno=12>,)> size=960 count=9>,\n",
       " <Statistic traceback=<Traceback (<Frame filename='<ipython-input-71-c592ae1eedfa>' lineno=14>,)> size=936 count=2>,\n",
       " <Statistic traceback=<Traceback (<Frame filename='/usr/lib/python3.7/site-packages/distributed/counter.py' lineno=53>,)> size=912 count=38>,\n",
       " <Statistic traceback=<Traceback (<Frame filename='/usr/lib/python3.7/site-packages/numpy/core/fromnumeric.py' lineno=70>,)> size=888 count=7>,\n",
       " <Statistic traceback=<Traceback (<Frame filename='./window_utils.py' lineno=235>,)> size=888 count=3>,\n",
       " <Statistic traceback=<Traceback (<Frame filename='./window_utils.py' lineno=198>,)> size=888 count=3>,\n",
       " <Statistic traceback=<Traceback (<Frame filename='/usr/lib/python3.7/site-packages/distributed/utils.py' lineno=528>,)> size=870 count=13>,\n",
       " <Statistic traceback=<Traceback (<Frame filename='/usr/lib/python3.7/site-packages/psutil/__init__.py' lineno=1030>,)> size=864 count=36>,\n",
       " <Statistic traceback=<Traceback (<Frame filename='/usr/lib/python3.7/site-packages/distributed/core.py' lineno=277>,)> size=864 count=18>,\n",
       " <Statistic traceback=<Traceback (<Frame filename='/usr/lib/python3.7/site-packages/zarr/indexing.py' lineno=207>,)> size=864 count=12>,\n",
       " <Statistic traceback=<Traceback (<Frame filename='/usr/lib/python3.7/site-packages/distributed/scheduler.py' lineno=1208>,)> size=864 count=12>,\n",
       " <Statistic traceback=<Traceback (<Frame filename='/usr/lib/python3.7/asyncio/base_events.py' lineno=656>,)> size=848 count=22>,\n",
       " <Statistic traceback=<Traceback (<Frame filename='/usr/lib/python3.7/site-packages/numpy/core/fromnumeric.py' lineno=56>,)> size=848 count=14>,\n",
       " <Statistic traceback=<Traceback (<Frame filename='/usr/lib/python3.7/site-packages/psutil/__init__.py' lineno=1009>,)> size=840 count=35>,\n",
       " <Statistic traceback=<Traceback (<Frame filename='/usr/lib/python3.7/site-packages/distributed/comm/core.py' lineno=103>,)> size=828 count=6>,\n",
       " <Statistic traceback=<Traceback (<Frame filename='/usr/lib/python3.7/site-packages/distributed/comm/inproc.py' lineno=165>,)> size=816 count=6>,\n",
       " <Statistic traceback=<Traceback (<Frame filename='/usr/lib/python3.7/site-packages/distributed/scheduler.py' lineno=3081>,)> size=768 count=16>,\n",
       " <Statistic traceback=<Traceback (<Frame filename='/usr/lib/python3.7/site-packages/zarr/meta.py' lineno=47>,)> size=736 count=4>,\n",
       " <Statistic traceback=<Traceback (<Frame filename='/usr/lib/python3.7/site-packages/distributed/scheduler.py' lineno=1186>,)> size=720 count=10>,\n",
       " <Statistic traceback=<Traceback (<Frame filename='/usr/lib/python3.7/asyncio/events.py' lineno=111>,)> size=704 count=11>,\n",
       " <Statistic traceback=<Traceback (<Frame filename='/usr/lib/python3.7/site-packages/distributed/worker.py' lineno=540>,)> size=704 count=6>,\n",
       " <Statistic traceback=<Traceback (<Frame filename='/usr/lib/python3.7/site-packages/numpy/core/numeric.py' lineno=538>,)> size=696 count=7>,\n",
       " <Statistic traceback=<Traceback (<Frame filename='/usr/lib/python3.7/site-packages/distributed/counter.py' lineno=46>,)> size=680 count=7>,\n",
       " <Statistic traceback=<Traceback (<Frame filename='./window_utils.py' lineno=51>,)> size=680 count=1>,\n",
       " <Statistic traceback=<Traceback (<Frame filename='/usr/lib/python3.7/site-packages/zarr/indexing.py' lineno=568>,)> size=672 count=12>,\n",
       " <Statistic traceback=<Traceback (<Frame filename='/usr/lib/python3.7/site-packages/tornado/locks.py' lineno=195>,)> size=672 count=3>,\n",
       " <Statistic traceback=<Traceback (<Frame filename='/usr/lib/python3.7/site-packages/distributed/worker.py' lineno=1350>,)> size=672 count=3>,\n",
       " <Statistic traceback=<Traceback (<Frame filename='/usr/lib/python3.7/site-packages/distributed/core.py' lineno=706>,)> size=672 count=3>,\n",
       " <Statistic traceback=<Traceback (<Frame filename='/usr/lib/python3.7/site-packages/distributed/core.py' lineno=705>,)> size=672 count=3>,\n",
       " <Statistic traceback=<Traceback (<Frame filename='/usr/lib/python3.7/site-packages/numpy/core/einsumfunc.py' lineno=1398>,)> size=656 count=1>,\n",
       " <Statistic traceback=<Traceback (<Frame filename='/usr/lib/python3.7/site-packages/tornado/gen.py' lineno=400>,)> size=648 count=9>,\n",
       " <Statistic traceback=<Traceback (<Frame filename='/usr/lib/python3.7/site-packages/zarr/storage.py' lineno=735>,)> size=632 count=6>,\n",
       " <Statistic traceback=<Traceback (<Frame filename='/usr/lib/python3.7/inspect.py' lineno=2217>,)> size=608 count=1>,\n",
       " <Statistic traceback=<Traceback (<Frame filename='/usr/lib/python3.7/site-packages/distributed/scheduler.py' lineno=3026>,)> size=576 count=14>,\n",
       " <Statistic traceback=<Traceback (<Frame filename='/usr/lib/python3.7/site-packages/tornado/locks.py' lineno=239>,)> size=576 count=12>,\n",
       " <Statistic traceback=<Traceback (<Frame filename='./binning.py' lineno=54>,)> size=576 count=6>,\n",
       " <Statistic traceback=<Traceback (<Frame filename='./window_utils.py' lineno=44>,)> size=576 count=1>,\n",
       " <Statistic traceback=<Traceback (<Frame filename='/usr/lib/python3.7/site-packages/scipy/interpolate/interpolate.py' lineno=610>,)> size=560 count=4>,\n",
       " <Statistic traceback=<Traceback (<Frame filename='/usr/lib/python3.7/site-packages/zarr/core.py' lineno=1015>,)> size=560 count=1>,\n",
       " <Statistic traceback=<Traceback (<Frame filename='/usr/lib/python3.7/site-packages/distributed/worker.py' lineno=1808>,)> size=560 count=1>,\n",
       " <Statistic traceback=<Traceback (<Frame filename='/usr/lib/python3.7/site-packages/distributed/worker.py' lineno=629>,)> size=560 count=1>,\n",
       " <Statistic traceback=<Traceback (<Frame filename='/usr/lib/python3.7/site-packages/distributed/utils_comm.py' lineno=63>,)> size=560 count=1>,\n",
       " <Statistic traceback=<Traceback (<Frame filename='/usr/lib/python3.7/site-packages/distributed/core.py' lineno=553>,)> size=560 count=1>,\n",
       " <Statistic traceback=<Traceback (<Frame filename='/usr/lib/python3.7/site-packages/dask/delayed.py' lineno=95>,)> size=544 count=9>,\n",
       " <Statistic traceback=<Traceback (<Frame filename='/usr/lib/python3.7/queue.py' lineno=179>,)> size=544 count=1>,\n",
       " <Statistic traceback=<Traceback (<Frame filename='/usr/lib/python3.7/weakref.py' lineno=533>,)> size=528 count=6>,\n",
       " <Statistic traceback=<Traceback (<Frame filename='/usr/lib/python3.7/site-packages/toolz/itertoolz.py' lineno=541>,)> size=528 count=6>,\n",
       " <Statistic traceback=<Traceback (<Frame filename='/usr/lib/python3.7/threading.py' lineno=238>,)> size=528 count=1>,\n",
       " <Statistic traceback=<Traceback (<Frame filename='/usr/lib/python3.7/asyncio/base_events.py' lineno=711>,)> size=528 count=1>,\n",
       " <Statistic traceback=<Traceback (<Frame filename='/usr/lib/python3.7/site-packages/scipy/interpolate/interpolate.py' lineno=662>,)> size=520 count=1>,\n",
       " <Statistic traceback=<Traceback (<Frame filename='/usr/lib/python3.7/site-packages/distributed/scheduler.py' lineno=2731>,)> size=512 count=1>,\n",
       " <Statistic traceback=<Traceback (<Frame filename='/usr/lib/python3.7/multiprocessing/process.py' lineno=223>,)> size=512 count=1>,\n",
       " <Statistic traceback=<Traceback (<Frame filename='/usr/lib/python3.7/site-packages/distributed/scheduler.py' lineno=3779>,)> size=504 count=3>,\n",
       " <Statistic traceback=<Traceback (<Frame filename='/usr/lib/python3.7/site-packages/distributed/utils_comm.py' lineno=181>,)> size=504 count=1>,\n",
       " <Statistic traceback=<Traceback (<Frame filename='/usr/lib/python3.7/site-packages/distributed/worker.py' lineno=1842>,)> size=480 count=10>,\n",
       " <Statistic traceback=<Traceback (<Frame filename='/usr/lib/python3.7/site-packages/distributed/scheduler.py' lineno=3020>,)> size=480 count=10>,\n",
       " <Statistic traceback=<Traceback (<Frame filename='/usr/lib/python3.7/weakref.py' lineno=534>,)> size=480 count=6>,\n",
       " <Statistic traceback=<Traceback (<Frame filename='/usr/lib/python3.7/site-packages/distributed/comm/inproc.py' lineno=151>,)> size=480 count=6>,\n",
       " <Statistic traceback=<Traceback (<Frame filename='/usr/lib/python3.7/threading.py' lineno=218>,)> size=480 count=4>,\n",
       " <Statistic traceback=<Traceback (<Frame filename='/usr/lib/python3.7/site-packages/dask/delayed.py' lineno=93>,)> size=480 count=1>,\n",
       " <Statistic traceback=<Traceback (<Frame filename='/usr/lib/python3.7/site-packages/astropy/units/core.py' lineno=1915>,)> size=480 count=1>,\n",
       " <Statistic traceback=<Traceback (<Frame filename='./window_utils.py' lineno=399>,)> size=480 count=1>,\n",
       " <Statistic traceback=<Traceback (<Frame filename='/usr/lib/python3.7/site-packages/heapdict.py' lineno=58>,)> size=472 count=1>,\n",
       " <Statistic traceback=<Traceback (<Frame filename='/usr/lib/python3.7/asyncio/base_events.py' lineno=739>,)> size=472 count=1>,\n",
       " <Statistic traceback=<Traceback (<Frame filename='/usr/lib/python3.7/site-packages/scipy/interpolate/polyint.py' lineno=79>,)> size=464 count=1>,\n",
       " <Statistic traceback=<Traceback (<Frame filename='/usr/lib/python3.7/site-packages/zarr/indexing.py' lineno=823>,)> size=432 count=6>,\n",
       " <Statistic traceback=<Traceback (<Frame filename='/usr/lib/python3.7/site-packages/zarr/indexing.py' lineno=558>,)> size=432 count=6>,\n",
       " <Statistic traceback=<Traceback (<Frame filename='/usr/lib/python3.7/site-packages/zarr/indexing.py' lineno=534>,)> size=432 count=6>,\n",
       " <Statistic traceback=<Traceback (<Frame filename='./cov_3X2.py' lineno=76>,)> size=432 count=1>,\n",
       " <Statistic traceback=<Traceback (<Frame filename='/usr/lib/python3.7/site-packages/astropy/units/core.py' lineno=2068>,)> size=416 count=9>,\n",
       " <Statistic traceback=<Traceback (<Frame filename='/usr/lib/python3.7/site-packages/psutil/_pslinux.py' lineno=1697>,)> size=384 count=16>,\n",
       " <Statistic traceback=<Traceback (<Frame filename='/usr/lib/python3.7/site-packages/distributed/worker.py' lineno=2205>,)> size=384 count=6>,\n",
       " <Statistic traceback=<Traceback (<Frame filename='/usr/lib/python3.7/site-packages/dask/core.py' lineno=269>,)> size=384 count=6>,\n",
       " <Statistic traceback=<Traceback (<Frame filename='/usr/lib/python3.7/site-packages/tornado/ioloop.py' lineno=1238>,)> size=384 count=4>,\n",
       " <Statistic traceback=<Traceback (<Frame filename='/usr/lib/python3.7/threading.py' lineno=289>,)> size=360 count=10>,\n",
       " <Statistic traceback=<Traceback (<Frame filename='/usr/lib/python3.7/site-packages/distributed/worker.py' lineno=1482>,)> size=360 count=5>,\n",
       " <Statistic traceback=<Traceback (<Frame filename='/usr/lib/python3.7/site-packages/astropy/units/core.py' lineno=2069>,)> size=352 count=8>,\n",
       " <Statistic traceback=<Traceback (<Frame filename='/usr/lib/python3.7/abc.py' lineno=139>,)> size=344 count=6>,\n",
       " <Statistic traceback=<Traceback (<Frame filename='/usr/lib/python3.7/site-packages/psutil/_pslinux.py' lineno=1015>,)> size=336 count=3>,\n",
       " <Statistic traceback=<Traceback (<Frame filename='/usr/lib/python3.7/site-packages/psutil/_common.py' lineno=548>,)> size=336 count=3>,\n",
       " <Statistic traceback=<Traceback (<Frame filename='/usr/lib/python3.7/site-packages/astropy/units/quantity.py' lineno=765>,)> size=336 count=3>,\n",
       " <Statistic traceback=<Traceback (<Frame filename='/usr/lib/python3.7/site-packages/astropy/units/quantity.py' lineno=385>,)> size=336 count=3>,\n",
       " <Statistic traceback=<Traceback (<Frame filename='./wigner_transform.py' lineno=36>,)> size=336 count=3>,\n",
       " <Statistic traceback=<Traceback (<Frame filename='/usr/lib/python3.7/site-packages/zarr/core.py' lineno=110>,)> size=336 count=2>,\n",
       " <Statistic traceback=<Traceback (<Frame filename='/usr/lib/python3.7/site-packages/distributed/comm/inproc.py' lineno=116>,)> size=336 count=2>,\n",
       " <Statistic traceback=<Traceback (<Frame filename='/usr/lib/python3.7/site-packages/distributed/worker.py' lineno=588>,)> size=320 count=5>,\n",
       " <Statistic traceback=<Traceback (<Frame filename='/usr/lib/python3.7/site-packages/distributed/_concurrent_futures_thread.py' lineno=128>,)> size=320 count=4>,\n",
       " <Statistic traceback=<Traceback (<Frame filename='/usr/lib/python3.7/site-packages/tornado/platform/asyncio.py' lineno=144>,)> size=312 count=13>,\n",
       " <Statistic traceback=<Traceback (<Frame filename='/usr/lib/python3.7/site-packages/zarr/core.py' lineno=1748>,)> size=312 count=3>,\n",
       " <Statistic traceback=<Traceback (<Frame filename='/usr/lib/python3.7/site-packages/numpy/core/fromnumeric.py' lineno=2076>,)> size=312 count=3>,\n",
       " <Statistic traceback=<Traceback (<Frame filename='/usr/lib/python3.7/site-packages/distributed/worker.py' lineno=1352>,)> size=312 count=3>,\n",
       " <Statistic traceback=<Traceback (<Frame filename='./wigner_transform.py' lineno=57>,)> size=312 count=3>,\n",
       " <Statistic traceback=<Traceback (<Frame filename='/usr/lib/python3.7/site-packages/distributed/system_monitor.py' lineno=56>,)> size=308 count=11>,\n",
       " <Statistic traceback=<Traceback (<Frame filename='/usr/lib/python3.7/tokenize.py' lineno=451>,)> size=307 count=3>,\n",
       " <Statistic traceback=<Traceback (<Frame filename='/usr/lib/python3.7/site-packages/scipy/interpolate/interpolate.py' lineno=605>,)> size=296 count=4>,\n",
       " <Statistic traceback=<Traceback (<Frame filename='/usr/lib/python3.7/site-packages/zict/lru.py' lineno=64>,)> size=296 count=1>,\n",
       " <Statistic traceback=<Traceback (<Frame filename='/usr/lib/python3.7/site-packages/zict/lru.py' lineno=60>,)> size=296 count=1>,\n",
       " <Statistic traceback=<Traceback (<Frame filename='/usr/lib/python3.7/site-packages/tornado/ioloop.py' lineno=1206>,)> size=296 count=1>,\n",
       " <Statistic traceback=<Traceback (<Frame filename='/usr/lib/python3.7/site-packages/distributed/worker.py' lineno=2211>,)> size=296 count=1>,\n",
       " <Statistic traceback=<Traceback (<Frame filename='/usr/lib/python3.7/site-packages/distributed/worker.py' lineno=2210>,)> size=296 count=1>,\n",
       " <Statistic traceback=<Traceback (<Frame filename='/usr/lib/python3.7/selectors.py' lineno=480>,)> size=288 count=9>,\n",
       " <Statistic traceback=<Traceback (<Frame filename='/usr/lib/python3.7/threading.py' lineno=244>,)> size=288 count=4>,\n",
       " <Statistic traceback=<Traceback (<Frame filename='/usr/lib/python3.7/threading.py' lineno=235>,)> size=288 count=4>,\n",
       " <Statistic traceback=<Traceback (<Frame filename='/usr/lib/python3.7/site-packages/distributed/core.py' lineno=199>,)> size=280 count=10>,\n",
       " <Statistic traceback=<Traceback (<Frame filename='/usr/lib/python3.7/site-packages/astropy/units/quantity.py' lineno=789>,)> size=280 count=7>,\n",
       " <Statistic traceback=<Traceback (<Frame filename='/usr/lib/python3.7/site-packages/distributed/worker.py' lineno=1800>,)> size=280 count=5>,\n",
       " <Statistic traceback=<Traceback (<Frame filename='/usr/lib/python3.7/abc.py' lineno=143>,)> size=280 count=5>,\n",
       " <Statistic traceback=<Traceback (<Frame filename='/usr/lib/python3.7/site-packages/scipy/interpolate/interpolate.py' lineno=604>,)> size=280 count=3>,\n",
       " <Statistic traceback=<Traceback (<Frame filename='/usr/lib/python3.7/site-packages/scipy/interpolate/interpolate.py' lineno=597>,)> size=280 count=3>,\n",
       " <Statistic traceback=<Traceback (<Frame filename='/usr/lib/python3.7/site-packages/scipy/interpolate/interpolate.py' lineno=606>,)> size=280 count=2>,\n",
       " <Statistic traceback=<Traceback (<Frame filename='/usr/lib/python3.7/site-packages/astropy/units/core.py' lineno=1985>,)> size=272 count=6>,\n",
       " <Statistic traceback=<Traceback (<Frame filename='/usr/lib/python3.7/site-packages/tornado/locks.py' lineno=243>,)> size=272 count=2>,\n",
       " <Statistic traceback=<Traceback (<Frame filename='/usr/lib/python3.7/site-packages/tornado/gen.py' lineno=988>,)> size=272 count=2>,\n",
       " <Statistic traceback=<Traceback (<Frame filename='/usr/lib/python3.7/site-packages/tornado/gen.py' lineno=976>,)> size=272 count=2>,\n",
       " <Statistic traceback=<Traceback (<Frame filename='/usr/lib/python3.7/site-packages/tornado/gen.py' lineno=968>,)> size=272 count=2>,\n",
       " <Statistic traceback=<Traceback (<Frame filename='/usr/lib/python3.7/site-packages/tornado/concurrent.py' lineno=599>,)> size=272 count=2>,\n",
       " <Statistic traceback=<Traceback (<Frame filename='/usr/lib/python3.7/site-packages/numcodecs/abc.py' lineno=111>,)> size=264 count=6>,\n",
       " <Statistic traceback=<Traceback (<Frame filename='/usr/lib/python3.7/site-packages/distributed/protocol/pickle.py' lineno=59>,)> size=257 count=5>,\n",
       " <Statistic traceback=<Traceback (<Frame filename='/usr/lib/python3.7/site-packages/tornado/gen.py' lineno=864>,)> size=256 count=4>,\n",
       " <Statistic traceback=<Traceback (<Frame filename='./window_utils.py' lineno=184>,)> size=256 count=4>,\n",
       " <Statistic traceback=<Traceback (<Frame filename='/usr/lib/python3.7/site-packages/distributed/scheduler.py' lineno=3008>,)> size=256 count=1>,\n",
       " <Statistic traceback=<Traceback (<Frame filename='/usr/lib/python3.7/site-packages/distributed/scheduler.py' lineno=1712>,)> size=256 count=1>,\n",
       " <Statistic traceback=<Traceback (<Frame filename='/usr/lib/python3.7/site-packages/scipy/interpolate/interpolate.py' lineno=453>,)> size=248 count=1>,\n",
       " <Statistic traceback=<Traceback (<Frame filename='/usr/lib/python3.7/site-packages/scipy/interpolate/interpolate.py' lineno=449>,)> size=248 count=1>,\n",
       " <Statistic traceback=<Traceback (<Frame filename='/usr/lib/python3.7/site-packages/distributed/comm/inproc.py' lineno=306>,)> size=246 count=3>,\n",
       " <Statistic traceback=<Traceback (<Frame filename='/usr/lib/python3.7/site-packages/distributed/comm/inproc.py' lineno=305>,)> size=246 count=3>,\n",
       " <Statistic traceback=<Traceback (<Frame filename='/usr/lib/python3.7/site-packages/distributed/comm/inproc.py' lineno=252>,)> size=246 count=3>,\n",
       " <Statistic traceback=<Traceback (<Frame filename='/usr/lib/python3.7/site-packages/distributed/comm/inproc.py' lineno=251>,)> size=246 count=3>,\n",
       " <Statistic traceback=<Traceback (<Frame filename='/usr/lib/python3.7/site-packages/tornado/ioloop.py' lineno=1241>,)> size=240 count=10>,\n",
       " <Statistic traceback=<Traceback (<Frame filename='/usr/lib/python3.7/asyncio/base_events.py' lineno=1743>,)> size=240 count=10>,\n",
       " <Statistic traceback=<Traceback (<Frame filename='/usr/lib/python3.7/site-packages/healpy/sphtfunc.py' lineno=703>,)> size=240 count=3>,\n",
       " <Statistic traceback=<Traceback (<Frame filename='/usr/lib/python3.7/site-packages/astropy/units/quantity.py' lineno=761>,)> size=240 count=3>,\n",
       " <Statistic traceback=<Traceback (<Frame filename='/usr/lib/python3.7/site-packages/jupyter_client/session.py' lineno=571>,)> size=240 count=2>,\n",
       " <Statistic traceback=<Traceback (<Frame filename='/usr/lib/python3.7/site-packages/distributed/scheduler.py' lineno=3032>,)> size=240 count=2>,\n",
       " <Statistic traceback=<Traceback (<Frame filename='/usr/lib/python3.7/json/__init__.py' lineno=238>,)> size=240 count=2>,\n",
       " <Statistic traceback=<Traceback (<Frame filename='./window_utils.py' lineno=177>,)> size=240 count=2>,\n",
       " <Statistic traceback=<Traceback (<Frame filename='/usr/lib/python3.7/posixpath.py' lineno=372>,)> size=238 count=2>,\n",
       " <Statistic traceback=<Traceback (<Frame filename='/usr/lib/python3.7/site-packages/sparse/coo.py' lineno=316>,)> size=224 count=8>,\n",
       " <Statistic traceback=<Traceback (<Frame filename='/usr/lib/python3.7/site-packages/psutil/_pslinux.py' lineno=1012>,)> size=224 count=8>,\n",
       " <Statistic traceback=<Traceback (<Frame filename='/usr/lib/python3.7/asyncio/selector_events.py' lineno=132>,)> size=224 count=4>,\n",
       " <Statistic traceback=<Traceback (<Frame filename='./window_utils.py' lineno=103>,)> size=224 count=4>,\n",
       " <Statistic traceback=<Traceback (<Frame filename='/usr/lib/python3.7/site-packages/distributed/worker.py' lineno=1839>,)> size=224 count=2>,\n",
       " <Statistic traceback=<Traceback (<Frame filename='/usr/lib/python3.7/site-packages/dask/highlevelgraph.py' lineno=118>,)> size=224 count=1>,\n",
       " <Statistic traceback=<Traceback (<Frame filename='/usr/lib/python3.7/codeop.py' lineno=133>,)> size=222 count=3>,\n",
       " <Statistic traceback=<Traceback (<Frame filename='/usr/lib/python3.7/site-packages/distributed/comm/inproc.py' lineno=59>,)> size=219 count=3>,\n",
       " <Statistic traceback=<Traceback (<Frame filename='/usr/lib/python3.7/site-packages/distributed/worker.py' lineno=650>,)> size=216 count=9>,\n",
       " <Statistic traceback=<Traceback (<Frame filename='/usr/lib/python3.7/threading.py' lineno=231>,)> size=216 count=3>,\n",
       " <Statistic traceback=<Traceback (<Frame filename='/usr/lib/python3.7/threading.py' lineno=227>,)> size=216 count=3>,\n",
       " <Statistic traceback=<Traceback (<Frame filename='/usr/lib/python3.7/threading.py' lineno=222>,)> size=216 count=3>,\n",
       " <Statistic traceback=<Traceback (<Frame filename='/usr/lib/python3.7/site-packages/zarr/indexing.py' lineno=384>,)> size=216 count=3>,\n",
       " <Statistic traceback=<Traceback (<Frame filename='/usr/lib/python3.7/site-packages/tornado/ioloop.py' lineno=1193>,)> size=216 count=3>,\n",
       " <Statistic traceback=<Traceback (<Frame filename='/usr/lib/python3.7/site-packages/tornado/gen.py' lineno=467>,)> size=216 count=3>,\n",
       " <Statistic traceback=<Traceback (<Frame filename='/usr/lib/python3.7/site-packages/toolz/dicttoolz.py' lineno=99>,)> size=216 count=3>,\n",
       " <Statistic traceback=<Traceback (<Frame filename='/usr/lib/python3.7/site-packages/toolz/dicttoolz.py' lineno=83>,)> size=216 count=3>,\n",
       " <Statistic traceback=<Traceback (<Frame filename='/usr/lib/python3.7/site-packages/scipy/interpolate/interpolate.py' lineno=448>,)> size=216 count=3>,\n",
       " <Statistic traceback=<Traceback (<Frame filename='/usr/lib/python3.7/site-packages/distributed/utils_comm.py' lineno=43>,)> size=216 count=3>,\n",
       " <Statistic traceback=<Traceback (<Frame filename='/usr/lib/python3.7/site-packages/distributed/utils_comm.py' lineno=38>,)> size=216 count=3>,\n",
       " <Statistic traceback=<Traceback (<Frame filename='/usr/lib/python3.7/site-packages/dask/order.py' lineno=230>,)> size=216 count=3>,\n",
       " <Statistic traceback=<Traceback (<Frame filename='/usr/lib/python3.7/site-packages/dask/order.py' lineno=200>,)> size=216 count=3>,\n",
       " <Statistic traceback=<Traceback (<Frame filename='/usr/lib/python3.7/site-packages/dask/order.py' lineno=127>,)> size=216 count=3>,\n",
       " <Statistic traceback=<Traceback (<Frame filename='/usr/lib/python3.7/asyncio/events.py' lineno=41>,)> size=216 count=3>,\n",
       " <Statistic traceback=<Traceback (<Frame filename='./cov_3X2.py' lineno=90>,)> size=216 count=2>,\n",
       " <Statistic traceback=<Traceback (<Frame filename='/usr/lib/python3.7/site-packages/numpy/core/fromnumeric.py' lineno=86>,)> size=208 count=13>,\n",
       " <Statistic traceback=<Traceback (<Frame filename='/usr/lib/python3.7/selectors.py' lineno=468>,)> size=204 count=3>,\n",
       " <Statistic traceback=<Traceback (<Frame filename='/usr/lib/python3.7/site-packages/astropy/units/core.py' lineno=2058>,)> size=192 count=8>,\n",
       " <Statistic traceback=<Traceback (<Frame filename='/usr/lib/python3.7/site-packages/tornado/gen.py' lineno=965>,)> size=192 count=4>,\n",
       " <Statistic traceback=<Traceback (<Frame filename='/usr/lib/python3.7/site-packages/astropy/units/core.py' lineno=2092>,)> size=192 count=3>,\n",
       " <Statistic traceback=<Traceback (<Frame filename='/usr/lib/python3.7/site-packages/healpy/sphtfunc.py' lineno=701>,)> size=184 count=2>,\n",
       " <Statistic traceback=<Traceback (<Frame filename='/usr/lib/python3.7/site-packages/dask/delayed.py' lineno=433>,)> size=180 count=2>,\n",
       " <Statistic traceback=<Traceback (<Frame filename='/usr/lib/python3.7/site-packages/numpy/lib/arraysetops.py' lineno=316>,)> size=176 count=11>,\n",
       " <Statistic traceback=<Traceback (<Frame filename='/usr/lib/python3.7/site-packages/distributed/scheduler.py' lineno=3194>,)> size=168 count=7>,\n",
       " <Statistic traceback=<Traceback (<Frame filename='/usr/lib/python3.7/site-packages/distributed/comm/inproc.py' lineno=310>,)> size=168 count=3>,\n",
       " <Statistic traceback=<Traceback (<Frame filename='/usr/lib/python3.7/site-packages/distributed/comm/inproc.py' lineno=297>,)> size=168 count=3>,\n",
       " <Statistic traceback=<Traceback (<Frame filename='/usr/lib/python3.7/site-packages/distributed/comm/inproc.py' lineno=294>,)> size=168 count=3>,\n",
       " <Statistic traceback=<Traceback (<Frame filename='/usr/lib/python3.7/site-packages/distributed/comm/inproc.py' lineno=293>,)> size=168 count=3>,\n",
       " <Statistic traceback=<Traceback (<Frame filename='/usr/lib/python3.7/site-packages/distributed/comm/inproc.py' lineno=256>,)> size=168 count=3>,\n",
       " <Statistic traceback=<Traceback (<Frame filename='/usr/lib/python3.7/site-packages/distributed/client.py' lineno=2326>,)> size=168 count=3>,\n",
       " <Statistic traceback=<Traceback (<Frame filename='/usr/lib/python3.7/site-packages/dask/base.py' lineno=661>,)> size=168 count=3>,\n",
       " <Statistic traceback=<Traceback (<Frame filename='/usr/lib/python3.7/site-packages/dask/base.py' lineno=229>,)> size=168 count=3>,\n",
       " <Statistic traceback=<Traceback (<Frame filename='/usr/lib/python3.7/site-packages/astropy/units/core.py' lineno=649>,)> size=168 count=3>,\n",
       " <Statistic traceback=<Traceback (<Frame filename='/usr/lib/python3.7/site-packages/ipykernel/iostream.py' lineno=400>,)> size=168 count=2>,\n",
       " <Statistic traceback=<Traceback (<Frame filename='/usr/lib/python3.7/site-packages/distributed/stealing.py' lineno=98>,)> size=168 count=1>,\n",
       " <Statistic traceback=<Traceback (<Frame filename='/usr/lib/python3.7/site-packages/distributed/scheduler.py' lineno=3757>,)> size=168 count=1>,\n",
       " <Statistic traceback=<Traceback (<Frame filename='./power_spectra.py' lineno=77>,)> size=168 count=1>,\n",
       " <Statistic traceback=<Traceback (<Frame filename='./cov_utils.py' lineno=18>,)> size=168 count=1>,\n",
       " <Statistic traceback=<Traceback (<Frame filename='./cov_3X2.py' lineno=148>,)> size=168 count=1>,\n",
       " <Statistic traceback=<Traceback (<Frame filename='./angular_power_spectra.py' lineno=19>,)> size=168 count=1>,\n",
       " <Statistic traceback=<Traceback (<Frame filename='/usr/lib/python3.7/site-packages/psutil/_pslinux.py' lineno=992>,)> size=164 count=3>,\n",
       " <Statistic traceback=<Traceback (<Frame filename='/usr/lib/python3.7/site-packages/distributed/batched.py' lineno=120>,)> size=160 count=5>,\n",
       " <Statistic traceback=<Traceback (<Frame filename='/usr/lib/python3.7/site-packages/zarr/attrs.py' lineno=33>,)> size=160 count=2>,\n",
       " <Statistic traceback=<Traceback (<Frame filename='/usr/lib/python3.7/site-packages/scipy/interpolate/polyint.py' lineno=96>,)> size=160 count=2>,\n",
       " <Statistic traceback=<Traceback (<Frame filename='/usr/lib/python3.7/site-packages/astropy/units/quantity.py' lineno=370>,)> size=160 count=2>,\n",
       " <Statistic traceback=<Traceback (<Frame filename='/usr/lib/python3.7/site-packages/distributed/scheduler.py' lineno=1998>,)> size=160 count=1>,\n",
       " <Statistic traceback=<Traceback (<Frame filename='./window_utils.py' lineno=165>,)> size=153 count=3>,\n",
       " <Statistic traceback=<Traceback (<Frame filename='/usr/lib/python3.7/site-packages/ipykernel/iostream.py' lineno=434>,)> size=152 count=2>,\n",
       " <Statistic traceback=<Traceback (<Frame filename='/usr/lib/python3.7/site-packages/distributed/comm/inproc.py' lineno=259>,)> size=144 count=3>,\n",
       " <Statistic traceback=<Traceback (<Frame filename='/usr/lib/python3.7/site-packages/numcodecs/registry.py' lineno=32>,)> size=144 count=2>,\n",
       " <Statistic traceback=<Traceback (<Frame filename='/usr/lib/python3.7/site-packages/distributed/worker.py' lineno=2188>,)> size=144 count=2>,\n",
       " <Statistic traceback=<Traceback (<Frame filename='/usr/lib/python3.7/site-packages/distributed/utils_comm.py' lineno=229>,)> size=144 count=2>,\n",
       " <Statistic traceback=<Traceback (<Frame filename='/usr/lib/python3.7/site-packages/distributed/client.py' lineno=1400>,)> size=144 count=2>,\n",
       " <Statistic traceback=<Traceback (<Frame filename='/usr/lib/python3.7/site-packages/distributed/_concurrent_futures_thread.py' lineno=54>,)> size=144 count=2>,\n",
       " <Statistic traceback=<Traceback (<Frame filename='/usr/lib/python3.7/site-packages/dask/order.py' lineno=199>,)> size=144 count=2>,\n",
       " <Statistic traceback=<Traceback (<Frame filename='/usr/lib/python3.7/site-packages/dask/optimization.py' lineno=46>,)> size=144 count=2>,\n",
       " <Statistic traceback=<Traceback (<Frame filename='/usr/lib/python3.7/site-packages/astropy/units/core.py' lineno=2050>,)> size=144 count=2>,\n",
       " <Statistic traceback=<Traceback (<Frame filename='/usr/lib/python3.7/queue.py' lineno=182>,)> size=144 count=2>,\n",
       " <Statistic traceback=<Traceback (<Frame filename='/usr/lib/python3.7/concurrent/futures/_base.py' lineno=314>,)> size=144 count=2>,\n",
       " <Statistic traceback=<Traceback (<Frame filename='/usr/lib/python3.7/site-packages/distributed/scheduler.py' lineno=3724>,)> size=144 count=1>,\n",
       " <Statistic traceback=<Traceback (<Frame filename='/usr/lib/python3.7/site-packages/distributed/scheduler.py' lineno=1521>,)> size=144 count=1>,\n",
       " <Statistic traceback=<Traceback (<Frame filename='/usr/lib/python3.7/site-packages/traitlets/traitlets.py' lineno=600>,)> size=135 count=2>,\n",
       " <Statistic traceback=<Traceback (<Frame filename='/usr/lib/python3.7/site-packages/distributed/worker.py' lineno=852>,)> size=128 count=4>,\n",
       " <Statistic traceback=<Traceback (<Frame filename='/usr/lib/python3.7/site-packages/tornado/concurrent.py' lineno=627>,)> size=128 count=2>,\n",
       " <Statistic traceback=<Traceback (<Frame filename='/usr/lib/python3.7/site-packages/distributed/worker.py' lineno=1846>,)> size=128 count=2>,\n",
       " <Statistic traceback=<Traceback (<Frame filename='/usr/lib/python3.7/site-packages/distributed/utils_comm.py' lineno=49>,)> size=128 count=2>,\n",
       " <Statistic traceback=<Traceback (<Frame filename='/usr/lib/python3.7/site-packages/distributed/scheduler.py' lineno=1317>,)> size=128 count=2>,\n",
       " <Statistic traceback=<Traceback (<Frame filename='/usr/lib/python3.7/site-packages/distributed/client.py' lineno=2132>,)> size=128 count=2>,\n",
       " <Statistic traceback=<Traceback (<Frame filename='/usr/lib/python3.7/site-packages/distributed/client.py' lineno=2105>,)> size=128 count=2>,\n",
       " <Statistic traceback=<Traceback (<Frame filename='/usr/lib/python3.7/site-packages/tornado/ioloop.py' lineno=591>,)> size=120 count=5>,\n",
       " <Statistic traceback=<Traceback (<Frame filename='/usr/lib/python3.7/site-packages/tornado/locks.py' lineno=194>,)> size=120 count=3>,\n",
       " <Statistic traceback=<Traceback (<Frame filename='/usr/lib/python3.7/site-packages/zarr/core.py' lineno=1006>,)> size=120 count=2>,\n",
       " <Statistic traceback=<Traceback (<Frame filename='/usr/lib/python3.7/site-packages/IPython/core/interactiveshell.py' lineno=3185>,)> size=120 count=1>,\n",
       " <Statistic traceback=<Traceback (<Frame filename='/usr/lib/python3.7/site-packages/jupyter_client/jsonutil.py' lineno=91>,)> size=116 count=2>,\n",
       " <Statistic traceback=<Traceback (<Frame filename='/usr/lib/python3.7/site-packages/zarr/creation.py' lineno=478>,)> size=112 count=2>,\n",
       " <Statistic traceback=<Traceback (<Frame filename='/usr/lib/python3.7/site-packages/zarr/creation.py' lineno=136>,)> size=112 count=2>,\n",
       " <Statistic traceback=<Traceback (<Frame filename='/usr/lib/python3.7/site-packages/zarr/core.py' lineno=135>,)> size=112 count=2>,\n",
       " <Statistic traceback=<Traceback (<Frame filename='/usr/lib/python3.7/site-packages/zarr/core.py' lineno=134>,)> size=112 count=2>,\n",
       " <Statistic traceback=<Traceback (<Frame filename='/usr/lib/python3.7/site-packages/zarr/core.py' lineno=131>,)> size=112 count=2>,\n",
       " <Statistic traceback=<Traceback (<Frame filename='/usr/lib/python3.7/site-packages/zarr/core.py' lineno=128>,)> size=112 count=2>,\n",
       " <Statistic traceback=<Traceback (<Frame filename='/usr/lib/python3.7/site-packages/astropy/units/quantity.py' lineno=305>,)> size=112 count=1>,\n",
       " <Statistic traceback=<Traceback (<Frame filename='/usr/lib/python3.7/site-packages/IPython/core/interactiveshell.py' lineno=3183>,)> size=104 count=3>,\n",
       " <Statistic traceback=<Traceback (<Frame filename='/usr/lib/python3.7/site-packages/distributed/comm/inproc.py' lineno=159>,)> size=96 count=6>,\n",
       " <Statistic traceback=<Traceback (<Frame filename='/usr/lib/python3.7/site-packages/distributed/worker.py' lineno=649>,)> size=96 count=4>,\n",
       " <Statistic traceback=<Traceback (<Frame filename='/usr/lib/python3.7/site-packages/distributed/scheduler.py' lineno=3825>,)> size=96 count=4>,\n",
       " <Statistic traceback=<Traceback (<Frame filename='/usr/lib/python3.7/site-packages/distributed/scheduler.py' lineno=3195>,)> size=96 count=4>,\n",
       " <Statistic traceback=<Traceback (<Frame filename='./cov_3X2.py' lineno=142>,)> size=96 count=4>,\n",
       " <Statistic traceback=<Traceback (<Frame filename='/usr/lib/python3.7/site-packages/numpy/core/numeric.py' lineno=1393>,)> size=96 count=3>,\n",
       " <Statistic traceback=<Traceback (<Frame filename='/usr/lib/python3.7/site-packages/distributed/worker.py' lineno=2206>,)> size=96 count=3>,\n",
       " <Statistic traceback=<Traceback (<Frame filename='/usr/lib/python3.7/site-packages/zarr/core.py' lineno=1751>,)> size=96 count=2>,\n",
       " <Statistic traceback=<Traceback (<Frame filename='/usr/lib/python3.7/site-packages/zarr/core.py' lineno=1618>,)> size=96 count=2>,\n",
       " <Statistic traceback=<Traceback (<Frame filename='/usr/lib/python3.7/site-packages/zarr/core.py' lineno=1613>,)> size=96 count=2>,\n",
       " <Statistic traceback=<Traceback (<Frame filename='/usr/lib/python3.7/site-packages/numpy/lib/index_tricks.py' lineno=105>,)> size=96 count=2>,\n",
       " <Statistic traceback=<Traceback (<Frame filename='./window_utils.py' lineno=422>,)> size=96 count=2>,\n",
       " <Statistic traceback=<Traceback (<Frame filename='./window_utils.py' lineno=112>,)> size=96 count=2>,\n",
       " <Statistic traceback=<Traceback (<Frame filename='./window_utils.py' lineno=145>,)> size=88 count=2>,\n",
       " <Statistic traceback=<Traceback (<Frame filename='/usr/lib/python3.7/site-packages/numpy/core/einsumfunc.py' lineno=957>,)> size=88 count=1>,\n",
       " <Statistic traceback=<Traceback (<Frame filename='/usr/lib/python3.7/site-packages/distributed/worker.py' lineno=1286>,)> size=84 count=3>,\n",
       " <Statistic traceback=<Traceback (<Frame filename='./binning.py' lineno=44>,)> size=80 count=5>,\n",
       " <Statistic traceback=<Traceback (<Frame filename='/usr/lib/python3.7/site-packages/zarr/util.py' lineno=360>,)> size=80 count=2>,\n",
       " <Statistic traceback=<Traceback (<Frame filename='/usr/lib/python3.7/site-packages/zarr/storage.py' lineno=730>,)> size=80 count=2>,\n",
       " <Statistic traceback=<Traceback (<Frame filename='/usr/lib/python3.7/site-packages/zarr/indexing.py' lineno=750>,)> size=80 count=2>,\n",
       " <Statistic traceback=<Traceback (<Frame filename='/usr/lib/python3.7/site-packages/zarr/indexing.py' lineno=594>,)> size=80 count=2>,\n",
       " <Statistic traceback=<Traceback (<Frame filename='/usr/lib/python3.7/site-packages/numpy/lib/function_base.py' lineno=1053>,)> size=80 count=1>,\n",
       " <Statistic traceback=<Traceback (<Frame filename='/usr/lib/python3.7/site-packages/numpy/core/fromnumeric.py' lineno=933>,)> size=80 count=1>,\n",
       " <Statistic traceback=<Traceback (<Frame filename='/usr/lib/python3.7/site-packages/numpy/core/einsumfunc.py' lineno=917>,)> size=80 count=1>,\n",
       " <Statistic traceback=<Traceback (<Frame filename='/usr/lib/python3.7/site-packages/dask/delayed.py' lineno=589>,)> size=80 count=1>,\n",
       " <Statistic traceback=<Traceback (<Frame filename='/usr/lib/python3.7/site-packages/astropy/units/quantity.py' lineno=383>,)> size=80 count=1>,\n",
       " <Statistic traceback=<Traceback (<Frame filename='./tracer_utils.py' lineno=19>,)> size=80 count=1>,\n",
       " <Statistic traceback=<Traceback (<Frame filename='./cov_3X2.py' lineno=58>,)> size=80 count=1>,\n",
       " <Statistic traceback=<Traceback (<Frame filename='/usr/lib/python3.7/site-packages/distributed/scheduler.py' lineno=3192>,)> size=72 count=3>,\n",
       " <Statistic traceback=<Traceback (<Frame filename='/usr/lib/python3.7/site-packages/distributed/batched.py' lineno=90>,)> size=72 count=3>,\n",
       " <Statistic traceback=<Traceback (<Frame filename='./cov_3X2.py' lineno=143>,)> size=72 count=3>,\n",
       " <Statistic traceback=<Traceback (<Frame filename='/usr/lib/python3.7/site-packages/zmq/utils/jsonapi.py' lineno=40>,)> size=72 count=1>,\n",
       " <Statistic traceback=<Traceback (<Frame filename='/usr/lib/python3.7/site-packages/traitlets/traitlets.py' lineno=1155>,)> size=72 count=1>,\n",
       " <Statistic traceback=<Traceback (<Frame filename='/usr/lib/python3.7/site-packages/tornado/gen.py' lineno=399>,)> size=72 count=1>,\n",
       " <Statistic traceback=<Traceback (<Frame filename='/usr/lib/python3.7/site-packages/psutil/_pslinux.py' lineno=1733>,)> size=72 count=1>,\n",
       " <Statistic traceback=<Traceback (<Frame filename='/usr/lib/python3.7/site-packages/psutil/__init__.py' lineno=1052>,)> size=72 count=1>,\n",
       " <Statistic traceback=<Traceback (<Frame filename='/usr/lib/python3.7/site-packages/numpy/core/fromnumeric.py' lineno=84>,)> size=72 count=1>,\n",
       " <Statistic traceback=<Traceback (<Frame filename='/usr/lib/python3.7/site-packages/distributed/worker.py' lineno=860>,)> size=72 count=1>,\n",
       " <Statistic traceback=<Traceback (<Frame filename='/usr/lib/python3.7/site-packages/distributed/worker.py' lineno=623>,)> size=72 count=1>,\n",
       " <Statistic traceback=<Traceback (<Frame filename='/usr/lib/python3.7/site-packages/distributed/worker.py' lineno=622>,)> size=72 count=1>,\n",
       " <Statistic traceback=<Traceback (<Frame filename='/usr/lib/python3.7/site-packages/distributed/scheduler.py' lineno=985>,)> size=72 count=1>,\n",
       " <Statistic traceback=<Traceback (<Frame filename='/usr/lib/python3.7/site-packages/distributed/protocol/serialize.py' lineno=196>,)> size=72 count=1>,\n",
       " <Statistic traceback=<Traceback (<Frame filename='/usr/lib/python3.7/site-packages/distributed/core.py' lineno=272>,)> size=72 count=1>,\n",
       " <Statistic traceback=<Traceback (<Frame filename='/usr/lib/python3.7/site-packages/distributed/client.py' lineno=2140>,)> size=72 count=1>,\n",
       " <Statistic traceback=<Traceback (<Frame filename='/usr/lib/python3.7/site-packages/astropy/units/core.py' lineno=719>,)> size=72 count=1>,\n",
       " <Statistic traceback=<Traceback (<Frame filename='/usr/lib/python3.7/json/__init__.py' lineno=237>,)> size=72 count=1>,\n",
       " <Statistic traceback=<Traceback (<Frame filename='/usr/lib/python3.7/concurrent/futures/_base.py' lineno=380>,)> size=72 count=1>,\n",
       " <Statistic traceback=<Traceback (<Frame filename='/usr/lib/python3.7/codecs.py' lineno=268>,)> size=72 count=1>,\n",
       " <Statistic traceback=<Traceback (<Frame filename='./window_utils.py' lineno=95>,)> size=72 count=1>,\n",
       " <Statistic traceback=<Traceback (<Frame filename='/usr/lib/python3.7/site-packages/zarr/indexing.py' lineno=468>,)> size=68 count=10>,\n",
       " <Statistic traceback=<Traceback (<Frame filename='/usr/lib/python3.7/site-packages/distributed/worker.py' lineno=1818>,)> size=64 count=1>,\n",
       " <Statistic traceback=<Traceback (<Frame filename='/usr/lib/python3.7/site-packages/distributed/utils_comm.py' lineno=50>,)> size=64 count=1>,\n",
       " <Statistic traceback=<Traceback (<Frame filename='/usr/lib/python3.7/site-packages/distributed/scheduler.py' lineno=1722>,)> size=64 count=1>,\n",
       " <Statistic traceback=<Traceback (<Frame filename='/usr/lib/python3.7/site-packages/distributed/scheduler.py' lineno=1368>,)> size=64 count=1>,\n",
       " <Statistic traceback=<Traceback (<Frame filename='/usr/lib/python3.7/site-packages/distributed/scheduler.py' lineno=1326>,)> size=64 count=1>,\n",
       " <Statistic traceback=<Traceback (<Frame filename='/usr/lib/python3.7/site-packages/distributed/client.py' lineno=2087>,)> size=64 count=1>,\n",
       " <Statistic traceback=<Traceback (<Frame filename='./window_utils.py' lineno=242>,)> size=64 count=1>,\n",
       " <Statistic traceback=<Traceback (<Frame filename='./window_utils.py' lineno=227>,)> size=64 count=1>,\n",
       " <Statistic traceback=<Traceback (<Frame filename='/usr/lib/python3.7/site-packages/numpy/core/_dtype.py' lineno=54>,)> size=58 count=1>,\n",
       " <Statistic traceback=<Traceback (<Frame filename='/usr/lib/python3.7/site-packages/distributed/worker.py' lineno=1824>,)> size=56 count=2>,\n",
       " <Statistic traceback=<Traceback (<Frame filename='/usr/lib/python3.7/site-packages/distributed/worker.py' lineno=643>,)> size=56 count=2>,\n",
       " <Statistic traceback=<Traceback (<Frame filename='/usr/lib/python3.7/site-packages/dask/sizeof.py' lineno=21>,)> size=56 count=2>,\n",
       " <Statistic traceback=<Traceback (<Frame filename='./cov_3X2.py' lineno=135>,)> size=56 count=2>,\n",
       " <Statistic traceback=<Traceback (<Frame filename='/usr/lib/python3.7/site-packages/numpy/core/_internal.py' lineno=892>,)> size=56 count=1>,\n",
       " <Statistic traceback=<Traceback (<Frame filename='/usr/lib/python3.7/site-packages/distributed/utils.py' lineno=1286>,)> size=56 count=1>,\n",
       " <Statistic traceback=<Traceback (<Frame filename='/usr/lib/python3.7/site-packages/dask/highlevelgraph.py' lineno=135>,)> size=56 count=1>,\n",
       " <Statistic traceback=<Traceback (<Frame filename='/usr/lib/python3.7/site-packages/astropy/cosmology/core.py' lineno=471>,)> size=56 count=1>,\n",
       " <Statistic traceback=<Traceback (<Frame filename='./window_utils.py' lineno=115>,)> size=56 count=1>,\n",
       " <Statistic traceback=<Traceback (<Frame filename='./window_utils.py' lineno=37>,)> size=56 count=1>,\n",
       " <Statistic traceback=<Traceback (<Frame filename='./cov_3X2.py' lineno=212>,)> size=56 count=1>,\n",
       " <Statistic traceback=<Traceback (<Frame filename='./cov_3X2.py' lineno=169>,)> size=56 count=1>,\n",
       " <Statistic traceback=<Traceback (<Frame filename='./cov_3X2.py' lineno=99>,)> size=56 count=1>,\n",
       " <Statistic traceback=<Traceback (<Frame filename='./cov_3X2.py' lineno=81>,)> size=56 count=1>,\n",
       " <Statistic traceback=<Traceback (<Frame filename='./angular_power_spectra.py' lineno=20>,)> size=56 count=1>,\n",
       " <Statistic traceback=<Traceback (<Frame filename='/usr/lib/python3.7/site-packages/zmq/sugar/attrsettr.py' lineno=37>,)> size=55 count=1>,\n",
       " <Statistic traceback=<Traceback (<Frame filename='/usr/lib/python3.7/site-packages/IPython/core/history.py' lineno=770>,)> size=55 count=1>,\n",
       " <Statistic traceback=<Traceback (<Frame filename='/usr/lib/python3.7/site-packages/zarr/core.py' lineno=1740>,)> size=54 count=1>,\n",
       " <Statistic traceback=<Traceback (<Frame filename='./window_utils.py' lineno=166>,)> size=53 count=1>,\n",
       " <Statistic traceback=<Traceback (<Frame filename='/usr/lib/python3.7/site-packages/sparse/coo.py' lineno=346>,)> size=48 count=3>,\n",
       " <Statistic traceback=<Traceback (<Frame filename='/usr/lib/python3.7/site-packages/zarr/meta.py' lineno=140>,)> size=48 count=2>,\n",
       " <Statistic traceback=<Traceback (<Frame filename='/usr/lib/python3.7/site-packages/scipy/interpolate/polyint.py' lineno=111>,)> size=48 count=2>,\n",
       " <Statistic traceback=<Traceback (<Frame filename='/usr/lib/python3.7/site-packages/psutil/_pslinux.py' lineno=1696>,)> size=48 count=2>,\n",
       " <Statistic traceback=<Traceback (<Frame filename='/usr/lib/python3.7/site-packages/psutil/_pslinux.py' lineno=1695>,)> size=48 count=2>,\n",
       " <Statistic traceback=<Traceback (<Frame filename='/usr/lib/python3.7/site-packages/distributed/worker.py' lineno=1303>,)> size=48 count=2>,\n",
       " <Statistic traceback=<Traceback (<Frame filename='/usr/lib/python3.7/genericpath.py' lineno=30>,)> size=48 count=2>,\n",
       " <Statistic traceback=<Traceback (<Frame filename='./window_utils.py' lineno=134>,)> size=48 count=2>,\n",
       " <Statistic traceback=<Traceback (<Frame filename='/usr/lib/python3.7/site-packages/distributed/client.py' lineno=960>,)> size=48 count=1>,\n",
       " <Statistic traceback=<Traceback (<Frame filename='/usr/lib/python3.7/site-packages/distributed/counter.py' lineno=45>,)> size=40 count=1>,\n",
       " <Statistic traceback=<Traceback (<Frame filename='/usr/lib/python3.7/site-packages/dask/highlevelgraph.py' lineno=73>,)> size=40 count=1>,\n",
       " <Statistic traceback=<Traceback (<Frame filename='/usr/lib/python3.7/site-packages/numpy/lib/arraysetops.py' lineno=314>,)> size=32 count=2>,\n",
       " <Statistic traceback=<Traceback (<Frame filename='/usr/lib/python3.7/site-packages/numpy/core/shape_base.py' lineno=283>,)> size=32 count=1>,\n",
       " <Statistic traceback=<Traceback (<Frame filename='/usr/lib/python3.7/site-packages/numpy/core/numeric.py' lineno=1392>,)> size=32 count=1>,\n",
       " <Statistic traceback=<Traceback (<Frame filename='/usr/lib/python3.7/site-packages/distributed/worker.py' lineno=1821>,)> size=32 count=1>,\n",
       " <Statistic traceback=<Traceback (<Frame filename='/usr/lib/python3.7/asyncio/base_events.py' lineno=1748>,)> size=32 count=1>,\n",
       " <Statistic traceback=<Traceback (<Frame filename='/usr/lib/python3.7/asyncio/base_events.py' lineno=674>,)> size=32 count=1>,\n",
       " <Statistic traceback=<Traceback (<Frame filename='./window_utils.py' lineno=129>,)> size=32 count=1>,\n",
       " <Statistic traceback=<Traceback (<Frame filename='./cov_3X2.py' lineno=131>,)> size=32 count=1>,\n",
       " <Statistic traceback=<Traceback (<Frame filename='/usr/lib/python3.7/site-packages/ipykernel/iostream.py' lineno=377>,)> size=28 count=1>,\n",
       " <Statistic traceback=<Traceback (<Frame filename='/usr/lib/python3.7/site-packages/distributed/counter.py' lineno=49>,)> size=28 count=1>,\n",
       " <Statistic traceback=<Traceback (<Frame filename='/usr/lib/python3.7/site-packages/distributed/batched.py' lineno=119>,)> size=28 count=1>,\n",
       " <Statistic traceback=<Traceback (<Frame filename='/usr/lib/python3.7/site-packages/distributed/batched.py' lineno=99>,)> size=28 count=1>,\n",
       " <Statistic traceback=<Traceback (<Frame filename='/usr/lib/python3.7/site-packages/distributed/batched.py' lineno=89>,)> size=28 count=1>,\n",
       " <Statistic traceback=<Traceback (<Frame filename='/usr/lib/python3.7/site-packages/astropy/cosmology/core.py' lineno=195>,)> size=28 count=1>,\n",
       " <Statistic traceback=<Traceback (<Frame filename='/usr/lib/python3.7/linecache.py' lineno=95>,)> size=28 count=1>,\n",
       " <Statistic traceback=<Traceback (<Frame filename='/usr/lib/python3.7/site-packages/astropy/units/quantity.py' lineno=639>,)> size=24 count=3>,\n",
       " <Statistic traceback=<Traceback (<Frame filename='./cov_3X2.py' lineno=139>,)> size=24 count=3>,\n",
       " <Statistic traceback=<Traceback (<Frame filename='<ipython-input-71-c592ae1eedfa>' lineno=11>,)> size=24 count=1>,\n",
       " <Statistic traceback=<Traceback (<Frame filename='/usr/lib/python3.7/site-packages/tornado/ioloop.py' lineno=638>,)> size=24 count=1>,\n",
       " <Statistic traceback=<Traceback (<Frame filename='/usr/lib/python3.7/site-packages/psutil/_pslinux.py' lineno=1694>,)> size=24 count=1>,\n",
       " <Statistic traceback=<Traceback (<Frame filename='/usr/lib/python3.7/site-packages/psutil/__init__.py' lineno=981>,)> size=24 count=1>,\n",
       " <Statistic traceback=<Traceback (<Frame filename='/usr/lib/python3.7/site-packages/numpy/core/function_base.py' lineno=138>,)> size=24 count=1>,\n",
       " <Statistic traceback=<Traceback (<Frame filename='/usr/lib/python3.7/site-packages/distributed/core.py' lineno=180>,)> size=24 count=1>,\n",
       " <Statistic traceback=<Traceback (<Frame filename='/usr/lib/python3.7/site-packages/distributed/core.py' lineno=179>,)> size=24 count=1>,\n",
       " <Statistic traceback=<Traceback (<Frame filename='/usr/lib/python3.7/site-packages/astropy/cosmology/core.py' lineno=287>,)> size=24 count=1>,\n",
       " <Statistic traceback=<Traceback (<Frame filename='/usr/lib/python3.7/site-packages/astropy/cosmology/core.py' lineno=256>,)> size=24 count=1>,\n",
       " <Statistic traceback=<Traceback (<Frame filename='./window_utils.py' lineno=404>,)> size=24 count=1>,\n",
       " <Statistic traceback=<Traceback (<Frame filename='./window_utils.py' lineno=149>,)> size=24 count=1>,\n",
       " <Statistic traceback=<Traceback (<Frame filename='./window_utils.py' lineno=143>,)> size=24 count=1>,\n",
       " <Statistic traceback=<Traceback (<Frame filename='./cov_3X2.py' lineno=132>,)> size=24 count=1>,\n",
       " <Statistic traceback=<Traceback (<Frame filename='/usr/lib/python3.7/site-packages/scipy/interpolate/interpolate.py' lineno=668>,)> size=16 count=1>,\n",
       " <Statistic traceback=<Traceback (<Frame filename='/usr/lib/python3.7/site-packages/numpy/lib/ufunclike.py' lineno=175>,)> size=16 count=1>,\n",
       " <Statistic traceback=<Traceback (<Frame filename='/usr/lib/python3.7/site-packages/numpy/lib/function_base.py' lineno=4694>,)> size=16 count=1>,\n",
       " <Statistic traceback=<Traceback (<Frame filename='/usr/lib/python3.7/site-packages/numpy/lib/function_base.py' lineno=1065>,)> size=16 count=1>,\n",
       " <Statistic traceback=<Traceback (<Frame filename='/usr/lib/python3.7/site-packages/numpy/core/numeric.py' lineno=1388>,)> size=16 count=1>,\n",
       " <Statistic traceback=<Traceback (<Frame filename='/usr/lib/python3.7/site-packages/numpy/core/_methods.py' lineno=32>,)> size=16 count=1>,\n",
       " <Statistic traceback=<Traceback (<Frame filename='./cov_3X2.py' lineno=145>,)> size=16 count=1>,\n",
       " <Statistic traceback=<Traceback (<Frame filename='/usr/lib/python3.7/site-packages/distributed/client.py' lineno=948>,)> size=8 count=1>,\n",
       " <Statistic traceback=<Traceback (<Frame filename='./cov_3X2.py' lineno=146>,)> size=8 count=1>,\n",
       " <Statistic traceback=<Traceback (<Frame filename='/usr/lib/python3.7/site-packages/heapdict.py' lineno=93>,)> size=0 count=4>,\n",
       " <Statistic traceback=<Traceback (<Frame filename='/usr/lib/python3.7/site-packages/distributed/worker.py' lineno=1680>,)> size=0 count=2>]"
      ]
     },
     "execution_count": 76,
     "metadata": {},
     "output_type": "execute_result"
    }
   ],
   "source": [
    "top_stats"
   ]
  },
  {
   "cell_type": "code",
   "execution_count": 77,
   "metadata": {},
   "outputs": [
    {
     "data": {
      "text/plain": [
       "{('shear',\n",
       "  'shear'): {(0, 0): {'corr': ('shear', 'shear'),\n",
       "   'indxs': (0, 0),\n",
       "   'cl': array([6.15746550e+00, 5.54182875e-01, 8.86680731e-02, 1.38670174e-03,\n",
       "          1.95871942e-02, 4.27230043e-03, 1.51312322e-03, 4.37305093e-03,\n",
       "          3.30071108e-04, 1.15243898e-03, 1.34382903e-03, 3.40176101e-07,\n",
       "          7.87217755e-04, 4.08090992e-04, 6.26615058e-05, 4.90237393e-04,\n",
       "          9.31221594e-05, 1.29637332e-04, 2.72453570e-04, 6.62551661e-06,\n",
       "          1.50367130e-04, 1.28518399e-04, 4.93411729e-06, 1.33561273e-04,\n",
       "          4.58934732e-05, 2.63529652e-05, 9.77190892e-05, 8.59413921e-06,\n",
       "          4.43522079e-05, 5.89665691e-05, 1.43399188e-07]),\n",
       "   'W_pm': 2,\n",
       "   'm1m2': array([2, 2, 2, 2]),\n",
       "   'xi': array([0.69522465, 0.69522465, 0.69522464, ..., 0.68972903, 0.68971635,\n",
       "          0.68970366]),\n",
       "   'xi_b': array([0.69522446, 0.69522401, 0.6952233 , 0.69522219, 0.69522042,\n",
       "          0.69521762, 0.69521318, 0.69520616, 0.69519504, 0.69517728,\n",
       "          0.69514917, 0.69510487, 0.69503484, 0.69492433, 0.69474978,\n",
       "          0.69447507, 0.69404562, 0.69337788, 0.69235367, 0.69080934]),\n",
       "   'M': array([[0.00000000e+00, 0.00000000e+00, 0.00000000e+00, ...,\n",
       "           0.00000000e+00, 0.00000000e+00, 0.00000000e+00],\n",
       "          [0.00000000e+00, 0.00000000e+00, 0.00000000e+00, ...,\n",
       "           0.00000000e+00, 0.00000000e+00, 0.00000000e+00],\n",
       "          [0.00000000e+00, 0.00000000e+00, 1.00037363e-01, ...,\n",
       "           0.00000000e+00, 0.00000000e+00, 0.00000000e+00],\n",
       "          ...,\n",
       "          [0.00000000e+00, 0.00000000e+00, 0.00000000e+00, ...,\n",
       "           2.51262363e-04, 3.37866989e-05, 7.96925200e-06],\n",
       "          [0.00000000e+00, 0.00000000e+00, 0.00000000e+00, ...,\n",
       "           3.37866989e-05, 2.51010679e-04, 3.37528775e-05],\n",
       "          [0.00000000e+00, 0.00000000e+00, 0.00000000e+00, ...,\n",
       "           7.96925200e-06, 3.37528775e-05, 2.50759575e-04]]),\n",
       "   'M_B': array([[0.        , 0.        , 0.        , ..., 0.        , 0.        ,\n",
       "           0.        ],\n",
       "          [0.        , 0.        , 0.        , ..., 0.        , 0.        ,\n",
       "           0.        ],\n",
       "          [0.        , 0.        , 0.01765122, ..., 0.        , 0.        ,\n",
       "           0.        ],\n",
       "          ...,\n",
       "          [0.        , 0.        , 0.        , ..., 0.        , 0.        ,\n",
       "           0.        ],\n",
       "          [0.        , 0.        , 0.        , ..., 0.        , 0.        ,\n",
       "           0.        ],\n",
       "          [0.        , 0.        , 0.        , ..., 0.        , 0.        ,\n",
       "           0.        ]])}},\n",
       " ('galaxy',\n",
       "  'galaxy'): {(0, 0): {'corr': ('galaxy', 'galaxy'),\n",
       "   'indxs': (0, 0),\n",
       "   'cl': array([6.15746550e+00, 5.54182875e-01, 8.86680731e-02, 1.38670174e-03,\n",
       "          1.95871942e-02, 4.27230043e-03, 1.51312322e-03, 4.37305093e-03,\n",
       "          3.30071108e-04, 1.15243898e-03, 1.34382903e-03, 3.40176101e-07,\n",
       "          7.87217755e-04, 4.08090992e-04, 6.26615058e-05, 4.90237393e-04,\n",
       "          9.31221594e-05, 1.29637332e-04, 2.72453570e-04, 6.62551661e-06,\n",
       "          1.50367130e-04, 1.28518399e-04, 4.93411729e-06, 1.33561273e-04,\n",
       "          4.58934732e-05, 2.63529652e-05, 9.77190892e-05, 8.59413921e-06,\n",
       "          4.43522079e-05, 5.89665691e-05, 1.43399188e-07]),\n",
       "   'W_pm': 0,\n",
       "   'm1m2': array([0, 0]),\n",
       "   'xi': array([0.69522465, 0.69522465, 0.69522464, ..., 0.68972903, 0.68971635,\n",
       "          0.68970366]),\n",
       "   'xi_b': array([0.69522446, 0.69522401, 0.6952233 , 0.69522219, 0.69522042,\n",
       "          0.69521762, 0.69521318, 0.69520616, 0.69519504, 0.69517728,\n",
       "          0.69514917, 0.69510487, 0.69503484, 0.69492433, 0.69474978,\n",
       "          0.69447507, 0.69404562, 0.69337788, 0.69235367, 0.69080934]),\n",
       "   'M': array([[4.89995536e-01, 4.41004693e-02, 7.05598064e-03, ...,\n",
       "           0.00000000e+00, 0.00000000e+00, 0.00000000e+00],\n",
       "          [4.41004693e-02, 1.68035823e-01, 1.77063979e-02, ...,\n",
       "           0.00000000e+00, 0.00000000e+00, 0.00000000e+00],\n",
       "          [7.05598064e-03, 1.77063979e-02, 1.00816713e-01, ...,\n",
       "           0.00000000e+00, 0.00000000e+00, 0.00000000e+00],\n",
       "          ...,\n",
       "          [0.00000000e+00, 0.00000000e+00, 0.00000000e+00, ...,\n",
       "           2.51262363e-04, 3.37866989e-05, 7.96925200e-06],\n",
       "          [0.00000000e+00, 0.00000000e+00, 0.00000000e+00, ...,\n",
       "           3.37866989e-05, 2.51010679e-04, 3.37528775e-05],\n",
       "          [0.00000000e+00, 0.00000000e+00, 0.00000000e+00, ...,\n",
       "           7.96925200e-06, 3.37528775e-05, 2.50759575e-04]]),\n",
       "   'M_B': None}},\n",
       " ('shear',\n",
       "  'galaxy'): {(0, 0): {'corr': ('shear', 'galaxy'),\n",
       "   'indxs': (0, 0),\n",
       "   'cl': array([6.15746550e+00, 5.54182875e-01, 8.86680731e-02, 1.38670174e-03,\n",
       "          1.95871942e-02, 4.27230043e-03, 1.51312322e-03, 4.37305093e-03,\n",
       "          3.30071108e-04, 1.15243898e-03, 1.34382903e-03, 3.40176101e-07,\n",
       "          7.87217755e-04, 4.08090992e-04, 6.26615058e-05, 4.90237393e-04,\n",
       "          9.31221594e-05, 1.29637332e-04, 2.72453570e-04, 6.62551661e-06,\n",
       "          1.50367130e-04, 1.28518399e-04, 4.93411729e-06, 1.33561273e-04,\n",
       "          4.58934732e-05, 2.63529652e-05, 9.77190892e-05, 8.59413921e-06,\n",
       "          4.43522079e-05, 5.89665691e-05, 1.43399188e-07]),\n",
       "   'W_pm': 2,\n",
       "   'm1m2': array([2, 0]),\n",
       "   'xi': array([0.69522465, 0.69522465, 0.69522464, ..., 0.68972903, 0.68971635,\n",
       "          0.68970366]),\n",
       "   'xi_b': array([0.69522446, 0.69522401, 0.6952233 , 0.69522219, 0.69522042,\n",
       "          0.69521762, 0.69521318, 0.69520616, 0.69519504, 0.69517728,\n",
       "          0.69514917, 0.69510487, 0.69503484, 0.69492433, 0.69474978,\n",
       "          0.69447507, 0.69404562, 0.69337788, 0.69235367, 0.69080934]),\n",
       "   'M': array([[0.00000000e+00, 0.00000000e+00, 0.00000000e+00, ...,\n",
       "           0.00000000e+00, 0.00000000e+00, 0.00000000e+00],\n",
       "          [0.00000000e+00, 0.00000000e+00, 0.00000000e+00, ...,\n",
       "           0.00000000e+00, 0.00000000e+00, 0.00000000e+00],\n",
       "          [0.00000000e+00, 0.00000000e+00, 9.61167095e-02, ...,\n",
       "           0.00000000e+00, 0.00000000e+00, 0.00000000e+00],\n",
       "          ...,\n",
       "          [0.00000000e+00, 0.00000000e+00, 0.00000000e+00, ...,\n",
       "           2.51262363e-04, 3.37866989e-05, 7.96925200e-06],\n",
       "          [0.00000000e+00, 0.00000000e+00, 0.00000000e+00, ...,\n",
       "           3.37866989e-05, 2.51010679e-04, 3.37528775e-05],\n",
       "          [0.00000000e+00, 0.00000000e+00, 0.00000000e+00, ...,\n",
       "           7.96925200e-06, 3.37528775e-05, 2.50759575e-04]]),\n",
       "   'M_B': None}},\n",
       " ('galaxy',\n",
       "  'shear'): {(0, 0): {'corr': ('shear', 'galaxy'),\n",
       "   'indxs': (0, 0),\n",
       "   'cl': array([6.15746550e+00, 5.54182875e-01, 8.86680731e-02, 1.38670174e-03,\n",
       "          1.95871942e-02, 4.27230043e-03, 1.51312322e-03, 4.37305093e-03,\n",
       "          3.30071108e-04, 1.15243898e-03, 1.34382903e-03, 3.40176101e-07,\n",
       "          7.87217755e-04, 4.08090992e-04, 6.26615058e-05, 4.90237393e-04,\n",
       "          9.31221594e-05, 1.29637332e-04, 2.72453570e-04, 6.62551661e-06,\n",
       "          1.50367130e-04, 1.28518399e-04, 4.93411729e-06, 1.33561273e-04,\n",
       "          4.58934732e-05, 2.63529652e-05, 9.77190892e-05, 8.59413921e-06,\n",
       "          4.43522079e-05, 5.89665691e-05, 1.43399188e-07]),\n",
       "   'W_pm': 2,\n",
       "   'm1m2': array([2, 0]),\n",
       "   'xi': array([0.69522465, 0.69522465, 0.69522464, ..., 0.68972903, 0.68971635,\n",
       "          0.68970366]),\n",
       "   'xi_b': array([0.69522446, 0.69522401, 0.6952233 , 0.69522219, 0.69522042,\n",
       "          0.69521762, 0.69521318, 0.69520616, 0.69519504, 0.69517728,\n",
       "          0.69514917, 0.69510487, 0.69503484, 0.69492433, 0.69474978,\n",
       "          0.69447507, 0.69404562, 0.69337788, 0.69235367, 0.69080934]),\n",
       "   'M': array([[0.00000000e+00, 0.00000000e+00, 0.00000000e+00, ...,\n",
       "           0.00000000e+00, 0.00000000e+00, 0.00000000e+00],\n",
       "          [0.00000000e+00, 0.00000000e+00, 0.00000000e+00, ...,\n",
       "           0.00000000e+00, 0.00000000e+00, 0.00000000e+00],\n",
       "          [0.00000000e+00, 0.00000000e+00, 9.61167095e-02, ...,\n",
       "           0.00000000e+00, 0.00000000e+00, 0.00000000e+00],\n",
       "          ...,\n",
       "          [0.00000000e+00, 0.00000000e+00, 0.00000000e+00, ...,\n",
       "           2.51262363e-04, 3.37866989e-05, 7.96925200e-06],\n",
       "          [0.00000000e+00, 0.00000000e+00, 0.00000000e+00, ...,\n",
       "           3.37866989e-05, 2.51010679e-04, 3.37528775e-05],\n",
       "          [0.00000000e+00, 0.00000000e+00, 0.00000000e+00, ...,\n",
       "           7.96925200e-06, 3.37528775e-05, 2.50759575e-04]]),\n",
       "   'M_B': None}}}"
      ]
     },
     "execution_count": 77,
     "metadata": {},
     "output_type": "execute_result"
    }
   ],
   "source": [
    "XI_W_L.Win.Win_cl.compute()"
   ]
  },
  {
   "cell_type": "code",
   "execution_count": 37,
   "metadata": {},
   "outputs": [
    {
     "data": {
      "image/png": "[encoded data removed]",
      "text/plain": [
       "<IPython.core.display.Image object>"
      ]
     },
     "execution_count": 37,
     "metadata": {},
     "output_type": "execute_result"
    }
   ],
   "source": [
    "dask.visualize(XI_W_L.Win.Win_cl)"
   ]
  },
  {
   "cell_type": "code",
   "execution_count": 38,
   "metadata": {},
   "outputs": [
    {
     "data": {
      "text/plain": [
       "dict_keys(['corr', 'indxs', 'cl', 'W_pm', 'm1m2', 'xi', 'xi_b', 'M', 'M_B'])"
      ]
     },
     "execution_count": 38,
     "metadata": {},
     "output_type": "execute_result"
    }
   ],
   "source": [
    "XI_W_L.Win.Win['cl'][corr_ll][bi].keys()"
   ]
  },
  {
   "cell_type": "code",
   "execution_count": 39,
   "metadata": {},
   "outputs": [
    {
     "ename": "AttributeError",
     "evalue": "'window_utils' object has no attribute 'Win_cov'",
     "output_type": "error",
     "traceback": [
      "\u001b[0;31m---------------------------------------------------------------------------\u001b[0m",
      "\u001b[0;31mAttributeError\u001b[0m                            Traceback (most recent call last)",
      "\u001b[0;32m<ipython-input-39-02eebd12045f>\u001b[0m in \u001b[0;36m<module>\u001b[0;34m\u001b[0m\n\u001b[0;32m----> 1\u001b[0;31m \u001b[0mdask\u001b[0m\u001b[0;34m.\u001b[0m\u001b[0mvisualize\u001b[0m\u001b[0;34m(\u001b[0m\u001b[0mXI_W_L\u001b[0m\u001b[0;34m.\u001b[0m\u001b[0mWin\u001b[0m\u001b[0;34m.\u001b[0m\u001b[0mWin_cov\u001b[0m\u001b[0;34m)\u001b[0m\u001b[0;34m\u001b[0m\u001b[0;34m\u001b[0m\u001b[0m\n\u001b[0m",
      "\u001b[0;31mAttributeError\u001b[0m: 'window_utils' object has no attribute 'Win_cov'"
     ]
    }
   ],
   "source": [
    "dask.visualize(XI_W_L.Win.Win_cov)"
   ]
  },
  {
   "cell_type": "code",
   "execution_count": null,
   "metadata": {},
   "outputs": [],
   "source": [
    "XI_W_L.Win.Win['cl']"
   ]
  },
  {
   "cell_type": "code",
   "execution_count": null,
   "metadata": {},
   "outputs": [],
   "source": [
    "%time clG=XI_W_L.cl_tomo()"
   ]
  },
  {
   "cell_type": "code",
   "execution_count": null,
   "metadata": {},
   "outputs": [],
   "source": [
    "%time cl_L=clG['stack'].compute()"
   ]
  },
  {
   "cell_type": "raw",
   "metadata": {},
   "source": [
    "crash"
   ]
  },
  {
   "cell_type": "code",
   "execution_count": null,
   "metadata": {},
   "outputs": [],
   "source": [
    "dask.visualize(clG['stack'])"
   ]
  },
  {
   "cell_type": "code",
   "execution_count": null,
   "metadata": {},
   "outputs": [],
   "source": [
    "np.arange(1000,step=300)"
   ]
  },
  {
   "cell_type": "code",
   "execution_count": null,
   "metadata": {},
   "outputs": [],
   "source": [
    "XI_W_L.Win.Win['cl'][corr_ll][bi]"
   ]
  },
  {
   "cell_type": "code",
   "execution_count": null,
   "metadata": {},
   "outputs": [],
   "source": [
    "XI_W_L.Win.Win['cl'][corr_ll][bi]['M_B']"
   ]
  },
  {
   "cell_type": "code",
   "execution_count": null,
   "metadata": {},
   "outputs": [],
   "source": [
    "# M2=XI_W_L.Win.Win['cov'][corr_ll+corr_ll][bi+bi]['M1324'][2].compute()\n",
    "try:\n",
    "    M2n=XI_W_L.Win.Win['cl'][corr_ll][bi]['M_B'].compute()\n",
    "except:\n",
    "    M2n=XI_W_L.Win.Win['cl'][corr_ll][bi]['M_B']\n",
    "XI_W_L.SN[corr_ll][:,0,0]@M2n"
   ]
  },
  {
   "cell_type": "code",
   "execution_count": null,
   "metadata": {},
   "outputs": [],
   "source": [
    "bi=(0,0)\n",
    "f=1#XI_W_L.l**2\n",
    "# plot(XI_W_L.l,f*(XI_W_L.SN[corr_ll][:,0,0]@XI_W_L.Win.Win['cov'][corr_ll+corr_ll][bi+bi]['M1324'][2]))\n",
    "plot(XI_W_L.l,f*(XI_W_L.SN[corr_ll][:,0,0]@M2n))\n",
    "loglog()"
   ]
  },
  {
   "cell_type": "code",
   "execution_count": null,
   "metadata": {},
   "outputs": [],
   "source": [
    "crash"
   ]
  },
  {
   "cell_type": "raw",
   "metadata": {},
   "source": [
    "zs_bins['SN']['kappa']=zs_bins['SN']['shear']\n",
    "t1=time.time()\n",
    "\n",
    "\n",
    "XI_W_K= cov_3X2(zk_bins=zs_bins,l=l0,do_cov=do_cov,bin_cl=bin_cl,l_bins=l_bins,zg_bins=zl_bins,\n",
    "                do_sample_variance=do_sample_variance,use_window=use_window,window_lmax=window_lmax,\n",
    "                power_spectra_kwargs=power_spectra_kwargs,corrs=[corr_kk,corr_ggk,corr_gg],store_win=True,\n",
    "               SSV_cov=SSV_cov,tidal_SSV_cov=tidal_SSV,Tri_cov=Tri_cov,do_xi=True,HT=WT_L,f_sky=f_sky,\n",
    "               bin_xi=bin_xi,theta_bins=th_bins)#ns=np.inf)\n",
    "t2=time.time()\n",
    "print('W done',t2-t1)"
   ]
  },
  {
   "cell_type": "code",
   "execution_count": null,
   "metadata": {},
   "outputs": [],
   "source": [
    "XI_W_L_NW= cov_3X2(zs_bins=zs_bins,l=l0,do_cov=do_cov,bin_cl=bin_cl,l_bins=l_bins,zg_bins=zl_bins, #no window\n",
    "                do_sample_variance=do_sample_variance,use_window=False,window_lmax=window_lmax,\n",
    "                power_spectra_kwargs=power_spectra_kwargs,corrs=[corr_ll,corr_ggl,corr_gg],store_win=True,\n",
    "               SSV_cov=SSV_cov,tidal_SSV_cov=tidal_SSV,do_xi=True,HT=WT_L,f_sky=f_sky,\n",
    "               bin_xi=bin_xi,theta_bins=th_bins)#ns=np.inf)\n",
    "print('NW done')"
   ]
  },
  {
   "cell_type": "code",
   "execution_count": null,
   "metadata": {},
   "outputs": [],
   "source": [
    "# %time clG=XI_W_L.cl_tomo()\n",
    "%time clG_nw=XI_W_L_NW.cl_tomo()\n",
    "#%time clH=XI_H.cl_tomo()"
   ]
  },
  {
   "cell_type": "code",
   "execution_count": null,
   "metadata": {},
   "outputs": [],
   "source": [
    "clG['stack'].visualize()"
   ]
  },
  {
   "cell_type": "code",
   "execution_count": null,
   "metadata": {},
   "outputs": [],
   "source": [
    "cl_L=None"
   ]
  },
  {
   "cell_type": "code",
   "execution_count": null,
   "metadata": {},
   "outputs": [],
   "source": [
    "%time cl_L_nw=clG_nw['stack'].compute()"
   ]
  },
  {
   "cell_type": "code",
   "execution_count": null,
   "metadata": {},
   "outputs": [],
   "source": [
    "clG['cl'].keys()"
   ]
  },
  {
   "cell_type": "raw",
   "metadata": {},
   "source": [
    "Win={corr:{(i,j): corr+(i,j) for (i,j) in XI_W_L.corr_indxs[corr]} for corr in XI_W_L.corrs}\n",
    "Win2={corr[::-1]:{(i,j): corr+(i,j) for (j,i) in XI_W_L.corr_indxs[corr]} for corr in XI_W_L.corrs}\n",
    "\n",
    "#         self.Win.update({corr[::-1]:{(i,j): delayed(self.get_window_power_cl)(corr[::-1],(i,j)) for (j,i) in corr_indxs[corr]} for corr in corrs})"
   ]
  },
  {
   "cell_type": "raw",
   "metadata": {},
   "source": [
    "tr='galaxy'\n",
    "tr2='shear'\n",
    "corr_t=(tr, tr)\n",
    "corrs_t=(tr,tr,tr,tr)\n",
    "indxs_t=(0,0,0,0)\n",
    "indx_t=(0,0)"
   ]
  },
  {
   "cell_type": "raw",
   "metadata": {},
   "source": [
    "from dask.threaded import get"
   ]
  },
  {
   "cell_type": "raw",
   "metadata": {},
   "source": [
    "def return_dict(result):\n",
    "    dic={}\n",
    "    i=0\n",
    "    print(result)\n",
    "    for corr in [(tr,tr),(tr2,tr2)]:\n",
    "        dic[corr]={}\n",
    "        for (i,j) in [(0,0),(1,1)]:\n",
    "            dic[corr][(i,j)]=result[i]\n",
    "            dic[corr[::-1]][(j,i)]=result[i]\n",
    "            i+=1\n",
    "    return dic\n",
    "\n",
    "def return_dict2(result):\n",
    "    dic={}\n",
    "    i=0\n",
    "    print(result)\n",
    "    for corr in [(tr,tr),(tr2,tr2)]:\n",
    "        dic[corr]={}\n",
    "        for (i,j) in [(0,0),(1,1)]:\n",
    "            dic[corr][(i,j)]=result[corr][(i,j)]\n",
    "            dic[corr[::-1]][(j,i)]=result[corr][(i,j)]\n",
    "            i+=1\n",
    "    return dic"
   ]
  },
  {
   "cell_type": "raw",
   "metadata": {},
   "source": [
    "dsk2={corr+indx: delayed(XI_W_L.Win.get_window_power_cl)(corr,indx) for indx in [(0,0),(1,1)] for corr in [(tr,tr),(tr2,tr2)]}\n",
    "      \n",
    "# dsk22= {'W1': (return_dict2, {corr:{indx:corr+indx for indx in [(0,0),(1,1)]} for corr in [(tr,tr),(tr2,tr2)]}) }\n",
    "dsk22= {'W1': (return_dict, [corr+indx for corr in [(tr,tr),(tr2,tr2)] for indx in [(0,0),(1,1)]]) }"
   ]
  },
  {
   "cell_type": "raw",
   "metadata": {},
   "source": [
    "[corr+indx for corr in [(tr,tr),(tr2,tr2)] for indx in [(0,0),(1,1)] ]"
   ]
  },
  {
   "cell_type": "raw",
   "metadata": {},
   "source": [
    "dsk2.update(dsk22)"
   ]
  },
  {
   "cell_type": "raw",
   "metadata": {},
   "source": [
    "dsk2['W1']"
   ]
  },
  {
   "cell_type": "raw",
   "metadata": {},
   "source": [
    "%time ww=get(dsk2,'W1')"
   ]
  },
  {
   "cell_type": "raw",
   "metadata": {},
   "source": [
    "ww"
   ]
  },
  {
   "cell_type": "raw",
   "metadata": {},
   "source": [
    "dask.__version__"
   ]
  },
  {
   "cell_type": "raw",
   "metadata": {},
   "source": [
    "dask.visualize(dsk2)"
   ]
  },
  {
   "cell_type": "raw",
   "metadata": {},
   "source": [
    "x=get(dsk2,(tr,tr,0,0))"
   ]
  },
  {
   "cell_type": "raw",
   "metadata": {},
   "source": [
    "x"
   ]
  },
  {
   "cell_type": "code",
   "execution_count": null,
   "metadata": {},
   "outputs": [],
   "source": [
    "XI_W_L.Win.Win_cov"
   ]
  },
  {
   "cell_type": "code",
   "execution_count": null,
   "metadata": {},
   "outputs": [],
   "source": [
    "dask.visualize(XI_W_L.Win.Win_cov)"
   ]
  },
  {
   "cell_type": "raw",
   "metadata": {},
   "source": [
    "crash"
   ]
  },
  {
   "cell_type": "raw",
   "metadata": {},
   "source": [
    "XI_W_L.l_bins=l_bins\n",
    "XI_W_L_NW.l_bins=l_bins\n",
    "XI_W_L.set_HT(HT=WT_L,HT_kwargs=None)\n",
    "XI_W_L_NW.set_HT(HT=WT_L,HT_kwargs=None)\n",
    "XI_W_L.set_bin_params()\n",
    "XI_W_L_NW.set_bin_params()"
   ]
  },
  {
   "cell_type": "raw",
   "metadata": {},
   "source": [
    "corr=('shear','shear')"
   ]
  },
  {
   "cell_type": "raw",
   "metadata": {},
   "source": [
    "gg_i=[(i,i) for i in np.arange(zl_bins['n_bins'])]\n",
    "XI_W_L.stack_indxs[corr_gg]=gg_i\n"
   ]
  },
  {
   "cell_type": "raw",
   "metadata": {},
   "source": [
    "# %time xiHG=XI_H.xi_tomo()\n",
    "# %time xiHG2=XI_H2.xi_tomo()\n",
    "%time xiWG_L=XI_W_L.xi_tomo()\n",
    "%time xiWG_L_nw=XI_W_L_NW.xi_tomo()"
   ]
  },
  {
   "cell_type": "code",
   "execution_count": null,
   "metadata": {},
   "outputs": [],
   "source": [
    "bi=(0,0)\n",
    "corr=corr_gg\n",
    "cov_t=clG['cov'][corr+corr][(0,0,0,0)].compute()\n",
    "cl_bt=clG['cl_b'][corr][(0,0)].compute()\n",
    "cl_btnw=clG_nw['cl_b'][corr][(0,0)].compute()\n",
    "cov_tnw=clG_nw['cov'][corr+corr][(0,0,0,0)].compute()"
   ]
  },
  {
   "cell_type": "code",
   "execution_count": null,
   "metadata": {},
   "outputs": [],
   "source": [
    "plot(np.diag(cov_t['final_b']))\n",
    "plot(cl_bt**2)\n",
    "plot(np.diag(cov_tnw['final_b']),':')\n",
    "plot(cl_btnw**2,':')\n",
    "loglog()"
   ]
  },
  {
   "cell_type": "code",
   "execution_count": null,
   "metadata": {},
   "outputs": [],
   "source": [
    "cc=XI_W_K.cov_utils\n",
    "corrW=cc.corr_matrix(cov_t['final_b'])\n",
    "corrW-=np.diag(np.diag(corrW))\n",
    "pcolor(corrW,vmin=-.1,vmax=.1,cmap='seismic')\n",
    "xticks([])\n",
    "yticks([])\n",
    "colorbar()\n",
    "show()\n",
    "\n"
   ]
  },
  {
   "cell_type": "code",
   "execution_count": null,
   "metadata": {},
   "outputs": [],
   "source": [
    "cc=XI_W_K.cov_utils\n",
    "corrW=cc.corr_matrix(cl_L_nw['cov'])\n",
    "pcolor(corrW,vmin=-1,vmax=1,cmap='seismic')\n",
    "xticks([])\n",
    "yticks([])\n",
    "colorbar()\n",
    "show()\n"
   ]
  },
  {
   "cell_type": "code",
   "execution_count": null,
   "metadata": {},
   "outputs": [],
   "source": [
    "cc=XI_W_K.cov_utils\n",
    "corrW=cc.corr_matrix(cl_L['cov'])\n",
    "pcolor(corrW,vmin=-1,vmax=1,cmap='seismic')\n",
    "# xlabel(r'$\\theta$ (degrees)')\n",
    "# ylabel(r'$\\theta$ (degrees)')\n",
    "title('Wigner')\n",
    "# hlines(60,0,120)\n",
    "# vlines(60,0,120)\n",
    "xticks([])\n",
    "yticks([])\n",
    "\n",
    "\n",
    "colorbar()\n",
    "show()\n",
    "# corrL=cc.corr_matrix(clL['cov'])\n",
    "# pcolor(corrL,vmin=-1,vmax=1,cmap='seismic')"
   ]
  },
  {
   "cell_type": "code",
   "execution_count": null,
   "metadata": {},
   "outputs": [],
   "source": [
    "linalg.cond(cl_L['cov']) #< 1/sys.float_info.epsilon"
   ]
  },
  {
   "cell_type": "code",
   "execution_count": null,
   "metadata": {},
   "outputs": [],
   "source": [
    "N=np.linalg.norm(cl_L['cov'])\n",
    "np.linalg.det(cl_L['cov']*5.e20)"
   ]
  },
  {
   "cell_type": "code",
   "execution_count": null,
   "metadata": {
    "scrolled": true
   },
   "outputs": [],
   "source": [
    "cov_inv=np.linalg.inv(cl_L['cov'])\n",
    "cov_nw_inv=np.linalg.inv(cl_L_nw['cov'])\n",
    "SN=cl_L['cl_b']@cov_inv@cl_L['cl_b']\n",
    "SN_nw=cl_L_nw['cl_b']@cov_nw_inv@cl_L_nw['cl_b']\n",
    "SN,SN_nw,SN/SN_nw"
   ]
  },
  {
   "cell_type": "raw",
   "metadata": {},
   "source": [
    "%time xiH=xiHG['stack'].compute()\n",
    "#%time xiH2=xiHG2['stack'].compute()\n",
    "# %time xiH2=xiHG2['stack'].compute()"
   ]
  },
  {
   "cell_type": "code",
   "execution_count": null,
   "metadata": {},
   "outputs": [],
   "source": [
    "crash"
   ]
  },
  {
   "cell_type": "raw",
   "metadata": {},
   "source": [
    "tr='galaxy'\n",
    "corr_t=(tr, tr)\n",
    "corrs_t=(tr,tr,tr,tr)\n",
    "indxs_t=(0,0,0,0)\n",
    "indx_t=(0,0)\n",
    "win_t=XI_W_L.Win.Win['cov'][corrs_t][indxs_t]['M1423'].compute()\n",
    "win0_t=XI_W_L.Win.Win[corr_t][indx_t]['M'].compute()\n",
    "cl_t=clG['cl_b'][corr_t].compute()[corr_t][indx_t]\n",
    "cl_t_nw=clG_nw['cl_b'][corr_t].compute()[corr_t][indx_t]\n",
    "cov_t=clG['cov'][corrs_t][indxs_t].compute()\n",
    "cov_t_nw=clG_nw['cov'][corrs_t][indxs_t].compute()\n",
    "l=XI_W_L.l\n",
    "\n",
    "cov_inv=np.linalg.inv(cov_t['final_b'])\n",
    "cov_nw_inv=np.linalg.inv(cov_t_nw['final_b'])\n",
    "SN=cl_t@cov_inv@cl_t\n",
    "SN_nw=cl_t_nw@cov_nw_inv@cl_t_nw\n",
    "SN,SN_nw,SN/SN_nw"
   ]
  },
  {
   "cell_type": "raw",
   "metadata": {},
   "source": [
    "M_inv=np.linalg.inv(win0_t)\n",
    "cvv=M_inv@cov_t['final']@M_inv.T\n",
    "# np.diag(cov_t['final'])/np.diag(cov_t_nw['final']),np.diag(cvv)/np.diag(cov_t_nw['final'])"
   ]
  },
  {
   "cell_type": "code",
   "execution_count": null,
   "metadata": {
    "scrolled": false
   },
   "outputs": [],
   "source": [
    "%time xiW_L=xiWG_L['stack'].compute()\n",
    "%time xiW_L_nw=xiWG_L_nw['stack'].compute()"
   ]
  },
  {
   "cell_type": "code",
   "execution_count": null,
   "metadata": {},
   "outputs": [],
   "source": [
    "clG['cl_b'].keys()"
   ]
  },
  {
   "cell_type": "code",
   "execution_count": null,
   "metadata": {},
   "outputs": [],
   "source": [
    "XI_W_L.corrs"
   ]
  },
  {
   "cell_type": "code",
   "execution_count": null,
   "metadata": {},
   "outputs": [],
   "source": [
    "XI_W_L.Win.Win.keys()"
   ]
  },
  {
   "cell_type": "raw",
   "metadata": {},
   "source": [
    "#crash\n",
    "fname='cosmolike_covariance_test_wigner_3x2.pkl'\n",
    "with open(fname,\"wb\") as of:\n",
    "    pickle.dump(xiW_L,of)"
   ]
  },
  {
   "cell_type": "code",
   "execution_count": null,
   "metadata": {},
   "outputs": [],
   "source": [
    "f=1\n",
    "xiW_L_nw_inv=np.linalg.inv(xiW_L_nw['cov']*f)\n",
    "print ((np.dot(xiW_L_nw['xi'],np.dot(xiW_L_nw_inv,xiW_L_nw['xi']))))\n",
    "\n",
    "cov_xiWL_inv=np.linalg.inv(xiW_L['cov']*f)\n",
    "print ((np.dot(xiW_L['xi'],np.dot(cov_xiWL_inv,xiW_L['xi']))))"
   ]
  },
  {
   "cell_type": "code",
   "execution_count": null,
   "metadata": {},
   "outputs": [],
   "source": [
    "pcolor(xiW_L_nw['cov']/xiW_L['cov'])\n",
    "colorbar()"
   ]
  },
  {
   "cell_type": "code",
   "execution_count": null,
   "metadata": {},
   "outputs": [],
   "source": [
    "pcolor(xiW_L_nw_inv/cov_xiWL_inv)\n",
    "colorbar()"
   ]
  },
  {
   "cell_type": "raw",
   "metadata": {},
   "source": [
    "cc=XI_H.cov_utils\n",
    "corrH=cc.corr_matrix(xiH['cov'])\n",
    "pcolor(corrH,vmin=-1,vmax=1,cmap='seismic')\n",
    "# xlabel(r'$\\theta$ (degrees)')\n",
    "# ylabel(r'$\\theta$ (degrees)')\n",
    "title('Hankel')\n",
    "# hlines(60,0,120)\n",
    "# vlines(60,0,120)\n",
    "xticks([])\n",
    "yticks([])\n",
    "\n",
    "\n",
    "colorbar()\n",
    "show()\n",
    "# corrL=cc.corr_matrix(clL['cov'])\n",
    "# pcolor(corrL,vmin=-1,vmax=1,cmap='seismic')"
   ]
  },
  {
   "cell_type": "code",
   "execution_count": null,
   "metadata": {},
   "outputs": [],
   "source": [
    "cc=XI_W_L.cov_utils\n",
    "corrW=cc.corr_matrix(cl_L['cov'])\n",
    "pcolor(corrW,vmin=-1,vmax=1,cmap='seismic')\n",
    "# xlabel(r'$\\theta$ (degrees)')\n",
    "# ylabel(r'$\\theta$ (degrees)')\n",
    "title('$C_\\ell$')\n",
    "# hlines(60,0,120)\n",
    "# vlines(60,0,120)\n",
    "xticks([])\n",
    "yticks([])\n",
    "\n",
    "\n",
    "colorbar()\n",
    "show()\n",
    "# corrL=cc.corr_matrix(clL['cov'])\n",
    "# pcolor(corrL,vmin=-1,vmax=1,cmap='seismic')"
   ]
  },
  {
   "cell_type": "code",
   "execution_count": null,
   "metadata": {},
   "outputs": [],
   "source": [
    "cc=XI_W_L.cov_utils\n",
    "corrW=cc.corr_matrix(cl_L_nw['cov'])\n",
    "pcolor(corrW,vmin=-1,vmax=1,cmap='seismic')\n",
    "# xlabel(r'$\\theta$ (degrees)')\n",
    "# ylabel(r'$\\theta$ (degrees)')\n",
    "title('$C_\\ell$-NW')\n",
    "# hlines(60,0,120)\n",
    "# vlines(60,0,120)\n",
    "xticks([])\n",
    "yticks([])\n",
    "\n",
    "\n",
    "colorbar()\n",
    "show()\n",
    "# corrL=cc.corr_matrix(clL['cov'])\n",
    "# pcolor(corrL,vmin=-1,vmax=1,cmap='seismic')"
   ]
  },
  {
   "cell_type": "code",
   "execution_count": null,
   "metadata": {},
   "outputs": [],
   "source": [
    "R=np.diag(cl_L_nw['cov']/cl_L['cov'])\n",
    "plot(R)"
   ]
  },
  {
   "cell_type": "code",
   "execution_count": null,
   "metadata": {},
   "outputs": [],
   "source": [
    "cc=XI_W_L.cov_utils\n",
    "corrW=cc.corr_matrix(xiW_L['cov'])\n",
    "pcolor(corrW,vmin=-1,vmax=1,cmap='seismic')\n",
    "# xlabel(r'$\\theta$ (degrees)')\n",
    "# ylabel(r'$\\theta$ (degrees)')\n",
    "title('Wigner')\n",
    "# hlines(60,0,120)\n",
    "# vlines(60,0,120)\n",
    "xticks([])\n",
    "yticks([])\n",
    "\n",
    "\n",
    "colorbar()\n",
    "show()\n",
    "# corrL=cc.corr_matrix(clL['cov'])\n",
    "# pcolor(corrL,vmin=-1,vmax=1,cmap='seismic')"
   ]
  },
  {
   "cell_type": "code",
   "execution_count": null,
   "metadata": {},
   "outputs": [],
   "source": [
    "cc=XI_W_L.cov_utils\n",
    "corrNW=cc.corr_matrix(xiW_L_nw['cov'])\n",
    "pcolor(corrNW,vmin=-1,vmax=1,cmap='seismic')\n",
    "# xlabel(r'$\\theta$ (degrees)')\n",
    "# ylabel(r'$\\theta$ (degrees)')\n",
    "title('Wigner')\n",
    "# hlines(60,0,120)\n",
    "# vlines(60,0,120)\n",
    "xticks([])\n",
    "yticks([])\n",
    "\n",
    "\n",
    "colorbar()\n",
    "show()\n",
    "# corrL=cc.corr_matrix(clL['cov'])\n",
    "# pcolor(corrL,vmin=-1,vmax=1,cmap='seismic')"
   ]
  },
  {
   "cell_type": "code",
   "execution_count": null,
   "metadata": {},
   "outputs": [],
   "source": [
    "pcolor(corrW/corrNW-1,vmin=-1,vmax=1,cmap='seismic')\n",
    "# xlabel(r'$\\theta$ (degrees)')\n",
    "# ylabel(r'$\\theta$ (degrees)')\n",
    "title('Wigner')\n",
    "# hlines(60,0,120)\n",
    "# vlines(60,0,120)\n",
    "xticks([])\n",
    "yticks([])\n",
    "\n",
    "\n",
    "colorbar()\n",
    "show()\n",
    "# corrL=cc.corr_matrix(clL['cov'])\n",
    "# pcolor(corrL,vmin=-1,vmax=1,cmap='seismic')"
   ]
  },
  {
   "cell_type": "code",
   "execution_count": null,
   "metadata": {},
   "outputs": [],
   "source": [
    "XI_W_L.cov_utils.gaussian_cov_norm_2D"
   ]
  },
  {
   "cell_type": "code",
   "execution_count": null,
   "metadata": {},
   "outputs": [],
   "source": [
    "np.diag(xiW_L_nw['cov'])/np.diag(xiW_L['cov'])"
   ]
  },
  {
   "cell_type": "code",
   "execution_count": null,
   "metadata": {},
   "outputs": [],
   "source": [
    "5.25/1.93"
   ]
  },
  {
   "cell_type": "code",
   "execution_count": null,
   "metadata": {},
   "outputs": [],
   "source": [
    "x=np.array([1,0.5,0.1,0.3,0.7])\n",
    "plot(x,[1,1.93,5.25,2.85,1.37],'bo')\n",
    "plot(x,1./x,'ro')\n",
    "yscale('log')\n",
    "xscale('log')"
   ]
  },
  {
   "cell_type": "code",
   "execution_count": null,
   "metadata": {},
   "outputs": [],
   "source": [
    "xiW_L_nw['cov']/xiW_L['cov']"
   ]
  },
  {
   "cell_type": "code",
   "execution_count": null,
   "metadata": {},
   "outputs": [],
   "source": [
    "xiW_L_nw['xi']/xiW_L['xi']"
   ]
  },
  {
   "cell_type": "code",
   "execution_count": null,
   "metadata": {},
   "outputs": [],
   "source": []
  }
 ],
 "metadata": {
  "hide_input": false,
  "kernelspec": {
   "display_name": "Python 3",
   "language": "python",
   "name": "python3"
  },
  "language_info": {
   "codemirror_mode": {
    "name": "ipython",
    "version": 3
   },
   "file_extension": ".py",
   "mimetype": "text/x-python",
   "name": "python",
   "nbconvert_exporter": "python",
   "pygments_lexer": "ipython3",
   "version": "3.7.2"
  }
 },
 "nbformat": 4,
 "nbformat_minor": 2
}
