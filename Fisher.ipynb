{
 "cells": [
  {
   "cell_type": "code",
   "execution_count": 1,
   "metadata": {},
   "outputs": [],
   "source": [
    "import sys\n",
    "import pyccl as ccl\n",
    "import pickle\n",
    "import camb\n",
    "sys.path.insert(0,'./')\n",
    "from importlib import reload\n",
    "from astropy.cosmology import Planck15 as cosmo\n",
    "from astropy.cosmology import default_cosmology\n",
    "from astropy import units\n",
    "import astropy"
   ]
  },
  {
   "cell_type": "code",
   "execution_count": 2,
   "metadata": {},
   "outputs": [],
   "source": [
    "from cov_3X2 import *\n",
    "from fisher import *"
   ]
  },
  {
   "cell_type": "code",
   "execution_count": 3,
   "metadata": {},
   "outputs": [],
   "source": [
    "import lsst_utils\n",
    "reload(lsst_utils)\n",
    "from lsst_utils import *"
   ]
  },
  {
   "cell_type": "code",
   "execution_count": 4,
   "metadata": {},
   "outputs": [],
   "source": [
    "fig_home='./figures/'\n",
    "fig_format='pdf'"
   ]
  },
  {
   "cell_type": "code",
   "execution_count": 5,
   "metadata": {},
   "outputs": [
    {
     "data": {
      "text/plain": [
       "w0waCDM(H0=67.7 km / (Mpc s), Om0=0.307, Ode0=0.691, w0=-1, wa=0, Tcmb0=2.725 K, Neff=3.05, m_nu=[0.   0.   0.06] eV, Ob0=0.0486)"
      ]
     },
     "execution_count": 5,
     "metadata": {},
     "output_type": "execute_result"
    }
   ],
   "source": [
    "def cosmo_w0_wa(cosmo=None,w0=-1,wa=0):\n",
    "    attrs=['H0','Om0', 'Ode0','Tcmb0', 'Neff', 'm_nu', 'Ob0']\n",
    "    args={}\n",
    "    args['w0']=w0\n",
    "    args['wa']=wa\n",
    "    for a in attrs:\n",
    "        args[a]=getattr(cosmo,a)\n",
    "    cosmo_w=astropy.cosmology.w0waCDM(**args)\n",
    "    return cosmo_w\n",
    "cosmo_w0_wa(cosmo=cosmo)"
   ]
  },
  {
   "cell_type": "code",
   "execution_count": 6,
   "metadata": {},
   "outputs": [],
   "source": [
    "def cosmo_h_set(cosmo=None,cosmo_params={}):\n",
    "    if cosmo_params['wa']!=0:\n",
    "        cosmo=cosmo_w0_wa(cosmo=cosmo,w0=cosmo_params['w'],wa=cosmo_params['wa'])\n",
    "    cosmo2=cosmo.clone(H0=cosmo_params['h']*100,\n",
    "                        Om0=cosmo_params['Om'],\n",
    "                       Ob0=cosmo_params['Omb'],\n",
    "#                        Odm0=cosmo_params['Omd'],\n",
    "#                        Ok0=cosmo_params['Omk'],\n",
    "#                        w=cosmo_params['w'],\n",
    "                       m_nu=[0,0,cosmo_params['mnu']]*units.eV\n",
    "                    )"
   ]
  },
  {
   "cell_type": "code",
   "execution_count": 7,
   "metadata": {},
   "outputs": [],
   "source": [
    "def fish_cosmo_model(p='As',Nx=3,dx_max=0.01,do_log=False,kappa_class=None,do_cov=False):\n",
    "    x0=cosmo_fid[p]\n",
    "    Dx=np.linspace((1-dx_max),(1+dx_max),Nx)\n",
    "    if do_log:\n",
    "        x0=np.absolute(x0)\n",
    "        x_vars=x0**Dx\n",
    "        if x0==1:\n",
    "            x_vars=(2.**Dx)/2. # 1**x=1\n",
    "        if x0==0:\n",
    "            x_vars=np.logspace(-3,-2,Nx)\n",
    "        x_vars*=np.sign(cosmo_fid[p])\n",
    "        x_grad=np.gradient(np.log(x_vars))\n",
    "    else:\n",
    "        x_vars=x0*Dx #np.linspace(x0*(1-dx_max),x0*(1+dx_max),Nx)\n",
    "        if x0==0:\n",
    "            x_vars=Dx-1\n",
    "        x_grad=np.gradient(x_vars)\n",
    "\n",
    "    models={}\n",
    "    covs={}\n",
    "    print(p,x_vars)\n",
    "    for i in np.arange(Nx):\n",
    "        cosmo_t=cosmo_fid.copy()\n",
    "\n",
    "        cosmo_t[p]=x_vars[i]\n",
    "\n",
    "        if p=='s8':\n",
    "            s80=cosmo_fid['s8']\n",
    "            cosmo_t['As']*=(cosmo_t['s8']/s80)**2\n",
    "            kappa_class.Ang_PS.PS.get_pk(z=[0],cosmo_params=cosmo_t,return_s8=True)\n",
    "            kappa_class.Ang_PS.PS.pk=None\n",
    "            x_vars[i]=kappa_class.Ang_PS.PS.s8\n",
    "#                 print(x_vars[p][i],s80,cosmo_t['s8'])\n",
    "        cosmo_h2=cosmo_h_set(cosmo=cosmo,cosmo_params=cosmo_t)\n",
    "        cl0G=kappa_class.cl_tomo(cosmo_params=cosmo_t,cosmo_h=cosmo_h2)\n",
    "        cl_t=cl0G['stack'].compute()\n",
    "        models[i]=cl_t['cl_b']\n",
    "        covs[i]=cl_t['cov']\n",
    "        kappa_class.Ang_PS.reset()\n",
    "    return models,covs,x_vars,x_grad"
   ]
  },
  {
   "cell_type": "code",
   "execution_count": 104,
   "metadata": {},
   "outputs": [],
   "source": [
    "def set_zbin_bias0(zs_bins={},bias=0):\n",
    "    bias0=np.copy(zs_bins['zp_bias'])\n",
    "    bias0=bias*(1+zs_bins['zp'])\n",
    "    return bias0\n",
    "\n",
    "def set_zbin_bias(zs_bins={},bias=0,bin_id=0):\n",
    "    bias0=np.copy(zs_bins['zp_bias'])\n",
    "    idx=np.digitize(zs_bins['zp'],zs_bins['z_bins'])-1\n",
    "    bias0[np.where(idx==bin_id)]=bias\n",
    "    return bias0\n",
    "\n",
    "def set_zbin_sigma(zs_bins={},zsigma_frac=1,bin_id=0):\n",
    "    zp_sigma=np.copy(zs_bins['zp_sigma'])\n",
    "    idx=np.digitize(zs_bins['zp'],zs_bins['z_bins'])-1\n",
    "    zp_sigma[np.where(idx==bin_id)]=zp_sigma[np.where(idx==bin_id)]*zsigma_frac\n",
    "    return zp_sigma\n",
    "    \n",
    "def fish_z_model(p='b1',Nx=3,dx_max=0.01,kappa_class=None,do_cov=False,zs_bins_kwargs0={}):\n",
    "    zs_bins_kwargs=zs_bins_kwargs0.copy()\n",
    "    zs_bins=lsst_source_tomo_bins(**zs_bins_kwargs)\n",
    "    if 'b' in p:\n",
    "        x0=0\n",
    "    else:\n",
    "        x0=1\n",
    "    x_vars=np.linspace((x0-dx_max),(x0+dx_max),Nx)\n",
    "    x_grad=np.gradient(x_vars)\n",
    "    \n",
    "    models={}\n",
    "    covs={}\n",
    "    print(p,x_vars)\n",
    "    for i in np.arange(Nx):\n",
    "        zs_bins_t=zs_bins.copy()\n",
    "        if 'B' in p:\n",
    "            bias=set_zbin_bias0(zs_bins=zs_bins,bias=x_vars[i])\n",
    "            zs_bins_kwargs['z_bias']=bias\n",
    "            zs_bins_i=lsst_source_tomo_bins(**zs_bins_kwargs)\n",
    "        if 'b' in p:\n",
    "            bin_id=np.int(p[-1])\n",
    "            bias=set_zbin_bias(zs_bins=zs_bins,bias=x_vars[i],bin_id=bin_id)\n",
    "            zs_bins_kwargs['z_bias']=bias\n",
    "            zs_bins_i=lsst_source_tomo_bins(**zs_bins_kwargs)\n",
    "        if 'sig' in p:\n",
    "            bin_id=np.int(p[-1])\n",
    "            zp_sigma=set_zbin_sigma(zs_bins=zs_bins,zsigma_frac=x_vars[i],bin_id=0)\n",
    "            zs_bins_kwargs['z_sigma']=zp_sigma\n",
    "            zs_bins_i=lsst_source_tomo_bins(**zs_bins_kwargs)\n",
    "        kappa_class.update_zbins(z_bins=zs_bins_i,probe='shear')\n",
    "        cl0G=kappa_class.cl_tomo()\n",
    "        cl_t=cl0G['stack'].compute()\n",
    "        models[i]=cl_t['cl_b']\n",
    "        covs[i]=cl_t['cov']\n",
    "        kappa_class.Ang_PS.reset()\n",
    "    kappa_class.update_zbins(z_bins=zs_bins,probe='shear')\n",
    "    return models,covs,x_vars,x_grad"
   ]
  },
  {
   "cell_type": "code",
   "execution_count": 99,
   "metadata": {},
   "outputs": [],
   "source": [
    "def fisher_calc(cosmo_params=['As'],z_params=[],Nx=3,dx_max=0.01,do_log=False,kappa_class=None,do_cov=False,\n",
    "               cov_3X2_kwargs={},zs_bins_kwargs={},ell_bin_kwargs={},cl0=None,priors=None):\n",
    "    if kappa_class is None:\n",
    "        zs_bins=lsst_source_tomo_bins(**zs_bins_kwargs)\n",
    "        l0,l_bins,l=get_cl_ells(**ell_bin_kwargs)\n",
    "        kappa_class=cov_3X2(l=l0,l_bins=l_bins,zs_bins=zs_bins,**cov_3X2_kwargs)\n",
    "        \n",
    "        cl0G=kappa_class.cl_tomo()\n",
    "        cl0=cl0G['stack'].compute()\n",
    "    \n",
    "    cl_t=cl0 #cl0G['stack'].compute()\n",
    "    cosmo_fid=kappa_class.Ang_PS.PS.cosmo_params.copy()\n",
    "    cosmo_h=kappa_class.Ang_PS.PS.cosmo_h.clone()\n",
    "    cov=cl_t['cov']\n",
    "    kappa_class.Ang_PS.reset()\n",
    "    do_cov0=np.copy(kappa_class.do_cov)\n",
    "    kappa_class.do_cov=do_cov\n",
    "\n",
    "    ndim=len(cosmo_params)+len(z_params)\n",
    "    params_all=np.append(cosmo_params,z_params)\n",
    "    \n",
    "    x_vars={}\n",
    "    models={}\n",
    "    model_derivs={}\n",
    "    covs={}\n",
    "    cov_derivs={}\n",
    "    x_grads={}\n",
    "    for p in cosmo_params:\n",
    "        models[p],covs[p],x_vars[p],x_grads[p]=fish_cosmo_model(p=p,Nx=Nx,dx_max=dx_max,do_log=do_log,\n",
    "                                                     kappa_class=kappa_class,do_cov=do_cov)\n",
    "    for p in z_params:\n",
    "        models[p],covs[p],x_vars[p],x_grads[p]=fish_z_model(p=p,Nx=Nx,dx_max=dx_max,\n",
    "                                                 kappa_class=kappa_class,\n",
    "                                                 do_cov=do_cov,zs_bins_kwargs0=zs_bins_kwargs)\n",
    "    for p in params_all:\n",
    "        model_derivs[p]=np.gradient(np.array([models[p][i] for i in np.arange(Nx)]),axis=0).T\n",
    "        model_derivs[p]/=x_grads[p]\n",
    "        model_derivs[p]=model_derivs[p][:,np.int(Nx/2)]\n",
    "        \n",
    "        if do_cov:\n",
    "            cov_derivs[p]=np.gradient(np.array([covs[p][i] for i in np.arange(Nx)]),axis=0).T\n",
    "            cov_derivs[p]/=x_grads[p]\n",
    "#             print(cov_derivs[p].shape,x_grad.shape)\n",
    "            cov_derivs[p]=cov_derivs[p][:,:,np.int(Nx/2)]\n",
    "    \n",
    "    cov_inv=np.linalg.inv(cov)\n",
    "    cov_p_inv=np.zeros([ndim]*2)\n",
    "    i1=0\n",
    "    for p1 in params_all:\n",
    "        i2=0\n",
    "        for p2 in params_all:\n",
    "            cov_p_inv[i1,i2]=np.dot(model_derivs[p1],np.dot(cov_inv,model_derivs[p2]))\n",
    "            \n",
    "            if do_cov:\n",
    "#                 print(cov_p_inv[i1,i2],0.5*np.trace(cov_inv@cov_derivs[p1]@cov_inv@cov_derivs[p2]))\n",
    "                cov_p_inv[i1,i2]+=0.5*np.trace(cov_inv@cov_derivs[p1]@cov_inv@cov_derivs[p2])\n",
    "            i2+=1\n",
    "        i1+=1\n",
    "    out={}\n",
    "    out['cov_p_inv']=np.copy(cov_p_inv)\n",
    "    if priors is not None:\n",
    "        i2=0\n",
    "        for p1 in params_all:\n",
    "            cov_p_inv[i2,i2]+=1./priors[p1]**2\n",
    "            i2+=1\n",
    "    \n",
    "    try:\n",
    "        out['cov_p']=np.linalg.inv(cov_p_inv)\n",
    "        out['error']=np.sqrt(np.diag(out['cov_p']))\n",
    "    except Excepion as err:\n",
    "        print(err)\n",
    "\n",
    "    out['cov_deriv']=cov_derivs\n",
    "    out['model_deriv']=model_derivs\n",
    "    out['cov']=cov\n",
    "    out['cov_inv']=cov_inv\n",
    "    out['model']=models\n",
    "    out['x_vars']=x_vars\n",
    "    kappa_class.do_cov=do_cov0\n",
    "    return out"
   ]
  },
  {
   "cell_type": "code",
   "execution_count": 100,
   "metadata": {},
   "outputs": [],
   "source": [
    "def get_cl_ells(lmax_cl=5000,lmin_cl=2,Nl_bins=40):\n",
    "    l0=np.arange(lmin_cl,lmax_cl)\n",
    "\n",
    "    lmin_cl_Bins=lmin_cl+10\n",
    "    lmax_cl_Bins=lmax_cl-10\n",
    "    l_bins=np.int64(np.logspace(np.log10(lmin_cl_Bins),np.log10(lmax_cl_Bins),Nl_bins))\n",
    "    \n",
    "\n",
    "    l=np.unique(np.int64(np.logspace(np.log10(lmin_cl),np.log10(lmax_cl),Nl_bins*20))) #if we want to use fewer ell\n",
    "    return l0,l_bins,l\n"
   ]
  },
  {
   "cell_type": "code",
   "execution_count": 65,
   "metadata": {},
   "outputs": [],
   "source": [
    "#setup parameters\n",
    "l0,l_bins,l=get_cl_ells()\n",
    "lb=0.5*(l_bins[1:]+l_bins[:-1])\n",
    "\n",
    "do_cov=True\n",
    "bin_cl=True\n",
    "\n",
    "SSV_cov=True\n",
    "tidal_SSV_cov=False\n",
    "\n",
    "bin_xi=True\n",
    "theta_bins=np.logspace(np.log10(1./60),1,20)"
   ]
  },
  {
   "cell_type": "code",
   "execution_count": 66,
   "metadata": {},
   "outputs": [
    {
     "name": "stdout",
     "output_type": "stream",
     "text": [
      "ns0:  23.97215719735619\n"
     ]
    },
    {
     "name": "stderr",
     "output_type": "stream",
     "text": [
      "/usr/lib/python3.7/site-packages/astropy/units/quantity.py:639: RuntimeWarning: divide by zero encountered in true_divide\n",
      "  result = super().__array_ufunc__(function, method, *arrays, **kwargs)\n"
     ]
    }
   ],
   "source": [
    "zs_bins=lsst_source_tomo_bins()\n",
    "\n",
    "do_cov=True\n",
    "bin_cl=True\n",
    "SSV_cov=True\n",
    "tidal_SSV=False\n",
    "do_sample_variance=True\n",
    "use_window=False\n",
    "\n",
    "sigma_gamma=0.26\n",
    "area=14000\n",
    "f_sky=area*d2r**2/4/np.pi"
   ]
  },
  {
   "cell_type": "code",
   "execution_count": 67,
   "metadata": {},
   "outputs": [
    {
     "data": {
      "text/plain": [
       "0.3393695767766752"
      ]
     },
     "execution_count": 67,
     "metadata": {},
     "output_type": "execute_result"
    }
   ],
   "source": [
    "f_sky"
   ]
  },
  {
   "cell_type": "code",
   "execution_count": 68,
   "metadata": {},
   "outputs": [
    {
     "name": "stdout",
     "output_type": "stream",
     "text": [
      "ns0:  23.084299523380036\n"
     ]
    },
    {
     "name": "stderr",
     "output_type": "stream",
     "text": [
      "/usr/lib/python3.7/site-packages/astropy/units/quantity.py:639: RuntimeWarning: divide by zero encountered in true_divide\n",
      "  result = super().__array_ufunc__(function, method, *arrays, **kwargs)\n",
      "/usr/lib/python3.7/site-packages/astropy/units/quantity.py:639: RuntimeWarning: invalid value encountered in multiply\n",
      "  result = super().__array_ufunc__(function, method, *arrays, **kwargs)\n",
      "/usr/lib/python3.7/site-packages/astropy/units/quantity.py:639: RuntimeWarning: invalid value encountered in less_equal\n",
      "  result = super().__array_ufunc__(function, method, *arrays, **kwargs)\n"
     ]
    }
   ],
   "source": [
    "cov_3X2_kwargs={'do_cov':do_cov,'bin_cl':bin_cl,'zg_bins':None,#'l':l0,'l_bins':l_bins,\n",
    "            'SSV_cov':SSV_cov,'tidal_SSV_cov':tidal_SSV,'do_xi':False,'use_window':use_window,\n",
    "            'f_sky':f_sky,'sigma_gamma':sigma_gamma,\n",
    "            'do_sample_variance':do_sample_variance,'power_spectra_kwargs':{'pk_func':'class_pk'},\n",
    "            'bin_xi':bin_xi}\n",
    "zs_bins_kwargs={'zmin':0.3,'zmax':3,'ns0':26,'nbins':3,'z_sigma':0.05,'z_sigma_power':1}\n",
    "ell_bin_kwargs={'lmax_cl':5000,'lmin_cl':2,'Nl_bins':40}\n",
    "zs_bins=lsst_source_tomo_bins(**zs_bins_kwargs)\n",
    "l0,l_bins,l=get_cl_ells(**ell_bin_kwargs)\n",
    "kappa_class=cov_3X2(l=l0,l_bins=l_bins,zs_bins=zs_bins,**cov_3X2_kwargs)\n",
    "cl0G=kappa_class.cl_tomo()\n",
    "cl0=cl0G['stack'].compute()"
   ]
  },
  {
   "cell_type": "raw",
   "metadata": {},
   "source": [
    "kappaS = cov_3X2(zs_bins=zs_bins,**cov_3X2_kwargs)"
   ]
  },
  {
   "cell_type": "code",
   "execution_count": 74,
   "metadata": {},
   "outputs": [],
   "source": [
    "priors={}\n",
    "priors['As']=np.inf\n",
    "priors['Om']=np.inf\n",
    "priors['w']=np.inf\n",
    "priors['wa']=np.inf"
   ]
  },
  {
   "cell_type": "code",
   "execution_count": 122,
   "metadata": {},
   "outputs": [],
   "source": [
    "priors['B']=0.001 #bias =B*(1+z) \n",
    "\n",
    "priors['b0']=0.001\n",
    "priors['b1']=0.001\n",
    "priors['b2']=0.001\n",
    "\n",
    "priors['sig0']=0.1\n",
    "priors['sig1']=0.1\n",
    "priors['sig2']=0.1"
   ]
  },
  {
   "cell_type": "code",
   "execution_count": 108,
   "metadata": {},
   "outputs": [
    {
     "data": {
      "text/plain": [
       "array(['As', 'Om', 'w', 'wa'], dtype='<U32')"
      ]
     },
     "execution_count": 108,
     "metadata": {},
     "output_type": "execute_result"
    }
   ],
   "source": [
    "p=np.atleast_1d(['As','Om','w','wa'])\n",
    "p2=[]\n",
    "np.append(p,p2)"
   ]
  },
  {
   "cell_type": "code",
   "execution_count": 111,
   "metadata": {},
   "outputs": [
    {
     "data": {
      "text/plain": [
       "0.05"
      ]
     },
     "execution_count": 111,
     "metadata": {},
     "output_type": "execute_result"
    }
   ],
   "source": [
    "zs_bins_kwargs['z_sigma']"
   ]
  },
  {
   "cell_type": "code",
   "execution_count": null,
   "metadata": {},
   "outputs": [
    {
     "name": "stdout",
     "output_type": "stream",
     "text": [
      "ns0:  23.084299523380036\n"
     ]
    },
    {
     "name": "stderr",
     "output_type": "stream",
     "text": [
      "/usr/lib/python3.7/site-packages/astropy/units/quantity.py:639: RuntimeWarning: divide by zero encountered in true_divide\n",
      "  result = super().__array_ufunc__(function, method, *arrays, **kwargs)\n"
     ]
    },
    {
     "name": "stdout",
     "output_type": "stream",
     "text": [
      "As [2.178e-09 2.200e-09 2.222e-09]\n",
      "Om [0.304425 0.3075   0.310575]\n",
      "w [-0.99 -1.   -1.01]\n",
      "wa [-0.01  0.    0.01]\n"
     ]
    }
   ],
   "source": [
    "p=np.atleast_1d(['As','Om','w','wa'])\n",
    "p_z=['B'] #,'sig0','sig1','sig2']\n",
    "fishes_zsigma_pz0_prior={}\n",
    "z_sigs=np.logspace(-2,0,5)\n",
    "for zs in z_sigs:\n",
    "    zs_bins_kwargs['z_sigma']=zs\n",
    "    fishes_zsigma_pz0_prior[zs]=fisher_calc(cosmo_params=p,z_params=p_z,do_cov=False,do_log=False,priors=priors,\n",
    "                                     cov_3X2_kwargs=cov_3X2_kwargs,#kappa_class=kappa_class,cl0=cl0,\n",
    "                                  zs_bins_kwargs=zs_bins_kwargs,ell_bin_kwargs=ell_bin_kwargs)"
   ]
  },
  {
   "cell_type": "code",
   "execution_count": 123,
   "metadata": {},
   "outputs": [
    {
     "name": "stdout",
     "output_type": "stream",
     "text": [
      "ns0:  23.084299523380036\n"
     ]
    },
    {
     "name": "stderr",
     "output_type": "stream",
     "text": [
      "/usr/lib/python3.7/site-packages/astropy/units/quantity.py:639: RuntimeWarning: divide by zero encountered in true_divide\n",
      "  result = super().__array_ufunc__(function, method, *arrays, **kwargs)\n"
     ]
    },
    {
     "name": "stdout",
     "output_type": "stream",
     "text": [
      "As [2.178e-09 2.200e-09 2.222e-09]\n",
      "Om [0.304425 0.3075   0.310575]\n",
      "w [-0.99 -1.   -1.01]\n",
      "wa [-0.01  0.    0.01]\n",
      "ns0:  23.084299523380036\n",
      "b0 [-0.01  0.    0.01]\n",
      "ns0:  23.084299523380036\n",
      "ns0:  23.084299523380036\n",
      "ns0:  23.084299523380036\n",
      "ns0:  23.084299523380036\n",
      "b1 [-0.01  0.    0.01]\n",
      "ns0:  23.084299523380036\n",
      "ns0:  23.084299523380036\n",
      "ns0:  23.084299523380036\n",
      "ns0:  23.084299523380036\n",
      "b2 [-0.01  0.    0.01]\n",
      "ns0:  23.084299523380036\n",
      "ns0:  23.084299523380036\n",
      "ns0:  23.084299523380036\n",
      "ns0:  23.084299523380036\n",
      "As [2.178e-09 2.200e-09 2.222e-09]\n",
      "Om [0.304425 0.3075   0.310575]\n",
      "w [-0.99 -1.   -1.01]\n",
      "wa [-0.01  0.    0.01]\n",
      "ns0:  23.084299523380036\n",
      "b0 [-0.01  0.    0.01]\n",
      "ns0:  23.084299523380036\n",
      "ns0:  23.084299523380036\n",
      "ns0:  23.084299523380036\n",
      "ns0:  23.084299523380036\n",
      "b1 [-0.01  0.    0.01]\n",
      "ns0:  23.084299523380036\n",
      "ns0:  23.084299523380036\n",
      "ns0:  23.084299523380036\n",
      "ns0:  23.084299523380036\n",
      "b2 [-0.01  0.    0.01]\n",
      "ns0:  23.084299523380036\n",
      "ns0:  23.084299523380036\n",
      "ns0:  23.084299523380036\n",
      "ns0:  23.084299523380036\n"
     ]
    },
    {
     "name": "stderr",
     "output_type": "stream",
     "text": [
      "/usr/lib/python3.7/site-packages/astropy/units/quantity.py:639: RuntimeWarning: invalid value encountered in multiply\n",
      "  result = super().__array_ufunc__(function, method, *arrays, **kwargs)\n",
      "/usr/lib/python3.7/site-packages/astropy/units/quantity.py:639: RuntimeWarning: invalid value encountered in less_equal\n",
      "  result = super().__array_ufunc__(function, method, *arrays, **kwargs)\n"
     ]
    },
    {
     "name": "stdout",
     "output_type": "stream",
     "text": [
      "As [2.178e-09 2.200e-09 2.222e-09]\n",
      "Om [0.304425 0.3075   0.310575]\n",
      "w [-0.99 -1.   -1.01]\n",
      "wa [-0.01  0.    0.01]\n",
      "ns0:  23.084299523380036\n",
      "b0 [-0.01  0.    0.01]\n",
      "ns0:  23.084299523380036\n",
      "ns0:  23.084299523380036\n",
      "ns0:  23.084299523380036\n",
      "ns0:  23.084299523380036\n",
      "b1 [-0.01  0.    0.01]\n",
      "ns0:  23.084299523380036\n",
      "ns0:  23.084299523380036\n",
      "ns0:  23.084299523380036\n",
      "ns0:  23.084299523380036\n",
      "b2 [-0.01  0.    0.01]\n",
      "ns0:  23.084299523380036\n",
      "ns0:  23.084299523380036\n",
      "ns0:  23.084299523380036\n",
      "ns0:  23.084299523380036\n",
      "As [2.178e-09 2.200e-09 2.222e-09]\n",
      "Om [0.304425 0.3075   0.310575]\n",
      "w [-0.99 -1.   -1.01]\n",
      "wa [-0.01  0.    0.01]\n",
      "ns0:  23.084299523380036\n",
      "b0 [-0.01  0.    0.01]\n",
      "ns0:  23.084299523380036\n",
      "ns0:  23.084299523380036\n",
      "ns0:  23.084299523380036\n",
      "ns0:  23.084299523380036\n",
      "b1 [-0.01  0.    0.01]\n",
      "ns0:  23.084299523380036\n",
      "ns0:  23.084299523380036\n",
      "ns0:  23.084299523380036\n",
      "ns0:  23.084299523380036\n",
      "b2 [-0.01  0.    0.01]\n",
      "ns0:  23.084299523380036\n",
      "ns0:  23.084299523380036\n",
      "ns0:  23.084299523380036\n",
      "ns0:  23.084299523380036\n",
      "As [2.178e-09 2.200e-09 2.222e-09]\n",
      "Om [0.304425 0.3075   0.310575]\n",
      "w [-0.99 -1.   -1.01]\n",
      "wa [-0.01  0.    0.01]\n",
      "ns0:  23.084299523380036\n",
      "b0 [-0.01  0.    0.01]\n",
      "ns0:  23.084299523380036\n",
      "ns0:  23.084299523380036\n",
      "ns0:  23.084299523380036\n",
      "ns0:  23.084299523380036\n",
      "b1 [-0.01  0.    0.01]\n",
      "ns0:  23.084299523380036\n",
      "ns0:  23.084299523380036\n",
      "ns0:  23.084299523380036\n",
      "ns0:  23.084299523380036\n",
      "b2 [-0.01  0.    0.01]\n",
      "ns0:  23.084299523380036\n",
      "ns0:  23.084299523380036\n",
      "ns0:  23.084299523380036\n"
     ]
    }
   ],
   "source": [
    "p=np.atleast_1d(['As','Om','w','wa'])\n",
    "p_z=['b0','b1','b2'] #,'sig0','sig1','sig2']\n",
    "fishes_zsigma_pz_prior={}\n",
    "z_sigs=np.logspace(-2,0,5)\n",
    "for zs in z_sigs:\n",
    "    zs_bins_kwargs['z_sigma']=zs\n",
    "    fishes_zsigma_pz_prior[zs]=fisher_calc(cosmo_params=p,z_params=p_z,do_cov=False,do_log=False,priors=priors,\n",
    "                                     cov_3X2_kwargs=cov_3X2_kwargs,#kappa_class=kappa_class,cl0=cl0,\n",
    "                                  zs_bins_kwargs=zs_bins_kwargs,ell_bin_kwargs=ell_bin_kwargs)"
   ]
  },
  {
   "cell_type": "code",
   "execution_count": 124,
   "metadata": {},
   "outputs": [
    {
     "name": "stdout",
     "output_type": "stream",
     "text": [
      "0.01 136.2146794693862\n",
      "0.01 117.28595325634616\n",
      "0.01 117.28595325634616\n",
      "0.01 163.22447630431867\n"
     ]
    }
   ],
   "source": [
    "k=0.01\n",
    "sn=1./np.sqrt(np.linalg.det(fishes_zsigma_pz_prior[k]['cov_p'][2:4,2:4]))\n",
    "print(k,sn)\n",
    "sn=1./np.sqrt(np.linalg.det(fishes_zsigma_pz0_prior[k]['cov_p'][2:4,2:4]))\n",
    "print(k,sn)\n",
    "# sn=1./np.sqrt(np.linalg.det(fishes_zsigma_pz[0.05]['cov_p'][2:4,2:4]))\n",
    "print(k,sn)\n",
    "sn=1./np.sqrt(np.linalg.det(fishes_zsigma[k]['cov_p'][2:4,2:4]))\n",
    "print(k,sn)"
   ]
  },
  {
   "cell_type": "code",
   "execution_count": null,
   "metadata": {},
   "outputs": [],
   "source": [
    "crash"
   ]
  },
  {
   "cell_type": "code",
   "execution_count": 70,
   "metadata": {},
   "outputs": [
    {
     "name": "stdout",
     "output_type": "stream",
     "text": [
      "ns0:  23.084299523380036\n"
     ]
    },
    {
     "name": "stderr",
     "output_type": "stream",
     "text": [
      "/usr/lib/python3.7/site-packages/astropy/units/quantity.py:639: RuntimeWarning: divide by zero encountered in true_divide\n",
      "  result = super().__array_ufunc__(function, method, *arrays, **kwargs)\n"
     ]
    },
    {
     "name": "stdout",
     "output_type": "stream",
     "text": [
      "As [2.178e-09 2.200e-09 2.222e-09]\n",
      "Om [0.304425 0.3075   0.310575]\n",
      "w [-0.99 -1.   -1.01]\n",
      "wa [-0.01  0.    0.01]\n",
      "ns0:  23.084299523380036\n",
      "b0 [-0.01  0.    0.01]\n",
      "ns0:  23.084299523380036\n",
      "ns0:  23.084299523380036\n",
      "ns0:  23.084299523380036\n",
      "ns0:  23.084299523380036\n",
      "b1 [-0.01  0.    0.01]\n",
      "ns0:  23.084299523380036\n",
      "ns0:  23.084299523380036\n",
      "ns0:  23.084299523380036\n",
      "ns0:  23.084299523380036\n",
      "b2 [-0.01  0.    0.01]\n",
      "ns0:  23.084299523380036\n",
      "ns0:  23.084299523380036\n",
      "ns0:  23.084299523380036\n",
      "ns0:  23.084299523380036\n",
      "As [2.178e-09 2.200e-09 2.222e-09]\n",
      "Om [0.304425 0.3075   0.310575]\n",
      "w [-0.99 -1.   -1.01]\n",
      "wa [-0.01  0.    0.01]\n",
      "ns0:  23.084299523380036\n",
      "b0 [-0.01  0.    0.01]\n",
      "ns0:  23.084299523380036\n",
      "ns0:  23.084299523380036\n",
      "ns0:  23.084299523380036\n",
      "ns0:  23.084299523380036\n",
      "b1 [-0.01  0.    0.01]\n",
      "ns0:  23.084299523380036\n",
      "ns0:  23.084299523380036\n",
      "ns0:  23.084299523380036\n",
      "ns0:  23.084299523380036\n",
      "b2 [-0.01  0.    0.01]\n",
      "ns0:  23.084299523380036\n",
      "ns0:  23.084299523380036\n",
      "ns0:  23.084299523380036\n",
      "ns0:  23.084299523380036\n"
     ]
    },
    {
     "name": "stderr",
     "output_type": "stream",
     "text": [
      "/usr/lib/python3.7/site-packages/astropy/units/quantity.py:639: RuntimeWarning: invalid value encountered in multiply\n",
      "  result = super().__array_ufunc__(function, method, *arrays, **kwargs)\n",
      "/usr/lib/python3.7/site-packages/astropy/units/quantity.py:639: RuntimeWarning: invalid value encountered in less_equal\n",
      "  result = super().__array_ufunc__(function, method, *arrays, **kwargs)\n"
     ]
    },
    {
     "name": "stdout",
     "output_type": "stream",
     "text": [
      "As [2.178e-09 2.200e-09 2.222e-09]\n",
      "Om [0.304425 0.3075   0.310575]\n",
      "w [-0.99 -1.   -1.01]\n",
      "wa [-0.01  0.    0.01]\n",
      "ns0:  23.084299523380036\n",
      "b0 [-0.01  0.    0.01]\n",
      "ns0:  23.084299523380036\n",
      "ns0:  23.084299523380036\n",
      "ns0:  23.084299523380036\n",
      "ns0:  23.084299523380036\n",
      "b1 [-0.01  0.    0.01]\n",
      "ns0:  23.084299523380036\n",
      "ns0:  23.084299523380036\n",
      "ns0:  23.084299523380036\n",
      "ns0:  23.084299523380036\n",
      "b2 [-0.01  0.    0.01]\n",
      "ns0:  23.084299523380036\n",
      "ns0:  23.084299523380036\n",
      "ns0:  23.084299523380036\n",
      "ns0:  23.084299523380036\n",
      "As [2.178e-09 2.200e-09 2.222e-09]\n",
      "Om [0.304425 0.3075   0.310575]\n",
      "w [-0.99 -1.   -1.01]\n",
      "wa [-0.01  0.    0.01]\n",
      "ns0:  23.084299523380036\n",
      "b0 [-0.01  0.    0.01]\n",
      "ns0:  23.084299523380036\n",
      "ns0:  23.084299523380036\n",
      "ns0:  23.084299523380036\n",
      "ns0:  23.084299523380036\n",
      "b1 [-0.01  0.    0.01]\n",
      "ns0:  23.084299523380036\n",
      "ns0:  23.084299523380036\n",
      "ns0:  23.084299523380036\n",
      "ns0:  23.084299523380036\n",
      "b2 [-0.01  0.    0.01]\n",
      "ns0:  23.084299523380036\n",
      "ns0:  23.084299523380036\n",
      "ns0:  23.084299523380036\n",
      "ns0:  23.084299523380036\n",
      "As [2.178e-09 2.200e-09 2.222e-09]\n",
      "Om [0.304425 0.3075   0.310575]\n",
      "w [-0.99 -1.   -1.01]\n",
      "wa [-0.01  0.    0.01]\n",
      "ns0:  23.084299523380036\n",
      "b0 [-0.01  0.    0.01]\n",
      "ns0:  23.084299523380036\n",
      "ns0:  23.084299523380036\n",
      "ns0:  23.084299523380036\n",
      "ns0:  23.084299523380036\n",
      "b1 [-0.01  0.    0.01]\n",
      "ns0:  23.084299523380036\n",
      "ns0:  23.084299523380036\n",
      "ns0:  23.084299523380036\n",
      "ns0:  23.084299523380036\n",
      "b2 [-0.01  0.    0.01]\n",
      "ns0:  23.084299523380036\n",
      "ns0:  23.084299523380036\n",
      "ns0:  23.084299523380036\n"
     ]
    }
   ],
   "source": [
    "p=np.atleast_1d(['As','Om','w','wa'])\n",
    "p_z=['b0','b1','b2'] #,'sig0','sig1','sig2']\n",
    "#p=np.atleast_1d(['s8'])\n",
    "fishes_zsigma_pz={}\n",
    "z_sigs=np.logspace(-2,0,5)\n",
    "for zs in z_sigs:\n",
    "    zs_bins_kwargs['z_sigma']=zs\n",
    "    fishes_zsigma_pz[zs]=fisher_calc(cosmo_params=p,z_params=p_z,do_cov=False,do_log=False,\n",
    "                                     cov_3X2_kwargs=cov_3X2_kwargs,#kappa_class=kappa_class,cl0=cl0,\n",
    "                                  zs_bins_kwargs=zs_bins_kwargs,ell_bin_kwargs=ell_bin_kwargs)\n",
    "zs_bins_kwargs['z_sigma']=0.05"
   ]
  },
  {
   "cell_type": "code",
   "execution_count": 71,
   "metadata": {},
   "outputs": [
    {
     "name": "stdout",
     "output_type": "stream",
     "text": [
      "ns0:  23.084299523380036\n"
     ]
    },
    {
     "name": "stderr",
     "output_type": "stream",
     "text": [
      "/usr/lib/python3.7/site-packages/astropy/units/quantity.py:639: RuntimeWarning: divide by zero encountered in true_divide\n",
      "  result = super().__array_ufunc__(function, method, *arrays, **kwargs)\n"
     ]
    },
    {
     "name": "stdout",
     "output_type": "stream",
     "text": [
      "As [2.178e-09 2.200e-09 2.222e-09]\n",
      "Om [0.304425 0.3075   0.310575]\n",
      "w [-0.99 -1.   -1.01]\n",
      "wa [-0.01  0.    0.01]\n",
      "ns0:  23.084299523380036\n",
      "As [2.178e-09 2.200e-09 2.222e-09]\n",
      "Om [0.304425 0.3075   0.310575]\n",
      "w [-0.99 -1.   -1.01]\n",
      "wa [-0.01  0.    0.01]\n",
      "ns0:  23.084299523380036\n"
     ]
    },
    {
     "name": "stderr",
     "output_type": "stream",
     "text": [
      "/usr/lib/python3.7/site-packages/astropy/units/quantity.py:639: RuntimeWarning: invalid value encountered in multiply\n",
      "  result = super().__array_ufunc__(function, method, *arrays, **kwargs)\n",
      "/usr/lib/python3.7/site-packages/astropy/units/quantity.py:639: RuntimeWarning: invalid value encountered in less_equal\n",
      "  result = super().__array_ufunc__(function, method, *arrays, **kwargs)\n"
     ]
    },
    {
     "name": "stdout",
     "output_type": "stream",
     "text": [
      "As [2.178e-09 2.200e-09 2.222e-09]\n",
      "Om [0.304425 0.3075   0.310575]\n",
      "w [-0.99 -1.   -1.01]\n",
      "wa [-0.01  0.    0.01]\n",
      "ns0:  23.084299523380036\n",
      "As [2.178e-09 2.200e-09 2.222e-09]\n",
      "Om [0.304425 0.3075   0.310575]\n",
      "w [-0.99 -1.   -1.01]\n",
      "wa [-0.01  0.    0.01]\n",
      "ns0:  23.084299523380036\n",
      "As [2.178e-09 2.200e-09 2.222e-09]\n",
      "Om [0.304425 0.3075   0.310575]\n",
      "w [-0.99 -1.   -1.01]\n",
      "wa [-0.01  0.    0.01]\n"
     ]
    }
   ],
   "source": [
    "p=np.atleast_1d(['As','Om','w','wa'])\n",
    "p_z=[]\n",
    "#p=np.atleast_1d(['s8'])\n",
    "fishes_zsigma={}\n",
    "z_sigs=np.logspace(-2,0,5)\n",
    "for zs in z_sigs:\n",
    "    zs_bins_kwargs['z_sigma']=zs\n",
    "    fishes_zsigma[zs]=fisher_calc(cosmo_params=p,z_params=p_z,do_cov=False,do_log=False,\n",
    "                                  cov_3X2_kwargs=cov_3X2_kwargs,#kappa_class=kappa_class,cl0=cl0,\n",
    "                                  zs_bins_kwargs=zs_bins_kwargs,ell_bin_kwargs=ell_bin_kwargs)\n",
    "zs_bins_kwargs['z_sigma']=0.05"
   ]
  },
  {
   "cell_type": "code",
   "execution_count": 126,
   "metadata": {},
   "outputs": [
    {
     "name": "stdout",
     "output_type": "stream",
     "text": [
      "0.01 163.22447630431867\n",
      "0.01 27.507429247872743\n",
      "0.01 117.28595325634616\n",
      "0.01 136.2146794693862\n",
      "0.03162277660168379 161.7644544432526\n",
      "0.03162277660168379 27.963832763207865\n",
      "0.03162277660168379 118.12895741623291\n",
      "0.03162277660168379 132.53005321375434\n",
      "0.1 147.58625922809094\n",
      "0.1 26.43173116518875\n",
      "0.1 109.99592693796028\n",
      "0.1 122.36037694761013\n",
      "0.31622776601683794 101.3980901842759\n",
      "0.31622776601683794 17.918311026773267\n",
      "0.31622776601683794 76.93216124318198\n",
      "0.31622776601683794 92.73573372189384\n",
      "1.0 46.00750552640162\n",
      "1.0 10.205559592599094\n",
      "1.0 45.058007113906974\n",
      "1.0 45.30650586751223\n"
     ]
    },
    {
     "name": "stderr",
     "output_type": "stream",
     "text": [
      "/usr/lib/python3.7/site-packages/matplotlib/font_manager.py:1331: UserWarning: findfont: Font family ['serif'] not found. Falling back to DejaVu Sans\n",
      "  (prop.get_family(), self.defaultFamily[fontext]))\n"
     ]
    },
    {
     "data": {
      "image/png": "[encoded data removed]",
      "text/plain": [
       "<Figure size 1500x1125 with 1 Axes>"
      ]
     },
     "metadata": {},
     "output_type": "display_data"
    }
   ],
   "source": [
    "fig, ax = subplots(1,1, figsize=(15,11.25))\n",
    "for k in list(fishes_zsigma.keys()):\n",
    "    sn=1./np.sqrt(np.linalg.det(fishes_zsigma[k]['cov_p'][-2:,-2:]))\n",
    "    print(k,sn)\n",
    "    ax.plot(k,sn,'bo')\n",
    "    sn=1./np.sqrt(np.linalg.det(fishes_zsigma_pz[k]['cov_p'][2:4,2:4]))\n",
    "    print(k,sn)\n",
    "    ax.plot(k,sn,'ro')\n",
    "    sn=1./np.sqrt(np.linalg.det(fishes_zsigma_pz0_prior[k]['cov_p'][2:4,2:4]))\n",
    "    print(k,sn)\n",
    "    ax.plot(k,sn,'go')\n",
    "    sn=1./np.sqrt(np.linalg.det(fishes_zsigma_pz_prior[k]['cov_p'][2:4,2:4]))\n",
    "    print(k,sn)\n",
    "    ax.plot(k,sn,'mo')\n",
    "    \n",
    "    \n",
    "ax.set_xscale('log')\n",
    "ax.set_xlabel('$\\sigma_z$')\n",
    "ax.set_ylabel('DETF')\n",
    "fname='sigmaz_detf'\n",
    "# fig.savefig(fig_home+fname+'.'+fig_format,bbox_inches='tight',format=fig_format)\n",
    "# yscale('log')"
   ]
  },
  {
   "cell_type": "code",
   "execution_count": null,
   "metadata": {},
   "outputs": [],
   "source": [
    "p=np.atleast_1d(['As','Om','w','wa'])\n",
    "#p=np.atleast_1d(['s8'])\n",
    "fishes_zsigma_pow={}\n",
    "z_pow=[0,1,2]\n",
    "for zp in z_pow:\n",
    "    zs_bins_kwargs['z_sigma_power']=zp\n",
    "    fishes_zsigma_pow[zp]=fisher_calc(params=p,do_cov=False,do_log=False,cov_3X2_kwargs=cov_3X2_kwargs,\n",
    "                                  zs_bins_kwargs=zs_bins_kwargs,ell_bin_kwargs=ell_bin_kwargs)\n",
    "zs_bins_kwargs['z_sigma_power']=1"
   ]
  },
  {
   "cell_type": "code",
   "execution_count": null,
   "metadata": {},
   "outputs": [],
   "source": [
    "fig, ax = subplots(1,1, figsize=(15,11.25))\n",
    "for k in list(fishes_zsigma_pow.keys()):\n",
    "    sn=1./np.sqrt(np.linalg.det(fishes_zsigma_pow[k]['cov_p'][-2:,-2:]))\n",
    "    print(k,sn)\n",
    "    ax.plot(k,sn,'bo')\n",
    "# ax.set_xscale('log')\n",
    "ax.set_xlabel('$\\sigma_z$ pow')\n",
    "ax.set_ylabel('DETF')\n",
    "fname='sigmaz_pow_detf'\n",
    "fig.savefig(fig_home+fname+'.'+fig_format,bbox_inches='tight',format=fig_format)\n",
    "# yscale('log')"
   ]
  },
  {
   "cell_type": "code",
   "execution_count": null,
   "metadata": {},
   "outputs": [],
   "source": [
    "p=np.atleast_1d(['As','Om','w','wa'])\n",
    "#p=np.atleast_1d(['s8'])\n",
    "fishes_zmax={}\n",
    "z_ms=[3] #[1,1.5,2,3]\n",
    "for zm in z_ms:\n",
    "    zs_bins_kwargs['zmax']=zm\n",
    "    fishes_zmax[zm]=fisher_calc(params=p,do_cov=False,do_log=False,cov_3X2_kwargs=cov_3X2_kwargs,\n",
    "                                zs_bins_kwargs=zs_bins_kwargs,ell_bin_kwargs=ell_bin_kwargs)\n",
    "zs_bins_kwargs['zmax']=3"
   ]
  },
  {
   "cell_type": "code",
   "execution_count": null,
   "metadata": {},
   "outputs": [],
   "source": [
    "p=np.atleast_1d(['As','Om','w','wa'])\n",
    "#p=np.atleast_1d(['s8'])\n",
    "fishes_zmin={}\n",
    "z_ms=[0.1,0.3,0.5]\n",
    "for zm in z_ms:\n",
    "    zs_bins_kwargs['zmin']=zm\n",
    "    fishes_zmin[zm]=fisher_calc(params=p,do_cov=False,do_log=False,cov_3X2_kwargs=cov_3X2_kwargs,\n",
    "                                zs_bins_kwargs=zs_bins_kwargs,ell_bin_kwargs=ell_bin_kwargs)\n",
    "zs_bins_kwargs['zmin']=0.3"
   ]
  },
  {
   "cell_type": "code",
   "execution_count": null,
   "metadata": {},
   "outputs": [],
   "source": [
    "fig, ax = subplots(1,1, figsize=(15,11.25))\n",
    "for k in list(fishes_zmax.keys()):\n",
    "    sn=1./np.sqrt(np.linalg.det(fishes_zmax[k]['cov_p'][-2:,-2:]))\n",
    "    print(k,sn)\n",
    "    ax.plot(k,sn,'bo')\n",
    "# xscale('log')\n",
    "# ax.set_xlim(1.5,11)\n",
    "# ax.set_ylim(120,145)\n",
    "ax.set_xlabel('$z_{max}$')\n",
    "ax.set_ylabel('DETF')\n",
    "# ax.set_yscale('log')\n",
    "fname='zmax_detf'\n",
    "fig.savefig(fig_home+fname+'.'+fig_format,bbox_inches='tight',format=fig_format)"
   ]
  },
  {
   "cell_type": "code",
   "execution_count": null,
   "metadata": {},
   "outputs": [],
   "source": [
    "fig, ax = subplots(1,1, figsize=(15,11.25))\n",
    "for k in list(fishes_zmin.keys()):\n",
    "    sn=1./np.sqrt(np.linalg.det(fishes_zmin[k]['cov_p'][-2:,-2:]))\n",
    "    print(k,sn)\n",
    "    ax.plot(k,sn,'bo')\n",
    "# xscale('log')\n",
    "# ax.set_xlim(1.5,11)\n",
    "# ax.set_ylim(120,145)\n",
    "ax.set_xlabel('$z_{min}$')\n",
    "ax.set_ylabel('DETF')\n",
    "# ax.set_yscale('log')\n",
    "fname='zmin_detf'\n",
    "fig.savefig(fig_home+fname+'.'+fig_format,bbox_inches='tight',format=fig_format)"
   ]
  },
  {
   "cell_type": "code",
   "execution_count": null,
   "metadata": {},
   "outputs": [],
   "source": [
    "zs_bins_kwargs"
   ]
  },
  {
   "cell_type": "code",
   "execution_count": null,
   "metadata": {},
   "outputs": [],
   "source": [
    "p=np.atleast_1d(['As','Om','w','wa'])\n",
    "#p=np.atleast_1d(['s8'])\n",
    "fishes_ell={}\n",
    "ells=[1000,2000,5000]\n",
    "for ell in ells:\n",
    "    ell_bin_kwargs['lmax_cl']=ell\n",
    "    fishes_ell[ell]=fisher_calc(params=p,do_cov=False,do_log=False,cov_3X2_kwargs=cov_3X2_kwargs,\n",
    "                                zs_bins_kwargs=zs_bins_kwargs,ell_bin_kwargs=ell_bin_kwargs)\n",
    "ell_bin_kwargs['lmax_cl']=5000"
   ]
  },
  {
   "cell_type": "code",
   "execution_count": null,
   "metadata": {},
   "outputs": [],
   "source": [
    "fig, ax = subplots(1,1, figsize=(15,11.25))\n",
    "for k in list(fishes_ell.keys()):\n",
    "    sn=1./np.sqrt(np.linalg.det(fishes_ell[k]['cov_p'][-2:,-2:]))\n",
    "    print(k,sn)\n",
    "    ax.plot(k,sn,'bo')\n",
    "# xscale('log')\n",
    "# ax.set_xlim(1.5,11)\n",
    "# ax.set_ylim(120,145)\n",
    "ax.set_xlabel('$\\ell_{max}$')\n",
    "ax.set_ylabel('DETF')\n",
    "# ax.set_yscale('log')\n",
    "fname='ellmax_detf'\n",
    "fig.savefig(fig_home+fname+'.'+fig_format,bbox_inches='tight',format=fig_format)"
   ]
  },
  {
   "cell_type": "code",
   "execution_count": null,
   "metadata": {},
   "outputs": [],
   "source": [
    "p=np.atleast_1d(['As','Om','w','wa'])\n",
    "#p=np.atleast_1d(['s8'])\n",
    "fishes_nb={}\n",
    "zs_bins_kwargs['z_sigma']=0.05\n",
    "nbs=[2,10,1,5,3]#10\n",
    "# nbs=np.arange(10)+1\n",
    "for nb in nbs:\n",
    "    zs_bins_kwargs['nbins']=nb\n",
    "    fishes_nb[nb]=fisher_calc(params=p,do_cov=False,do_log=False,cov_3X2_kwargs=cov_3X2_kwargs,zs_bins_kwargs=zs_bins_kwargs)\n",
    "zs_bins_kwargs['nbins']=3"
   ]
  },
  {
   "cell_type": "code",
   "execution_count": null,
   "metadata": {},
   "outputs": [],
   "source": [
    "fig, ax = subplots(1,1, figsize=(15,11.25))\n",
    "for k in list(fishes_nb.keys()):\n",
    "    sn=1./np.sqrt(np.linalg.det(fishes_nb[k]['cov_p'][-2:,-2:]))\n",
    "    print(k,sn)\n",
    "    ax.plot(k,sn,'bo')\n",
    "# xscale('log')\n",
    "ax.set_xlim(1.5,11)\n",
    "ax.set_ylim(140,200)\n",
    "ax.set_xlabel('# tomographic bins')\n",
    "ax.set_ylabel('DETF')\n",
    "# ax.set_yscale('log')\n",
    "fname='nbins_detf'\n",
    "fig.savefig(fig_home+fname+'.'+fig_format,bbox_inches='tight',format=fig_format)"
   ]
  },
  {
   "cell_type": "raw",
   "metadata": {},
   "source": [
    "#parameterize bias as function of z."
   ]
  },
  {
   "cell_type": "code",
   "execution_count": null,
   "metadata": {},
   "outputs": [],
   "source": []
  },
  {
   "cell_type": "raw",
   "metadata": {},
   "source": [
    "s w0=0.02\n",
    "s wa=0.14\n",
    "\n",
    "compare with... https://arxiv.org/pdf/1607.01761.pdf"
   ]
  },
  {
   "cell_type": "code",
   "execution_count": null,
   "metadata": {},
   "outputs": [],
   "source": [
    "1./np.sqrt(np.linalg.det(fish['cov_p'][-2:,-2:]))"
   ]
  },
  {
   "cell_type": "code",
   "execution_count": null,
   "metadata": {},
   "outputs": [],
   "source": [
    "fish['error']"
   ]
  },
  {
   "cell_type": "code",
   "execution_count": null,
   "metadata": {},
   "outputs": [],
   "source": [
    "fish['error']"
   ]
  },
  {
   "cell_type": "code",
   "execution_count": null,
   "metadata": {},
   "outputs": [],
   "source": [
    "m=fish['model']\n",
    "ci=fish['cov_inv']\n",
    "np.sqrt(np.dot(m,np.dot(ci,m)))"
   ]
  },
  {
   "cell_type": "code",
   "execution_count": null,
   "metadata": {},
   "outputs": [],
   "source": [
    "np.linalg.eig(fish['cov_p'])"
   ]
  },
  {
   "cell_type": "code",
   "execution_count": null,
   "metadata": {},
   "outputs": [],
   "source": []
  },
  {
   "cell_type": "code",
   "execution_count": null,
   "metadata": {},
   "outputs": [],
   "source": []
  }
 ],
 "metadata": {
  "kernelspec": {
   "display_name": "Python 3",
   "language": "python",
   "name": "python3"
  },
  "language_info": {
   "codemirror_mode": {
    "name": "ipython",
    "version": 3
   },
   "file_extension": ".py",
   "mimetype": "text/x-python",
   "name": "python",
   "nbconvert_exporter": "python",
   "pygments_lexer": "ipython3",
   "version": "3.7.0"
  }
 },
 "nbformat": 4,
 "nbformat_minor": 2
}
