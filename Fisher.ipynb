{
 "cells": [
  {
   "cell_type": "code",
   "execution_count": 1,
   "metadata": {},
   "outputs": [],
   "source": [
    "import sys\n",
    "import pyccl as ccl\n",
    "import pickle\n",
    "import camb\n",
    "sys.path.insert(0,'./')\n",
    "from importlib import reload\n",
    "from astropy.cosmology import Planck15 as cosmo\n",
    "from astropy.cosmology import default_cosmology\n",
    "from astropy import units\n",
    "import astropy\n",
    "#only for python3\n",
    "import importlib\n",
    "reload=importlib.reload"
   ]
  },
  {
   "cell_type": "code",
   "execution_count": 2,
   "metadata": {},
   "outputs": [],
   "source": [
    "from cov_3X2 import *\n",
    "from fisher import *\n",
    "from PCA_shear import *"
   ]
  },
  {
   "cell_type": "code",
   "execution_count": 3,
   "metadata": {},
   "outputs": [],
   "source": [
    "import PCA_shear\n",
    "reload(PCA_shear)\n",
    "from PCA_shear import *"
   ]
  },
  {
   "cell_type": "code",
   "execution_count": 4,
   "metadata": {},
   "outputs": [],
   "source": [
    "import cov_3X2\n",
    "reload(cov_3X2)\n",
    "from cov_3X2 import *"
   ]
  },
  {
   "cell_type": "code",
   "execution_count": 5,
   "metadata": {},
   "outputs": [],
   "source": [
    "import lsst_utils\n",
    "reload(lsst_utils)\n",
    "from lsst_utils import *"
   ]
  },
  {
   "cell_type": "code",
   "execution_count": 6,
   "metadata": {},
   "outputs": [],
   "source": [
    "fig_home='./figures/'\n",
    "fig_format='pdf'"
   ]
  },
  {
   "cell_type": "raw",
   "metadata": {},
   "source": [
    "from distributed import LocalCluster\n",
    "from dask.distributed import Client  # we already had this above\n",
    "#http://distributed.readthedocs.io/en/latest/_modules/distributed/worker.html\n",
    "LC=LocalCluster(n_workers=1,processes=False,memory_limit='30gb',threads_per_worker=8,memory_spill_fraction=.99,\n",
    "               memory_monitor_interval='2000ms')\n",
    "client=Client(LC)"
   ]
  },
  {
   "cell_type": "code",
   "execution_count": 7,
   "metadata": {},
   "outputs": [
    {
     "data": {
      "text/plain": [
       "<dask.config.set at 0x7fd32973a6a0>"
      ]
     },
     "execution_count": 7,
     "metadata": {},
     "output_type": "execute_result"
    }
   ],
   "source": [
    "\n",
    "dask.config.set(scheduler='synchronous')  # overwrite default with single-threaded scheduler"
   ]
  },
  {
   "cell_type": "code",
   "execution_count": 8,
   "metadata": {},
   "outputs": [
    {
     "data": {
      "text/plain": [
       "w0waCDM(H0=67.7 km / (Mpc s), Om0=0.307, Ode0=0.691, w0=-1, wa=0, Tcmb0=2.725 K, Neff=3.05, m_nu=[0.   0.   0.06] eV, Ob0=0.0486)"
      ]
     },
     "execution_count": 8,
     "metadata": {},
     "output_type": "execute_result"
    }
   ],
   "source": [
    "def cosmo_w0_wa(cosmo=None,w0=-1,wa=0):\n",
    "    attrs=['H0','Om0', 'Ode0','Tcmb0', 'Neff', 'm_nu', 'Ob0']\n",
    "    args={}\n",
    "    args['w0']=w0\n",
    "    args['wa']=wa\n",
    "    for a in attrs:\n",
    "        args[a]=getattr(cosmo,a)\n",
    "    cosmo_w=astropy.cosmology.w0waCDM(**args)\n",
    "    return cosmo_w\n",
    "cosmo_w0_wa(cosmo=cosmo)"
   ]
  },
  {
   "cell_type": "code",
   "execution_count": 9,
   "metadata": {},
   "outputs": [],
   "source": [
    "def cosmo_h_set(cosmo=None,cosmo_params={}):\n",
    "    if cosmo_params['wa']!=0:\n",
    "        cosmo=cosmo_w0_wa(cosmo=cosmo,w0=cosmo_params['w'],wa=cosmo_params['wa'])\n",
    "    cosmo2=cosmo.clone(H0=cosmo_params['h']*100,\n",
    "                        Om0=cosmo_params['Om'],\n",
    "                       Ob0=cosmo_params['Omb'],\n",
    "#                        Odm0=cosmo_params['Omd'],\n",
    "#                        Ok0=cosmo_params['Omk'],\n",
    "#                        w=cosmo_params['w'],\n",
    "                       m_nu=[0,0,cosmo_params['mnu']]*units.eV\n",
    "                    )"
   ]
  },
  {
   "cell_type": "code",
   "execution_count": 10,
   "metadata": {},
   "outputs": [],
   "source": [
    "def get_x_var(x0=None,dx_max=0.01,do_log=False,Nx=2):\n",
    "    Dx=np.linspace((1-dx_max),(1+dx_max),Nx)\n",
    "    if do_log:\n",
    "        x0=np.absolute(x0)\n",
    "        x_vars=x0**Dx\n",
    "        if x0==1:\n",
    "            x_vars=(2.**Dx)/2. # 1**x=1\n",
    "        if x0==0:\n",
    "            x_vars=np.logspace(-3,-2,Nx)\n",
    "        x_vars*=np.sign(cosmo_fid[p])\n",
    "        x_grad=np.gradient(np.log(x_vars))\n",
    "    else:\n",
    "        x_vars=x0*Dx #np.linspace(x0*(1-dx_max),x0*(1+dx_max),Nx)\n",
    "        if x0==0:\n",
    "            x_vars=Dx-1\n",
    "        x_grad=np.gradient(x_vars)\n",
    "    return x_vars,x_grad"
   ]
  },
  {
   "cell_type": "code",
   "execution_count": 11,
   "metadata": {},
   "outputs": [],
   "source": [
    "def fish_cosmo_model(p='As',Nx=2,dx_max=0.01,do_log=False,kappa_class=None,do_cov=False):\n",
    "    x0=cosmo_fid[p]\n",
    "\n",
    "    models={}\n",
    "    covs={}\n",
    "    x_vars,x_grad=get_x_var(x0=x0,dx_max=dx_max,do_log=do_log,Nx=Nx)\n",
    "    print(p,x_vars)\n",
    "    for i in np.arange(Nx):\n",
    "        cosmo_t=cosmo_fid.copy()\n",
    "\n",
    "        cosmo_t[p]=x_vars[i]\n",
    "\n",
    "        if p=='s8':\n",
    "            s80=cosmo_fid['s8']\n",
    "            cosmo_t['As']*=(cosmo_t['s8']/s80)**2\n",
    "            kappa_class.Ang_PS.PS.get_pk(z=[0],cosmo_params=cosmo_t,return_s8=True)\n",
    "            kappa_class.Ang_PS.PS.pk=None\n",
    "            x_vars[i]=kappa_class.Ang_PS.PS.s8\n",
    "#                 print(x_vars[p][i],s80,cosmo_t['s8'])\n",
    "        cosmo_h2=cosmo_h_set(cosmo=cosmo,cosmo_params=cosmo_t)\n",
    "        cl0G=kappa_class.cl_tomo(cosmo_params=cosmo_t,cosmo_h=cosmo_h2)\n",
    "        cl_t=cl0G['stack'].compute()\n",
    "        models[i]=cl_t['cl_b']\n",
    "        covs[i]=cl_t['cov']\n",
    "        kappa_class.Ang_PS.reset()\n",
    "    return models,covs,x_vars,x_grad"
   ]
  },
  {
   "cell_type": "code",
   "execution_count": 12,
   "metadata": {},
   "outputs": [],
   "source": [
    "def set_zbin_bias0(zs_bins={},bias=0):\n",
    "    bias0=np.copy(zs_bins['zp_bias'])\n",
    "    bias0=bias*(1+zs_bins['zp'])\n",
    "    return bias0\n",
    "\n",
    "def set_zbin_bias(zs_bins={},bias=0,bin_id=0):\n",
    "    bias0=np.copy(zs_bins['zp_bias'])\n",
    "    idx=np.digitize(zs_bins['zp'],zs_bins['z_bins'])-1\n",
    "    bias0[np.where(idx==bin_id)]=bias\n",
    "    return bias0\n",
    "\n",
    "def set_zbin_sigma(zs_bins={},zsigma_frac=1,bin_id=0):\n",
    "    zp_sigma=np.copy(zs_bins['zp_sigma'])\n",
    "    idx=np.digitize(zs_bins['zp'],zs_bins['z_bins'])-1\n",
    "    zp_sigma[np.where(idx==bin_id)]=zp_sigma[np.where(idx==bin_id)]*zsigma_frac\n",
    "    return zp_sigma\n",
    "    \n",
    "def fish_z_model(p='b1',Nx=2,dx_max=0.01,kappa_class=None,do_cov=False,do_log=False,zs_bins_kwargs0={}):\n",
    "    zs_bins_kwargs=zs_bins_kwargs0.copy()\n",
    "    zs_bins=lsst_source_tomo_bins(**zs_bins_kwargs)\n",
    "    if 'b' in p:\n",
    "        x0=0\n",
    "    else:\n",
    "        x0=1\n",
    "    x_vars,x_grad=get_x_var(x0=x0,dx_max=dx_max,do_log=do_log,Nx=Nx)\n",
    "    \n",
    "    models={}\n",
    "    covs={}\n",
    "    print(p,x_vars)\n",
    "    for i in np.arange(Nx):\n",
    "        zs_bins_t=zs_bins.copy()\n",
    "        if 'B' in p:\n",
    "            bias=set_zbin_bias0(zs_bins=zs_bins,bias=x_vars[i])\n",
    "            zs_bins_kwargs['z_bias']=bias\n",
    "            zs_bins_i=lsst_source_tomo_bins(**zs_bins_kwargs)\n",
    "        if 'b' in p:\n",
    "            bin_id=np.int(p[-1])\n",
    "            bias=set_zbin_bias(zs_bins=zs_bins,bias=x_vars[i],bin_id=bin_id)\n",
    "            zs_bins_kwargs['z_bias']=bias\n",
    "            zs_bins_i=lsst_source_tomo_bins(**zs_bins_kwargs)\n",
    "        if 'sig' in p:\n",
    "            bin_id=np.int(p[-1])\n",
    "            zp_sigma=set_zbin_sigma(zs_bins=zs_bins,zsigma_frac=x_vars[i],bin_id=0)\n",
    "            zs_bins_kwargs['z_sigma']=zp_sigma\n",
    "            zs_bins_i=lsst_source_tomo_bins(**zs_bins_kwargs)\n",
    "        kappa_class.update_zbins(z_bins=zs_bins_i,probe='shear')\n",
    "        cl0G=kappa_class.cl_tomo()\n",
    "        cl_t=cl0G['stack'].compute()\n",
    "        models[i]=cl_t['cl_b']\n",
    "        covs[i]=cl_t['cov']\n",
    "        kappa_class.Ang_PS.reset()\n",
    "    kappa_class.update_zbins(z_bins=zs_bins,probe='shear')\n",
    "    return models,covs,x_vars,x_grad"
   ]
  },
  {
   "cell_type": "code",
   "execution_count": 13,
   "metadata": {},
   "outputs": [],
   "source": [
    "def fish_galaxy_model(p='b11',Nx=2,dx_max=0.01,kappa_class=None,do_cov=False,do_log=False,zg_bins_kwargs0={}):\n",
    "    \n",
    "    z_bins=kappa_class.z_bins['galaxy']\n",
    "    Dx=np.linspace((1-dx_max),(1+dx_max),Nx)\n",
    "\n",
    "    if 'b' in p:\n",
    "        bin_indx=np.int(p[-1])\n",
    "        x0=kappa_class.z_bins['galaxy'][bin_indx][p[:-1]]\n",
    "    else:\n",
    "        pass\n",
    "    x_vars,x_grad=get_x_var(x0=x0,dx_max=dx_max,do_log=do_log,Nx=Nx)    \n",
    "    \n",
    "    models={}\n",
    "    covs={}\n",
    "    print(p,x_vars)\n",
    "    for i in np.arange(Nx):\n",
    "        z_bins_t=z_bins.copy()\n",
    "        if 'b' in p:\n",
    "            z_bins_t[bin_indx][p[:-1]]=x_vars[i]\n",
    "        \n",
    "        kappa_class.update_zbins(z_bins=z_bins_t,probe='galaxy')\n",
    "        cl0G=kappa_class.cl_tomo()\n",
    "        cl_t=cl0G['stack'].compute()\n",
    "        models[i]=cl_t['cl_b']\n",
    "        covs[i]=cl_t['cov']\n",
    "        kappa_class.Ang_PS.reset()\n",
    "        z_bins_t[bin_indx][p[:-1]]=x0\n",
    "    kappa_class.update_zbins(z_bins=z_bins,probe='galaxy')\n",
    "    return models,covs,x_vars,x_grad    "
   ]
  },
  {
   "cell_type": "code",
   "execution_count": 14,
   "metadata": {},
   "outputs": [],
   "source": [
    "def fish_baryon_model(p='Q1',Nx=2,dx_max=0.01,kappa_class=None,clS=None,cl0=None,do_cov=False,do_log=False,\n",
    "                      zg_bins_kwargs0={},NmarQ=2):\n",
    "    Dx=np.linspace((1-dx_max),(1+dx_max),Nx)\n",
    "\n",
    "    if 'Q' in p:\n",
    "        Q_indx=np.int(p[-1])\n",
    "        x0=0\n",
    "    else:\n",
    "        pass\n",
    "    x_vars,x_grad=get_x_var(x0=x0,dx_max=dx_max,do_log=do_log,Nx=Nx)    \n",
    "    \n",
    "    models={}\n",
    "    covs={}\n",
    "    cov_F=1.#/np.median(np.diag(clS['cov']))\n",
    "    print(p,clS['cov'].shape,np.linalg.det(clS['cov']*cov_F))\n",
    "    \n",
    "    PCS=PCA_shear(kappa_class=kappa_class,NmarQ=NmarQ,clS=clS)\n",
    "    \n",
    "    for i in np.arange(Nx):\n",
    "        Q0=[0]*NmarQ\n",
    "        Q0[Q_indx]=x_vars[i]\n",
    "        \n",
    "        cl_t=PCS.compute_modelv_bary(cosmo_params=cosmo_fid,Q=Q0)\n",
    "        models[i]=np.zeros_like(cl0) #this is needed to keep everything in right shape. Baryon stuff is only for shear right now. \n",
    "        models[i][:len(cl_t)]+=cl_t #['cl_b']\n",
    "        models[i][len(cl_t):]+=cl0[len(cl_t):]\n",
    "        print(models[i].shape,PCS.COV.shape)\n",
    "        covs[i]=PCS.COV\n",
    "        kappa_class.Ang_PS.reset()\n",
    "    return models,covs,x_vars,x_grad    \n",
    "\n",
    "# PCS=PCA_shear(kappa_class=kappa_class,NmarQ=3)\n",
    "# cl_t1=PCS.compute_modelv_bary(cosmo_params=cosmo_fid,Q=[-10,-10,-10])\n",
    "# cl_t0=PCS.compute_modelv_bary(cosmo_params=cosmo_fid,Q=[0,0,0])"
   ]
  },
  {
   "cell_type": "raw",
   "metadata": {},
   "source": [
    "kappa_class=init_fish(corrs=corrs_iter[0],z_min=0,n_lens_bins=1,l_min=100,Nl_bins=60,nbins=3,\n",
    "                    pk_func='class_pk',SSV=True)\n",
    "\n",
    "# fish_bary=fisher_calc(cosmo_params=['As'],z_params=[],do_cov=False,do_log=False,\n",
    "#                                         kappa_class=kappa_class,galaxy_params=[],\n",
    "#                                           baryon_params=['Q0','Q1']\n",
    "#                                         )\n",
    "\n",
    "kappa_class.do_cov=True\n",
    "\n",
    "cl0G=kappa_class.cl_tomo()\n",
    "clS=cl0G['stack'].compute()\n",
    "cl_shear=delayed(kappa_class.stack_dat)(dat={'cov':cl0G['cov'],'cl_b':cl0G['cl_b'],'est':'cl_b'},corrs=[corr_ll])\n",
    "cl_shear=cl_shear.compute()\n",
    "lb=0.5*(kappa_class.l_bins[1:]+kappa_class.l_bins[:-1])\n",
    "cc=kappa_class.cov_utils\n",
    "corr_shear=cc.corr_matrix(cl_shear['cov'])\n",
    "pcolor(corr_shear,vmin=-1,vmax=1,cmap='seismic')\n",
    "cl0={}\n",
    "ii=(0,0)\n",
    "%time cl0['cl0']=cl0G['cl'][corr_ll][ii].compute()\n",
    "%time cl0['cl']=cl0G['cl_b'][corr_ll].compute()[corr_ll][ii]\n",
    "%time cl0['cov']=cl0G['cov'][corr_ll+corr_ll][ii+ii].compute()#kappa0.compute_cov_tomo(cl0G['cov'])"
   ]
  },
  {
   "cell_type": "raw",
   "metadata": {},
   "source": [
    "cl_t=cl0['cl']\n",
    "cov0=cl0['cov']#[(0,0,0,0)]\n",
    "f=1e4\n",
    "plot(lb,np.diag(cov0['G_b'])-np.diag(cov0['SSC_b']),label='Gaussian')\n",
    "plot(lb,cl_t**2,label='th')\n",
    "#plot(lb,np.diag(cov02['G'])/cl_t**2*f*0.95)\n",
    "plot(lb,np.diag(cov0['SSC_b']),label='SSC')\n",
    "# plot(lb,np.diag(cov0['SSC_dk'])/cl_t**2*f)\n",
    "xscale('log')\n",
    "yscale('log')\n",
    "xlim(10,3000)\n",
    "xlabel(r'$\\ell$')\n",
    "ylabel(r'$\\frac{\\delta C_\\ell}{C_\\ell^2}\\times'+str(f)+'$')\n",
    "legend()"
   ]
  },
  {
   "cell_type": "code",
   "execution_count": 15,
   "metadata": {},
   "outputs": [],
   "source": [
    "def fisher_calc(cosmo_params=['As'],z_params=[],galaxy_params=[],baryon_params=[],Nx=2,dx_max=0.01,do_log=False,\n",
    "                kappa_class=None,do_cov=False,baryon_PCA_nQ=2,\n",
    "               cov_3X2_kwargs={},zs_bins_kwargs={},ell_bin_kwargs={},cl0=None,priors=None):\n",
    "    \n",
    "    if kappa_class is None:\n",
    "        zs_bins=lsst_source_tomo_bins(**zs_bins_kwargs)\n",
    "        l0,l_bins,l=get_cl_ells(**ell_bin_kwargs)\n",
    "        kappa_class=cov_3X2(l=l0,l_bins=l_bins,zs_bins=zs_bins,**cov_3X2_kwargs)\n",
    "        \n",
    "    do_cov0=np.copy(kappa_class.do_cov)\n",
    "    kappa_class.do_cov=True #need covariance to start things.\n",
    "    \n",
    "    cl0G=kappa_class.cl_tomo()\n",
    "    \n",
    "    clS=cl0G['stack'].compute()\n",
    "#     cl_t=client.submit(cl0G['stack'])\n",
    "    cl0=clS['cl_b']\n",
    "    \n",
    "    cl_shear=delayed(kappa_class.stack_dat)(dat={'cov':cl0G['cov'],'cl_b':cl0G['cl_b'],'est':'cl_b'},corrs=[corr_ll])\n",
    "    cl_shear=cl_shear.compute()\n",
    "#     cl_t=client.submit(cl0G['stack'])\n",
    "\n",
    "    cosmo_fid=kappa_class.Ang_PS.PS.cosmo_params.copy()\n",
    "    cosmo_h=kappa_class.Ang_PS.PS.cosmo_h.clone()\n",
    "    cov=clS['cov']\n",
    "    kappa_class.Ang_PS.reset()\n",
    "    \n",
    "    kappa_class.do_cov=do_cov\n",
    "\n",
    "    ndim=len(cosmo_params)+len(z_params)+len(galaxy_params)+len(baryon_params)\n",
    "    params_all=np.append(np.append(cosmo_params,z_params),galaxy_params)\n",
    "    params_all=np.append(params_all,baryon_params)\n",
    "    \n",
    "    x_vars={}\n",
    "    models={}\n",
    "    model_derivs={}\n",
    "    covs={}\n",
    "    cov_derivs={}\n",
    "    x_grads={}\n",
    "    for p in cosmo_params:\n",
    "        models[p],covs[p],x_vars[p],x_grads[p]=fish_cosmo_model(p=p,Nx=Nx,dx_max=dx_max,do_log=do_log,\n",
    "                                                     kappa_class=kappa_class,do_cov=do_cov)\n",
    "    for p in z_params:\n",
    "        models[p],covs[p],x_vars[p],x_grads[p]=fish_z_model(p=p,Nx=Nx,dx_max=dx_max,\n",
    "                                                 kappa_class=kappa_class,\n",
    "                                                 do_cov=do_cov,zs_bins_kwargs0=zs_bins_kwargs)\n",
    "    \n",
    "    for p in galaxy_params:\n",
    "        models[p],covs[p],x_vars[p],x_grads[p]=fish_galaxy_model(p=p,Nx=Nx,dx_max=dx_max,\n",
    "                                                 kappa_class=kappa_class,\n",
    "                                                 do_cov=do_cov,zg_bins_kwargs0=zs_bins_kwargs)\n",
    "    \n",
    "    for p in baryon_params:\n",
    "        models[p],covs[p],x_vars[p],x_grads[p]=fish_baryon_model(p=p,Nx=Nx,dx_max=dx_max,\n",
    "                                                 kappa_class=kappa_class,clS=cl_shear,cl0=cl0,\n",
    "                                                 do_cov=do_cov,NmarQ=baryon_PCA_nQ)\n",
    "    \n",
    "    for p in params_all:\n",
    "        model_derivs[p]=np.gradient(np.array([models[p][i] for i in np.arange(Nx)]),axis=0).T\n",
    "        model_derivs[p]/=x_grads[p]\n",
    "        model_derivs[p]=model_derivs[p][:,np.int(Nx/2)]\n",
    "        \n",
    "        if do_cov:\n",
    "            cov_derivs[p]=np.gradient(np.array([covs[p][i] for i in np.arange(Nx)]),axis=0).T\n",
    "            cov_derivs[p]/=x_grads[p]\n",
    "#             print(cov_derivs[p].shape,x_grad.shape)\n",
    "            cov_derivs[p]=cov_derivs[p][:,:,np.int(Nx/2)]\n",
    "    \n",
    "    cov_inv=np.linalg.inv(cov)\n",
    "    cov_p_inv=np.zeros([ndim]*2)\n",
    "    i1=0\n",
    "    for p1 in params_all:\n",
    "        i2=0\n",
    "        for p2 in params_all:\n",
    "            cov_p_inv[i1,i2]=np.dot(model_derivs[p1],np.dot(cov_inv,model_derivs[p2]))\n",
    "            \n",
    "            if do_cov:\n",
    "#                 print(cov_p_inv[i1,i2],0.5*np.trace(cov_inv@cov_derivs[p1]@cov_inv@cov_derivs[p2]))\n",
    "                cov_p_inv[i1,i2]+=0.5*np.trace(cov_inv@cov_derivs[p1]@cov_inv@cov_derivs[p2])\n",
    "            i2+=1\n",
    "        i1+=1\n",
    "    out={}\n",
    "    out['cov_p_inv']=np.copy(cov_p_inv)\n",
    "    if priors is not None:\n",
    "        i2=0\n",
    "        for p1 in params_all:\n",
    "            cov_p_inv[i2,i2]+=1./priors[p1]**2\n",
    "            i2+=1\n",
    "    try:\n",
    "        out['cov_p']=np.linalg.inv(cov_p_inv)\n",
    "        out['error']=np.sqrt(np.diag(out['cov_p']))\n",
    "    except Exception as err:\n",
    "        print(err)\n",
    "\n",
    "    out['cov_deriv']=cov_derivs\n",
    "    out['model_deriv']=model_derivs\n",
    "    out['cov']=cov\n",
    "    out['cov_inv']=cov_inv\n",
    "    out['model']=models\n",
    "    out['x_vars']=x_vars\n",
    "    out['params']=params_all\n",
    "    kappa_class.do_cov=do_cov0\n",
    "    return out"
   ]
  },
  {
   "cell_type": "code",
   "execution_count": 16,
   "metadata": {},
   "outputs": [],
   "source": [
    "def fish_apply_priors(cosmo_params=[],z_params=[],galaxy_params=[],baryon_params=[],priors=None,fish=[]):\n",
    "    ndim=len(cosmo_params)+len(z_params)+len(galaxy_params)+len(baryon_params)\n",
    "    params_all=np.append(np.append(cosmo_params,z_params),galaxy_params)\n",
    "    params_all=np.append(params_all,baryon_params)\n",
    "    \n",
    "    cov_p_inv=np.copy(fish['cov_p_inv'])\n",
    "    \n",
    "    i2=0\n",
    "    for p1 in params_all:\n",
    "        cov_p_inv[i2,i2]+=1./priors[p1]**2\n",
    "        i2+=1\n",
    "    try:\n",
    "        fish['cov_p_prior']=np.linalg.inv(cov_p_inv)\n",
    "        fish['error_prior']=np.sqrt(np.diag(fish['cov_p_prior']))\n",
    "    except Exception as err:\n",
    "        print(err)\n",
    "    return fish"
   ]
  },
  {
   "cell_type": "code",
   "execution_count": 17,
   "metadata": {},
   "outputs": [],
   "source": [
    "k='corrs3_zmin0_barynQ2_pkfclass_pk_SSVFalse'"
   ]
  },
  {
   "cell_type": "code",
   "execution_count": 18,
   "metadata": {},
   "outputs": [],
   "source": [
    "def get_cl_ells(lmax_cl=5000,lmin_cl=2,Nl_bins=40):\n",
    "    l0=np.arange(lmin_cl,lmax_cl)\n",
    "\n",
    "    lmin_cl_Bins=lmin_cl+10\n",
    "    lmax_cl_Bins=lmax_cl-10\n",
    "    l_bins=np.int64(np.logspace(np.log10(lmin_cl_Bins),np.log10(lmax_cl_Bins),Nl_bins))\n",
    "    \n",
    "\n",
    "    l=np.unique(np.int64(np.logspace(np.log10(lmin_cl),np.log10(lmax_cl),Nl_bins*20))) #if we want to use fewer ell\n",
    "    return l0,l_bins,l\n"
   ]
  },
  {
   "cell_type": "code",
   "execution_count": 19,
   "metadata": {},
   "outputs": [],
   "source": [
    "corr_ggl=('galaxy','shear')\n",
    "corr_gg=('galaxy','galaxy')\n",
    "corr_ll=('shear','shear')\n",
    "corrs=[corr_ll] #[corr_ggl,corr_gg,corr_ll]"
   ]
  },
  {
   "cell_type": "code",
   "execution_count": 20,
   "metadata": {},
   "outputs": [],
   "source": [
    "z_min_iter=[0,0.3]\n",
    "z_max_iter=[3,2]\n",
    "corrs_iter=[[corr_ll],[corr_ll,corr_ggl,corr_gg]]\n",
    "pk_iter=['class_pk','baryon_pk']\n",
    "SSV_iter=[False,True]\n",
    "nz_iter=[26,20,50]\n",
    "nbins_iter=[3,1,5]\n",
    "l_max_iter=[2000,1000,5000]\n",
    "bary_nQ_iter=[0,2,1,3,5]\n",
    "\n",
    "cosmo_params=np.atleast_1d(['As','Om','w','wa'])\n",
    "pz_iter=[[],'pzb']\n",
    "\n",
    "def init_fish(z_min=z_min_iter[0],z_max=z_max_iter[0],corrs=corrs_iter[0],SSV=SSV_iter[0],\n",
    "              pk_func=pk_iter[0],nz=nz_iter[0],nbins=nbins_iter[0],\n",
    "              l_max=l_max_iter[0],l_min=2,Nl_bins=40,\n",
    "             n_lens_bins=3,nlens0=10):\n",
    "    \n",
    "    power_spectra_kwargs2=power_spectra_kwargs.copy()\n",
    "    power_spectra_kwargs2['pk_func']=pk_func\n",
    "    \n",
    "    cov_3X2_kwargs={'do_cov':do_cov,'bin_cl':bin_cl, #'l':l0,'l_bins':l_bins,\n",
    "            'SSV_cov':SSV,'tidal_SSV_cov':SSV,'do_xi':False,'use_window':use_window,\n",
    "            'f_sky':f_sky,'sigma_gamma':sigma_gamma,'corrs':corrs,\n",
    "            'do_sample_variance':do_sample_variance,'power_spectra_kwargs':power_spectra_kwargs2,\n",
    "            'bin_xi':bin_xi}\n",
    "    \n",
    "    zs_bins_kwargs={'zmin':z_min,'zmax':z_max,'ns0':nz,'nbins':nbins,'z_sigma':0.05,'z_sigma_power':1,\n",
    "                    'use_window':use_window}\n",
    "    ell_bin_kwargs={'lmax_cl':l_max,'lmin_cl':l_min,'Nl_bins':Nl_bins}\n",
    "    zs_bins=lsst_source_tomo_bins(**zs_bins_kwargs)\n",
    "    \n",
    "    zl_bins=lsst_source_tomo_bins(ns0=nlens0,nbins=n_lens_bins,\n",
    "                         ztrue_func=ztrue_given_pz_Gaussian,use_window=use_window,\n",
    "                        z_sigma=0.005)\n",
    "    for i in np.arange(n_lens_bins):\n",
    "        zl_bins[i]['b1']=1\n",
    "        \n",
    "    cov_3X2_kwargs['zg_bins']=zl_bins\n",
    "    \n",
    "    l0,l_bins,l=get_cl_ells(**ell_bin_kwargs)\n",
    "    kappa_class=cov_3X2(l=l0,l_bins=l_bins,zs_bins=zs_bins,**cov_3X2_kwargs)\n",
    "    return kappa_class"
   ]
  },
  {
   "cell_type": "code",
   "execution_count": 21,
   "metadata": {},
   "outputs": [],
   "source": [
    "#setup parameters\n",
    "l0,l_bins,l=get_cl_ells()\n",
    "lb=0.5*(l_bins[1:]+l_bins[:-1])\n",
    "\n",
    "do_cov=True\n",
    "bin_cl=True\n",
    "\n",
    "SSV_cov=True\n",
    "tidal_SSV_cov=False\n",
    "\n",
    "bin_xi=True\n",
    "theta_bins=np.logspace(np.log10(1./60),1,20)"
   ]
  },
  {
   "cell_type": "code",
   "execution_count": 22,
   "metadata": {},
   "outputs": [],
   "source": [
    "zmin=0.3\n",
    "zmax=2\n",
    "\n",
    "# z=np.linspace(0,5,200)\n",
    "# pzs=lsst_pz_source(z=z)\n",
    "# x=z<zmax\n",
    "# x*=z>zmin\n",
    "# z=z[x]\n",
    "# pzs=pzs[x]\n",
    "\n",
    "# ns0=26 #26+np.inf #ns=inf means shape noise is zero\n",
    "# nbins=3  # Number of tomographic bins\n",
    "# z_sigma=0.03\n",
    "# zs_bins=source_tomo_bins(zp=z,p_zp=pzs,ns=ns0,nz_bins=nbins,\n",
    "#                          ztrue_func=ztrue_given_pz_Gaussian,zp_bias=np.zeros_like(z),\n",
    "#                         zp_sigma=z_sigma*np.ones_like(z))\n",
    "\n",
    "# ng0=10 #26+np.inf #ns=inf means shape noise is zero\n",
    "# nlbins=1  # Number of tomographic bins\n",
    "# z_sigma=0.005\n",
    "# zl_bins=source_tomo_bins(zp=z,p_zp=pzs,ns=ng0,nz_bins=nlbins,\n",
    "#                          ztrue_func=ztrue_given_pz_Gaussian,zp_bias=np.zeros_like(z),\n",
    "#                         zp_sigma=z_sigma*np.ones_like(z))\n",
    "# for i in np.arange(nlbins):\n",
    "#     zl_bins[i]['b1']=1"
   ]
  },
  {
   "cell_type": "code",
   "execution_count": 23,
   "metadata": {},
   "outputs": [],
   "source": [
    "\n",
    "do_cov=True\n",
    "bin_cl=True\n",
    "SSV_cov=True\n",
    "tidal_SSV=False\n",
    "do_sample_variance=True\n",
    "use_window=False\n",
    "\n",
    "sigma_gamma=0.26\n",
    "area=15000\n",
    "f_sky=area*d2r**2/4/np.pi"
   ]
  },
  {
   "cell_type": "code",
   "execution_count": 24,
   "metadata": {},
   "outputs": [],
   "source": [
    "power_spectra_kwargs={'pk_func':'baryon_pk'}"
   ]
  },
  {
   "cell_type": "raw",
   "metadata": {},
   "source": [
    "cov_3X2_kwargs={'do_cov':do_cov,'bin_cl':bin_cl,'zg_bins':zl_bins,#'l':l0,'l_bins':l_bins,\n",
    "            'SSV_cov':SSV_cov,'tidal_SSV_cov':tidal_SSV,'do_xi':False,'use_window':use_window,\n",
    "            'f_sky':f_sky,'sigma_gamma':sigma_gamma,'corrs':corrs,\n",
    "            'do_sample_variance':do_sample_variance,'power_spectra_kwargs':power_spectra_kwargs,\n",
    "            'bin_xi':bin_xi}\n",
    "zs_bins_kwargs={'zmin':0.3,'zmax':3,'ns0':26,'nbins':3,'z_sigma':0.05,'z_sigma_power':1,'use_window':use_window}\n",
    "ell_bin_kwargs={'lmax_cl':5000,'lmin_cl':2,'Nl_bins':40}\n",
    "zs_bins=lsst_source_tomo_bins(**zs_bins_kwargs)\n",
    "l0,l_bins,l=get_cl_ells(**ell_bin_kwargs)\n",
    "kappa_class=cov_3X2(l=l0,l_bins=l_bins,zs_bins=zs_bins,**cov_3X2_kwargs)\n",
    "cl0G=kappa_class.cl_tomo()\n",
    "cl0=cl0G['stack'].compute()"
   ]
  },
  {
   "cell_type": "code",
   "execution_count": 25,
   "metadata": {},
   "outputs": [
    {
     "data": {
      "text/plain": [
       "{'pk_func': 'baryon_pk'}"
      ]
     },
     "execution_count": 25,
     "metadata": {},
     "output_type": "execute_result"
    }
   ],
   "source": [
    "power_spectra_kwargs"
   ]
  },
  {
   "cell_type": "code",
   "execution_count": 26,
   "metadata": {},
   "outputs": [
    {
     "name": "stdout",
     "output_type": "stream",
     "text": [
      "ns0:  25.674672523983695\n",
      "ns0:  8.878576739761552\n"
     ]
    },
    {
     "name": "stderr",
     "output_type": "stream",
     "text": [
      "/usr/lib/python3.7/site-packages/astropy/units/quantity.py:639: RuntimeWarning: divide by zero encountered in true_divide\n",
      "  result = super().__array_ufunc__(function, method, *arrays, **kwargs)\n",
      "/usr/lib/python3.7/site-packages/astropy/units/quantity.py:639: RuntimeWarning: invalid value encountered in multiply\n",
      "  result = super().__array_ufunc__(function, method, *arrays, **kwargs)\n",
      "/usr/lib/python3.7/site-packages/astropy/units/quantity.py:639: RuntimeWarning: invalid value encountered in less_equal\n",
      "  result = super().__array_ufunc__(function, method, *arrays, **kwargs)\n",
      "./cov_utils.py:81: RuntimeWarning: invalid value encountered in true_divide\n",
      "  Win0=2*jn(1,l_th)/l_th\n"
     ]
    },
    {
     "ename": "AttributeError",
     "evalue": "'dict' object has no attribute 'compute'",
     "output_type": "error",
     "traceback": [
      "\u001b[0;31m---------------------------------------------------------------------------\u001b[0m",
      "\u001b[0;31mAttributeError\u001b[0m                            Traceback (most recent call last)",
      "\u001b[0;32m<ipython-input-26-b670bfd3bd82>\u001b[0m in \u001b[0;36m<module>\u001b[0;34m()\u001b[0m\n\u001b[0;32m----> 1\u001b[0;31m \u001b[0mkappa_class\u001b[0m\u001b[0;34m=\u001b[0m\u001b[0minit_fish\u001b[0m\u001b[0;34m(\u001b[0m\u001b[0;34m)\u001b[0m\u001b[0;34m\u001b[0m\u001b[0m\n\u001b[0m\u001b[1;32m      2\u001b[0m \u001b[0mcl0G\u001b[0m\u001b[0;34m=\u001b[0m\u001b[0mkappa_class\u001b[0m\u001b[0;34m.\u001b[0m\u001b[0mcl_tomo\u001b[0m\u001b[0;34m(\u001b[0m\u001b[0;34m)\u001b[0m\u001b[0;34m\u001b[0m\u001b[0m\n\u001b[1;32m      3\u001b[0m \u001b[0mlb\u001b[0m\u001b[0;34m=\u001b[0m\u001b[0;36m0.5\u001b[0m\u001b[0;34m*\u001b[0m\u001b[0;34m(\u001b[0m\u001b[0ml_bins\u001b[0m\u001b[0;34m[\u001b[0m\u001b[0;36m1\u001b[0m\u001b[0;34m:\u001b[0m\u001b[0;34m]\u001b[0m\u001b[0;34m+\u001b[0m\u001b[0ml_bins\u001b[0m\u001b[0;34m[\u001b[0m\u001b[0;34m:\u001b[0m\u001b[0;34m-\u001b[0m\u001b[0;36m1\u001b[0m\u001b[0;34m]\u001b[0m\u001b[0;34m)\u001b[0m\u001b[0;34m\u001b[0m\u001b[0m\n\u001b[1;32m      4\u001b[0m \u001b[0;31m# cl0=cl0G['stack'].compute()\u001b[0m\u001b[0;34m\u001b[0m\u001b[0;34m\u001b[0m\u001b[0m\n",
      "\u001b[0;32m<ipython-input-20-7800eeb0d572>\u001b[0m in \u001b[0;36minit_fish\u001b[0;34m(z_min, z_max, corrs, SSV, pk_func, nz, nbins, l_max, l_min, Nl_bins, n_lens_bins, nlens0)\u001b[0m\n\u001b[1;32m     40\u001b[0m \u001b[0;34m\u001b[0m\u001b[0m\n\u001b[1;32m     41\u001b[0m     \u001b[0ml0\u001b[0m\u001b[0;34m,\u001b[0m\u001b[0ml_bins\u001b[0m\u001b[0;34m,\u001b[0m\u001b[0ml\u001b[0m\u001b[0;34m=\u001b[0m\u001b[0mget_cl_ells\u001b[0m\u001b[0;34m(\u001b[0m\u001b[0;34m**\u001b[0m\u001b[0mell_bin_kwargs\u001b[0m\u001b[0;34m)\u001b[0m\u001b[0;34m\u001b[0m\u001b[0m\n\u001b[0;32m---> 42\u001b[0;31m     \u001b[0mkappa_class\u001b[0m\u001b[0;34m=\u001b[0m\u001b[0mcov_3X2\u001b[0m\u001b[0;34m(\u001b[0m\u001b[0ml\u001b[0m\u001b[0;34m=\u001b[0m\u001b[0ml0\u001b[0m\u001b[0;34m,\u001b[0m\u001b[0ml_bins\u001b[0m\u001b[0;34m=\u001b[0m\u001b[0ml_bins\u001b[0m\u001b[0;34m,\u001b[0m\u001b[0mzs_bins\u001b[0m\u001b[0;34m=\u001b[0m\u001b[0mzs_bins\u001b[0m\u001b[0;34m,\u001b[0m\u001b[0;34m**\u001b[0m\u001b[0mcov_3X2_kwargs\u001b[0m\u001b[0;34m)\u001b[0m\u001b[0;34m\u001b[0m\u001b[0m\n\u001b[0m\u001b[1;32m     43\u001b[0m     \u001b[0;32mreturn\u001b[0m \u001b[0mkappa_class\u001b[0m\u001b[0;34m\u001b[0m\u001b[0m\n",
      "\u001b[0;32m~/repos/cosmic_shear/cov_3X2.py\u001b[0m in \u001b[0;36m__init__\u001b[0;34m(self, silence_camb, l, HT, Ang_PS, cov_utils, logger, lensing_utils, galaxy_utils, zs_bins, zg_bins, galaxy_bias_func, power_spectra_kwargs, HT_kwargs, z_PS, nz_PS, log_z_PS, do_cov, SSV_cov, tidal_SSV_cov, do_sample_variance, use_window, window_file, window_lmax, sigma_gamma, f_sky, l_bins, bin_cl, pseudo_cl, stack_data, bin_xi, do_xi, theta_bins, corrs)\u001b[0m\n\u001b[1;32m    145\u001b[0m                         \u001b[0muse_window\u001b[0m\u001b[0;34m=\u001b[0m\u001b[0muse_window\u001b[0m\u001b[0;34m,\u001b[0m\u001b[0mdo_cov\u001b[0m\u001b[0;34m=\u001b[0m\u001b[0mself\u001b[0m\u001b[0;34m.\u001b[0m\u001b[0mdo_cov\u001b[0m\u001b[0;34m,\u001b[0m\u001b[0mcov_utils\u001b[0m\u001b[0;34m=\u001b[0m\u001b[0mself\u001b[0m\u001b[0;34m.\u001b[0m\u001b[0mcov_utils\u001b[0m\u001b[0;34m,\u001b[0m\u001b[0mf_sky\u001b[0m\u001b[0;34m=\u001b[0m\u001b[0mf_sky\u001b[0m\u001b[0;34m,\u001b[0m\u001b[0;34m\u001b[0m\u001b[0m\n\u001b[1;32m    146\u001b[0m                         \u001b[0mcorr_indxs\u001b[0m\u001b[0;34m=\u001b[0m\u001b[0mself\u001b[0m\u001b[0;34m.\u001b[0m\u001b[0mcorr_indxs\u001b[0m\u001b[0;34m,\u001b[0m\u001b[0mz_bins\u001b[0m\u001b[0;34m=\u001b[0m\u001b[0mself\u001b[0m\u001b[0;34m.\u001b[0m\u001b[0mz_bins\u001b[0m\u001b[0;34m,\u001b[0m\u001b[0mwindow_lmax\u001b[0m\u001b[0;34m=\u001b[0m\u001b[0mself\u001b[0m\u001b[0;34m.\u001b[0m\u001b[0mwindow_lmax\u001b[0m\u001b[0;34m,\u001b[0m\u001b[0;34m\u001b[0m\u001b[0m\n\u001b[0;32m--> 147\u001b[0;31m                         HT=self.HT,do_xi=self.do_xi,xi_bin_utils=self.xi_bin_utils)\n\u001b[0m\u001b[1;32m    148\u001b[0m \u001b[0;31m#         self.Win=1\u001b[0m\u001b[0;34m\u001b[0m\u001b[0;34m\u001b[0m\u001b[0m\n\u001b[1;32m    149\u001b[0m \u001b[0;31m#         if use_window:\u001b[0m\u001b[0;34m\u001b[0m\u001b[0;34m\u001b[0m\u001b[0m\n",
      "\u001b[0;32m~/repos/cosmic_shear/window_utils.py\u001b[0m in \u001b[0;36m__init__\u001b[0;34m(self, window_l, window_lmax, l, corrs, m1_m2s, use_window, f_sky, do_cov, cov_utils, corr_indxs, z_bins, HT, xi_bin_utils, do_xi)\u001b[0m\n\u001b[1;32m     37\u001b[0m             \u001b[0mself\u001b[0m\u001b[0;34m.\u001b[0m\u001b[0mcoupling_G\u001b[0m\u001b[0;34m=\u001b[0m\u001b[0mnp\u001b[0m\u001b[0;34m.\u001b[0m\u001b[0mdiag\u001b[0m\u001b[0;34m(\u001b[0m\u001b[0;36m1.\u001b[0m\u001b[0;34m/\u001b[0m\u001b[0mself\u001b[0m\u001b[0;34m.\u001b[0m\u001b[0mcov_utils\u001b[0m\u001b[0;34m.\u001b[0m\u001b[0mgaussian_cov_norm\u001b[0m\u001b[0;34m)\u001b[0m\u001b[0;34m\u001b[0m\u001b[0m\n\u001b[1;32m     38\u001b[0m \u001b[0;31m#         else:\u001b[0m\u001b[0;34m\u001b[0m\u001b[0;34m\u001b[0m\u001b[0m\n\u001b[0;32m---> 39\u001b[0;31m         \u001b[0mself\u001b[0m\u001b[0;34m.\u001b[0m\u001b[0mset_window\u001b[0m\u001b[0;34m(\u001b[0m\u001b[0mcorrs\u001b[0m\u001b[0;34m=\u001b[0m\u001b[0mself\u001b[0m\u001b[0;34m.\u001b[0m\u001b[0mcorrs\u001b[0m\u001b[0;34m,\u001b[0m\u001b[0mcorr_indxs\u001b[0m\u001b[0;34m=\u001b[0m\u001b[0mself\u001b[0m\u001b[0;34m.\u001b[0m\u001b[0mcorr_indxs\u001b[0m\u001b[0;34m)\u001b[0m\u001b[0;34m\u001b[0m\u001b[0m\n\u001b[0m\u001b[1;32m     40\u001b[0m \u001b[0;34m\u001b[0m\u001b[0m\n\u001b[1;32m     41\u001b[0m     \u001b[0;32mdef\u001b[0m \u001b[0mcoupling_matrix\u001b[0m\u001b[0;34m(\u001b[0m\u001b[0mself\u001b[0m\u001b[0;34m,\u001b[0m\u001b[0mwin\u001b[0m\u001b[0;34m,\u001b[0m\u001b[0mwig_3j_12\u001b[0m\u001b[0;34m)\u001b[0m\u001b[0;34m:\u001b[0m\u001b[0;34m\u001b[0m\u001b[0m\n",
      "\u001b[0;32m~/repos/cosmic_shear/window_utils.py\u001b[0m in \u001b[0;36mset_window\u001b[0;34m(self, corrs, corr_indxs)\u001b[0m\n\u001b[1;32m    177\u001b[0m         \u001b[0;32mfor\u001b[0m \u001b[0mcorr\u001b[0m \u001b[0;32min\u001b[0m \u001b[0mcorrs\u001b[0m\u001b[0;34m:\u001b[0m\u001b[0;34m\u001b[0m\u001b[0m\n\u001b[1;32m    178\u001b[0m                 \u001b[0;32mfor\u001b[0m \u001b[0mindx\u001b[0m \u001b[0;32min\u001b[0m \u001b[0mself\u001b[0m\u001b[0;34m.\u001b[0m\u001b[0mWin\u001b[0m\u001b[0;34m[\u001b[0m\u001b[0mcorr\u001b[0m\u001b[0;34m]\u001b[0m\u001b[0;34m.\u001b[0m\u001b[0mkeys\u001b[0m\u001b[0;34m(\u001b[0m\u001b[0;34m)\u001b[0m\u001b[0;34m:\u001b[0m\u001b[0;34m\u001b[0m\u001b[0m\n\u001b[0;32m--> 179\u001b[0;31m                     \u001b[0mself\u001b[0m\u001b[0;34m.\u001b[0m\u001b[0mWin\u001b[0m\u001b[0;34m[\u001b[0m\u001b[0mcorr\u001b[0m\u001b[0;34m]\u001b[0m\u001b[0;34m[\u001b[0m\u001b[0mindx\u001b[0m\u001b[0;34m]\u001b[0m\u001b[0;34m=\u001b[0m\u001b[0mself\u001b[0m\u001b[0;34m.\u001b[0m\u001b[0mWin\u001b[0m\u001b[0;34m[\u001b[0m\u001b[0mcorr\u001b[0m\u001b[0;34m]\u001b[0m\u001b[0;34m[\u001b[0m\u001b[0mindx\u001b[0m\u001b[0;34m]\u001b[0m\u001b[0;34m.\u001b[0m\u001b[0mcompute\u001b[0m\u001b[0;34m(\u001b[0m\u001b[0;34m)\u001b[0m\u001b[0;34m\u001b[0m\u001b[0m\n\u001b[0m\u001b[1;32m    180\u001b[0m                     \u001b[0;34m(\u001b[0m\u001b[0mi\u001b[0m\u001b[0;34m,\u001b[0m\u001b[0mj\u001b[0m\u001b[0;34m)\u001b[0m\u001b[0;34m=\u001b[0m\u001b[0mindx\u001b[0m\u001b[0;34m\u001b[0m\u001b[0m\n\u001b[1;32m    181\u001b[0m                     \u001b[0mcorr2\u001b[0m\u001b[0;34m=\u001b[0m\u001b[0mcorr\u001b[0m\u001b[0;34m[\u001b[0m\u001b[0;34m:\u001b[0m\u001b[0;34m:\u001b[0m\u001b[0;34m-\u001b[0m\u001b[0;36m1\u001b[0m\u001b[0;34m]\u001b[0m\u001b[0;34m\u001b[0m\u001b[0m\n",
      "\u001b[0;31mAttributeError\u001b[0m: 'dict' object has no attribute 'compute'"
     ]
    }
   ],
   "source": [
    "kappa_class=init_fish()\n",
    "cl0G=kappa_class.cl_tomo()\n",
    "lb=0.5*(l_bins[1:]+l_bins[:-1])\n",
    "# cl0=cl0G['stack'].compute()"
   ]
  },
  {
   "cell_type": "code",
   "execution_count": null,
   "metadata": {},
   "outputs": [],
   "source": [
    "# PCS=PCA_shear(kappa_class=kappa_class,NmarQ=3)\n",
    "# cl_t1=PCS.compute_modelv_bary(cosmo_params=cosmo_fid,Q=[-10,-10,-10])\n",
    "# cl_t0=PCS.compute_modelv_bary(cosmo_params=cosmo_fid,Q=[0,0,0])"
   ]
  },
  {
   "cell_type": "raw",
   "metadata": {},
   "source": [
    "plot(np.tile(lb,6),cl_t1/cl_t0,'bo')\n",
    "# plot(lb,cl_t0[:39],'--')\n",
    "# plot(lb,PCS.modelv_dmo_fid[:39],':')\n",
    "xscale('log')\n",
    "# yscale('log')"
   ]
  },
  {
   "cell_type": "raw",
   "metadata": {},
   "source": [
    "cl0G['stack'].visualize()"
   ]
  },
  {
   "cell_type": "code",
   "execution_count": null,
   "metadata": {},
   "outputs": [],
   "source": [
    "priors={}\n",
    "priors['As']=np.inf\n",
    "priors['Om']=np.inf\n",
    "priors['w']=np.inf\n",
    "priors['wa']=np.inf"
   ]
  },
  {
   "cell_type": "code",
   "execution_count": null,
   "metadata": {},
   "outputs": [],
   "source": [
    "priors['B']=0.001 #bias =B*(1+z) \n",
    "\n",
    "for i in np.arange(10): #photo-z bias\n",
    "    priors['b'+str(i)]=0.001\n",
    "\n",
    "for i in np.arange(10):#galaxy bias\n",
    "    priors['b1'+str(i)]=1\n",
    "for i in np.arange(10): #galaxy bias, b2\n",
    "    priors['b2'+str(i)]=1\n",
    "\n",
    "for i in np.arange(10): #baryon PCA\n",
    "    priors['Q'+str(i)]=100\n",
    "\n",
    "\n",
    "priors['sig0']=0.1\n",
    "priors['sig1']=0.1\n",
    "priors['sig2']=0.1"
   ]
  },
  {
   "cell_type": "raw",
   "metadata": {},
   "source": [
    "crash"
   ]
  },
  {
   "cell_type": "code",
   "execution_count": null,
   "metadata": {},
   "outputs": [],
   "source": [
    "nbins=3\n",
    "n_lens_bins=4"
   ]
  },
  {
   "cell_type": "code",
   "execution_count": null,
   "metadata": {},
   "outputs": [],
   "source": [
    "bary_nQ_iter[3:]"
   ]
  },
  {
   "cell_type": "code",
   "execution_count": null,
   "metadata": {},
   "outputs": [],
   "source": [
    "z_min_iter"
   ]
  },
  {
   "cell_type": "code",
   "execution_count": null,
   "metadata": {},
   "outputs": [],
   "source": [
    "#fishes={}\n",
    "for corrs in [corrs_iter[1]]:#,corrs_iter[1]]:         \n",
    "    for z_min in [z_min_iter[1]]:\n",
    "#         for z_max in z_max_iter:\n",
    "#             for nz in nz_iter:\n",
    "#                 ke+='_nz'+str(nz)\n",
    "#                 for nbins in nbins_iter:\n",
    "#                     ke+='_nb'+str(nbins)\n",
    "                    for bary_nQ in bary_nQ_iter:\n",
    "                        baryon_params=[]\n",
    "                        if bary_nQ>0:\n",
    "                            baryon_params=['Q{j}'.format(j=i) for i in np.arange(bary_nQ)]\n",
    "                        for pk_func in pk_iter: \n",
    "                            for SSV in SSV_iter:\n",
    "                                kappa_class=init_fish(corrs=corrs,z_min=z_min,#z_max=z_max,nz=nz,\n",
    "                                                      nbins=nbins,pk_func=pk_func,SSV=SSV)\n",
    "                                for pz in pz_iter:\n",
    "                                    pz_params=['b{j}'.format(j=i) for i in np.arange(kappa_class.z_bins['shear']['n_bins'])] if 'pzb' in pz else pz\n",
    "\n",
    "                                    galaxy_params=[]\n",
    "                                    if len(corrs)>1:\n",
    "                                        galaxy_params=['b1{j}'.format(j=i) for i in np.arange(kappa_class.z_bins['galaxy']['n_bins'])]\n",
    "\n",
    "                                    ke='corrs'+str(len(corrs))\n",
    "                                    ke=ke+'_zmin'+str(z_min)\n",
    "                                    ke+='_barynQ'+str(bary_nQ)\n",
    "                                    ke+='_pkf'+str(pk_func)\n",
    "                                    ke+='_SSV'+str(SSV)\n",
    "                                    ke=ke+'_pz'+str(pz) if 'pzb' in pz else ke\n",
    "                                    \n",
    "                                    print('doing ',ke)\n",
    "                                    #crash\n",
    "                                    fishes[ke]=fisher_calc(cosmo_params=cosmo_params,z_params=pz_params,\n",
    "                                                           do_cov=False,do_log=False,\n",
    "                                                        kappa_class=kappa_class,galaxy_params=galaxy_params,\n",
    "                                                           baryon_params=baryon_params,baryon_PCA_nQ=bary_nQ\n",
    "                                            )\n",
    "                                    try:\n",
    "                                        fishes[ke]=fish_apply_priors(fish=fishes[ke],cosmo_params=cosmo_params,baryon_params=baryon_params,z_params=pz_params,\n",
    "                                                                 galaxy_params=galaxy_params,priors=priors)\n",
    "                                        print(ke,' done')\n",
    "                                    except Exception as err:\n",
    "                                        print(err)"
   ]
  },
  {
   "cell_type": "raw",
   "metadata": {},
   "source": [
    "import pickle\n",
    "fname='fish_baryon_zmin_pz.pkl'\n",
    "with open(fname,\"wb\") as of:\n",
    "    pickle.dump(fishes,of)"
   ]
  },
  {
   "cell_type": "raw",
   "metadata": {},
   "source": [
    "import pickle\n",
    "fname='fish_baryon_zmin_pz.pkl'\n",
    "with open(fname,\"rb\") as of:\n",
    "    fishes=pickle.load(of)"
   ]
  },
  {
   "cell_type": "code",
   "execution_count": null,
   "metadata": {},
   "outputs": [],
   "source": [
    "fishes.keys()"
   ]
  },
  {
   "cell_type": "code",
   "execution_count": null,
   "metadata": {},
   "outputs": [],
   "source": [
    "k='corrs3_zmin0_barynQ0_pkfclass_pk_SSVTrue'\n",
    "sn=1./np.sqrt(np.linalg.det(fishes[k]['cov_p'][2:4,2:4]))\n",
    "print('SSV B0',sn)\n",
    "\n",
    "k='corrs3_zmin0_barynQ2_pkfclass_pk_SSVTrue'\n",
    "sn=1./np.sqrt(np.linalg.det(fishes[k]['cov_p'][2:4,2:4]))\n",
    "print('SSV B2',sn)\n",
    "\n",
    "k='corrs3_zmin0_barynQ0_pkfclass_pk_SSVFalse'\n",
    "sn=1./np.sqrt(np.linalg.det(fishes[k]['cov_p'][2:4,2:4]))\n",
    "print('B0',sn)\n",
    "\n",
    "k='corrs3_zmin0_barynQ2_pkfclass_pk_SSVFalse'\n",
    "sn=1./np.sqrt(np.linalg.det(fishes[k]['cov_p'][2:4,2:4]))\n",
    "print(' B2',sn)\n"
   ]
  },
  {
   "cell_type": "code",
   "execution_count": null,
   "metadata": {},
   "outputs": [],
   "source": [
    "k='corrs3_zmin0_barynQ0_pkfclass_pk_SSVTrue_pzpzb'\n",
    "sn=1./np.sqrt(np.linalg.det(fishes[k]['cov_p_prior'][2:4,2:4]))\n",
    "print('SSV B0',sn)\n",
    "\n",
    "k='corrs3_zmin0_barynQ2_pkfclass_pk_SSVTrue_pzpzb'\n",
    "sn=1./np.sqrt(np.linalg.det(fishes[k]['cov_p_prior'][2:4,2:4]))\n",
    "print('SSV B2',sn)\n",
    "\n",
    "k='corrs3_zmin0_barynQ0_pkfclass_pk_SSVFalse_pzpzb'\n",
    "sn=1./np.sqrt(np.linalg.det(fishes[k]['cov_p_prior'][2:4,2:4]))\n",
    "print('B0',sn)\n",
    "\n",
    "k='corrs3_zmin0_barynQ2_pkfclass_pk_SSVFalse_pzpzb'\n",
    "sn=1./np.sqrt(np.linalg.det(fishes[k]['cov_p_prior'][2:4,2:4]))\n",
    "print(' B2',sn)\n"
   ]
  },
  {
   "cell_type": "code",
   "execution_count": null,
   "metadata": {},
   "outputs": [],
   "source": [
    "# k='corrs3_zmin0.3_barynQ0_pkfclass_pk_SSVTrue_pzpzb'\n",
    "# sn=1./np.sqrt(np.linalg.det(fishes[k]['cov_p_prior'][2:4,2:4]))\n",
    "# print('SSV B0',sn)\n",
    "\n",
    "k='corrs3_zmin0.3_barynQ2_pkfclass_pk_SSVTrue_pzpzb'\n",
    "sn=1./np.sqrt(np.linalg.det(fishes[k]['cov_p_prior'][2:4,2:4]))\n",
    "print('SSV B2',sn)\n",
    "\n",
    "k='corrs3_zmin0_barynQ0_pkfclass_pk_SSVFalse_pzpzb'\n",
    "sn=1./np.sqrt(np.linalg.det(fishes[k]['cov_p_prior'][2:4,2:4]))\n",
    "print('B0',sn)\n",
    "\n",
    "k='corrs3_zmin0_barynQ2_pkfclass_pk_SSVFalse_pzpzb'\n",
    "sn=1./np.sqrt(np.linalg.det(fishes[k]['cov_p_prior'][2:4,2:4]))\n",
    "print(' B2',sn)\n"
   ]
  },
  {
   "cell_type": "code",
   "execution_count": null,
   "metadata": {},
   "outputs": [],
   "source": [
    "d=(fishes[k]['model']['As'][1]-fishes[k]['model']['As'][0])/(fishes[k]['x_vars']['As'][1]-fishes[k]['x_vars']['As'][0])"
   ]
  },
  {
   "cell_type": "code",
   "execution_count": null,
   "metadata": {},
   "outputs": [],
   "source": [
    "np.sqrt(np.dot(fishes[k]['model']['As'][1],np.dot(fishes[k]['cov_inv'],fishes[k]['model']['As'][1])))"
   ]
  },
  {
   "cell_type": "code",
   "execution_count": null,
   "metadata": {},
   "outputs": [],
   "source": [
    "fishes[k]['model_deriv']['As']@(fishes[k]['cov_inv']@fishes[k]['model_deriv']['As'])"
   ]
  },
  {
   "cell_type": "code",
   "execution_count": null,
   "metadata": {},
   "outputs": [],
   "source": [
    "np.sqrt(1./3.9694333195083066e22)"
   ]
  },
  {
   "cell_type": "code",
   "execution_count": null,
   "metadata": {},
   "outputs": [],
   "source": [
    "cc=kappa_class.cov_utils\n",
    "corr_m=cc.corr_matrix(fishes[k]['cov'])\n",
    "pcolor(corr_m,vmin=-1,vmax=1,cmap='seismic')"
   ]
  },
  {
   "cell_type": "code",
   "execution_count": null,
   "metadata": {},
   "outputs": [],
   "source": [
    "nbins"
   ]
  },
  {
   "cell_type": "code",
   "execution_count": null,
   "metadata": {},
   "outputs": [],
   "source": [
    "k='corrs1_zmin0_barynQ0_pkfclass_pk_SSVTrue'\n",
    "sn=1./np.sqrt(np.linalg.det(fishes[k]['cov_p'][2:4,2:4]))\n",
    "sn"
   ]
  },
  {
   "cell_type": "code",
   "execution_count": null,
   "metadata": {},
   "outputs": [],
   "source": [
    "fig, ax = subplots(1,1, figsize=(15,11.25))\n",
    "for k in list(fishes.keys()):\n",
    "    sn=1./np.sqrt(np.linalg.det(fishes[k]['cov_p'][2:4,2:4]))\n",
    "    ax.plot(sn,'ro')\n",
    "    \n",
    "ax.set_xscale('log')\n",
    "ax.set_xlabel('$\\sigma_z$')\n",
    "ax.set_ylabel('DETF')\n"
   ]
  },
  {
   "cell_type": "raw",
   "metadata": {},
   "source": [
    "fishes['corrs3_zmin0_barynQ2_pkfclass_pk_SSVFalse']"
   ]
  },
  {
   "cell_type": "code",
   "execution_count": null,
   "metadata": {},
   "outputs": [],
   "source": [
    "nbins\n",
    "corrs3_zmin0_barynQ2_pkfclass_pk_SSVTrue"
   ]
  },
  {
   "cell_type": "code",
   "execution_count": null,
   "metadata": {},
   "outputs": [],
   "source": [
    "import PCA_shear\n",
    "reload(PCA_shear)\n",
    "from PCA_shear import *"
   ]
  },
  {
   "cell_type": "code",
   "execution_count": null,
   "metadata": {},
   "outputs": [],
   "source": [
    "kappa_class=init_fish(corrs=corrs_iter[1],z_min=0,n_lens_bins=1,\n",
    "                    nbins=nbins,pk_func='class_pk',SSV=True)\n",
    "fish_bary=fisher_calc(cosmo_params=['As'],z_params=[],do_cov=False,do_log=False,\n",
    "                                        kappa_class=kappa_class,galaxy_params=[],\n",
    "                                          baryon_params=['Q0','Q1']\n",
    "                                        )"
   ]
  },
  {
   "cell_type": "code",
   "execution_count": null,
   "metadata": {},
   "outputs": [],
   "source": [
    "fishes['corrs1_pkfclass_pk_SSVFalse']['cov_p_inv'].shape"
   ]
  },
  {
   "cell_type": "code",
   "execution_count": null,
   "metadata": {},
   "outputs": [],
   "source": [
    "crash"
   ]
  },
  {
   "cell_type": "code",
   "execution_count": null,
   "metadata": {},
   "outputs": [],
   "source": [
    "p=np.atleast_1d(['As','Om','w','wa'])\n",
    "p_z=['B'] #,'sig0','sig1','sig2']\n",
    "fishes_zsigma_pz0_prior={}\n",
    "z_sigs=np.logspace(-2,0,5)\n",
    "for zs in z_sigs:\n",
    "    zs_bins_kwargs['z_sigma']=zs\n",
    "    fishes_zsigma_pz0_prior[zs]=fisher_calc(cosmo_params=p,z_params=p_z,do_cov=False,do_log=False,priors=priors,\n",
    "                                     cov_3X2_kwargs=cov_3X2_kwargs,#kappa_class=kappa_class,cl0=cl0,\n",
    "                                  zs_bins_kwargs=zs_bins_kwargs,ell_bin_kwargs=ell_bin_kwargs)"
   ]
  },
  {
   "cell_type": "code",
   "execution_count": null,
   "metadata": {},
   "outputs": [],
   "source": [
    "p=np.atleast_1d(['As','Om','w','wa'])\n",
    "p_z=['b0','b1','b2'] #,'sig0','sig1','sig2']\n",
    "fishes_zsigma_pz_prior={}\n",
    "z_sigs=np.logspace(-2,0,5)\n",
    "for zs in z_sigs:\n",
    "    zs_bins_kwargs['z_sigma']=zs\n",
    "    fishes_zsigma_pz_prior[zs]=fisher_calc(cosmo_params=p,z_params=p_z,do_cov=False,do_log=False,priors=priors,\n",
    "                                     cov_3X2_kwargs=cov_3X2_kwargs,#kappa_class=kappa_class,cl0=cl0,\n",
    "                                  zs_bins_kwargs=zs_bins_kwargs,ell_bin_kwargs=ell_bin_kwargs)"
   ]
  },
  {
   "cell_type": "code",
   "execution_count": null,
   "metadata": {},
   "outputs": [],
   "source": [
    "k=0.01\n",
    "sn=1./np.sqrt(np.linalg.det(fishes_zsigma_pz_prior[k]['cov_p'][2:4,2:4]))\n",
    "print(k,sn)\n",
    "sn=1./np.sqrt(np.linalg.det(fishes_zsigma_pz0_prior[k]['cov_p'][2:4,2:4]))\n",
    "print(k,sn)\n",
    "# sn=1./np.sqrt(np.linalg.det(fishes_zsigma_pz[0.05]['cov_p'][2:4,2:4]))\n",
    "print(k,sn)\n",
    "# sn=1./np.sqrt(np.linalg.det(fishes_zsigma[k]['cov_p'][2:4,2:4]))\n",
    "# print(k,sn)"
   ]
  },
  {
   "cell_type": "code",
   "execution_count": null,
   "metadata": {},
   "outputs": [],
   "source": [
    "crash"
   ]
  },
  {
   "cell_type": "code",
   "execution_count": null,
   "metadata": {},
   "outputs": [],
   "source": [
    "p=np.atleast_1d(['As','Om','w','wa'])\n",
    "p_z=['b0','b1','b2'] #,'sig0','sig1','sig2']\n",
    "#p=np.atleast_1d(['s8'])\n",
    "fishes_zsigma_pz={}\n",
    "z_sigs=np.logspace(-2,0,5)\n",
    "for zs in z_sigs:\n",
    "    zs_bins_kwargs['z_sigma']=zs\n",
    "    fishes_zsigma_pz[zs]=fisher_calc(cosmo_params=p,z_params=p_z,do_cov=False,do_log=False,\n",
    "                                     cov_3X2_kwargs=cov_3X2_kwargs,#kappa_class=kappa_class,cl0=cl0,\n",
    "                                  zs_bins_kwargs=zs_bins_kwargs,ell_bin_kwargs=ell_bin_kwargs)\n",
    "zs_bins_kwargs['z_sigma']=0.05"
   ]
  },
  {
   "cell_type": "code",
   "execution_count": null,
   "metadata": {},
   "outputs": [],
   "source": [
    "p=np.atleast_1d(['As','Om','w','wa'])\n",
    "p_z=[]\n",
    "#p=np.atleast_1d(['s8'])\n",
    "fishes_zsigma={}\n",
    "z_sigs=np.logspace(-2,0,5)\n",
    "for zs in z_sigs:\n",
    "    zs_bins_kwargs['z_sigma']=zs\n",
    "    fishes_zsigma[zs]=fisher_calc(cosmo_params=p,z_params=p_z,do_cov=False,do_log=False,\n",
    "                                  cov_3X2_kwargs=cov_3X2_kwargs,#kappa_class=kappa_class,cl0=cl0,\n",
    "                                  zs_bins_kwargs=zs_bins_kwargs,ell_bin_kwargs=ell_bin_kwargs)\n",
    "zs_bins_kwargs['z_sigma']=0.05"
   ]
  },
  {
   "cell_type": "code",
   "execution_count": null,
   "metadata": {},
   "outputs": [],
   "source": [
    "fig, ax = subplots(1,1, figsize=(15,11.25))\n",
    "for k in list(fishes_zsigma.keys()):\n",
    "    sn=1./np.sqrt(np.linalg.det(fishes_zsigma[k]['cov_p'][-2:,-2:]))\n",
    "    print(k,sn)\n",
    "    ax.plot(k,sn,'bo')\n",
    "    sn=1./np.sqrt(np.linalg.det(fishes_zsigma_pz[k]['cov_p'][2:4,2:4]))\n",
    "    print(k,sn)\n",
    "    ax.plot(k,sn,'ro')\n",
    "    sn=1./np.sqrt(np.linalg.det(fishes_zsigma_pz0_prior[k]['cov_p'][2:4,2:4]))\n",
    "    print(k,sn)\n",
    "    ax.plot(k,sn,'go')\n",
    "    sn=1./np.sqrt(np.linalg.det(fishes_zsigma_pz_prior[k]['cov_p'][2:4,2:4]))\n",
    "    print(k,sn)\n",
    "    ax.plot(k,sn,'mo')\n",
    "    \n",
    "    \n",
    "ax.set_xscale('log')\n",
    "ax.set_xlabel('$\\sigma_z$')\n",
    "ax.set_ylabel('DETF')\n",
    "fname='sigmaz_detf'\n",
    "# fig.savefig(fig_home+fname+'.'+fig_format,bbox_inches='tight',format=fig_format)\n",
    "# yscale('log')"
   ]
  },
  {
   "cell_type": "code",
   "execution_count": null,
   "metadata": {},
   "outputs": [],
   "source": [
    "p=np.atleast_1d(['As','Om','w','wa'])\n",
    "#p=np.atleast_1d(['s8'])\n",
    "fishes_zsigma_pow={}\n",
    "z_pow=[0,1,2]\n",
    "for zp in z_pow:\n",
    "    zs_bins_kwargs['z_sigma_power']=zp\n",
    "    fishes_zsigma_pow[zp]=fisher_calc(cosmo_params=p,do_cov=False,do_log=False,cov_3X2_kwargs=cov_3X2_kwargs,\n",
    "                                  zs_bins_kwargs=zs_bins_kwargs,ell_bin_kwargs=ell_bin_kwargs)\n",
    "zs_bins_kwargs['z_sigma_power']=1"
   ]
  },
  {
   "cell_type": "code",
   "execution_count": null,
   "metadata": {},
   "outputs": [],
   "source": [
    "fig, ax = subplots(1,1, figsize=(15,11.25))\n",
    "for k in list(fishes_zsigma_pow.keys()):\n",
    "    sn=1./np.sqrt(np.linalg.det(fishes_zsigma_pow[k]['cov_p'][-2:,-2:]))\n",
    "    print(k,sn)\n",
    "    ax.plot(k,sn,'bo')\n",
    "# ax.set_xscale('log')\n",
    "ax.set_xlabel('$\\sigma_z$ pow')\n",
    "ax.set_ylabel('DETF')\n",
    "fname='sigmaz_pow_detf'\n",
    "fig.savefig(fig_home+fname+'.'+fig_format,bbox_inches='tight',format=fig_format)\n",
    "# yscale('log')"
   ]
  },
  {
   "cell_type": "code",
   "execution_count": null,
   "metadata": {},
   "outputs": [],
   "source": [
    "p=np.atleast_1d(['As','Om','w','wa'])\n",
    "#p=np.atleast_1d(['s8'])\n",
    "fishes_zmax={}\n",
    "z_ms=[3] #[1,1.5,2,3]\n",
    "for zm in z_ms:\n",
    "    zs_bins_kwargs['zmax']=zm\n",
    "    fishes_zmax[zm]=fisher_calc(cosmo_params=p,do_cov=False,do_log=False,cov_3X2_kwargs=cov_3X2_kwargs,\n",
    "                                zs_bins_kwargs=zs_bins_kwargs,ell_bin_kwargs=ell_bin_kwargs)\n",
    "zs_bins_kwargs['zmax']=3"
   ]
  },
  {
   "cell_type": "code",
   "execution_count": null,
   "metadata": {},
   "outputs": [],
   "source": [
    "p=np.atleast_1d(['As','Om','w','wa'])\n",
    "#p=np.atleast_1d(['s8'])\n",
    "fishes_zmin={}\n",
    "z_ms=[0.1,0.3,0.5]\n",
    "for zm in z_ms:\n",
    "    zs_bins_kwargs['zmin']=zm\n",
    "    fishes_zmin[zm]=fisher_calc(cosmo_params=p,do_cov=False,do_log=False,cov_3X2_kwargs=cov_3X2_kwargs,\n",
    "                                zs_bins_kwargs=zs_bins_kwargs,ell_bin_kwargs=ell_bin_kwargs)\n",
    "zs_bins_kwargs['zmin']=0.3"
   ]
  },
  {
   "cell_type": "code",
   "execution_count": null,
   "metadata": {},
   "outputs": [],
   "source": [
    "fig, ax = subplots(1,1, figsize=(15,11.25))\n",
    "for k in list(fishes_zmax.keys()):\n",
    "    sn=1./np.sqrt(np.linalg.det(fishes_zmax[k]['cov_p'][-2:,-2:]))\n",
    "    print(k,sn)\n",
    "    ax.plot(k,sn,'bo')\n",
    "# xscale('log')\n",
    "# ax.set_xlim(1.5,11)\n",
    "# ax.set_ylim(120,145)\n",
    "ax.set_xlabel('$z_{max}$')\n",
    "ax.set_ylabel('DETF')\n",
    "# ax.set_yscale('log')\n",
    "fname='zmax_detf'\n",
    "fig.savefig(fig_home+fname+'.'+fig_format,bbox_inches='tight',format=fig_format)"
   ]
  },
  {
   "cell_type": "code",
   "execution_count": null,
   "metadata": {},
   "outputs": [],
   "source": [
    "fig, ax = subplots(1,1, figsize=(15,11.25))\n",
    "for k in list(fishes_zmin.keys()):\n",
    "    sn=1./np.sqrt(np.linalg.det(fishes_zmin[k]['cov_p'][-2:,-2:]))\n",
    "    print(k,sn)\n",
    "    ax.plot(k,sn,'bo')\n",
    "# xscale('log')\n",
    "# ax.set_xlim(1.5,11)\n",
    "# ax.set_ylim(120,145)\n",
    "ax.set_xlabel('$z_{min}$')\n",
    "ax.set_ylabel('DETF')\n",
    "# ax.set_yscale('log')\n",
    "fname='zmin_detf'\n",
    "fig.savefig(fig_home+fname+'.'+fig_format,bbox_inches='tight',format=fig_format)"
   ]
  },
  {
   "cell_type": "code",
   "execution_count": null,
   "metadata": {},
   "outputs": [],
   "source": [
    "p=np.atleast_1d(['As','Om','w','wa'])\n",
    "#p=np.atleast_1d(['s8'])\n",
    "fishes_ell={}\n",
    "ells=[1000,2000,5000]\n",
    "for ell in ells:\n",
    "    ell_bin_kwargs['lmax_cl']=ell\n",
    "    fishes_ell[ell]=fisher_calc(cosmo_params=p,do_cov=False,do_log=False,cov_3X2_kwargs=cov_3X2_kwargs,\n",
    "                                zs_bins_kwargs=zs_bins_kwargs,ell_bin_kwargs=ell_bin_kwargs)\n",
    "ell_bin_kwargs['lmax_cl']=5000"
   ]
  },
  {
   "cell_type": "code",
   "execution_count": null,
   "metadata": {},
   "outputs": [],
   "source": [
    "fig, ax = subplots(1,1, figsize=(15,11.25))\n",
    "for k in list(fishes_ell.keys()):\n",
    "    sn=1./np.sqrt(np.linalg.det(fishes_ell[k]['cov_p'][-2:,-2:]))\n",
    "    print(k,sn)\n",
    "    ax.plot(k,sn,'bo')\n",
    "# xscale('log')\n",
    "# ax.set_xlim(1.5,11)\n",
    "# ax.set_ylim(120,145)\n",
    "ax.set_xlabel('$\\ell_{max}$')\n",
    "ax.set_ylabel('DETF')\n",
    "# ax.set_yscale('log')\n",
    "fname='ellmax_detf'\n",
    "fig.savefig(fig_home+fname+'.'+fig_format,bbox_inches='tight',format=fig_format)"
   ]
  },
  {
   "cell_type": "code",
   "execution_count": null,
   "metadata": {},
   "outputs": [],
   "source": [
    "corrs_iter[0]"
   ]
  },
  {
   "cell_type": "code",
   "execution_count": null,
   "metadata": {},
   "outputs": [],
   "source": [
    "p=np.atleast_1d(['As','Om','w','wa'])\n",
    "#p=np.atleast_1d(['s8'])\n",
    "fishes_nb={}\n",
    "nbs=[2,1,5,3]#10\n",
    "# nbs=np.arange(10)+1\n",
    "for nb in nbs:\n",
    "    kappa_class=init_fish(corrs=corrs_iter[0],z_min=0,n_lens_bins=0,l_min=10,l_max=2000,Nl_bins=60,nbins=nb,\n",
    "                    pk_func='class_pk',SSV=False)\n",
    "    \n",
    "    fishes_nb[nb]=fisher_calc(cosmo_params=p,do_cov=False,do_log=False,kappa_class=kappa_class)\n"
   ]
  },
  {
   "cell_type": "code",
   "execution_count": null,
   "metadata": {},
   "outputs": [],
   "source": [
    "fig, ax = subplots(1,1, figsize=(15,11.25))\n",
    "for k in list(fishes_nb.keys()):\n",
    "    sn=1./np.sqrt(np.linalg.det(fishes_nb[k]['cov_p'][-2:,-2:]))\n",
    "    print(k,sn)\n",
    "    ax.plot(k,sn,'bo')\n",
    "# xscale('log')\n",
    "ax.set_xlim(1.5,11)\n",
    "ax.set_ylim(140,200)\n",
    "ax.set_xlabel('# tomographic bins')\n",
    "ax.set_ylabel('DETF')\n",
    "# ax.set_yscale('log')\n",
    "fname='nbins_detf'\n",
    "fig.savefig(fig_home+fname+'.'+fig_format,bbox_inches='tight',format=fig_format)"
   ]
  },
  {
   "cell_type": "code",
   "execution_count": null,
   "metadata": {},
   "outputs": [],
   "source": [
    "['b{i}'.format(i=i) for i in np.arange(3)]"
   ]
  },
  {
   "cell_type": "code",
   "execution_count": null,
   "metadata": {},
   "outputs": [],
   "source": [
    "priors"
   ]
  },
  {
   "cell_type": "code",
   "execution_count": null,
   "metadata": {},
   "outputs": [],
   "source": [
    "p=np.atleast_1d(['As','Om','w','wa'])\n",
    "#p=np.atleast_1d(['s8'])\n",
    "fishes_nb_pz={}\n",
    "# p_z=['b0','b1','b2'] #,'sig0','sig1','sig2']\n",
    "zs_bins_kwargs['z_sigma']=0.05\n",
    "nbs=[2,10,1,5,3]#10\n",
    "# nbs=np.arange(10)+1\n",
    "for nb in nbs:\n",
    "    zs_bins_kwargs['nbins']=nb\n",
    "    p_z=['b{i}'.format(i=i) for i in np.arange(nb)]\n",
    "    fishes_nb_pz[nb]=fisher_calc(cosmo_params=p,z_params=p_z,do_cov=False,do_log=False,cov_3X2_kwargs=cov_3X2_kwargs,zs_bins_kwargs=zs_bins_kwargs,priors=priors)\n",
    "zs_bins_kwargs['nbins']=3"
   ]
  },
  {
   "cell_type": "code",
   "execution_count": null,
   "metadata": {},
   "outputs": [],
   "source": [
    "fig, ax = subplots(1,1, figsize=(15,11.25))\n",
    "for k in list(fishes_nb_pz.keys()):\n",
    "    sn=1./np.sqrt(np.linalg.det(fishes_nb_pz[k]['cov_p'][2:4,2:4]))\n",
    "    print(k,sn)\n",
    "    ax.plot(k,sn,'bo')\n",
    "    \n",
    "    sn=1./np.sqrt(np.linalg.det(fishes_nb[k]['cov_p'][-2:,-2:]))\n",
    "    print(k,sn)\n",
    "    ax.plot(k,sn,'ro')\n",
    "# xscale('log')\n",
    "ax.set_xlim(1.5,11)\n",
    "# ax.set_ylim(140,200)\n",
    "ax.set_xlabel('# tomographic bins')\n",
    "ax.set_ylabel('DETF')\n",
    "# ax.set_yscale('log')\n",
    "fname='nbins_detf_pz'\n",
    "# fig.savefig(fig_home+fname+'.'+fig_format,bbox_inches='tight',format=fig_format)"
   ]
  },
  {
   "cell_type": "code",
   "execution_count": null,
   "metadata": {},
   "outputs": [],
   "source": [
    "zl_bins['n_bins']"
   ]
  },
  {
   "cell_type": "code",
   "execution_count": null,
   "metadata": {},
   "outputs": [],
   "source": [
    "priors"
   ]
  },
  {
   "cell_type": "code",
   "execution_count": null,
   "metadata": {},
   "outputs": [],
   "source": [
    "p=np.atleast_1d(['As','Om','w','wa'])\n",
    "#p=np.atleast_1d(['s8'])\n",
    "fishes_nb_pz_3x2={}\n",
    "# p_z=['b0','b1','b2'] #,'sig0','sig1','sig2']\n",
    "zs_bins_kwargs['z_sigma']=0.05\n",
    "nbs=[2,1,5,3] #,10]\n",
    "# nbs=np.arange(10)+1\n",
    "cov_3X2_kwargs['corrs']=[corr_ll,corr_ggl,corr_gg]\n",
    "b_z=['b1{i}'.format(i=i) for i in np.arange(zl_bins['n_bins'])]\n",
    "for nb in nbs:\n",
    "    zs_bins_kwargs['nbins']=nb\n",
    "    p_z=['b{i}'.format(i=i) for i in np.arange(nb)]\n",
    "    fishes_nb_pz_3x2[nb]=fisher_calc(cosmo_params=p,z_params=p_z,galaxy_params=b_z,\n",
    "                                     do_cov=False,do_log=False,cov_3X2_kwargs=cov_3X2_kwargs,zs_bins_kwargs=zs_bins_kwargs,priors=priors)\n",
    "cov_3X2_kwargs['corrs']=[corr_ll]\n",
    "zs_bins_kwargs['nbins']=3"
   ]
  },
  {
   "cell_type": "code",
   "execution_count": null,
   "metadata": {},
   "outputs": [],
   "source": [
    "p=np.atleast_1d(['As','Om','w','wa'])\n",
    "#p=np.atleast_1d(['s8'])\n",
    "fishes_nb_pz_2x2={}\n",
    "# p_z=['b0','b1','b2'] #,'sig0','sig1','sig2']\n",
    "zs_bins_kwargs['z_sigma']=0.05\n",
    "nbs=[2,1,5,3] #,10]\n",
    "# nbs=np.arange(10)+1\n",
    "cov_3X2_kwargs['corrs']=[corr_ggl,corr_gg]\n",
    "b_z=['b1{i}'.format(i=i) for i in np.arange(zl_bins['n_bins'])]\n",
    "for nb in nbs:\n",
    "    zs_bins_kwargs['nbins']=nb\n",
    "    p_z=['b{i}'.format(i=i) for i in np.arange(nb)]\n",
    "    fishes_nb_pz_2x2[nb]=fisher_calc(cosmo_params=p,z_params=p_z,galaxy_params=b_z,\n",
    "                                     do_cov=False,do_log=False,cov_3X2_kwargs=cov_3X2_kwargs,zs_bins_kwargs=zs_bins_kwargs,priors=priors)\n",
    "cov_3X2_kwargs['corrs']=[corr_ll]\n",
    "zs_bins_kwargs['nbins']=3"
   ]
  },
  {
   "cell_type": "code",
   "execution_count": null,
   "metadata": {},
   "outputs": [],
   "source": [
    "fig, ax = subplots(1,1, figsize=(15,11.25))\n",
    "for k in list(fishes_nb_pz_3x2.keys()):\n",
    "    sn=1./np.sqrt(np.linalg.det(fishes_nb_pz[k]['cov_p'][2:4,2:4]))\n",
    "    print(k,sn)\n",
    "    ax.plot(k,sn,'bo')\n",
    "    \n",
    "    sn=1./np.sqrt(np.linalg.det(fishes_nb[k]['cov_p'][-2:,-2:]))\n",
    "    print(k,sn)\n",
    "    ax.plot(k,sn,'ro')\n",
    "    \n",
    "    sn=1./np.sqrt(np.linalg.det(fishes_nb_pz_3x2[k]['cov_p'][2:4,2:4]))\n",
    "    print(k,sn)\n",
    "    ax.plot(k,sn,'mo')\n",
    "    \n",
    "    sn=1./np.sqrt(np.linalg.det(fishes_nb_pz_2x2[k]['cov_p'][2:4,2:4]))\n",
    "    print(k,sn)\n",
    "    ax.plot(k,sn,'go')\n",
    "\n",
    "# xscale('log')\n",
    "ax.set_xlim(1.5,11)\n",
    "# ax.set_ylim(140,200)\n",
    "ax.set_xlabel('# tomographic bins')\n",
    "ax.set_ylabel('DETF')\n",
    "# ax.set_yscale('log')\n",
    "fname='nbins_detf_pz'\n",
    "# fig.savefig(fig_home+fname+'.'+fig_format,bbox_inches='tight',format=fig_format)"
   ]
  },
  {
   "cell_type": "raw",
   "metadata": {},
   "source": [
    "#parameterize bias as function of z."
   ]
  },
  {
   "cell_type": "raw",
   "metadata": {},
   "source": [
    "s w0=0.02\n",
    "s wa=0.14\n",
    "\n",
    "compare with... https://arxiv.org/pdf/1607.01761.pdf"
   ]
  },
  {
   "cell_type": "code",
   "execution_count": null,
   "metadata": {},
   "outputs": [],
   "source": [
    "1./np.sqrt(np.linalg.det(fish['cov_p'][-2:,-2:]))"
   ]
  },
  {
   "cell_type": "code",
   "execution_count": null,
   "metadata": {},
   "outputs": [],
   "source": [
    "fish['error']"
   ]
  },
  {
   "cell_type": "code",
   "execution_count": null,
   "metadata": {},
   "outputs": [],
   "source": [
    "fish['error']"
   ]
  },
  {
   "cell_type": "code",
   "execution_count": null,
   "metadata": {},
   "outputs": [],
   "source": [
    "m=fish['model']\n",
    "ci=fish['cov_inv']\n",
    "np.sqrt(np.dot(m,np.dot(ci,m)))"
   ]
  },
  {
   "cell_type": "code",
   "execution_count": null,
   "metadata": {},
   "outputs": [],
   "source": [
    "np.linalg.eig(fish['cov_p'])"
   ]
  },
  {
   "cell_type": "code",
   "execution_count": null,
   "metadata": {},
   "outputs": [],
   "source": []
  },
  {
   "cell_type": "code",
   "execution_count": null,
   "metadata": {},
   "outputs": [],
   "source": []
  }
 ],
 "metadata": {
  "kernelspec": {
   "display_name": "Python 3",
   "language": "python",
   "name": "python3"
  },
  "language_info": {
   "codemirror_mode": {
    "name": "ipython",
    "version": 3
   },
   "file_extension": ".py",
   "mimetype": "text/x-python",
   "name": "python",
   "nbconvert_exporter": "python",
   "pygments_lexer": "ipython3",
   "version": "3.7.0"
  }
 },
 "nbformat": 4,
 "nbformat_minor": 2
}
