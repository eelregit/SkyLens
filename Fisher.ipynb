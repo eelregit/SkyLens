{
 "cells": [
  {
   "cell_type": "code",
   "execution_count": 1,
   "metadata": {},
   "outputs": [],
   "source": [
    "import sys\n",
    "import pyccl as ccl\n",
    "import pickle\n",
    "import camb\n",
    "sys.path.insert(0,'./')\n",
    "from importlib import reload\n",
    "from astropy.cosmology import Planck15 as cosmo\n",
    "from astropy.cosmology import default_cosmology\n",
    "from astropy import units\n",
    "import astropy"
   ]
  },
  {
   "cell_type": "code",
   "execution_count": 2,
   "metadata": {},
   "outputs": [],
   "source": [
    "from cov_3X2 import *\n",
    "from fisher import *"
   ]
  },
  {
   "cell_type": "code",
   "execution_count": 3,
   "metadata": {},
   "outputs": [],
   "source": [
    "import lsst_utils\n",
    "reload(lsst_utils)\n",
    "from lsst_utils import *"
   ]
  },
  {
   "cell_type": "code",
   "execution_count": null,
   "metadata": {},
   "outputs": [],
   "source": [
    "fig_home='./figures/'\n",
    "fig_format='pdf'"
   ]
  },
  {
   "cell_type": "code",
   "execution_count": 4,
   "metadata": {},
   "outputs": [
    {
     "data": {
      "text/plain": [
       "w0waCDM(H0=67.7 km / (Mpc s), Om0=0.307, Ode0=0.691, w0=-1, wa=0, Tcmb0=2.725 K, Neff=3.05, m_nu=[0.   0.   0.06] eV, Ob0=0.0486)"
      ]
     },
     "execution_count": 4,
     "metadata": {},
     "output_type": "execute_result"
    }
   ],
   "source": [
    "def cosmo_w0_wa(cosmo=None,w0=-1,wa=0):\n",
    "    attrs=['H0','Om0', 'Ode0','Tcmb0', 'Neff', 'm_nu', 'Ob0']\n",
    "    args={}\n",
    "    args['w0']=w0\n",
    "    args['wa']=wa\n",
    "    for a in attrs:\n",
    "        args[a]=getattr(cosmo,a)\n",
    "    cosmo_w=astropy.cosmology.w0waCDM(**args)\n",
    "    return cosmo_w\n",
    "cosmo_w0_wa(cosmo=cosmo)"
   ]
  },
  {
   "cell_type": "code",
   "execution_count": 5,
   "metadata": {},
   "outputs": [],
   "source": [
    "def cosmo_h_set(cosmo=None,cosmo_params={}):\n",
    "    if cosmo_params['wa']!=0:\n",
    "        cosmo=cosmo_w0_wa(cosmo=cosmo,w0=cosmo_params['w'],wa=cosmo_params['wa'])\n",
    "    cosmo2=cosmo.clone(H0=cosmo_params['h']*100,\n",
    "                        Om0=cosmo_params['Om'],\n",
    "                       Ob0=cosmo_params['Omb'],\n",
    "#                        Odm0=cosmo_params['Omd'],\n",
    "#                        Ok0=cosmo_params['Omk'],\n",
    "#                        w=cosmo_params['w'],\n",
    "                       m_nu=[0,0,cosmo_params['mnu']]*units.eV\n",
    "                    )"
   ]
  },
  {
   "cell_type": "code",
   "execution_count": 6,
   "metadata": {},
   "outputs": [],
   "source": [
    "def fisher_calc(params=['As'],Nx=3,dx_max=0.01,do_log=False,kappa_class=None,do_cov=False,\n",
    "               cov_3X2_kwargs={},zs_bins_kwargs={}):\n",
    "    zs_bins=lsst_source_tomo_bins(**zs_bins_kwargs)\n",
    "    kappa_class=cov_3X2(zs_bins=zs_bins,**cov_3X2_kwargs)\n",
    "    \n",
    "    cosmo_fid=kappa_class.Ang_PS.PS.cosmo_params.copy()\n",
    "    cosmo_h=kappa_class.Ang_PS.PS.cosmo_h.clone()\n",
    "    \n",
    "    cl0G=kappa_class.cl_tomo()\n",
    "    cl_t=cl0G['stack'].compute()\n",
    "    cov=cl_t['cov']\n",
    "    kappa_class.Ang_PS.reset()\n",
    "    do_cov0=np.copy(kappa_class.do_cov)\n",
    "    kappa_class.do_cov=do_cov\n",
    "\n",
    "    Dx=np.linspace((1-dx_max),(1+dx_max),Nx)\n",
    "    ndim=len(params)\n",
    "    \n",
    "    x_vars={}\n",
    "    models={}\n",
    "    model_derivs={}\n",
    "    covs={}\n",
    "    cov_derivs={}\n",
    "    for p in params:\n",
    "        x0=cosmo_fid[p]\n",
    "        if do_log:\n",
    "            x0=np.absolute(x0)\n",
    "            x_vars[p]=x0**Dx\n",
    "            if x0==1:\n",
    "                x_vars[p]=(2.**Dx)/2. # 1**x=1\n",
    "            if x0==0:\n",
    "                x_vars[p]=np.logspace(-3,-2,Nx)\n",
    "            x_vars[p]*=np.sign(cosmo_fid[p])\n",
    "            x_grad=np.gradient(np.log(x_vars[p]))\n",
    "        else:\n",
    "            x_vars[p]=x0*Dx #np.linspace(x0*(1-dx_max),x0*(1+dx_max),Nx)\n",
    "            if x0==0:\n",
    "                x_vars[p]=Dx-1\n",
    "            x_grad=np.gradient(x_vars[p])\n",
    "        \n",
    "        models[p]={}\n",
    "        covs[p]={}\n",
    "#         print(p,x_vars[p])\n",
    "        for i in np.arange(Nx):\n",
    "            cosmo_t=cosmo_fid.copy()\n",
    "         \n",
    "            cosmo_t[p]=x_vars[p][i]\n",
    "            \n",
    "            if p=='s8':\n",
    "                s80=cosmo_fid['s8']\n",
    "                cosmo_t['As']*=(cosmo_t['s8']/s80)**2\n",
    "                kappa_class.Ang_PS.PS.get_pk(z=[0],cosmo_params=cosmo_t,return_s8=True)\n",
    "                kappa_class.Ang_PS.PS.pk=None\n",
    "                x_vars[p][i]=kappa_class.Ang_PS.PS.s8\n",
    "#                 print(x_vars[p][i],s80,cosmo_t['s8'])\n",
    "            cosmo_h2=cosmo_h_set(cosmo=cosmo,cosmo_params=cosmo_t)\n",
    "            cl0G=kappa_class.cl_tomo(cosmo_params=cosmo_t,cosmo_h=cosmo_h2)\n",
    "            cl_t=cl0G['stack'].compute()\n",
    "            models[p][i]=cl_t['cl']\n",
    "            covs[p][i]=cl_t['cov']\n",
    "            kappa_class.Ang_PS.reset()\n",
    "            \n",
    "        model_derivs[p]=np.gradient(np.array([models[p][i] for i in np.arange(Nx)]),axis=0).T\n",
    "        model_derivs[p]/=x_grad\n",
    "        model_derivs[p]=model_derivs[p][:,np.int(Nx/2)]\n",
    "        \n",
    "        if do_cov:\n",
    "            cov_derivs[p]=np.gradient(np.array([covs[p][i] for i in np.arange(Nx)]),axis=0).T\n",
    "            cov_derivs[p]/=x_grad\n",
    "#             print(cov_derivs[p].shape,x_grad.shape)\n",
    "            cov_derivs[p]=cov_derivs[p][:,:,np.int(Nx/2)]\n",
    "    \n",
    "    cov_inv=np.linalg.inv(cov)\n",
    "    cov_p_inv=np.zeros([ndim]*2)\n",
    "    i1=0\n",
    "    for p1 in params:\n",
    "        i2=0\n",
    "        for p2 in params:\n",
    "            cov_p_inv[i1,i2]=np.dot(model_derivs[p1],np.dot(cov_inv,model_derivs[p2]))\n",
    "            \n",
    "            if do_cov:\n",
    "#                 print(cov_p_inv[i1,i2],0.5*np.trace(cov_inv@cov_derivs[p1]@cov_inv@cov_derivs[p2]))\n",
    "                cov_p_inv[i1,i2]+=0.5*np.trace(cov_inv@cov_derivs[p1]@cov_inv@cov_derivs[p2])\n",
    "            i2+=1\n",
    "        i1+=1\n",
    "    out={}\n",
    "    out['cov_p']=np.linalg.inv(cov_p_inv)\n",
    "    out['error']=np.sqrt(np.diag(out['cov_p']))\n",
    "    out['cov_deriv']=cov_derivs\n",
    "    out['model_deriv']=model_derivs\n",
    "    out['cov']=cov\n",
    "    out['cov_inv']=cov_inv\n",
    "    out['model']=models[p][1]\n",
    "    out['x_vars']=x_vars\n",
    "    kappa_class.do_cov=do_cov0\n",
    "    return out"
   ]
  },
  {
   "cell_type": "code",
   "execution_count": 7,
   "metadata": {},
   "outputs": [],
   "source": [
    "#setup parameters\n",
    "lmax_cl=5000\n",
    "lmin_cl=2\n",
    "l0=np.arange(lmin_cl,lmax_cl)\n",
    "\n",
    "lmin_cl_Bins=lmin_cl+10\n",
    "lmax_cl_Bins=lmax_cl-10\n",
    "Nl_bins=40\n",
    "l_bins=np.int64(np.logspace(np.log10(lmin_cl_Bins),np.log10(lmax_cl_Bins),Nl_bins))\n",
    "lb=np.sqrt(l_bins[1:]*l_bins[:-1])\n",
    "\n",
    "l=np.unique(np.int64(np.logspace(np.log10(lmin_cl),np.log10(lmax_cl),Nl_bins*20))) #if we want to use fewer ell\n",
    "\n",
    "do_cov=True\n",
    "bin_cl=True\n",
    "\n",
    "SSV_cov=True\n",
    "tidal_SSV_cov=False\n",
    "\n",
    "bin_xi=True\n",
    "theta_bins=np.logspace(np.log10(1./60),1,20)"
   ]
  },
  {
   "cell_type": "code",
   "execution_count": 8,
   "metadata": {},
   "outputs": [
    {
     "name": "stdout",
     "output_type": "stream",
     "text": [
      "ns0:  23.376047655582575\n"
     ]
    },
    {
     "name": "stderr",
     "output_type": "stream",
     "text": [
      "/usr/lib/python3.7/site-packages/astropy/units/quantity.py:639: RuntimeWarning: divide by zero encountered in true_divide\n",
      "  result = super().__array_ufunc__(function, method, *arrays, **kwargs)\n"
     ]
    }
   ],
   "source": [
    "zs_bins=lsst_source_tomo_bins()\n",
    "\n",
    "do_cov=True\n",
    "bin_cl=True\n",
    "SSV_cov=True\n",
    "tidal_SSV=False\n",
    "do_sample_variance=True\n",
    "use_window=False\n",
    "\n",
    "sigma_gamma=0.26\n",
    "area=14000\n",
    "f_sky=area*d2r**2/4/np.pi"
   ]
  },
  {
   "cell_type": "code",
   "execution_count": 9,
   "metadata": {},
   "outputs": [
    {
     "data": {
      "text/plain": [
       "0.3393695767766752"
      ]
     },
     "execution_count": 9,
     "metadata": {},
     "output_type": "execute_result"
    }
   ],
   "source": [
    "f_sky"
   ]
  },
  {
   "cell_type": "code",
   "execution_count": 10,
   "metadata": {},
   "outputs": [],
   "source": [
    "cov_3X2_kwargs={'l':l0,'do_cov':do_cov,'bin_cl':bin_cl,'l_bins':l_bins,'zg_bins':None,\n",
    "            'SSV_cov':SSV_cov,'tidal_SSV_cov':tidal_SSV,'do_xi':False,'use_window':use_window,'f_sky':f_sky,'sigma_gamma':sigma_gamma,\n",
    "            'do_sample_variance':do_sample_variance,'power_spectra_kwargs':{'pk_func':'class_pk'},\n",
    "            'bin_xi':bin_xi}\n",
    "zs_bins_kwargs={'zmin':0.3,'zmax':3,'ns0':26,'nbins':3,'z_sigma':0.01}"
   ]
  },
  {
   "cell_type": "raw",
   "metadata": {},
   "source": [
    "kappaS = cov_3X2(zs_bins=zs_bins,**cov_3X2_kwargs)"
   ]
  },
  {
   "cell_type": "code",
   "execution_count": 11,
   "metadata": {},
   "outputs": [
    {
     "name": "stdout",
     "output_type": "stream",
     "text": [
      "ns0:  23.376047655582575\n",
      "[('shear', 'shear')]\n"
     ]
    },
    {
     "name": "stderr",
     "output_type": "stream",
     "text": [
      "/usr/lib/python3.7/site-packages/astropy/units/quantity.py:639: RuntimeWarning: divide by zero encountered in true_divide\n",
      "  result = super().__array_ufunc__(function, method, *arrays, **kwargs)\n"
     ]
    },
    {
     "name": "stdout",
     "output_type": "stream",
     "text": [
      "6 39 1\n",
      "[('shear', 'shear')]\n",
      "6 39 1\n",
      "[('shear', 'shear')]\n",
      "6 39 1\n",
      "[('shear', 'shear')]\n",
      "6 39 1\n",
      "[('shear', 'shear')]\n",
      "6 39 1\n",
      "[('shear', 'shear')]\n",
      "6 39 1\n",
      "[('shear', 'shear')]\n",
      "6 39 1\n",
      "[('shear', 'shear')]\n",
      "6 39 1\n",
      "[('shear', 'shear')]\n",
      "6 39 1\n",
      "[('shear', 'shear')]\n",
      "6 39 1\n",
      "[('shear', 'shear')]\n",
      "6 39 1\n",
      "[('shear', 'shear')]\n",
      "6 39 1\n",
      "[('shear', 'shear')]\n",
      "6 39 1\n",
      "ns0:  23.376047655582575\n",
      "[('shear', 'shear')]\n"
     ]
    },
    {
     "ename": "CosmoComputationError",
     "evalue": "\n\nError in Class: spectra_init(L:1297) :error in spectra_pk(pba,ppt,ppm,pnl,psp);\n=>spectra_pk(L:2785) :error in spectra_sigma(pba,ppm,psp,8./pba->h,0.,&(psp->sigma8));\n=>spectra_sigma(L:2876) :error in spectra_pk_at_k_and_z(pba,ppm,psp,k,z,&pk,pk_ic);\n=>spectra_pk_at_k_and_z(L:688) :error in spectra_pk_at_z(pba, psp, logarithmic, z, spectrum_at_z, spectrum_at_z_ic);\n=>spectra_pk_at_z(L:418) :error in array_interpolate_spline(psp->ln_tau, psp->ln_tau_size, psp->ln_pk, psp->ddln_pk, psp->ln_k_size, ln_tau, &last_index, output_tot, psp->ln_k_size, psp->error_message);\n=>array_interpolate_spline(L:1701) : x=9.560144e+00 > x_max=9.560144e+00",
     "output_type": "error",
     "traceback": [
      "\u001b[0;31m---------------------------------------------------------------------------\u001b[0m",
      "\u001b[0;31mCosmoComputationError\u001b[0m                     Traceback (most recent call last)",
      "\u001b[0;32m<ipython-input-11-f7dc1f39f29e>\u001b[0m in \u001b[0;36m<module>\u001b[0;34m()\u001b[0m\n\u001b[1;32m      5\u001b[0m \u001b[0;32mfor\u001b[0m \u001b[0mzs\u001b[0m \u001b[0;32min\u001b[0m \u001b[0mz_sigs\u001b[0m\u001b[0;34m:\u001b[0m\u001b[0;34m\u001b[0m\u001b[0m\n\u001b[1;32m      6\u001b[0m     \u001b[0mzs_bins_kwargs\u001b[0m\u001b[0;34m[\u001b[0m\u001b[0;34m'z_sigma'\u001b[0m\u001b[0;34m]\u001b[0m\u001b[0;34m=\u001b[0m\u001b[0mzs\u001b[0m\u001b[0;34m\u001b[0m\u001b[0m\n\u001b[0;32m----> 7\u001b[0;31m     \u001b[0mfishes_zsigma\u001b[0m\u001b[0;34m[\u001b[0m\u001b[0mzs\u001b[0m\u001b[0;34m]\u001b[0m\u001b[0;34m=\u001b[0m\u001b[0mfisher_calc\u001b[0m\u001b[0;34m(\u001b[0m\u001b[0mparams\u001b[0m\u001b[0;34m=\u001b[0m\u001b[0mp\u001b[0m\u001b[0;34m,\u001b[0m\u001b[0mdo_cov\u001b[0m\u001b[0;34m=\u001b[0m\u001b[0;32mFalse\u001b[0m\u001b[0;34m,\u001b[0m\u001b[0mdo_log\u001b[0m\u001b[0;34m=\u001b[0m\u001b[0;32mFalse\u001b[0m\u001b[0;34m,\u001b[0m\u001b[0mcov_3X2_kwargs\u001b[0m\u001b[0;34m=\u001b[0m\u001b[0mcov_3X2_kwargs\u001b[0m\u001b[0;34m,\u001b[0m\u001b[0mzs_bins_kwargs\u001b[0m\u001b[0;34m=\u001b[0m\u001b[0mzs_bins_kwargs\u001b[0m\u001b[0;34m)\u001b[0m\u001b[0;34m\u001b[0m\u001b[0m\n\u001b[0m\u001b[1;32m      8\u001b[0m \u001b[0mzs_bins_kwargs\u001b[0m\u001b[0;34m[\u001b[0m\u001b[0;34m'z_sigma'\u001b[0m\u001b[0;34m]\u001b[0m\u001b[0;34m=\u001b[0m\u001b[0;36m0.05\u001b[0m\u001b[0;34m\u001b[0m\u001b[0m\n",
      "\u001b[0;32m<ipython-input-6-1e34944c36db>\u001b[0m in \u001b[0;36mfisher_calc\u001b[0;34m(params, Nx, dx_max, do_log, kappa_class, do_cov, cov_3X2_kwargs, zs_bins_kwargs)\u001b[0m\n\u001b[1;32m      7\u001b[0m     \u001b[0mcosmo_h\u001b[0m\u001b[0;34m=\u001b[0m\u001b[0mkappa_class\u001b[0m\u001b[0;34m.\u001b[0m\u001b[0mAng_PS\u001b[0m\u001b[0;34m.\u001b[0m\u001b[0mPS\u001b[0m\u001b[0;34m.\u001b[0m\u001b[0mcosmo_h\u001b[0m\u001b[0;34m.\u001b[0m\u001b[0mclone\u001b[0m\u001b[0;34m(\u001b[0m\u001b[0;34m)\u001b[0m\u001b[0;34m\u001b[0m\u001b[0m\n\u001b[1;32m      8\u001b[0m \u001b[0;34m\u001b[0m\u001b[0m\n\u001b[0;32m----> 9\u001b[0;31m     \u001b[0mcl0G\u001b[0m\u001b[0;34m=\u001b[0m\u001b[0mkappa_class\u001b[0m\u001b[0;34m.\u001b[0m\u001b[0mcl_tomo\u001b[0m\u001b[0;34m(\u001b[0m\u001b[0;34m)\u001b[0m\u001b[0;34m\u001b[0m\u001b[0m\n\u001b[0m\u001b[1;32m     10\u001b[0m     \u001b[0mcl_t\u001b[0m\u001b[0;34m=\u001b[0m\u001b[0mcl0G\u001b[0m\u001b[0;34m[\u001b[0m\u001b[0;34m'stack'\u001b[0m\u001b[0;34m]\u001b[0m\u001b[0;34m.\u001b[0m\u001b[0mcompute\u001b[0m\u001b[0;34m(\u001b[0m\u001b[0;34m)\u001b[0m\u001b[0;34m\u001b[0m\u001b[0m\n\u001b[1;32m     11\u001b[0m     \u001b[0mcov\u001b[0m\u001b[0;34m=\u001b[0m\u001b[0mcl_t\u001b[0m\u001b[0;34m[\u001b[0m\u001b[0;34m'cov'\u001b[0m\u001b[0;34m]\u001b[0m\u001b[0;34m\u001b[0m\u001b[0m\n",
      "\u001b[0;32m~/repos/cosmic_shear/cov_3X2.py\u001b[0m in \u001b[0;36mcl_tomo\u001b[0;34m(self, cosmo_h, cosmo_params, pk_params, pk_func, corrs, bias_kwargs, bias_func)\u001b[0m\n\u001b[1;32m    329\u001b[0m \u001b[0;31m#         if self.Ang_PS.clz is None:\u001b[0m\u001b[0;34m\u001b[0m\u001b[0;34m\u001b[0m\u001b[0m\n\u001b[1;32m    330\u001b[0m         self.Ang_PS.angular_power_z(cosmo_h=cosmo_h,pk_params=pk_params,pk_func=pk_func,\n\u001b[0;32m--> 331\u001b[0;31m                                 cosmo_params=cosmo_params)\n\u001b[0m\u001b[1;32m    332\u001b[0m \u001b[0;34m\u001b[0m\u001b[0m\n\u001b[1;32m    333\u001b[0m         \u001b[0mout\u001b[0m\u001b[0;34m=\u001b[0m\u001b[0;34m{\u001b[0m\u001b[0;34m}\u001b[0m\u001b[0;34m\u001b[0m\u001b[0m\n",
      "\u001b[0;32m~/repos/cosmic_shear/angular_power_spectra.py\u001b[0m in \u001b[0;36mangular_power_z\u001b[0;34m(self, z, pk_params, cosmo_h, cosmo_params, pk_func)\u001b[0m\n\u001b[1;32m     71\u001b[0m         \u001b[0;31m#XXX At some point this should be moved to power spectra, pk and SSV, especially if doing 3X2\u001b[0m\u001b[0;34m\u001b[0m\u001b[0;34m\u001b[0m\u001b[0m\n\u001b[1;32m     72\u001b[0m         \u001b[0;32mif\u001b[0m \u001b[0mself\u001b[0m\u001b[0;34m.\u001b[0m\u001b[0mPS\u001b[0m\u001b[0;34m.\u001b[0m\u001b[0mpk\u001b[0m \u001b[0;32mis\u001b[0m \u001b[0;32mNone\u001b[0m\u001b[0;34m:\u001b[0m\u001b[0;34m\u001b[0m\u001b[0m\n\u001b[0;32m---> 73\u001b[0;31m             \u001b[0mself\u001b[0m\u001b[0;34m.\u001b[0m\u001b[0mPS\u001b[0m\u001b[0;34m.\u001b[0m\u001b[0mget_pk\u001b[0m\u001b[0;34m(\u001b[0m\u001b[0mz\u001b[0m\u001b[0;34m=\u001b[0m\u001b[0mz\u001b[0m\u001b[0;34m,\u001b[0m\u001b[0mpk_params\u001b[0m\u001b[0;34m=\u001b[0m\u001b[0mpk_params\u001b[0m\u001b[0;34m,\u001b[0m\u001b[0mcosmo_params\u001b[0m\u001b[0;34m=\u001b[0m\u001b[0mcosmo_params\u001b[0m\u001b[0;34m)\u001b[0m\u001b[0;34m\u001b[0m\u001b[0m\n\u001b[0m\u001b[1;32m     74\u001b[0m         \u001b[0mcls\u001b[0m\u001b[0;34m=\u001b[0m\u001b[0mnp\u001b[0m\u001b[0;34m.\u001b[0m\u001b[0mzeros\u001b[0m\u001b[0;34m(\u001b[0m\u001b[0;34m(\u001b[0m\u001b[0mnz\u001b[0m\u001b[0;34m,\u001b[0m\u001b[0mnl\u001b[0m\u001b[0;34m)\u001b[0m\u001b[0;34m,\u001b[0m\u001b[0mdtype\u001b[0m\u001b[0;34m=\u001b[0m\u001b[0;34m'float32'\u001b[0m\u001b[0;34m)\u001b[0m\u001b[0;31m#*u.Mpc#**2\u001b[0m\u001b[0;34m\u001b[0m\u001b[0m\n\u001b[1;32m     75\u001b[0m \u001b[0;34m\u001b[0m\u001b[0m\n",
      "\u001b[0;32m~/repos/cosmic_shear/power_spectra.py\u001b[0m in \u001b[0;36mget_pk\u001b[0;34m(self, z, cosmo_params, pk_params, return_s8)\u001b[0m\n\u001b[1;32m     94\u001b[0m         \u001b[0;32melse\u001b[0m\u001b[0;34m:\u001b[0m\u001b[0;34m\u001b[0m\u001b[0m\n\u001b[1;32m     95\u001b[0m             self.pk,self.kh=self.pk_func(z,cosmo_params=cosmo_params,\n\u001b[0;32m---> 96\u001b[0;31m                             pk_params=pk_params,return_s8=return_s8)\n\u001b[0m\u001b[1;32m     97\u001b[0m         \u001b[0;32mif\u001b[0m \u001b[0mself\u001b[0m\u001b[0;34m.\u001b[0m\u001b[0mSSV_cov\u001b[0m\u001b[0;34m:\u001b[0m\u001b[0;34m\u001b[0m\u001b[0m\n\u001b[1;32m     98\u001b[0m             self.get_SSV_terms(z,cosmo_params=cosmo_params,\n",
      "\u001b[0;32m~/repos/cosmic_shear/power_spectra.py\u001b[0m in \u001b[0;36mclass_pk\u001b[0;34m(self, z, cosmo_params, pk_params, return_s8)\u001b[0m\n\u001b[1;32m    258\u001b[0m         \u001b[0mcosmoC\u001b[0m\u001b[0;34m=\u001b[0m\u001b[0mClass\u001b[0m\u001b[0;34m(\u001b[0m\u001b[0;34m)\u001b[0m\u001b[0;34m\u001b[0m\u001b[0m\n\u001b[1;32m    259\u001b[0m         \u001b[0mcosmoC\u001b[0m\u001b[0;34m.\u001b[0m\u001b[0mset\u001b[0m\u001b[0;34m(\u001b[0m\u001b[0mclass_params\u001b[0m\u001b[0;34m)\u001b[0m\u001b[0;34m\u001b[0m\u001b[0m\n\u001b[0;32m--> 260\u001b[0;31m         \u001b[0mcosmoC\u001b[0m\u001b[0;34m.\u001b[0m\u001b[0mcompute\u001b[0m\u001b[0;34m(\u001b[0m\u001b[0;34m)\u001b[0m\u001b[0;34m\u001b[0m\u001b[0m\n\u001b[0m\u001b[1;32m    261\u001b[0m \u001b[0;34m\u001b[0m\u001b[0m\n\u001b[1;32m    262\u001b[0m         \u001b[0mk\u001b[0m\u001b[0;34m=\u001b[0m\u001b[0mself\u001b[0m\u001b[0;34m.\u001b[0m\u001b[0mkh\u001b[0m\u001b[0;34m*\u001b[0m\u001b[0mh\u001b[0m\u001b[0;34m\u001b[0m\u001b[0m\n",
      "\u001b[0;32mclassy.pyx\u001b[0m in \u001b[0;36mclassy.Class.compute\u001b[0;34m()\u001b[0m\n",
      "\u001b[0;31mCosmoComputationError\u001b[0m: \n\nError in Class: spectra_init(L:1297) :error in spectra_pk(pba,ppt,ppm,pnl,psp);\n=>spectra_pk(L:2785) :error in spectra_sigma(pba,ppm,psp,8./pba->h,0.,&(psp->sigma8));\n=>spectra_sigma(L:2876) :error in spectra_pk_at_k_and_z(pba,ppm,psp,k,z,&pk,pk_ic);\n=>spectra_pk_at_k_and_z(L:688) :error in spectra_pk_at_z(pba, psp, logarithmic, z, spectrum_at_z, spectrum_at_z_ic);\n=>spectra_pk_at_z(L:418) :error in array_interpolate_spline(psp->ln_tau, psp->ln_tau_size, psp->ln_pk, psp->ddln_pk, psp->ln_k_size, ln_tau, &last_index, output_tot, psp->ln_k_size, psp->error_message);\n=>array_interpolate_spline(L:1701) : x=9.560144e+00 > x_max=9.560144e+00"
     ]
    }
   ],
   "source": [
    "p=np.atleast_1d(['As','Om','w','wa'])\n",
    "#p=np.atleast_1d(['s8'])\n",
    "fishes_zsigma={}\n",
    "z_sigs=np.logspace(-2,0,10)\n",
    "for zs in z_sigs:\n",
    "    zs_bins_kwargs['z_sigma']=zs\n",
    "    fishes_zsigma[zs]=fisher_calc(params=p,do_cov=False,do_log=False,cov_3X2_kwargs=cov_3X2_kwargs,zs_bins_kwargs=zs_bins_kwargs)\n",
    "zs_bins_kwargs['z_sigma']=0.05"
   ]
  },
  {
   "cell_type": "code",
   "execution_count": null,
   "metadata": {},
   "outputs": [],
   "source": [
    "fig, ax = subplots(1,1, figsize=(15,11.25))\n",
    "for k in list(fishes_zsigma.keys()):\n",
    "    sn=1./np.sqrt(np.linalg.det(fishes_zsigma[k]['cov_p'][-2:,-2:]))\n",
    "    print(k,sn)\n",
    "    ax.plot(k,sn,'bo')\n",
    "ax.set_xscale('log')\n",
    "ax.set_xlabel('$\\sigma_z$')\n",
    "ax.set_ylabel('DETF')\n",
    "fname='sigmaz_detf'\n",
    "fig.savefig(fig_home+fname+'.'+fig_format,bbox_inches='tight',format=fig_format)\n",
    "# yscale('log')"
   ]
  },
  {
   "cell_type": "code",
   "execution_count": null,
   "metadata": {},
   "outputs": [],
   "source": [
    "p=np.atleast_1d(['As','Om','w','wa'])\n",
    "#p=np.atleast_1d(['s8'])\n",
    "# fishes_nb={}\n",
    "zs_bins_kwargs['z_sigma']=0.05\n",
    "# nbs=[2,10,1,5,3]#10\n",
    "nbs=np.arange(10)+1\n",
    "for nb in nbs:\n",
    "    zs_bins_kwargs['nbins']=nb\n",
    "    fishes_nb[nb]=fisher_calc(params=p,do_cov=False,do_log=False,cov_3X2_kwargs=cov_3X2_kwargs,zs_bins_kwargs=zs_bins_kwargs)\n",
    "zs_bins_kwargs['nbins']=3"
   ]
  },
  {
   "cell_type": "code",
   "execution_count": null,
   "metadata": {},
   "outputs": [],
   "source": [
    "fig, ax = subplots(1,1, figsize=(15,11.25))\n",
    "for k in list(fishes_nb.keys()):\n",
    "    sn=1./np.sqrt(np.linalg.det(fishes_nb[k]['cov_p'][-2:,-2:]))\n",
    "    print(k,sn)\n",
    "    ax.plot(k,sn,'bo')\n",
    "# xscale('log')\n",
    "ax.set_xlim(1.5,11)\n",
    "ax.set_ylim(120,145)\n",
    "ax.set_xlabel('# tomographic bins')\n",
    "ax.set_ylabel('DETF')\n",
    "# ax.set_yscale('log')\n",
    "fname='nbins_detf'\n",
    "fig.savefig(fig_home+fname+'.'+fig_format,bbox_inches='tight',format=fig_format)"
   ]
  },
  {
   "cell_type": "code",
   "execution_count": null,
   "metadata": {},
   "outputs": [],
   "source": [
    "p=np.atleast_1d(['As','Om','w','wa'])\n",
    "#p=np.atleast_1d(['s8'])\n",
    "fishes_zmax={}\n",
    "z_ms=[1,1.5,2]\n",
    "for zm in z_ms:\n",
    "    zs_bins_kwargs['zmax']=zm\n",
    "    fishes_zmax[zm]=fisher_calc(params=p,do_cov=False,do_log=False,cov_3X2_kwargs=cov_3X2_kwargs,zs_bins_kwargs=zs_bins_kwargs)\n",
    "zs_bins_kwargs['zmax']=2"
   ]
  },
  {
   "cell_type": "code",
   "execution_count": null,
   "metadata": {},
   "outputs": [],
   "source": [
    "p=np.atleast_1d(['As','Om','w','wa'])\n",
    "#p=np.atleast_1d(['s8'])\n",
    "fishes_zmin={}\n",
    "z_ms=[0.1,0.3,0.5]\n",
    "for zm in z_ms:\n",
    "    zs_bins_kwargs['zmin']=zm\n",
    "    fishes_zmin[zm]=fisher_calc(params=p,do_cov=False,do_log=False,cov_3X2_kwargs=cov_3X2_kwargs,zs_bins_kwargs=zs_bins_kwargs)\n",
    "zs_bins_kwargs['zmin']=0.3"
   ]
  },
  {
   "cell_type": "code",
   "execution_count": null,
   "metadata": {},
   "outputs": [],
   "source": [
    "fig, ax = subplots(1,1, figsize=(15,11.25))\n",
    "for k in list(fishes_zmax.keys()):\n",
    "    sn=1./np.sqrt(np.linalg.det(fishes_zmax[k]['cov_p'][-2:,-2:]))\n",
    "    print(k,sn)\n",
    "    ax.plot(k,sn,'bo')\n",
    "# xscale('log')\n",
    "# ax.set_xlim(1.5,11)\n",
    "# ax.set_ylim(120,145)\n",
    "ax.set_xlabel('$z_{max}$')\n",
    "ax.set_ylabel('DETF')\n",
    "# ax.set_yscale('log')\n",
    "fname='zmax_detf'\n",
    "fig.savefig(fig_home+fname+'.'+fig_format,bbox_inches='tight',format=fig_format)"
   ]
  },
  {
   "cell_type": "code",
   "execution_count": null,
   "metadata": {},
   "outputs": [],
   "source": [
    "fig, ax = subplots(1,1, figsize=(15,11.25))\n",
    "for k in list(fishes_zmin.keys()):\n",
    "    sn=1./np.sqrt(np.linalg.det(fishes_zmin[k]['cov_p'][-2:,-2:]))\n",
    "    print(k,sn)\n",
    "    ax.plot(k,sn,'bo')\n",
    "# xscale('log')\n",
    "# ax.set_xlim(1.5,11)\n",
    "# ax.set_ylim(120,145)\n",
    "ax.set_xlabel('$z_{min}$')\n",
    "ax.set_ylabel('DETF')\n",
    "# ax.set_yscale('log')\n",
    "fname='zmin_detf'\n",
    "fig.savefig(fig_home+fname+'.'+fig_format,bbox_inches='tight',format=fig_format)"
   ]
  },
  {
   "cell_type": "raw",
   "metadata": {},
   "source": [
    "#parameterize bias as function of z."
   ]
  },
  {
   "cell_type": "code",
   "execution_count": null,
   "metadata": {},
   "outputs": [],
   "source": []
  },
  {
   "cell_type": "raw",
   "metadata": {},
   "source": [
    "s w0=0.02\n",
    "s wa=0.14\n",
    "\n",
    "compare with... https://arxiv.org/pdf/1607.01761.pdf"
   ]
  },
  {
   "cell_type": "code",
   "execution_count": 40,
   "metadata": {},
   "outputs": [
    {
     "data": {
      "text/plain": [
       "129.55943638832505"
      ]
     },
     "execution_count": 40,
     "metadata": {},
     "output_type": "execute_result"
    }
   ],
   "source": [
    "1./np.sqrt(np.linalg.det(fish['cov_p'][-2:,-2:]))"
   ]
  },
  {
   "cell_type": "code",
   "execution_count": 104,
   "metadata": {},
   "outputs": [
    {
     "data": {
      "text/plain": [
       "array([6.82122628e-11, 4.63920659e-03, 6.13856560e-02, 3.32017991e-01])"
      ]
     },
     "execution_count": 104,
     "metadata": {},
     "output_type": "execute_result"
    }
   ],
   "source": [
    "fish['error']"
   ]
  },
  {
   "cell_type": "code",
   "execution_count": 105,
   "metadata": {},
   "outputs": [
    {
     "data": {
      "text/plain": [
       "array([6.82122628e-11, 4.63920659e-03, 6.13856560e-02, 3.32017991e-01])"
      ]
     },
     "execution_count": 105,
     "metadata": {},
     "output_type": "execute_result"
    }
   ],
   "source": [
    "fish['error']"
   ]
  },
  {
   "cell_type": "code",
   "execution_count": 106,
   "metadata": {},
   "outputs": [
    {
     "data": {
      "text/plain": [
       "591.9045764062098"
      ]
     },
     "execution_count": 106,
     "metadata": {},
     "output_type": "execute_result"
    }
   ],
   "source": [
    "m=fish['model']\n",
    "ci=fish['cov_inv']\n",
    "np.sqrt(np.dot(m,np.dot(ci,m)))"
   ]
  },
  {
   "cell_type": "code",
   "execution_count": 107,
   "metadata": {},
   "outputs": [
    {
     "data": {
      "text/plain": [
       "(array([1.13065188e-01, 8.07959887e-20, 9.47637330e-04, 1.28418598e-05]),\n",
       " array([[ 1.13460273e-10, -1.00000000e+00, -1.40431085e-09,\n",
       "         -1.01453293e-08],\n",
       "        [ 6.32557140e-03, -1.02154712e-08,  6.66841906e-02,\n",
       "          9.97754081e-01],\n",
       "        [-1.58727538e-01,  6.87184098e-10, -9.85057221e-01,\n",
       "          6.68419074e-02],\n",
       "        [ 9.87302160e-01,  2.90847035e-10, -1.58793862e-01,\n",
       "          4.35356764e-03]]))"
      ]
     },
     "execution_count": 107,
     "metadata": {},
     "output_type": "execute_result"
    }
   ],
   "source": [
    "np.linalg.eig(fish['cov_p'])"
   ]
  },
  {
   "cell_type": "code",
   "execution_count": null,
   "metadata": {},
   "outputs": [],
   "source": []
  },
  {
   "cell_type": "code",
   "execution_count": null,
   "metadata": {},
   "outputs": [],
   "source": []
  }
 ],
 "metadata": {
  "kernelspec": {
   "display_name": "Python 3",
   "language": "python",
   "name": "python3"
  },
  "language_info": {
   "codemirror_mode": {
    "name": "ipython",
    "version": 3
   },
   "file_extension": ".py",
   "mimetype": "text/x-python",
   "name": "python",
   "nbconvert_exporter": "python",
   "pygments_lexer": "ipython3",
   "version": "3.7.0"
  }
 },
 "nbformat": 4,
 "nbformat_minor": 2
}
