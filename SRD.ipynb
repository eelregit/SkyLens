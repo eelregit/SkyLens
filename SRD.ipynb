{
 "cells": [
  {
   "cell_type": "code",
   "execution_count": 1,
   "metadata": {},
   "outputs": [],
   "source": [
    "import sys\n",
    "import pickle\n",
    "sys.path.insert(0,'./')\n",
    "import pyccl as ccl\n",
    "# from importlib import reload"
   ]
  },
  {
   "cell_type": "code",
   "execution_count": 2,
   "metadata": {},
   "outputs": [
    {
     "data": {
      "text/plain": [
       "2"
      ]
     },
     "execution_count": 2,
     "metadata": {},
     "output_type": "execute_result"
    }
   ],
   "source": [
    "x={1:1,0:0}\n",
    "1+ (x.get(1) or 0)"
   ]
  },
  {
   "cell_type": "code",
   "execution_count": 3,
   "metadata": {},
   "outputs": [],
   "source": [
    "from distributed import LocalCluster\n",
    "from dask.distributed import Client  # we already had this above\n",
    "#http://distributed.readthedocs.io/en/latest/_modules/distributed/worker.html\n",
    "c=LocalCluster(n_workers=1,processes=False,memory_limit='25gb',threads_per_worker=14,memory_spill_fraction=.99,\n",
    "               memory_monitor_interval='2000ms')\n",
    "client=Client(c)"
   ]
  },
  {
   "cell_type": "code",
   "execution_count": 4,
   "metadata": {},
   "outputs": [],
   "source": [
    "from cov_3X2 import *\n",
    "from lsst_utils import *"
   ]
  },
  {
   "cell_type": "code",
   "execution_count": 5,
   "metadata": {},
   "outputs": [],
   "source": [
    "#only for python3\n",
    "import importlib\n",
    "reload=importlib.reload"
   ]
  },
  {
   "cell_type": "markdown",
   "metadata": {},
   "source": [
    "# Lensing X Lensing Correlation function covariance"
   ]
  },
  {
   "cell_type": "markdown",
   "metadata": {},
   "source": [
    "## Multiple redshift bins (Tomography)"
   ]
  },
  {
   "cell_type": "code",
   "execution_count": 6,
   "metadata": {},
   "outputs": [],
   "source": [
    "import cov_utils\n",
    "reload(cov_utils)\n",
    "from cov_utils import *"
   ]
  },
  {
   "cell_type": "code",
   "execution_count": 7,
   "metadata": {},
   "outputs": [],
   "source": [
    "import cov_3X2\n",
    "reload(cov_3X2)\n",
    "from cov_3X2 import *\n",
    "from wigner_transform import *"
   ]
  },
  {
   "cell_type": "code",
   "execution_count": 8,
   "metadata": {},
   "outputs": [],
   "source": [
    "import hankel_transform\n",
    "from astropy.io import fits\n",
    "reload(hankel_transform)\n",
    "from hankel_transform import *\n"
   ]
  },
  {
   "cell_type": "code",
   "execution_count": 9,
   "metadata": {},
   "outputs": [],
   "source": [
    "cosmo_params={'h': 0.6727,\n",
    " 'Omb': 0.0492,\n",
    " 'Omd': 0.3156-0.0492,\n",
    " 's8': 0.831,\n",
    " 'Om': 0.3156,\n",
    " 'As': 2.13e-09,\n",
    " 'Ase9': 2.13,\n",
    " 'mnu': 0.0,\n",
    " 'Omk': 0.0,\n",
    " 'tau': 0.06,\n",
    " 'ns': 0.9645,\n",
    " 'w': -1,\n",
    " 'wa': 0,\n",
    " 'Oml': 1.-0.3156}\n",
    "# CL.Ang_PS.PS.get_pk(z=[0],cosmo_params=cosmo_params,return_s8=True)\n",
    "# CL.Ang_PS.PS.s8"
   ]
  },
  {
   "cell_type": "code",
   "execution_count": 10,
   "metadata": {},
   "outputs": [],
   "source": [
    "mnu=cosmo_h.m_nu*0\n",
    "cosmo_h=cosmo.clone(H0=100,m_nu=mnu,Ob0=cosmo_params['Omb'],Om0=cosmo_params['Om'])\n",
    "ccl_cosmo = ccl.Cosmology(Omega_c=cosmo_params['Omd'], Omega_b=cosmo_params['Omb'], \n",
    "                      h=cosmo_params['h'], A_s=cosmo_params['As'], n_s=cosmo_params['ns'],)#m_nu=[0,0,0.06])"
   ]
  },
  {
   "cell_type": "raw",
   "metadata": {},
   "source": [
    "cov_srd=np.genfromtxt('/home/deep/repos/DESC_SRD/cov/Y10_3x2pt_clusterN_clusterWL_cov',\n",
    "                      names=('i1,i2,l1,l2,z1,z2,z3,z4,G,NG'))"
   ]
  },
  {
   "cell_type": "code",
   "execution_count": 11,
   "metadata": {},
   "outputs": [],
   "source": [
    "cov_shear=np.genfromtxt('/home/deep/repos/DESC_SRD/cov/Y10_shear_shear_cov',)\n",
    "covG_shear=np.genfromtxt('/home/deep/repos/DESC_SRD/cov/Y10_shear_shear_covG',) \n",
    "covNG_shear=np.genfromtxt('/home/deep/repos/DESC_SRD/cov/Y10_shear_shear_covNG',) \n",
    "\n",
    "l_min0=20\n",
    "l_max0=15000\n",
    "nl0=20\n",
    "l_bins=np.logspace(np.log10(l_min0),np.log10(l_max0),nl0+1)\n",
    "lb=0.5*(l_bins[1:]+l_bins[:-1])\n",
    "\n",
    "lb15=np.tile(lb,15)\n",
    "x=lb15<3000\n",
    "covG_shear=covG_shear[x].T[x].T\n",
    "cov_shear=cov_shear[x].T[x].T\n",
    "covNG_shear=covNG_shear[x].T[x].T\n",
    "\n",
    "x=lb<3000\n",
    "lb=lb[x]\n",
    "l_bins=l_bins[:16]"
   ]
  },
  {
   "cell_type": "code",
   "execution_count": 12,
   "metadata": {},
   "outputs": [],
   "source": [
    "shear=np.genfromtxt('/home/deep/repos/DESC_SRD/datav/shear_shear_Y10_fid',names=('l','cl'))"
   ]
  },
  {
   "cell_type": "raw",
   "metadata": {},
   "source": [
    "https://github.com/LSSTDESC/Requirements/blob/pdf/master/LSST_DESC_SRD.pdf"
   ]
  },
  {
   "cell_type": "code",
   "execution_count": 13,
   "metadata": {},
   "outputs": [],
   "source": [
    "pz=np.genfromtxt('/home/deep/repos/DESC_SRD/zdistris/zdistri_model_z0=1.100000e-01_beta=6.800000e-01_Y10_source',\n",
    "                 names=('zlow','zmid','zhigh','pz'))"
   ]
  },
  {
   "cell_type": "code",
   "execution_count": 14,
   "metadata": {},
   "outputs": [
    {
     "name": "stdout",
     "output_type": "stream",
     "text": [
      "ns0:  27.0\n"
     ]
    }
   ],
   "source": [
    "#Setup redshift bins\n",
    "zmin=0\n",
    "zmax=3.5\n",
    "\n",
    "nbins=5  # Number of tomographic bins\n",
    "\n",
    "z=np.linspace(zmin,zmax,200)\n",
    "pzs=lsst_pz_source(z=z)\n",
    "dz=np.gradient(z)\n",
    "s0=np.sum(pzs*dz)\n",
    "zb=np.zeros(nbins+1)\n",
    "j=0\n",
    "for i in np.arange(nbins):\n",
    "    zb[i]=z[j]\n",
    "    s=0\n",
    "    while s<s0/nbins and j<len(z):\n",
    "        s+=dz[j]*pzs[j]\n",
    "        j+=1\n",
    "zb[-1]=max(z)\n",
    "zs_bins=lsst_source_tomo_bins(zmin=zmin,zmax=zmax,ns0=27,nbins=nbins,z_sigma=0.05,z_bias=None,z_bins=zb,\n",
    "                          ztrue_func=ztrue_given_pz_Gaussian,z_sigma_power=1)\n",
    "ns0=27"
   ]
  },
  {
   "cell_type": "code",
   "execution_count": 15,
   "metadata": {},
   "outputs": [
    {
     "data": {
      "text/plain": [
       "[<matplotlib.lines.Line2D at 0x7fc77c6c1be0>]"
      ]
     },
     "execution_count": 15,
     "metadata": {},
     "output_type": "execute_result"
    },
    {
     "name": "stderr",
     "output_type": "stream",
     "text": [
      "/usr/lib/python3.7/site-packages/matplotlib/font_manager.py:1241: UserWarning: findfont: Font family ['serif'] not found. Falling back to DejaVu Sans.\n",
      "  (prop.get_family(), self.defaultFamily[fontext]))\n"
     ]
    },
    {
     "data": {
      "image/png": "[encoded data removed]",
      "text/plain": [
       "<Figure size 1500x1125 with 1 Axes>"
      ]
     },
     "metadata": {},
     "output_type": "display_data"
    }
   ],
   "source": [
    "plot(pz['zmid'],pz['pz'])\n",
    "plot(z,pzs,'--')"
   ]
  },
  {
   "cell_type": "code",
   "execution_count": 16,
   "metadata": {},
   "outputs": [],
   "source": [
    "f_sky=18000./(4*np.pi/d2r**2)\n",
    "# f_sky=4182./(4*np.pi/d2r**2)"
   ]
  },
  {
   "cell_type": "code",
   "execution_count": 17,
   "metadata": {},
   "outputs": [
    {
     "data": {
      "text/plain": [
       "0.43633231299858233"
      ]
     },
     "execution_count": 17,
     "metadata": {},
     "output_type": "execute_result"
    }
   ],
   "source": [
    "f_sky"
   ]
  },
  {
   "cell_type": "code",
   "execution_count": 18,
   "metadata": {},
   "outputs": [],
   "source": [
    "do_xi=False\n",
    "bin_xi=False\n",
    "do_cov=True\n",
    "bin_cl=True\n",
    "l_min=2\n",
    "l_max=3000\n",
    "l0_cl=np.arange(l_min,l_max)"
   ]
  },
  {
   "cell_type": "code",
   "execution_count": 19,
   "metadata": {},
   "outputs": [],
   "source": [
    "use_window=False\n",
    "do_sample_variance=True\n",
    "SSV_cov=False\n",
    "tidal_SSV=True\n",
    "sigma_gamma=0.26"
   ]
  },
  {
   "cell_type": "code",
   "execution_count": 20,
   "metadata": {},
   "outputs": [],
   "source": [
    "import cov_3X2\n",
    "reload(cov_3X2)\n",
    "from cov_3X2 import *"
   ]
  },
  {
   "cell_type": "code",
   "execution_count": 21,
   "metadata": {},
   "outputs": [
    {
     "name": "stderr",
     "output_type": "stream",
     "text": [
      "./cov_utils.py:62: RuntimeWarning: invalid value encountered in true_divide\n",
      "  Win0=2*jn(1,l_th)/l_th\n"
     ]
    }
   ],
   "source": [
    "CL=cov_3X2(zs_bins=zs_bins,l=l0_cl,do_cov=do_cov,bin_cl=bin_cl,zg_bins=None,l_bins=l_bins,\n",
    "            do_sample_variance=do_sample_variance,use_window=use_window,\n",
    "            SSV_cov=SSV_cov,tidal_SSV_cov=tidal_SSV,do_xi=False,f_sky=f_sky,\n",
    "           power_spectra_kwargs={'pk_func':'camb_pk_too_many_z'},\n",
    "            #sigma_gamma=sigma_gamma)#ns=np.inf)\n",
    "          )"
   ]
  },
  {
   "cell_type": "code",
   "execution_count": 22,
   "metadata": {},
   "outputs": [],
   "source": [
    "corr=('shear','shear')"
   ]
  },
  {
   "cell_type": "raw",
   "metadata": {},
   "source": [
    "x={}\n",
    "x={**x,**clG['cl'][corr]}\n",
    "x"
   ]
  },
  {
   "cell_type": "code",
   "execution_count": 23,
   "metadata": {},
   "outputs": [
    {
     "name": "stderr",
     "output_type": "stream",
     "text": [
      "/usr/lib/python3.7/site-packages/astropy/units/quantity.py:639: RuntimeWarning: divide by zero encountered in true_divide\n",
      "  result = super().__array_ufunc__(function, method, *arrays, **kwargs)\n"
     ]
    },
    {
     "name": "stdout",
     "output_type": "stream",
     "text": [
      "Note: redshifts have been re-sorted (earliest first)\n",
      "cl dict done\n",
      "CPU times: user 6.49 s, sys: 27.4 ms, total: 6.51 s\n",
      "Wall time: 1.85 s\n"
     ]
    }
   ],
   "source": [
    "%time clG=CL.cl_tomo(cosmo_params=cosmo_params,cosmo_h=cosmo_h)\n",
    "# %time clS=clG['stack'].compute()"
   ]
  },
  {
   "cell_type": "code",
   "execution_count": 24,
   "metadata": {},
   "outputs": [
    {
     "data": {
      "text/plain": [
       "array([  20.        ,   27.84729778,   38.77359967,   53.9869988 ,\n",
       "         75.16960158,  104.66351394,  145.72980195,  202.90905949,\n",
       "        282.52345005,  393.37573211,  547.72255751,  762.62965788,\n",
       "       1061.85875879, 1478.49485262, 2058.60432107, 2866.32837661])"
      ]
     },
     "execution_count": 24,
     "metadata": {},
     "output_type": "execute_result"
    }
   ],
   "source": [
    "l_bins"
   ]
  },
  {
   "cell_type": "code",
   "execution_count": 25,
   "metadata": {},
   "outputs": [
    {
     "ename": "NameError",
     "evalue": "name 'crash' is not defined",
     "output_type": "error",
     "traceback": [
      "\u001b[0;31m---------------------------------------------------------------------------\u001b[0m",
      "\u001b[0;31mNameError\u001b[0m                                 Traceback (most recent call last)",
      "\u001b[0;32m<ipython-input-25-2a418ad8f387>\u001b[0m in \u001b[0;36m<module>\u001b[0;34m\u001b[0m\n\u001b[0;32m----> 1\u001b[0;31m \u001b[0mcrash\u001b[0m\u001b[0;34m\u001b[0m\u001b[0;34m\u001b[0m\u001b[0m\n\u001b[0m",
      "\u001b[0;31mNameError\u001b[0m: name 'crash' is not defined"
     ]
    }
   ],
   "source": [
    "crash"
   ]
  },
  {
   "cell_type": "code",
   "execution_count": null,
   "metadata": {},
   "outputs": [],
   "source": [
    "%time clS=clG['stack'].compute()"
   ]
  },
  {
   "cell_type": "code",
   "execution_count": null,
   "metadata": {},
   "outputs": [],
   "source": [
    "cov_cl_inv=np.linalg.inv(clS['cov'])\n",
    "print (np.sqrt(np.dot(clS['cl_b'],np.dot(cov_cl_inv,clS['cl_b']))))"
   ]
  },
  {
   "cell_type": "code",
   "execution_count": null,
   "metadata": {},
   "outputs": [],
   "source": [
    "cc=CL.cov_utils\n",
    "corrWL=cc.corr_matrix(clS['cov'])\n",
    "pcolor(corrWL,vmin=-1,vmax=1,cmap='seismic')\n",
    "title(r'$C_\\ell$')\n",
    "xticks([])\n",
    "yticks([])\n",
    "show()"
   ]
  },
  {
   "cell_type": "code",
   "execution_count": null,
   "metadata": {},
   "outputs": [],
   "source": [
    "cc=CL.cov_utils\n",
    "corrS=cc.corr_matrix(covG_shear)\n",
    "pcolor(corrS,vmin=-1,vmax=1,cmap='seismic')\n",
    "title('CL')\n",
    "show()"
   ]
  },
  {
   "cell_type": "code",
   "execution_count": null,
   "metadata": {},
   "outputs": [],
   "source": [
    "R=np.nan_to_num((covG_shear)/clS['cov']-1)\n",
    "R.max(),R.min()"
   ]
  },
  {
   "cell_type": "code",
   "execution_count": null,
   "metadata": {},
   "outputs": [],
   "source": [
    "pcolor(R,vmin=-1,vmax=1,cmap='seismic')"
   ]
  },
  {
   "cell_type": "code",
   "execution_count": null,
   "metadata": {},
   "outputs": [],
   "source": [
    "plot(np.diag(R),label='$\\delta C_\\ell^2$ Ratio-1')\n",
    "xticks([])\n",
    "# yticks([])\n",
    "legend()"
   ]
  },
  {
   "cell_type": "code",
   "execution_count": null,
   "metadata": {},
   "outputs": [],
   "source": [
    "import seaborn as sns"
   ]
  },
  {
   "cell_type": "code",
   "execution_count": null,
   "metadata": {
    "scrolled": false
   },
   "outputs": [],
   "source": [
    "j=0\n",
    "j3=0\n",
    "colors=sns.color_palette()\n",
    "for i in np.arange(nbins):\n",
    "    for j2 in np.arange(i,nbins):\n",
    "#         plot(lb,shear['cl'][j:j+20][:15],label=[i,j2])\n",
    "#         plot(lb,clS['cl'][j3:j3+15],'--')\n",
    "        plot(lb,(shear['cl'][j:j+20][:15]/clS['cl_b'][j3:j3+15])**2-1,label=[i,j2],c=colors[j2])\n",
    "        \n",
    "        cov0S=R[i*15:(i+1)*15,j2*15:(j2+1)*15]\n",
    "#         cov0=clS['cov'][i*15:(i+1)*15,j2*15:(j2+1)*15]\n",
    "        plot(lb,np.diag(cov0S),'--',c=colors[j2])\n",
    "        j+=20\n",
    "        j3+=15\n",
    "        xscale('log')\n",
    "#         yscale('log')\n",
    "        legend()\n",
    "    show()"
   ]
  },
  {
   "cell_type": "raw",
   "metadata": {},
   "source": [
    "crash"
   ]
  },
  {
   "cell_type": "code",
   "execution_count": null,
   "metadata": {},
   "outputs": [],
   "source": [
    "clG['cl'].keys()"
   ]
  },
  {
   "cell_type": "code",
   "execution_count": null,
   "metadata": {},
   "outputs": [],
   "source": [
    "for i in np.arange(nbins):\n",
    "    for j in np.arange(i,nbins):\n",
    "        lens1 = ccl.ClTracerLensing(ccl_cosmo, False, z=zs_bins[i]['z'], n=zs_bins[i]['pz'])\n",
    "        lens2 = ccl.ClTracerLensing(ccl_cosmo, False, z=zs_bins[j]['z'], n=zs_bins[j]['pz'])\n",
    "        cls = ccl.angular_cl(ccl_cosmo, lens1, lens2, CL.l)\n",
    "        plot(CL.l,clG['cl'][corr][(i,j)].compute()/cls,label=(i,j))\n",
    "        xscale('log')\n",
    "#         yscale('log')\n",
    "        xlabel(r'$\\ell$')\n",
    "        ylabel(r'$C_\\ell$')\n",
    "        hlines(1,2,1000)\n",
    "        legend()\n",
    "        ylim(0.9,1.1)\n",
    "    show()"
   ]
  },
  {
   "cell_type": "code",
   "execution_count": null,
   "metadata": {},
   "outputs": [],
   "source": [
    "m1m2=(2,2)\n",
    "cp=['r','b','g','y']#sns.color_pallete()\n",
    "for i in np.arange(nbins):\n",
    "    for j in np.arange(i,nbins):\n",
    "        lens1 = ccl.ClTracerLensing(ccl_cosmo, False, z=zs_bins[i]['z'], n=zs_bins[i]['pz'])\n",
    "        lens2 = ccl.ClTracerLensing(ccl_cosmo, False, z=zs_bins[j]['z'], n=zs_bins[j]['pz'])\n",
    "        cls = ccl.angular_cl(ccl_cosmo, lens1, lens2, CL.l)\n",
    "        cls_b=CL.binning.bin_1d(xi=cls,bin_utils=CL.cl_bin_utils)\n",
    "        plot(lb,cls_b,)#color=cp[j],ls=':')\n",
    "        \n",
    "    xscale('log')\n",
    "    yscale('log')\n",
    "    xlabel(r'$\\ell$')\n",
    "    ylabel(r'$C_\\ell$')\n",
    "    legend(ncol=3)\n",
    "    show()"
   ]
  },
  {
   "cell_type": "code",
   "execution_count": null,
   "metadata": {},
   "outputs": [],
   "source": []
  }
 ],
 "metadata": {
  "hide_input": false,
  "kernelspec": {
   "display_name": "Python 3",
   "language": "python",
   "name": "python3"
  },
  "language_info": {
   "codemirror_mode": {
    "name": "ipython",
    "version": 3
   },
   "file_extension": ".py",
   "mimetype": "text/x-python",
   "name": "python",
   "nbconvert_exporter": "python",
   "pygments_lexer": "ipython3",
   "version": "3.7.2"
  }
 },
 "nbformat": 4,
 "nbformat_minor": 2
}
